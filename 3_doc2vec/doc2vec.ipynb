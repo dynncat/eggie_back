{
 "cells": [
  {
   "cell_type": "markdown",
   "metadata": {
    "id": "tlnl9vGum8WX"
   },
   "source": [
    "# Doc2Vec"
   ]
  },
  {
   "cell_type": "code",
   "execution_count": null,
   "metadata": {
    "colab": {
     "base_uri": "https://localhost:8080/"
    },
    "executionInfo": {
     "elapsed": 1109,
     "status": "ok",
     "timestamp": 1746280461064,
     "user": {
      "displayName": "Jynn Choi",
      "userId": "05254382451746305735"
     },
     "user_tz": -540
    },
    "id": "fhCPcuECaP10",
    "outputId": "e888c50a-f85b-411e-825e-e55dfe0dabbe"
   },
   "outputs": [],
   "source": [
    "pip uninstall numpy gensim -y"
   ]
  },
  {
   "cell_type": "code",
   "execution_count": null,
   "metadata": {
    "colab": {
     "base_uri": "https://localhost:8080/"
    },
    "executionInfo": {
     "elapsed": 7134,
     "status": "ok",
     "timestamp": 1746280483462,
     "user": {
      "displayName": "Jynn Choi",
      "userId": "05254382451746305735"
     },
     "user_tz": -540
    },
    "id": "tIPFbOkmae9D",
    "outputId": "983be150-4ea5-48e5-8459-a072add82c53"
   },
   "outputs": [],
   "source": [
    "pip install --upgrade \"numpy>=2.0.0,<2.1.0\""
   ]
  },
  {
   "cell_type": "code",
   "execution_count": null,
   "metadata": {
    "colab": {
     "base_uri": "https://localhost:8080/"
    },
    "executionInfo": {
     "elapsed": 8676,
     "status": "ok",
     "timestamp": 1746280499873,
     "user": {
      "displayName": "Jynn Choi",
      "userId": "05254382451746305735"
     },
     "user_tz": -540
    },
    "id": "I-lP6OPNbYrp",
    "outputId": "f5a9c1fa-b74d-45bd-dfae-7abdfa26b88d"
   },
   "outputs": [],
   "source": [
    "pip install --upgrade gensim"
   ]
  },
  {
   "cell_type": "code",
   "execution_count": 1,
   "metadata": {
    "colab": {
     "base_uri": "https://localhost:8080/",
     "height": 558
    },
    "executionInfo": {
     "elapsed": 165,
     "status": "error",
     "timestamp": 1746280506495,
     "user": {
      "displayName": "Jynn Choi",
      "userId": "05254382451746305735"
     },
     "user_tz": -540
    },
    "id": "I7u6ofKfaDf7",
    "outputId": "6a898b16-b509-4262-90d0-9a49b39529e2"
   },
   "outputs": [
    {
     "name": "stdout",
     "output_type": "stream",
     "text": [
      "NumPy version: 1.26.4\n",
      "Gensim version: 4.3.3\n",
      "All imports successful!\n"
     ]
    }
   ],
   "source": [
    "import numpy as np\n",
    "import gensim\n",
    "#import thinc\n",
    "\n",
    "print(f\"NumPy version: {np.__version__}\") # 2.0.x 버전이 출력되어야 합니다\n",
    "print(f\"Gensim version: {gensim.__version__}\")\n",
    "#print(f\"Thinc version: {thinc.__version__}\")\n",
    "print(\"All imports successful!\")"
   ]
  },
  {
   "cell_type": "code",
   "execution_count": 2,
   "metadata": {},
   "outputs": [],
   "source": [
    "import gensim\n",
    "from gensim.models.doc2vec import TaggedDocument\n",
    "from gensim.models import Doc2Vec\n",
    "import pickle\n",
    "\n",
    "import numpy as np\n",
    "import pandas as pd\n",
    "from tqdm import tqdm\n",
    "import glob\n",
    "import os"
   ]
  },
  {
   "cell_type": "code",
   "execution_count": 4,
   "metadata": {
    "colab": {
     "base_uri": "https://localhost:8080/",
     "height": 558
    },
    "executionInfo": {
     "elapsed": 144,
     "status": "error",
     "timestamp": 1746279808560,
     "user": {
      "displayName": "Jynn Choi",
      "userId": "05254382451746305735"
     },
     "user_tz": -540
    },
    "id": "YTwzAHndm8Ya",
    "outputId": "53b88685-afed-423a-e516-2a600444bbaf"
   },
   "outputs": [
    {
     "name": "stdout",
     "output_type": "stream",
     "text": [
      "✅ df.shape: (88766, 7)\n"
     ]
    }
   ],
   "source": [
    "# 파일 열기\n",
    "with open('./postagging/tagged_contents_df_0510.pkl', 'rb') as f:\n",
    "    df = pickle.load(f)\n",
    "\n",
    "# 데이터프레임 합치기\n",
    "df = pd.DataFrame(df)\n",
    "\n",
    "# 확인\n",
    "print(f\"✅ df.shape: {df.shape}\")"
   ]
  },
  {
   "cell_type": "code",
   "execution_count": 5,
   "metadata": {
    "colab": {
     "base_uri": "https://localhost:8080/",
     "height": 510
    },
    "executionInfo": {
     "elapsed": 510,
     "status": "ok",
     "timestamp": 1746072322981,
     "user": {
      "displayName": "정유라",
      "userId": "07842653199036968776"
     },
     "user_tz": -540
    },
    "id": "wvL5cCFSdDWi",
    "outputId": "199148b1-24d7-49e7-cca5-ac5f0f323c68"
   },
   "outputs": [
    {
     "name": "stdout",
     "output_type": "stream",
     "text": [
      "(88766, 7)\n",
      "0\n"
     ]
    },
    {
     "data": {
      "text/html": [
       "<div>\n",
       "<style scoped>\n",
       "    .dataframe tbody tr th:only-of-type {\n",
       "        vertical-align: middle;\n",
       "    }\n",
       "\n",
       "    .dataframe tbody tr th {\n",
       "        vertical-align: top;\n",
       "    }\n",
       "\n",
       "    .dataframe thead th {\n",
       "        text-align: right;\n",
       "    }\n",
       "</style>\n",
       "<table border=\"1\" class=\"dataframe\">\n",
       "  <thead>\n",
       "    <tr style=\"text-align: right;\">\n",
       "      <th></th>\n",
       "      <th>Unnamed: 0</th>\n",
       "      <th>source</th>\n",
       "      <th>search_words</th>\n",
       "      <th>url</th>\n",
       "      <th>title</th>\n",
       "      <th>contents</th>\n",
       "      <th>tagged_contents</th>\n",
       "    </tr>\n",
       "  </thead>\n",
       "  <tbody>\n",
       "    <tr>\n",
       "      <th>0</th>\n",
       "      <td>0</td>\n",
       "      <td>블로그</td>\n",
       "      <td>아기+잠깨</td>\n",
       "      <td>https://blog.naver.com/srhymin/223091161466</td>\n",
       "      <td>NaN</td>\n",
       "      <td>저희 아기는 신생아때부터 청각과 촉각이 예민해 잠도 깊게 못 잘 뿐더러 잠투정이 정...</td>\n",
       "      <td>[저희, 아기, 신생아, 때, 청각, 촉각, 잠도, 못, 뿐더러, 잠투, 정이, 정...</td>\n",
       "    </tr>\n",
       "    <tr>\n",
       "      <th>1</th>\n",
       "      <td>1</td>\n",
       "      <td>블로그</td>\n",
       "      <td>아기+잠깨</td>\n",
       "      <td>https://blog.naver.com/sukm83/223091879514</td>\n",
       "      <td>NaN</td>\n",
       "      <td>정신없는 주방한켠 뒤죽박죽 알 수 없는 용기에 양념과 소스가 담겨져 있기에 주방이 ...</td>\n",
       "      <td>[정신, 방한, 뒤죽박죽, 알, 수, 용기, 양념, 소스, 주방, 이번, 양념, 통...</td>\n",
       "    </tr>\n",
       "    <tr>\n",
       "      <th>2</th>\n",
       "      <td>2</td>\n",
       "      <td>블로그</td>\n",
       "      <td>아기+잠깨</td>\n",
       "      <td>https://blog.naver.com/dldptmf5134/223096875782</td>\n",
       "      <td>NaN</td>\n",
       "      <td>안녕하세요 지유맘입니다! 오늘은 지유가 이유식과 유아식 그 중간즈음 토핑식을 할 때...</td>\n",
       "      <td>[지유, 맘, 오늘, 지유, 이유식, 유아식, 그, 중간, 즈음, 토핑식, 때, 정...</td>\n",
       "    </tr>\n",
       "    <tr>\n",
       "      <th>3</th>\n",
       "      <td>3</td>\n",
       "      <td>블로그</td>\n",
       "      <td>아기+잠깨</td>\n",
       "      <td>https://blog.naver.com/lia1100/223095799488</td>\n",
       "      <td>NaN</td>\n",
       "      <td>안녕하세요 라온엄마에요 오늘은 조금 특이한 아기 반찬을 준비했어요 방풍나물을 이용한...</td>\n",
       "      <td>[엄마, 오늘, 조금, 아기, 반찬, 준비, 방, 나물, 이용, 방, 나물, 된장,...</td>\n",
       "    </tr>\n",
       "    <tr>\n",
       "      <th>4</th>\n",
       "      <td>4</td>\n",
       "      <td>블로그</td>\n",
       "      <td>아기+잠깨</td>\n",
       "      <td>https://blog.naver.com/perfect_aj/223095824533</td>\n",
       "      <td>NaN</td>\n",
       "      <td>6 12개월 아기의 1일 권장 물섭취량은 220ml정도라고 한다. 음 우래기는.. ...</td>\n",
       "      <td>[개월, 아기, 권장, 물섭취량, 정도, 음, 우리, 애기, 생각, 물, 물병, 번...</td>\n",
       "    </tr>\n",
       "  </tbody>\n",
       "</table>\n",
       "</div>"
      ],
      "text/plain": [
       "   Unnamed: 0 source search_words  \\\n",
       "0           0    블로그        아기+잠깨   \n",
       "1           1    블로그        아기+잠깨   \n",
       "2           2    블로그        아기+잠깨   \n",
       "3           3    블로그        아기+잠깨   \n",
       "4           4    블로그        아기+잠깨   \n",
       "\n",
       "                                               url title  \\\n",
       "0      https://blog.naver.com/srhymin/223091161466   NaN   \n",
       "1       https://blog.naver.com/sukm83/223091879514   NaN   \n",
       "2  https://blog.naver.com/dldptmf5134/223096875782   NaN   \n",
       "3      https://blog.naver.com/lia1100/223095799488   NaN   \n",
       "4   https://blog.naver.com/perfect_aj/223095824533   NaN   \n",
       "\n",
       "                                            contents  \\\n",
       "0  저희 아기는 신생아때부터 청각과 촉각이 예민해 잠도 깊게 못 잘 뿐더러 잠투정이 정...   \n",
       "1  정신없는 주방한켠 뒤죽박죽 알 수 없는 용기에 양념과 소스가 담겨져 있기에 주방이 ...   \n",
       "2  안녕하세요 지유맘입니다! 오늘은 지유가 이유식과 유아식 그 중간즈음 토핑식을 할 때...   \n",
       "3  안녕하세요 라온엄마에요 오늘은 조금 특이한 아기 반찬을 준비했어요 방풍나물을 이용한...   \n",
       "4  6 12개월 아기의 1일 권장 물섭취량은 220ml정도라고 한다. 음 우래기는.. ...   \n",
       "\n",
       "                                     tagged_contents  \n",
       "0  [저희, 아기, 신생아, 때, 청각, 촉각, 잠도, 못, 뿐더러, 잠투, 정이, 정...  \n",
       "1  [정신, 방한, 뒤죽박죽, 알, 수, 용기, 양념, 소스, 주방, 이번, 양념, 통...  \n",
       "2  [지유, 맘, 오늘, 지유, 이유식, 유아식, 그, 중간, 즈음, 토핑식, 때, 정...  \n",
       "3  [엄마, 오늘, 조금, 아기, 반찬, 준비, 방, 나물, 이용, 방, 나물, 된장,...  \n",
       "4  [개월, 아기, 권장, 물섭취량, 정도, 음, 우리, 애기, 생각, 물, 물병, 번...  "
      ]
     },
     "execution_count": 5,
     "metadata": {},
     "output_type": "execute_result"
    }
   ],
   "source": [
    "print(df.shape)\n",
    "print(df['contents'].isna().sum()) # 0\n",
    "\n",
    "df.head()"
   ]
  },
  {
   "cell_type": "code",
   "execution_count": 6,
   "metadata": {},
   "outputs": [],
   "source": [
    "df.drop(columns=['Unnamed: 0'], inplace=True)"
   ]
  },
  {
   "cell_type": "markdown",
   "metadata": {
    "id": "Xhdqd50zEW77"
   },
   "source": [
    "## doc2vec 준비"
   ]
  },
  {
   "cell_type": "code",
   "execution_count": 7,
   "metadata": {
    "collapsed": true,
    "id": "1hKeZPMrGzPa"
   },
   "outputs": [
    {
     "name": "stderr",
     "output_type": "stream",
     "text": [
      "88766it [00:02, 44261.57it/s]\n"
     ]
    }
   ],
   "source": [
    "# TaggedDocument 만들기\n",
    "# doc2vec 태그 p_id\n",
    "\n",
    "tagged_corpus_list = []\n",
    "for n, i in tqdm(enumerate(df['tagged_contents'])):\n",
    "    tag = f'document{n}'\n",
    "    tagged_corpus_list.append(TaggedDocument(tags = [tag], words = i))"
   ]
  },
  {
   "cell_type": "markdown",
   "metadata": {
    "id": "JC1w2XBWEW78"
   },
   "source": [
    "## doc2vec 학습시키기\n",
    "    <model 하이퍼파라미터 값>\n",
    "    # vector_size : 생성할 문서 벡터의 크기\n",
    "    # alpha: 모델 학습시 초기 학습률 0.025는 일반적으로 사용됨\n",
    "    # min_alpha: 학습 과정에서 alpha 값을 이 값으로 줄여나가게 됩니다\n",
    "    # window : 문맥 윈도우 크기, 주변 몇개의 단어의 문맥을 고려하여 학습하는가"
   ]
  },
  {
   "cell_type": "code",
   "execution_count": 8,
   "metadata": {
    "id": "a0yT85B_G1kH"
   },
   "outputs": [],
   "source": [
    "# 모델 선언\n",
    "model_doc2vec = Doc2Vec(vector_size = 200, # 벡터 크기\n",
    "                        alpha = 0.025, # 초기 학습률\n",
    "                        min_alpha = 0.001, # 최소 학습률\n",
    "                        window = 5, # 고려할 주변 단어 수\n",
    "                        min_count = 5, # 최소 등장 횟수\n",
    "                        epochs = 30,\n",
    "                        dm = 1) # PV-DM"
   ]
  },
  {
   "cell_type": "code",
   "execution_count": 9,
   "metadata": {
    "id": "TUAwl80uFWv9"
   },
   "outputs": [
    {
     "name": "stdout",
     "output_type": "stream",
     "text": [
      "Training model for 30 epochs...\n",
      "Training finished.\n",
      "Total training loss over 30 epochs: None\n"
     ]
    }
   ],
   "source": [
    "# 사전 생성\n",
    "model_doc2vec.build_vocab(tagged_corpus_list)\n",
    "\n",
    "# 학습하기\n",
    "print(f\"Training model for {model_doc2vec.epochs} epochs...\")\n",
    "\n",
    "total_loss = model_doc2vec.train(tagged_corpus_list,\n",
    "                                 total_examples=model_doc2vec.corpus_count,\n",
    "                                 epochs=model_doc2vec.epochs,\n",
    "                                 compute_loss=True)\n",
    "\n",
    "print(\"Training finished.\")\n",
    "print(f\"Total training loss over {model_doc2vec.epochs} epochs: {total_loss}\")"
   ]
  },
  {
   "cell_type": "markdown",
   "metadata": {},
   "source": [
    "## 단어 유사도 확인\n",
    "\n",
    "- 코사인 유사도 점수 해석 기준\n",
    "    - 코사인 유사도는 두 벡터 간의 각도의 코사인 값을 측정하며, -1에서 +1 사이의 값을 가집니다.\n",
    "    - +1: 두 벡터가 정확히 같은 방향을 가리킴 (완벽하게 유사함).\n",
    "    - 0: 두 벡터가 직교함 (관련성 없음, 독립적).\n",
    "    - -1: 두 벡터가 정확히 반대 방향을 가리킴 (완벽하게 반대됨).\n",
    "    - Word2Vec/Doc2Vec에서 most_similar()가 반환하는 코사인 유사도 점수를 \"높다\" 또는 \"낮다\"고 판단하는 절대적인 기준은 없습니다. <br>\n",
    "    점수는 상대적이며 여러 요인에 따라 달라집니다.\n",
    "    <br>\n",
    "- 해석 시 고려해야 할 점:\n",
    "    - 상대적 순위가 더 중요: most_similar() 결과에서 중요한 것은 절대적인 점수 값보다는 어떤 단어들이 상위에 랭크되는지 입니다. <br>\n",
    "    의미론적으로 가장 관련성이 높은 단어들이 실제로 가장 높은 점수를 받고 상위에 위치하는지가 품질 판단의 핵심입니다.\n",
    "    - 예시: '운동'의 유사 단어로 '헬스'(0.8), '스포츠'(0.75), '건강'(0.7) 등이 나왔다면 점수 차이는 있지만 모두 관련성이 높으므로 좋은 결과입니다. <br>\n",
    "    만약 '운동'의 유사 단어로 '컴퓨터'(0.9), '요리'(0.85)가 나왔다면, 점수가 높아도 임베딩 품질이 나쁜 것입니다.\n",
    "    <br>\n",
    "- 맥락과 도메인:\n",
    "    - 일반적인 단어 vs 전문 용어: 매우 자주 사용되는 일반적인 단어(예: '사람', '시간')는 다양한 문맥에서 사용되므로, <br>\n",
    "    특정 동의어와의 유사도 점수가 상대적으로 낮게 나올 수 있습니다. <br>\n",
    "    반면, 특정 도메인에서만 사용되는 전문 용어는 동의어와의 유사도 점수가 매우 높게 나올 수 있습니다.\n",
    "    - 데이터 특성: 사용자 생성 비정형 텍스트는 노이즈가 많고 다양한 표현이 사용되므로, <br>\n",
    "    잘 정제된 뉴스 기사 등으로 학습한 모델보다 전반적인 유사도 점수가 낮게 나올 수 있습니다.\n",
    "    <br>\n",
    "- 모델 파라미터:\n",
    "    - vector_size: 차원이 낮으면 단어 간의 미묘한 차이를 구분하기 어려워 전반적으로 유사도가 높게 나올 수 있고, <br>\n",
    "    차원이 너무 높으면 벡터 공간이 희소해져 유사도가 낮아질 수 있습니다.\n",
    "    - window, epochs, min_count 등 다른 파라미터들도 학습된 벡터 공간의 구조에 영향을 미쳐 유사도 점수에 영향을 줍니다.\n",
    "    <br>\n",
    "- 단어 자체의 특성:\n",
    "    - 동음이의어는 여러 의미의 문맥이 벡터에 혼합되어 특정 의미의 동의어와의 유사도가 낮아질 수 있습니다.\n",
    "    - 매우 드물게 등장하는 단어(하지만 min_count는 넘은 단어)는 문맥 정보 부족으로 <br> 벡터 학습이 불안정하여 예상치 못한 유사도 결과를 보일 수 있습니다."
   ]
  },
  {
   "cell_type": "markdown",
   "metadata": {},
   "source": [
    "### 사전 확인"
   ]
  },
  {
   "cell_type": "code",
   "execution_count": 10,
   "metadata": {},
   "outputs": [
    {
     "name": "stdout",
     "output_type": "stream",
     "text": [
      "총 학습된 어휘 수: 64941\n",
      "\n",
      "학습된 어휘 샘플 (처음 20개):\n",
      "['아기', '것', '때', '수', '낮잠', '엄마', '우리', '시간', '더', '아이', '집', '이', '나', '개월', '내', '육아', '날', '안', '거', '그']\n",
      "\n",
      "학습된 어휘 샘플 (마지막 20개):\n",
      "['송월타월', '클롭', '킬트', '무자격', '제소', '류트', '뇽발', '업쥐', '중화가', '고암면', '깨쥬', '세프', '부덕', '저냑', '인스피릿', '주호민', '쟁임템', '보증수표', '럽라', '르뱅쿠키']\n"
     ]
    }
   ],
   "source": [
    "# 사전 확인: key_to_index 속성 사용 (추천 - 단어와 인덱스 매핑 확인)\n",
    "# 모델 어휘 사전에 있는 단어들을 키로, 내부 인덱스를 값으로 갖는 딕셔너리\n",
    "\n",
    "vocab_dict = model_doc2vec.wv.key_to_index\n",
    "learned_vocab = list(vocab_dict.keys()) # 딕셔너리의 키(단어)들을 리스트로 변환\n",
    "\n",
    "print(f\"총 학습된 어휘 수: {len(learned_vocab)}\")\n",
    "\n",
    "print(\"\\n학습된 어휘 샘플 (처음 20개):\")\n",
    "print(learned_vocab[:20])\n",
    "\n",
    "print(\"\\n학습된 어휘 샘플 (마지막 20개):\")\n",
    "print(learned_vocab[-20:])"
   ]
  },
  {
   "cell_type": "code",
   "execution_count": 12,
   "metadata": {},
   "outputs": [
    {
     "name": "stdout",
     "output_type": "stream",
     "text": [
      "--- 모델 어휘 사전 내 상위 25개 빈출 단어 (min_count=5 이상) ---\n",
      "1. 아기: 387908\n",
      "2. 것: 294254\n",
      "3. 때: 217223\n",
      "4. 수: 205049\n",
      "5. 낮잠: 203116\n",
      "6. 엄마: 169687\n",
      "7. 우리: 148172\n",
      "8. 시간: 145856\n",
      "9. 더: 143809\n",
      "10. 아이: 138736\n",
      "11. 집: 134757\n",
      "12. 이: 134119\n",
      "13. 나: 123246\n",
      "14. 개월: 119988\n",
      "15. 내: 114679\n",
      "16. 육아: 114403\n",
      "17. 날: 107878\n",
      "18. 안: 107533\n",
      "19. 거: 104001\n",
      "20. 그: 102365\n",
      "21. 오늘: 102342\n",
      "22. 생각: 100434\n",
      "23. 또: 97055\n",
      "24. 저: 92280\n",
      "25. 진짜: 90322\n"
     ]
    }
   ],
   "source": [
    "# 어휘 사전과 빈도수 정보 가져오기\n",
    "# get_vecattr 메서드를 사용하여 각 단어의 'count' 속성을 가져옵니다.\n",
    "try:\n",
    "    # 모든 단어 가져오기\n",
    "    vocab_keys = list(model_doc2vec.wv.key_to_index.keys())\n",
    "\n",
    "    # 각 단어와 해당 빈도수를 저장할 리스트 생성\n",
    "    word_counts = []\n",
    "    for word in vocab_keys:\n",
    "        # get_vecattr로 'count' 속성 조회\n",
    "        count = model_doc2vec.wv.get_vecattr(word, 'count')\n",
    "        word_counts.append((word, count))\n",
    "\n",
    "    # 빈도수(리스트 내 튜플의 두 번째 요소) 기준으로 내림차순 정렬\n",
    "    sorted_word_counts = sorted(word_counts, key=lambda item: item[1], reverse=True)\n",
    "\n",
    "    # 상위 20개 단어 추출\n",
    "    top_n = 25\n",
    "    top_words = sorted_word_counts[:top_n]\n",
    "\n",
    "    print(f\"--- 모델 어휘 사전 내 상위 {top_n}개 빈출 단어 (min_count={model_doc2vec.min_count} 이상) ---\")\n",
    "    for rank, (word, count) in enumerate(top_words, 1):\n",
    "        print(f\"{rank}. {word}: {count}\")\n",
    "\n",
    "except Exception as e:\n",
    "    print(f\"처리 중 오류 발생: {e}\")"
   ]
  },
  {
   "cell_type": "markdown",
   "metadata": {},
   "source": [
    "### 사전 검색"
   ]
  },
  {
   "cell_type": "code",
   "execution_count": 13,
   "metadata": {},
   "outputs": [
    {
     "name": "stdout",
     "output_type": "stream",
     "text": [
      "\n",
      "단어 '아기'는 어휘 사전에 포함되어 있습니다 (인덱스: 0).\n"
     ]
    }
   ],
   "source": [
    "# 특정 단어가 사전에 있는지 확인\n",
    "target_word = '아기'\n",
    "if target_word in vocab_dict:\n",
    "    print(f\"\\n단어 '{target_word}'는 어휘 사전에 포함되어 있습니다 (인덱스: {vocab_dict[target_word]}).\")\n",
    "else:\n",
    "    print(f\"\\n단어 '{target_word}'는 어휘 사전에 없습니다 (min_count={model_doc2vec.min_count} 기준).\")"
   ]
  },
  {
   "cell_type": "markdown",
   "metadata": {},
   "source": [
    "### 검색어와 유사어 목록 보기"
   ]
  },
  {
   "cell_type": "code",
   "execution_count": 34,
   "metadata": {},
   "outputs": [
    {
     "name": "stdout",
     "output_type": "stream",
     "text": [
      "--- 단어 '수면'와(과) 가장 유사한 단어 Top 20 ---\n",
      "- 숙면: 0.4784\n",
      "- 통잠: 0.4604\n",
      "- 혜민서: 0.4560\n",
      "- 불안: 0.4420\n",
      "- 식물인간: 0.4337\n",
      "- 작졍: 0.4294\n",
      "- 면시: 0.4259\n",
      "- 전라북도교육청: 0.4248\n",
      "- 밥상머리: 0.4131\n",
      "- 관재: 0.4091\n",
      "- 잠자리: 0.4056\n",
      "- 노수: 0.4032\n",
      "- 밤잠: 0.3998\n",
      "- 맘스웰: 0.3906\n",
      "- 놀잠: 0.3883\n",
      "- 불안도: 0.3857\n",
      "- 유청: 0.3822\n",
      "- 투레: 0.3781\n",
      "- 기지: 0.3709\n",
      "- 수유: 0.3625\n"
     ]
    }
   ],
   "source": [
    "# 특정 단어와 가장 유사한 단어 찾기\n",
    "target_word = '수면' # 모델 어휘 사전에 있어야 함\n",
    "top_n = 20\n",
    "\n",
    "try:\n",
    "    # most_similar 함수 호출\n",
    "    # 입력: 유사도를 찾을 단어 (또는 단어 리스트)\n",
    "    # topn: 반환할 유사 단어의 개수\n",
    "    similar_words = model_doc2vec.wv.most_similar(target_word, topn=top_n)\n",
    "\n",
    "    print(f\"--- 단어 '{target_word}'와(과) 가장 유사한 단어 Top {top_n} ---\")\n",
    "    # 결과는 (유사단어, 코사인 유사도 점수) 튜플의 리스트 형태로 반환됨\n",
    "    for word, similarity_score in similar_words:\n",
    "        print(f\"- {word}: {similarity_score:.4f}\")\n",
    "\n",
    "except KeyError:\n",
    "    # target_word가 모델의 어휘 사전에 없는 경우 KeyError 발생\n",
    "    print(f\"오류: 단어 '{target_word}'가 모델의 어휘 사전에 없습니다.\")\n",
    "    print(\"다른 단어를 시도하거나, 학습 시 사용한 min_count 값을 확인해보세요.\")\n",
    "except Exception as e:\n",
    "    print(f\"오류 발생: {e}\")"
   ]
  },
  {
   "cell_type": "markdown",
   "metadata": {},
   "source": [
    "### 단어 조합과 유사어 찾기"
   ]
  },
  {
   "cell_type": "code",
   "execution_count": 36,
   "metadata": {},
   "outputs": [
    {
     "name": "stdout",
     "output_type": "stream",
     "text": [
      "\n",
      "--- '['아기', '수면', '낮잠', '밤잠']' - '['참깨']'와(과) 유사한 단어 Top 20 ---\n",
      "- 통잠: 0.5518\n",
      "- 입면: 0.5365\n",
      "- 잠: 0.5185\n",
      "- 숙면: 0.4652\n",
      "- 꿀잠: 0.4430\n",
      "- 잠자리: 0.4325\n",
      "- 수유: 0.4315\n",
      "- 낮: 0.4261\n",
      "- 취침: 0.4237\n",
      "- 놀잠: 0.4143\n",
      "- 목욕: 0.3999\n",
      "- 쪽쪽이: 0.3965\n",
      "- 스와들업: 0.3943\n",
      "- 잠투정: 0.3931\n",
      "- 아가: 0.3911\n",
      "- 잠도: 0.3886\n",
      "- 수면시간: 0.3866\n",
      "- 이유식: 0.3750\n",
      "- 밤수: 0.3705\n",
      "- 푹: 0.3699\n"
     ]
    }
   ],
   "source": [
    "# 여러 단어를 조합하여 유사한 단어 찾기 (긍정/부정 예시)\n",
    "# 예: '왕' - '남자' + '여자' = '여왕' 유추와 유사한 방식\n",
    "try:\n",
    "    positive_words = ['아기', '수면', '낮잠', '밤잠'] # 긍정적으로 기여할 단어\n",
    "    negative_words = ['참깨']        # 부정적으로 기여할 단어 (뺄셈 개념)\n",
    "\n",
    "    # positive 리스트의 벡터는 더하고, negative 리스트의 벡터는 빼서 결과 벡터와 가장 유사한 단어 찾기\n",
    "    derived_similar_words = model_doc2vec.wv.most_similar(positive=positive_words, negative=negative_words, topn=top_n)\n",
    "\n",
    "    print(f\"\\n--- '{positive_words}' - '{negative_words}'와(과) 유사한 단어 Top {top_n} ---\")\n",
    "    for word, similarity_score in derived_similar_words:\n",
    "        print(f\"- {word}: {similarity_score:.4f}\")\n",
    "\n",
    "except KeyError as e:\n",
    "    print(f\"오류: 단어 '{e.args[0]}'가 모델의 어휘 사전에 없습니다.\")\n",
    "except Exception as e:\n",
    "    print(f\"오류 발생: {e}\")"
   ]
  },
  {
   "cell_type": "markdown",
   "metadata": {},
   "source": [
    "### 두 단어 유사도 계산"
   ]
  },
  {
   "cell_type": "code",
   "execution_count": 28,
   "metadata": {},
   "outputs": [
    {
     "name": "stdout",
     "output_type": "stream",
     "text": [
      "\n",
      "--- '낮잠'와(과) '밤잠'의 코사인 유사도 ---\n",
      "0.4340\n"
     ]
    }
   ],
   "source": [
    "# 두 단어 간의 유사도 직접 계산하기\n",
    "try:\n",
    "    word1 = '낮잠'\n",
    "    word2 = '밤잠'\n",
    "    similarity = model_doc2vec.wv.similarity(word1, word2)\n",
    "    print(f\"\\n--- '{word1}'와(과) '{word2}'의 코사인 유사도 ---\")\n",
    "    print(f\"{similarity:.4f}\")\n",
    "except KeyError as e:\n",
    "    print(f\"오류: 단어 '{e.args[0]}'가 모델의 어휘 사전에 없습니다.\")\n",
    "except Exception as e:\n",
    "    print(f\"오류 발생: {e}\")"
   ]
  },
  {
   "cell_type": "markdown",
   "metadata": {
    "id": "n0HAavfhEW78"
   },
   "source": [
    "### 벡터 값 데이터 프레임에 추가\n",
    "\n",
    "* 벡터화 된 내용을 새로운 변수 vector 로 저장"
   ]
  },
  {
   "cell_type": "code",
   "execution_count": 29,
   "metadata": {
    "colab": {
     "base_uri": "https://localhost:8080/"
    },
    "executionInfo": {
     "elapsed": 16,
     "status": "ok",
     "timestamp": 1746072724416,
     "user": {
      "displayName": "정유라",
      "userId": "07842653199036968776"
     },
     "user_tz": -540
    },
    "id": "22vY49uaGR2t",
    "outputId": "a378b998-13b1-491a-b42a-643690d59678"
   },
   "outputs": [
    {
     "name": "stderr",
     "output_type": "stream",
     "text": [
      "100%|██████████| 88766/88766 [00:00<00:00, 604574.67it/s]\n"
     ]
    }
   ],
   "source": [
    "vector_list = []\n",
    "for i in tqdm(range(len(df))) :\n",
    "    doc2vec = model_doc2vec.dv[f'document{i}']\n",
    "    vector_list.append(doc2vec)"
   ]
  },
  {
   "cell_type": "code",
   "execution_count": 30,
   "metadata": {
    "colab": {
     "base_uri": "https://localhost:8080/",
     "height": 963
    },
    "collapsed": true,
    "executionInfo": {
     "elapsed": 414,
     "status": "ok",
     "timestamp": 1746072724845,
     "user": {
      "displayName": "정유라",
      "userId": "07842653199036968776"
     },
     "user_tz": -540
    },
    "id": "uwBvAY0pGR5C",
    "outputId": "6231cc1a-1ab5-4ab7-c4bf-32baa344bbd3"
   },
   "outputs": [
    {
     "data": {
      "text/html": [
       "<div>\n",
       "<style scoped>\n",
       "    .dataframe tbody tr th:only-of-type {\n",
       "        vertical-align: middle;\n",
       "    }\n",
       "\n",
       "    .dataframe tbody tr th {\n",
       "        vertical-align: top;\n",
       "    }\n",
       "\n",
       "    .dataframe thead th {\n",
       "        text-align: right;\n",
       "    }\n",
       "</style>\n",
       "<table border=\"1\" class=\"dataframe\">\n",
       "  <thead>\n",
       "    <tr style=\"text-align: right;\">\n",
       "      <th></th>\n",
       "      <th>source</th>\n",
       "      <th>search_words</th>\n",
       "      <th>url</th>\n",
       "      <th>title</th>\n",
       "      <th>contents</th>\n",
       "      <th>tagged_contents</th>\n",
       "      <th>vector</th>\n",
       "    </tr>\n",
       "  </thead>\n",
       "  <tbody>\n",
       "    <tr>\n",
       "      <th>0</th>\n",
       "      <td>블로그</td>\n",
       "      <td>아기+잠깨</td>\n",
       "      <td>https://blog.naver.com/srhymin/223091161466</td>\n",
       "      <td>NaN</td>\n",
       "      <td>저희 아기는 신생아때부터 청각과 촉각이 예민해 잠도 깊게 못 잘 뿐더러 잠투정이 정...</td>\n",
       "      <td>[저희, 아기, 신생아, 때, 청각, 촉각, 잠도, 못, 뿐더러, 잠투, 정이, 정...</td>\n",
       "      <td>[0.18305127, -1.2801502, -0.44998685, 0.799018...</td>\n",
       "    </tr>\n",
       "    <tr>\n",
       "      <th>1</th>\n",
       "      <td>블로그</td>\n",
       "      <td>아기+잠깨</td>\n",
       "      <td>https://blog.naver.com/sukm83/223091879514</td>\n",
       "      <td>NaN</td>\n",
       "      <td>정신없는 주방한켠 뒤죽박죽 알 수 없는 용기에 양념과 소스가 담겨져 있기에 주방이 ...</td>\n",
       "      <td>[정신, 방한, 뒤죽박죽, 알, 수, 용기, 양념, 소스, 주방, 이번, 양념, 통...</td>\n",
       "      <td>[3.5914354, -2.2061694, 1.5965343, 0.19793592,...</td>\n",
       "    </tr>\n",
       "    <tr>\n",
       "      <th>2</th>\n",
       "      <td>블로그</td>\n",
       "      <td>아기+잠깨</td>\n",
       "      <td>https://blog.naver.com/dldptmf5134/223096875782</td>\n",
       "      <td>NaN</td>\n",
       "      <td>안녕하세요 지유맘입니다! 오늘은 지유가 이유식과 유아식 그 중간즈음 토핑식을 할 때...</td>\n",
       "      <td>[지유, 맘, 오늘, 지유, 이유식, 유아식, 그, 중간, 즈음, 토핑식, 때, 정...</td>\n",
       "      <td>[0.3413881, -0.53281033, -1.3500248, 1.670243,...</td>\n",
       "    </tr>\n",
       "    <tr>\n",
       "      <th>3</th>\n",
       "      <td>블로그</td>\n",
       "      <td>아기+잠깨</td>\n",
       "      <td>https://blog.naver.com/lia1100/223095799488</td>\n",
       "      <td>NaN</td>\n",
       "      <td>안녕하세요 라온엄마에요 오늘은 조금 특이한 아기 반찬을 준비했어요 방풍나물을 이용한...</td>\n",
       "      <td>[엄마, 오늘, 조금, 아기, 반찬, 준비, 방, 나물, 이용, 방, 나물, 된장,...</td>\n",
       "      <td>[0.9519698, -1.2839632, -0.3893606, -0.1345413...</td>\n",
       "    </tr>\n",
       "    <tr>\n",
       "      <th>4</th>\n",
       "      <td>블로그</td>\n",
       "      <td>아기+잠깨</td>\n",
       "      <td>https://blog.naver.com/perfect_aj/223095824533</td>\n",
       "      <td>NaN</td>\n",
       "      <td>6 12개월 아기의 1일 권장 물섭취량은 220ml정도라고 한다. 음 우래기는.. ...</td>\n",
       "      <td>[개월, 아기, 권장, 물섭취량, 정도, 음, 우리, 애기, 생각, 물, 물병, 번...</td>\n",
       "      <td>[0.47277522, -0.9469169, 1.0451334, -0.1203481...</td>\n",
       "    </tr>\n",
       "  </tbody>\n",
       "</table>\n",
       "</div>"
      ],
      "text/plain": [
       "  source search_words                                              url title  \\\n",
       "0    블로그        아기+잠깨      https://blog.naver.com/srhymin/223091161466   NaN   \n",
       "1    블로그        아기+잠깨       https://blog.naver.com/sukm83/223091879514   NaN   \n",
       "2    블로그        아기+잠깨  https://blog.naver.com/dldptmf5134/223096875782   NaN   \n",
       "3    블로그        아기+잠깨      https://blog.naver.com/lia1100/223095799488   NaN   \n",
       "4    블로그        아기+잠깨   https://blog.naver.com/perfect_aj/223095824533   NaN   \n",
       "\n",
       "                                            contents  \\\n",
       "0  저희 아기는 신생아때부터 청각과 촉각이 예민해 잠도 깊게 못 잘 뿐더러 잠투정이 정...   \n",
       "1  정신없는 주방한켠 뒤죽박죽 알 수 없는 용기에 양념과 소스가 담겨져 있기에 주방이 ...   \n",
       "2  안녕하세요 지유맘입니다! 오늘은 지유가 이유식과 유아식 그 중간즈음 토핑식을 할 때...   \n",
       "3  안녕하세요 라온엄마에요 오늘은 조금 특이한 아기 반찬을 준비했어요 방풍나물을 이용한...   \n",
       "4  6 12개월 아기의 1일 권장 물섭취량은 220ml정도라고 한다. 음 우래기는.. ...   \n",
       "\n",
       "                                     tagged_contents  \\\n",
       "0  [저희, 아기, 신생아, 때, 청각, 촉각, 잠도, 못, 뿐더러, 잠투, 정이, 정...   \n",
       "1  [정신, 방한, 뒤죽박죽, 알, 수, 용기, 양념, 소스, 주방, 이번, 양념, 통...   \n",
       "2  [지유, 맘, 오늘, 지유, 이유식, 유아식, 그, 중간, 즈음, 토핑식, 때, 정...   \n",
       "3  [엄마, 오늘, 조금, 아기, 반찬, 준비, 방, 나물, 이용, 방, 나물, 된장,...   \n",
       "4  [개월, 아기, 권장, 물섭취량, 정도, 음, 우리, 애기, 생각, 물, 물병, 번...   \n",
       "\n",
       "                                              vector  \n",
       "0  [0.18305127, -1.2801502, -0.44998685, 0.799018...  \n",
       "1  [3.5914354, -2.2061694, 1.5965343, 0.19793592,...  \n",
       "2  [0.3413881, -0.53281033, -1.3500248, 1.670243,...  \n",
       "3  [0.9519698, -1.2839632, -0.3893606, -0.1345413...  \n",
       "4  [0.47277522, -0.9469169, 1.0451334, -0.1203481...  "
      ]
     },
     "execution_count": 30,
     "metadata": {},
     "output_type": "execute_result"
    }
   ],
   "source": [
    "df['vector'] = vector_list\n",
    "df.head()"
   ]
  },
  {
   "cell_type": "code",
   "execution_count": 31,
   "metadata": {
    "id": "t_G3LiVwgV0W"
   },
   "outputs": [],
   "source": [
    "# 저장하기\n",
    "\n",
    "with open('vector_df_0510.pkl', 'wb') as f:\n",
    "    pickle.dump(df, f)"
   ]
  },
  {
   "cell_type": "code",
   "execution_count": null,
   "metadata": {
    "id": "tJoCLyZqz1qJ"
   },
   "outputs": [],
   "source": []
  }
 ],
 "metadata": {
  "accelerator": "GPU",
  "colab": {
   "gpuType": "T4",
   "machine_shape": "hm",
   "provenance": []
  },
  "kernelspec": {
   "display_name": "dxschool",
   "language": "python",
   "name": "python3"
  },
  "language_info": {
   "codemirror_mode": {
    "name": "ipython",
    "version": 3
   },
   "file_extension": ".py",
   "mimetype": "text/x-python",
   "name": "python",
   "nbconvert_exporter": "python",
   "pygments_lexer": "ipython3",
   "version": "3.10.16"
  }
 },
 "nbformat": 4,
 "nbformat_minor": 0
}
