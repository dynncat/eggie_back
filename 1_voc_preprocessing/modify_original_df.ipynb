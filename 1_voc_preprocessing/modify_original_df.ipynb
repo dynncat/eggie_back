{
 "cells": [
  {
   "cell_type": "code",
   "execution_count": 6,
   "id": "64209117",
   "metadata": {},
   "outputs": [],
   "source": [
    "import pandas as pd\n",
    "import os\n",
    "from pathlib import Path\n",
    "import re"
   ]
  },
  {
   "cell_type": "code",
   "execution_count": 2,
   "id": "62bff3a7",
   "metadata": {},
   "outputs": [],
   "source": [
    "df = pd.read_csv('./original_0510.csv', encoding='utf-8-sig')"
   ]
  },
  {
   "cell_type": "code",
   "execution_count": 3,
   "id": "ba2e18aa",
   "metadata": {},
   "outputs": [
    {
     "data": {
      "text/html": [
       "<div>\n",
       "<style scoped>\n",
       "    .dataframe tbody tr th:only-of-type {\n",
       "        vertical-align: middle;\n",
       "    }\n",
       "\n",
       "    .dataframe tbody tr th {\n",
       "        vertical-align: top;\n",
       "    }\n",
       "\n",
       "    .dataframe thead th {\n",
       "        text-align: right;\n",
       "    }\n",
       "</style>\n",
       "<table border=\"1\" class=\"dataframe\">\n",
       "  <thead>\n",
       "    <tr style=\"text-align: right;\">\n",
       "      <th></th>\n",
       "      <th>url</th>\n",
       "      <th>contents</th>\n",
       "      <th>title</th>\n",
       "      <th>source_file</th>\n",
       "      <th>date</th>\n",
       "      <th>link</th>\n",
       "      <th>제목</th>\n",
       "      <th>날짜</th>\n",
       "      <th>본문</th>\n",
       "      <th>댓글</th>\n",
       "      <th>URL</th>\n",
       "    </tr>\n",
       "  </thead>\n",
       "  <tbody>\n",
       "    <tr>\n",
       "      <th>0</th>\n",
       "      <td>https://blog.naver.com/srhymin/223091161466</td>\n",
       "      <td>저희 아기는 신생아때부터\\n청각과 촉각이 예민해\\n잠도 깊게 못 잘 뿐더러\\n잠투정...</td>\n",
       "      <td>NaN</td>\n",
       "      <td>아기 잠깨 취합.csv</td>\n",
       "      <td>NaN</td>\n",
       "      <td>NaN</td>\n",
       "      <td>NaN</td>\n",
       "      <td>NaN</td>\n",
       "      <td>NaN</td>\n",
       "      <td>NaN</td>\n",
       "      <td>NaN</td>\n",
       "    </tr>\n",
       "    <tr>\n",
       "      <th>1</th>\n",
       "      <td>https://blog.naver.com/sukm83/223091879514</td>\n",
       "      <td>정신없는 주방한켠\\n뒤죽박죽 알 수 없는 용기에\\n양념과 소스가 담겨져 있기에\\n주...</td>\n",
       "      <td>NaN</td>\n",
       "      <td>아기 잠깨 취합.csv</td>\n",
       "      <td>NaN</td>\n",
       "      <td>NaN</td>\n",
       "      <td>NaN</td>\n",
       "      <td>NaN</td>\n",
       "      <td>NaN</td>\n",
       "      <td>NaN</td>\n",
       "      <td>NaN</td>\n",
       "    </tr>\n",
       "    <tr>\n",
       "      <th>2</th>\n",
       "      <td>https://blog.naver.com/dldptmf5134/223096875782</td>\n",
       "      <td>안녕하세요 지유맘입니다!\\n오늘은 지유가 이유식과 유아식 그 중간즈음 토핑식을 할 ...</td>\n",
       "      <td>NaN</td>\n",
       "      <td>아기 잠깨 취합.csv</td>\n",
       "      <td>NaN</td>\n",
       "      <td>NaN</td>\n",
       "      <td>NaN</td>\n",
       "      <td>NaN</td>\n",
       "      <td>NaN</td>\n",
       "      <td>NaN</td>\n",
       "      <td>NaN</td>\n",
       "    </tr>\n",
       "    <tr>\n",
       "      <th>3</th>\n",
       "      <td>https://blog.naver.com/lia1100/223095799488</td>\n",
       "      <td>안녕하세요\\n라온엄마에요\\n오늘은 조금 특이한 아기 반찬을 준비했어요\\n방풍나물을 ...</td>\n",
       "      <td>NaN</td>\n",
       "      <td>아기 잠깨 취합.csv</td>\n",
       "      <td>NaN</td>\n",
       "      <td>NaN</td>\n",
       "      <td>NaN</td>\n",
       "      <td>NaN</td>\n",
       "      <td>NaN</td>\n",
       "      <td>NaN</td>\n",
       "      <td>NaN</td>\n",
       "    </tr>\n",
       "    <tr>\n",
       "      <th>4</th>\n",
       "      <td>https://blog.naver.com/perfect_aj/223095824533</td>\n",
       "      <td>6~12개월 아기의 1일 권장 물섭취량은\\n220ml정도라고 한다.\\n음 우래기는....</td>\n",
       "      <td>NaN</td>\n",
       "      <td>아기 잠깨 취합.csv</td>\n",
       "      <td>NaN</td>\n",
       "      <td>NaN</td>\n",
       "      <td>NaN</td>\n",
       "      <td>NaN</td>\n",
       "      <td>NaN</td>\n",
       "      <td>NaN</td>\n",
       "      <td>NaN</td>\n",
       "    </tr>\n",
       "  </tbody>\n",
       "</table>\n",
       "</div>"
      ],
      "text/plain": [
       "                                               url  \\\n",
       "0      https://blog.naver.com/srhymin/223091161466   \n",
       "1       https://blog.naver.com/sukm83/223091879514   \n",
       "2  https://blog.naver.com/dldptmf5134/223096875782   \n",
       "3      https://blog.naver.com/lia1100/223095799488   \n",
       "4   https://blog.naver.com/perfect_aj/223095824533   \n",
       "\n",
       "                                            contents title  \\\n",
       "0  저희 아기는 신생아때부터\\n청각과 촉각이 예민해\\n잠도 깊게 못 잘 뿐더러\\n잠투정...   NaN   \n",
       "1  정신없는 주방한켠\\n뒤죽박죽 알 수 없는 용기에\\n양념과 소스가 담겨져 있기에\\n주...   NaN   \n",
       "2  안녕하세요 지유맘입니다!\\n오늘은 지유가 이유식과 유아식 그 중간즈음 토핑식을 할 ...   NaN   \n",
       "3  안녕하세요\\n라온엄마에요\\n오늘은 조금 특이한 아기 반찬을 준비했어요\\n방풍나물을 ...   NaN   \n",
       "4  6~12개월 아기의 1일 권장 물섭취량은\\n220ml정도라고 한다.\\n음 우래기는....   NaN   \n",
       "\n",
       "            source_file date link   제목  날짜   본문   댓글  URL  \n",
       "0  아기 잠깨 취합.csv  NaN  NaN  NaN NaN  NaN  NaN  NaN  \n",
       "1  아기 잠깨 취합.csv  NaN  NaN  NaN NaN  NaN  NaN  NaN  \n",
       "2  아기 잠깨 취합.csv  NaN  NaN  NaN NaN  NaN  NaN  NaN  \n",
       "3  아기 잠깨 취합.csv  NaN  NaN  NaN NaN  NaN  NaN  NaN  \n",
       "4  아기 잠깨 취합.csv  NaN  NaN  NaN NaN  NaN  NaN  NaN  "
      ]
     },
     "execution_count": 3,
     "metadata": {},
     "output_type": "execute_result"
    }
   ],
   "source": [
    "df.head()"
   ]
  },
  {
   "cell_type": "code",
   "execution_count": 4,
   "id": "93990126",
   "metadata": {},
   "outputs": [
    {
     "name": "stdout",
     "output_type": "stream",
     "text": [
      "<class 'pandas.core.frame.DataFrame'>\n",
      "RangeIndex: 88826 entries, 0 to 88825\n",
      "Data columns (total 11 columns):\n",
      " #   Column       Non-Null Count  Dtype  \n",
      "---  ------       --------------  -----  \n",
      " 0   url          81333 non-null  object \n",
      " 1   contents     88824 non-null  object \n",
      " 2   title        30501 non-null  object \n",
      " 3   source_file  88826 non-null  object \n",
      " 4   date         7180 non-null   object \n",
      " 5   link         7180 non-null   object \n",
      " 6   제목           313 non-null    object \n",
      " 7   날짜           313 non-null    float64\n",
      " 8   본문           313 non-null    object \n",
      " 9   댓글           311 non-null    object \n",
      " 10  URL          313 non-null    object \n",
      "dtypes: float64(1), object(10)\n",
      "memory usage: 7.5+ MB\n"
     ]
    }
   ],
   "source": [
    "df.info()"
   ]
  },
  {
   "cell_type": "code",
   "execution_count": 5,
   "id": "a290bf9b",
   "metadata": {},
   "outputs": [
    {
     "data": {
      "text/plain": [
       "source_file\n",
       "아기 못자 취합.csv                                    22878\n",
       "네이버블로그_낮잠 + 육아_230501-231120.csv          19551\n",
       "아기 잠깨 취합.csv                                    17387\n",
       "네이버블로그_낮잠 + 아기_230501-231130.csv            6504\n",
       "DX_blog_낮잠+육아_20240501-20250501.csv                      3975\n",
       "DX_blog_낮잠+아기_20231201-20240430.csv                3961\n",
       "DX_blog_낮잠+아기_20240501-20250501.csv                3542\n",
       "DX_blog_낮잠+육아_20231121-20240430.csv                      3535\n",
       "맘스홀릭_낮잠+육아_본문포함_최종.csv           2342\n",
       "맘스홀릭_아기+깨_본문포함.csv                      1450\n",
       "맘스홀릭_아기+자_본문포함.csv                      1342\n",
       "맘스홀릭_낮잠+아기_본문포함_최종.csv            1247\n",
       "맘스홀릭_아기 + 못자_18중단_본문포함.csv         799\n",
       "아기+잠깨_블라인드_웹크롤링_20230501이후.csv        127\n",
       "낮잠+아기_블라인드_웹크롤링_20230501이후.csv       107\n",
       "아기+못자_블라인드_웹크롤링_20230501이후.csv         60\n",
       "낮잠+육아_블라인드_웹크롤링_20230501이후.csv       19\n",
       "Name: count, dtype: int64"
      ]
     },
     "execution_count": 5,
     "metadata": {},
     "output_type": "execute_result"
    }
   ],
   "source": [
    "df['source_file'].value_counts()"
   ]
  },
  {
   "cell_type": "code",
   "execution_count": 12,
   "id": "79b98caa",
   "metadata": {},
   "outputs": [],
   "source": [
    "# source_file 매핑 정의\n",
    "# {기존 source_file 값 : (새로운 source 값, 새로운 search_words 값)} 형태의 딕셔너리\n",
    "source_file_mapping = {\n",
    "    '아기 못자 취합.csv': ('블로그', '아기+못자'),\n",
    "    '네이버블로그_낮잠 + 육아_230501-231120.csv': ('블로그', '낮잠+육아'),\n",
    "    '아기 잠깨 취합.csv': ('블로그', '아기+잠깨'),\n",
    "    '네이버블로그_낮잠 + 아기_230501-231130.csv': ('블로그', '낮잠+아기'),\n",
    "    'DX_blog_낮잠+육아_20240501-20250501.csv': ('블로그', '낮잠+육아'),\n",
    "    'DX_blog_낮잠+아기_20231201-20240430.csv': ('블로그', '낮잠+아기'),\n",
    "    'DX_blog_낮잠+아기_20240501-20250501.csv': ('블로그', '낮잠+아기'),\n",
    "    'DX_blog_낮잠+육아_20231121-20240430.csv': ('블로그', '낮잠+육아'),\n",
    "    '맘스홀릭_낮잠+육아_본문포함_최종.csv': ('카페', '낮잠+육아'),\n",
    "    '맘스홀릭_아기+깨_본문포함.csv': ('카페', '아기+깨'),\n",
    "    '맘스홀릭_아기+자_본문포함.csv': ('카페', '아기+자'),\n",
    "    '맘스홀릭_낮잠+아기_본문포함_최종.csv': ('카페', '낮잠+아기'),\n",
    "    '맘스홀릭_아기 + 못자_18중단_본문포함.csv': ('카페', '아기+못자'),\n",
    "    '아기+잠깨_블라인드_웹크롤링_20230501이후.csv': ('블라인드', '아기+잠깨'),\n",
    "    '낮잠+아기_블라인드_웹크롤링_20230501이후.csv': ('블라인드', '낮잠+아기'),\n",
    "    '아기+못자_블라인드_웹크롤링_20230501이후.csv': ('블라인드', '아기+못자'),\n",
    "    '낮잠+육아_블라인드_웹크롤링_20230501이후.csv': ('블라인드', '낮잠+육아')\n",
    "}"
   ]
  },
  {
   "cell_type": "code",
   "execution_count": 13,
   "id": "9824baa0",
   "metadata": {},
   "outputs": [],
   "source": [
    "def get_source_and_search_words(filename):\n",
    "    return source_file_mapping.get(filename, ('알수없음', '알수없음')) # 매핑에 없으면 '알수없음'\n",
    "\n",
    "# 'source_file' 칼럼을 기반으로 'source'와 'search_words' 칼럼 생성\n",
    "# apply의 결과가 튜플이므로, 이를 pd.Series로 변환하여 두 칼럼에 할당\n",
    "df[['source', 'search_words']] = df['source_file'].apply(\n",
    "    lambda x: pd.Series(get_source_and_search_words(x))\n",
    ")"
   ]
  },
  {
   "cell_type": "code",
   "execution_count": 14,
   "id": "d2495f47",
   "metadata": {},
   "outputs": [
    {
     "name": "stdout",
     "output_type": "stream",
     "text": [
      "<class 'pandas.core.frame.DataFrame'>\n",
      "RangeIndex: 88826 entries, 0 to 88825\n",
      "Data columns (total 13 columns):\n",
      " #   Column        Non-Null Count  Dtype  \n",
      "---  ------        --------------  -----  \n",
      " 0   url           81333 non-null  object \n",
      " 1   contents      88824 non-null  object \n",
      " 2   title         30501 non-null  object \n",
      " 3   source_file   88826 non-null  object \n",
      " 4   date          7180 non-null   object \n",
      " 5   link          7180 non-null   object \n",
      " 6   제목            313 non-null    object \n",
      " 7   날짜            313 non-null    float64\n",
      " 8   본문            313 non-null    object \n",
      " 9   댓글            311 non-null    object \n",
      " 10  URL           313 non-null    object \n",
      " 11  source        88826 non-null  object \n",
      " 12  search_words  88826 non-null  object \n",
      "dtypes: float64(1), object(12)\n",
      "memory usage: 8.8+ MB\n"
     ]
    }
   ],
   "source": [
    "df.info()"
   ]
  },
  {
   "cell_type": "code",
   "execution_count": 15,
   "id": "7334a5d9",
   "metadata": {},
   "outputs": [
    {
     "data": {
      "text/html": [
       "<div>\n",
       "<style scoped>\n",
       "    .dataframe tbody tr th:only-of-type {\n",
       "        vertical-align: middle;\n",
       "    }\n",
       "\n",
       "    .dataframe tbody tr th {\n",
       "        vertical-align: top;\n",
       "    }\n",
       "\n",
       "    .dataframe thead th {\n",
       "        text-align: right;\n",
       "    }\n",
       "</style>\n",
       "<table border=\"1\" class=\"dataframe\">\n",
       "  <thead>\n",
       "    <tr style=\"text-align: right;\">\n",
       "      <th></th>\n",
       "      <th>url</th>\n",
       "      <th>contents</th>\n",
       "      <th>title</th>\n",
       "      <th>source_file</th>\n",
       "      <th>date</th>\n",
       "      <th>link</th>\n",
       "      <th>제목</th>\n",
       "      <th>날짜</th>\n",
       "      <th>본문</th>\n",
       "      <th>댓글</th>\n",
       "      <th>URL</th>\n",
       "      <th>source</th>\n",
       "      <th>search_words</th>\n",
       "    </tr>\n",
       "  </thead>\n",
       "  <tbody>\n",
       "    <tr>\n",
       "      <th>0</th>\n",
       "      <td>https://blog.naver.com/srhymin/223091161466</td>\n",
       "      <td>저희 아기는 신생아때부터\\n청각과 촉각이 예민해\\n잠도 깊게 못 잘 뿐더러\\n잠투정...</td>\n",
       "      <td>NaN</td>\n",
       "      <td>아기 잠깨 취합.csv</td>\n",
       "      <td>NaN</td>\n",
       "      <td>NaN</td>\n",
       "      <td>NaN</td>\n",
       "      <td>NaN</td>\n",
       "      <td>NaN</td>\n",
       "      <td>NaN</td>\n",
       "      <td>NaN</td>\n",
       "      <td>블로그</td>\n",
       "      <td>아기+잠깨</td>\n",
       "    </tr>\n",
       "    <tr>\n",
       "      <th>1</th>\n",
       "      <td>https://blog.naver.com/sukm83/223091879514</td>\n",
       "      <td>정신없는 주방한켠\\n뒤죽박죽 알 수 없는 용기에\\n양념과 소스가 담겨져 있기에\\n주...</td>\n",
       "      <td>NaN</td>\n",
       "      <td>아기 잠깨 취합.csv</td>\n",
       "      <td>NaN</td>\n",
       "      <td>NaN</td>\n",
       "      <td>NaN</td>\n",
       "      <td>NaN</td>\n",
       "      <td>NaN</td>\n",
       "      <td>NaN</td>\n",
       "      <td>NaN</td>\n",
       "      <td>블로그</td>\n",
       "      <td>아기+잠깨</td>\n",
       "    </tr>\n",
       "    <tr>\n",
       "      <th>2</th>\n",
       "      <td>https://blog.naver.com/dldptmf5134/223096875782</td>\n",
       "      <td>안녕하세요 지유맘입니다!\\n오늘은 지유가 이유식과 유아식 그 중간즈음 토핑식을 할 ...</td>\n",
       "      <td>NaN</td>\n",
       "      <td>아기 잠깨 취합.csv</td>\n",
       "      <td>NaN</td>\n",
       "      <td>NaN</td>\n",
       "      <td>NaN</td>\n",
       "      <td>NaN</td>\n",
       "      <td>NaN</td>\n",
       "      <td>NaN</td>\n",
       "      <td>NaN</td>\n",
       "      <td>블로그</td>\n",
       "      <td>아기+잠깨</td>\n",
       "    </tr>\n",
       "    <tr>\n",
       "      <th>3</th>\n",
       "      <td>https://blog.naver.com/lia1100/223095799488</td>\n",
       "      <td>안녕하세요\\n라온엄마에요\\n오늘은 조금 특이한 아기 반찬을 준비했어요\\n방풍나물을 ...</td>\n",
       "      <td>NaN</td>\n",
       "      <td>아기 잠깨 취합.csv</td>\n",
       "      <td>NaN</td>\n",
       "      <td>NaN</td>\n",
       "      <td>NaN</td>\n",
       "      <td>NaN</td>\n",
       "      <td>NaN</td>\n",
       "      <td>NaN</td>\n",
       "      <td>NaN</td>\n",
       "      <td>블로그</td>\n",
       "      <td>아기+잠깨</td>\n",
       "    </tr>\n",
       "    <tr>\n",
       "      <th>4</th>\n",
       "      <td>https://blog.naver.com/perfect_aj/223095824533</td>\n",
       "      <td>6~12개월 아기의 1일 권장 물섭취량은\\n220ml정도라고 한다.\\n음 우래기는....</td>\n",
       "      <td>NaN</td>\n",
       "      <td>아기 잠깨 취합.csv</td>\n",
       "      <td>NaN</td>\n",
       "      <td>NaN</td>\n",
       "      <td>NaN</td>\n",
       "      <td>NaN</td>\n",
       "      <td>NaN</td>\n",
       "      <td>NaN</td>\n",
       "      <td>NaN</td>\n",
       "      <td>블로그</td>\n",
       "      <td>아기+잠깨</td>\n",
       "    </tr>\n",
       "  </tbody>\n",
       "</table>\n",
       "</div>"
      ],
      "text/plain": [
       "                                               url  \\\n",
       "0      https://blog.naver.com/srhymin/223091161466   \n",
       "1       https://blog.naver.com/sukm83/223091879514   \n",
       "2  https://blog.naver.com/dldptmf5134/223096875782   \n",
       "3      https://blog.naver.com/lia1100/223095799488   \n",
       "4   https://blog.naver.com/perfect_aj/223095824533   \n",
       "\n",
       "                                            contents title  \\\n",
       "0  저희 아기는 신생아때부터\\n청각과 촉각이 예민해\\n잠도 깊게 못 잘 뿐더러\\n잠투정...   NaN   \n",
       "1  정신없는 주방한켠\\n뒤죽박죽 알 수 없는 용기에\\n양념과 소스가 담겨져 있기에\\n주...   NaN   \n",
       "2  안녕하세요 지유맘입니다!\\n오늘은 지유가 이유식과 유아식 그 중간즈음 토핑식을 할 ...   NaN   \n",
       "3  안녕하세요\\n라온엄마에요\\n오늘은 조금 특이한 아기 반찬을 준비했어요\\n방풍나물을 ...   NaN   \n",
       "4  6~12개월 아기의 1일 권장 물섭취량은\\n220ml정도라고 한다.\\n음 우래기는....   NaN   \n",
       "\n",
       "            source_file date link   제목  날짜   본문   댓글  URL source search_words  \n",
       "0  아기 잠깨 취합.csv  NaN  NaN  NaN NaN  NaN  NaN  NaN    블로그        아기+잠깨  \n",
       "1  아기 잠깨 취합.csv  NaN  NaN  NaN NaN  NaN  NaN  NaN    블로그        아기+잠깨  \n",
       "2  아기 잠깨 취합.csv  NaN  NaN  NaN NaN  NaN  NaN  NaN    블로그        아기+잠깨  \n",
       "3  아기 잠깨 취합.csv  NaN  NaN  NaN NaN  NaN  NaN  NaN    블로그        아기+잠깨  \n",
       "4  아기 잠깨 취합.csv  NaN  NaN  NaN NaN  NaN  NaN  NaN    블로그        아기+잠깨  "
      ]
     },
     "execution_count": 15,
     "metadata": {},
     "output_type": "execute_result"
    }
   ],
   "source": [
    "df.head()"
   ]
  },
  {
   "cell_type": "code",
   "execution_count": 16,
   "id": "331190d5",
   "metadata": {},
   "outputs": [
    {
     "name": "stdout",
     "output_type": "stream",
     "text": [
      "\n",
      "수정된 데이터프레임 정보:\n",
      "<class 'pandas.core.frame.DataFrame'>\n",
      "RangeIndex: 88826 entries, 0 to 88825\n",
      "Data columns (total 5 columns):\n",
      " #   Column        Non-Null Count  Dtype \n",
      "---  ------        --------------  ----- \n",
      " 0   source        88826 non-null  object\n",
      " 1   search_words  88826 non-null  object\n",
      " 2   url           81333 non-null  object\n",
      " 3   title         30501 non-null  object\n",
      " 4   contents      88824 non-null  object\n",
      "dtypes: object(5)\n",
      "memory usage: 3.4+ MB\n",
      "\n",
      "수정된 데이터프레임 샘플:\n",
      "  source search_words                                              url title  \\\n",
      "0    블로그        아기+잠깨      https://blog.naver.com/srhymin/223091161466   NaN   \n",
      "1    블로그        아기+잠깨       https://blog.naver.com/sukm83/223091879514   NaN   \n",
      "2    블로그        아기+잠깨  https://blog.naver.com/dldptmf5134/223096875782   NaN   \n",
      "3    블로그        아기+잠깨      https://blog.naver.com/lia1100/223095799488   NaN   \n",
      "4    블로그        아기+잠깨   https://blog.naver.com/perfect_aj/223095824533   NaN   \n",
      "\n",
      "                                            contents  \n",
      "0  저희 아기는 신생아때부터\\n청각과 촉각이 예민해\\n잠도 깊게 못 잘 뿐더러\\n잠투정...  \n",
      "1  정신없는 주방한켠\\n뒤죽박죽 알 수 없는 용기에\\n양념과 소스가 담겨져 있기에\\n주...  \n",
      "2  안녕하세요 지유맘입니다!\\n오늘은 지유가 이유식과 유아식 그 중간즈음 토핑식을 할 ...  \n",
      "3  안녕하세요\\n라온엄마에요\\n오늘은 조금 특이한 아기 반찬을 준비했어요\\n방풍나물을 ...  \n",
      "4  6~12개월 아기의 1일 권장 물섭취량은\\n220ml정도라고 한다.\\n음 우래기는....  \n",
      "\n",
      "새로 생성된 source 및 search_words 샘플:\n",
      "   source search_words\n",
      "0     블로그        아기+잠깨\n",
      "1     블로그        아기+잠깨\n",
      "2     블로그        아기+잠깨\n",
      "3     블로그        아기+잠깨\n",
      "4     블로그        아기+잠깨\n",
      "5     블로그        아기+잠깨\n",
      "6     블로그        아기+잠깨\n",
      "7     블로그        아기+잠깨\n",
      "8     블로그        아기+잠깨\n",
      "9     블로그        아기+잠깨\n",
      "10    블로그        아기+잠깨\n",
      "11    블로그        아기+잠깨\n",
      "12    블로그        아기+잠깨\n",
      "13    블로그        아기+잠깨\n",
      "14    블로그        아기+잠깨\n",
      "15    블로그        아기+잠깨\n",
      "16    블로그        아기+잠깨\n",
      "17    블로그        아기+잠깨\n",
      "18    블로그        아기+잠깨\n",
      "19    블로그        아기+잠깨\n"
     ]
    }
   ],
   "source": [
    "final_columns_ordered = ['source', 'search_words', 'url', 'title', 'contents']\n",
    "df_modified = df[final_columns_ordered].copy() # .copy()를 사용하여 SettingWithCopyWarning 방지\n",
    "\n",
    "print(\"\\n수정된 데이터프레임 정보:\")\n",
    "df_modified.info()\n",
    "print(\"\\n수정된 데이터프레임 샘플:\")\n",
    "print(df_modified.head())\n",
    "\n",
    "print(\"\\n새로 생성된 source 및 search_words 샘플:\")\n",
    "print(df_modified[['source', 'search_words']].head(20))"
   ]
  },
  {
   "cell_type": "code",
   "execution_count": 17,
   "id": "f3902e51",
   "metadata": {},
   "outputs": [
    {
     "name": "stdout",
     "output_type": "stream",
     "text": [
      "\n",
      "string Dtype으로 변경 후 데이터프레임 정보:\n",
      "<class 'pandas.core.frame.DataFrame'>\n",
      "RangeIndex: 88826 entries, 0 to 88825\n",
      "Data columns (total 5 columns):\n",
      " #   Column        Non-Null Count  Dtype \n",
      "---  ------        --------------  ----- \n",
      " 0   source        88826 non-null  string\n",
      " 1   search_words  88826 non-null  string\n",
      " 2   url           81333 non-null  string\n",
      " 3   title         30501 non-null  string\n",
      " 4   contents      88824 non-null  string\n",
      "dtypes: string(5)\n",
      "memory usage: 3.4 MB\n"
     ]
    }
   ],
   "source": [
    "for col in df_modified.select_dtypes(include=['object']).columns:\n",
    "    df_modified[col] = df_modified[col].astype('string')\n",
    "\n",
    "print(\"\\nstring Dtype으로 변경 후 데이터프레임 정보:\")\n",
    "df_modified.info()"
   ]
  },
  {
   "cell_type": "code",
   "execution_count": 18,
   "id": "08f4f722",
   "metadata": {},
   "outputs": [
    {
     "name": "stdout",
     "output_type": "stream",
     "text": [
      "결측치 제거 전 행 수: 88826\n",
      "'contents' 컬럼의 결측치 수: 2\n"
     ]
    }
   ],
   "source": [
    "print(f\"결측치 제거 전 행 수: {len(df_modified)}\")\n",
    "print(f\"'contents' 컬럼의 결측치 수: {df_modified['contents'].isna().sum()}\")"
   ]
  },
  {
   "cell_type": "code",
   "execution_count": 19,
   "id": "e3bc6fc9",
   "metadata": {},
   "outputs": [
    {
     "name": "stdout",
     "output_type": "stream",
     "text": [
      "\n",
      "결측치 제거 후 행 수: 88824\n",
      "제거된 행 수: 2\n",
      "'contents' 컬럼의 결측치 수 (제거 후): 0\n"
     ]
    }
   ],
   "source": [
    "full_df = df_modified.dropna(subset=['contents'])\n",
    "\n",
    "print(f\"\\n결측치 제거 후 행 수: {len(full_df)}\")\n",
    "print(f\"제거된 행 수: {len(df_modified) - len(full_df)}\")\n",
    "print(f\"'contents' 컬럼의 결측치 수 (제거 후): {full_df['contents'].isna().sum()}\")"
   ]
  },
  {
   "cell_type": "code",
   "execution_count": 20,
   "id": "802e6aba",
   "metadata": {},
   "outputs": [
    {
     "name": "stdout",
     "output_type": "stream",
     "text": [
      "<class 'pandas.core.frame.DataFrame'>\n",
      "Index: 88824 entries, 0 to 88825\n",
      "Data columns (total 5 columns):\n",
      " #   Column        Non-Null Count  Dtype \n",
      "---  ------        --------------  ----- \n",
      " 0   source        88824 non-null  string\n",
      " 1   search_words  88824 non-null  string\n",
      " 2   url           81332 non-null  string\n",
      " 3   title         30500 non-null  string\n",
      " 4   contents      88824 non-null  string\n",
      "dtypes: string(5)\n",
      "memory usage: 4.1 MB\n"
     ]
    }
   ],
   "source": [
    "full_df.info()"
   ]
  },
  {
   "cell_type": "code",
   "execution_count": 21,
   "id": "88b02a4c",
   "metadata": {},
   "outputs": [],
   "source": [
    "full_df.to_csv('full_data_0510.csv', index=False, encoding='utf-8-sig')"
   ]
  },
  {
   "cell_type": "code",
   "execution_count": null,
   "id": "c72f3293",
   "metadata": {},
   "outputs": [],
   "source": []
  }
 ],
 "metadata": {
  "kernelspec": {
   "display_name": "dxschool",
   "language": "python",
   "name": "python3"
  },
  "language_info": {
   "codemirror_mode": {
    "name": "ipython",
    "version": 3
   },
   "file_extension": ".py",
   "mimetype": "text/x-python",
   "name": "python",
   "nbconvert_exporter": "python",
   "pygments_lexer": "ipython3",
   "version": "3.10.16"
  }
 },
 "nbformat": 4,
 "nbformat_minor": 5
}
