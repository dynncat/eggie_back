{
 "cells": [
  {
   "cell_type": "raw",
   "metadata": {
    "id": "3L51p8QZSSYn"
   },
   "source": [
    "###py311 venv 활성화\n",
    "source ~/venvs/py311/bin/activate"
   ]
  },
  {
   "cell_type": "code",
   "execution_count": 1,
   "metadata": {
    "executionInfo": {
     "elapsed": 2957,
     "status": "ok",
     "timestamp": 1746981709390,
     "user": {
      "displayName": "Jynn Choi",
      "userId": "05254382451746305735"
     },
     "user_tz": -540
    },
    "id": "fIqgNH7kSSYo"
   },
   "outputs": [],
   "source": [
    "import pandas as pd\n",
    "import numpy as np\n",
    "import matplotlib.pyplot as plt\n",
    "import seaborn as sns\n",
    "import re"
   ]
  },
  {
   "cell_type": "code",
   "execution_count": 1,
   "metadata": {
    "colab": {
     "base_uri": "https://localhost:8080/"
    },
    "executionInfo": {
     "elapsed": 28863,
     "status": "ok",
     "timestamp": 1746980088419,
     "user": {
      "displayName": "Jynn Choi",
      "userId": "05254382451746305735"
     },
     "user_tz": -540
    },
    "id": "TDgD-WOMSgCH",
    "outputId": "d97d3090-7c62-4951-a0b3-7c017edb4457"
   },
   "outputs": [
    {
     "name": "stdout",
     "output_type": "stream",
     "text": [
      "Mounted at /content/drive\n"
     ]
    }
   ],
   "source": [
    "from google.colab import drive\n",
    "drive.mount('/content/drive')"
   ]
  },
  {
   "cell_type": "code",
   "execution_count": 2,
   "metadata": {
    "colab": {
     "base_uri": "https://localhost:8080/"
    },
    "executionInfo": {
     "elapsed": 5,
     "status": "ok",
     "timestamp": 1746981709397,
     "user": {
      "displayName": "Jynn Choi",
      "userId": "05254382451746305735"
     },
     "user_tz": -540
    },
    "id": "qOmaJWxlSjP4",
    "outputId": "26779e8f-2939-4339-9f2a-de6b9a4e6ac8"
   },
   "outputs": [
    {
     "name": "stdout",
     "output_type": "stream",
     "text": [
      "/content/drive/MyDrive/DX\n"
     ]
    }
   ],
   "source": [
    "cd /content/drive/MyDrive/DX"
   ]
  },
  {
   "cell_type": "markdown",
   "metadata": {
    "id": "QQCWWsqeSSYo"
   },
   "source": [
    "# 데이터 로드"
   ]
  },
  {
   "cell_type": "code",
   "execution_count": 63,
   "metadata": {
    "executionInfo": {
     "elapsed": 16038,
     "status": "ok",
     "timestamp": 1746985033074,
     "user": {
      "displayName": "Jynn Choi",
      "userId": "05254382451746305735"
     },
     "user_tz": -540
    },
    "id": "0jfm3JjZSSYp"
   },
   "outputs": [],
   "source": [
    "# 데이터 불러오기\n",
    "df = pd.read_csv('./final_df_0511.csv')"
   ]
  },
  {
   "cell_type": "code",
   "execution_count": null,
   "metadata": {
    "id": "wUE6K9w1Lko-"
   },
   "outputs": [],
   "source": [
    "texts = df['contents'].tolist()"
   ]
  },
  {
   "cell_type": "code",
   "execution_count": null,
   "metadata": {
    "id": "062Mgz7eSSYp",
    "outputId": "1189ed69-4ef2-4bc9-839c-c9ad32845e8c"
   },
   "outputs": [
    {
     "data": {
      "text/html": [
       "<div>\n",
       "<style scoped>\n",
       "    .dataframe tbody tr th:only-of-type {\n",
       "        vertical-align: middle;\n",
       "    }\n",
       "\n",
       "    .dataframe tbody tr th {\n",
       "        vertical-align: top;\n",
       "    }\n",
       "\n",
       "    .dataframe thead th {\n",
       "        text-align: right;\n",
       "    }\n",
       "</style>\n",
       "<table border=\"1\" class=\"dataframe\">\n",
       "  <thead>\n",
       "    <tr style=\"text-align: right;\">\n",
       "      <th></th>\n",
       "      <th>source</th>\n",
       "      <th>search_words</th>\n",
       "      <th>url</th>\n",
       "      <th>title</th>\n",
       "      <th>contents</th>\n",
       "      <th>tagged_contents</th>\n",
       "      <th>vector</th>\n",
       "      <th>umap_kmeans_cluster</th>\n",
       "    </tr>\n",
       "  </thead>\n",
       "  <tbody>\n",
       "    <tr>\n",
       "      <th>0</th>\n",
       "      <td>블로그</td>\n",
       "      <td>아기+잠깨</td>\n",
       "      <td>https://blog.naver.com/srhymin/223091161466</td>\n",
       "      <td>NaN</td>\n",
       "      <td>저희 아기는 신생아때부터 청각과 촉각이 예민해 잠도 깊게 못 잘 뿐더러 잠투정이 정...</td>\n",
       "      <td>['저희', '아기', '신생아', '때', '청각', '촉각', '잠도', '못'...</td>\n",
       "      <td>[ 0.18305127 -1.2801502  -0.44998685  0.799018...</td>\n",
       "      <td>4</td>\n",
       "    </tr>\n",
       "    <tr>\n",
       "      <th>1</th>\n",
       "      <td>블로그</td>\n",
       "      <td>아기+잠깨</td>\n",
       "      <td>https://blog.naver.com/sukm83/223091879514</td>\n",
       "      <td>NaN</td>\n",
       "      <td>정신없는 주방한켠 뒤죽박죽 알 수 없는 용기에 양념과 소스가 담겨져 있기에 주방이 ...</td>\n",
       "      <td>['정신', '방한', '뒤죽박죽', '알', '수', '용기', '양념', '소스...</td>\n",
       "      <td>[ 3.5914354e+00 -2.2061694e+00  1.5965343e+00 ...</td>\n",
       "      <td>1</td>\n",
       "    </tr>\n",
       "    <tr>\n",
       "      <th>2</th>\n",
       "      <td>블로그</td>\n",
       "      <td>아기+잠깨</td>\n",
       "      <td>https://blog.naver.com/dldptmf5134/223096875782</td>\n",
       "      <td>NaN</td>\n",
       "      <td>안녕하세요 지유맘입니다! 오늘은 지유가 이유식과 유아식 그 중간즈음 토핑식을 할 때...</td>\n",
       "      <td>['지유', '맘', '오늘', '지유', '이유식', '유아식', '그', '중간...</td>\n",
       "      <td>[ 3.4138811e-01 -5.3281033e-01 -1.3500248e+00 ...</td>\n",
       "      <td>1</td>\n",
       "    </tr>\n",
       "    <tr>\n",
       "      <th>3</th>\n",
       "      <td>블로그</td>\n",
       "      <td>아기+잠깨</td>\n",
       "      <td>https://blog.naver.com/lia1100/223095799488</td>\n",
       "      <td>NaN</td>\n",
       "      <td>안녕하세요 라온엄마에요 오늘은 조금 특이한 아기 반찬을 준비했어요 방풍나물을 이용한...</td>\n",
       "      <td>['엄마', '오늘', '조금', '아기', '반찬', '준비', '방', '나물'...</td>\n",
       "      <td>[ 0.9519698  -1.2839632  -0.3893606  -0.134541...</td>\n",
       "      <td>1</td>\n",
       "    </tr>\n",
       "    <tr>\n",
       "      <th>4</th>\n",
       "      <td>블로그</td>\n",
       "      <td>아기+잠깨</td>\n",
       "      <td>https://blog.naver.com/perfect_aj/223095824533</td>\n",
       "      <td>NaN</td>\n",
       "      <td>6 12개월 아기의 1일 권장 물섭취량은 220ml정도라고 한다. 음 우래기는.. ...</td>\n",
       "      <td>['개월', '아기', '권장', '물섭취량', '정도', '음', '우리', '애...</td>\n",
       "      <td>[ 0.47277522 -0.9469169   1.0451334  -0.120348...</td>\n",
       "      <td>5</td>\n",
       "    </tr>\n",
       "  </tbody>\n",
       "</table>\n",
       "</div>"
      ],
      "text/plain": [
       "  source search_words                                              url title  \\\n",
       "0    블로그        아기+잠깨      https://blog.naver.com/srhymin/223091161466   NaN   \n",
       "1    블로그        아기+잠깨       https://blog.naver.com/sukm83/223091879514   NaN   \n",
       "2    블로그        아기+잠깨  https://blog.naver.com/dldptmf5134/223096875782   NaN   \n",
       "3    블로그        아기+잠깨      https://blog.naver.com/lia1100/223095799488   NaN   \n",
       "4    블로그        아기+잠깨   https://blog.naver.com/perfect_aj/223095824533   NaN   \n",
       "\n",
       "                                            contents  \\\n",
       "0  저희 아기는 신생아때부터 청각과 촉각이 예민해 잠도 깊게 못 잘 뿐더러 잠투정이 정...   \n",
       "1  정신없는 주방한켠 뒤죽박죽 알 수 없는 용기에 양념과 소스가 담겨져 있기에 주방이 ...   \n",
       "2  안녕하세요 지유맘입니다! 오늘은 지유가 이유식과 유아식 그 중간즈음 토핑식을 할 때...   \n",
       "3  안녕하세요 라온엄마에요 오늘은 조금 특이한 아기 반찬을 준비했어요 방풍나물을 이용한...   \n",
       "4  6 12개월 아기의 1일 권장 물섭취량은 220ml정도라고 한다. 음 우래기는.. ...   \n",
       "\n",
       "                                     tagged_contents  \\\n",
       "0  ['저희', '아기', '신생아', '때', '청각', '촉각', '잠도', '못'...   \n",
       "1  ['정신', '방한', '뒤죽박죽', '알', '수', '용기', '양념', '소스...   \n",
       "2  ['지유', '맘', '오늘', '지유', '이유식', '유아식', '그', '중간...   \n",
       "3  ['엄마', '오늘', '조금', '아기', '반찬', '준비', '방', '나물'...   \n",
       "4  ['개월', '아기', '권장', '물섭취량', '정도', '음', '우리', '애...   \n",
       "\n",
       "                                              vector  umap_kmeans_cluster  \n",
       "0  [ 0.18305127 -1.2801502  -0.44998685  0.799018...                    4  \n",
       "1  [ 3.5914354e+00 -2.2061694e+00  1.5965343e+00 ...                    1  \n",
       "2  [ 3.4138811e-01 -5.3281033e-01 -1.3500248e+00 ...                    1  \n",
       "3  [ 0.9519698  -1.2839632  -0.3893606  -0.134541...                    1  \n",
       "4  [ 0.47277522 -0.9469169   1.0451334  -0.120348...                    5  "
      ]
     },
     "execution_count": 5,
     "metadata": {},
     "output_type": "execute_result"
    }
   ],
   "source": [
    "# unnamed 칼럼 제거\n",
    "#df = df.drop('Unnamed: 0', axis=1)\n",
    "df.head()"
   ]
  },
  {
   "cell_type": "markdown",
   "metadata": {
    "id": "pPBm4tpISSYp"
   },
   "source": [
    "# 텍스트 클리닝"
   ]
  },
  {
   "cell_type": "code",
   "execution_count": 4,
   "metadata": {
    "executionInfo": {
     "elapsed": 2,
     "status": "ok",
     "timestamp": 1746985118774,
     "user": {
      "displayName": "Jynn Choi",
      "userId": "05254382451746305735"
     },
     "user_tz": -540
    },
    "id": "c9yiTPVxSSYq"
   },
   "outputs": [],
   "source": [
    "# 텍스트 클리닝: HTML 태그 제거, 다중 공백 제거, 양쪽 공백 제거\n",
    "def clean_text(text):\n",
    "    text = re.sub(r'<[^>]+>', '', text)  # HTML 태그 제거\n",
    "    text = re.sub(r'\\s+', ' ', text)      # 다중 공백 제거\n",
    "    text = text.strip()\n",
    "    return text"
   ]
  },
  {
   "cell_type": "code",
   "execution_count": null,
   "metadata": {
    "colab": {
     "base_uri": "https://localhost:8080/"
    },
    "collapsed": true,
    "executionInfo": {
     "elapsed": 25458,
     "status": "ok",
     "timestamp": 1746964017887,
     "user": {
      "displayName": "Jynn Choi",
      "userId": "05254382451746305735"
     },
     "user_tz": -540
    },
    "id": "EXFFgfTsSSYq",
    "outputId": "4cc3ce8f-d4e4-4789-eb40-d8f9ec498c48"
   },
   "outputs": [
    {
     "data": {
      "text/plain": [
       "['저희 아기는 신생아때부터 청각과 촉각이 예민해 잠도 깊게 못 잘 뿐더러 잠투정이 정말 심했어요 아이는 잘 먹고 잘 자야 건강하게 큰다고 하잖아요. 아기에게 수면은 학습능력 발달과 건강한 신체발달을 위한 중요 요소이기 때문에 더욱 신경쓰며 수면교육을 했던 것 같아요. 오늘은 월령시기별 수면교육과 꿀팁 유의 할 점에 대해 알아보도록 하겠습니다! 월령시기별 수면교육 단계 생후 1개월 이 시기의 아기는 밤낮을 구별하지 못하기 때문에 통잠 없이 새벽에도 수유를 하거나 달래줘야 되는 시기죠. 밤에는 불빛을 줄이고 조용히 함으로써 밤은 어둡고 자야된다는 인식을 심어줍니다. 생후 6주 생후 6주가 되면 아기는 신체적으로 한 번에 길게 잘 준비를 합니다. 그래서 보통 부모들은 약 50일부터 수면교육을 시작하죠. 이 시기부터는 매일 일정한 수면패턴을 만들어주는 것이 좋습니다. 저의 경우에는 아이가 밤잠에 들기 전 목욕 천천히 주물러주기 잔잔한 음악으로 패턴을 만들었었는데 이 때 유의 할 점은 패턴의 순서가 바뀌지 않도록 조심해야 됩니다. 생후 4개월 4개월 정도가 되면 수면교육이 완성되어가는 단계입니다. 아기가 자다 깨어 울어도 가급적이면 젖병을 물리지 않도록 하고 만약 잘 자던 아기가 갑자기 깨 보채는 일이 잦아지면 수면시간이 부족한 것은 아닌지 확인해보세요. 돌 이후 돌이 지나면 노는 것이 더 즐겁기 때문에 잠을 안자려 노력합니다. 하지만 정해진 수면시간을 지키기 위해 단호하고 일관된 태도를 보여주는 것이 중요해요. 낮잠 밤잠 수면교육 꿀팁 1 수면 환경을 조성해 주세요. 아기는 스스로 체온을 조절하지 못하기 때문에 외부 환경에 큰 영향을 받으므로 쾌적한 수면환경을 유지해주는 것이 중요합니다. 실내온도와 습도를 22도 내외 50 로 조절하고 실내 공기가 탁해지지 않도록 자주 환기해 주세요. 또한 밤에 쉽게 재우기 위해서는 낮에 아이의 에너지를 다 쓸 수 있도록 충분하게 놀아줘야 됩니다. 밤에 잘 때에는 조명을 약하게 하거나 완전히 불을 끄고 만약 아이가 잠에서 깨어 울더라도 작은 조명 하나만 켠 채로 달래는 것이 좋습니다. 2 수면 패턴을 알아보세요. 어른들도 각자 잠자는 시간이 다른만큼 아이들도 각자의 패턴이 존재합니다. 인터넷을 보고 무작정 시간을 따라하는 것보다 어플 등을 이용하여 일주일동안 아이의 수면시간을 기록한 뒤 패턴을 알아보세요. 이 패턴을 기준으로 교육을 계획하는 것이 좋습니다. 3 잠은 동일한 장소에서 재워주세요. 아이의 낮잠은 집이나 어린이집과 같은 일정한 장소에서 꾸준히 자는 것이 좋고 밤잠은 안정감을 느낄 수 있는 집에서 재우는 것이 좋습니다. 아이가 자다 깨 보채더라도 억지로 재우려고 하지 마시고 아이를 잠시 안아 흔들어주거나 함께 누워 등을 토닥여 주는 등 편안하게 해주세요. 낮잠 밤잠 수면교육 유의 할 점 습관을 들일 때 중요한 것은 스스로 잠들 수 있어야 된다는 점입니다! 아이가 완전히 잠들 때까지 안고 있거나 수유를 하는 행동은 하지 말아주세요. 졸리지만 깨어있는 상태일 때 잠자리에 눕혀 스스로 잠을 자도록 도와줍니다. 팬하기 꾸욱 눌러주세요',\n",
       " '정신없는 주방한켠 뒤죽박죽 알 수 없는 용기에 양념과 소스가 담겨져 있기에 주방이 너무 지저분해 이번에 양념통세트 하나로 깔끔하게 주방정리 마쳤어요. 짜잔! 너무 깔끔하죠. 예쁨까지 장착한 단지양념통은 10p 구성으로 음식할 때 필요한 양념과 소스들을 다 넣을 수 있어요. 거기다 사용하기 편하고 뚜껑을 열어보지 않아도 바로 내용물을 확인할 수 있는 유리양념통이어서 더 만족스러워요. 라이큐 양념통 오일병 10P 세트 생활잡화점 브랜드 라이큐에서 온 단지양념통은 수입제품으로 수입식품 검역을 정식 통관 완료한 양념통 세트 추천 제품이에요. 한 번에 수납하기도 편리하고 세척도 용이하면서 양념을 꺼낼 때에도 편리한 양념통세트는 깔끔한 주방정리는 물론 선반이 함께 포함되어 있어서 양념통과 오일통 정리를 쉽게 가능해요. 보기에도 다른 2가지 종류의 양념통은 일체형스푼이 있는 양념통과 밀폐뚜껑이 있는 양념통 3개씩 구성되어 있어요. 볼록 위로 나온 양념통은 뚜껑 안쪽에 전용스푼이 달려 있어서 숟가락 필요없이 요리할 때 양념을 바로 사용할 수 있어서 설거지를 줄일 수 있답니다. 너무 귀엽죠. 쏙 빼서 사용할 수 있는 스푼 일체형 뚜껑 양념통은 열고 닫기도 쉽고요. 밀폐력도 우수해요. 생각외로 가볍고 사용하기 편한 유리양념통은 깔끔하고 안에 어떤 양념이 들어 있는지 바로 눈으로 확인할 수 있어 좋아요. 무엇보다 세척도 용이하니까요. 잡을 때 그립감도 좋아서 양념을 덜고 쓰기에도 안성맞춤 양념통세트 추천하기 그만인걸요. 스푼일체형 양념통은 산패 우려가 없는 소금이나 설탕 MSG 양념을 넣어 두시면 좋겠어요. 산패 걱정없는 밀폐양념통은 외부 공기를 완벽하게 차단해주니까 향이 날아가면 안되는 고춧가루나 참깨 양념류를 사용하시면 되세요. 더욱이 양념통에 부착 가능한 스티커도 동봉되어 있으니 부착해 사용하면 양념 혼돈할 필요도 없겠죠. 오일병은 손으로 톡! 간편하게 열리는 원터치 뚜껑으로 되어 있어서 한 손으로도 간편하게 사용할 수 있어요. 몸통과 뚜껑이 분리되니까 깔대기가 없어도 내용물을 흘리지 않고 채울 수 있다는 점도 단지 양념통의 장점이랍니다. 자주 사용하는 양념들을 다 보관하기 용이한 양념통 세트 추천 사용 전 먼저 세척 후 건조해 주었어요. 분리는 물론 아기 젖병으로 사용하는 PP소재 BPA FREE 제품으로 환경호르몬 걱정없이 안전하게 사용할 수 있는 양념통이에요. 이제 찐득한 플라스틱 용기를 버리고 깔끔하게 주방을 정리할 수 있는 단지양념통에 집에 있는 양념을 하나씩 넣어 봤어요. 저는 자주 사용하지 않는 양념은 밀폐 양념통에 넣었어요. 입구가 커서 막 넣어도 거의 흘리지 않고 굵은소금도 가득 넣어 주었고요. 통후추도 단지양념통에 부었답니다. 그리고 매일 사용하는 스푼 일체형 양념통에는 볶은깨 보관을 했어요. 대게 볶은깨 보관법은 냉동실인데 요리할 때 사용하려면 이렇게 소량은 서늘한 주방 한켠에 보관해 주어도 됩니다. 친정엄마가 가득 볶아주신 볶은깨 귀함을 알기에 제대로 보관하고 먹고 있어요. 워낙에 꼬순내 진동하는 엄마표 볶은깨라서 양념통에 넣어도 고소한 맛과 향이 달아나지 않더라고요. 전용스푼이 달려 있어서 요리할 때 요로코롬 바로 사용하고 보관할 수 있어서 양념통세트 추천 할 수 밖에요. 그리고 또 귀한 친정엄마표 고춧가루 보관은 오래 두고 먹을 고춧가루는 냉동보관 하지만 요리할 때 드실 고춧가루 보관법은 냉장실에 보관해도 용이해요. 하지만 요즘 같이 서늘한 날에는 이렇게 양념통에 넣어줘도 문제없어요. 오래되면 검게 변하고 굳어버리니까 저처럼 요리를 자주 하시는 분들만 이렇게 고춧가루 보관해 주세요. 정말 엄마가 농사지은 고춧가루라서 빛깔도 남다르죠. 이것저것 양념을 넣고서 스티커까지 부착하니 더 예쁘네요. 유리오일병에도 매실액 액젓 국간장을 넣어 주었답니다. 그다음 이렇게 선반에 올려서 주방정리 마치니 와!! 너무 깔끔하고 보기 좋더라고요. 역시 유리양념통으로 바꾼 게 정말 잘 한 것 같아요. 눈에 확실히 잘 보이니까 양념 찾기도 쉽고 같은 컬러여서 혼돈될 때는 스티커로 확인할 수 있으니 굿!! 단지양념통 세트 볼수록 사용할수록 더 맘에 드는데요. 초보 주부님들이나 우리집 양념통이 정신없어 바꾸고 싶은 분들 집들이 선물을 찾는 분들에게 깔끔하고 위생적인 라이큐 양념통 세트 추천 고민할 필요없이 겟 해 보세요. 주방이 한층 더 깔끔해 질 거에요. 라이큐 양념통 오일병 10p 세트 RIIQ 라이큐 RIIQ 라이큐 살림 지능을 높이다 smartstore.naver.com',\n",
       " '안녕하세요 지유맘입니다! 오늘은 지유가 이유식과 유아식 그 중간즈음 토핑식을 할 때 정말 잘 먹었던 비타민으로 나물을 무쳐보았어요. 예전에는 비타민을 잘게 다져서 조금씩 떠먹였다면 이제는 큼지막하게 썰어 나물 요리를 했답니다. 어른반찬으로도 좋을 비타민 나물 무침 레시피 정리해보겠습니다. 이번에도 정말 간단해요! 만들기 쉽고 간단한 레시피만 올리는 지유맘이에요 비타민은 양배추와 순무를 교배 시켜 만든 야채로 비타민 A의 성분인 카로틴이 시금치의 2배나 함유되어 있다고 합니다. 그래서 이름이 비타민이라고 해요. 비타민A는 치아와 피부 등 우리몸의 골격과 조직을 건강하게 유지하는데 도움을 주며 시력개선 효과까지 있다고 해요. 초록색이 짙을 수록 비타민이 많이 함유되어 있다고 하니 고를 때 참고하는 것도 좋을 것 같습니다! 지유맘은 비타민을 이유식 하면서 알게 되었는데요. 개인적으로는 시금치보다 그 향과 식감이 더 좋아서 알게된 후로는 장보러 가서 자주 집어오게 되더라구요 1. 비타민 밑둥을 제거하고 깨끗하게 세척해줍니다. 비타민은 흙채소가 아니라 깨끗한 편이여서 흐르는 물에 가볍게 씻어내도 괜찮지만 아기가 먹을거라서 저는 과일야채세정제를 푼 물에 잠깐 담궜다가 헹궈주었어요. 2. 끓는 물에 담가 데쳐냅니다. 시금치보다는 줄기와 이파리에 힘이 있는 편이라서 팔팔 끓는 물에 7분정도 데쳐주었어요. 데칠 때 올라오는 향긋한 비타민 향기가 참 좋답니다 저염식을 병행하고 있어서 데칠 때 소금을 살짝 넣어도 좋았겠지만 나물은 간 없이도 워낙 잘 먹어서 소금은 생략했어요. 3. 데친 비타민을 찬물에 헹군뒤에 물기를 꼭 짜줍니다. 무침을 할 때는 물기가 최대한 없어야 나중에 보관할 때도 물이 생기지 않아요.힘있게 꽉꽉 쫘주세요! 비타민은 힘이 있는 편이여서 세게 꽉 짜도 잎이나 줄기가 짓이겨지지 않아서 좋아요. 4. 먹기 좋은 크기로 썰어줍니다. 저희 아이는 고기와 다르게 나물반찬은 입자가 커도 잘 먹더라구요. 고기도 이렇게 잘 먹어주면 좋으련만 그래서 새끼손가락 마디 정도의 크기로 썰었답니다. 5. 참기름을 넣고 조물조물 잘 무쳐줍니다. 지유맘은 아기 전용 참기름을 사용하고 있어요. 스포이드 타입이라 한번 쭉 짜주었답니다. 무쳐줄 때 깨를 뿌려주어도 좋아요. 저는 생략했지만 깨의 고소함을 좋아하는 아기들은 깨를 넣고 버무리면 더 맛있는 나물 무침이 되겠죠? 6. 아삭한 수분감이 느껴지는 비타민 나물 무침 완성! 전체적인 과정은 시금치 나물 무침과 동일하죠? 특별히 따로 된장이나 고추가루 등을 추가 하지 않는 이상 나물 무침은 다 비슷한 과정인 것 같아요. 쉽고 간단하게 나물이 뚝딱 완성되었답니다 지유는 고기보다 야채를 좋아하는 편인데요. 특히 시금치나 비타민 청경채와 같은 초록색 채소 나물들을 정말정말 잘 먹는답니다. 이 날도 식판에 반찬을 여러개 담았는데 비타민 나물 무침만 계속 집어먹더라구요 골고루 먹이고 싶은 마음에 앞에 놓았던 식판을 제가 들고 먹였지만 자꾸 나물만 달라고 해서 결국은 따로 그릇에 담아서 앞아 놓아줬어요. 신나서 열심히 집어먹는 사진 남겨놓았네요 지금처럼 커서도 야채를 잘 먹어주길 바라는 마음입니다. 비타민이 듬뿍 담긴 비타민 나물 무침! 간단한 아기 반찬으로 추천드려요! 아기 고사리나물 레시피도 보고 가세요 D 13개월 아기 나물 반찬 고사리 나물 볶음 유아식 레시피 고사리나물 안녕하세요 지유맘입니다 나물반찬을 좋아하는 아이의 입맛에 맞게끔 이번에는 고사리나물볶음을 만들어봤... m.blog.naver.com 아기반찬비타민 비타민나물무침 비타민무침 유아식비타민나물 돌아기반찬 돌아기비타민무침 무염식비타민반찬 비타민무침만들기 비타민효능 비타민야채반찬',\n",
       " '안녕하세요 라온엄마에요 오늘은 조금 특이한 아기 반찬을 준비했어요 방풍나물을 이용한 방풍나물 된장무침이랍니다 그냥 소금과 참기름으로 무쳐주는 것도 좋지만 가끔씩 된장과 함께 무쳐주면 또 다른 맛을 느끼게 해줄 수 있어 좋은 것 같아요 준비물 방풍나물 60g 파 3g 된장 1 2 작은술 다진마늘 1g 매실액 1큰술 들기름 1작은술 올리고당 1큰술 깨 유아식 방풍나물 된장무침 재생 16 좋아요 1 00 36 접기 펴기 방풍나물 된장무침 1.방풍나물은 끓는 물에 3분이상 푹 익혀주세요 찬물로 행궈 물기를 짜 주시고 적당한 크기로 썰어주세요 2. 된장 다진마늘 매실액 들기름 올리고당을 잘 섞어줍니다 올리고당은 설탕 1작은술 1큰술로 대체 가능해요 3. 방풍나물과 파를 넣고 잘 버무려줍니다 4. 깨로 마무리해주세요 아기 이색 나물 반찬 방풍나물 된장무침 완성 된장향을 매실향으로 부드럽게 만들어주며 거부감을 줄인 방풍나물 된장무침이에요 만약 아기가 된장을 너무 싫어한다면 데쳐서 파와 다진마늘과 함께 참기름으로 버무리고 소금간을 해주세요 간단하게 방풍 나물 무침으로 즐기셔도 좋습니다 오늘은 아기 반찬 방풍나물 된장무침 만드는 방법을 소개해보았어요 남은 주말도 행복하게 보내시길 바랍니다 감사합니다 유아식 18개월유아식 19개월유아식 17개월유아식 돌아기유아식 유아식저염식 저염유아식 저염식반찬 유아식반찬 유아반찬 아기반찬 돌아기반찬 18개월아기반찬 17개월아기반찬 19개월아기반찬 아기반찬추천 아기나물반찬 아기방풍나물무침 아기된장 아기된장무침 아기방풍나물된장무침 유아된장 유아나물반찬 유아된장무침 유아방풍나물된장무침',\n",
       " '6 12개월 아기의 1일 권장 물섭취량은 220ml정도라고 한다. 음 우래기는.. 생각보다 물 마니마시는군? 280ml짜리 물병을 2번씩은 먹으니깨? 다행이 우래기는 물 거부 않고 잘 마셔주는 아기인데 그래도 더 즐겁게 물마시게 해주고파서 물 뿌믄 물고기 빨대컵을 들여보았다 물 뿜는 물고기 빨대컵은 리틀클라우드 제품인데 리틀클라우드 제품은 이미 옴총 마니 가지고있어서 아기휴대폰 흡착딸랑이 오리보트 꼼짝마 회전볼 등 거부감 없이 바로 사용 고고!!! 일단 너무너무 귀여운 외관 아기들이 좋아할만 할듯 양쪽에 손잡이가 있어서 우래기도 쉽게 잡고 안정적으로 물 마실 수 있어 좋다! 그리고 물컵 뒷면에는 용량이 눈금으로 표시되어 있어서 아기가 물을 얼마나 섭취하는지 눈으로 확인할 수 있음 게다가 요 물 뿜는 물고기 빨대컵은 전체 분리가 가능해서 깨끗하게 세척할 수 있어서 좋다. 단 열탕소독은 안됨 이게 좀 아숩네 빨대는 실리콘으로 되어 있음! 물컵안에 있는 빨대는 플라스틱! 유연한 실리콘 빨대라서 우래기가 쉽게 잡고 입으로 가져갈 수 있어 좋다. 게다가 위생적으로 사용 가능해서 더 굿굿 우래기 전용 물상 ? 위에다가 올려놓으면 혼자서 척척 가져다가 빨아마심 넘나 귀욥쓰 애미야 빨대가 조금 길구나? 내 생각인데 아기한테 맞게끔 빨대는 컷팅해서 사용해도 될 것 같으다. 아니면 동봉된 회오리 빨대 써도 됨! 쭈왑쭈왑 물 220ml가 순식간에 절반이 되는 기적 아기가 물을 마시면 물고기가 물을 내뿜음 나도 증말 신기하더라 우래기도 신기한지 계속 쳐다봄 진짜 물을 잘 마시지 않는 아기도 요고 보려고 물 마시려고 노력할 것 같으다. 애미야 물이 달구나 물 뿜는 물고기 구경하며 마시니 더욱 꿀맛이구나아 리틀클라우드 물 뿜는 물고기 빨대컵 리틀클라우드 영유아 물고기 빨대컵 bit.ly 리틀클라우드 아기빨대컵 물뿜는물고기빨대컵 물안먹는아기 아기물컵 돌아기빨대컵']"
      ]
     },
     "execution_count": 7,
     "metadata": {},
     "output_type": "execute_result"
    }
   ],
   "source": [
    "texts = [clean_text(t) for t in texts]\n",
    "texts[:5]"
   ]
  },
  {
   "cell_type": "markdown",
   "metadata": {
    "id": "iiAAJFnHSSYq"
   },
   "source": [
    "# GPU 설정"
   ]
  },
  {
   "cell_type": "code",
   "execution_count": null,
   "metadata": {
    "colab": {
     "base_uri": "https://localhost:8080/"
    },
    "executionInfo": {
     "elapsed": 3779,
     "status": "ok",
     "timestamp": 1746964021667,
     "user": {
      "displayName": "Jynn Choi",
      "userId": "05254382451746305735"
     },
     "user_tz": -540
    },
    "id": "FVZ-wGLgSSYq",
    "outputId": "f63501b8-a819-4b66-9eba-795a97d99b93"
   },
   "outputs": [
    {
     "name": "stdout",
     "output_type": "stream",
     "text": [
      "2.6.0+cu124\n",
      "CUDA available: True\n"
     ]
    }
   ],
   "source": [
    "import torch\n",
    "print(torch.__version__)               # 설치된 버전 확인\n",
    "print(\"CUDA available:\", torch.cuda.is_available())"
   ]
  },
  {
   "cell_type": "code",
   "execution_count": null,
   "metadata": {
    "colab": {
     "base_uri": "https://localhost:8080/"
    },
    "executionInfo": {
     "elapsed": 12,
     "status": "ok",
     "timestamp": 1746964021681,
     "user": {
      "displayName": "Jynn Choi",
      "userId": "05254382451746305735"
     },
     "user_tz": -540
    },
    "id": "7fdht2RYSSYq",
    "outputId": "cdbbd055-0692-4a3f-b954-ac991fc766d2"
   },
   "outputs": [
    {
     "name": "stdout",
     "output_type": "stream",
     "text": [
      "cuda\n"
     ]
    }
   ],
   "source": [
    "import torch\n",
    "\n",
    "if torch.cuda.is_available():\n",
    "    device = \"cuda\"\n",
    "else:\n",
    "    device = \"cpu\"\n",
    "print(device)"
   ]
  },
  {
   "cell_type": "markdown",
   "metadata": {
    "id": "NiTns9-ySSYq"
   },
   "source": [
    "# 임베딩 추출"
   ]
  },
  {
   "cell_type": "code",
   "execution_count": null,
   "metadata": {
    "id": "L6zz5zomSSYq"
   },
   "outputs": [],
   "source": [
    "from sentence_transformers import SentenceTransformer\n",
    "from transformers import AutoTokenizer\n",
    "import numpy as np\n",
    "import torch"
   ]
  },
  {
   "cell_type": "code",
   "execution_count": null,
   "metadata": {
    "colab": {
     "base_uri": "https://localhost:8080/",
     "height": 447,
     "referenced_widgets": [
      "d2e41d10c7644d62affc0b476f2d78c1",
      "183e6143fc0c4c9e819fc6287e38997a",
      "06ca691465a948a6b0e4da177341dc0b",
      "d873864fc6bd47569d80791304f33eea",
      "3d1edf09304f426f8bac95a83a41e87f",
      "18003619f63745419a3a67b71315246b",
      "cf23c2ab99fd4a57b270fcadfdf5baef",
      "f9a136366d9b4f5797d959b1a475fd1a",
      "41f4d42d33334e509665e731240542be",
      "f1d70759d78c4f33b962d5dbb46e366c",
      "2b430f948b784e0487e01da56774ce16",
      "0f94bc81d2af495894b77057d73d7edf",
      "34083f1567664acbaf648e816873b851",
      "f686cbc603c74c228bf1928d90df1581",
      "3cc3e63ff88d4769b55cf97db8c8a090",
      "488eef70ca994ece9716d6732589ceac",
      "b68c0c3c038f4a41b40da81102c97548",
      "e32457723ca34951940fb9d1d4899630",
      "c4880f760e2049e095a80f51b15a1fa4",
      "84faa31cde6847f5a6f2327eedb6c137",
      "a06024c136a74d00a3a760b25973833f",
      "ed42d5c02dce45399595267bd03e1237",
      "93a1d72c08e1456082e22e9f776b87d9",
      "4e674714f81141379a7419e79c177dab",
      "5ab34ed116a0464396ab1cecb2643207",
      "c669801234174a21a9a84393af6d5fd1",
      "a3b90064e29d4b12a3f0b62a89dcf81e",
      "9911c167f77b48418a075ea9e48dbf50",
      "426124725e424b05887893c31debc7a2",
      "8bdcbf8197f64bd38bb6537f4f29127d",
      "0d1336fecfa14258992a332100cda913",
      "ad8fd4c37ab84ad7be485939d8faf9a6",
      "abf43e5a42a74fca9fdc50086c2385ef",
      "ca6eba8b3c9b443a82d59c036c0cec7c",
      "aa34a8fc63fb47dc97ab5fbe7a2b5b10",
      "d514d7b493864fc78d8ef829324d2c14",
      "251234a46feb4a108f54a1ba3dc0e454",
      "4726ce7661354804be921f65284d5ab4",
      "ef4abfdd0418416d9c985edd048dcd6f",
      "0fe69356fc8e4261adf58c04d5383520",
      "5a0b93a20dae4c4787ff60020aac094b",
      "817f5bd9699947178bbe63fa78e0a7e8",
      "5262f8318141418dac926c4bbfbe96da",
      "775e73cad7b84029a59ab101960e7e11",
      "07faaf5c36134adeaf83c69104a01a73",
      "8c5f878dae2b49e796480326d7126692",
      "c8bf3097bed2494d90965b8df15d5f6b",
      "babcaecaeb7942d8aba318e14081b83b",
      "7e603515338e42ca98297484fabf3771",
      "8dd09945e51642d1bbbd6eaefd7b7d3d",
      "74308ee4b5d8451ba3ceb66937692079",
      "29be1b76e6574acaacf87f11bc62fc7b",
      "bb7fdc4a7df44a3a9f709b90fcbb77c5",
      "315428ca5d124b19b6a5917490e9b281",
      "ec1c6b19ea724e2396cfeba357d81d21",
      "5355341c02044bd4be46e1468c16a471",
      "7f7b1e6c1941455ebc08a5321a25c2b4",
      "1dddd1433251422fbe4327f15ffe2ff9",
      "ed8d3df528fa46a2aee2db03165cc51e",
      "185256fd9ce34c549116403f3d3b0e01",
      "c971c8a65c2a4bf1ad026ba4e1847164",
      "73ee57621aca4f9eb5fa17cc78b2f17f",
      "506a3c8ceb074a61a795c86989e1da22",
      "47b86958019b499eb9321c3598e8f608",
      "5588edfee42d40e99aa13f5b8e1518c0",
      "d8f38b211e894c1fa34e09fbf4de9d5c",
      "dabbcc58d62a438e8de79640d79f3765",
      "0250dbf70744459ba81a466a7b241f49",
      "3408e027de50454bb4c9dc3ecf1a190f",
      "c000124bd37645239575406cb76da892",
      "ea340908f80846d0ac1c1421125e8f8b",
      "534056786c1a4c04beefd85c3c1609ec",
      "4a07a388f47a4b58870ec94b2e84fe6a",
      "f3bd77c545eb4f61858ba7114c85449d",
      "0a11af851179428cb543b2ab3ee64c5d",
      "a5b8cc9c154d497aa7d0bc383c8da513",
      "c5f6f6decff64e2e81938f72c653d2ba",
      "884206e5943942098ba980cc96f20e99",
      "038e2af716d0436fb0a637c95ad6bb31",
      "c869f23cc3ad44cda8daf29c435fbc1a",
      "0fbcf5dc427e4da0b410da275cbd293c",
      "8ce8b259136143009cd99a240878bc5d",
      "e51758e55feb4586b40c6ab9baad3a29",
      "653c56bc261847b6963d231969fa5b37",
      "c959dcbe72354f83abb95a06e3899537",
      "532d78ccadf54a50a2701bb0e584c12f",
      "83f31e0d76514061b6857f88ba7b1dcb",
      "7270363d70ed4ca8be1002ee4ebf23ed",
      "282ed81be5e4454789285d8e2de16bc5",
      "b9db9335255c4f49835a75782e4bec52",
      "13b0880bde234275b40e67e6afdc0720",
      "1f976f4c6dc54a6f86bfd4a27ca88e3d",
      "b45af483287c48b98383d48fd8af936f",
      "bb84f8760dba4deba827b4a44d976a71",
      "193ac2b604644dd5a1e877ec252b93f6",
      "a15a643a5a794cb093d1ce561b7f5854",
      "93353eec19bd494fbcbb43fb1c32adb9",
      "c5721932984346458941cbb4af828599",
      "e6c61f4063c94539a71bbcacf429113d",
      "db8ff578287141ef89b7c3fcfcf468fd",
      "4a797b59009445f28f19493c8d2514a2",
      "a917f1e07cdd4680ab4356c300cc86ec",
      "74dd1133cda446d395c1c56e0316469a",
      "e1879e2b81b24ab9b94ce12ba5f7d0fb",
      "6fcc06ee1d22455890fe0f314fb05646",
      "d661c463b67c4dd08ec5a3f0a8f36a21",
      "5134af7142584dd189b0facbbe39facf",
      "7876d4be52334c999ebfbf989b7757f2",
      "d056e1ece55b4f60b07ef7e6fe417faa",
      "fea74c0bc0cf41d79fb634951deb365f"
     ]
    },
    "executionInfo": {
     "elapsed": 40054,
     "status": "ok",
     "timestamp": 1746964074957,
     "user": {
      "displayName": "Jynn Choi",
      "userId": "05254382451746305735"
     },
     "user_tz": -540
    },
    "id": "xjAh80bbSSYq",
    "outputId": "010e7424-79dd-474d-9e70-0cfca8ee8e6a"
   },
   "outputs": [],
   "source": [
    "embedding_model = SentenceTransformer(\"dragonkue/bge-m3-ko\")"
   ]
  },
  {
   "cell_type": "raw",
   "metadata": {
    "id": "dOZe5UxmSSYr"
   },
   "source": [
    "## 기존 코드\n",
    "embeddings = embedding_model.encode(texts, batch_size=2, show_progress_bar=True)"
   ]
  },
  {
   "cell_type": "markdown",
   "metadata": {
    "id": "U_Fplyu_TSG6"
   },
   "source": [
    "## mps settings"
   ]
  },
  {
   "cell_type": "code",
   "execution_count": null,
   "metadata": {
    "id": "ZI7wD3L-SSYr"
   },
   "outputs": [],
   "source": [
    "## mps 캐시지우기\n",
    "import torch\n",
    "\n",
    "if device == \"mps\":\n",
    "    torch.mps.empty_cache()       # PyTorch 2.0+ 부터 지원"
   ]
  },
  {
   "cell_type": "code",
   "execution_count": null,
   "metadata": {
    "id": "tFydJWNrSSYr"
   },
   "outputs": [],
   "source": [
    "## mps 최대 제한 없애기\n",
    "import os\n",
    "os.environ[\"PYTORCH_MPS_HIGH_WATERMARK_RATIO\"] = \"0.0\""
   ]
  },
  {
   "cell_type": "code",
   "execution_count": null,
   "metadata": {
    "id": "Hl3diclOSSYr"
   },
   "outputs": [],
   "source": [
    "# MPS -> CPU 폴백 활성화\n",
    "import os\n",
    "os.environ[\"PYTORCH_ENABLE_MPS_FALLBACK\"] = \"1\""
   ]
  },
  {
   "cell_type": "markdown",
   "metadata": {
    "id": "2qw7p-1VTxqY"
   },
   "source": [
    "## sentencetransformer"
   ]
  },
  {
   "cell_type": "code",
   "execution_count": null,
   "metadata": {
    "id": "Y-8yVP5wSSYr"
   },
   "outputs": [],
   "source": [
    "# 0) 모델 & 토크나이저 준비 (FP16 캐스팅済 가정)\n",
    "model = SentenceTransformer(\"dragonkue/bge-m3-ko\", device=\"cuda\")\n",
    "model._modules[\"0\"].auto_model = model._modules[\"0\"].auto_model.half()\n",
    "tokenizer = AutoTokenizer.from_pretrained(\"dragonkue/bge-m3-ko\")"
   ]
  },
  {
   "cell_type": "code",
   "execution_count": null,
   "metadata": {
    "id": "AktLHfx9SSYr"
   },
   "outputs": [],
   "source": [
    "# 1. 토크나이저 준비\n",
    "from sentence_transformers import SentenceTransformer\n",
    "model = SentenceTransformer(\"dragonkue/bge-m3-ko\", device=\"cuda\")\n",
    "model._modules[\"0\"].auto_model = model._modules[\"0\"].auto_model.half()\n",
    "tokenizer = model.tokenizer"
   ]
  },
  {
   "cell_type": "code",
   "execution_count": null,
   "metadata": {
    "id": "1LMgF9CbSSYr"
   },
   "outputs": [],
   "source": [
    "# 2. 슬라이딩 윈도우 함수 정의\n",
    "import numpy as np\n",
    "\n",
    "def embed_paragraph_sliding(para: str,\n",
    "                            max_length: int = 512,\n",
    "                            stride: int = 128) -> np.ndarray:\n",
    "    # 1) 토크나이저에 return_tensors 없이, overflowing만 True로 설정\n",
    "    enc = tokenizer(\n",
    "        para,\n",
    "        max_length=max_length,\n",
    "        truncation=True,\n",
    "        stride=stride,\n",
    "        return_overflowing_tokens=True,\n",
    "        # return_tensors=\"pt\" **제거**\n",
    "    )\n",
    "    # enc['input_ids'] 는 List[List[int]]\n",
    "    chunk_embs = []\n",
    "    for chunk_ids in enc[\"input_ids\"]:\n",
    "        # 2) 토큰 아이디 리스트를 다시 텍스트로 디코딩\n",
    "        text_chunk = tokenizer.decode(chunk_ids, skip_special_tokens=True)\n",
    "        # 3) 모델 임베딩 (batch_size=1 고정)\n",
    "        emb = model.encode(\n",
    "            [text_chunk],\n",
    "            batch_size=1,\n",
    "            show_progress_bar=False\n",
    "        )\n",
    "        chunk_embs.append(emb[0])\n",
    "        # 4) MPS 캐시 파편화 방지\n",
    "        #torch.mps.empty_cache()\n",
    "\n",
    "    # 5) 청크 임베딩 평균\n",
    "    return np.mean(chunk_embs, axis=0)"
   ]
  },
  {
   "cell_type": "code",
   "execution_count": null,
   "metadata": {
    "colab": {
     "base_uri": "https://localhost:8080/"
    },
    "executionInfo": {
     "elapsed": 6910226,
     "status": "ok",
     "timestamp": 1746970994470,
     "user": {
      "displayName": "Jynn Choi",
      "userId": "05254382451746305735"
     },
     "user_tz": -540
    },
    "id": "QoCY9WXhSSYr",
    "outputId": "1496a85a-d48b-4028-c99b-b3988853924c"
   },
   "outputs": [
    {
     "name": "stderr",
     "output_type": "stream",
     "text": [
      "Embedding paragraphs: 100%|██████████| 79942/79942 [1:55:10<00:00, 11.57para/s]\n"
     ]
    }
   ],
   "source": [
    "# 3. 전체 문단에 적용\n",
    "\n",
    "# 전체 문단 리스트\n",
    "paragraphs = texts  # 79942개\n",
    "\n",
    "# 1) MPS 캐시 초기화\n",
    "#torch.mps.empty_cache()\n",
    "\n",
    "# 2) tqdm을 쓰는 임베딩 루프\n",
    "from tqdm import tqdm\n",
    "embeddings = []\n",
    "for para in tqdm(paragraphs, desc=\"Embedding paragraphs\", unit=\"para\"):\n",
    "    embeddings.append(embed_paragraph_sliding(para))\n",
    "\n",
    "# embeddings.shape == (79942, 1024)"
   ]
  },
  {
   "cell_type": "raw",
   "metadata": {
    "id": "F7oT3-JpSSYr"
   },
   "source": [
    "## 여진언니 기본 코드\n",
    "embeddings = embedding_model.encode(\n",
    "    texts,\n",
    "    batch_size=1,\n",
    "    show_progress_bar=True,\n",
    "    device=\"mps\",\n",
    "    precision=\"fp16\"\n",
    ")"
   ]
  },
  {
   "cell_type": "code",
   "execution_count": null,
   "metadata": {
    "id": "t63W7vUsSSYr"
   },
   "outputs": [],
   "source": [
    "import pickle\n",
    "with open(\"embeddings_0511.pkl\", \"wb\") as f:\n",
    "    pickle.dump(embeddings, f)"
   ]
  },
  {
   "cell_type": "code",
   "execution_count": null,
   "metadata": {
    "colab": {
     "base_uri": "https://localhost:8080/"
    },
    "executionInfo": {
     "elapsed": 3,
     "status": "ok",
     "timestamp": 1746970995747,
     "user": {
      "displayName": "Jynn Choi",
      "userId": "05254382451746305735"
     },
     "user_tz": -540
    },
    "id": "tdiZgzTISSYs",
    "outputId": "154bfe82-4990-4f03-9b22-614a17ea84a2"
   },
   "outputs": [
    {
     "name": "stdout",
     "output_type": "stream",
     "text": [
      "79942\n"
     ]
    }
   ],
   "source": [
    "# 임베딩 추출 결과 -> (데이터 개수, 임베딩 차원)\n",
    "print(len(embeddings))"
   ]
  },
  {
   "cell_type": "markdown",
   "metadata": {
    "id": "QPJxUlqwSSYs"
   },
   "source": [
    "## 임베딩 l2 정규화"
   ]
  },
  {
   "cell_type": "code",
   "execution_count": 3,
   "metadata": {
    "executionInfo": {
     "elapsed": 255,
     "status": "ok",
     "timestamp": 1746981719803,
     "user": {
      "displayName": "Jynn Choi",
      "userId": "05254382451746305735"
     },
     "user_tz": -540
    },
    "id": "1prArs4USSYs"
   },
   "outputs": [],
   "source": [
    "import pickle\n",
    "from sklearn.preprocessing import normalize\n",
    "from sklearn.metrics.pairwise import cosine_distances"
   ]
  },
  {
   "cell_type": "code",
   "execution_count": 4,
   "metadata": {
    "executionInfo": {
     "elapsed": 1094,
     "status": "ok",
     "timestamp": 1746981722495,
     "user": {
      "displayName": "Jynn Choi",
      "userId": "05254382451746305735"
     },
     "user_tz": -540
    },
    "id": "_TzEBXT4SSYs"
   },
   "outputs": [],
   "source": [
    "with open(\"./embeddings_0511.pkl\", \"rb\") as f:\n",
    "    embeddings = pickle.load(f)"
   ]
  },
  {
   "cell_type": "code",
   "execution_count": 5,
   "metadata": {
    "executionInfo": {
     "elapsed": 1146,
     "status": "ok",
     "timestamp": 1746981723965,
     "user": {
      "displayName": "Jynn Choi",
      "userId": "05254382451746305735"
     },
     "user_tz": -540
    },
    "id": "BDfRWJAKSSYs"
   },
   "outputs": [],
   "source": [
    "# 코사인 유사도 사용 -> 벡터를 L2 정규화 (벡터 길이를 1로 맞추기)\n",
    "\n",
    "# L2 정규화 수행\n",
    "normalized_embeddings = normalize(embeddings)"
   ]
  },
  {
   "cell_type": "markdown",
   "metadata": {
    "id": "qKjVFKQaSSYs"
   },
   "source": [
    "# UMAP 차원 축소\n",
    "\n",
    "1. `n_neighbors` (기본값: 15)<br>\n",
    "\t•\t이 파라미터는 각 데이터 포인트 주변에서 고려할 이웃의 수를 결정합니다.<br>\n",
    "\t•\t역할: 고차원 공간에서 데이터 간의 관계를 계산할 때, 로컬 구조와 글로벌 구조 간의 균형을 조정합니다. 작은 값은 로컬 구조를 강조하고, 큰 값은 글로벌 구조를 더 잘 보존합니다.<br>\n",
    "\t•\t작은 값(`n_neighbors=5~15`): 데이터의 로컬 클러스터링을 강조.<br>\n",
    "\t•\t큰 값(`n_neighbors=50~200`): 전체 데이터의 글로벌 구조를 더 잘 반영.\n",
    "<br><br>\n",
    "2. `min_dist` (기본값: 0.1)<br>\n",
    "\t•\t저차원 임베딩에서 데이터 포인트 간 최소 거리를 설정합니다.<br>\n",
    "\t•\t역할: 데이터가 얼마나 밀집되거나 분산될지를 결정하며, 클러스터링에 영향을 미칩니다.<br>\n",
    "\t•\t작은 값(`min_dist=0.0~0.1`): 데이터 포인트가 더 밀집되어 클러스터링이 뚜렷해짐.<br>\n",
    "\t•\t큰 값(`min_dist=0.5~1.0`): 데이터 포인트가 더 분산되어 전체적인 구조를 강조.\n",
    "<br><br>\n",
    "3. `n_components`<br>\n",
    "\t•\t임베딩 공간의 차원을 설정합니다.<br>\n",
    "\t•\t역할: UMAP이 데이터를 저차원으로 축소하는 과정에서 최종적으로 생성될 차원의 수를 결정합니다.<br>\n",
    "\t•\t시각화 목적: 일반적으로 2~3차원으로 설정.<br>\n",
    "\t•\t머신러닝 모델 입력: 더 높은 차원(예: 50~100)을 선택하여 원래 데이터의 특징을 충분히 보존.\n",
    "<br><br>\n",
    "4. `metric`<br>\n",
    "\t•\t고차원 공간에서 거리 계산에 사용할 메트릭을 지정합니다.<br>\n",
    "\t•\t역할: 데이터 포인트 간의 유사성을 정의하며, 다양한 메트릭(예: `euclidean`, `cosine`, `manhattan`)을 지원합니다.<br>\n",
    "\t•\t`euclidean`: 기본 거리 계산 방식으로 널리 사용됨.<br>\n",
    "\t•\t`cosine`: 텍스트 데이터나 고차원 벡터에서 자주 사용됨.\n",
    "\n",
    "<br><br>\n",
    "\t1.\t클러스터링 강조: `n_neighbors`를 작게 하고, `min_dist`를 낮게 설정.<br>\n",
    "\t2.\t글로벌 구조 보존: `n_neighbors`를 크게 하고, `min_dist`를 높게 설정.<br>\n",
    "\t3.\t고차원 특징 보존: 높은 `n_components` 선택."
   ]
  },
  {
   "cell_type": "code",
   "execution_count": 6,
   "metadata": {
    "executionInfo": {
     "elapsed": 23702,
     "status": "ok",
     "timestamp": 1746981750273,
     "user": {
      "displayName": "Jynn Choi",
      "userId": "05254382451746305735"
     },
     "user_tz": -540
    },
    "id": "EuDMIVHnSSYs"
   },
   "outputs": [],
   "source": [
    "import umap.umap_ as umap"
   ]
  },
  {
   "cell_type": "code",
   "execution_count": 38,
   "metadata": {
    "colab": {
     "base_uri": "https://localhost:8080/"
    },
    "executionInfo": {
     "elapsed": 184670,
     "status": "ok",
     "timestamp": 1746983775796,
     "user": {
      "displayName": "Jynn Choi",
      "userId": "05254382451746305735"
     },
     "user_tz": -540
    },
    "id": "gPUUe9Z-SSYs",
    "outputId": "eb0671ec-22ee-4022-d88b-407cd7faf42c"
   },
   "outputs": [
    {
     "name": "stdout",
     "output_type": "stream",
     "text": [
      "Starting UMAP transformation...\n"
     ]
    },
    {
     "name": "stderr",
     "output_type": "stream",
     "text": [
      "/usr/local/lib/python3.11/dist-packages/sklearn/utils/deprecation.py:151: FutureWarning: 'force_all_finite' was renamed to 'ensure_all_finite' in 1.6 and will be removed in 1.8.\n",
      "  warnings.warn(\n"
     ]
    },
    {
     "name": "stdout",
     "output_type": "stream",
     "text": [
      "UMAP transformed embedding shape: (79942, 30)\n",
      "UMAP transformed embedding ndim: 2\n"
     ]
    }
   ],
   "source": [
    "# UMAP을 사용하여 차원 축소\n",
    "# n_neighbors: 주변 이웃의 수\n",
    "# n_components: 축소할 차원 수 (2, 10, 20, 50 등)\n",
    "umap_model = umap.UMAP(n_neighbors=5, min_dist=0.1,\n",
    "                       n_components = 30,\n",
    "                       metric = 'cosine', random_state=42, n_jobs=1)\n",
    "\n",
    "print(\"Starting UMAP transformation...\")\n",
    "clusterable_embedding = umap_model.fit_transform(normalized_embeddings) # (79942, 50)\n",
    "print(f\"UMAP transformed embedding shape: {clusterable_embedding.shape}\")\n",
    "print(f\"UMAP transformed embedding ndim: {clusterable_embedding.ndim}\")"
   ]
  },
  {
   "cell_type": "markdown",
   "metadata": {
    "id": "PCiU65oaSSYs"
   },
   "source": [
    "## 코사인 거리 행렬"
   ]
  },
  {
   "cell_type": "code",
   "execution_count": null,
   "metadata": {
    "id": "LNTDHhe9SSYt"
   },
   "outputs": [],
   "source": [
    "# # 코사인 거리 행렬 계산\n",
    "# distance_norm = cosine_distances(clusterable_embedding)\n",
    "# distance_matrix = distance_norm.astype(np.float32)"
   ]
  },
  {
   "cell_type": "code",
   "execution_count": null,
   "metadata": {
    "id": "4ufjcifXSSYt",
    "outputId": "6aec67a6-08a3-412b-dd47-f624d3676cf4"
   },
   "outputs": [
    {
     "data": {
      "text/plain": [
       "(22741, 22741)"
      ]
     },
     "execution_count": 232,
     "metadata": {},
     "output_type": "execute_result"
    }
   ],
   "source": [
    "# distance_matrix.shape"
   ]
  },
  {
   "cell_type": "markdown",
   "metadata": {
    "id": "4AXal5yYSSYt"
   },
   "source": [
    "# HDBSCAN\n",
    "\n",
    "1. min_samples\n",
    "\n",
    "\t•\t의미: 각 포인트가 ’코어 포인트(core point)’로 간주되기 위해 필요한 주변 포인트 수입니다. <br>\n",
    "\t•\t역할: 이 파라미터는 클러스터 경계를 결정하는 데 중요한 역할을 합니다. <br>\n",
    "        기본값은 보통 min_cluster_size와 동일하거나 그보다 작게 설정합니다. 값이 클수록 더 많은 포인트가 노이즈로 분류될 수 있습니다.<br>\n",
    "    •\t작은 값: 세부적인 클러스터를 유지하고 싶을 때.<br>\n",
    "\t•\t큰 값: 전반적인 밀도가 높은 영역만 강조하고 싶을 때.\n",
    "\n",
    "<br><br>\n",
    "\n",
    "\n",
    "2. min_cluster_size\n",
    "\n",
    "\t•\t의미: 클러스터로 간주하기 위해 필요한 최소한의 샘플(포인트) 수를 지정합니다. <br>\n",
    "        최종적으로 형성될 클러스터의 최소 크기를 설정. <br>\n",
    "\t•\t역할: 이 값이 클수록 작은 클러스터는 무시되고, 노이즈로 처리될 가능성이 높아집니다. <br>\n",
    "        반대로 값이 작으면 더 많은 클러스터가 형성될 수 있지만, 노이즈가 클러스터로 잘못 인식될 위험도 있습니다. <br>\n",
    "    •\t작은 값: 소규모 그룹도 중요한 경우. <br>\n",
    "\t•\t큰 값: 더 큰 규모의 구조를 강조하고 싶을 때.\n",
    "\n"
   ]
  },
  {
   "cell_type": "code",
   "execution_count": 8,
   "metadata": {
    "executionInfo": {
     "elapsed": 18,
     "status": "ok",
     "timestamp": 1746982100423,
     "user": {
      "displayName": "Jynn Choi",
      "userId": "05254382451746305735"
     },
     "user_tz": -540
    },
    "id": "qtR3FvBmSSYt"
   },
   "outputs": [],
   "source": [
    "import hdbscan"
   ]
  },
  {
   "cell_type": "code",
   "execution_count": 60,
   "metadata": {
    "colab": {
     "base_uri": "https://localhost:8080/"
    },
    "executionInfo": {
     "elapsed": 61313,
     "status": "ok",
     "timestamp": 1746984807820,
     "user": {
      "displayName": "Jynn Choi",
      "userId": "05254382451746305735"
     },
     "user_tz": -540
    },
    "id": "BDaWU4hdNhPL",
    "outputId": "861378ef-ac03-4cbd-9268-65945a25374e"
   },
   "outputs": [
    {
     "name": "stdout",
     "output_type": "stream",
     "text": [
      "Starting HDBSCAN clustering...\n"
     ]
    },
    {
     "name": "stderr",
     "output_type": "stream",
     "text": [
      "/usr/local/lib/python3.11/dist-packages/sklearn/utils/deprecation.py:151: FutureWarning: 'force_all_finite' was renamed to 'ensure_all_finite' in 1.6 and will be removed in 1.8.\n",
      "  warnings.warn(\n",
      "/usr/local/lib/python3.11/dist-packages/sklearn/utils/deprecation.py:151: FutureWarning: 'force_all_finite' was renamed to 'ensure_all_finite' in 1.6 and will be removed in 1.8.\n",
      "  warnings.warn(\n"
     ]
    },
    {
     "name": "stdout",
     "output_type": "stream",
     "text": [
      "HDBSCAN clustering completed.\n"
     ]
    }
   ],
   "source": [
    "# HDBSCAN 클러스터링 수행 (거리 행렬 대신 임베딩 직접 사용)\n",
    "print(\"Starting HDBSCAN clustering...\")\n",
    "hdbscan_model = hdbscan.HDBSCAN(\n",
    "    metric='euclidean',\n",
    "    # metric=cosine_distances,\n",
    "    min_cluster_size=300,\n",
    "    min_samples=300,\n",
    "    # prediction_data=True, # 필요한 경우\n",
    "    core_dist_n_jobs=1    # Colab에서 병렬 처리 문제 시 1로 설정\n",
    ")\n",
    "\n",
    "# HDBSCAN은 거리 함수를 받으면 X와 X 사이의 거리를 계산합니다.\n",
    "# 이미 UMAP의 결과인 clusterable_embedding은 저차원 벡터 공간에 있으므로,\n",
    "# 이 벡터들 간의 코사인 거리를 계산하도록 HDBSCAN에 지시합니다.\n",
    "labels = hdbscan_model.fit_predict(clusterable_embedding)\n",
    "print(\"HDBSCAN clustering completed.\")"
   ]
  },
  {
   "cell_type": "code",
   "execution_count": 61,
   "metadata": {
    "colab": {
     "base_uri": "https://localhost:8080/"
    },
    "executionInfo": {
     "elapsed": 3,
     "status": "ok",
     "timestamp": 1746984807827,
     "user": {
      "displayName": "Jynn Choi",
      "userId": "05254382451746305735"
     },
     "user_tz": -540
    },
    "id": "Hmr9IfkSMAKV",
    "outputId": "0c85125d-2b6c-41b4-ef6a-41a52cdcc17c"
   },
   "outputs": [
    {
     "name": "stdout",
     "output_type": "stream",
     "text": [
      "클러스터 개수: 9\n",
      "Cluster -1: 10892 documents\n",
      "Cluster 0: 1335 documents\n",
      "Cluster 1: 571 documents\n",
      "Cluster 2: 57320 documents\n",
      "Cluster 3: 1524 documents\n",
      "Cluster 4: 5374 documents\n",
      "Cluster 5: 584 documents\n",
      "Cluster 6: 693 documents\n",
      "Cluster 7: 1254 documents\n",
      "Cluster 8: 395 documents\n"
     ]
    }
   ],
   "source": [
    "# 결과 확인\n",
    "print(f\"클러스터 개수: {len(set(labels)) - (1 if -1 in labels else 0)}\")\n",
    "unique_labels, counts = np.unique(labels, return_counts=True)\n",
    "\n",
    "for label, count in zip(unique_labels, counts):\n",
    "    print(f\"Cluster {label}: {count} documents\")"
   ]
  },
  {
   "cell_type": "markdown",
   "metadata": {
    "id": "1x7O0CKrSSYv"
   },
   "source": [
    "## 차원 축소 시각화"
   ]
  },
  {
   "cell_type": "code",
   "execution_count": 13,
   "metadata": {
    "colab": {
     "base_uri": "https://localhost:8080/"
    },
    "executionInfo": {
     "elapsed": 99565,
     "status": "ok",
     "timestamp": 1746982399188,
     "user": {
      "displayName": "Jynn Choi",
      "userId": "05254382451746305735"
     },
     "user_tz": -540
    },
    "id": "6KktmWZ3SSYv",
    "outputId": "6eb676cf-5ec5-436d-ad12-a493886a4e6c"
   },
   "outputs": [
    {
     "name": "stderr",
     "output_type": "stream",
     "text": [
      "/usr/local/lib/python3.11/dist-packages/sklearn/utils/deprecation.py:151: FutureWarning: 'force_all_finite' was renamed to 'ensure_all_finite' in 1.6 and will be removed in 1.8.\n",
      "  warnings.warn(\n"
     ]
    }
   ],
   "source": [
    "# UMAP을 통한 2차원 축소\n",
    "reducer_2d = umap.UMAP(n_neighbors=15, n_components=2, metric='cosine')\n",
    "embedding_2d = reducer_2d.fit_transform(embeddings)"
   ]
  },
  {
   "cell_type": "code",
   "execution_count": 62,
   "metadata": {
    "colab": {
     "base_uri": "https://localhost:8080/",
     "height": 718
    },
    "executionInfo": {
     "elapsed": 1421,
     "status": "ok",
     "timestamp": 1746984816711,
     "user": {
      "displayName": "Jynn Choi",
      "userId": "05254382451746305735"
     },
     "user_tz": -540
    },
    "id": "6lELo23mSSYw",
    "outputId": "f22a0461-78b4-42a1-d1e1-9257f0bd7798"
   },
   "outputs": [
    {
     "data": {
      "image/png": "[encoded data removed]",
      "text/plain": [
       "<Figure size 1000x800 with 2 Axes>"
      ]
     },
     "metadata": {},
     "output_type": "display_data"
    }
   ],
   "source": [
    "# -1 클러스터(노이즈)를 제외하고 산점도 시각화\n",
    "mask = labels != -1\n",
    "plt.figure(figsize=(10, 8))\n",
    "plt.scatter(embedding_2d[mask, 0], embedding_2d[mask, 1], c=labels[mask], cmap='Spectral', s=5)\n",
    "plt.title('UMAP dimension reduction & HDBSCAN clustering result')\n",
    "plt.xlabel('UMAP 1')\n",
    "plt.ylabel('UMAP 2')\n",
    "plt.colorbar(label='Cluster Label')\n",
    "plt.show()"
   ]
  },
  {
   "cell_type": "markdown",
   "metadata": {
    "id": "9FBW4MwmSSYw"
   },
   "source": [
    "## 데이터 프레임 추가"
   ]
  },
  {
   "cell_type": "code",
   "execution_count": 64,
   "metadata": {
    "colab": {
     "base_uri": "https://localhost:8080/",
     "height": 459
    },
    "executionInfo": {
     "elapsed": 6671,
     "status": "ok",
     "timestamp": 1746985044418,
     "user": {
      "displayName": "Jynn Choi",
      "userId": "05254382451746305735"
     },
     "user_tz": -540
    },
    "id": "6-b9kBOzSSYw",
    "outputId": "819f7abe-5219-4566-9db8-4f5f0975c292"
   },
   "outputs": [
    {
     "data": {
      "application/vnd.google.colaboratory.intrinsic+json": {
       "summary": "{\n  \"name\": \"df\",\n  \"rows\": 79942,\n  \"fields\": [\n    {\n      \"column\": \"source\",\n      \"properties\": {\n        \"dtype\": \"category\",\n        \"num_unique_values\": 3,\n        \"samples\": [\n          \"\\ube14\\ub85c\\uadf8\",\n          \"\\uce74\\ud398\",\n          \"\\ube14\\ub77c\\uc778\\ub4dc\"\n        ],\n        \"semantic_type\": \"\",\n        \"description\": \"\"\n      }\n    },\n    {\n      \"column\": \"search_words\",\n      \"properties\": {\n        \"dtype\": \"category\",\n        \"num_unique_values\": 6,\n        \"samples\": [\n          \"\\uc544\\uae30+\\uc7a0\\uae68\",\n          \"\\ub0ae\\uc7a0+\\uc544\\uae30\",\n          \"\\uc544\\uae30+\\uc790\"\n        ],\n        \"semantic_type\": \"\",\n        \"description\": \"\"\n      }\n    },\n    {\n      \"column\": \"url\",\n      \"properties\": {\n        \"dtype\": \"string\",\n        \"num_unique_values\": 68894,\n        \"samples\": [\n          \"https://blog.naver.com/sh93320/223162752120\",\n          \"https://blog.naver.com/hm_day/223220016746\",\n          \"https://blog.naver.com/me_llamo_tina/223172796795\"\n        ],\n        \"semantic_type\": \"\",\n        \"description\": \"\"\n      }\n    },\n    {\n      \"column\": \"title\",\n      \"properties\": {\n        \"dtype\": \"category\",\n        \"num_unique_values\": 24141,\n        \"samples\": [\n          \"1\\uac1c\\uc6d4\\uc544\\uae30 \\ubc1c\\ub2ec\\uae30\\ub85d \\uc2e0\\uc0dd\\uc544 \\ud1b5\\uc7a0 \\uc218\\uc720\\ud140 \\ubd84\\uc720\\ub7c9 \\ud130\\ubbf8\\ud0c0\\uc784\",\n          \"2\\uac1c\\uc6d4 \\uc544\\uae30 \\ub0ae\\uc7a0,\\ubc24\\uc7a0 \\ubd10\\uc8fc\\uc138\\uc694\\u315c\\u315c\",\n          \"\\uc5b4\\ub9b0\\uc774\\uc9d1 \\ub0ae\\uc7a0\\uc774\\ubd88 \\uc138\\ud2b8 \\ub3c4\\ub178\\ub3c4\\ub178 \\uc77c\\uccb4\\ud615 \\uac74\\uc870\\uae30 \\uac00\\ub2a5 \\ub0ae\\uc7a0\\uc774\\ubd88\"\n        ],\n        \"semantic_type\": \"\",\n        \"description\": \"\"\n      }\n    },\n    {\n      \"column\": \"contents\",\n      \"properties\": {\n        \"dtype\": \"string\",\n        \"num_unique_values\": 77100,\n        \"samples\": [\n          \"\\uce5c\\uad6c \\uc0dd\\uc77c\\uc774\\ub77c \\uc0dd\\uc77c \\ucd95\\ud558\\ub3c4 \\uc5f4\\uc2ec\\ud788 \\ud574\\uc8fc\\uc5c8\\ub2e4\\uace0 \\ud588\\uc5b4. \\uc9d1\\uc5d0 \\ub3cc\\uc544\\uc628 \\ud589\\ubcf5\\uc774\\ub294 \\uc774\\uc720\\uc2dd\\uc744 \\uac70\\ubd80 \\ubd84\\uc720 \\uba39\\uace0 \\ub0b8\\ub0b4 \\ucf54\\ucf54 \\ud588\\ub2e8\\ub2e4. \\uc790\\ub2e4\\uac00 \\ub07c\\uc789 \\uac70\\ub824\\uc11c \\uc5c4\\ub9c8\\uac00 \\ud1a0\\ub2e5\\ud1a0\\ub2e5\\ud558\\uba70 \\uc606\\uc5d0 \\uc788\\uc5b4\\uc8fc\\uc5c8\\uc5b4. \\ub0ae\\uc7a0 \\uc790\\uace0 \\uc77c\\uc5b4\\ub09c \\ud589\\ubcf5\\uc774\\uc5d0\\uac8c \\ub2e4\\uc2dc \\uc774\\uc720\\uc2dd \\uc8fc\\ub294\\ub370 \\uc548 \\uba39\\ub294 \\uac70\\uc57c. \\uadf8\\ub798\\uc11c \\uc774\\uc720\\uc2dd\\uc744 \\uc816\\ubcd1\\uc5d0 \\ub123\\uc5b4\\uc8fc\\ub2c8 \\ucabd\\ucabd\\ucabd \\uba39\\uc5b4 \\uadf8\\ub7ec\\ub2e4 \\ube68\\ub300\\ucef5\\uc73c\\ub85c \\uc62e\\uaca8 \\uc8fc\\uc5c8\\ub354\\ub2c8 \\ub610 \\uc798 \\uba39\\ub294 \\uac70\\uc57c. \\uc5c4\\ub9c8\\ub294 \\ud589\\ubcf5\\uc774 \\uc774 \\uc0e4\\uc6cc\\ub97c \\ud588\\uc5b4. \\uc695\\uc2e4\\uc5d0\\ub294 \\uc5bc\\ub9c8 \\uc804\\uc5d0 \\ubc1b\\uc740 \\uc0ac\\ub791\\uc774\\uc758 \\uadc0\\uc5fd\\uace0 \\uc791\\uc740 \\ubd84\\ud64d\\uc0c9 \\uc2ac\\ub9ac\\ud37c\\uac00 \\uc788\\ub294\\ub370 \\uc544\\ub4e4 \\ubd84\\ud64d \\uc2ac\\ub9ac\\ud37c \\uadc0\\uc5ec\\uc6cc! \\ub97c \\uc678\\uce58\\uba70 \\ud589\\ubcf5\\ud55c \\ubbf8\\uc18c\\ub97c \\uc9c0\\uc5c8\\uc5b4 \\uc0e4\\uc6cc \\ub05d\\ub09c \\ud6c4 \\ud589\\ubcf5\\uc774\\ub294 \\ub0ae\\uc7a0\\uc740 \\uc790\\uace0 \\uc0ac \\ub791\\uc774\\ub294 \\ubc25\\uc744 \\uba39\\uc5c8\\ub294\\ub370 \\ud55c \\uadf8\\ub987 \\ub69d \\ub531!! \\ud558\\uace4 \\ub538\\uae30\\ub3c4 \\uba39\\uc5c8\\uc9c0. \\ub0ae\\uc7a0 \\uc790\\uace0 \\uc77c\\uc5b4\\ub09c \\ud589\\ubcf5\\uc774\\ub294 \\ubc25\\uc744 \\uc798 \\uba39\\uc9c0 \\uc54a\\uc558\\uc5b4. \\uc774\\uc81c \\uc2ac\\uc2ac \\ubd84\\uc720 \\uc904\\uc774\\uace0 \\uc774\\uc720\\uc2dd \\ub298\\ub824\\uc57c \\ud558\\ub294\\ub370 \\uc774\\uc720\\uc2dd\\uc744 \\uc5ed\\uc2dc \\ud3c9\\uc77c\\uc5d0 \\uc0ac\\ub791\\uc774\\ub294 \\uc774\\ubd88\\uc5d0\\uc11c \\ub4b9\\uad74\\ub4b9\\uad74\\ud558\\uba70 \\uc27d\\uac8c \\uc77c\\uc5b4\\ub098\\uc9c0 \\ubabb\\ud588\\uc5b4 \\uadf8\\ub798\\ub3c4 \\uc5c4\\ub9c8\\uc758 \\uc721\\uc544 \\uc2a4\\ud0ac\\ub85c \\uc77c\\uc5b4\\ub098\\uac8c \\uc131\\uacf5\\ud55c \\uc0ac\\ub791\\uc774\\uc640 \\ud589\\ubcf5\\uc774\\ub294 \\uc5b4\\ub9b0\\uc774\\uc9d1\\uc5d0 \\uac08 \\uc900\\ube44\\ub97c \\ud588\\uc9c0 \\ub5a1\\ubee5 \\uba39\\uace0 \\ud589\\ubcf5\\uc774 \\uc785\\uc5d0\\ub3c4 \\ub123\\uc5b4\\uc8fc\\uace0 \\uc624\\ub298 \\uc5b4\\ub9b0\\uc774\\uc9d1\\uc5d0\\uc11c \\uccb4\\uc721\\uacf5\\uc6d0\\uc5d0 \\uac04\\ub2e4\\uace0 \\uc77c\\ucc0d \\uc5b4\\ub9b0\\uc774\\uc9d1\\uc5d0 \\uac00\\uc57c \\ub41c\\ub2e4\\uace0 \\uc774\\uc57c\\uae30\\ud574\\uc8fc\\uc5c8 \\ubf40\\ub85c \\ud558\\uace0 \\ub09c\\ub9ac\\uc600\\ub2e8\\ub2e4. \\uadf8\\ub7ec\\ub2e4 \\uac11\\uc790\\uae30 \\uc7a0\\ub4e4\\uc5b4 \\uc788\\ub294 \\uc544\\uac00\\ub4e4\\uc774\\uc57c. \\uc624\\ub298\\ub3c4 \\uc5c4\\ub9c8 \\uc544\\ube60\\ub294 \\uc0ac\\ub791\\uc774\\uc640 \\ud589\\ubcf5\\uc774 \\ub355\\ubd84\\uc5d0 \\ub9ce\\uc774 \\uc6c3\\uc5c8\\uc5b4 \\uace0\\ub9c8\\uc6cc. D 915 \\uc0ac\\ub791\\uc774 \\ud558\\ub8e8 \\uc0ac\\ub791\\uc774\\ud558\\ub8e8 \\uc721\\uc544\\uc77c\\uae30 \\uc721\\uc544\\ube0c\\uc774\\ub85c\\uadf8 m.blog.naver.com D 375 \\ud589\\ubcf5\\uc774 \\ud558\\ub8e8 \\ud589\\ubcf5\\uc774\\ud558\\ub8e8 \\uc721\\uc544\\uc77c\\uae30 \\uc721\\uc544\\ube0c\\uc774\\ub85c\\uadf8 m.blog.naver.com\",\n          \"\\uc794\\uc794\\ud558\\uac8c \\ud53c\\uace4\\ud55c\\ub370 \\ub098\\uc058\\uc9c4 \\uc54a\\ub2e4 \\uc624 \\ub0b4\\uac00 \\ud55c \\ub9d0\\uc774\\uc9c0\\ub9cc \\uc801\\uc808\\ud55c \\ud45c\\ud604\\uc778\\ub4ef?? \\ubc8c\\uc368 4\\uac1c\\uc6d4\\uc774 \\uac00\\uae4c\\uc6cc\\uc838 \\uc624\\ub2e4\\ub2c8 3\\uac1c\\uc6d4 \\uc544\\uae30 \\uc721\\uc544\\ub294 \\uc880 \\uc815\\uc2e0\\uc774 \\uc5c6\\ub2e4. \\uadf8\\ub807\\uc9c0\\ub9cc \\ub610 \\ud06c\\uac8c \\ub2ec\\ub77c\\uc9c4 \\uac8c \\uc5c6\\ub294 \\uac83 \\uac19\\uae30\\ub3c4 \\ud558\\uace0..? \\uc57c\\uad6c \\uae08\\uba54\\ub2ec \\ub300\\ub9cc \\ud558\\ub098\\ub9cc \\uc774\\uae30\\uba74 \\ub418\\ub294 \\ub300\\ud68c\\ub77c\\ub2c8 \\ucc38 \\ud604\\ud0c0\\uc624\\uba74\\uc11c\\ub3c4 \\uae40\\ud61c\\uc131\\uc774 \\uad70\\uba74\\uc81c\\ub77c\\ub2c8 \\uadf8\\uac8c \\ub610 \\uc88b\\uace0 \\ub098\\ub3c4 \\uaf64\\ub098 \\ub2e8\\uc21c\\ud558\\ub124 \\ubcd1\\uc5ed\\ubb38\\uc81c\\ub294 \\uc6cc\\ub099 \\ubbfc\\uac10\\ud55c \\uc598\\uae30\\uc774\\ub2c8 \\ub354 \\uc598\\uae30\\ud558\\uc9c0 \\uc54a\\ub294 \\uac78\\ub85c \\uc800\\ubc88\\uc5d0 \\uc5b4\\uba38\\ub2d8\\uaed8\\uc11c \\ud574\\uc8fc\\uc2e0 \\ub2e8\\ud638\\ubc15\\uc2a4\\ud504\\uac00 \\ub108\\uc5b4\\uc5b4\\ubb34 \\ub9db\\uc788\\uc5b4\\uc11c \\ub098\\ub3c4 \\ube44\\ubc95 \\uc804\\uc218\\ubc1b\\uc544 \\ub3c4\\uc804 \\ub2f9\\uadfc\\uc774 \\ub35c \\ub4e4\\uc5b4\\uac00\\uc11c \\uadf8\\ub7f0\\uc9c0 \\uadf8\\ub54c\\ub9cc\\ud07c\\uc740 \\uc544\\ub2c8\\uc5c8\\ub2e4 \\ubb54\\uac00.. \\ud638\\ubc15\\uc8fd\\ub290\\ub08c?? \\uadf8\\ub798\\ub3c4 \\ub9db\\uc788\\uac8c \\ud55c\\ub07c \\ub0e0 \\uc694\\uc998 \\uacf5\\uad6c\\uc5d0 \\ube60\\uc84c\\ub2e4. \\ub0b4\\uac00 \\uc624\\ub798 \\uc804 8 9\\ub144\\uc804? \\ube14\\ub85c\\uadf8\\ub97c \\ud558\\uac8c \\ub41c \\uacc4\\uae30\\uac00 \\ud574\\uc090\\ub2d8 \\ube14\\ub85c\\uadf8\\ub97c \\ubd24\\ub358 \\uadf8\\ub54c\\uc600\\ub294\\ub370.. \\uadf8\\ub140\\uc758 \\ub0a8\\ud3b8 \\uc2b9\\uc0c1\\ub2d8\\uc774 \\ub610 \\uacf5\\uad6c\\ub97c \\uc5f4\\uc2ec\\ud788 \\uc5f4\\uace0 \\uacc4\\uc2ec Tmi \\uadf8 \\ubd80\\ubd80\\uc758 \\uc560\\uae30\\ub3c4 \\ub465\\uae00\\uc774\\ub791 1\\uc8fc\\uc77c \\ucc28\\uc774\\ub0a8.. \\uadf8 \\uc804\\uc5d4 \\ubcc4 \\uad00\\uc2ec\\uc5c6\\ub2e4\\uac00 \\ud480\\ub9ac\\uc624 \\uc88b\\uc544\\ubcf4\\uc5ec\\uc11c \\uc0c0\\ub294\\ub370 \\uadf8 \\ub4a4\\uc5d0 \\uba85\\ub780\\uae40\\ub3c4 \\uc0c0\\uad6c\\uc694? \\ud30c\\ub77c\\ud540\\uae30\\ub3c4 \\uc0c0\\uad6c\\uc694? \\uadfc\\ub370 \\ubaa8\\ub450 \\uad1c\\ucc2e\\uc558\\uc74c \\ud30c\\ub77c\\ud540\\uc740 \\ub098\\ub9cc \\ud558\\ub294\\uac8c \\uc544\\uc27d\\uc9c0\\ub9cc \\ud2b9\\ud788 \\ud480\\ub9ac\\uc624 \\uc774\\uac70 \\uc88b\\ub2e4! \\uc544\\ube60 \\uc0dd\\uc2e0 \\ub465\\uae00\\uc774 \\ub54c\\ubb38\\uc5d0 \\uc815\\uc2e0\\uc5c6\\uc5c8\\uc9c0\\ub9cc \\ud30c\\ud2f0\\ub3c4 \\uc798 \\ub9c8\\uce68! \\uadf8\\ub9ac\\uace0 \\uc774 \\ucc45\\ub4e4.. \\uc544\\ub2c8 \\uc774 \\ucc45\\ub4e4 \\ub05d\\uae4c\\uc9c0 \\uc77d\\uc5b4\\uc8fc\\uc2dc\\ub294 \\ubd84\\ub4e4 \\uacc4\\uc2e4\\ub7f0\\uc9c0 \\uc6b0\\ub9ac \\ubd80\\ubd80\\ub294 \\ucd08\\ucd08 \\uac8c\\uc744\\ub7ec\\uc11c \\uc55e\\uc5d0 \\uba87\\uc7a5\\uc77d\\uace0 \\ub05d \\ub2f9\\uadfc \\ub0b4\\ub1a8\\ub294\\ub370 \\uc785\\uc9c8\\ub3c4 \\uc548\\uc628\\ub2e4 \\ud751\\ud751 \\uc694\\uc998\\uc740 \\ubab8\\uc73c\\ub85c \\ub180\\uc544\\uc8fc\\ub294 \\uc911\\uc774\\ub2e4. \\uc7a5\\ub09c\\uac10\\ubcf4\\ub2e4 \\uc774\\ub7f0 \\uc560\\ucc29\\ud615\\uc131\\uc744\\ub354 \\uc88b\\uc544\\ud558\\ub294 \\ub4ef \\ub465\\uae00 \\ub118 \\uadc0\\uc5ec\\uc6cc.. \\uc4f0\\uace0 \\uc788\\ub294\\ub370 \\uc560\\uae30\\uac00 \\uae68\\ub824\\uace0 \\ud55c\\ub2e4.. \\ube68\\ub9ac \\uc4f0\\uace0 \\uac00\\uc57c\\ub514 \\uc218\\uc694\\uc77c\\uc5d0\\ub294 \\ub465\\uae00 \\uc9c4\\ub8cc\\uac00 \\uc788\\uc5c8\\ub2e4. \\ubc1c\\ubcd1 2\\uc8fc \\ud6c4 \\uc2ec\\ucd08\\uc74c\\ud30c \\uacb0\\uacfc \\uc815\\uc0c1! \\ubc1c\\ubcd1\\ub2f9\\uc2dc\\uc5d0\\ub3c4 \\uc815\\uc0c1\\uc774\\uc5c8\\uc9c0\\ub9cc \\ub9e4\\uc6b0 \\uae34\\uc7a5\\ud588\\ub294\\ub370 \\uc9c0\\uae08\\ub3c4 \\uc815\\uc0c1\\uc774\\ub77c\\ub2c8 \\ub118 \\ub2e4\\ud589\\uc774\\uc5c8\\ub2e4. \\ubcd1 \\uc790\\uccb4\\ubcf4\\ub2e4 \\ud6c4\\uc720\\uc99d\\uc774 \\ub354 \\ud070\\uc9c0\\ub77c.. \\uc55e\\uc73c\\ub85c\\ub3c4 \\uc870\\uc2ec \\uc911\\uac04\\uc5d0 \\uc720\\ubaa8\\ucc28\\uc5d0\\uc11c \\uc7ac\\uc6e0\\ub294\\ub370 \\ub108\\ubb34 \\uc798\\uc790\\uc92c\\ub2e4. \\uc9d1\\uc5d0\\uc11c\\ub3c4 \\ub4f1\\ub300\\uace0 \\uc798 \\uc218 \\uc788\\uc9c0? \\uc81c\\ub2c8\\uc2a4\\uc2a4\\ud29c\\ub514\\uc624\\uc5d0\\uc11c \\ubc1b\\uc740 12\\ud398\\uc774\\uc9c0 \\uc568\\ubc94 \\uc870\\ub9ac\\uc6d0\\uc5d0\\uc11c \\ub274\\ubcf8\\ucd2c\\uc601 \\ud6c4 50\\uc77c\\ucd2c\\uc601\\uae4c\\uc9c0 \\uac14\\ub294\\ub370 \\uc6b0\\ub9ac\\ub294 \\uc131\\uc7a5\\uc568\\ubc94\\uc744 \\uacc4\\uc57d\\ud55c \\uc0c1\\ud0dc\\ub77c \\ub530\\ub85c \\ub3c8\\uc744 \\uc4f0\\uc9c4 \\uc54a\\uc558\\ub2e4. \\uadf8\\ub798\\ub3c4 \\uc568\\ubc94 \\uc798 \\ub9cc\\ub4e4\\uc5b4\\uc8fc\\uc154\\uc11c \\uac10\\uc0ac\\ud588\\ub2e4. \\uadf8\\ub9ac\\uace0 \\uc5c4\\ub9c8 \\ud658\\uac11\\uae30\\ub150 \\uc800\\ubc88\\uc5d0 \\uc120\\ubb3c \\uc0ac\\ub4dc\\ub9b0 \\ub370 \\uc774\\uc5b4 \\uc544\\ube60\\uac00 \\uc0ac\\uc8fc\\ub294 \\uc120\\ubb3c\\uc0ac\\ub7ec \\ub86f\\ub370 \\uc560\\ube44\\ub274\\uc5d8\\ub85c \\uace0\\uace0 \\ubd88\\uac00\\ub9ac \\ube44\\uc81c\\ub85c\\uc6d0 \\ubaa9\\uac78\\uc774.. \\ud30c\\ubca0\\ub791 \\uace0\\ubbfc\\ud588\\uc9c0\\ub9cc \\uc5c4\\ub9c8\\ub294 \\ube0c\\ub77c\\uc6b4\\uc138\\ub77c\\ubbf9\\uc774 \\uc5b4\\uc6b8\\ub824\\uc11c \\ub85c\\uace8 \\ube0c\\ub77c\\uc6b4\\uc73c\\ub85c \\uc815\\ud588\\ub2e4. \\ubd88\\uac00\\ub9ac \\ud06c\\uac8c \\uad00\\uc2ec\\uc5c6\\ub358 \\ube0c\\ub79c\\ub4dc\\uc778\\ub370 \\uaf64\\ub098 \\uace0\\uae09\\uc838\\ubcf4\\uc774\\uace0 \\ub2e4 \\uc608\\uc058\\ub354\\ub77c. \\ub465\\uae00\\uc774\\uc758 \\uc694\\uc998 \\uad00\\uc2ec\\uc0ac\\ub294 \\ucf58\\ud478\\ub85c\\uc2a4\\ud2b8 \\uc0c9\\uae54 \\ud654\\ub824\\ud558\\uace0 \\uadf8\\ub9bc\\ub3c4 \\uc788\\uc5b4\\uc11c \\uc88b\\uc544\\ud558\\ub294 \\uac83 \\uac19\\ub2e4. \\uc774\\ucbe4\\uc5d0\\uc11c \\ub465\\uae00\\uc774\\uc758 \\uc694\\uc998\\uc744 \\uc801\\uc5b4\\ubcf4\\uc790\\uba74 \\ud06c\\uac8c \\ub2ec\\ub77c\\uc9c4 \\uac74 \\uc5c6\\uc9c0\\ub9cc 1. \\uc190\\uc744 \\ub108\\uc5b4\\uc5b4\\uc5b4\\ubb34 \\ube64\\ub2e4. \\uce58\\ubc1c\\uae30 \\uba87\\uac1c\\ub97c \\uc950\\uc5b4\\uc92c\\uc9c0\\ub9cc \\uc9c4\\uc9dc \\uc548\\ubb3c\\ub354\\ub2c8 \\uba54\\ub514\\ud1a0\\uc774 \\uce58\\ubc1c\\uae30 \\uc774\\uac74 \\uc880 \\ubb34\\ub294\\ub4ef 2. \\uc694\\uc998\\uc740 \\ub610 \\uc790\\uae30\\uc8fc\\uc7a5\\uc774 \\uaf64\\ub098 \\uac15\\ud574\\uc838\\uc11c \\uc2e0\\uacbd\\uc9c8\\ub0b4\\uba74\\uc11c \\uc6b8 \\ub54c\\ub3c4 \\uc788\\ub294\\ub370 \\uadf8\\uac83\\ub3c4 \\uadc0\\uc5fd\\ub2e4 \\ubb3c\\ub860 \\uc548\\uadc0\\uc5ec\\uc6b8 \\ub54c\\ub3c4 \\ub9ce\\uc74c.. 3. \\ub4a4\\uc9d1\\uae30\\uc5f0\\uc2b5\\uc740 \\uc694\\uc998\\ub3c4 \\uc5f4\\uc2ec\\ud788 \\ud558\\ub294\\ub370 \\uc65c \\ub3cc\\uc544\\ub204\\uc6cc\\uc11c \\uc5f4\\uc2ec\\ud788 \\uc190\\uc744 \\ube68\\uc9c0.. \\uc190\\uc744 \\uc9da\\uc5b4\\uc57c \\ub4a4\\uc9d1\\uc9c0 \\uc131\\uc2e4\\ud558\\uac8c \\uc5f0\\uc2b5\\ud558\\uace0 \\uc788\\uc9c0 \\uc54a\\uc740 \\uac78 \\ubd10\\uc120 \\uc2dc\\uac04 \\uc880 \\uac78\\ub9b4\\ub4ef 4. \\uc2ac\\ud504\\uac8c\\ub3c4 \\uc7a0\\uc744 \\ud3c9\\uc18c\\uc5d0 \\ube44\\ud574 \\uc798 \\uc548\\uc794\\ub2e4.. \\ub465\\uae00\\uc774\\ub294 \\uc7a0\\uc5d0 \\uc788\\uc5b4\\uc120 \\uc9c4\\uc9dc \\ub2e4\\ub978 \\uc560\\uae30\\ub4e4\\uc5d0 \\ube44\\ud574 \\uac71\\uc815 \\uc548\\uc2dc\\ud0a4\\ub294 \\uc544\\uae30\\uc778\\ub370.. \\uc694\\uc998\\uc740 \\ub0ae\\uc7a0\\ub3c4 \\uae08\\ubc29 \\uae68\\uace0 \\uc0c8\\ubcbd\\uc5d0 \\ud55c\\ubc88 \\uae68\\uba74 \\uaf64 \\uc624\\ub79c\\uc2dc\\uac04 \\uc548\\uc794\\ub2e4.. \\ucabd\\ucabd\\uc774 \\ubb3c\\ub824\\uc8fc\\uba74 \\uae08\\ubc29 \\ubc49\\uace0 \\uc190 \\ube68\\ub824\\uace0 \\ud568 4\\uac1c\\uc6d4\\ucbe4 \\ub418\\uba74 \\ub0ae\\uc7a0\\uc2dc\\uac04\\ub3c4 \\uc904\\uace0 \\uc0c8\\ubcbd\\uc5d0\\ub3c4 \\uc885\\uc885 \\uae6c\\ub2e4\\ub294\\ub370.. \\ub2e4\\ub978\\uac74 \\ubaa8\\ub974\\uaca0\\uace0 \\ub465\\uae00\\uc774\\uac00 \\ub9ce\\uc774 \\ud53c\\uace4\\ud558\\uc9c0 \\uc54a\\uc73c\\uba74 \\uc88b\\uaca0\\uc5b4 \\uc624\\ub298\\uc740 \\ube44\\uac00 \\uc624\\ub124 \\ud14c\\ub77c\\uc2a4\\ub97c \\ubcf4\\ub2c8 \\uc6b4\\uce58\\uc788\\uad70.. \\uc774 \\uc544\\ub2c8\\uace0 \\uc7ac\\ube68\\ub9ac \\uc758\\uc790 \\uc138\\uc6cc\\ub193\\uace0 \\uc2ac\\ub9ac\\ud37c \\uc138\\uc6cc\\ub194\\uc57c \\ud55c\\ub2e4. \\uc544\\ub2c8\\uba74 \\ubb3c \\ub2e4 \\uace0\\uc784 \\ub0ad\\ub9cc\\ud30c\\uad34 \\uc815\\uc2e0\\uc5c6\\uac8c \\uc37c\\uc9c0\\ub9cc \\ub465\\uae00\\uc774 \\uc790\\ub294 \\uc2dc\\uac04\\uc5d0 \\uc368\\uc57c \\ud558\\uae30 \\ub54c\\ubb38\\uc5d0 \\uc5b4\\uca54 \\uc218 \\uc5c6\\uc5c8\\ub2e4. \\ub098 \\ubcf4\\ub824\\uace0 \\uc4f0\\uace0 \\uc788\\ub294 \\uc77c\\uc0c1\\ud3ec\\uc2a4\\ud305 \\ub05d\",\n          \"3\\ub144\\ub9cc\\uc5d0 \\ub86f\\ub370\\uc6d4\\ub4dc!!!! \\uac00\\uae30\\uc804\\uc5d0 \\uac74\\ub300 \\uc9c0\\ud558\\ucca0\\uc5ed \\uc55e\\uc5d0\\uc11c \\uac04\\ub2e8\\ud788 \\uc544\\uce68 \\ud574\\uacb0 !!! \\ub0a0\\uc528 \\ubaa8\\uc57c \\ube44\\uc628\\ub2e4\\uba70? \\ub098 \\ud589\\ubcf5\\ud574 \\uc815\\ub9d0!! \\uad50\\ubcf5 \\uace8\\ub77c \\uace8\\ub77c \\uc774\\uc05c\\uac70 \\uc9f1 \\ub9ce\\uc544 \\ub514\\uc790\\uc7782\\ubc8c \\ub9cc \\uc785\\uc744\\uc218\\uc788\\ub2e4\\ub124 \\ud551\\ud06c \\ud68c\\uc0c9 \\ud68c\\uc0c9\\ub108\\ub2e4 \\ub4e4\\uc5b4\\uac04\\ub2e4\\uc789 \\ub86f\\ub370\\uc6d4\\ub4dc \\uafc8\\uacfc \\ud658\\uc0c1\\uc758 \\ub098\\ub77c \\uc5d0\\ubc84..\\ub86f\\ub370\\uc6d4\\ub4dc!! \\uc0ac\\uc9c4 \\uc798\\ucc0d\\uc5b4\\uc918 \\uc544\\uc8fc \\uc77c\\ucc10 \\uc774\\ub791 \\uc774\\uc9c4\\uc774 \\ud53c\\uc5b4\\uc2f1\\ud568 \\uc77c\\ube60\\ub85c \\ud0c0\\uc8fc\\uace0 \\uc0ac\\ud30c\\ub9ac \\uae30\\ub2e4\\ub9ac\\uba74\\uc11c \\ud55c\\ucef7 \\ud568\\ubc15 \\uc6c3\\uc74c \\ub354\\uc6cc\\ub3c4 \\uc990\\uac70\\uc6c0 \\uce04\\ub7ec\\uc2a4 \\ud06c\\ub85c\\uc2a4 \\uc778\\uc0dd\\ub124\\ucef7 \\uc5ec\\uae30 \\uc904\\uc11c\\uc11c \\ucc0d\\uc5c8\\ub294\\ub370 \\uc798\\ub098\\uc640 \\uadf8\\ub7f4\\ub9cc\\ud574 \\ubcf8 \\uaca9 \\uc801 \\uc73c \\ub85c \\uc2dc \\uc791 \\uc778\\uc0dd\\uc0f7 \\uac10\\uc0ac\\uc694 \\uc785\\uc220 \\ub108\\ubb34 \\uc544\\ud2c0\\ub780\\ud2f0\\uc2a4 \\uae30\\ub2e4\\ub9ac\\ub294 \\uc904 \\uae30\\ub2e4\\ub77c\\uba74\\uc11c \\uc791\\uc740 \\uc544\\uae30\\uc0c8 \\uc0dd\\uac01 \\ub098\\ub124.. \\uc544\\uae30\\uc0c8 \\uac00\\uc871 \\ub354\\uc6cc \\uadf8\\ub298\\uc774 \\ud314\\uc694\\ud574 \\uc228\\uc5b4\\uc11c \\ud578\\ub4dc\\ud3f0 \\ud558\\uae30 \\ucf5c\\ud31d\\ub3c4 \\uc624\\ub79c\\ub9cc\\uc774\\uc57c \\uc9c4\\uc9dc \\uace0\\ub529 \\uc73c\\ub85c \\ub3cc\\uc544\\uac04 \\ub290\\ub08c \\ucc21\\uae0b \\ub108\\ubb34 \\uc7ac\\ubc0c\\uc5b4 \\ubb34\\uc11c\\uc6cc \\ub86f\\ub370\\ud0c0\\uc6cc \\uaf2c\\uae54\\ucf58 \\uce5c\\uad6c \\uc778\\uc0dd\\uc0f7 \\uc091\\uc5b4\\uc8fc\\uae30 \\uacb0\\uacfc\\ubb3c \\ub098\\ub294 \\uc65c \\ub2e4\\ub4e4 \\ub0a8\\uce5c\\uc774\\ub791 \\ucc0d\\ub358\\ub370 \\uc4f8\\uc4f8 \\uccb4\\ub825 \\ubaa8\\uc9c8\\ub77c \\uc9d1\\uac00\\uc57c\\ud574 \\uad50\\ubcf5 \\uac08\\uc544\\uc785\\uc73c\\ub7ec \\uac70\\uc140 \\ub9c8\\uc9c0\\ub9c9 \\uad50\\ubcf5 \\uac70\\uc140 \\ud0dd\\uc2dc \\ud0c0\\uace0 \\uc9d1\\ucabd\\ub118\\uc5b4\\uc640\\uc11c \\uace0\\uae30\\uba39\\uc74c \\uc785\\uc220 \\uae68 \\uc880\\uc774\\ub530 \\uba39\\uc5b4\\uc57c\\uc9c0 \\uc9d1\\uc624\\uc790\\ub9c8\\uc790 \\ub545\\ubc14\\ub2e5\\uc5d0 \\ub204\\uc6c0 \\ub9c8\\uc9c0\\ub9c9 \\uc2a4\\ub178\\uc6b0 ai\\uc0ac\\uc9c4\\uc73c\\ub85c \\ubbf8\\ucce4\\ub124 \\ub098\\uc600\\uc73c\\uba74..\"\n        ],\n        \"semantic_type\": \"\",\n        \"description\": \"\"\n      }\n    },\n    {\n      \"column\": \"tagged_contents\",\n      \"properties\": {\n        \"dtype\": \"string\",\n        \"num_unique_values\": 76925,\n        \"samples\": [\n          \"['\\ubc31\\uc77c\\uc774', '\\ubc24\\uc911', '\\uc218\\uc720', '\\uc0c8\\ubcbd', '\\ubc00\\ub9ac', '\\uc544\\uce68', '\\uc218', '\\ubc24\\uc911', '\\uc218\\uc720', '\\ucc30\\ub098', '\\uac1c\\uc6d4', '\\uc131\\uc7a5', '\\ub4f1\\uae30', '\\uc6d0\\ub354\\uc705\\uc2a4', '\\ub9de\\uc774', '\\ubc24\\uc7a0', '\\uc785\\uba74', '\\uac15\\uc131', '\\uc6b8\\uc74c', '\\uc5ec\\ud0dc', '\\ubc29', '\\ubaa8\\uc720', '\\uc218\\uc720', '\\uc548', '\\ud1b5', '\\uc544\\uae30', '\\uac70', '\\ub0b4', '\\uccb4\\ub825', '\\uc5b4\\uc820', '\\ubaa8\\uc720\\uc218\\uc720', '\\uc911', '\\ucf54\\ud53c', '\\ub098\\uae30', '\\uc5c4\\ub9c8', '\\ub9d0', '\\ud5dd', '\\uc5c4\\ub9c8', '\\uc14b', '\\uc5b4\\ucc0c', '\\ub180\\ub78c', '\\ub2e4\\uc2dc', '\\uc0c8\\ubcbd', '\\uc218\\uc720', '\\uc544\\uae30', '\\uac70', '\\uc138\\uc0c1', '\\ub9cc', '\\ube44', '\\uc0c8\\ubcbd', '\\uac10\\uc131', '\\uc774', '\\uc218\\uc720', '\\ub098', '\\uc2dc\\uac04', '\\uc880', '\\ub354', '\\ub0b4\\uc77c', '\\uc721\\uc544', '\\uace0\\ubbfc', '\\ucc28', '\\uace0\\ubbfc', '\\uc18c\\ub9ac', '\\ubfcc\\uc9c0\\uc9c1', '\\ubfe1', '\\ubfcc\\uc9c0\\uc9c1', '\\ubaa8\\uc720\\uc218\\uc720', '\\uc911', '\\uc751', '\\uc790\\uc8fc', '\\uc6b8', '\\uc544\\uae30', '\\ubc24\\uc911', '\\uc218\\uc720', '\\ub54c', '\\uac70\\uc758', '\\uae08\\ubc29', '\\uacbd\\uc6b0', '\\uc0c8\\ubcbd', '\\uc751', '\\ub0a0', '\\ubb3c', '\\ub625\\uaf2c', '\\uc544\\uae30', '\\uc7a0', '\\ud640\\ub531', '\\uae68', '\\uc774', '\\uc0c8\\ubcbd', '\\uc774', '\\uc624\\ub298', '\\uc721\\uc544', '\\uc2dc\\uc791', '\\uc2a4\\ud0c0\\ud2b8', '\\uac1c\\uc6d4', '\\uc9c4\\uc785', '\\uc0ac\\uace0', '\\uc778\\uc9c0', '\\ud3ed\\ud48d', '\\uc131\\uc7a5', '\\ub4f1\\uae30', '\\uc553\\uc774', '\\uc6d0\\ub354', '\\uc705\\uc2a4', '\\uacf5\\ud3ec', '\\uac1c\\uc6d4', '\\ub370', '\\uc774', '\\uc5bc\\ub9c8\\ub098', '\\uc6b8', '\\ubc8c\\uc368', '\\uc694\\uc0c8', '\\ubc24\\uc7a0', '\\ub2e4\\uc2dc', '\\uc218\\uba74', '\\uad50\\uc721', '\\ud558\\ub098', '\\uace0\\ubbfc', '\\uc544\\uae30', '\\ub2e4\\uc2dc', '\\uc0c8\\ubcbd', '\\ub3d9\\uc774', '\\ud2b8\\uae30', '\\uc2dc\\uc791', '\\ub09c', '\\uc5b8\\uc81c', '\\uc608\\uc804', '\\ud480', '\\uc218', '\\uc544\\uae30', '\\uc778\\uae30\\ucc99', '\\uae08\\ubc29', '\\uae68', '\\uc778', '\\ub0a8\\ud3b8', '\\uafc0\\uc7a0', '\\uac8c', '\\uc721\\uc544', '\\ud55c\\uace0\\ube44', '\\uc0c8', '\\ub9e4', '\\uc2a4\\ud14c\\uc774\\uc9c0']\",\n          \"['\\uc18c\\ub9ac', '\\uc18c\\ubb38', '\\ub458\\uc9f8', '\\ub299\\uc740\\uc774', '\\ub458\\ucc0c', '\\uc2e0\\uc0dd\\uc544', '\\ub54c', '\\ubb38\\ud654', '\\ubcd1\\uc6d0', '\\uc0b0\\ud6c4\\uc870\\ub9ac\\uc6d0', '\\uc37b', '\\ub0b4', '\\uc0b0\\ud6c4\\uc870\\ub9ac', '\\ub610', '\\uc2e4\\ud654', '\\uc790', '\\uc774\\uc81c', '\\uc0b0\\ud6c4\\uc870\\ub9ac\\uc6d0', '\\ud6c4\\uae30', '\\uc0dd\\uac01', '\\uc870\\ub9ac', '\\ud6c4\\uae30', '\\uc810', '\\uc5c5\\uccb4', '\\ubcc0\\uacbd', '\\uc2dd\\uc0ac', '\\ud004\\ub9ac\\ud2f0', '\\uc0c1\\uc2b9', '\\uc2e0\\uc0dd\\uc544', '\\uc2e4', '\\uce35', '\\uce35', '\\uc774\\ub3d9', '\\uc2e0\\uc0dd\\uc544', '\\uc2e4', '\\uce35', '\\uc0b0\\ubaa8', '\\uce35', '\\uc120\\ud638', '\\ud568', '\\ub098', '\\uce35', '\\uc37b\\ub294\\ub370', '\\uc544\\uc8fc', '\\uac15', '\\uc5d8\\ubca0', '\\ub300\\uc5ff', '\\uc606', '\\ub354', '\\ub300\\ub85c', '\\uc6b4\\ud589', '\\uad73\\uc774', '\\uce35', '\\uc548\\ud574', '\\uc653\\ub2e4\\uac13\\ub2e4', '\\uce35', '\\ucc1c\\uc9c8\\ubc29', '\\ubc0f', '\\uac04\\ud638', '\\uc0ac\\uc2e4', '\\uc2a4\\ud14c\\uc774\\uc158', '\\uc624\\uc804', '\\ud0c0\\uc784', '\\ubd84', '\\uacc4\\uc2dc', '\\uc774\\ud6c4', '\\ud1f4\\uadfc', '\\uc154', '\\uc2a4\\ud14c\\uc774\\uc158', '\\uc0ac\\ub78c', '\\ucc1c\\uc9c8\\ubc29', '\\uc0ac\\uc6a9', '\\ube68\\ub798', '\\ub9e4\\uc77c', '\\uce35', '\\ucc1c\\uc9c8\\ubc29', '\\uac00\\uc57c', '\\ubc24', '\\uac00\\uba74', '\\uce35', '\\uc880', '\\ub290\\ub08c', '\\ub290\\ub08c', '\\ub290\\ub08c', '\\uce35', '\\uc678\\ub798', '\\uc5f0\\uacb0', '\\ud1b5\\ub85c', '\\uc9c4\\ub8cc', '\\ub54c', '\\ucee4\\ud53c', '\\ub54c', '\\ud3b8\\uc758\\uc810', '\\ub54c', '\\ubc14\\ub85c', '\\uc0ac\\uc2e4', '\\uce35', '\\uc758\\ubbf8', '\\uc790', '\\uc548', '\\uc2dc\\uc124', '\\uc800', '\\uce35', '\\uc900\\ud2b9\\uc2e4', '\\uc37b\\ub294\\ub370', '\\uadf8\\ub550', '\\ub0a8\\ud3b8', '\\uc0c1\\uc8fc', '\\ubc29', '\\ud587', '\\uc774\\ubc88', '\\ud63c\\uc790', '\\uc77c\\ubc18', '\\uc2e4\\ub85c', '\\uce35', '\\uc0dd\\uac01', '\\ubc18\\uc2e4', '\\ucef7', '\\ud63c\\uc790', '\\uc544\\uc8fc', '\\ucda9\\ubd84', '\\uce68\\ub300', '\\ub110\\ub110\\ud568', '\\ud63c\\uc790', '\\ub0c9\\uc7a5\\uace0', '\\uc804\\uc790\\ub80c\\uc9c0', '\\ube44\\ubc88', '\\uc637\\uc7a5', '\\ub9e4\\uc77c', '\\uccad\\uc18c', '\\uc5ec\\uc0ac', '\\ub0b4', '\\ubc29', '\\uccad\\uc18c', '\\uc2dc\\uac04', '\\ubb38', '\\ubc29', '\\uccad\\uc18c', '\\uc8fc\\uc2ec', '\\uc911\\uc694', '\\ubb3c\\ud488', '\\ube44\\ubc88', '\\ub77d\\ucee4', '\\ubcf4\\uad00', '\\ud568', '\\uc816\\ubcd1', '\\uc18c\\ub3c5\\uae30', '\\uacf5\\uae30\\uccad\\uc815\\uae30', '\\uc2dc\\uc2a4\\ud15c', '\\uc5d0\\uc5b4\\ucee8', '\\uac70', '\\ub09c', '\\ub9c9', '\\uc608\\ubbfc', '\\ubcf4\\uc2a4', '\\uc800\\ub7f0', '\\ubd80\\ubd84', '\\ub300\\ud574', '\\ud608', '\\uad00\\ub9ac', '\\uc2e4', '\\ud608', '\\ub2e4\\ub978', '\\uc606', '\\uc0b0\\ubaa8', '\\ub9c8\\uc0ac\\uc9c0', '\\uc0ac', '\\uc5d0\\uc5b4\\ucee8', '\\uacf0\\ud321\\uc774', '\\ubcf4\\uace0', '\\uc598\\uae30', '\\uc790\\uae30', '\\ub0a8\\ud3b8', '\\ubcf4\\uace0', '\\uacbd\\uc545', '\\uac13\\ub2e4', '\\ub4a4', '\\uc5d0\\uc5b4\\ucee8', '\\ubc29\\ub3c4', '\\ub354', '\\ubd23', '\\uc560', '\\uc548\\ubc14\\uafe7\\ub2e4', '\\uadf8\\ub0e5', '\\ubc29', '\\ubd04', '\\uacbd\\uc545', '\\uadf8\\ub0e5', '\\uadf8', '\\ubc14\\ub78c', '\\uc0ac\\uc774', '\\uacf0\\ud321\\uc774', '\\ubcf4\\uc784', '\\ud558\\ud558', '\\uc0b0\\ubaa8', '\\uc544\\ub9c8', '\\ucef4', '\\ud50c\\ub808\\uc778', '\\ub2ec\\ub77c', '\\ud587', '\\ub4ef', '\\ub098', '\\uacbd\\uc545', '\\ud587', '\\uc77c\\ub2e8', '\\ub313', '\\uc2e0\\uc0dd\\uc544', '\\ud63c\\uc790', '\\ubb50', '\\ub098', '\\uc790\\ub3d9', '\\uc2e4', '\\uc608\\uc815', '\\uace0', '\\uc608\\uc815', '\\uc774\\uba74', '\\ucef4', '\\ud50c\\ub808\\uc778', '\\uac78\\uc5c7\\uc744\\ub4ef', '\\uccad\\uc18c', '\\ubc18\\uc2e4', '\\uc0e4\\uc6cc', '\\ubd80\\uc2a4', '\\uc900\\ud2b9\\uc2e4', '\\ud2b9\\uc2e4', '\\ub3c4', '\\ubd80\\uc2a4', '\\uacf3', '\\ud568', '\\ubcf5\\ubd88\\ubcf5', '\\ubd80\\uc2a4', '\\uac1c', '\\ubd88\\ud3b8', '\\ud558\\uac9f\\ub294\\ub370', '\\ud587', '\\ub3d9\\uc548', '\\uc0ac\\uc2e4', '\\ubd88\\ud3b8', '\\uc548', '\\uc544\\uc8fc', '\\uc0ac\\uc2e4', '\\uc9d1\\uc544', '\\ub2c8\\ub2c8', '\\ubb38', '\\ubb3c', '\\ub9d0', '\\ubb38', '\\ubb3c', '\\ud280\\uc5b4', '\\ub098\\ubb34', '\\ubd80\\uc2a4', '\\uc870\\ub9ac', '\\ud0d3', '\\ubb50', '\\uc0b0\\ubaa8', '\\ubb50', '\\ubb3c', '\\uc548\\ud2d4', '\\uc0e4\\uc6cc', '\\ubd88\\ud348\\ud558', '\\ube68\\ub798', '\\uac74\\uc870\\ub300', '\\ud2f0\\ube44', '\\uc720\\ucd95\\uae30', '\\uc2a4\\ud399\\ud2b8', '\\ubaa8\\uae30\\ud5a5', '\\ub4dc\\ub77c\\uc774\\uae30', '\\ubcf5\\ub3c4', '\\uc544\\uc8fc', '\\ud734\\uac8c\\uc2e4', '\\uc5ec\\uae30', '\\uc0b0\\ubaa8', '\\ub3c4', '\\uac1c\\uc778\\ud50c\\ub808\\uc774', '\\ub54c', '\\ub3d9\\uc774', '\\uc598\\uae30', '\\uac70', '\\ubaa8', '\\uac1c\\ub625', '\\ub098\\ubc1c', '\\uc544\\uc8fc', '\\uc808\\uac04', '\\uc218\\uc900', '\\uc784', '\\ubcf5\\ub3c4', '\\ucb49', '\\uac00\\uba74', '\\uce35', '\\ub514', '\\uc591\\uc784', '\\ucb49', '\\ubb50', '\\uc5ec\\uae30', '\\uc808\\uac04', '\\uc138\\ud0c1\\uae30', '\\uc138\\uc81c', '\\ud568', '\\uac1c\\uc778', '\\ub9e4\\uc77c', '\\uc544\\uce68', '\\uace0\\ub9ac', '\\ube68\\ub798', '\\uc138\\ud0c1', '\\uce35', '\\ucc1c\\uc9c8\\ubc29', '\\ub0b4', '\\ube68\\ub798', '\\uc2f1\\ud06c\\ub300', '\\uc8fc\\ubc29', '\\uc138\\uc81c', '\\uc816\\ubcd1', '\\uc138\\uc81c', '\\uc816\\ubcd1\\uc194', '\\uad6c\\ube44', '\\uc544\\ubb34', '\\uac70', '\\uac1c\\uc778', '\\uae54\\ub54c\\uae30', '\\uace0\\ud568', '\\uc816\\ubcd1\\uc194', '\\uc0ac\\uc6a9', '\\ud568', '\\ub9d8', '\\uc81c\\uc77c', '\\ubcf5\\ub3c4', '\\ub6a4\\ub9b0\\ubb38', '\\uc548\\ucabd', '\\uc548\\ub9c8', '\\uc758\\uc790', '\\uc774', '\\uc544\\ubb34', '\\uc644\\uc988', '\\ud790\\ub9c1', '\\uc65c', '\\uc544\\ubb34', '\\ub098', '\\ub3d9\\uc548', '\\uc790\\uc8fc', '\\ud587\\ub2a5\\ub370', '\\uc544\\ubb34', '\\uc548', '\\uc544\\ubb34', '\\ub2ec', '\\ud55c\\uc801', '\\uc65c', '\\uc548\\ud574', '\\ub9e4', '\\uaf2d', '\\uc548\\ub9c8', '\\uc758\\uc790', '\\uce35', '\\ud504\\ub77c\\uc774', '\\uc548\\ub9c8', '\\uc758\\uc790', '\\ubc30\\uce58', '\\ub204\\uad6c', '\\ub208\\uce58', '\\uc548', '\\ubc84\\uace0', '\\uac00\\ub2a5', '\\uce35', '\\uc548\\ub9c8', '\\uc758\\uc790', '\\ud734\\uac8c\\uc2e4', '\\uac00\\uc6b4\\ub370', '\\uc0ac\\uc2e4', '\\uc880', '\\uc5ec', '\\uc653\\ub2e4\\uac13\\ub2e4', '\\ubcf4', '\\uc800\\uae30', '\\uc544\\uc8fc', '\\ud504\\ub77c\\uc774', '\\ube57', '\\uce35', '\\uac15', '\\uc2e0\\uc0dd\\uc544', '\\uc2e4', '\\ube10\\uac70', '\\ub9dd\\uad6c', '\\ud53c\\ub8cc\\uc74c', '\\uc870\\ub9ac', '\\ud608', '\\uad00\\ub9ac', '\\uc720\\ubc29', '\\ub9c8\\uc0ac\\uc9c0', '\\ud53c\\ubd80\\uad00\\ub9ac', '\\uc11c\\ube44\\uc2a4', '\\uc90c', '\\ud53c\\ubd80\\uad00\\ub9ac', '\\ud608', '\\uad00\\ub9ac', '\\uc2e4', '\\uc0ac', '\\uadf8\\ub0e5', '\\ubb50', '\\uc804\\ubb38', '\\ud329', '\\uc815\\ub3c4', '\\uae30\\ub300', '\\ub178\\ub178', '\\uce35', '\\uc720\\ubc29', '\\uad00\\ub9ac', '\\uc2e4', '\\ud608', '\\uad00\\ub9ac', '\\uc2e4', '\\uc720\\ubc29', '\\uad00\\ub9ac', '\\uc2a4\\ud0d1', '\\ud608', '\\uad00\\ub9ac', '\\ud1f4', '\\ub0a0', '\\ud480', '\\uc2a4\\ud1a4', '\\uc544\\uc8fc', '\\uc26c', '\\ud587', '\\ub098', '\\uc544\\ud514', '\\ub3d9\\uc548', '\\ubab8', '\\ud639\\uc0ac', '\\ud587\\uc73c', '\\ub610', '\\ud790\\ub9c1', '\\uc0dd\\uac01', '\\ubb34\\uc871', '\\uc218\\uc720', '\\ucf5c', '\\uc218\\uc720', '\\ucf5c', '\\uc544\\uae30', '\\uc81c\\ubc1c', '\\uc560', '\\uc870\\ub9ac', '\\ubab8', '\\uc0dd\\uac01', '\\uc880', '\\uc9d1', '\\ubaa8', '\\uc8fd\\uc74c', '\\uc784', '\\ud6c4\\ud68c', '\\uc81c\\ubc1c', '\\uc880', '\\ud479', '\\ubd80\\ud0c1', '\\ubaa8\\ub4e0', '\\uc560', '\\uc774\\uc0c1', '\\ubb38\\ud654', '\\ubcd1\\uc6d0', '\\uc870\\ub9ac', '\\uc2dc\\uc124', '\\ub2e4\\uc74c', '\\ubb38\\ud654', '\\ubcd1\\uc6d0', '\\uc2dd\\ub2e8', '\\ubcf4', '\\uc720', '\\ubb50', '\\uc2dd\\ub2e8', '\\uc0ac\\uc9c4', '\\ub178\\uc7bc', '\\uc544\\uc8fc', '\\uc815\\ubcf4', '\\uc548\\ub1fd', '\\ud654\\ubcd1', '\\uc0b0\\ud6c4\\uc870\\ub9ac\\uc6d0', '\\uc0b0\\ud6c4\\uc870\\ub9ac\\uc6d0', '\\ud6c4\\uae30', '\\uc0b0\\ud6c4\\uc870\\ub9ac\\uc6d0', '\\ubb38\\ud654', '\\ubcd1\\uc6d0', '\\uc0b0\\ud6c4\\uc870\\ub9ac\\uc6d0', '\\ubd80\\uc0b0', '\\uc0b0\\ud6c4\\uc870\\ub9ac\\uc6d0']\",\n          \"['\\uacc4\\uc18d', '\\uc190\\ub2d8', '\\uc900\\ube44', '\\ubb34\\ubb34', '\\uc5c4\\ub9c8', '\\ub538', '\\uc774\\ubaa8', '\\uc0bc\\ucd0c', '\\ubb34\\ubb34', '\\uc637', '\\uaca8\\uc6b8', '\\uc0dd\\uac01', '\\uc65c', '\\uc544\\uac00', '\\uc9c0\\ud718\\uc790', '\\uacc4\\uc18d', '\\uc7a0', '\\uaca8\\uc6b0', '\\uc81c\\ubc1c', '\\uc0c8\\ubcbd', '\\ubb34\\ubb34', '\\ucf54\\ub531\\uc9c0', '\\uac83', '\\ub54c', '\\uac00\\ub054', '\\uc544\\uc800\\uc528', '\\ucc98\\ub7fc', '\\uc2e0\\uc0dd\\uc544', '\\ucf54', '\\uc548', '\\uc740', '\\uc774\\uc81c', '\\ub0b4\\uc758', '\\uc704\\uc8fc', '\\ub0b4\\uc758', '\\ud314', '\\ub3c4', '\\uc678\\ucd9c', '\\ubcf5\\uc740', '\\ubd80\\ud130', '\\uc0c8\\ubcbd', '\\uc870\\uae08', '\\uc790\\uc900', '\\uc5ed\\uc0ac', '\\ub0a0', '\\uafc0\\uc7a0', '\\uc790\\uace0', '\\ud130', '\\ubbf8\\ud0c0', '\\uc784\\ub3c4', '\\ud560\\ubbf8', '\\ud560\\ubbf8', '\\ud488', '\\ud2b8\\ub9bc', '\\uc2dc\\uac04', '\\ubc25', '\\uc544\\ube60', '\\ud488', '\\ud2b8\\ub9bc', '\\ubc25', '\\uc0b0\\ucc45', '\\ub098', '\\uc637', '\\ubb34\\ubb34', '\\uc637', '\\ubc24', '\\uac11\\uc790\\uae30', '\\ub610', '\\uc790\\uae30', '\\uc190', '\\uc7a1\\uace0', '\\ubb34\\ubb34', '\\ub77c\\uc2a4', '\\ubca0\\uac1c', '\\uc19c', '\\uc655\\ucc3d', '\\ube7c', '\\ucfe0\\uc158', '\\uac10', '\\uc870\\uae08', '\\uc606\\uc7a0', '\\ubca0\\uac1c', '\\uc81c\\uc77c', '\\ub54c', '\\uc544\\uc8fc', '\\uc218\\uc720', '\\ud140', '\\uacc4\\uc18d', '\\ubb34\\ubb34', '\\ud658\\uc808\\uae30', '\\ub7f0\\uac00', '\\ucf54', '\\ud130', '\\ubbf8\\ud0c0', '\\uc784', '\\uc624\\uc804', '\\uc0c8\\ubcbd', '\\uc7a0', '\\ud558\\ub8e8', '\\ubc88\\uc740', '\\ud0c0\\uc784', '\\uc2b9', '\\uc9c8\\ub3c4', '\\ud55c\\ubc88', '\\ubaa8\\ube4c', '\\ud55c\\ubc88', '\\uc5c4\\ub9c8', '\\ud488', '\\uc7a0\\ub3c4', '\\uc790\\uace0', '\\ubb34\\ubb34', '\\ucabd\\ucabd\\uc774', '\\uc544\\uae30', '\\ub760', '\\uacf5\\uc2dd', '\\uc774\\uba74', '\\uac70\\uc758', '\\ubc14\\ub85c', '\\ub0b4', '\\ud488', '\\ubc8c\\uc368', '\\uc5ed\\ubc29\\ucfe0', '\\ucd2c\\uc601', '\\ubb34\\uc5c7', '\\uace0\\ubbfc', '\\ubaa8\\uc790', '\\uc798\\ubabb', '\\uc50c', '\\uc6c3\\uc74c', '\\ubca8', '\\ubb54\\uac00', '\\uc548', '\\ub290\\ub08c', '\\ubcd1\\uc6d0', '\\uc5ed\\ub300', '\\ub0a0', '\\uc0c8\\ubcbd', '\\uc721\\uc544', '\\uc0c8\\ubcbd', '\\ubcfc', '\\uc218', '\\uc560\\uae30', '\\ubc25', '\\uc0c8\\ubcbd', '\\uc7a0', '\\ube68\\ub798', '\\ubb34\\ubb34', '\\uc5c4\\ub9c8', '\\uc790\\ub77c', '\\uc544\\uae30', '\\ub760', '\\uc790\\uc9c0', '\\ub9d0', '\\uc81c\\ubc1c', '\\uce68\\ub300', '\\uc190\\ud1b1', '\\ud55c\\ubc88', '\\uc900', '\\uc560', '\\ub108', '\\uc5bc\\uad74', '\\uc0c1\\ucc98', '\\uc65c', '\\uc624\\uc804', '\\uc624\\ud6c4', '\\ub0b4\\ub0b4', '\\uacc4\\uc18d', '\\uc0c8\\ubcbd', '\\ubb34\\ubb34', '\\ucc28\\ub77c\\ub9ac', '\\uc0c8\\ubcbd', '\\ub610', '\\uc544\\uae30', '\\ub760', '\\ub108', '\\uadf8\\uac83', '\\uc7a0', '\\ub108', '\\ud558\\ub8e8', '\\ub05d', '\\uc544\\uae30', '\\ub760', '\\uce68\\ub300', '\\uc790', '\\ubb34\\ubb34', '\\uc721\\uc544', '\\uc77c\\uae30', '\\uc721\\uc544\\uc6a9\\ud488', '\\uc0dd\\ud6c4', '\\uac1c\\uc6d4', '\\uc0dd\\ud6c4', '\\uac1c\\uc6d4', '\\uc218\\uc720', '\\ud140', '\\uc0dd\\ud6c4', '\\uac1c\\uc6d4', '\\uc720\\ub7c9', '\\uc0dd\\ud6c4', '\\uac1c\\uc6d4', '\\uc720\\ub7c9', '\\uccad\\ub8e1', '\\ub760', '\\uccad\\ub8e1', '\\ub760', '\\uc544\\uae30']\"\n        ],\n        \"semantic_type\": \"\",\n        \"description\": \"\"\n      }\n    },\n    {\n      \"column\": \"vector\",\n      \"properties\": {\n        \"dtype\": \"string\",\n        \"num_unique_values\": 79942,\n        \"samples\": [\n          \"[-0.63129145 -0.30142242 -1.2831345  -1.9862249   0.02503607 -0.9739595\\n  0.45138043  0.3210111  -0.6175741  -0.8865526   0.18030718  0.16237415\\n -0.7073483  -1.3955358  -2.84483    -0.56964016 -0.6734895   2.2903044\\n -0.5020121  -2.998706    1.6651033  -0.15281172 -0.13717617  1.3012738\\n -0.39843962 -1.2795283   0.31448245 -2.4854994  -0.21817426  0.8013871\\n -1.3412753   0.9970191  -0.17049153  1.9530144   0.74999034 -1.6596024\\n  0.55634844  1.0886146   0.52776444 -1.9640565   2.5271416  -0.5761947\\n  0.18665688  1.7570456  -0.12667948 -1.1987509  -0.23288432 -1.043123\\n  0.25512454  0.1471747  -1.3225894   0.6080659  -0.18135768 -0.19998245\\n -0.5405363   0.12658791  0.8518424  -0.02547025  1.296108    1.2724122\\n -1.6997303  -0.20527104  2.2299314  -0.65876096 -1.125192   -0.48986953\\n  0.3657181   1.8753927  -0.9778849   0.9409332  -2.3118799   0.85593474\\n -1.5669057  -0.7690875   1.7476035  -0.10051328 -1.1063825  -1.5219741\\n  0.03490608  0.4616254   1.5454884   0.09506883  0.7504371   0.3102782\\n  1.2831268   0.9011827  -1.4860884   0.11146086 -0.7777501  -0.15250368\\n  0.45110813 -0.7926217  -0.46670607 -1.0803322   1.3669627   0.44671127\\n -0.37293208 -0.05812137  2.7352288   0.82040554 -1.9932339   2.2789216\\n  1.3636392   0.0271606   0.44174975 -0.55943716 -2.014052    1.0795065\\n -2.6737235   0.01434868 -0.37042475  0.5075757   0.85732174 -0.96859455\\n  2.124237   -1.6190429   1.3134115  -0.20541203  0.16547018  0.70424676\\n  1.991969    0.03564308 -0.37003323  2.6079276  -2.5295622   1.45343\\n  0.7638168   0.32575175  0.46760905  0.146093    0.8989249  -0.07297584\\n  0.571018    1.1304138  -0.83185935  1.3311918  -0.8175034  -0.7077952\\n  1.1804621   0.24889076  0.37632906  2.3158193   1.3899741  -0.6896267\\n  1.0371064  -0.6987391   1.4480517   0.58441997 -1.4094557   0.97886056\\n  1.1533626   1.690304    0.6417433  -0.63990283  0.61825675  1.4681993\\n  0.38347903 -0.00503314  0.7230417   0.07601427 -1.6283894  -0.22591022\\n -0.7393418  -1.5290008   0.05029301  2.0140676  -0.48826388  1.7414337\\n  1.5675874   1.5976045  -0.06652883 -0.54562676 -0.16172037  0.00566462\\n -0.09468168  1.3276802  -0.13258693 -2.0012188  -1.4147774  -0.01363574\\n -0.5803052  -0.180053   -0.67975485 -1.5550207   1.97151     0.6020037\\n  1.4714215  -0.3208743   0.1525429   0.44018567  0.31860206  0.19873403\\n -2.1467402   1.2495869   2.0382123  -1.1944453   0.8277601  -1.5399637\\n -1.3450649   1.1426216 ]\",\n          \"[ 0.51069325 -2.588491   -1.1994401   1.8416871   0.8458289  -2.0519311\\n  0.24475504  0.5535844  -2.973615    0.53018063 -0.0879638  -1.2066562\\n -1.1636248  -0.3815903  -1.9062964  -0.35111895  0.13641296  0.55397016\\n -0.02714146 -0.25042707 -0.08254603 -1.900113   -1.435457    1.4168696\\n -0.39622715  0.35487282  0.5278567  -0.5650386  -2.3058372  -0.82263464\\n -0.66740584  0.9135709  -0.18092942  0.24629045 -1.8556691  -0.24921484\\n -0.3367244   0.57429653  0.09689639  0.54902786 -0.24309628  2.0176747\\n -0.2653017   1.9053941  -0.22396052  0.4640166   0.33983737  0.1093972\\n  1.1524847  -0.5305486  -0.5681052  -0.00465691 -0.93546814 -0.0735902\\n  1.0532644   0.34730408  2.1271777   0.97442997 -2.3617706  -0.5918566\\n  0.15211545  0.08668493  0.3256364  -1.6438712   0.53100306 -1.2519208\\n -0.08667108  1.6216539   2.134234    2.8462524  -0.42502594 -0.958131\\n  1.0803543  -0.5851954   0.8852496   0.6918095  -0.40863696 -1.3774974\\n  0.4945894   1.2880663   1.659932    0.08343114  0.8306305   0.5681528\\n -0.24743481  0.8843562  -1.2962459   0.96464646  0.14763492  0.4331801\\n -0.21140607 -0.7568871   0.00947319  0.98838395  1.2936308   2.0421042\\n -1.1036459   1.2536694   1.110346   -2.1094615  -1.4859647   0.3042619\\n  1.5216587  -1.2451582   0.51521003  0.8305493   1.4520051   0.83201796\\n  0.2612757  -2.0615747  -0.68785626  0.5463048  -0.09620623  0.31021094\\n -0.97693783  0.99398786 -0.58526886  1.0879278  -2.6927736  -0.6780931\\n -0.86812264  0.20189355 -0.7135292  -0.38733926 -1.1409917  -0.47441784\\n -1.5795625   2.1312404  -1.4506102   2.9002554   0.3923662   1.5495304\\n  1.2590442  -0.2239094  -0.6007192   0.19151768  0.17303902  0.53836244\\n  1.6927936   0.30014113 -0.8966395   2.5406482   0.7040834  -0.9331074\\n -0.51525533  0.6282409   0.5864781   0.17482485 -1.2440723  -0.5850495\\n  0.2450621  -0.3621952   2.5412786  -0.72921675  0.42034453  1.8021526\\n -0.17994823  0.42844906  1.6192691  -0.576937   -0.3572499  -0.45875442\\n  2.0924165   0.6838535   0.64520234  1.2512174   0.26447174  1.2111218\\n -0.6524857   1.3735895   0.70877284 -0.5820454  -0.4211732  -2.2740414\\n  0.10031141 -1.0250047   0.5076816  -0.93644476 -0.35350683  0.69708467\\n -1.0020748   2.0161767   1.6667114  -0.32060197 -1.4445239  -2.2326505\\n -0.09069379  0.05066355 -0.14030632 -0.03978507  0.4402403  -1.5793877\\n  0.31678343  0.9837857  -0.08143839 -0.00413529 -0.10201524  0.61004573\\n -0.5842915   0.45690078]\",\n          \"[ 1.2834451e+00 -1.6758324e+00 -5.5623859e-01 -7.8080958e-01\\n  1.5440416e+00  1.3354263e+00  1.0315839e+00  1.5530277e+00\\n -2.9921255e-01 -2.3971736e+00  3.9744025e-01  9.8975664e-01\\n  7.2918504e-01 -4.0428934e-01 -7.3600566e-01 -5.7220680e-01\\n -6.3144320e-01  1.1508181e+00  6.2355745e-01 -1.3690572e+00\\n -8.1563428e-02 -3.5959294e-01 -1.9293944e+00 -6.9326488e-06\\n  1.6476081e-01 -1.3912129e-01 -1.8066109e+00  1.9144608e+00\\n -8.4959912e-01  4.7942036e-01  5.4697675e-01  2.3849666e+00\\n -2.2572853e-01 -1.5721623e+00 -1.0327846e+00 -2.8413388e-01\\n  1.7685440e+00 -1.3341258e+00 -1.6625805e+00 -8.1517333e-01\\n  7.5573474e-02  3.4968141e-01  2.0602188e-01 -2.4144016e-01\\n  7.0783722e-01 -1.6021302e+00  1.8167745e+00  1.6274195e+00\\n -1.6279171e+00 -2.3375586e-01 -5.0160974e-01  1.4809271e+00\\n -1.0598094e+00 -2.6545770e+00  7.2401828e-01  3.8244084e-01\\n  1.3487672e+00 -8.4530264e-01 -1.5438348e+00 -8.8051808e-01\\n  2.0543817e-01 -9.1229685e-02 -1.5401130e+00  1.3563454e+00\\n  1.1555741e+00  1.2741354e+00  4.0346181e-01  3.0645403e-01\\n  5.1858079e-01  1.9547166e+00  5.8363322e-03  8.8453275e-01\\n -1.2822850e+00 -2.0733316e+00  1.3225416e+00 -1.1703603e+00\\n  1.3466144e+00  3.2342261e-01 -1.3093354e+00 -8.2339358e-01\\n  1.2966009e+00  1.9898183e+00  3.8660541e-01 -6.3571411e-01\\n -2.0817117e-01  1.1319110e+00 -7.4875283e-01  3.7611690e-03\\n  3.7801337e-01 -9.4192021e-02  1.2792412e+00 -1.7778816e+00\\n  4.8251057e-01  3.8489205e-01 -7.8051704e-01  9.2479676e-02\\n  2.0819545e+00  5.7660633e-01 -8.5724127e-01 -1.2512729e+00\\n  5.9392327e-01  5.9191841e-01  2.4865168e-01 -4.3778428e-01\\n  6.8091315e-01  1.3167508e+00  9.6682322e-01  6.4495993e-01\\n -1.3594904e+00 -8.3199680e-01  3.1898999e-01 -2.4191859e+00\\n -1.7463818e+00 -6.0621113e-01 -8.5685277e-01  7.8543222e-01\\n -8.5500956e-01  1.2455151e+00  1.4067444e-01 -8.7887543e-01\\n -6.3415356e-03  2.4165900e+00  1.8761262e-01 -2.4889755e-01\\n -6.4261919e-01  1.6250659e+00  8.1953603e-01  5.7173359e-01\\n -7.6476741e-01  1.6616637e+00  1.0453771e+00 -7.3144615e-01\\n  8.6719848e-02  5.9962904e-01  1.8550411e-01 -4.3243995e-01\\n -1.8517004e+00 -8.2919234e-01  1.8157832e-02 -1.0199047e+00\\n  2.6098099e+00  2.0231584e-01  1.7333956e+00 -1.4308814e+00\\n -1.4799646e+00  4.8657286e-01 -1.9391314e+00 -1.0181532e+00\\n -1.1196960e+00  4.2013831e-02 -1.4796870e+00 -2.2460034e+00\\n  1.4139014e-01  4.5311192e-01  8.0047607e-01  1.3857970e+00\\n  2.4399366e+00  1.5216216e+00  7.6317757e-02  4.0210187e-01\\n  3.1127283e-01 -8.2125837e-01 -1.3883168e+00  1.8384536e-01\\n -5.7816076e-01  3.2566464e-01 -1.4801797e-01  5.2569908e-01\\n -9.0906626e-01 -1.7070386e+00 -6.4250124e-01 -2.1432118e+00\\n -9.2806584e-01 -1.5727489e+00  6.0078788e-01  1.0253974e+00\\n -1.1817231e+00 -4.3307211e-02  5.8333707e-01 -1.0337921e+00\\n  1.3711960e+00  1.2997665e+00  1.5346344e+00  1.5342704e+00\\n -5.1313776e-01 -7.7015573e-01  9.5074522e-01 -1.0493577e+00\\n  1.1374620e+00  3.6107015e-02 -3.1792134e-01  3.6921814e-01\\n -1.2366376e+00 -6.3486829e-02 -1.7586513e+00  1.2949024e-01\\n  4.2456013e-01 -6.1232078e-01 -1.1095475e+00  7.7988917e-01]\"\n        ],\n        \"semantic_type\": \"\",\n        \"description\": \"\"\n      }\n    },\n    {\n      \"column\": \"umap_kmeans_cluster\",\n      \"properties\": {\n        \"dtype\": \"number\",\n        \"std\": 1,\n        \"min\": 0,\n        \"max\": 5,\n        \"num_unique_values\": 5,\n        \"samples\": [\n          1,\n          3,\n          5\n        ],\n        \"semantic_type\": \"\",\n        \"description\": \"\"\n      }\n    },\n    {\n      \"column\": \"1st_cluster\",\n      \"properties\": {\n        \"dtype\": \"number\",\n        \"std\": 1,\n        \"min\": -1,\n        \"max\": 8,\n        \"num_unique_values\": 10,\n        \"samples\": [\n          0,\n          -1,\n          5\n        ],\n        \"semantic_type\": \"\",\n        \"description\": \"\"\n      }\n    }\n  ]\n}",
       "type": "dataframe",
       "variable_name": "df"
      },
      "text/html": [
       "\n",
       "  <div id=\"df-9be15364-f2a1-46af-859c-3547c34e777b\" class=\"colab-df-container\">\n",
       "    <div>\n",
       "<style scoped>\n",
       "    .dataframe tbody tr th:only-of-type {\n",
       "        vertical-align: middle;\n",
       "    }\n",
       "\n",
       "    .dataframe tbody tr th {\n",
       "        vertical-align: top;\n",
       "    }\n",
       "\n",
       "    .dataframe thead th {\n",
       "        text-align: right;\n",
       "    }\n",
       "</style>\n",
       "<table border=\"1\" class=\"dataframe\">\n",
       "  <thead>\n",
       "    <tr style=\"text-align: right;\">\n",
       "      <th></th>\n",
       "      <th>source</th>\n",
       "      <th>search_words</th>\n",
       "      <th>url</th>\n",
       "      <th>title</th>\n",
       "      <th>contents</th>\n",
       "      <th>tagged_contents</th>\n",
       "      <th>vector</th>\n",
       "      <th>umap_kmeans_cluster</th>\n",
       "      <th>1st_cluster</th>\n",
       "    </tr>\n",
       "  </thead>\n",
       "  <tbody>\n",
       "    <tr>\n",
       "      <th>0</th>\n",
       "      <td>블로그</td>\n",
       "      <td>아기+잠깨</td>\n",
       "      <td>https://blog.naver.com/srhymin/223091161466</td>\n",
       "      <td>NaN</td>\n",
       "      <td>저희 아기는 신생아때부터 청각과 촉각이 예민해 잠도 깊게 못 잘 뿐더러 잠투정이 정...</td>\n",
       "      <td>['저희', '아기', '신생아', '때', '청각', '촉각', '잠도', '못'...</td>\n",
       "      <td>[ 0.18305127 -1.2801502  -0.44998685  0.799018...</td>\n",
       "      <td>4</td>\n",
       "      <td>2</td>\n",
       "    </tr>\n",
       "    <tr>\n",
       "      <th>1</th>\n",
       "      <td>블로그</td>\n",
       "      <td>아기+잠깨</td>\n",
       "      <td>https://blog.naver.com/sukm83/223091879514</td>\n",
       "      <td>NaN</td>\n",
       "      <td>정신없는 주방한켠 뒤죽박죽 알 수 없는 용기에 양념과 소스가 담겨져 있기에 주방이 ...</td>\n",
       "      <td>['정신', '방한', '뒤죽박죽', '알', '수', '용기', '양념', '소스...</td>\n",
       "      <td>[ 3.5914354e+00 -2.2061694e+00  1.5965343e+00 ...</td>\n",
       "      <td>1</td>\n",
       "      <td>2</td>\n",
       "    </tr>\n",
       "    <tr>\n",
       "      <th>2</th>\n",
       "      <td>블로그</td>\n",
       "      <td>아기+잠깨</td>\n",
       "      <td>https://blog.naver.com/dldptmf5134/223096875782</td>\n",
       "      <td>NaN</td>\n",
       "      <td>안녕하세요 지유맘입니다! 오늘은 지유가 이유식과 유아식 그 중간즈음 토핑식을 할 때...</td>\n",
       "      <td>['지유', '맘', '오늘', '지유', '이유식', '유아식', '그', '중간...</td>\n",
       "      <td>[ 3.4138811e-01 -5.3281033e-01 -1.3500248e+00 ...</td>\n",
       "      <td>1</td>\n",
       "      <td>2</td>\n",
       "    </tr>\n",
       "    <tr>\n",
       "      <th>3</th>\n",
       "      <td>블로그</td>\n",
       "      <td>아기+잠깨</td>\n",
       "      <td>https://blog.naver.com/lia1100/223095799488</td>\n",
       "      <td>NaN</td>\n",
       "      <td>안녕하세요 라온엄마에요 오늘은 조금 특이한 아기 반찬을 준비했어요 방풍나물을 이용한...</td>\n",
       "      <td>['엄마', '오늘', '조금', '아기', '반찬', '준비', '방', '나물'...</td>\n",
       "      <td>[ 0.9519698  -1.2839632  -0.3893606  -0.134541...</td>\n",
       "      <td>1</td>\n",
       "      <td>2</td>\n",
       "    </tr>\n",
       "    <tr>\n",
       "      <th>4</th>\n",
       "      <td>블로그</td>\n",
       "      <td>아기+잠깨</td>\n",
       "      <td>https://blog.naver.com/perfect_aj/223095824533</td>\n",
       "      <td>NaN</td>\n",
       "      <td>6 12개월 아기의 1일 권장 물섭취량은 220ml정도라고 한다. 음 우래기는.. ...</td>\n",
       "      <td>['개월', '아기', '권장', '물섭취량', '정도', '음', '우리', '애...</td>\n",
       "      <td>[ 0.47277522 -0.9469169   1.0451334  -0.120348...</td>\n",
       "      <td>5</td>\n",
       "      <td>-1</td>\n",
       "    </tr>\n",
       "  </tbody>\n",
       "</table>\n",
       "</div>\n",
       "    <div class=\"colab-df-buttons\">\n",
       "\n",
       "  <div class=\"colab-df-container\">\n",
       "    <button class=\"colab-df-convert\" onclick=\"convertToInteractive('df-9be15364-f2a1-46af-859c-3547c34e777b')\"\n",
       "            title=\"Convert this dataframe to an interactive table.\"\n",
       "            style=\"display:none;\">\n",
       "\n",
       "  <svg xmlns=\"http://www.w3.org/2000/svg\" height=\"24px\" viewBox=\"0 -960 960 960\">\n",
       "    <path d=\"M120-120v-720h720v720H120Zm60-500h600v-160H180v160Zm220 220h160v-160H400v160Zm0 220h160v-160H400v160ZM180-400h160v-160H180v160Zm440 0h160v-160H620v160ZM180-180h160v-160H180v160Zm440 0h160v-160H620v160Z\"/>\n",
       "  </svg>\n",
       "    </button>\n",
       "\n",
       "  <style>\n",
       "    .colab-df-container {\n",
       "      display:flex;\n",
       "      gap: 12px;\n",
       "    }\n",
       "\n",
       "    .colab-df-convert {\n",
       "      background-color: #E8F0FE;\n",
       "      border: none;\n",
       "      border-radius: 50%;\n",
       "      cursor: pointer;\n",
       "      display: none;\n",
       "      fill: #1967D2;\n",
       "      height: 32px;\n",
       "      padding: 0 0 0 0;\n",
       "      width: 32px;\n",
       "    }\n",
       "\n",
       "    .colab-df-convert:hover {\n",
       "      background-color: #E2EBFA;\n",
       "      box-shadow: 0px 1px 2px rgba(60, 64, 67, 0.3), 0px 1px 3px 1px rgba(60, 64, 67, 0.15);\n",
       "      fill: #174EA6;\n",
       "    }\n",
       "\n",
       "    .colab-df-buttons div {\n",
       "      margin-bottom: 4px;\n",
       "    }\n",
       "\n",
       "    [theme=dark] .colab-df-convert {\n",
       "      background-color: #3B4455;\n",
       "      fill: #D2E3FC;\n",
       "    }\n",
       "\n",
       "    [theme=dark] .colab-df-convert:hover {\n",
       "      background-color: #434B5C;\n",
       "      box-shadow: 0px 1px 3px 1px rgba(0, 0, 0, 0.15);\n",
       "      filter: drop-shadow(0px 1px 2px rgba(0, 0, 0, 0.3));\n",
       "      fill: #FFFFFF;\n",
       "    }\n",
       "  </style>\n",
       "\n",
       "    <script>\n",
       "      const buttonEl =\n",
       "        document.querySelector('#df-9be15364-f2a1-46af-859c-3547c34e777b button.colab-df-convert');\n",
       "      buttonEl.style.display =\n",
       "        google.colab.kernel.accessAllowed ? 'block' : 'none';\n",
       "\n",
       "      async function convertToInteractive(key) {\n",
       "        const element = document.querySelector('#df-9be15364-f2a1-46af-859c-3547c34e777b');\n",
       "        const dataTable =\n",
       "          await google.colab.kernel.invokeFunction('convertToInteractive',\n",
       "                                                    [key], {});\n",
       "        if (!dataTable) return;\n",
       "\n",
       "        const docLinkHtml = 'Like what you see? Visit the ' +\n",
       "          '<a target=\"_blank\" href=https://colab.research.google.com/notebooks/data_table.ipynb>data table notebook</a>'\n",
       "          + ' to learn more about interactive tables.';\n",
       "        element.innerHTML = '';\n",
       "        dataTable['output_type'] = 'display_data';\n",
       "        await google.colab.output.renderOutput(dataTable, element);\n",
       "        const docLink = document.createElement('div');\n",
       "        docLink.innerHTML = docLinkHtml;\n",
       "        element.appendChild(docLink);\n",
       "      }\n",
       "    </script>\n",
       "  </div>\n",
       "\n",
       "\n",
       "    <div id=\"df-f72500e6-1aa8-454b-81b8-85e5372f23b6\">\n",
       "      <button class=\"colab-df-quickchart\" onclick=\"quickchart('df-f72500e6-1aa8-454b-81b8-85e5372f23b6')\"\n",
       "                title=\"Suggest charts\"\n",
       "                style=\"display:none;\">\n",
       "\n",
       "<svg xmlns=\"http://www.w3.org/2000/svg\" height=\"24px\"viewBox=\"0 0 24 24\"\n",
       "     width=\"24px\">\n",
       "    <g>\n",
       "        <path d=\"M19 3H5c-1.1 0-2 .9-2 2v14c0 1.1.9 2 2 2h14c1.1 0 2-.9 2-2V5c0-1.1-.9-2-2-2zM9 17H7v-7h2v7zm4 0h-2V7h2v10zm4 0h-2v-4h2v4z\"/>\n",
       "    </g>\n",
       "</svg>\n",
       "      </button>\n",
       "\n",
       "<style>\n",
       "  .colab-df-quickchart {\n",
       "      --bg-color: #E8F0FE;\n",
       "      --fill-color: #1967D2;\n",
       "      --hover-bg-color: #E2EBFA;\n",
       "      --hover-fill-color: #174EA6;\n",
       "      --disabled-fill-color: #AAA;\n",
       "      --disabled-bg-color: #DDD;\n",
       "  }\n",
       "\n",
       "  [theme=dark] .colab-df-quickchart {\n",
       "      --bg-color: #3B4455;\n",
       "      --fill-color: #D2E3FC;\n",
       "      --hover-bg-color: #434B5C;\n",
       "      --hover-fill-color: #FFFFFF;\n",
       "      --disabled-bg-color: #3B4455;\n",
       "      --disabled-fill-color: #666;\n",
       "  }\n",
       "\n",
       "  .colab-df-quickchart {\n",
       "    background-color: var(--bg-color);\n",
       "    border: none;\n",
       "    border-radius: 50%;\n",
       "    cursor: pointer;\n",
       "    display: none;\n",
       "    fill: var(--fill-color);\n",
       "    height: 32px;\n",
       "    padding: 0;\n",
       "    width: 32px;\n",
       "  }\n",
       "\n",
       "  .colab-df-quickchart:hover {\n",
       "    background-color: var(--hover-bg-color);\n",
       "    box-shadow: 0 1px 2px rgba(60, 64, 67, 0.3), 0 1px 3px 1px rgba(60, 64, 67, 0.15);\n",
       "    fill: var(--button-hover-fill-color);\n",
       "  }\n",
       "\n",
       "  .colab-df-quickchart-complete:disabled,\n",
       "  .colab-df-quickchart-complete:disabled:hover {\n",
       "    background-color: var(--disabled-bg-color);\n",
       "    fill: var(--disabled-fill-color);\n",
       "    box-shadow: none;\n",
       "  }\n",
       "\n",
       "  .colab-df-spinner {\n",
       "    border: 2px solid var(--fill-color);\n",
       "    border-color: transparent;\n",
       "    border-bottom-color: var(--fill-color);\n",
       "    animation:\n",
       "      spin 1s steps(1) infinite;\n",
       "  }\n",
       "\n",
       "  @keyframes spin {\n",
       "    0% {\n",
       "      border-color: transparent;\n",
       "      border-bottom-color: var(--fill-color);\n",
       "      border-left-color: var(--fill-color);\n",
       "    }\n",
       "    20% {\n",
       "      border-color: transparent;\n",
       "      border-left-color: var(--fill-color);\n",
       "      border-top-color: var(--fill-color);\n",
       "    }\n",
       "    30% {\n",
       "      border-color: transparent;\n",
       "      border-left-color: var(--fill-color);\n",
       "      border-top-color: var(--fill-color);\n",
       "      border-right-color: var(--fill-color);\n",
       "    }\n",
       "    40% {\n",
       "      border-color: transparent;\n",
       "      border-right-color: var(--fill-color);\n",
       "      border-top-color: var(--fill-color);\n",
       "    }\n",
       "    60% {\n",
       "      border-color: transparent;\n",
       "      border-right-color: var(--fill-color);\n",
       "    }\n",
       "    80% {\n",
       "      border-color: transparent;\n",
       "      border-right-color: var(--fill-color);\n",
       "      border-bottom-color: var(--fill-color);\n",
       "    }\n",
       "    90% {\n",
       "      border-color: transparent;\n",
       "      border-bottom-color: var(--fill-color);\n",
       "    }\n",
       "  }\n",
       "</style>\n",
       "\n",
       "      <script>\n",
       "        async function quickchart(key) {\n",
       "          const quickchartButtonEl =\n",
       "            document.querySelector('#' + key + ' button');\n",
       "          quickchartButtonEl.disabled = true;  // To prevent multiple clicks.\n",
       "          quickchartButtonEl.classList.add('colab-df-spinner');\n",
       "          try {\n",
       "            const charts = await google.colab.kernel.invokeFunction(\n",
       "                'suggestCharts', [key], {});\n",
       "          } catch (error) {\n",
       "            console.error('Error during call to suggestCharts:', error);\n",
       "          }\n",
       "          quickchartButtonEl.classList.remove('colab-df-spinner');\n",
       "          quickchartButtonEl.classList.add('colab-df-quickchart-complete');\n",
       "        }\n",
       "        (() => {\n",
       "          let quickchartButtonEl =\n",
       "            document.querySelector('#df-f72500e6-1aa8-454b-81b8-85e5372f23b6 button');\n",
       "          quickchartButtonEl.style.display =\n",
       "            google.colab.kernel.accessAllowed ? 'block' : 'none';\n",
       "        })();\n",
       "      </script>\n",
       "    </div>\n",
       "\n",
       "    </div>\n",
       "  </div>\n"
      ],
      "text/plain": [
       "  source search_words                                              url title  \\\n",
       "0    블로그        아기+잠깨      https://blog.naver.com/srhymin/223091161466   NaN   \n",
       "1    블로그        아기+잠깨       https://blog.naver.com/sukm83/223091879514   NaN   \n",
       "2    블로그        아기+잠깨  https://blog.naver.com/dldptmf5134/223096875782   NaN   \n",
       "3    블로그        아기+잠깨      https://blog.naver.com/lia1100/223095799488   NaN   \n",
       "4    블로그        아기+잠깨   https://blog.naver.com/perfect_aj/223095824533   NaN   \n",
       "\n",
       "                                            contents  \\\n",
       "0  저희 아기는 신생아때부터 청각과 촉각이 예민해 잠도 깊게 못 잘 뿐더러 잠투정이 정...   \n",
       "1  정신없는 주방한켠 뒤죽박죽 알 수 없는 용기에 양념과 소스가 담겨져 있기에 주방이 ...   \n",
       "2  안녕하세요 지유맘입니다! 오늘은 지유가 이유식과 유아식 그 중간즈음 토핑식을 할 때...   \n",
       "3  안녕하세요 라온엄마에요 오늘은 조금 특이한 아기 반찬을 준비했어요 방풍나물을 이용한...   \n",
       "4  6 12개월 아기의 1일 권장 물섭취량은 220ml정도라고 한다. 음 우래기는.. ...   \n",
       "\n",
       "                                     tagged_contents  \\\n",
       "0  ['저희', '아기', '신생아', '때', '청각', '촉각', '잠도', '못'...   \n",
       "1  ['정신', '방한', '뒤죽박죽', '알', '수', '용기', '양념', '소스...   \n",
       "2  ['지유', '맘', '오늘', '지유', '이유식', '유아식', '그', '중간...   \n",
       "3  ['엄마', '오늘', '조금', '아기', '반찬', '준비', '방', '나물'...   \n",
       "4  ['개월', '아기', '권장', '물섭취량', '정도', '음', '우리', '애...   \n",
       "\n",
       "                                              vector  umap_kmeans_cluster  \\\n",
       "0  [ 0.18305127 -1.2801502  -0.44998685  0.799018...                    4   \n",
       "1  [ 3.5914354e+00 -2.2061694e+00  1.5965343e+00 ...                    1   \n",
       "2  [ 3.4138811e-01 -5.3281033e-01 -1.3500248e+00 ...                    1   \n",
       "3  [ 0.9519698  -1.2839632  -0.3893606  -0.134541...                    1   \n",
       "4  [ 0.47277522 -0.9469169   1.0451334  -0.120348...                    5   \n",
       "\n",
       "   1st_cluster  \n",
       "0            2  \n",
       "1            2  \n",
       "2            2  \n",
       "3            2  \n",
       "4           -1  "
      ]
     },
     "execution_count": 64,
     "metadata": {},
     "output_type": "execute_result"
    }
   ],
   "source": [
    "# 차원축소한 임베딩 값, 클러스터링 레이블을 원본 데이터 프레임에 추가\n",
    "df['1st_cluster'] = labels\n",
    "# df['embedding'] = clusterable_embedding\n",
    "df.head()"
   ]
  },
  {
   "cell_type": "code",
   "execution_count": 65,
   "metadata": {
    "executionInfo": {
     "elapsed": 24796,
     "status": "ok",
     "timestamp": 1746985096997,
     "user": {
      "displayName": "Jynn Choi",
      "userId": "05254382451746305735"
     },
     "user_tz": -540
    },
    "id": "j2hob4hwSSYw"
   },
   "outputs": [],
   "source": [
    "# df를 csv로 저장\n",
    "df.to_csv('1st_clustering_0512.csv', index=False, encoding='utf-8-sig')"
   ]
  },
  {
   "cell_type": "markdown",
   "metadata": {
    "id": "VKLvNFuRSSYw"
   },
   "source": [
    "# 일부 클러스터 제외 후 다시 저장!"
   ]
  },
  {
   "cell_type": "code",
   "execution_count": null,
   "metadata": {
    "id": "Ql0SoqPFSSYw"
   },
   "outputs": [],
   "source": [
    "# 1) 복제\n",
    "df2 = df.copy()\n",
    "\n",
    "# 2) cluster가 -1인 행 제거\n",
    "df2 = df2[~df2['cluster'].isin([-1])]\n",
    "\n",
    "# 3) CSV로 저장\n",
    "df2.to_csv(\"clustering_0505_YR_4thTry.csv\", index=False, encoding=\"utf-8-sig\")"
   ]
  },
  {
   "cell_type": "markdown",
   "metadata": {
    "id": "b2s_T2eKSSYw"
   },
   "source": [
    "# c-TF-IDF"
   ]
  },
  {
   "cell_type": "code",
   "execution_count": 2,
   "metadata": {
    "executionInfo": {
     "elapsed": 45,
     "status": "ok",
     "timestamp": 1746985105444,
     "user": {
      "displayName": "Jynn Choi",
      "userId": "05254382451746305735"
     },
     "user_tz": -540
    },
    "id": "UA68p5R9SSYw"
   },
   "outputs": [],
   "source": [
    "from sklearn.feature_extraction.text import CountVectorizer"
   ]
  },
  {
   "cell_type": "code",
   "execution_count": 5,
   "metadata": {
    "executionInfo": {
     "elapsed": 28566,
     "status": "ok",
     "timestamp": 1746985157498,
     "user": {
      "displayName": "Jynn Choi",
      "userId": "05254382451746305735"
     },
     "user_tz": -540
    },
    "id": "xrQDMPASSSYw"
   },
   "outputs": [],
   "source": [
    "df = pd.read_csv('./1st_clustering_0512.csv')\n",
    "texts = df['contents'].tolist()\n",
    "texts = [clean_text(t) for t in texts]"
   ]
  },
  {
   "cell_type": "code",
   "execution_count": 69,
   "metadata": {
    "colab": {
     "base_uri": "https://localhost:8080/",
     "height": 295
    },
    "executionInfo": {
     "elapsed": 6544,
     "status": "ok",
     "timestamp": 1746985164050,
     "user": {
      "displayName": "Jynn Choi",
      "userId": "05254382451746305735"
     },
     "user_tz": -540
    },
    "id": "mZDKhyScSSYx",
    "outputId": "894f03a0-5021-4e17-c259-157f9dd0948a"
   },
   "outputs": [
    {
     "data": {
      "application/vnd.google.colaboratory.intrinsic+json": {
       "summary": "{\n  \"name\": \"df\",\n  \"rows\": 79942,\n  \"fields\": [\n    {\n      \"column\": \"source\",\n      \"properties\": {\n        \"dtype\": \"category\",\n        \"num_unique_values\": 3,\n        \"samples\": [\n          \"\\ube14\\ub85c\\uadf8\",\n          \"\\uce74\\ud398\",\n          \"\\ube14\\ub77c\\uc778\\ub4dc\"\n        ],\n        \"semantic_type\": \"\",\n        \"description\": \"\"\n      }\n    },\n    {\n      \"column\": \"search_words\",\n      \"properties\": {\n        \"dtype\": \"category\",\n        \"num_unique_values\": 6,\n        \"samples\": [\n          \"\\uc544\\uae30+\\uc7a0\\uae68\",\n          \"\\ub0ae\\uc7a0+\\uc544\\uae30\",\n          \"\\uc544\\uae30+\\uc790\"\n        ],\n        \"semantic_type\": \"\",\n        \"description\": \"\"\n      }\n    },\n    {\n      \"column\": \"url\",\n      \"properties\": {\n        \"dtype\": \"string\",\n        \"num_unique_values\": 68894,\n        \"samples\": [\n          \"https://blog.naver.com/sh93320/223162752120\",\n          \"https://blog.naver.com/hm_day/223220016746\",\n          \"https://blog.naver.com/me_llamo_tina/223172796795\"\n        ],\n        \"semantic_type\": \"\",\n        \"description\": \"\"\n      }\n    },\n    {\n      \"column\": \"title\",\n      \"properties\": {\n        \"dtype\": \"category\",\n        \"num_unique_values\": 24141,\n        \"samples\": [\n          \"1\\uac1c\\uc6d4\\uc544\\uae30 \\ubc1c\\ub2ec\\uae30\\ub85d \\uc2e0\\uc0dd\\uc544 \\ud1b5\\uc7a0 \\uc218\\uc720\\ud140 \\ubd84\\uc720\\ub7c9 \\ud130\\ubbf8\\ud0c0\\uc784\",\n          \"2\\uac1c\\uc6d4 \\uc544\\uae30 \\ub0ae\\uc7a0,\\ubc24\\uc7a0 \\ubd10\\uc8fc\\uc138\\uc694\\u315c\\u315c\",\n          \"\\uc5b4\\ub9b0\\uc774\\uc9d1 \\ub0ae\\uc7a0\\uc774\\ubd88 \\uc138\\ud2b8 \\ub3c4\\ub178\\ub3c4\\ub178 \\uc77c\\uccb4\\ud615 \\uac74\\uc870\\uae30 \\uac00\\ub2a5 \\ub0ae\\uc7a0\\uc774\\ubd88\"\n        ],\n        \"semantic_type\": \"\",\n        \"description\": \"\"\n      }\n    },\n    {\n      \"column\": \"contents\",\n      \"properties\": {\n        \"dtype\": \"string\",\n        \"num_unique_values\": 77100,\n        \"samples\": [\n          \"\\uce5c\\uad6c \\uc0dd\\uc77c\\uc774\\ub77c \\uc0dd\\uc77c \\ucd95\\ud558\\ub3c4 \\uc5f4\\uc2ec\\ud788 \\ud574\\uc8fc\\uc5c8\\ub2e4\\uace0 \\ud588\\uc5b4. \\uc9d1\\uc5d0 \\ub3cc\\uc544\\uc628 \\ud589\\ubcf5\\uc774\\ub294 \\uc774\\uc720\\uc2dd\\uc744 \\uac70\\ubd80 \\ubd84\\uc720 \\uba39\\uace0 \\ub0b8\\ub0b4 \\ucf54\\ucf54 \\ud588\\ub2e8\\ub2e4. \\uc790\\ub2e4\\uac00 \\ub07c\\uc789 \\uac70\\ub824\\uc11c \\uc5c4\\ub9c8\\uac00 \\ud1a0\\ub2e5\\ud1a0\\ub2e5\\ud558\\uba70 \\uc606\\uc5d0 \\uc788\\uc5b4\\uc8fc\\uc5c8\\uc5b4. \\ub0ae\\uc7a0 \\uc790\\uace0 \\uc77c\\uc5b4\\ub09c \\ud589\\ubcf5\\uc774\\uc5d0\\uac8c \\ub2e4\\uc2dc \\uc774\\uc720\\uc2dd \\uc8fc\\ub294\\ub370 \\uc548 \\uba39\\ub294 \\uac70\\uc57c. \\uadf8\\ub798\\uc11c \\uc774\\uc720\\uc2dd\\uc744 \\uc816\\ubcd1\\uc5d0 \\ub123\\uc5b4\\uc8fc\\ub2c8 \\ucabd\\ucabd\\ucabd \\uba39\\uc5b4 \\uadf8\\ub7ec\\ub2e4 \\ube68\\ub300\\ucef5\\uc73c\\ub85c \\uc62e\\uaca8 \\uc8fc\\uc5c8\\ub354\\ub2c8 \\ub610 \\uc798 \\uba39\\ub294 \\uac70\\uc57c. \\uc5c4\\ub9c8\\ub294 \\ud589\\ubcf5\\uc774 \\uc774 \\uc0e4\\uc6cc\\ub97c \\ud588\\uc5b4. \\uc695\\uc2e4\\uc5d0\\ub294 \\uc5bc\\ub9c8 \\uc804\\uc5d0 \\ubc1b\\uc740 \\uc0ac\\ub791\\uc774\\uc758 \\uadc0\\uc5fd\\uace0 \\uc791\\uc740 \\ubd84\\ud64d\\uc0c9 \\uc2ac\\ub9ac\\ud37c\\uac00 \\uc788\\ub294\\ub370 \\uc544\\ub4e4 \\ubd84\\ud64d \\uc2ac\\ub9ac\\ud37c \\uadc0\\uc5ec\\uc6cc! \\ub97c \\uc678\\uce58\\uba70 \\ud589\\ubcf5\\ud55c \\ubbf8\\uc18c\\ub97c \\uc9c0\\uc5c8\\uc5b4 \\uc0e4\\uc6cc \\ub05d\\ub09c \\ud6c4 \\ud589\\ubcf5\\uc774\\ub294 \\ub0ae\\uc7a0\\uc740 \\uc790\\uace0 \\uc0ac \\ub791\\uc774\\ub294 \\ubc25\\uc744 \\uba39\\uc5c8\\ub294\\ub370 \\ud55c \\uadf8\\ub987 \\ub69d \\ub531!! \\ud558\\uace4 \\ub538\\uae30\\ub3c4 \\uba39\\uc5c8\\uc9c0. \\ub0ae\\uc7a0 \\uc790\\uace0 \\uc77c\\uc5b4\\ub09c \\ud589\\ubcf5\\uc774\\ub294 \\ubc25\\uc744 \\uc798 \\uba39\\uc9c0 \\uc54a\\uc558\\uc5b4. \\uc774\\uc81c \\uc2ac\\uc2ac \\ubd84\\uc720 \\uc904\\uc774\\uace0 \\uc774\\uc720\\uc2dd \\ub298\\ub824\\uc57c \\ud558\\ub294\\ub370 \\uc774\\uc720\\uc2dd\\uc744 \\uc5ed\\uc2dc \\ud3c9\\uc77c\\uc5d0 \\uc0ac\\ub791\\uc774\\ub294 \\uc774\\ubd88\\uc5d0\\uc11c \\ub4b9\\uad74\\ub4b9\\uad74\\ud558\\uba70 \\uc27d\\uac8c \\uc77c\\uc5b4\\ub098\\uc9c0 \\ubabb\\ud588\\uc5b4 \\uadf8\\ub798\\ub3c4 \\uc5c4\\ub9c8\\uc758 \\uc721\\uc544 \\uc2a4\\ud0ac\\ub85c \\uc77c\\uc5b4\\ub098\\uac8c \\uc131\\uacf5\\ud55c \\uc0ac\\ub791\\uc774\\uc640 \\ud589\\ubcf5\\uc774\\ub294 \\uc5b4\\ub9b0\\uc774\\uc9d1\\uc5d0 \\uac08 \\uc900\\ube44\\ub97c \\ud588\\uc9c0 \\ub5a1\\ubee5 \\uba39\\uace0 \\ud589\\ubcf5\\uc774 \\uc785\\uc5d0\\ub3c4 \\ub123\\uc5b4\\uc8fc\\uace0 \\uc624\\ub298 \\uc5b4\\ub9b0\\uc774\\uc9d1\\uc5d0\\uc11c \\uccb4\\uc721\\uacf5\\uc6d0\\uc5d0 \\uac04\\ub2e4\\uace0 \\uc77c\\ucc0d \\uc5b4\\ub9b0\\uc774\\uc9d1\\uc5d0 \\uac00\\uc57c \\ub41c\\ub2e4\\uace0 \\uc774\\uc57c\\uae30\\ud574\\uc8fc\\uc5c8 \\ubf40\\ub85c \\ud558\\uace0 \\ub09c\\ub9ac\\uc600\\ub2e8\\ub2e4. \\uadf8\\ub7ec\\ub2e4 \\uac11\\uc790\\uae30 \\uc7a0\\ub4e4\\uc5b4 \\uc788\\ub294 \\uc544\\uac00\\ub4e4\\uc774\\uc57c. \\uc624\\ub298\\ub3c4 \\uc5c4\\ub9c8 \\uc544\\ube60\\ub294 \\uc0ac\\ub791\\uc774\\uc640 \\ud589\\ubcf5\\uc774 \\ub355\\ubd84\\uc5d0 \\ub9ce\\uc774 \\uc6c3\\uc5c8\\uc5b4 \\uace0\\ub9c8\\uc6cc. D 915 \\uc0ac\\ub791\\uc774 \\ud558\\ub8e8 \\uc0ac\\ub791\\uc774\\ud558\\ub8e8 \\uc721\\uc544\\uc77c\\uae30 \\uc721\\uc544\\ube0c\\uc774\\ub85c\\uadf8 m.blog.naver.com D 375 \\ud589\\ubcf5\\uc774 \\ud558\\ub8e8 \\ud589\\ubcf5\\uc774\\ud558\\ub8e8 \\uc721\\uc544\\uc77c\\uae30 \\uc721\\uc544\\ube0c\\uc774\\ub85c\\uadf8 m.blog.naver.com\",\n          \"\\uc794\\uc794\\ud558\\uac8c \\ud53c\\uace4\\ud55c\\ub370 \\ub098\\uc058\\uc9c4 \\uc54a\\ub2e4 \\uc624 \\ub0b4\\uac00 \\ud55c \\ub9d0\\uc774\\uc9c0\\ub9cc \\uc801\\uc808\\ud55c \\ud45c\\ud604\\uc778\\ub4ef?? \\ubc8c\\uc368 4\\uac1c\\uc6d4\\uc774 \\uac00\\uae4c\\uc6cc\\uc838 \\uc624\\ub2e4\\ub2c8 3\\uac1c\\uc6d4 \\uc544\\uae30 \\uc721\\uc544\\ub294 \\uc880 \\uc815\\uc2e0\\uc774 \\uc5c6\\ub2e4. \\uadf8\\ub807\\uc9c0\\ub9cc \\ub610 \\ud06c\\uac8c \\ub2ec\\ub77c\\uc9c4 \\uac8c \\uc5c6\\ub294 \\uac83 \\uac19\\uae30\\ub3c4 \\ud558\\uace0..? \\uc57c\\uad6c \\uae08\\uba54\\ub2ec \\ub300\\ub9cc \\ud558\\ub098\\ub9cc \\uc774\\uae30\\uba74 \\ub418\\ub294 \\ub300\\ud68c\\ub77c\\ub2c8 \\ucc38 \\ud604\\ud0c0\\uc624\\uba74\\uc11c\\ub3c4 \\uae40\\ud61c\\uc131\\uc774 \\uad70\\uba74\\uc81c\\ub77c\\ub2c8 \\uadf8\\uac8c \\ub610 \\uc88b\\uace0 \\ub098\\ub3c4 \\uaf64\\ub098 \\ub2e8\\uc21c\\ud558\\ub124 \\ubcd1\\uc5ed\\ubb38\\uc81c\\ub294 \\uc6cc\\ub099 \\ubbfc\\uac10\\ud55c \\uc598\\uae30\\uc774\\ub2c8 \\ub354 \\uc598\\uae30\\ud558\\uc9c0 \\uc54a\\ub294 \\uac78\\ub85c \\uc800\\ubc88\\uc5d0 \\uc5b4\\uba38\\ub2d8\\uaed8\\uc11c \\ud574\\uc8fc\\uc2e0 \\ub2e8\\ud638\\ubc15\\uc2a4\\ud504\\uac00 \\ub108\\uc5b4\\uc5b4\\ubb34 \\ub9db\\uc788\\uc5b4\\uc11c \\ub098\\ub3c4 \\ube44\\ubc95 \\uc804\\uc218\\ubc1b\\uc544 \\ub3c4\\uc804 \\ub2f9\\uadfc\\uc774 \\ub35c \\ub4e4\\uc5b4\\uac00\\uc11c \\uadf8\\ub7f0\\uc9c0 \\uadf8\\ub54c\\ub9cc\\ud07c\\uc740 \\uc544\\ub2c8\\uc5c8\\ub2e4 \\ubb54\\uac00.. \\ud638\\ubc15\\uc8fd\\ub290\\ub08c?? \\uadf8\\ub798\\ub3c4 \\ub9db\\uc788\\uac8c \\ud55c\\ub07c \\ub0e0 \\uc694\\uc998 \\uacf5\\uad6c\\uc5d0 \\ube60\\uc84c\\ub2e4. \\ub0b4\\uac00 \\uc624\\ub798 \\uc804 8 9\\ub144\\uc804? \\ube14\\ub85c\\uadf8\\ub97c \\ud558\\uac8c \\ub41c \\uacc4\\uae30\\uac00 \\ud574\\uc090\\ub2d8 \\ube14\\ub85c\\uadf8\\ub97c \\ubd24\\ub358 \\uadf8\\ub54c\\uc600\\ub294\\ub370.. \\uadf8\\ub140\\uc758 \\ub0a8\\ud3b8 \\uc2b9\\uc0c1\\ub2d8\\uc774 \\ub610 \\uacf5\\uad6c\\ub97c \\uc5f4\\uc2ec\\ud788 \\uc5f4\\uace0 \\uacc4\\uc2ec Tmi \\uadf8 \\ubd80\\ubd80\\uc758 \\uc560\\uae30\\ub3c4 \\ub465\\uae00\\uc774\\ub791 1\\uc8fc\\uc77c \\ucc28\\uc774\\ub0a8.. \\uadf8 \\uc804\\uc5d4 \\ubcc4 \\uad00\\uc2ec\\uc5c6\\ub2e4\\uac00 \\ud480\\ub9ac\\uc624 \\uc88b\\uc544\\ubcf4\\uc5ec\\uc11c \\uc0c0\\ub294\\ub370 \\uadf8 \\ub4a4\\uc5d0 \\uba85\\ub780\\uae40\\ub3c4 \\uc0c0\\uad6c\\uc694? \\ud30c\\ub77c\\ud540\\uae30\\ub3c4 \\uc0c0\\uad6c\\uc694? \\uadfc\\ub370 \\ubaa8\\ub450 \\uad1c\\ucc2e\\uc558\\uc74c \\ud30c\\ub77c\\ud540\\uc740 \\ub098\\ub9cc \\ud558\\ub294\\uac8c \\uc544\\uc27d\\uc9c0\\ub9cc \\ud2b9\\ud788 \\ud480\\ub9ac\\uc624 \\uc774\\uac70 \\uc88b\\ub2e4! \\uc544\\ube60 \\uc0dd\\uc2e0 \\ub465\\uae00\\uc774 \\ub54c\\ubb38\\uc5d0 \\uc815\\uc2e0\\uc5c6\\uc5c8\\uc9c0\\ub9cc \\ud30c\\ud2f0\\ub3c4 \\uc798 \\ub9c8\\uce68! \\uadf8\\ub9ac\\uace0 \\uc774 \\ucc45\\ub4e4.. \\uc544\\ub2c8 \\uc774 \\ucc45\\ub4e4 \\ub05d\\uae4c\\uc9c0 \\uc77d\\uc5b4\\uc8fc\\uc2dc\\ub294 \\ubd84\\ub4e4 \\uacc4\\uc2e4\\ub7f0\\uc9c0 \\uc6b0\\ub9ac \\ubd80\\ubd80\\ub294 \\ucd08\\ucd08 \\uac8c\\uc744\\ub7ec\\uc11c \\uc55e\\uc5d0 \\uba87\\uc7a5\\uc77d\\uace0 \\ub05d \\ub2f9\\uadfc \\ub0b4\\ub1a8\\ub294\\ub370 \\uc785\\uc9c8\\ub3c4 \\uc548\\uc628\\ub2e4 \\ud751\\ud751 \\uc694\\uc998\\uc740 \\ubab8\\uc73c\\ub85c \\ub180\\uc544\\uc8fc\\ub294 \\uc911\\uc774\\ub2e4. \\uc7a5\\ub09c\\uac10\\ubcf4\\ub2e4 \\uc774\\ub7f0 \\uc560\\ucc29\\ud615\\uc131\\uc744\\ub354 \\uc88b\\uc544\\ud558\\ub294 \\ub4ef \\ub465\\uae00 \\ub118 \\uadc0\\uc5ec\\uc6cc.. \\uc4f0\\uace0 \\uc788\\ub294\\ub370 \\uc560\\uae30\\uac00 \\uae68\\ub824\\uace0 \\ud55c\\ub2e4.. \\ube68\\ub9ac \\uc4f0\\uace0 \\uac00\\uc57c\\ub514 \\uc218\\uc694\\uc77c\\uc5d0\\ub294 \\ub465\\uae00 \\uc9c4\\ub8cc\\uac00 \\uc788\\uc5c8\\ub2e4. \\ubc1c\\ubcd1 2\\uc8fc \\ud6c4 \\uc2ec\\ucd08\\uc74c\\ud30c \\uacb0\\uacfc \\uc815\\uc0c1! \\ubc1c\\ubcd1\\ub2f9\\uc2dc\\uc5d0\\ub3c4 \\uc815\\uc0c1\\uc774\\uc5c8\\uc9c0\\ub9cc \\ub9e4\\uc6b0 \\uae34\\uc7a5\\ud588\\ub294\\ub370 \\uc9c0\\uae08\\ub3c4 \\uc815\\uc0c1\\uc774\\ub77c\\ub2c8 \\ub118 \\ub2e4\\ud589\\uc774\\uc5c8\\ub2e4. \\ubcd1 \\uc790\\uccb4\\ubcf4\\ub2e4 \\ud6c4\\uc720\\uc99d\\uc774 \\ub354 \\ud070\\uc9c0\\ub77c.. \\uc55e\\uc73c\\ub85c\\ub3c4 \\uc870\\uc2ec \\uc911\\uac04\\uc5d0 \\uc720\\ubaa8\\ucc28\\uc5d0\\uc11c \\uc7ac\\uc6e0\\ub294\\ub370 \\ub108\\ubb34 \\uc798\\uc790\\uc92c\\ub2e4. \\uc9d1\\uc5d0\\uc11c\\ub3c4 \\ub4f1\\ub300\\uace0 \\uc798 \\uc218 \\uc788\\uc9c0? \\uc81c\\ub2c8\\uc2a4\\uc2a4\\ud29c\\ub514\\uc624\\uc5d0\\uc11c \\ubc1b\\uc740 12\\ud398\\uc774\\uc9c0 \\uc568\\ubc94 \\uc870\\ub9ac\\uc6d0\\uc5d0\\uc11c \\ub274\\ubcf8\\ucd2c\\uc601 \\ud6c4 50\\uc77c\\ucd2c\\uc601\\uae4c\\uc9c0 \\uac14\\ub294\\ub370 \\uc6b0\\ub9ac\\ub294 \\uc131\\uc7a5\\uc568\\ubc94\\uc744 \\uacc4\\uc57d\\ud55c \\uc0c1\\ud0dc\\ub77c \\ub530\\ub85c \\ub3c8\\uc744 \\uc4f0\\uc9c4 \\uc54a\\uc558\\ub2e4. \\uadf8\\ub798\\ub3c4 \\uc568\\ubc94 \\uc798 \\ub9cc\\ub4e4\\uc5b4\\uc8fc\\uc154\\uc11c \\uac10\\uc0ac\\ud588\\ub2e4. \\uadf8\\ub9ac\\uace0 \\uc5c4\\ub9c8 \\ud658\\uac11\\uae30\\ub150 \\uc800\\ubc88\\uc5d0 \\uc120\\ubb3c \\uc0ac\\ub4dc\\ub9b0 \\ub370 \\uc774\\uc5b4 \\uc544\\ube60\\uac00 \\uc0ac\\uc8fc\\ub294 \\uc120\\ubb3c\\uc0ac\\ub7ec \\ub86f\\ub370 \\uc560\\ube44\\ub274\\uc5d8\\ub85c \\uace0\\uace0 \\ubd88\\uac00\\ub9ac \\ube44\\uc81c\\ub85c\\uc6d0 \\ubaa9\\uac78\\uc774.. \\ud30c\\ubca0\\ub791 \\uace0\\ubbfc\\ud588\\uc9c0\\ub9cc \\uc5c4\\ub9c8\\ub294 \\ube0c\\ub77c\\uc6b4\\uc138\\ub77c\\ubbf9\\uc774 \\uc5b4\\uc6b8\\ub824\\uc11c \\ub85c\\uace8 \\ube0c\\ub77c\\uc6b4\\uc73c\\ub85c \\uc815\\ud588\\ub2e4. \\ubd88\\uac00\\ub9ac \\ud06c\\uac8c \\uad00\\uc2ec\\uc5c6\\ub358 \\ube0c\\ub79c\\ub4dc\\uc778\\ub370 \\uaf64\\ub098 \\uace0\\uae09\\uc838\\ubcf4\\uc774\\uace0 \\ub2e4 \\uc608\\uc058\\ub354\\ub77c. \\ub465\\uae00\\uc774\\uc758 \\uc694\\uc998 \\uad00\\uc2ec\\uc0ac\\ub294 \\ucf58\\ud478\\ub85c\\uc2a4\\ud2b8 \\uc0c9\\uae54 \\ud654\\ub824\\ud558\\uace0 \\uadf8\\ub9bc\\ub3c4 \\uc788\\uc5b4\\uc11c \\uc88b\\uc544\\ud558\\ub294 \\uac83 \\uac19\\ub2e4. \\uc774\\ucbe4\\uc5d0\\uc11c \\ub465\\uae00\\uc774\\uc758 \\uc694\\uc998\\uc744 \\uc801\\uc5b4\\ubcf4\\uc790\\uba74 \\ud06c\\uac8c \\ub2ec\\ub77c\\uc9c4 \\uac74 \\uc5c6\\uc9c0\\ub9cc 1. \\uc190\\uc744 \\ub108\\uc5b4\\uc5b4\\uc5b4\\ubb34 \\ube64\\ub2e4. \\uce58\\ubc1c\\uae30 \\uba87\\uac1c\\ub97c \\uc950\\uc5b4\\uc92c\\uc9c0\\ub9cc \\uc9c4\\uc9dc \\uc548\\ubb3c\\ub354\\ub2c8 \\uba54\\ub514\\ud1a0\\uc774 \\uce58\\ubc1c\\uae30 \\uc774\\uac74 \\uc880 \\ubb34\\ub294\\ub4ef 2. \\uc694\\uc998\\uc740 \\ub610 \\uc790\\uae30\\uc8fc\\uc7a5\\uc774 \\uaf64\\ub098 \\uac15\\ud574\\uc838\\uc11c \\uc2e0\\uacbd\\uc9c8\\ub0b4\\uba74\\uc11c \\uc6b8 \\ub54c\\ub3c4 \\uc788\\ub294\\ub370 \\uadf8\\uac83\\ub3c4 \\uadc0\\uc5fd\\ub2e4 \\ubb3c\\ub860 \\uc548\\uadc0\\uc5ec\\uc6b8 \\ub54c\\ub3c4 \\ub9ce\\uc74c.. 3. \\ub4a4\\uc9d1\\uae30\\uc5f0\\uc2b5\\uc740 \\uc694\\uc998\\ub3c4 \\uc5f4\\uc2ec\\ud788 \\ud558\\ub294\\ub370 \\uc65c \\ub3cc\\uc544\\ub204\\uc6cc\\uc11c \\uc5f4\\uc2ec\\ud788 \\uc190\\uc744 \\ube68\\uc9c0.. \\uc190\\uc744 \\uc9da\\uc5b4\\uc57c \\ub4a4\\uc9d1\\uc9c0 \\uc131\\uc2e4\\ud558\\uac8c \\uc5f0\\uc2b5\\ud558\\uace0 \\uc788\\uc9c0 \\uc54a\\uc740 \\uac78 \\ubd10\\uc120 \\uc2dc\\uac04 \\uc880 \\uac78\\ub9b4\\ub4ef 4. \\uc2ac\\ud504\\uac8c\\ub3c4 \\uc7a0\\uc744 \\ud3c9\\uc18c\\uc5d0 \\ube44\\ud574 \\uc798 \\uc548\\uc794\\ub2e4.. \\ub465\\uae00\\uc774\\ub294 \\uc7a0\\uc5d0 \\uc788\\uc5b4\\uc120 \\uc9c4\\uc9dc \\ub2e4\\ub978 \\uc560\\uae30\\ub4e4\\uc5d0 \\ube44\\ud574 \\uac71\\uc815 \\uc548\\uc2dc\\ud0a4\\ub294 \\uc544\\uae30\\uc778\\ub370.. \\uc694\\uc998\\uc740 \\ub0ae\\uc7a0\\ub3c4 \\uae08\\ubc29 \\uae68\\uace0 \\uc0c8\\ubcbd\\uc5d0 \\ud55c\\ubc88 \\uae68\\uba74 \\uaf64 \\uc624\\ub79c\\uc2dc\\uac04 \\uc548\\uc794\\ub2e4.. \\ucabd\\ucabd\\uc774 \\ubb3c\\ub824\\uc8fc\\uba74 \\uae08\\ubc29 \\ubc49\\uace0 \\uc190 \\ube68\\ub824\\uace0 \\ud568 4\\uac1c\\uc6d4\\ucbe4 \\ub418\\uba74 \\ub0ae\\uc7a0\\uc2dc\\uac04\\ub3c4 \\uc904\\uace0 \\uc0c8\\ubcbd\\uc5d0\\ub3c4 \\uc885\\uc885 \\uae6c\\ub2e4\\ub294\\ub370.. \\ub2e4\\ub978\\uac74 \\ubaa8\\ub974\\uaca0\\uace0 \\ub465\\uae00\\uc774\\uac00 \\ub9ce\\uc774 \\ud53c\\uace4\\ud558\\uc9c0 \\uc54a\\uc73c\\uba74 \\uc88b\\uaca0\\uc5b4 \\uc624\\ub298\\uc740 \\ube44\\uac00 \\uc624\\ub124 \\ud14c\\ub77c\\uc2a4\\ub97c \\ubcf4\\ub2c8 \\uc6b4\\uce58\\uc788\\uad70.. \\uc774 \\uc544\\ub2c8\\uace0 \\uc7ac\\ube68\\ub9ac \\uc758\\uc790 \\uc138\\uc6cc\\ub193\\uace0 \\uc2ac\\ub9ac\\ud37c \\uc138\\uc6cc\\ub194\\uc57c \\ud55c\\ub2e4. \\uc544\\ub2c8\\uba74 \\ubb3c \\ub2e4 \\uace0\\uc784 \\ub0ad\\ub9cc\\ud30c\\uad34 \\uc815\\uc2e0\\uc5c6\\uac8c \\uc37c\\uc9c0\\ub9cc \\ub465\\uae00\\uc774 \\uc790\\ub294 \\uc2dc\\uac04\\uc5d0 \\uc368\\uc57c \\ud558\\uae30 \\ub54c\\ubb38\\uc5d0 \\uc5b4\\uca54 \\uc218 \\uc5c6\\uc5c8\\ub2e4. \\ub098 \\ubcf4\\ub824\\uace0 \\uc4f0\\uace0 \\uc788\\ub294 \\uc77c\\uc0c1\\ud3ec\\uc2a4\\ud305 \\ub05d\",\n          \"3\\ub144\\ub9cc\\uc5d0 \\ub86f\\ub370\\uc6d4\\ub4dc!!!! \\uac00\\uae30\\uc804\\uc5d0 \\uac74\\ub300 \\uc9c0\\ud558\\ucca0\\uc5ed \\uc55e\\uc5d0\\uc11c \\uac04\\ub2e8\\ud788 \\uc544\\uce68 \\ud574\\uacb0 !!! \\ub0a0\\uc528 \\ubaa8\\uc57c \\ube44\\uc628\\ub2e4\\uba70? \\ub098 \\ud589\\ubcf5\\ud574 \\uc815\\ub9d0!! \\uad50\\ubcf5 \\uace8\\ub77c \\uace8\\ub77c \\uc774\\uc05c\\uac70 \\uc9f1 \\ub9ce\\uc544 \\ub514\\uc790\\uc7782\\ubc8c \\ub9cc \\uc785\\uc744\\uc218\\uc788\\ub2e4\\ub124 \\ud551\\ud06c \\ud68c\\uc0c9 \\ud68c\\uc0c9\\ub108\\ub2e4 \\ub4e4\\uc5b4\\uac04\\ub2e4\\uc789 \\ub86f\\ub370\\uc6d4\\ub4dc \\uafc8\\uacfc \\ud658\\uc0c1\\uc758 \\ub098\\ub77c \\uc5d0\\ubc84..\\ub86f\\ub370\\uc6d4\\ub4dc!! \\uc0ac\\uc9c4 \\uc798\\ucc0d\\uc5b4\\uc918 \\uc544\\uc8fc \\uc77c\\ucc10 \\uc774\\ub791 \\uc774\\uc9c4\\uc774 \\ud53c\\uc5b4\\uc2f1\\ud568 \\uc77c\\ube60\\ub85c \\ud0c0\\uc8fc\\uace0 \\uc0ac\\ud30c\\ub9ac \\uae30\\ub2e4\\ub9ac\\uba74\\uc11c \\ud55c\\ucef7 \\ud568\\ubc15 \\uc6c3\\uc74c \\ub354\\uc6cc\\ub3c4 \\uc990\\uac70\\uc6c0 \\uce04\\ub7ec\\uc2a4 \\ud06c\\ub85c\\uc2a4 \\uc778\\uc0dd\\ub124\\ucef7 \\uc5ec\\uae30 \\uc904\\uc11c\\uc11c \\ucc0d\\uc5c8\\ub294\\ub370 \\uc798\\ub098\\uc640 \\uadf8\\ub7f4\\ub9cc\\ud574 \\ubcf8 \\uaca9 \\uc801 \\uc73c \\ub85c \\uc2dc \\uc791 \\uc778\\uc0dd\\uc0f7 \\uac10\\uc0ac\\uc694 \\uc785\\uc220 \\ub108\\ubb34 \\uc544\\ud2c0\\ub780\\ud2f0\\uc2a4 \\uae30\\ub2e4\\ub9ac\\ub294 \\uc904 \\uae30\\ub2e4\\ub77c\\uba74\\uc11c \\uc791\\uc740 \\uc544\\uae30\\uc0c8 \\uc0dd\\uac01 \\ub098\\ub124.. \\uc544\\uae30\\uc0c8 \\uac00\\uc871 \\ub354\\uc6cc \\uadf8\\ub298\\uc774 \\ud314\\uc694\\ud574 \\uc228\\uc5b4\\uc11c \\ud578\\ub4dc\\ud3f0 \\ud558\\uae30 \\ucf5c\\ud31d\\ub3c4 \\uc624\\ub79c\\ub9cc\\uc774\\uc57c \\uc9c4\\uc9dc \\uace0\\ub529 \\uc73c\\ub85c \\ub3cc\\uc544\\uac04 \\ub290\\ub08c \\ucc21\\uae0b \\ub108\\ubb34 \\uc7ac\\ubc0c\\uc5b4 \\ubb34\\uc11c\\uc6cc \\ub86f\\ub370\\ud0c0\\uc6cc \\uaf2c\\uae54\\ucf58 \\uce5c\\uad6c \\uc778\\uc0dd\\uc0f7 \\uc091\\uc5b4\\uc8fc\\uae30 \\uacb0\\uacfc\\ubb3c \\ub098\\ub294 \\uc65c \\ub2e4\\ub4e4 \\ub0a8\\uce5c\\uc774\\ub791 \\ucc0d\\ub358\\ub370 \\uc4f8\\uc4f8 \\uccb4\\ub825 \\ubaa8\\uc9c8\\ub77c \\uc9d1\\uac00\\uc57c\\ud574 \\uad50\\ubcf5 \\uac08\\uc544\\uc785\\uc73c\\ub7ec \\uac70\\uc140 \\ub9c8\\uc9c0\\ub9c9 \\uad50\\ubcf5 \\uac70\\uc140 \\ud0dd\\uc2dc \\ud0c0\\uace0 \\uc9d1\\ucabd\\ub118\\uc5b4\\uc640\\uc11c \\uace0\\uae30\\uba39\\uc74c \\uc785\\uc220 \\uae68 \\uc880\\uc774\\ub530 \\uba39\\uc5b4\\uc57c\\uc9c0 \\uc9d1\\uc624\\uc790\\ub9c8\\uc790 \\ub545\\ubc14\\ub2e5\\uc5d0 \\ub204\\uc6c0 \\ub9c8\\uc9c0\\ub9c9 \\uc2a4\\ub178\\uc6b0 ai\\uc0ac\\uc9c4\\uc73c\\ub85c \\ubbf8\\ucce4\\ub124 \\ub098\\uc600\\uc73c\\uba74..\"\n        ],\n        \"semantic_type\": \"\",\n        \"description\": \"\"\n      }\n    },\n    {\n      \"column\": \"tagged_contents\",\n      \"properties\": {\n        \"dtype\": \"string\",\n        \"num_unique_values\": 76925,\n        \"samples\": [\n          \"['\\ubc31\\uc77c\\uc774', '\\ubc24\\uc911', '\\uc218\\uc720', '\\uc0c8\\ubcbd', '\\ubc00\\ub9ac', '\\uc544\\uce68', '\\uc218', '\\ubc24\\uc911', '\\uc218\\uc720', '\\ucc30\\ub098', '\\uac1c\\uc6d4', '\\uc131\\uc7a5', '\\ub4f1\\uae30', '\\uc6d0\\ub354\\uc705\\uc2a4', '\\ub9de\\uc774', '\\ubc24\\uc7a0', '\\uc785\\uba74', '\\uac15\\uc131', '\\uc6b8\\uc74c', '\\uc5ec\\ud0dc', '\\ubc29', '\\ubaa8\\uc720', '\\uc218\\uc720', '\\uc548', '\\ud1b5', '\\uc544\\uae30', '\\uac70', '\\ub0b4', '\\uccb4\\ub825', '\\uc5b4\\uc820', '\\ubaa8\\uc720\\uc218\\uc720', '\\uc911', '\\ucf54\\ud53c', '\\ub098\\uae30', '\\uc5c4\\ub9c8', '\\ub9d0', '\\ud5dd', '\\uc5c4\\ub9c8', '\\uc14b', '\\uc5b4\\ucc0c', '\\ub180\\ub78c', '\\ub2e4\\uc2dc', '\\uc0c8\\ubcbd', '\\uc218\\uc720', '\\uc544\\uae30', '\\uac70', '\\uc138\\uc0c1', '\\ub9cc', '\\ube44', '\\uc0c8\\ubcbd', '\\uac10\\uc131', '\\uc774', '\\uc218\\uc720', '\\ub098', '\\uc2dc\\uac04', '\\uc880', '\\ub354', '\\ub0b4\\uc77c', '\\uc721\\uc544', '\\uace0\\ubbfc', '\\ucc28', '\\uace0\\ubbfc', '\\uc18c\\ub9ac', '\\ubfcc\\uc9c0\\uc9c1', '\\ubfe1', '\\ubfcc\\uc9c0\\uc9c1', '\\ubaa8\\uc720\\uc218\\uc720', '\\uc911', '\\uc751', '\\uc790\\uc8fc', '\\uc6b8', '\\uc544\\uae30', '\\ubc24\\uc911', '\\uc218\\uc720', '\\ub54c', '\\uac70\\uc758', '\\uae08\\ubc29', '\\uacbd\\uc6b0', '\\uc0c8\\ubcbd', '\\uc751', '\\ub0a0', '\\ubb3c', '\\ub625\\uaf2c', '\\uc544\\uae30', '\\uc7a0', '\\ud640\\ub531', '\\uae68', '\\uc774', '\\uc0c8\\ubcbd', '\\uc774', '\\uc624\\ub298', '\\uc721\\uc544', '\\uc2dc\\uc791', '\\uc2a4\\ud0c0\\ud2b8', '\\uac1c\\uc6d4', '\\uc9c4\\uc785', '\\uc0ac\\uace0', '\\uc778\\uc9c0', '\\ud3ed\\ud48d', '\\uc131\\uc7a5', '\\ub4f1\\uae30', '\\uc553\\uc774', '\\uc6d0\\ub354', '\\uc705\\uc2a4', '\\uacf5\\ud3ec', '\\uac1c\\uc6d4', '\\ub370', '\\uc774', '\\uc5bc\\ub9c8\\ub098', '\\uc6b8', '\\ubc8c\\uc368', '\\uc694\\uc0c8', '\\ubc24\\uc7a0', '\\ub2e4\\uc2dc', '\\uc218\\uba74', '\\uad50\\uc721', '\\ud558\\ub098', '\\uace0\\ubbfc', '\\uc544\\uae30', '\\ub2e4\\uc2dc', '\\uc0c8\\ubcbd', '\\ub3d9\\uc774', '\\ud2b8\\uae30', '\\uc2dc\\uc791', '\\ub09c', '\\uc5b8\\uc81c', '\\uc608\\uc804', '\\ud480', '\\uc218', '\\uc544\\uae30', '\\uc778\\uae30\\ucc99', '\\uae08\\ubc29', '\\uae68', '\\uc778', '\\ub0a8\\ud3b8', '\\uafc0\\uc7a0', '\\uac8c', '\\uc721\\uc544', '\\ud55c\\uace0\\ube44', '\\uc0c8', '\\ub9e4', '\\uc2a4\\ud14c\\uc774\\uc9c0']\",\n          \"['\\uc18c\\ub9ac', '\\uc18c\\ubb38', '\\ub458\\uc9f8', '\\ub299\\uc740\\uc774', '\\ub458\\ucc0c', '\\uc2e0\\uc0dd\\uc544', '\\ub54c', '\\ubb38\\ud654', '\\ubcd1\\uc6d0', '\\uc0b0\\ud6c4\\uc870\\ub9ac\\uc6d0', '\\uc37b', '\\ub0b4', '\\uc0b0\\ud6c4\\uc870\\ub9ac', '\\ub610', '\\uc2e4\\ud654', '\\uc790', '\\uc774\\uc81c', '\\uc0b0\\ud6c4\\uc870\\ub9ac\\uc6d0', '\\ud6c4\\uae30', '\\uc0dd\\uac01', '\\uc870\\ub9ac', '\\ud6c4\\uae30', '\\uc810', '\\uc5c5\\uccb4', '\\ubcc0\\uacbd', '\\uc2dd\\uc0ac', '\\ud004\\ub9ac\\ud2f0', '\\uc0c1\\uc2b9', '\\uc2e0\\uc0dd\\uc544', '\\uc2e4', '\\uce35', '\\uce35', '\\uc774\\ub3d9', '\\uc2e0\\uc0dd\\uc544', '\\uc2e4', '\\uce35', '\\uc0b0\\ubaa8', '\\uce35', '\\uc120\\ud638', '\\ud568', '\\ub098', '\\uce35', '\\uc37b\\ub294\\ub370', '\\uc544\\uc8fc', '\\uac15', '\\uc5d8\\ubca0', '\\ub300\\uc5ff', '\\uc606', '\\ub354', '\\ub300\\ub85c', '\\uc6b4\\ud589', '\\uad73\\uc774', '\\uce35', '\\uc548\\ud574', '\\uc653\\ub2e4\\uac13\\ub2e4', '\\uce35', '\\ucc1c\\uc9c8\\ubc29', '\\ubc0f', '\\uac04\\ud638', '\\uc0ac\\uc2e4', '\\uc2a4\\ud14c\\uc774\\uc158', '\\uc624\\uc804', '\\ud0c0\\uc784', '\\ubd84', '\\uacc4\\uc2dc', '\\uc774\\ud6c4', '\\ud1f4\\uadfc', '\\uc154', '\\uc2a4\\ud14c\\uc774\\uc158', '\\uc0ac\\ub78c', '\\ucc1c\\uc9c8\\ubc29', '\\uc0ac\\uc6a9', '\\ube68\\ub798', '\\ub9e4\\uc77c', '\\uce35', '\\ucc1c\\uc9c8\\ubc29', '\\uac00\\uc57c', '\\ubc24', '\\uac00\\uba74', '\\uce35', '\\uc880', '\\ub290\\ub08c', '\\ub290\\ub08c', '\\ub290\\ub08c', '\\uce35', '\\uc678\\ub798', '\\uc5f0\\uacb0', '\\ud1b5\\ub85c', '\\uc9c4\\ub8cc', '\\ub54c', '\\ucee4\\ud53c', '\\ub54c', '\\ud3b8\\uc758\\uc810', '\\ub54c', '\\ubc14\\ub85c', '\\uc0ac\\uc2e4', '\\uce35', '\\uc758\\ubbf8', '\\uc790', '\\uc548', '\\uc2dc\\uc124', '\\uc800', '\\uce35', '\\uc900\\ud2b9\\uc2e4', '\\uc37b\\ub294\\ub370', '\\uadf8\\ub550', '\\ub0a8\\ud3b8', '\\uc0c1\\uc8fc', '\\ubc29', '\\ud587', '\\uc774\\ubc88', '\\ud63c\\uc790', '\\uc77c\\ubc18', '\\uc2e4\\ub85c', '\\uce35', '\\uc0dd\\uac01', '\\ubc18\\uc2e4', '\\ucef7', '\\ud63c\\uc790', '\\uc544\\uc8fc', '\\ucda9\\ubd84', '\\uce68\\ub300', '\\ub110\\ub110\\ud568', '\\ud63c\\uc790', '\\ub0c9\\uc7a5\\uace0', '\\uc804\\uc790\\ub80c\\uc9c0', '\\ube44\\ubc88', '\\uc637\\uc7a5', '\\ub9e4\\uc77c', '\\uccad\\uc18c', '\\uc5ec\\uc0ac', '\\ub0b4', '\\ubc29', '\\uccad\\uc18c', '\\uc2dc\\uac04', '\\ubb38', '\\ubc29', '\\uccad\\uc18c', '\\uc8fc\\uc2ec', '\\uc911\\uc694', '\\ubb3c\\ud488', '\\ube44\\ubc88', '\\ub77d\\ucee4', '\\ubcf4\\uad00', '\\ud568', '\\uc816\\ubcd1', '\\uc18c\\ub3c5\\uae30', '\\uacf5\\uae30\\uccad\\uc815\\uae30', '\\uc2dc\\uc2a4\\ud15c', '\\uc5d0\\uc5b4\\ucee8', '\\uac70', '\\ub09c', '\\ub9c9', '\\uc608\\ubbfc', '\\ubcf4\\uc2a4', '\\uc800\\ub7f0', '\\ubd80\\ubd84', '\\ub300\\ud574', '\\ud608', '\\uad00\\ub9ac', '\\uc2e4', '\\ud608', '\\ub2e4\\ub978', '\\uc606', '\\uc0b0\\ubaa8', '\\ub9c8\\uc0ac\\uc9c0', '\\uc0ac', '\\uc5d0\\uc5b4\\ucee8', '\\uacf0\\ud321\\uc774', '\\ubcf4\\uace0', '\\uc598\\uae30', '\\uc790\\uae30', '\\ub0a8\\ud3b8', '\\ubcf4\\uace0', '\\uacbd\\uc545', '\\uac13\\ub2e4', '\\ub4a4', '\\uc5d0\\uc5b4\\ucee8', '\\ubc29\\ub3c4', '\\ub354', '\\ubd23', '\\uc560', '\\uc548\\ubc14\\uafe7\\ub2e4', '\\uadf8\\ub0e5', '\\ubc29', '\\ubd04', '\\uacbd\\uc545', '\\uadf8\\ub0e5', '\\uadf8', '\\ubc14\\ub78c', '\\uc0ac\\uc774', '\\uacf0\\ud321\\uc774', '\\ubcf4\\uc784', '\\ud558\\ud558', '\\uc0b0\\ubaa8', '\\uc544\\ub9c8', '\\ucef4', '\\ud50c\\ub808\\uc778', '\\ub2ec\\ub77c', '\\ud587', '\\ub4ef', '\\ub098', '\\uacbd\\uc545', '\\ud587', '\\uc77c\\ub2e8', '\\ub313', '\\uc2e0\\uc0dd\\uc544', '\\ud63c\\uc790', '\\ubb50', '\\ub098', '\\uc790\\ub3d9', '\\uc2e4', '\\uc608\\uc815', '\\uace0', '\\uc608\\uc815', '\\uc774\\uba74', '\\ucef4', '\\ud50c\\ub808\\uc778', '\\uac78\\uc5c7\\uc744\\ub4ef', '\\uccad\\uc18c', '\\ubc18\\uc2e4', '\\uc0e4\\uc6cc', '\\ubd80\\uc2a4', '\\uc900\\ud2b9\\uc2e4', '\\ud2b9\\uc2e4', '\\ub3c4', '\\ubd80\\uc2a4', '\\uacf3', '\\ud568', '\\ubcf5\\ubd88\\ubcf5', '\\ubd80\\uc2a4', '\\uac1c', '\\ubd88\\ud3b8', '\\ud558\\uac9f\\ub294\\ub370', '\\ud587', '\\ub3d9\\uc548', '\\uc0ac\\uc2e4', '\\ubd88\\ud3b8', '\\uc548', '\\uc544\\uc8fc', '\\uc0ac\\uc2e4', '\\uc9d1\\uc544', '\\ub2c8\\ub2c8', '\\ubb38', '\\ubb3c', '\\ub9d0', '\\ubb38', '\\ubb3c', '\\ud280\\uc5b4', '\\ub098\\ubb34', '\\ubd80\\uc2a4', '\\uc870\\ub9ac', '\\ud0d3', '\\ubb50', '\\uc0b0\\ubaa8', '\\ubb50', '\\ubb3c', '\\uc548\\ud2d4', '\\uc0e4\\uc6cc', '\\ubd88\\ud348\\ud558', '\\ube68\\ub798', '\\uac74\\uc870\\ub300', '\\ud2f0\\ube44', '\\uc720\\ucd95\\uae30', '\\uc2a4\\ud399\\ud2b8', '\\ubaa8\\uae30\\ud5a5', '\\ub4dc\\ub77c\\uc774\\uae30', '\\ubcf5\\ub3c4', '\\uc544\\uc8fc', '\\ud734\\uac8c\\uc2e4', '\\uc5ec\\uae30', '\\uc0b0\\ubaa8', '\\ub3c4', '\\uac1c\\uc778\\ud50c\\ub808\\uc774', '\\ub54c', '\\ub3d9\\uc774', '\\uc598\\uae30', '\\uac70', '\\ubaa8', '\\uac1c\\ub625', '\\ub098\\ubc1c', '\\uc544\\uc8fc', '\\uc808\\uac04', '\\uc218\\uc900', '\\uc784', '\\ubcf5\\ub3c4', '\\ucb49', '\\uac00\\uba74', '\\uce35', '\\ub514', '\\uc591\\uc784', '\\ucb49', '\\ubb50', '\\uc5ec\\uae30', '\\uc808\\uac04', '\\uc138\\ud0c1\\uae30', '\\uc138\\uc81c', '\\ud568', '\\uac1c\\uc778', '\\ub9e4\\uc77c', '\\uc544\\uce68', '\\uace0\\ub9ac', '\\ube68\\ub798', '\\uc138\\ud0c1', '\\uce35', '\\ucc1c\\uc9c8\\ubc29', '\\ub0b4', '\\ube68\\ub798', '\\uc2f1\\ud06c\\ub300', '\\uc8fc\\ubc29', '\\uc138\\uc81c', '\\uc816\\ubcd1', '\\uc138\\uc81c', '\\uc816\\ubcd1\\uc194', '\\uad6c\\ube44', '\\uc544\\ubb34', '\\uac70', '\\uac1c\\uc778', '\\uae54\\ub54c\\uae30', '\\uace0\\ud568', '\\uc816\\ubcd1\\uc194', '\\uc0ac\\uc6a9', '\\ud568', '\\ub9d8', '\\uc81c\\uc77c', '\\ubcf5\\ub3c4', '\\ub6a4\\ub9b0\\ubb38', '\\uc548\\ucabd', '\\uc548\\ub9c8', '\\uc758\\uc790', '\\uc774', '\\uc544\\ubb34', '\\uc644\\uc988', '\\ud790\\ub9c1', '\\uc65c', '\\uc544\\ubb34', '\\ub098', '\\ub3d9\\uc548', '\\uc790\\uc8fc', '\\ud587\\ub2a5\\ub370', '\\uc544\\ubb34', '\\uc548', '\\uc544\\ubb34', '\\ub2ec', '\\ud55c\\uc801', '\\uc65c', '\\uc548\\ud574', '\\ub9e4', '\\uaf2d', '\\uc548\\ub9c8', '\\uc758\\uc790', '\\uce35', '\\ud504\\ub77c\\uc774', '\\uc548\\ub9c8', '\\uc758\\uc790', '\\ubc30\\uce58', '\\ub204\\uad6c', '\\ub208\\uce58', '\\uc548', '\\ubc84\\uace0', '\\uac00\\ub2a5', '\\uce35', '\\uc548\\ub9c8', '\\uc758\\uc790', '\\ud734\\uac8c\\uc2e4', '\\uac00\\uc6b4\\ub370', '\\uc0ac\\uc2e4', '\\uc880', '\\uc5ec', '\\uc653\\ub2e4\\uac13\\ub2e4', '\\ubcf4', '\\uc800\\uae30', '\\uc544\\uc8fc', '\\ud504\\ub77c\\uc774', '\\ube57', '\\uce35', '\\uac15', '\\uc2e0\\uc0dd\\uc544', '\\uc2e4', '\\ube10\\uac70', '\\ub9dd\\uad6c', '\\ud53c\\ub8cc\\uc74c', '\\uc870\\ub9ac', '\\ud608', '\\uad00\\ub9ac', '\\uc720\\ubc29', '\\ub9c8\\uc0ac\\uc9c0', '\\ud53c\\ubd80\\uad00\\ub9ac', '\\uc11c\\ube44\\uc2a4', '\\uc90c', '\\ud53c\\ubd80\\uad00\\ub9ac', '\\ud608', '\\uad00\\ub9ac', '\\uc2e4', '\\uc0ac', '\\uadf8\\ub0e5', '\\ubb50', '\\uc804\\ubb38', '\\ud329', '\\uc815\\ub3c4', '\\uae30\\ub300', '\\ub178\\ub178', '\\uce35', '\\uc720\\ubc29', '\\uad00\\ub9ac', '\\uc2e4', '\\ud608', '\\uad00\\ub9ac', '\\uc2e4', '\\uc720\\ubc29', '\\uad00\\ub9ac', '\\uc2a4\\ud0d1', '\\ud608', '\\uad00\\ub9ac', '\\ud1f4', '\\ub0a0', '\\ud480', '\\uc2a4\\ud1a4', '\\uc544\\uc8fc', '\\uc26c', '\\ud587', '\\ub098', '\\uc544\\ud514', '\\ub3d9\\uc548', '\\ubab8', '\\ud639\\uc0ac', '\\ud587\\uc73c', '\\ub610', '\\ud790\\ub9c1', '\\uc0dd\\uac01', '\\ubb34\\uc871', '\\uc218\\uc720', '\\ucf5c', '\\uc218\\uc720', '\\ucf5c', '\\uc544\\uae30', '\\uc81c\\ubc1c', '\\uc560', '\\uc870\\ub9ac', '\\ubab8', '\\uc0dd\\uac01', '\\uc880', '\\uc9d1', '\\ubaa8', '\\uc8fd\\uc74c', '\\uc784', '\\ud6c4\\ud68c', '\\uc81c\\ubc1c', '\\uc880', '\\ud479', '\\ubd80\\ud0c1', '\\ubaa8\\ub4e0', '\\uc560', '\\uc774\\uc0c1', '\\ubb38\\ud654', '\\ubcd1\\uc6d0', '\\uc870\\ub9ac', '\\uc2dc\\uc124', '\\ub2e4\\uc74c', '\\ubb38\\ud654', '\\ubcd1\\uc6d0', '\\uc2dd\\ub2e8', '\\ubcf4', '\\uc720', '\\ubb50', '\\uc2dd\\ub2e8', '\\uc0ac\\uc9c4', '\\ub178\\uc7bc', '\\uc544\\uc8fc', '\\uc815\\ubcf4', '\\uc548\\ub1fd', '\\ud654\\ubcd1', '\\uc0b0\\ud6c4\\uc870\\ub9ac\\uc6d0', '\\uc0b0\\ud6c4\\uc870\\ub9ac\\uc6d0', '\\ud6c4\\uae30', '\\uc0b0\\ud6c4\\uc870\\ub9ac\\uc6d0', '\\ubb38\\ud654', '\\ubcd1\\uc6d0', '\\uc0b0\\ud6c4\\uc870\\ub9ac\\uc6d0', '\\ubd80\\uc0b0', '\\uc0b0\\ud6c4\\uc870\\ub9ac\\uc6d0']\",\n          \"['\\uacc4\\uc18d', '\\uc190\\ub2d8', '\\uc900\\ube44', '\\ubb34\\ubb34', '\\uc5c4\\ub9c8', '\\ub538', '\\uc774\\ubaa8', '\\uc0bc\\ucd0c', '\\ubb34\\ubb34', '\\uc637', '\\uaca8\\uc6b8', '\\uc0dd\\uac01', '\\uc65c', '\\uc544\\uac00', '\\uc9c0\\ud718\\uc790', '\\uacc4\\uc18d', '\\uc7a0', '\\uaca8\\uc6b0', '\\uc81c\\ubc1c', '\\uc0c8\\ubcbd', '\\ubb34\\ubb34', '\\ucf54\\ub531\\uc9c0', '\\uac83', '\\ub54c', '\\uac00\\ub054', '\\uc544\\uc800\\uc528', '\\ucc98\\ub7fc', '\\uc2e0\\uc0dd\\uc544', '\\ucf54', '\\uc548', '\\uc740', '\\uc774\\uc81c', '\\ub0b4\\uc758', '\\uc704\\uc8fc', '\\ub0b4\\uc758', '\\ud314', '\\ub3c4', '\\uc678\\ucd9c', '\\ubcf5\\uc740', '\\ubd80\\ud130', '\\uc0c8\\ubcbd', '\\uc870\\uae08', '\\uc790\\uc900', '\\uc5ed\\uc0ac', '\\ub0a0', '\\uafc0\\uc7a0', '\\uc790\\uace0', '\\ud130', '\\ubbf8\\ud0c0', '\\uc784\\ub3c4', '\\ud560\\ubbf8', '\\ud560\\ubbf8', '\\ud488', '\\ud2b8\\ub9bc', '\\uc2dc\\uac04', '\\ubc25', '\\uc544\\ube60', '\\ud488', '\\ud2b8\\ub9bc', '\\ubc25', '\\uc0b0\\ucc45', '\\ub098', '\\uc637', '\\ubb34\\ubb34', '\\uc637', '\\ubc24', '\\uac11\\uc790\\uae30', '\\ub610', '\\uc790\\uae30', '\\uc190', '\\uc7a1\\uace0', '\\ubb34\\ubb34', '\\ub77c\\uc2a4', '\\ubca0\\uac1c', '\\uc19c', '\\uc655\\ucc3d', '\\ube7c', '\\ucfe0\\uc158', '\\uac10', '\\uc870\\uae08', '\\uc606\\uc7a0', '\\ubca0\\uac1c', '\\uc81c\\uc77c', '\\ub54c', '\\uc544\\uc8fc', '\\uc218\\uc720', '\\ud140', '\\uacc4\\uc18d', '\\ubb34\\ubb34', '\\ud658\\uc808\\uae30', '\\ub7f0\\uac00', '\\ucf54', '\\ud130', '\\ubbf8\\ud0c0', '\\uc784', '\\uc624\\uc804', '\\uc0c8\\ubcbd', '\\uc7a0', '\\ud558\\ub8e8', '\\ubc88\\uc740', '\\ud0c0\\uc784', '\\uc2b9', '\\uc9c8\\ub3c4', '\\ud55c\\ubc88', '\\ubaa8\\ube4c', '\\ud55c\\ubc88', '\\uc5c4\\ub9c8', '\\ud488', '\\uc7a0\\ub3c4', '\\uc790\\uace0', '\\ubb34\\ubb34', '\\ucabd\\ucabd\\uc774', '\\uc544\\uae30', '\\ub760', '\\uacf5\\uc2dd', '\\uc774\\uba74', '\\uac70\\uc758', '\\ubc14\\ub85c', '\\ub0b4', '\\ud488', '\\ubc8c\\uc368', '\\uc5ed\\ubc29\\ucfe0', '\\ucd2c\\uc601', '\\ubb34\\uc5c7', '\\uace0\\ubbfc', '\\ubaa8\\uc790', '\\uc798\\ubabb', '\\uc50c', '\\uc6c3\\uc74c', '\\ubca8', '\\ubb54\\uac00', '\\uc548', '\\ub290\\ub08c', '\\ubcd1\\uc6d0', '\\uc5ed\\ub300', '\\ub0a0', '\\uc0c8\\ubcbd', '\\uc721\\uc544', '\\uc0c8\\ubcbd', '\\ubcfc', '\\uc218', '\\uc560\\uae30', '\\ubc25', '\\uc0c8\\ubcbd', '\\uc7a0', '\\ube68\\ub798', '\\ubb34\\ubb34', '\\uc5c4\\ub9c8', '\\uc790\\ub77c', '\\uc544\\uae30', '\\ub760', '\\uc790\\uc9c0', '\\ub9d0', '\\uc81c\\ubc1c', '\\uce68\\ub300', '\\uc190\\ud1b1', '\\ud55c\\ubc88', '\\uc900', '\\uc560', '\\ub108', '\\uc5bc\\uad74', '\\uc0c1\\ucc98', '\\uc65c', '\\uc624\\uc804', '\\uc624\\ud6c4', '\\ub0b4\\ub0b4', '\\uacc4\\uc18d', '\\uc0c8\\ubcbd', '\\ubb34\\ubb34', '\\ucc28\\ub77c\\ub9ac', '\\uc0c8\\ubcbd', '\\ub610', '\\uc544\\uae30', '\\ub760', '\\ub108', '\\uadf8\\uac83', '\\uc7a0', '\\ub108', '\\ud558\\ub8e8', '\\ub05d', '\\uc544\\uae30', '\\ub760', '\\uce68\\ub300', '\\uc790', '\\ubb34\\ubb34', '\\uc721\\uc544', '\\uc77c\\uae30', '\\uc721\\uc544\\uc6a9\\ud488', '\\uc0dd\\ud6c4', '\\uac1c\\uc6d4', '\\uc0dd\\ud6c4', '\\uac1c\\uc6d4', '\\uc218\\uc720', '\\ud140', '\\uc0dd\\ud6c4', '\\uac1c\\uc6d4', '\\uc720\\ub7c9', '\\uc0dd\\ud6c4', '\\uac1c\\uc6d4', '\\uc720\\ub7c9', '\\uccad\\ub8e1', '\\ub760', '\\uccad\\ub8e1', '\\ub760', '\\uc544\\uae30']\"\n        ],\n        \"semantic_type\": \"\",\n        \"description\": \"\"\n      }\n    },\n    {\n      \"column\": \"vector\",\n      \"properties\": {\n        \"dtype\": \"string\",\n        \"num_unique_values\": 79942,\n        \"samples\": [\n          \"[-0.63129145 -0.30142242 -1.2831345  -1.9862249   0.02503607 -0.9739595\\n  0.45138043  0.3210111  -0.6175741  -0.8865526   0.18030718  0.16237415\\n -0.7073483  -1.3955358  -2.84483    -0.56964016 -0.6734895   2.2903044\\n -0.5020121  -2.998706    1.6651033  -0.15281172 -0.13717617  1.3012738\\n -0.39843962 -1.2795283   0.31448245 -2.4854994  -0.21817426  0.8013871\\n -1.3412753   0.9970191  -0.17049153  1.9530144   0.74999034 -1.6596024\\n  0.55634844  1.0886146   0.52776444 -1.9640565   2.5271416  -0.5761947\\n  0.18665688  1.7570456  -0.12667948 -1.1987509  -0.23288432 -1.043123\\n  0.25512454  0.1471747  -1.3225894   0.6080659  -0.18135768 -0.19998245\\n -0.5405363   0.12658791  0.8518424  -0.02547025  1.296108    1.2724122\\n -1.6997303  -0.20527104  2.2299314  -0.65876096 -1.125192   -0.48986953\\n  0.3657181   1.8753927  -0.9778849   0.9409332  -2.3118799   0.85593474\\n -1.5669057  -0.7690875   1.7476035  -0.10051328 -1.1063825  -1.5219741\\n  0.03490608  0.4616254   1.5454884   0.09506883  0.7504371   0.3102782\\n  1.2831268   0.9011827  -1.4860884   0.11146086 -0.7777501  -0.15250368\\n  0.45110813 -0.7926217  -0.46670607 -1.0803322   1.3669627   0.44671127\\n -0.37293208 -0.05812137  2.7352288   0.82040554 -1.9932339   2.2789216\\n  1.3636392   0.0271606   0.44174975 -0.55943716 -2.014052    1.0795065\\n -2.6737235   0.01434868 -0.37042475  0.5075757   0.85732174 -0.96859455\\n  2.124237   -1.6190429   1.3134115  -0.20541203  0.16547018  0.70424676\\n  1.991969    0.03564308 -0.37003323  2.6079276  -2.5295622   1.45343\\n  0.7638168   0.32575175  0.46760905  0.146093    0.8989249  -0.07297584\\n  0.571018    1.1304138  -0.83185935  1.3311918  -0.8175034  -0.7077952\\n  1.1804621   0.24889076  0.37632906  2.3158193   1.3899741  -0.6896267\\n  1.0371064  -0.6987391   1.4480517   0.58441997 -1.4094557   0.97886056\\n  1.1533626   1.690304    0.6417433  -0.63990283  0.61825675  1.4681993\\n  0.38347903 -0.00503314  0.7230417   0.07601427 -1.6283894  -0.22591022\\n -0.7393418  -1.5290008   0.05029301  2.0140676  -0.48826388  1.7414337\\n  1.5675874   1.5976045  -0.06652883 -0.54562676 -0.16172037  0.00566462\\n -0.09468168  1.3276802  -0.13258693 -2.0012188  -1.4147774  -0.01363574\\n -0.5803052  -0.180053   -0.67975485 -1.5550207   1.97151     0.6020037\\n  1.4714215  -0.3208743   0.1525429   0.44018567  0.31860206  0.19873403\\n -2.1467402   1.2495869   2.0382123  -1.1944453   0.8277601  -1.5399637\\n -1.3450649   1.1426216 ]\",\n          \"[ 0.51069325 -2.588491   -1.1994401   1.8416871   0.8458289  -2.0519311\\n  0.24475504  0.5535844  -2.973615    0.53018063 -0.0879638  -1.2066562\\n -1.1636248  -0.3815903  -1.9062964  -0.35111895  0.13641296  0.55397016\\n -0.02714146 -0.25042707 -0.08254603 -1.900113   -1.435457    1.4168696\\n -0.39622715  0.35487282  0.5278567  -0.5650386  -2.3058372  -0.82263464\\n -0.66740584  0.9135709  -0.18092942  0.24629045 -1.8556691  -0.24921484\\n -0.3367244   0.57429653  0.09689639  0.54902786 -0.24309628  2.0176747\\n -0.2653017   1.9053941  -0.22396052  0.4640166   0.33983737  0.1093972\\n  1.1524847  -0.5305486  -0.5681052  -0.00465691 -0.93546814 -0.0735902\\n  1.0532644   0.34730408  2.1271777   0.97442997 -2.3617706  -0.5918566\\n  0.15211545  0.08668493  0.3256364  -1.6438712   0.53100306 -1.2519208\\n -0.08667108  1.6216539   2.134234    2.8462524  -0.42502594 -0.958131\\n  1.0803543  -0.5851954   0.8852496   0.6918095  -0.40863696 -1.3774974\\n  0.4945894   1.2880663   1.659932    0.08343114  0.8306305   0.5681528\\n -0.24743481  0.8843562  -1.2962459   0.96464646  0.14763492  0.4331801\\n -0.21140607 -0.7568871   0.00947319  0.98838395  1.2936308   2.0421042\\n -1.1036459   1.2536694   1.110346   -2.1094615  -1.4859647   0.3042619\\n  1.5216587  -1.2451582   0.51521003  0.8305493   1.4520051   0.83201796\\n  0.2612757  -2.0615747  -0.68785626  0.5463048  -0.09620623  0.31021094\\n -0.97693783  0.99398786 -0.58526886  1.0879278  -2.6927736  -0.6780931\\n -0.86812264  0.20189355 -0.7135292  -0.38733926 -1.1409917  -0.47441784\\n -1.5795625   2.1312404  -1.4506102   2.9002554   0.3923662   1.5495304\\n  1.2590442  -0.2239094  -0.6007192   0.19151768  0.17303902  0.53836244\\n  1.6927936   0.30014113 -0.8966395   2.5406482   0.7040834  -0.9331074\\n -0.51525533  0.6282409   0.5864781   0.17482485 -1.2440723  -0.5850495\\n  0.2450621  -0.3621952   2.5412786  -0.72921675  0.42034453  1.8021526\\n -0.17994823  0.42844906  1.6192691  -0.576937   -0.3572499  -0.45875442\\n  2.0924165   0.6838535   0.64520234  1.2512174   0.26447174  1.2111218\\n -0.6524857   1.3735895   0.70877284 -0.5820454  -0.4211732  -2.2740414\\n  0.10031141 -1.0250047   0.5076816  -0.93644476 -0.35350683  0.69708467\\n -1.0020748   2.0161767   1.6667114  -0.32060197 -1.4445239  -2.2326505\\n -0.09069379  0.05066355 -0.14030632 -0.03978507  0.4402403  -1.5793877\\n  0.31678343  0.9837857  -0.08143839 -0.00413529 -0.10201524  0.61004573\\n -0.5842915   0.45690078]\",\n          \"[ 1.2834451e+00 -1.6758324e+00 -5.5623859e-01 -7.8080958e-01\\n  1.5440416e+00  1.3354263e+00  1.0315839e+00  1.5530277e+00\\n -2.9921255e-01 -2.3971736e+00  3.9744025e-01  9.8975664e-01\\n  7.2918504e-01 -4.0428934e-01 -7.3600566e-01 -5.7220680e-01\\n -6.3144320e-01  1.1508181e+00  6.2355745e-01 -1.3690572e+00\\n -8.1563428e-02 -3.5959294e-01 -1.9293944e+00 -6.9326488e-06\\n  1.6476081e-01 -1.3912129e-01 -1.8066109e+00  1.9144608e+00\\n -8.4959912e-01  4.7942036e-01  5.4697675e-01  2.3849666e+00\\n -2.2572853e-01 -1.5721623e+00 -1.0327846e+00 -2.8413388e-01\\n  1.7685440e+00 -1.3341258e+00 -1.6625805e+00 -8.1517333e-01\\n  7.5573474e-02  3.4968141e-01  2.0602188e-01 -2.4144016e-01\\n  7.0783722e-01 -1.6021302e+00  1.8167745e+00  1.6274195e+00\\n -1.6279171e+00 -2.3375586e-01 -5.0160974e-01  1.4809271e+00\\n -1.0598094e+00 -2.6545770e+00  7.2401828e-01  3.8244084e-01\\n  1.3487672e+00 -8.4530264e-01 -1.5438348e+00 -8.8051808e-01\\n  2.0543817e-01 -9.1229685e-02 -1.5401130e+00  1.3563454e+00\\n  1.1555741e+00  1.2741354e+00  4.0346181e-01  3.0645403e-01\\n  5.1858079e-01  1.9547166e+00  5.8363322e-03  8.8453275e-01\\n -1.2822850e+00 -2.0733316e+00  1.3225416e+00 -1.1703603e+00\\n  1.3466144e+00  3.2342261e-01 -1.3093354e+00 -8.2339358e-01\\n  1.2966009e+00  1.9898183e+00  3.8660541e-01 -6.3571411e-01\\n -2.0817117e-01  1.1319110e+00 -7.4875283e-01  3.7611690e-03\\n  3.7801337e-01 -9.4192021e-02  1.2792412e+00 -1.7778816e+00\\n  4.8251057e-01  3.8489205e-01 -7.8051704e-01  9.2479676e-02\\n  2.0819545e+00  5.7660633e-01 -8.5724127e-01 -1.2512729e+00\\n  5.9392327e-01  5.9191841e-01  2.4865168e-01 -4.3778428e-01\\n  6.8091315e-01  1.3167508e+00  9.6682322e-01  6.4495993e-01\\n -1.3594904e+00 -8.3199680e-01  3.1898999e-01 -2.4191859e+00\\n -1.7463818e+00 -6.0621113e-01 -8.5685277e-01  7.8543222e-01\\n -8.5500956e-01  1.2455151e+00  1.4067444e-01 -8.7887543e-01\\n -6.3415356e-03  2.4165900e+00  1.8761262e-01 -2.4889755e-01\\n -6.4261919e-01  1.6250659e+00  8.1953603e-01  5.7173359e-01\\n -7.6476741e-01  1.6616637e+00  1.0453771e+00 -7.3144615e-01\\n  8.6719848e-02  5.9962904e-01  1.8550411e-01 -4.3243995e-01\\n -1.8517004e+00 -8.2919234e-01  1.8157832e-02 -1.0199047e+00\\n  2.6098099e+00  2.0231584e-01  1.7333956e+00 -1.4308814e+00\\n -1.4799646e+00  4.8657286e-01 -1.9391314e+00 -1.0181532e+00\\n -1.1196960e+00  4.2013831e-02 -1.4796870e+00 -2.2460034e+00\\n  1.4139014e-01  4.5311192e-01  8.0047607e-01  1.3857970e+00\\n  2.4399366e+00  1.5216216e+00  7.6317757e-02  4.0210187e-01\\n  3.1127283e-01 -8.2125837e-01 -1.3883168e+00  1.8384536e-01\\n -5.7816076e-01  3.2566464e-01 -1.4801797e-01  5.2569908e-01\\n -9.0906626e-01 -1.7070386e+00 -6.4250124e-01 -2.1432118e+00\\n -9.2806584e-01 -1.5727489e+00  6.0078788e-01  1.0253974e+00\\n -1.1817231e+00 -4.3307211e-02  5.8333707e-01 -1.0337921e+00\\n  1.3711960e+00  1.2997665e+00  1.5346344e+00  1.5342704e+00\\n -5.1313776e-01 -7.7015573e-01  9.5074522e-01 -1.0493577e+00\\n  1.1374620e+00  3.6107015e-02 -3.1792134e-01  3.6921814e-01\\n -1.2366376e+00 -6.3486829e-02 -1.7586513e+00  1.2949024e-01\\n  4.2456013e-01 -6.1232078e-01 -1.1095475e+00  7.7988917e-01]\"\n        ],\n        \"semantic_type\": \"\",\n        \"description\": \"\"\n      }\n    },\n    {\n      \"column\": \"umap_kmeans_cluster\",\n      \"properties\": {\n        \"dtype\": \"number\",\n        \"std\": 1,\n        \"min\": 0,\n        \"max\": 5,\n        \"num_unique_values\": 5,\n        \"samples\": [\n          1,\n          3,\n          5\n        ],\n        \"semantic_type\": \"\",\n        \"description\": \"\"\n      }\n    },\n    {\n      \"column\": \"1st_cluster\",\n      \"properties\": {\n        \"dtype\": \"number\",\n        \"std\": 1,\n        \"min\": -1,\n        \"max\": 8,\n        \"num_unique_values\": 10,\n        \"samples\": [\n          0,\n          -1,\n          5\n        ],\n        \"semantic_type\": \"\",\n        \"description\": \"\"\n      }\n    }\n  ]\n}",
       "type": "dataframe",
       "variable_name": "df"
      },
      "text/html": [
       "\n",
       "  <div id=\"df-7ee97f27-7866-4458-8687-b7d68a2bf9b8\" class=\"colab-df-container\">\n",
       "    <div>\n",
       "<style scoped>\n",
       "    .dataframe tbody tr th:only-of-type {\n",
       "        vertical-align: middle;\n",
       "    }\n",
       "\n",
       "    .dataframe tbody tr th {\n",
       "        vertical-align: top;\n",
       "    }\n",
       "\n",
       "    .dataframe thead th {\n",
       "        text-align: right;\n",
       "    }\n",
       "</style>\n",
       "<table border=\"1\" class=\"dataframe\">\n",
       "  <thead>\n",
       "    <tr style=\"text-align: right;\">\n",
       "      <th></th>\n",
       "      <th>source</th>\n",
       "      <th>search_words</th>\n",
       "      <th>url</th>\n",
       "      <th>title</th>\n",
       "      <th>contents</th>\n",
       "      <th>tagged_contents</th>\n",
       "      <th>vector</th>\n",
       "      <th>umap_kmeans_cluster</th>\n",
       "      <th>1st_cluster</th>\n",
       "    </tr>\n",
       "  </thead>\n",
       "  <tbody>\n",
       "    <tr>\n",
       "      <th>0</th>\n",
       "      <td>블로그</td>\n",
       "      <td>아기+잠깨</td>\n",
       "      <td>https://blog.naver.com/srhymin/223091161466</td>\n",
       "      <td>NaN</td>\n",
       "      <td>저희 아기는 신생아때부터 청각과 촉각이 예민해 잠도 깊게 못 잘 뿐더러 잠투정이 정...</td>\n",
       "      <td>['저희', '아기', '신생아', '때', '청각', '촉각', '잠도', '못'...</td>\n",
       "      <td>[ 0.18305127 -1.2801502  -0.44998685  0.799018...</td>\n",
       "      <td>4</td>\n",
       "      <td>2</td>\n",
       "    </tr>\n",
       "    <tr>\n",
       "      <th>1</th>\n",
       "      <td>블로그</td>\n",
       "      <td>아기+잠깨</td>\n",
       "      <td>https://blog.naver.com/sukm83/223091879514</td>\n",
       "      <td>NaN</td>\n",
       "      <td>정신없는 주방한켠 뒤죽박죽 알 수 없는 용기에 양념과 소스가 담겨져 있기에 주방이 ...</td>\n",
       "      <td>['정신', '방한', '뒤죽박죽', '알', '수', '용기', '양념', '소스...</td>\n",
       "      <td>[ 3.5914354e+00 -2.2061694e+00  1.5965343e+00 ...</td>\n",
       "      <td>1</td>\n",
       "      <td>2</td>\n",
       "    </tr>\n",
       "    <tr>\n",
       "      <th>2</th>\n",
       "      <td>블로그</td>\n",
       "      <td>아기+잠깨</td>\n",
       "      <td>https://blog.naver.com/dldptmf5134/223096875782</td>\n",
       "      <td>NaN</td>\n",
       "      <td>안녕하세요 지유맘입니다! 오늘은 지유가 이유식과 유아식 그 중간즈음 토핑식을 할 때...</td>\n",
       "      <td>['지유', '맘', '오늘', '지유', '이유식', '유아식', '그', '중간...</td>\n",
       "      <td>[ 3.4138811e-01 -5.3281033e-01 -1.3500248e+00 ...</td>\n",
       "      <td>1</td>\n",
       "      <td>2</td>\n",
       "    </tr>\n",
       "  </tbody>\n",
       "</table>\n",
       "</div>\n",
       "    <div class=\"colab-df-buttons\">\n",
       "\n",
       "  <div class=\"colab-df-container\">\n",
       "    <button class=\"colab-df-convert\" onclick=\"convertToInteractive('df-7ee97f27-7866-4458-8687-b7d68a2bf9b8')\"\n",
       "            title=\"Convert this dataframe to an interactive table.\"\n",
       "            style=\"display:none;\">\n",
       "\n",
       "  <svg xmlns=\"http://www.w3.org/2000/svg\" height=\"24px\" viewBox=\"0 -960 960 960\">\n",
       "    <path d=\"M120-120v-720h720v720H120Zm60-500h600v-160H180v160Zm220 220h160v-160H400v160Zm0 220h160v-160H400v160ZM180-400h160v-160H180v160Zm440 0h160v-160H620v160ZM180-180h160v-160H180v160Zm440 0h160v-160H620v160Z\"/>\n",
       "  </svg>\n",
       "    </button>\n",
       "\n",
       "  <style>\n",
       "    .colab-df-container {\n",
       "      display:flex;\n",
       "      gap: 12px;\n",
       "    }\n",
       "\n",
       "    .colab-df-convert {\n",
       "      background-color: #E8F0FE;\n",
       "      border: none;\n",
       "      border-radius: 50%;\n",
       "      cursor: pointer;\n",
       "      display: none;\n",
       "      fill: #1967D2;\n",
       "      height: 32px;\n",
       "      padding: 0 0 0 0;\n",
       "      width: 32px;\n",
       "    }\n",
       "\n",
       "    .colab-df-convert:hover {\n",
       "      background-color: #E2EBFA;\n",
       "      box-shadow: 0px 1px 2px rgba(60, 64, 67, 0.3), 0px 1px 3px 1px rgba(60, 64, 67, 0.15);\n",
       "      fill: #174EA6;\n",
       "    }\n",
       "\n",
       "    .colab-df-buttons div {\n",
       "      margin-bottom: 4px;\n",
       "    }\n",
       "\n",
       "    [theme=dark] .colab-df-convert {\n",
       "      background-color: #3B4455;\n",
       "      fill: #D2E3FC;\n",
       "    }\n",
       "\n",
       "    [theme=dark] .colab-df-convert:hover {\n",
       "      background-color: #434B5C;\n",
       "      box-shadow: 0px 1px 3px 1px rgba(0, 0, 0, 0.15);\n",
       "      filter: drop-shadow(0px 1px 2px rgba(0, 0, 0, 0.3));\n",
       "      fill: #FFFFFF;\n",
       "    }\n",
       "  </style>\n",
       "\n",
       "    <script>\n",
       "      const buttonEl =\n",
       "        document.querySelector('#df-7ee97f27-7866-4458-8687-b7d68a2bf9b8 button.colab-df-convert');\n",
       "      buttonEl.style.display =\n",
       "        google.colab.kernel.accessAllowed ? 'block' : 'none';\n",
       "\n",
       "      async function convertToInteractive(key) {\n",
       "        const element = document.querySelector('#df-7ee97f27-7866-4458-8687-b7d68a2bf9b8');\n",
       "        const dataTable =\n",
       "          await google.colab.kernel.invokeFunction('convertToInteractive',\n",
       "                                                    [key], {});\n",
       "        if (!dataTable) return;\n",
       "\n",
       "        const docLinkHtml = 'Like what you see? Visit the ' +\n",
       "          '<a target=\"_blank\" href=https://colab.research.google.com/notebooks/data_table.ipynb>data table notebook</a>'\n",
       "          + ' to learn more about interactive tables.';\n",
       "        element.innerHTML = '';\n",
       "        dataTable['output_type'] = 'display_data';\n",
       "        await google.colab.output.renderOutput(dataTable, element);\n",
       "        const docLink = document.createElement('div');\n",
       "        docLink.innerHTML = docLinkHtml;\n",
       "        element.appendChild(docLink);\n",
       "      }\n",
       "    </script>\n",
       "  </div>\n",
       "\n",
       "\n",
       "    <div id=\"df-f5568027-dd34-4bb5-8565-559f7d0c2cd7\">\n",
       "      <button class=\"colab-df-quickchart\" onclick=\"quickchart('df-f5568027-dd34-4bb5-8565-559f7d0c2cd7')\"\n",
       "                title=\"Suggest charts\"\n",
       "                style=\"display:none;\">\n",
       "\n",
       "<svg xmlns=\"http://www.w3.org/2000/svg\" height=\"24px\"viewBox=\"0 0 24 24\"\n",
       "     width=\"24px\">\n",
       "    <g>\n",
       "        <path d=\"M19 3H5c-1.1 0-2 .9-2 2v14c0 1.1.9 2 2 2h14c1.1 0 2-.9 2-2V5c0-1.1-.9-2-2-2zM9 17H7v-7h2v7zm4 0h-2V7h2v10zm4 0h-2v-4h2v4z\"/>\n",
       "    </g>\n",
       "</svg>\n",
       "      </button>\n",
       "\n",
       "<style>\n",
       "  .colab-df-quickchart {\n",
       "      --bg-color: #E8F0FE;\n",
       "      --fill-color: #1967D2;\n",
       "      --hover-bg-color: #E2EBFA;\n",
       "      --hover-fill-color: #174EA6;\n",
       "      --disabled-fill-color: #AAA;\n",
       "      --disabled-bg-color: #DDD;\n",
       "  }\n",
       "\n",
       "  [theme=dark] .colab-df-quickchart {\n",
       "      --bg-color: #3B4455;\n",
       "      --fill-color: #D2E3FC;\n",
       "      --hover-bg-color: #434B5C;\n",
       "      --hover-fill-color: #FFFFFF;\n",
       "      --disabled-bg-color: #3B4455;\n",
       "      --disabled-fill-color: #666;\n",
       "  }\n",
       "\n",
       "  .colab-df-quickchart {\n",
       "    background-color: var(--bg-color);\n",
       "    border: none;\n",
       "    border-radius: 50%;\n",
       "    cursor: pointer;\n",
       "    display: none;\n",
       "    fill: var(--fill-color);\n",
       "    height: 32px;\n",
       "    padding: 0;\n",
       "    width: 32px;\n",
       "  }\n",
       "\n",
       "  .colab-df-quickchart:hover {\n",
       "    background-color: var(--hover-bg-color);\n",
       "    box-shadow: 0 1px 2px rgba(60, 64, 67, 0.3), 0 1px 3px 1px rgba(60, 64, 67, 0.15);\n",
       "    fill: var(--button-hover-fill-color);\n",
       "  }\n",
       "\n",
       "  .colab-df-quickchart-complete:disabled,\n",
       "  .colab-df-quickchart-complete:disabled:hover {\n",
       "    background-color: var(--disabled-bg-color);\n",
       "    fill: var(--disabled-fill-color);\n",
       "    box-shadow: none;\n",
       "  }\n",
       "\n",
       "  .colab-df-spinner {\n",
       "    border: 2px solid var(--fill-color);\n",
       "    border-color: transparent;\n",
       "    border-bottom-color: var(--fill-color);\n",
       "    animation:\n",
       "      spin 1s steps(1) infinite;\n",
       "  }\n",
       "\n",
       "  @keyframes spin {\n",
       "    0% {\n",
       "      border-color: transparent;\n",
       "      border-bottom-color: var(--fill-color);\n",
       "      border-left-color: var(--fill-color);\n",
       "    }\n",
       "    20% {\n",
       "      border-color: transparent;\n",
       "      border-left-color: var(--fill-color);\n",
       "      border-top-color: var(--fill-color);\n",
       "    }\n",
       "    30% {\n",
       "      border-color: transparent;\n",
       "      border-left-color: var(--fill-color);\n",
       "      border-top-color: var(--fill-color);\n",
       "      border-right-color: var(--fill-color);\n",
       "    }\n",
       "    40% {\n",
       "      border-color: transparent;\n",
       "      border-right-color: var(--fill-color);\n",
       "      border-top-color: var(--fill-color);\n",
       "    }\n",
       "    60% {\n",
       "      border-color: transparent;\n",
       "      border-right-color: var(--fill-color);\n",
       "    }\n",
       "    80% {\n",
       "      border-color: transparent;\n",
       "      border-right-color: var(--fill-color);\n",
       "      border-bottom-color: var(--fill-color);\n",
       "    }\n",
       "    90% {\n",
       "      border-color: transparent;\n",
       "      border-bottom-color: var(--fill-color);\n",
       "    }\n",
       "  }\n",
       "</style>\n",
       "\n",
       "      <script>\n",
       "        async function quickchart(key) {\n",
       "          const quickchartButtonEl =\n",
       "            document.querySelector('#' + key + ' button');\n",
       "          quickchartButtonEl.disabled = true;  // To prevent multiple clicks.\n",
       "          quickchartButtonEl.classList.add('colab-df-spinner');\n",
       "          try {\n",
       "            const charts = await google.colab.kernel.invokeFunction(\n",
       "                'suggestCharts', [key], {});\n",
       "          } catch (error) {\n",
       "            console.error('Error during call to suggestCharts:', error);\n",
       "          }\n",
       "          quickchartButtonEl.classList.remove('colab-df-spinner');\n",
       "          quickchartButtonEl.classList.add('colab-df-quickchart-complete');\n",
       "        }\n",
       "        (() => {\n",
       "          let quickchartButtonEl =\n",
       "            document.querySelector('#df-f5568027-dd34-4bb5-8565-559f7d0c2cd7 button');\n",
       "          quickchartButtonEl.style.display =\n",
       "            google.colab.kernel.accessAllowed ? 'block' : 'none';\n",
       "        })();\n",
       "      </script>\n",
       "    </div>\n",
       "\n",
       "    </div>\n",
       "  </div>\n"
      ],
      "text/plain": [
       "  source search_words                                              url title  \\\n",
       "0    블로그        아기+잠깨      https://blog.naver.com/srhymin/223091161466   NaN   \n",
       "1    블로그        아기+잠깨       https://blog.naver.com/sukm83/223091879514   NaN   \n",
       "2    블로그        아기+잠깨  https://blog.naver.com/dldptmf5134/223096875782   NaN   \n",
       "\n",
       "                                            contents  \\\n",
       "0  저희 아기는 신생아때부터 청각과 촉각이 예민해 잠도 깊게 못 잘 뿐더러 잠투정이 정...   \n",
       "1  정신없는 주방한켠 뒤죽박죽 알 수 없는 용기에 양념과 소스가 담겨져 있기에 주방이 ...   \n",
       "2  안녕하세요 지유맘입니다! 오늘은 지유가 이유식과 유아식 그 중간즈음 토핑식을 할 때...   \n",
       "\n",
       "                                     tagged_contents  \\\n",
       "0  ['저희', '아기', '신생아', '때', '청각', '촉각', '잠도', '못'...   \n",
       "1  ['정신', '방한', '뒤죽박죽', '알', '수', '용기', '양념', '소스...   \n",
       "2  ['지유', '맘', '오늘', '지유', '이유식', '유아식', '그', '중간...   \n",
       "\n",
       "                                              vector  umap_kmeans_cluster  \\\n",
       "0  [ 0.18305127 -1.2801502  -0.44998685  0.799018...                    4   \n",
       "1  [ 3.5914354e+00 -2.2061694e+00  1.5965343e+00 ...                    1   \n",
       "2  [ 3.4138811e-01 -5.3281033e-01 -1.3500248e+00 ...                    1   \n",
       "\n",
       "   1st_cluster  \n",
       "0            2  \n",
       "1            2  \n",
       "2            2  "
      ]
     },
     "execution_count": 69,
     "metadata": {},
     "output_type": "execute_result"
    }
   ],
   "source": [
    "df.head(3)"
   ]
  },
  {
   "cell_type": "markdown",
   "metadata": {
    "id": "4SDBEChHSSYx"
   },
   "source": [
    "## c-TF-IDF 함수 정의"
   ]
  },
  {
   "cell_type": "code",
   "execution_count": 6,
   "metadata": {
    "executionInfo": {
     "elapsed": 49,
     "status": "ok",
     "timestamp": 1746985202724,
     "user": {
      "displayName": "Jynn Choi",
      "userId": "05254382451746305735"
     },
     "user_tz": -540
    },
    "id": "wM7NoObpSSYx"
   },
   "outputs": [],
   "source": [
    "# 클러스터별로 문서를 집계하는 함수\n",
    "def aggregate_docs(docs, labels):\n",
    "    \"\"\"\n",
    "    각 클러스터에 해당하는 문서들을 합쳐 하나의 aggregated 문서를 만듭니다.\n",
    "    noise(-1)는 무시하며, 클러스터 순서는 df['cluster']에서의 등장 순서를 그대로 유지합니다.\n",
    "    \"\"\"\n",
    "    # pd.unique는 원본 순서를 유지함 (노이즈(-1) 제거)\n",
    "    unique_clusters = [x for x in pd.unique(labels) if x != -1]\n",
    "\n",
    "    # 각 클러스터별 문서를 저장할 딕셔너리 생성\n",
    "    cluster_docs = {cluster: [] for cluster in unique_clusters}\n",
    "\n",
    "    for doc, label in zip(docs, labels):\n",
    "        if label == -1:\n",
    "            continue\n",
    "        cluster_docs[label].append(doc)\n",
    "\n",
    "    # 고유 클러스터 번호 순서대로 문서 집계\n",
    "    aggregated_docs = [ \" \".join(cluster_docs[cluster]) for cluster in unique_clusters ]\n",
    "    return aggregated_docs, unique_clusters"
   ]
  },
  {
   "cell_type": "code",
   "execution_count": 7,
   "metadata": {
    "executionInfo": {
     "elapsed": 3,
     "status": "ok",
     "timestamp": 1746985203857,
     "user": {
      "displayName": "Jynn Choi",
      "userId": "05254382451746305735"
     },
     "user_tz": -540
    },
    "id": "wudqRcqzSSYx"
   },
   "outputs": [],
   "source": [
    "def load_stopwords(file_path):\n",
    "    \"\"\"\n",
    "    stopwords.csv 파일에서 불용어 목록을 로드합니다.\n",
    "    \"\"\"\n",
    "    stopwords_df = pd.read_csv(file_path, header=None)  # 불용어 파일을 읽어옵니다.\n",
    "    stopwords = stopwords_df[0].tolist()  # 첫 번째 열에 불용어가 저장되어 있다고 가정\n",
    "    return stopwords"
   ]
  },
  {
   "cell_type": "code",
   "execution_count": 8,
   "metadata": {
    "executionInfo": {
     "elapsed": 1,
     "status": "ok",
     "timestamp": 1746985203859,
     "user": {
      "displayName": "Jynn Choi",
      "userId": "05254382451746305735"
     },
     "user_tz": -540
    },
    "id": "_NA9bEzSSSYx"
   },
   "outputs": [],
   "source": [
    "def remove_stopwords(text, stopwords):\n",
    "    \"\"\"\n",
    "    텍스트를 공백 기준으로 토큰화하여 통합 불용어에 포함되지 않은 단어만 남긴 후,\n",
    "    다시 공백으로 결합하여 문자열로 반환한다.\n",
    "    불용어는 대소문자 구분 없이 처리된다.\n",
    "    \"\"\"\n",
    "    tokens = text.split()  # 한글 텍스트는 소문자 변환 없이 그대로 두어야 하므로 그냥 split()\n",
    "    stopwords_set = set(stopwords)  # 불용어 목록을 집합(set)으로 변환하여 효율성 향상\n",
    "    filtered_tokens = [token for token in tokens if token not in stopwords_set]\n",
    "    return ' '.join(filtered_tokens)"
   ]
  },
  {
   "cell_type": "code",
   "execution_count": 9,
   "metadata": {
    "executionInfo": {
     "elapsed": 6,
     "status": "ok",
     "timestamp": 1746985204866,
     "user": {
      "displayName": "Jynn Choi",
      "userId": "05254382451746305735"
     },
     "user_tz": -540
    },
    "id": "gMnXHhAUSSYx"
   },
   "outputs": [],
   "source": [
    "def c_tf_idf(docs, m, stopwords_path, ngram_range=(1, 2)):\n",
    "    \"\"\"\n",
    "    c-TF-IDF 계산 함수:\n",
    "    docs: 클러스터별로 집계된 문서 리스트 (각 클러스터의 모든 문서를 합친 하나의 문자열)\n",
    "    m: 전체 원본 문서 수 (클러스터화 이전의 총 문서 개수)\n",
    "    stopwords_path: 불용어 사전 파일 경로 (csv)\n",
    "    ngram_range: n-gram 범위 (기본값: (1, 2) - uni-gram과 bi-gram 사용)\n",
    "    \"\"\"\n",
    "    # 불용어 로드\n",
    "    stopwords = load_stopwords(stopwords_path)\n",
    "\n",
    "    # 각 문서에 대해 불용어 제거 적용\n",
    "    processed_docs = [remove_stopwords(doc, stopwords) for doc in docs]\n",
    "\n",
    "    # CountVectorizer를 사용해 단어 행렬 생성 (ngram_range 적용)\n",
    "    count = CountVectorizer(ngram_range=ngram_range)\n",
    "    t = count.fit_transform(processed_docs).toarray()  # shape: (n_clusters, n_terms)\n",
    "\n",
    "    # 각 클러스터 내 단어 빈도를 클러스터 길이로 정규화하여 TF 계산\n",
    "    tf = t / np.sum(t, axis=1, keepdims=True)\n",
    "\n",
    "    # IDF 계산: 전체 문서 수(m)를 이용해 단어가 등장한 클러스터 수 기반의 IDF 산출\n",
    "    idf = np.log((m + 1) / (np.sum(t > 0, axis=0) + 1)) + 1\n",
    "\n",
    "    # c-TF-IDF 계산\n",
    "    ctfidf = tf * idf\n",
    "    return ctfidf, count\n"
   ]
  },
  {
   "cell_type": "markdown",
   "metadata": {
    "id": "mrsmq3xESSYx"
   },
   "source": [
    "## c-TF-IDF 계산"
   ]
  },
  {
   "cell_type": "code",
   "execution_count": 10,
   "metadata": {
    "colab": {
     "base_uri": "https://localhost:8080/"
    },
    "executionInfo": {
     "elapsed": 237,
     "status": "ok",
     "timestamp": 1746985326483,
     "user": {
      "displayName": "Jynn Choi",
      "userId": "05254382451746305735"
     },
     "user_tz": -540
    },
    "id": "RO8DUb_ESSYx",
    "outputId": "3615ae2d-40b2-4f62-97f4-c7527827b3d6"
   },
   "outputs": [
    {
     "name": "stderr",
     "output_type": "stream",
     "text": [
      "/var/folders/_j/ygr94mmx6rs09px9_pzz74100000gn/T/ipykernel_18369/4049938069.py:8: FutureWarning: unique with argument that is not not a Series, Index, ExtensionArray, or np.ndarray is deprecated and will raise in a future version.\n",
      "  unique_clusters = [x for x in pd.unique(labels) if x != -1]\n"
     ]
    }
   ],
   "source": [
    "# 1. 클러스터별로 문서를 집계\n",
    "labels = list(df['1st_cluster'])  # df['cluster']에 있는 값 그대로 사용\n",
    "aggregated_docs, cluster_keys = aggregate_docs(texts, labels)\n",
    "# cluster_keys는 df['cluster']에서 추출한 고유 클러스터 번호 (노이즈 -1 제외)"
   ]
  },
  {
   "cell_type": "code",
   "execution_count": 11,
   "metadata": {
    "executionInfo": {
     "elapsed": 2,
     "status": "ok",
     "timestamp": 1746985328743,
     "user": {
      "displayName": "Jynn Choi",
      "userId": "05254382451746305735"
     },
     "user_tz": -540
    },
    "id": "XbiO-GHSSSYy"
   },
   "outputs": [],
   "source": [
    "# 2. 전체 원본 문서 수 (클러스터화 이전의 문서 개수)\n",
    "m = len(texts)"
   ]
  },
  {
   "cell_type": "code",
   "execution_count": 13,
   "metadata": {
    "id": "SzXmHMgRSSYy"
   },
   "outputs": [],
   "source": [
    "# 3. c-TF-IDF 계산\n",
    "stopwords_path = './postagging/dx_stopwords_custom_0510.csv'\n",
    "ctfidf_matrix, vectorizer = c_tf_idf(aggregated_docs, m, stopwords_path)"
   ]
  },
  {
   "cell_type": "code",
   "execution_count": null,
   "metadata": {
    "id": "sB8-59GISSYy",
    "outputId": "a53e7341-3938-4110-b17b-922eebb3d827"
   },
   "outputs": [
    {
     "data": {
      "text/html": [
       "<div>\n",
       "<style scoped>\n",
       "    .dataframe tbody tr th:only-of-type {\n",
       "        vertical-align: middle;\n",
       "    }\n",
       "\n",
       "    .dataframe tbody tr th {\n",
       "        vertical-align: top;\n",
       "    }\n",
       "\n",
       "    .dataframe thead th {\n",
       "        text-align: right;\n",
       "    }\n",
       "</style>\n",
       "<table border=\"1\" class=\"dataframe\">\n",
       "  <thead>\n",
       "    <tr style=\"text-align: right;\">\n",
       "      <th></th>\n",
       "      <th>cluster</th>\n",
       "      <th>word</th>\n",
       "      <th>score</th>\n",
       "    </tr>\n",
       "  </thead>\n",
       "  <tbody>\n",
       "    <tr>\n",
       "      <th>1050</th>\n",
       "      <td>0</td>\n",
       "      <td>너무</td>\n",
       "      <td>0.032166</td>\n",
       "    </tr>\n",
       "    <tr>\n",
       "      <th>1051</th>\n",
       "      <td>0</td>\n",
       "      <td>사진</td>\n",
       "      <td>0.027083</td>\n",
       "    </tr>\n",
       "    <tr>\n",
       "      <th>1052</th>\n",
       "      <td>0</td>\n",
       "      <td>촬영</td>\n",
       "      <td>0.022986</td>\n",
       "    </tr>\n",
       "    <tr>\n",
       "      <th>1053</th>\n",
       "      <td>0</td>\n",
       "      <td>아기</td>\n",
       "      <td>0.022574</td>\n",
       "    </tr>\n",
       "    <tr>\n",
       "      <th>1054</th>\n",
       "      <td>0</td>\n",
       "      <td>우리</td>\n",
       "      <td>0.015873</td>\n",
       "    </tr>\n",
       "    <tr>\n",
       "      <th>...</th>\n",
       "      <td>...</td>\n",
       "      <td>...</td>\n",
       "      <td>...</td>\n",
       "    </tr>\n",
       "    <tr>\n",
       "      <th>445</th>\n",
       "      <td>8</td>\n",
       "      <td>위한</td>\n",
       "      <td>0.002791</td>\n",
       "    </tr>\n",
       "    <tr>\n",
       "      <th>446</th>\n",
       "      <td>8</td>\n",
       "      <td>쓰는</td>\n",
       "      <td>0.002791</td>\n",
       "    </tr>\n",
       "    <tr>\n",
       "      <th>447</th>\n",
       "      <td>8</td>\n",
       "      <td>오늘은</td>\n",
       "      <td>0.002763</td>\n",
       "    </tr>\n",
       "    <tr>\n",
       "      <th>448</th>\n",
       "      <td>8</td>\n",
       "      <td>밀리맘</td>\n",
       "      <td>0.002748</td>\n",
       "    </tr>\n",
       "    <tr>\n",
       "      <th>449</th>\n",
       "      <td>8</td>\n",
       "      <td>도움이</td>\n",
       "      <td>0.002736</td>\n",
       "    </tr>\n",
       "  </tbody>\n",
       "</table>\n",
       "<p>1350 rows × 3 columns</p>\n",
       "</div>"
      ],
      "text/plain": [
       "      cluster word     score\n",
       "1050        0   너무  0.032166\n",
       "1051        0   사진  0.027083\n",
       "1052        0   촬영  0.022986\n",
       "1053        0   아기  0.022574\n",
       "1054        0   우리  0.015873\n",
       "...       ...  ...       ...\n",
       "445         8   위한  0.002791\n",
       "446         8   쓰는  0.002791\n",
       "447         8  오늘은  0.002763\n",
       "448         8  밀리맘  0.002748\n",
       "449         8  도움이  0.002736\n",
       "\n",
       "[1350 rows x 3 columns]"
      ]
     },
     "execution_count": 14,
     "metadata": {},
     "output_type": "execute_result"
    }
   ],
   "source": [
    "# 4. 각 클러스터별 상위 단어 출력\n",
    "cluster_top_words = []\n",
    "\n",
    "# feature names 추출\n",
    "feature_names = vectorizer.get_feature_names_out()\n",
    "\n",
    "# 각 클러스터별로 상위 100개 단어와 점수를 추출하여 리스트에 저장\n",
    "for idx, cluster in enumerate(cluster_keys):\n",
    "    top_n = np.argsort(ctfidf_matrix[idx])[::-1][:100]\n",
    "    for i in top_n:\n",
    "        cluster_top_words.append({\n",
    "            'cluster': cluster,\n",
    "            'word': feature_names[i],\n",
    "            'score': ctfidf_matrix[idx][i]\n",
    "        })\n",
    "\n",
    "# 리스트를 DataFrame으로 변환\n",
    "df_top_words = pd.DataFrame(cluster_top_words)\n",
    "\n",
    "# 클러스터 번호로 정렬\n",
    "df_top_words = df_top_words.sort_values(by=['cluster', 'score'], ascending=[True, False])\n",
    "df_top_words"
   ]
  },
  {
   "cell_type": "code",
   "execution_count": null,
   "metadata": {
    "id": "L96fHBniSSYy"
   },
   "outputs": [],
   "source": [
    "# df_top_words df를 csv로 저장\n",
    "df_top_words.to_csv('1st_top100_words_0512.csv', index=False, encoding='utf-8-sig')"
   ]
  },
  {
   "cell_type": "markdown",
   "metadata": {
    "id": "s6WCVoVCSSYy"
   },
   "source": [
    "## c-TF-IDF 시각화"
   ]
  },
  {
   "cell_type": "code",
   "execution_count": null,
   "metadata": {
    "id": "BPXGPDrySSYy",
    "outputId": "6034801d-1afe-4429-f525-f08b45c36edb"
   },
   "outputs": [
    {
     "name": "stderr",
     "output_type": "stream",
     "text": [
      "huggingface/tokenizers: The current process just got forked, after parallelism has already been used. Disabling parallelism to avoid deadlocks...\n",
      "To disable this warning, you can either:\n",
      "\t- Avoid using `tokenizers` before the fork if possible\n",
      "\t- Explicitly set the environment variable TOKENIZERS_PARALLELISM=(true | false)\n"
     ]
    },
    {
     "name": "stdout",
     "output_type": "stream",
     "text": [
      "Requirement already satisfied: plotly in /Users/jeong-yura/venvs/py311/lib/python3.11/site-packages (6.0.1)\n",
      "Requirement already satisfied: narwhals>=1.15.1 in /Users/jeong-yura/venvs/py311/lib/python3.11/site-packages (from plotly) (1.37.1)\n",
      "Requirement already satisfied: packaging in /Users/jeong-yura/venvs/py311/lib/python3.11/site-packages (from plotly) (25.0)\n"
     ]
    }
   ],
   "source": [
    "# plotly 설치\n",
    "import sys\n",
    "!{sys.executable} -m pip install plotly"
   ]
  },
  {
   "cell_type": "code",
   "execution_count": 17,
   "metadata": {
    "id": "vXNfYigySSYy"
   },
   "outputs": [],
   "source": [
    "# 유사도 히트맵\n",
    "from sklearn.metrics.pairwise import cosine_similarity\n",
    "import seaborn as sns\n",
    "\n",
    "# 덴드로그램\n",
    "import scipy.cluster.hierarchy as sch\n",
    "from scipy.spatial.distance import squareform\n",
    "from scipy.cluster.hierarchy import dendrogram, linkage\n",
    "\n",
    "# 인터렉티브 차트\n",
    "import plotly.express as px"
   ]
  },
  {
   "cell_type": "code",
   "execution_count": 18,
   "metadata": {
    "id": "wznVUVXHSSYy"
   },
   "outputs": [],
   "source": [
    "plt.rc('font', family='NanumGothic')\n",
    "\n",
    "import matplotlib.pyplot as plt\n",
    "import matplotlib as mpl\n",
    "\n",
    "# macOS 기본 한글 글꼴로 설정\n",
    "mpl.rcParams['font.family']          = ['AppleGothic']\n",
    "mpl.rcParams['axes.unicode_minus']   = False  # minus 기호 깨짐 방지"
   ]
  },
  {
   "cell_type": "code",
   "execution_count": 19,
   "metadata": {
    "id": "PEANlGCsSSYy"
   },
   "outputs": [],
   "source": [
    "# 토픽 내 대표 단어(상위 단어) 바 차트 시각화\n",
    "def visualize_cluster_term_ranks(ctfidf_matrix, feature_names, matrix_index, cluster_label, top_n):\n",
    "    \"\"\"\n",
    "    matrix_index: c-TF-IDF 행렬에서 해당 클러스터가 위치한 인덱스\n",
    "    cluster_label: 원본 데이터의 클러스터 번호\n",
    "    top_n: 상위 몇 개 단어를 보여줄지\n",
    "    \"\"\"\n",
    "    top_idx = np.argsort(ctfidf_matrix[matrix_index])[::-1][:top_n]\n",
    "    words = [feature_names[i] for i in top_idx]\n",
    "    scores = ctfidf_matrix[matrix_index][top_idx]\n",
    "\n",
    "    plt.figure(figsize=(8, 5))\n",
    "    plt.barh(words, scores)\n",
    "    plt.gca().invert_yaxis()  # 상위 단어가 위쪽에 표시되도록\n",
    "    plt.xlabel(\"c-TF-IDF Score\")\n",
    "    plt.title(f\"클러스터 {cluster_label} 대표 단어\")\n",
    "    plt.show()"
   ]
  },
  {
   "cell_type": "code",
   "execution_count": 20,
   "metadata": {
    "id": "PdZx4uJoSSYy",
    "outputId": "49eff818-264f-418a-e7fc-ffa7355c652b"
   },
   "outputs": [
    {
     "data": {
      "image/png": "[encoded data removed]",
      "text/plain": [
       "<Figure size 800x500 with 1 Axes>"
      ]
     },
     "metadata": {},
     "output_type": "display_data"
    },
    {
     "data": {
      "image/png": "[encoded data removed]",
      "text/plain": [
       "<Figure size 800x500 with 1 Axes>"
      ]
     },
     "metadata": {},
     "output_type": "display_data"
    },
    {
     "data": {
      "image/png": "[encoded data removed]",
      "text/plain": [
       "<Figure size 800x500 with 1 Axes>"
      ]
     },
     "metadata": {},
     "output_type": "display_data"
    },
    {
     "data": {
      "image/png": "[encoded data removed]",
      "text/plain": [
       "<Figure size 800x500 with 1 Axes>"
      ]
     },
     "metadata": {},
     "output_type": "display_data"
    },
    {
     "data": {
      "image/png": "[encoded data removed]",
      "text/plain": [
       "<Figure size 800x500 with 1 Axes>"
      ]
     },
     "metadata": {},
     "output_type": "display_data"
    },
    {
     "data": {
      "image/png": "[encoded data removed]",
      "text/plain": [
       "<Figure size 800x500 with 1 Axes>"
      ]
     },
     "metadata": {},
     "output_type": "display_data"
    },
    {
     "data": {
      "image/png": "[encoded data removed]",
      "text/plain": [
       "<Figure size 800x500 with 1 Axes>"
      ]
     },
     "metadata": {},
     "output_type": "display_data"
    },
    {
     "data": {
      "image/png": "[encoded data removed]",
      "text/plain": [
       "<Figure size 800x500 with 1 Axes>"
      ]
     },
     "metadata": {},
     "output_type": "display_data"
    },
    {
     "data": {
      "image/png": "[encoded data removed]",
      "text/plain": [
       "<Figure size 800x500 with 1 Axes>"
      ]
     },
     "metadata": {},
     "output_type": "display_data"
    }
   ],
   "source": [
    "# 클러스터 별 대표 단어 바 차트\n",
    "for idx, cluster in enumerate(cluster_keys):\n",
    "    visualize_cluster_term_ranks(ctfidf_matrix, feature_names, matrix_index=idx, cluster_label=cluster, top_n=20)"
   ]
  },
  {
   "cell_type": "code",
   "execution_count": null,
   "metadata": {
    "id": "D1laC8GcSSYz"
   },
   "outputs": [],
   "source": [
    "# 토픽 간 유사도 히트맵 시각화\n",
    "def visualize_topic_heatmap(ctfidf_matrix):\n",
    "    \"\"\"\n",
    "    ctfidf_matrix: 각 클러스터별 c-TF-IDF 행렬 (각 행이 클러스터)\n",
    "    \"\"\"\n",
    "    # 클러스터 간 코사인 유사도 계산\n",
    "    similarity = cosine_similarity(ctfidf_matrix)\n",
    "\n",
    "    plt.figure(figsize=(10, 8))\n",
    "    sns.heatmap(similarity, annot=True, fmt=\".2f\", cmap=\"coolwarm\")\n",
    "    plt.title(\"토픽 간 유사도 히트맵\")\n",
    "    plt.xlabel(\"토픽\")\n",
    "    plt.ylabel(\"토픽\")\n",
    "    plt.show()"
   ]
  },
  {
   "cell_type": "code",
   "execution_count": null,
   "metadata": {
    "id": "cnt7r65oSSYz",
    "outputId": "5da5fd4a-3257-4298-80e5-8f178541a207"
   },
   "outputs": [
    {
     "data": {
      "image/png": "[encoded data removed]",
      "text/plain": [
       "<Figure size 1000x800 with 2 Axes>"
      ]
     },
     "metadata": {},
     "output_type": "display_data"
    }
   ],
   "source": [
    "visualize_topic_heatmap(ctfidf_matrix)"
   ]
  },
  {
   "cell_type": "code",
   "execution_count": null,
   "metadata": {
    "id": "EBf_sIflSSYz"
   },
   "outputs": [],
   "source": [
    "# 토픽 계층 구조(계층적 클러스터링) 시각화\n",
    "def visualize_topic_hierarchy(ctfidf_matrix, labels=None):\n",
    "    \"\"\"\n",
    "    ctfidf_matrix: 각 클러스터의 c-TF-IDF 벡터 (각 행이 클러스터)\n",
    "    labels: (선택사항) 각 클러스터에 대응하는 라벨 리스트\n",
    "    \"\"\"\n",
    "    # 계층적 군집화를 위한 linkage 계산 (워드 방법 사용)\n",
    "    Z = sch.linkage(ctfidf_matrix, method='ward')\n",
    "\n",
    "    plt.figure(figsize=(10, 7))\n",
    "    dendro = sch.dendrogram(Z, labels=labels)\n",
    "    plt.title(\"토픽 계층 구조 덴드로그램\")\n",
    "    plt.xlabel(\"토픽\")\n",
    "    plt.ylabel(\"거리\")\n",
    "    plt.show()"
   ]
  },
  {
   "cell_type": "code",
   "execution_count": null,
   "metadata": {
    "id": "tVOn7ILgSSYz",
    "outputId": "042f4f31-4793-4a00-ec4c-f5f9c1046b6e"
   },
   "outputs": [
    {
     "data": {
      "image/png": "[encoded data removed]",
      "text/plain": [
       "<Figure size 1000x700 with 1 Axes>"
      ]
     },
     "metadata": {},
     "output_type": "display_data"
    }
   ],
   "source": [
    "# 클러스터 번호를 라벨로 사용\n",
    "visualize_topic_hierarchy(ctfidf_matrix, labels=[str(label)\n",
    "                                                 for label in cluster_keys])"
   ]
  },
  {
   "cell_type": "markdown",
   "metadata": {
    "id": "pu9cVIB6SSYz"
   },
   "source": [
    "# 계층적 클러스터링 (덴드로그램)\n",
    "\n",
    "\t1. Ward 메소드 (워드 메소드):\n",
    "\t• 기준: 두 클러스터를 합칠 때, 합쳐진 클러스터 내의 분산(즉, 데이터들의 평균으로부터의 거리 제곱의 합)이 최소가 되도록 합니다.\n",
    "\t• 데이터: 보통 워드 메소드는 유클리드 거리를 전제로 합니다. 즉, 원래의 워드 벡터의 좌표 값을 이용해 각 클러스터의 분산을 계산합니다.\n",
    "\t• 의미: y축은 두 클러스터를 합칠 때 증가하는 분산(또는 비용)을 나타내며, 이 값이 작을수록 서로 비슷한 데이터들이 모여 있다고 볼 수 있습니다.\n",
    "    \n",
    "\t2. Average 메소드 + 코사인 거리 행렬:\n",
    "\t• 기준: 두 클러스터가 합쳐질 때, 두 클러스터에 속한 모든 데이터 쌍 간의 코사인 거리의 평균값을 기준으로 병합합니다.\n",
    "\t• 데이터: 이미 코사인 거리 행렬을 계산해 사용하므로, 코사인 유사도(또는 유사하지 않음 정도)를 반영합니다.\n",
    "\t• 의미: y축은 클러스터 간의 평균 코사인 거리, 즉 두 클러스터의 “다름” 정도를 나타내며, 값이 클수록 두 클러스터 간의 평균 거리가 크다는 뜻입니다.\n",
    "\n",
    "요약하자면: <br>\n",
    "\t• Ward 메소드는 원래의 워드 벡터 좌표를 사용하여 클러스터 내 분산이 최소가 되도록 합치는 반면, <br>\n",
    "\t• Average 메소드는 미리 계산한 코사인 거리 행렬을 사용하여 두 클러스터의 평균 거리를 기준으로 병합합니다."
   ]
  },
  {
   "cell_type": "code",
   "execution_count": null,
   "metadata": {
    "id": "pMuLRuh4SSYz",
    "outputId": "15287bb0-03d0-4d74-99a5-3ea11d033d77"
   },
   "outputs": [
    {
     "data": {
      "image/png": "[encoded data removed]",
      "text/plain": [
       "<Figure size 1500x900 with 1 Axes>"
      ]
     },
     "metadata": {},
     "output_type": "display_data"
    }
   ],
   "source": [
    "# 데이터 포인트 덴드로그램 -> 계층적 클러스터링 수행 (linkage 메서드)\n",
    "\n",
    "# 정방 행렬을 condensed 형태(1차원 배열)로 변환\n",
    "condensed_dist = squareform(distance_matrix)\n",
    "\n",
    "# linkage 함수에 변환된 거리를 사용\n",
    "Z = linkage(condensed_dist, method='average')\n",
    "\n",
    "plt.figure(figsize = (15, 9))\n",
    "dendrogram(Z,\n",
    "           orientation = 'top',\n",
    "           distance_sort= 'descending',\n",
    "           show_leaf_counts = False)\n",
    "plt.title(\"Dendrogram based on a cosine distance matrix\")\n",
    "plt.ylabel(\"linkage distance (dissimilarity)\")\n",
    "plt.show()"
   ]
  },
  {
   "cell_type": "markdown",
   "metadata": {
    "id": "HifUvdDiSSYz"
   },
   "source": [
    "# BERTopic 파이프라인"
   ]
  },
  {
   "cell_type": "markdown",
   "metadata": {
    "id": "t7yDxsmvSSYz"
   },
   "source": [
    "### BERTopic"
   ]
  },
  {
   "cell_type": "markdown",
   "metadata": {
    "id": "ZBXZ1FZUSSYz"
   },
   "source": [
    "import sys\n",
    "!{sys.executable} -m pip install bertopic\n",
    "# 시각화 옵션까지 필요하다면:\n",
    "!{sys.executable} -m pip install \"bertopic[visualization]\""
   ]
  },
  {
   "cell_type": "code",
   "execution_count": null,
   "metadata": {
    "id": "nv4FUjhfSSYz"
   },
   "outputs": [],
   "source": [
    "from bertopic import BERTopic"
   ]
  },
  {
   "cell_type": "raw",
   "metadata": {
    "id": "B7bFO7KDSSY0"
   },
   "source": [
    "topic_model = BERTopic(embedding_model=embedding_model,\n",
    "                       umap_model=umap_model,\n",
    "                       hdbscan_model=hdbscan_model)"
   ]
  },
  {
   "cell_type": "code",
   "execution_count": null,
   "metadata": {
    "id": "eyWFoZaySSY0"
   },
   "outputs": [],
   "source": [
    "topic_model = BERTopic(\n",
    "    embedding_model=None,          # 내부 임베딩 비활성화\n",
    "    umap_model=umap_model,\n",
    "    hdbscan_model=hdbscan_model\n",
    ")"
   ]
  },
  {
   "cell_type": "raw",
   "metadata": {
    "id": "GDA8Imu3SSY0"
   },
   "source": [
    "import sys\n",
    "!{sys.executable} -m pip install huggingface_hub[hf_xet]"
   ]
  },
  {
   "cell_type": "raw",
   "metadata": {
    "id": "1LZcXWG3SSY0"
   },
   "source": [
    "## 여진언니 기존 코드\n",
    "topics, probs = topic_model.fit_transform(texts)"
   ]
  },
  {
   "cell_type": "code",
   "execution_count": null,
   "metadata": {
    "id": "EuXZ2LYzSSY0",
    "outputId": "f6cc4f14-174a-41ea-d031-63299da5c52b"
   },
   "outputs": [
    {
     "ename": "ValueError",
     "evalue": "operands could not be broadcast together with shapes (10,) (10,22741) ",
     "output_type": "error",
     "traceback": [
      "\u001b[31m---------------------------------------------------------------------------\u001b[39m",
      "\u001b[31mValueError\u001b[39m                                Traceback (most recent call last)",
      "\u001b[36mCell\u001b[39m\u001b[36m \u001b[39m\u001b[32mIn[342]\u001b[39m\u001b[32m, line 1\u001b[39m\n\u001b[32m----> \u001b[39m\u001b[32m1\u001b[39m topics, probs = \u001b[43mtopic_model\u001b[49m\u001b[43m.\u001b[49m\u001b[43mfit_transform\u001b[49m\u001b[43m(\u001b[49m\n\u001b[32m      2\u001b[39m \u001b[43m    \u001b[49m\u001b[43mtexts\u001b[49m\u001b[43m,\u001b[49m\n\u001b[32m      3\u001b[39m \u001b[43m    \u001b[49m\u001b[43membeddings\u001b[49m\u001b[43m=\u001b[49m\u001b[43mdistance_matrix\u001b[49m\n\u001b[32m      4\u001b[39m \u001b[43m)\u001b[49m\n",
      "\u001b[36mFile \u001b[39m\u001b[32m~/venvs/py311/lib/python3.11/site-packages/bertopic/_bertopic.py:486\u001b[39m, in \u001b[36mBERTopic.fit_transform\u001b[39m\u001b[34m(self, documents, embeddings, images, y)\u001b[39m\n\u001b[32m    482\u001b[39m         umap_embeddings = \u001b[38;5;28mself\u001b[39m.umap_model.transform(embeddings)\n\u001b[32m    484\u001b[39m \u001b[38;5;28;01mif\u001b[39;00m \u001b[38;5;28mlen\u001b[39m(documents) > \u001b[32m0\u001b[39m:\n\u001b[32m    485\u001b[39m     \u001b[38;5;66;03m# Cluster reduced embeddings\u001b[39;00m\n\u001b[32m--> \u001b[39m\u001b[32m486\u001b[39m     documents, probabilities = \u001b[38;5;28;43mself\u001b[39;49m\u001b[43m.\u001b[49m\u001b[43m_cluster_embeddings\u001b[49m\u001b[43m(\u001b[49m\u001b[43mumap_embeddings\u001b[49m\u001b[43m,\u001b[49m\u001b[43m \u001b[49m\u001b[43mdocuments\u001b[49m\u001b[43m,\u001b[49m\u001b[43m \u001b[49m\u001b[43my\u001b[49m\u001b[43m=\u001b[49m\u001b[43my\u001b[49m\u001b[43m)\u001b[49m\n\u001b[32m    487\u001b[39m     \u001b[38;5;28;01mif\u001b[39;00m \u001b[38;5;28mself\u001b[39m._is_zeroshot() \u001b[38;5;129;01mand\u001b[39;00m \u001b[38;5;28mlen\u001b[39m(assigned_documents) > \u001b[32m0\u001b[39m:\n\u001b[32m    488\u001b[39m         documents, embeddings = \u001b[38;5;28mself\u001b[39m._combine_zeroshot_topics(\n\u001b[32m    489\u001b[39m             documents, embeddings, assigned_documents, assigned_embeddings\n\u001b[32m    490\u001b[39m         )\n",
      "\u001b[36mFile \u001b[39m\u001b[32m~/venvs/py311/lib/python3.11/site-packages/bertopic/_bertopic.py:3812\u001b[39m, in \u001b[36mBERTopic._cluster_embeddings\u001b[39m\u001b[34m(self, umap_embeddings, documents, partial_fit, y)\u001b[39m\n\u001b[32m   3810\u001b[39m \u001b[38;5;28;01melse\u001b[39;00m:\n\u001b[32m   3811\u001b[39m     \u001b[38;5;28;01mtry\u001b[39;00m:\n\u001b[32m-> \u001b[39m\u001b[32m3812\u001b[39m         \u001b[38;5;28;43mself\u001b[39;49m\u001b[43m.\u001b[49m\u001b[43mhdbscan_model\u001b[49m\u001b[43m.\u001b[49m\u001b[43mfit\u001b[49m\u001b[43m(\u001b[49m\u001b[43mumap_embeddings\u001b[49m\u001b[43m,\u001b[49m\u001b[43m \u001b[49m\u001b[43my\u001b[49m\u001b[43m=\u001b[49m\u001b[43my\u001b[49m\u001b[43m)\u001b[49m\n\u001b[32m   3813\u001b[39m     \u001b[38;5;28;01mexcept\u001b[39;00m \u001b[38;5;167;01mTypeError\u001b[39;00m:\n\u001b[32m   3814\u001b[39m         \u001b[38;5;28mself\u001b[39m.hdbscan_model.fit(umap_embeddings)\n",
      "\u001b[36mFile \u001b[39m\u001b[32m~/venvs/py311/lib/python3.11/site-packages/hdbscan/hdbscan_.py:1251\u001b[39m, in \u001b[36mHDBSCAN.fit\u001b[39m\u001b[34m(self, X, y)\u001b[39m\n\u001b[32m   1241\u001b[39m kwargs.update(\u001b[38;5;28mself\u001b[39m._metric_kwargs)\n\u001b[32m   1242\u001b[39m kwargs[\u001b[33m'\u001b[39m\u001b[33mgen_min_span_tree\u001b[39m\u001b[33m'\u001b[39m] |= \u001b[38;5;28mself\u001b[39m.branch_detection_data\n\u001b[32m   1244\u001b[39m (\n\u001b[32m   1245\u001b[39m     \u001b[38;5;28mself\u001b[39m.labels_,\n\u001b[32m   1246\u001b[39m     \u001b[38;5;28mself\u001b[39m.probabilities_,\n\u001b[32m   1247\u001b[39m     \u001b[38;5;28mself\u001b[39m.cluster_persistence_,\n\u001b[32m   1248\u001b[39m     \u001b[38;5;28mself\u001b[39m._condensed_tree,\n\u001b[32m   1249\u001b[39m     \u001b[38;5;28mself\u001b[39m._single_linkage_tree,\n\u001b[32m   1250\u001b[39m     \u001b[38;5;28mself\u001b[39m._min_spanning_tree,\n\u001b[32m-> \u001b[39m\u001b[32m1251\u001b[39m ) = \u001b[43mhdbscan\u001b[49m\u001b[43m(\u001b[49m\u001b[43mclean_data\u001b[49m\u001b[43m,\u001b[49m\u001b[43m \u001b[49m\u001b[43m*\u001b[49m\u001b[43m*\u001b[49m\u001b[43mkwargs\u001b[49m\u001b[43m)\u001b[49m\n\u001b[32m   1253\u001b[39m \u001b[38;5;28;01mif\u001b[39;00m \u001b[38;5;28mself\u001b[39m.metric != \u001b[33m\"\u001b[39m\u001b[33mprecomputed\u001b[39m\u001b[33m\"\u001b[39m \u001b[38;5;129;01mand\u001b[39;00m \u001b[38;5;129;01mnot\u001b[39;00m \u001b[38;5;28mself\u001b[39m._all_finite:\n\u001b[32m   1254\u001b[39m     \u001b[38;5;66;03m# remap indices to align with original data in the case of non-finite entries.\u001b[39;00m\n\u001b[32m   1255\u001b[39m     \u001b[38;5;28mself\u001b[39m._condensed_tree = remap_condensed_tree(\n\u001b[32m   1256\u001b[39m         \u001b[38;5;28mself\u001b[39m._condensed_tree, internal_to_raw, outliers\n\u001b[32m   1257\u001b[39m     )\n",
      "\u001b[36mFile \u001b[39m\u001b[32m~/venvs/py311/lib/python3.11/site-packages/hdbscan/hdbscan_.py:834\u001b[39m, in \u001b[36mhdbscan\u001b[39m\u001b[34m(X, min_cluster_size, min_samples, alpha, cluster_selection_epsilon, max_cluster_size, metric, p, leaf_size, algorithm, memory, approx_min_span_tree, gen_min_span_tree, core_dist_n_jobs, cluster_selection_method, allow_single_cluster, match_reference_implementation, cluster_selection_epsilon_max, **kwargs)\u001b[39m\n\u001b[32m    830\u001b[39m \u001b[38;5;28;01melse\u001b[39;00m:\n\u001b[32m    832\u001b[39m     \u001b[38;5;28;01mif\u001b[39;00m issparse(X) \u001b[38;5;129;01mor\u001b[39;00m metric \u001b[38;5;129;01mnot\u001b[39;00m \u001b[38;5;129;01min\u001b[39;00m FAST_METRICS:\n\u001b[32m    833\u001b[39m         \u001b[38;5;66;03m# We can't do much with sparse matrices ...\u001b[39;00m\n\u001b[32m--> \u001b[39m\u001b[32m834\u001b[39m         (single_linkage_tree, result_min_span_tree) = \u001b[43mmemory\u001b[49m\u001b[43m.\u001b[49m\u001b[43mcache\u001b[49m\u001b[43m(\u001b[49m\n\u001b[32m    835\u001b[39m \u001b[43m            \u001b[49m\u001b[43m_hdbscan_generic\u001b[49m\n\u001b[32m    836\u001b[39m \u001b[43m        \u001b[49m\u001b[43m)\u001b[49m\u001b[43m(\u001b[49m\u001b[43mX\u001b[49m\u001b[43m,\u001b[49m\u001b[43m \u001b[49m\u001b[43mmin_samples\u001b[49m\u001b[43m,\u001b[49m\u001b[43m \u001b[49m\u001b[43malpha\u001b[49m\u001b[43m,\u001b[49m\u001b[43m \u001b[49m\u001b[43mmetric\u001b[49m\u001b[43m,\u001b[49m\u001b[43m \u001b[49m\u001b[43mp\u001b[49m\u001b[43m,\u001b[49m\u001b[43m \u001b[49m\u001b[43mleaf_size\u001b[49m\u001b[43m,\u001b[49m\u001b[43m \u001b[49m\u001b[43mgen_min_span_tree\u001b[49m\u001b[43m,\u001b[49m\u001b[43m \u001b[49m\u001b[43m*\u001b[49m\u001b[43m*\u001b[49m\u001b[43mkwargs\u001b[49m\u001b[43m)\u001b[49m\n\u001b[32m    837\u001b[39m     \u001b[38;5;28;01melif\u001b[39;00m metric \u001b[38;5;129;01min\u001b[39;00m KDTREE_VALID_METRICS:\n\u001b[32m    838\u001b[39m         \u001b[38;5;66;03m# TO DO: Need heuristic to decide when to go to boruvka;\u001b[39;00m\n\u001b[32m    839\u001b[39m         \u001b[38;5;66;03m# still debugging for now\u001b[39;00m\n\u001b[32m    840\u001b[39m         \u001b[38;5;28;01mif\u001b[39;00m X.shape[\u001b[32m1\u001b[39m] > \u001b[32m60\u001b[39m:\n",
      "\u001b[36mFile \u001b[39m\u001b[32m~/venvs/py311/lib/python3.11/site-packages/joblib/memory.py:326\u001b[39m, in \u001b[36mNotMemorizedFunc.__call__\u001b[39m\u001b[34m(self, *args, **kwargs)\u001b[39m\n\u001b[32m    325\u001b[39m \u001b[38;5;28;01mdef\u001b[39;00m\u001b[38;5;250m \u001b[39m\u001b[34m__call__\u001b[39m(\u001b[38;5;28mself\u001b[39m, *args, **kwargs):\n\u001b[32m--> \u001b[39m\u001b[32m326\u001b[39m     \u001b[38;5;28;01mreturn\u001b[39;00m \u001b[38;5;28;43mself\u001b[39;49m\u001b[43m.\u001b[49m\u001b[43mfunc\u001b[49m\u001b[43m(\u001b[49m\u001b[43m*\u001b[49m\u001b[43margs\u001b[49m\u001b[43m,\u001b[49m\u001b[43m \u001b[49m\u001b[43m*\u001b[49m\u001b[43m*\u001b[49m\u001b[43mkwargs\u001b[49m\u001b[43m)\u001b[49m\n",
      "\u001b[36mFile \u001b[39m\u001b[32m~/venvs/py311/lib/python3.11/site-packages/hdbscan/hdbscan_.py:133\u001b[39m, in \u001b[36m_hdbscan_generic\u001b[39m\u001b[34m(X, min_samples, alpha, metric, p, leaf_size, gen_min_span_tree, **kwargs)\u001b[39m\n\u001b[32m    120\u001b[39m \u001b[38;5;28;01mif\u001b[39;00m issparse(distance_matrix):\n\u001b[32m    121\u001b[39m     \u001b[38;5;66;03m# raise TypeError('Sparse distance matrices not yet supported')\u001b[39;00m\n\u001b[32m    122\u001b[39m     \u001b[38;5;28;01mreturn\u001b[39;00m _hdbscan_sparse_distance_matrix(\n\u001b[32m    123\u001b[39m         distance_matrix,\n\u001b[32m    124\u001b[39m         min_samples,\n\u001b[32m   (...)\u001b[39m\u001b[32m    130\u001b[39m         **kwargs\n\u001b[32m    131\u001b[39m     )\n\u001b[32m--> \u001b[39m\u001b[32m133\u001b[39m mutual_reachability_ = \u001b[43mmutual_reachability\u001b[49m\u001b[43m(\u001b[49m\u001b[43mdistance_matrix\u001b[49m\u001b[43m,\u001b[49m\u001b[43m \u001b[49m\u001b[43mmin_samples\u001b[49m\u001b[43m,\u001b[49m\u001b[43m \u001b[49m\u001b[43malpha\u001b[49m\u001b[43m)\u001b[49m\n\u001b[32m    135\u001b[39m min_spanning_tree = mst_linkage_core(mutual_reachability_)\n\u001b[32m    137\u001b[39m \u001b[38;5;66;03m# Warn if the MST couldn't be constructed around the missing distances\u001b[39;00m\n",
      "\u001b[36mFile \u001b[39m\u001b[32mhdbscan/_hdbscan_reachability.pyx:57\u001b[39m, in \u001b[36mhdbscan._hdbscan_reachability.mutual_reachability\u001b[39m\u001b[34m()\u001b[39m\n",
      "\u001b[31mValueError\u001b[39m: operands could not be broadcast together with shapes (10,) (10,22741) "
     ]
    }
   ],
   "source": [
    "topics, probs = topic_model.fit_transform(\n",
    "    texts,\n",
    "    embeddings=distance_matrix\n",
    ")"
   ]
  },
  {
   "cell_type": "markdown",
   "metadata": {
    "id": "TetVR7PvSSY0"
   },
   "source": [
    "### c-TF-IDF 시각화 (BERTopic)"
   ]
  },
  {
   "cell_type": "code",
   "execution_count": null,
   "metadata": {
    "id": "gugKUIcSSSY0"
   },
   "outputs": [],
   "source": [
    "import matplotlib.pyplot as plt"
   ]
  },
  {
   "cell_type": "code",
   "execution_count": null,
   "metadata": {
    "id": "ZLVb4N9DSSY0"
   },
   "outputs": [],
   "source": [
    "# 토픽 번호 0의 c-TF-IDF 결과를 시각화\n",
    "topic_num = 0\n",
    "topic_words = topic_model.get_topic(topic_num)\n",
    "                # 결과: [(단어, 점수), ...]\n",
    "\n",
    "# 단어와 점수를 분리\n",
    "words = [word for word, score in topic_words]\n",
    "scores = [score for word, score in topic_words]\n",
    "\n",
    "plt.figure(figsize=(10, 5))\n",
    "plt.barh(words, scores)\n",
    "plt.xlabel(\"c-TF-IDF Score\")\n",
    "plt.title(f\"토픽 {topic_num}의 c-TF-IDF 시각화\")\n",
    "plt.gca().invert_yaxis()  # 높은 점수가 위쪽에 오도록 설정\n",
    "plt.show()"
   ]
  },
  {
   "cell_type": "code",
   "execution_count": null,
   "metadata": {
    "id": "P9Dz64DNSSY0"
   },
   "outputs": [],
   "source": [
    "# 토픽 별 인터랙티브 차트 시각화\n",
    "fig = topic_model.visualize_barchart(topic=topic_num)\n",
    "fig.show()"
   ]
  },
  {
   "cell_type": "code",
   "execution_count": null,
   "metadata": {
    "id": "JYDP6bqASSY0"
   },
   "outputs": [],
   "source": [
    "# Visualization\n",
    "# PLDAVIS와 비슷한 형태로 시각화를 지원해준다.\n",
    "topic_model.visualize_topics()\n",
    "# 앞서 calculate_probabilities를 했다면 특정 Document에 대해서 Topic별 Probabilites를 확인할 수 있다.\n",
    "# 여기서 예시는 index 200번째 Document\n",
    "topic_model.visualize_distribution(probs[200], min_probability=0.015)\n",
    "# Topic 별 Hierarchy를 보여준다.\n",
    "topic_model.visualize_hierarchy(top_n_topics=50)\n",
    "# Topic을 대표하는 상위 단어 5개씩 보여준다.\n",
    "topic_model.visualize_barchart(top_n_topics=5)\n",
    "# Topic간 유사도를 Cosine Similarity로 계산후 Heatmap으로 표현\n",
    "topic_model.visualize_heatmap(n_clusters=20, width=1000, height=1000)\n",
    "# Topic내 대표하는 단어들에 대해서 c-tf-idf로 계산해서 각 단어가 Topic에서 차지하는 중요도를 계산했던 것을 Rank 순대로 보여준다.\n",
    "topic_model.visualize_term_rank()"
   ]
  },
  {
   "cell_type": "code",
   "execution_count": null,
   "metadata": {
    "id": "09RiRWyUSSY0"
   },
   "outputs": [],
   "source": []
  }
 ],
 "metadata": {
  "accelerator": "GPU",
  "colab": {
   "gpuType": "T4",
   "provenance": []
  },
  "kernelspec": {
   "display_name": "dxschool",
   "language": "python",
   "name": "python3"
  },
  "language_info": {
   "codemirror_mode": {
    "name": "ipython",
    "version": 3
   },
   "file_extension": ".py",
   "mimetype": "text/x-python",
   "name": "python",
   "nbconvert_exporter": "python",
   "pygments_lexer": "ipython3",
   "version": "3.10.16"
  },
  "widgets": {
   "application/vnd.jupyter.widget-state+json": {
    "0250dbf70744459ba81a466a7b241f49": {
     "model_module": "@jupyter-widgets/controls",
     "model_module_version": "1.5.0",
     "model_name": "HTMLModel",
     "state": {
      "_dom_classes": [],
      "_model_module": "@jupyter-widgets/controls",
      "_model_module_version": "1.5.0",
      "_model_name": "HTMLModel",
      "_view_count": null,
      "_view_module": "@jupyter-widgets/controls",
      "_view_module_version": "1.5.0",
      "_view_name": "HTMLView",
      "description": "",
      "description_tooltip": null,
      "layout": "IPY_MODEL_534056786c1a4c04beefd85c3c1609ec",
      "placeholder": "​",
      "style": "IPY_MODEL_4a07a388f47a4b58870ec94b2e84fe6a",
      "value": "tokenizer_config.json: 100%"
     }
    },
    "038e2af716d0436fb0a637c95ad6bb31": {
     "model_module": "@jupyter-widgets/controls",
     "model_module_version": "1.5.0",
     "model_name": "HTMLModel",
     "state": {
      "_dom_classes": [],
      "_model_module": "@jupyter-widgets/controls",
      "_model_module_version": "1.5.0",
      "_model_name": "HTMLModel",
      "_view_count": null,
      "_view_module": "@jupyter-widgets/controls",
      "_view_module_version": "1.5.0",
      "_view_name": "HTMLView",
      "description": "",
      "description_tooltip": null,
      "layout": "IPY_MODEL_e51758e55feb4586b40c6ab9baad3a29",
      "placeholder": "​",
      "style": "IPY_MODEL_653c56bc261847b6963d231969fa5b37",
      "value": "tokenizer.json: 100%"
     }
    },
    "06ca691465a948a6b0e4da177341dc0b": {
     "model_module": "@jupyter-widgets/controls",
     "model_module_version": "1.5.0",
     "model_name": "FloatProgressModel",
     "state": {
      "_dom_classes": [],
      "_model_module": "@jupyter-widgets/controls",
      "_model_module_version": "1.5.0",
      "_model_name": "FloatProgressModel",
      "_view_count": null,
      "_view_module": "@jupyter-widgets/controls",
      "_view_module_version": "1.5.0",
      "_view_name": "ProgressView",
      "bar_style": "success",
      "description": "",
      "description_tooltip": null,
      "layout": "IPY_MODEL_f9a136366d9b4f5797d959b1a475fd1a",
      "max": 349,
      "min": 0,
      "orientation": "horizontal",
      "style": "IPY_MODEL_41f4d42d33334e509665e731240542be",
      "value": 349
     }
    },
    "07faaf5c36134adeaf83c69104a01a73": {
     "model_module": "@jupyter-widgets/controls",
     "model_module_version": "1.5.0",
     "model_name": "HBoxModel",
     "state": {
      "_dom_classes": [],
      "_model_module": "@jupyter-widgets/controls",
      "_model_module_version": "1.5.0",
      "_model_name": "HBoxModel",
      "_view_count": null,
      "_view_module": "@jupyter-widgets/controls",
      "_view_module_version": "1.5.0",
      "_view_name": "HBoxView",
      "box_style": "",
      "children": [
       "IPY_MODEL_8c5f878dae2b49e796480326d7126692",
       "IPY_MODEL_c8bf3097bed2494d90965b8df15d5f6b",
       "IPY_MODEL_babcaecaeb7942d8aba318e14081b83b"
      ],
      "layout": "IPY_MODEL_7e603515338e42ca98297484fabf3771"
     }
    },
    "0a11af851179428cb543b2ab3ee64c5d": {
     "model_module": "@jupyter-widgets/controls",
     "model_module_version": "1.5.0",
     "model_name": "ProgressStyleModel",
     "state": {
      "_model_module": "@jupyter-widgets/controls",
      "_model_module_version": "1.5.0",
      "_model_name": "ProgressStyleModel",
      "_view_count": null,
      "_view_module": "@jupyter-widgets/base",
      "_view_module_version": "1.2.0",
      "_view_name": "StyleView",
      "bar_color": null,
      "description_width": ""
     }
    },
    "0d1336fecfa14258992a332100cda913": {
     "model_module": "@jupyter-widgets/controls",
     "model_module_version": "1.5.0",
     "model_name": "ProgressStyleModel",
     "state": {
      "_model_module": "@jupyter-widgets/controls",
      "_model_module_version": "1.5.0",
      "_model_name": "ProgressStyleModel",
      "_view_count": null,
      "_view_module": "@jupyter-widgets/base",
      "_view_module_version": "1.2.0",
      "_view_name": "StyleView",
      "bar_color": null,
      "description_width": ""
     }
    },
    "0f94bc81d2af495894b77057d73d7edf": {
     "model_module": "@jupyter-widgets/controls",
     "model_module_version": "1.5.0",
     "model_name": "HBoxModel",
     "state": {
      "_dom_classes": [],
      "_model_module": "@jupyter-widgets/controls",
      "_model_module_version": "1.5.0",
      "_model_name": "HBoxModel",
      "_view_count": null,
      "_view_module": "@jupyter-widgets/controls",
      "_view_module_version": "1.5.0",
      "_view_name": "HBoxView",
      "box_style": "",
      "children": [
       "IPY_MODEL_34083f1567664acbaf648e816873b851",
       "IPY_MODEL_f686cbc603c74c228bf1928d90df1581",
       "IPY_MODEL_3cc3e63ff88d4769b55cf97db8c8a090"
      ],
      "layout": "IPY_MODEL_488eef70ca994ece9716d6732589ceac"
     }
    },
    "0fbcf5dc427e4da0b410da275cbd293c": {
     "model_module": "@jupyter-widgets/controls",
     "model_module_version": "1.5.0",
     "model_name": "HTMLModel",
     "state": {
      "_dom_classes": [],
      "_model_module": "@jupyter-widgets/controls",
      "_model_module_version": "1.5.0",
      "_model_name": "HTMLModel",
      "_view_count": null,
      "_view_module": "@jupyter-widgets/controls",
      "_view_module_version": "1.5.0",
      "_view_name": "HTMLView",
      "description": "",
      "description_tooltip": null,
      "layout": "IPY_MODEL_83f31e0d76514061b6857f88ba7b1dcb",
      "placeholder": "​",
      "style": "IPY_MODEL_7270363d70ed4ca8be1002ee4ebf23ed",
      "value": " 17.1M/17.1M [00:00&lt;00:00, 74.8MB/s]"
     }
    },
    "0fe69356fc8e4261adf58c04d5383520": {
     "model_module": "@jupyter-widgets/controls",
     "model_module_version": "1.5.0",
     "model_name": "DescriptionStyleModel",
     "state": {
      "_model_module": "@jupyter-widgets/controls",
      "_model_module_version": "1.5.0",
      "_model_name": "DescriptionStyleModel",
      "_view_count": null,
      "_view_module": "@jupyter-widgets/base",
      "_view_module_version": "1.2.0",
      "_view_name": "StyleView",
      "description_width": ""
     }
    },
    "13b0880bde234275b40e67e6afdc0720": {
     "model_module": "@jupyter-widgets/controls",
     "model_module_version": "1.5.0",
     "model_name": "FloatProgressModel",
     "state": {
      "_dom_classes": [],
      "_model_module": "@jupyter-widgets/controls",
      "_model_module_version": "1.5.0",
      "_model_name": "FloatProgressModel",
      "_view_count": null,
      "_view_module": "@jupyter-widgets/controls",
      "_view_module_version": "1.5.0",
      "_view_name": "ProgressView",
      "bar_style": "success",
      "description": "",
      "description_tooltip": null,
      "layout": "IPY_MODEL_a15a643a5a794cb093d1ce561b7f5854",
      "max": 964,
      "min": 0,
      "orientation": "horizontal",
      "style": "IPY_MODEL_93353eec19bd494fbcbb43fb1c32adb9",
      "value": 964
     }
    },
    "18003619f63745419a3a67b71315246b": {
     "model_module": "@jupyter-widgets/base",
     "model_module_version": "1.2.0",
     "model_name": "LayoutModel",
     "state": {
      "_model_module": "@jupyter-widgets/base",
      "_model_module_version": "1.2.0",
      "_model_name": "LayoutModel",
      "_view_count": null,
      "_view_module": "@jupyter-widgets/base",
      "_view_module_version": "1.2.0",
      "_view_name": "LayoutView",
      "align_content": null,
      "align_items": null,
      "align_self": null,
      "border": null,
      "bottom": null,
      "display": null,
      "flex": null,
      "flex_flow": null,
      "grid_area": null,
      "grid_auto_columns": null,
      "grid_auto_flow": null,
      "grid_auto_rows": null,
      "grid_column": null,
      "grid_gap": null,
      "grid_row": null,
      "grid_template_areas": null,
      "grid_template_columns": null,
      "grid_template_rows": null,
      "height": null,
      "justify_content": null,
      "justify_items": null,
      "left": null,
      "margin": null,
      "max_height": null,
      "max_width": null,
      "min_height": null,
      "min_width": null,
      "object_fit": null,
      "object_position": null,
      "order": null,
      "overflow": null,
      "overflow_x": null,
      "overflow_y": null,
      "padding": null,
      "right": null,
      "top": null,
      "visibility": null,
      "width": null
     }
    },
    "183e6143fc0c4c9e819fc6287e38997a": {
     "model_module": "@jupyter-widgets/controls",
     "model_module_version": "1.5.0",
     "model_name": "HTMLModel",
     "state": {
      "_dom_classes": [],
      "_model_module": "@jupyter-widgets/controls",
      "_model_module_version": "1.5.0",
      "_model_name": "HTMLModel",
      "_view_count": null,
      "_view_module": "@jupyter-widgets/controls",
      "_view_module_version": "1.5.0",
      "_view_name": "HTMLView",
      "description": "",
      "description_tooltip": null,
      "layout": "IPY_MODEL_18003619f63745419a3a67b71315246b",
      "placeholder": "​",
      "style": "IPY_MODEL_cf23c2ab99fd4a57b270fcadfdf5baef",
      "value": "modules.json: 100%"
     }
    },
    "185256fd9ce34c549116403f3d3b0e01": {
     "model_module": "@jupyter-widgets/base",
     "model_module_version": "1.2.0",
     "model_name": "LayoutModel",
     "state": {
      "_model_module": "@jupyter-widgets/base",
      "_model_module_version": "1.2.0",
      "_model_name": "LayoutModel",
      "_view_count": null,
      "_view_module": "@jupyter-widgets/base",
      "_view_module_version": "1.2.0",
      "_view_name": "LayoutView",
      "align_content": null,
      "align_items": null,
      "align_self": null,
      "border": null,
      "bottom": null,
      "display": null,
      "flex": null,
      "flex_flow": null,
      "grid_area": null,
      "grid_auto_columns": null,
      "grid_auto_flow": null,
      "grid_auto_rows": null,
      "grid_column": null,
      "grid_gap": null,
      "grid_row": null,
      "grid_template_areas": null,
      "grid_template_columns": null,
      "grid_template_rows": null,
      "height": null,
      "justify_content": null,
      "justify_items": null,
      "left": null,
      "margin": null,
      "max_height": null,
      "max_width": null,
      "min_height": null,
      "min_width": null,
      "object_fit": null,
      "object_position": null,
      "order": null,
      "overflow": null,
      "overflow_x": null,
      "overflow_y": null,
      "padding": null,
      "right": null,
      "top": null,
      "visibility": null,
      "width": null
     }
    },
    "193ac2b604644dd5a1e877ec252b93f6": {
     "model_module": "@jupyter-widgets/controls",
     "model_module_version": "1.5.0",
     "model_name": "DescriptionStyleModel",
     "state": {
      "_model_module": "@jupyter-widgets/controls",
      "_model_module_version": "1.5.0",
      "_model_name": "DescriptionStyleModel",
      "_view_count": null,
      "_view_module": "@jupyter-widgets/base",
      "_view_module_version": "1.2.0",
      "_view_name": "StyleView",
      "description_width": ""
     }
    },
    "1dddd1433251422fbe4327f15ffe2ff9": {
     "model_module": "@jupyter-widgets/controls",
     "model_module_version": "1.5.0",
     "model_name": "FloatProgressModel",
     "state": {
      "_dom_classes": [],
      "_model_module": "@jupyter-widgets/controls",
      "_model_module_version": "1.5.0",
      "_model_name": "FloatProgressModel",
      "_view_count": null,
      "_view_module": "@jupyter-widgets/controls",
      "_view_module_version": "1.5.0",
      "_view_name": "ProgressView",
      "bar_style": "success",
      "description": "",
      "description_tooltip": null,
      "layout": "IPY_MODEL_506a3c8ceb074a61a795c86989e1da22",
      "max": 2271064456,
      "min": 0,
      "orientation": "horizontal",
      "style": "IPY_MODEL_47b86958019b499eb9321c3598e8f608",
      "value": 2271064456
     }
    },
    "1f976f4c6dc54a6f86bfd4a27ca88e3d": {
     "model_module": "@jupyter-widgets/controls",
     "model_module_version": "1.5.0",
     "model_name": "HTMLModel",
     "state": {
      "_dom_classes": [],
      "_model_module": "@jupyter-widgets/controls",
      "_model_module_version": "1.5.0",
      "_model_name": "HTMLModel",
      "_view_count": null,
      "_view_module": "@jupyter-widgets/controls",
      "_view_module_version": "1.5.0",
      "_view_name": "HTMLView",
      "description": "",
      "description_tooltip": null,
      "layout": "IPY_MODEL_c5721932984346458941cbb4af828599",
      "placeholder": "​",
      "style": "IPY_MODEL_e6c61f4063c94539a71bbcacf429113d",
      "value": " 964/964 [00:00&lt;00:00, 108kB/s]"
     }
    },
    "251234a46feb4a108f54a1ba3dc0e454": {
     "model_module": "@jupyter-widgets/controls",
     "model_module_version": "1.5.0",
     "model_name": "HTMLModel",
     "state": {
      "_dom_classes": [],
      "_model_module": "@jupyter-widgets/controls",
      "_model_module_version": "1.5.0",
      "_model_name": "HTMLModel",
      "_view_count": null,
      "_view_module": "@jupyter-widgets/controls",
      "_view_module_version": "1.5.0",
      "_view_name": "HTMLView",
      "description": "",
      "description_tooltip": null,
      "layout": "IPY_MODEL_5262f8318141418dac926c4bbfbe96da",
      "placeholder": "​",
      "style": "IPY_MODEL_775e73cad7b84029a59ab101960e7e11",
      "value": " 54.0/54.0 [00:00&lt;00:00, 5.08kB/s]"
     }
    },
    "282ed81be5e4454789285d8e2de16bc5": {
     "model_module": "@jupyter-widgets/controls",
     "model_module_version": "1.5.0",
     "model_name": "HBoxModel",
     "state": {
      "_dom_classes": [],
      "_model_module": "@jupyter-widgets/controls",
      "_model_module_version": "1.5.0",
      "_model_name": "HBoxModel",
      "_view_count": null,
      "_view_module": "@jupyter-widgets/controls",
      "_view_module_version": "1.5.0",
      "_view_name": "HBoxView",
      "box_style": "",
      "children": [
       "IPY_MODEL_b9db9335255c4f49835a75782e4bec52",
       "IPY_MODEL_13b0880bde234275b40e67e6afdc0720",
       "IPY_MODEL_1f976f4c6dc54a6f86bfd4a27ca88e3d"
      ],
      "layout": "IPY_MODEL_b45af483287c48b98383d48fd8af936f"
     }
    },
    "29be1b76e6574acaacf87f11bc62fc7b": {
     "model_module": "@jupyter-widgets/base",
     "model_module_version": "1.2.0",
     "model_name": "LayoutModel",
     "state": {
      "_model_module": "@jupyter-widgets/base",
      "_model_module_version": "1.2.0",
      "_model_name": "LayoutModel",
      "_view_count": null,
      "_view_module": "@jupyter-widgets/base",
      "_view_module_version": "1.2.0",
      "_view_name": "LayoutView",
      "align_content": null,
      "align_items": null,
      "align_self": null,
      "border": null,
      "bottom": null,
      "display": null,
      "flex": null,
      "flex_flow": null,
      "grid_area": null,
      "grid_auto_columns": null,
      "grid_auto_flow": null,
      "grid_auto_rows": null,
      "grid_column": null,
      "grid_gap": null,
      "grid_row": null,
      "grid_template_areas": null,
      "grid_template_columns": null,
      "grid_template_rows": null,
      "height": null,
      "justify_content": null,
      "justify_items": null,
      "left": null,
      "margin": null,
      "max_height": null,
      "max_width": null,
      "min_height": null,
      "min_width": null,
      "object_fit": null,
      "object_position": null,
      "order": null,
      "overflow": null,
      "overflow_x": null,
      "overflow_y": null,
      "padding": null,
      "right": null,
      "top": null,
      "visibility": null,
      "width": null
     }
    },
    "2b430f948b784e0487e01da56774ce16": {
     "model_module": "@jupyter-widgets/controls",
     "model_module_version": "1.5.0",
     "model_name": "DescriptionStyleModel",
     "state": {
      "_model_module": "@jupyter-widgets/controls",
      "_model_module_version": "1.5.0",
      "_model_name": "DescriptionStyleModel",
      "_view_count": null,
      "_view_module": "@jupyter-widgets/base",
      "_view_module_version": "1.2.0",
      "_view_name": "StyleView",
      "description_width": ""
     }
    },
    "315428ca5d124b19b6a5917490e9b281": {
     "model_module": "@jupyter-widgets/base",
     "model_module_version": "1.2.0",
     "model_name": "LayoutModel",
     "state": {
      "_model_module": "@jupyter-widgets/base",
      "_model_module_version": "1.2.0",
      "_model_name": "LayoutModel",
      "_view_count": null,
      "_view_module": "@jupyter-widgets/base",
      "_view_module_version": "1.2.0",
      "_view_name": "LayoutView",
      "align_content": null,
      "align_items": null,
      "align_self": null,
      "border": null,
      "bottom": null,
      "display": null,
      "flex": null,
      "flex_flow": null,
      "grid_area": null,
      "grid_auto_columns": null,
      "grid_auto_flow": null,
      "grid_auto_rows": null,
      "grid_column": null,
      "grid_gap": null,
      "grid_row": null,
      "grid_template_areas": null,
      "grid_template_columns": null,
      "grid_template_rows": null,
      "height": null,
      "justify_content": null,
      "justify_items": null,
      "left": null,
      "margin": null,
      "max_height": null,
      "max_width": null,
      "min_height": null,
      "min_width": null,
      "object_fit": null,
      "object_position": null,
      "order": null,
      "overflow": null,
      "overflow_x": null,
      "overflow_y": null,
      "padding": null,
      "right": null,
      "top": null,
      "visibility": null,
      "width": null
     }
    },
    "34083f1567664acbaf648e816873b851": {
     "model_module": "@jupyter-widgets/controls",
     "model_module_version": "1.5.0",
     "model_name": "HTMLModel",
     "state": {
      "_dom_classes": [],
      "_model_module": "@jupyter-widgets/controls",
      "_model_module_version": "1.5.0",
      "_model_name": "HTMLModel",
      "_view_count": null,
      "_view_module": "@jupyter-widgets/controls",
      "_view_module_version": "1.5.0",
      "_view_name": "HTMLView",
      "description": "",
      "description_tooltip": null,
      "layout": "IPY_MODEL_b68c0c3c038f4a41b40da81102c97548",
      "placeholder": "​",
      "style": "IPY_MODEL_e32457723ca34951940fb9d1d4899630",
      "value": "config_sentence_transformers.json: 100%"
     }
    },
    "3408e027de50454bb4c9dc3ecf1a190f": {
     "model_module": "@jupyter-widgets/controls",
     "model_module_version": "1.5.0",
     "model_name": "FloatProgressModel",
     "state": {
      "_dom_classes": [],
      "_model_module": "@jupyter-widgets/controls",
      "_model_module_version": "1.5.0",
      "_model_name": "FloatProgressModel",
      "_view_count": null,
      "_view_module": "@jupyter-widgets/controls",
      "_view_module_version": "1.5.0",
      "_view_name": "ProgressView",
      "bar_style": "success",
      "description": "",
      "description_tooltip": null,
      "layout": "IPY_MODEL_f3bd77c545eb4f61858ba7114c85449d",
      "max": 1365,
      "min": 0,
      "orientation": "horizontal",
      "style": "IPY_MODEL_0a11af851179428cb543b2ab3ee64c5d",
      "value": 1365
     }
    },
    "3cc3e63ff88d4769b55cf97db8c8a090": {
     "model_module": "@jupyter-widgets/controls",
     "model_module_version": "1.5.0",
     "model_name": "HTMLModel",
     "state": {
      "_dom_classes": [],
      "_model_module": "@jupyter-widgets/controls",
      "_model_module_version": "1.5.0",
      "_model_name": "HTMLModel",
      "_view_count": null,
      "_view_module": "@jupyter-widgets/controls",
      "_view_module_version": "1.5.0",
      "_view_name": "HTMLView",
      "description": "",
      "description_tooltip": null,
      "layout": "IPY_MODEL_a06024c136a74d00a3a760b25973833f",
      "placeholder": "​",
      "style": "IPY_MODEL_ed42d5c02dce45399595267bd03e1237",
      "value": " 201/201 [00:00&lt;00:00, 17.0kB/s]"
     }
    },
    "3d1edf09304f426f8bac95a83a41e87f": {
     "model_module": "@jupyter-widgets/base",
     "model_module_version": "1.2.0",
     "model_name": "LayoutModel",
     "state": {
      "_model_module": "@jupyter-widgets/base",
      "_model_module_version": "1.2.0",
      "_model_name": "LayoutModel",
      "_view_count": null,
      "_view_module": "@jupyter-widgets/base",
      "_view_module_version": "1.2.0",
      "_view_name": "LayoutView",
      "align_content": null,
      "align_items": null,
      "align_self": null,
      "border": null,
      "bottom": null,
      "display": null,
      "flex": null,
      "flex_flow": null,
      "grid_area": null,
      "grid_auto_columns": null,
      "grid_auto_flow": null,
      "grid_auto_rows": null,
      "grid_column": null,
      "grid_gap": null,
      "grid_row": null,
      "grid_template_areas": null,
      "grid_template_columns": null,
      "grid_template_rows": null,
      "height": null,
      "justify_content": null,
      "justify_items": null,
      "left": null,
      "margin": null,
      "max_height": null,
      "max_width": null,
      "min_height": null,
      "min_width": null,
      "object_fit": null,
      "object_position": null,
      "order": null,
      "overflow": null,
      "overflow_x": null,
      "overflow_y": null,
      "padding": null,
      "right": null,
      "top": null,
      "visibility": null,
      "width": null
     }
    },
    "41f4d42d33334e509665e731240542be": {
     "model_module": "@jupyter-widgets/controls",
     "model_module_version": "1.5.0",
     "model_name": "ProgressStyleModel",
     "state": {
      "_model_module": "@jupyter-widgets/controls",
      "_model_module_version": "1.5.0",
      "_model_name": "ProgressStyleModel",
      "_view_count": null,
      "_view_module": "@jupyter-widgets/base",
      "_view_module_version": "1.2.0",
      "_view_name": "StyleView",
      "bar_color": null,
      "description_width": ""
     }
    },
    "426124725e424b05887893c31debc7a2": {
     "model_module": "@jupyter-widgets/controls",
     "model_module_version": "1.5.0",
     "model_name": "DescriptionStyleModel",
     "state": {
      "_model_module": "@jupyter-widgets/controls",
      "_model_module_version": "1.5.0",
      "_model_name": "DescriptionStyleModel",
      "_view_count": null,
      "_view_module": "@jupyter-widgets/base",
      "_view_module_version": "1.2.0",
      "_view_name": "StyleView",
      "description_width": ""
     }
    },
    "4726ce7661354804be921f65284d5ab4": {
     "model_module": "@jupyter-widgets/base",
     "model_module_version": "1.2.0",
     "model_name": "LayoutModel",
     "state": {
      "_model_module": "@jupyter-widgets/base",
      "_model_module_version": "1.2.0",
      "_model_name": "LayoutModel",
      "_view_count": null,
      "_view_module": "@jupyter-widgets/base",
      "_view_module_version": "1.2.0",
      "_view_name": "LayoutView",
      "align_content": null,
      "align_items": null,
      "align_self": null,
      "border": null,
      "bottom": null,
      "display": null,
      "flex": null,
      "flex_flow": null,
      "grid_area": null,
      "grid_auto_columns": null,
      "grid_auto_flow": null,
      "grid_auto_rows": null,
      "grid_column": null,
      "grid_gap": null,
      "grid_row": null,
      "grid_template_areas": null,
      "grid_template_columns": null,
      "grid_template_rows": null,
      "height": null,
      "justify_content": null,
      "justify_items": null,
      "left": null,
      "margin": null,
      "max_height": null,
      "max_width": null,
      "min_height": null,
      "min_width": null,
      "object_fit": null,
      "object_position": null,
      "order": null,
      "overflow": null,
      "overflow_x": null,
      "overflow_y": null,
      "padding": null,
      "right": null,
      "top": null,
      "visibility": null,
      "width": null
     }
    },
    "47b86958019b499eb9321c3598e8f608": {
     "model_module": "@jupyter-widgets/controls",
     "model_module_version": "1.5.0",
     "model_name": "ProgressStyleModel",
     "state": {
      "_model_module": "@jupyter-widgets/controls",
      "_model_module_version": "1.5.0",
      "_model_name": "ProgressStyleModel",
      "_view_count": null,
      "_view_module": "@jupyter-widgets/base",
      "_view_module_version": "1.2.0",
      "_view_name": "StyleView",
      "bar_color": null,
      "description_width": ""
     }
    },
    "488eef70ca994ece9716d6732589ceac": {
     "model_module": "@jupyter-widgets/base",
     "model_module_version": "1.2.0",
     "model_name": "LayoutModel",
     "state": {
      "_model_module": "@jupyter-widgets/base",
      "_model_module_version": "1.2.0",
      "_model_name": "LayoutModel",
      "_view_count": null,
      "_view_module": "@jupyter-widgets/base",
      "_view_module_version": "1.2.0",
      "_view_name": "LayoutView",
      "align_content": null,
      "align_items": null,
      "align_self": null,
      "border": null,
      "bottom": null,
      "display": null,
      "flex": null,
      "flex_flow": null,
      "grid_area": null,
      "grid_auto_columns": null,
      "grid_auto_flow": null,
      "grid_auto_rows": null,
      "grid_column": null,
      "grid_gap": null,
      "grid_row": null,
      "grid_template_areas": null,
      "grid_template_columns": null,
      "grid_template_rows": null,
      "height": null,
      "justify_content": null,
      "justify_items": null,
      "left": null,
      "margin": null,
      "max_height": null,
      "max_width": null,
      "min_height": null,
      "min_width": null,
      "object_fit": null,
      "object_position": null,
      "order": null,
      "overflow": null,
      "overflow_x": null,
      "overflow_y": null,
      "padding": null,
      "right": null,
      "top": null,
      "visibility": null,
      "width": null
     }
    },
    "4a07a388f47a4b58870ec94b2e84fe6a": {
     "model_module": "@jupyter-widgets/controls",
     "model_module_version": "1.5.0",
     "model_name": "DescriptionStyleModel",
     "state": {
      "_model_module": "@jupyter-widgets/controls",
      "_model_module_version": "1.5.0",
      "_model_name": "DescriptionStyleModel",
      "_view_count": null,
      "_view_module": "@jupyter-widgets/base",
      "_view_module_version": "1.2.0",
      "_view_name": "StyleView",
      "description_width": ""
     }
    },
    "4a797b59009445f28f19493c8d2514a2": {
     "model_module": "@jupyter-widgets/controls",
     "model_module_version": "1.5.0",
     "model_name": "HTMLModel",
     "state": {
      "_dom_classes": [],
      "_model_module": "@jupyter-widgets/controls",
      "_model_module_version": "1.5.0",
      "_model_name": "HTMLModel",
      "_view_count": null,
      "_view_module": "@jupyter-widgets/controls",
      "_view_module_version": "1.5.0",
      "_view_name": "HTMLView",
      "description": "",
      "description_tooltip": null,
      "layout": "IPY_MODEL_6fcc06ee1d22455890fe0f314fb05646",
      "placeholder": "​",
      "style": "IPY_MODEL_d661c463b67c4dd08ec5a3f0a8f36a21",
      "value": "config.json: 100%"
     }
    },
    "4e674714f81141379a7419e79c177dab": {
     "model_module": "@jupyter-widgets/controls",
     "model_module_version": "1.5.0",
     "model_name": "HTMLModel",
     "state": {
      "_dom_classes": [],
      "_model_module": "@jupyter-widgets/controls",
      "_model_module_version": "1.5.0",
      "_model_name": "HTMLModel",
      "_view_count": null,
      "_view_module": "@jupyter-widgets/controls",
      "_view_module_version": "1.5.0",
      "_view_name": "HTMLView",
      "description": "",
      "description_tooltip": null,
      "layout": "IPY_MODEL_9911c167f77b48418a075ea9e48dbf50",
      "placeholder": "​",
      "style": "IPY_MODEL_426124725e424b05887893c31debc7a2",
      "value": "README.md: 100%"
     }
    },
    "506a3c8ceb074a61a795c86989e1da22": {
     "model_module": "@jupyter-widgets/base",
     "model_module_version": "1.2.0",
     "model_name": "LayoutModel",
     "state": {
      "_model_module": "@jupyter-widgets/base",
      "_model_module_version": "1.2.0",
      "_model_name": "LayoutModel",
      "_view_count": null,
      "_view_module": "@jupyter-widgets/base",
      "_view_module_version": "1.2.0",
      "_view_name": "LayoutView",
      "align_content": null,
      "align_items": null,
      "align_self": null,
      "border": null,
      "bottom": null,
      "display": null,
      "flex": null,
      "flex_flow": null,
      "grid_area": null,
      "grid_auto_columns": null,
      "grid_auto_flow": null,
      "grid_auto_rows": null,
      "grid_column": null,
      "grid_gap": null,
      "grid_row": null,
      "grid_template_areas": null,
      "grid_template_columns": null,
      "grid_template_rows": null,
      "height": null,
      "justify_content": null,
      "justify_items": null,
      "left": null,
      "margin": null,
      "max_height": null,
      "max_width": null,
      "min_height": null,
      "min_width": null,
      "object_fit": null,
      "object_position": null,
      "order": null,
      "overflow": null,
      "overflow_x": null,
      "overflow_y": null,
      "padding": null,
      "right": null,
      "top": null,
      "visibility": null,
      "width": null
     }
    },
    "5134af7142584dd189b0facbbe39facf": {
     "model_module": "@jupyter-widgets/base",
     "model_module_version": "1.2.0",
     "model_name": "LayoutModel",
     "state": {
      "_model_module": "@jupyter-widgets/base",
      "_model_module_version": "1.2.0",
      "_model_name": "LayoutModel",
      "_view_count": null,
      "_view_module": "@jupyter-widgets/base",
      "_view_module_version": "1.2.0",
      "_view_name": "LayoutView",
      "align_content": null,
      "align_items": null,
      "align_self": null,
      "border": null,
      "bottom": null,
      "display": null,
      "flex": null,
      "flex_flow": null,
      "grid_area": null,
      "grid_auto_columns": null,
      "grid_auto_flow": null,
      "grid_auto_rows": null,
      "grid_column": null,
      "grid_gap": null,
      "grid_row": null,
      "grid_template_areas": null,
      "grid_template_columns": null,
      "grid_template_rows": null,
      "height": null,
      "justify_content": null,
      "justify_items": null,
      "left": null,
      "margin": null,
      "max_height": null,
      "max_width": null,
      "min_height": null,
      "min_width": null,
      "object_fit": null,
      "object_position": null,
      "order": null,
      "overflow": null,
      "overflow_x": null,
      "overflow_y": null,
      "padding": null,
      "right": null,
      "top": null,
      "visibility": null,
      "width": null
     }
    },
    "5262f8318141418dac926c4bbfbe96da": {
     "model_module": "@jupyter-widgets/base",
     "model_module_version": "1.2.0",
     "model_name": "LayoutModel",
     "state": {
      "_model_module": "@jupyter-widgets/base",
      "_model_module_version": "1.2.0",
      "_model_name": "LayoutModel",
      "_view_count": null,
      "_view_module": "@jupyter-widgets/base",
      "_view_module_version": "1.2.0",
      "_view_name": "LayoutView",
      "align_content": null,
      "align_items": null,
      "align_self": null,
      "border": null,
      "bottom": null,
      "display": null,
      "flex": null,
      "flex_flow": null,
      "grid_area": null,
      "grid_auto_columns": null,
      "grid_auto_flow": null,
      "grid_auto_rows": null,
      "grid_column": null,
      "grid_gap": null,
      "grid_row": null,
      "grid_template_areas": null,
      "grid_template_columns": null,
      "grid_template_rows": null,
      "height": null,
      "justify_content": null,
      "justify_items": null,
      "left": null,
      "margin": null,
      "max_height": null,
      "max_width": null,
      "min_height": null,
      "min_width": null,
      "object_fit": null,
      "object_position": null,
      "order": null,
      "overflow": null,
      "overflow_x": null,
      "overflow_y": null,
      "padding": null,
      "right": null,
      "top": null,
      "visibility": null,
      "width": null
     }
    },
    "532d78ccadf54a50a2701bb0e584c12f": {
     "model_module": "@jupyter-widgets/controls",
     "model_module_version": "1.5.0",
     "model_name": "ProgressStyleModel",
     "state": {
      "_model_module": "@jupyter-widgets/controls",
      "_model_module_version": "1.5.0",
      "_model_name": "ProgressStyleModel",
      "_view_count": null,
      "_view_module": "@jupyter-widgets/base",
      "_view_module_version": "1.2.0",
      "_view_name": "StyleView",
      "bar_color": null,
      "description_width": ""
     }
    },
    "534056786c1a4c04beefd85c3c1609ec": {
     "model_module": "@jupyter-widgets/base",
     "model_module_version": "1.2.0",
     "model_name": "LayoutModel",
     "state": {
      "_model_module": "@jupyter-widgets/base",
      "_model_module_version": "1.2.0",
      "_model_name": "LayoutModel",
      "_view_count": null,
      "_view_module": "@jupyter-widgets/base",
      "_view_module_version": "1.2.0",
      "_view_name": "LayoutView",
      "align_content": null,
      "align_items": null,
      "align_self": null,
      "border": null,
      "bottom": null,
      "display": null,
      "flex": null,
      "flex_flow": null,
      "grid_area": null,
      "grid_auto_columns": null,
      "grid_auto_flow": null,
      "grid_auto_rows": null,
      "grid_column": null,
      "grid_gap": null,
      "grid_row": null,
      "grid_template_areas": null,
      "grid_template_columns": null,
      "grid_template_rows": null,
      "height": null,
      "justify_content": null,
      "justify_items": null,
      "left": null,
      "margin": null,
      "max_height": null,
      "max_width": null,
      "min_height": null,
      "min_width": null,
      "object_fit": null,
      "object_position": null,
      "order": null,
      "overflow": null,
      "overflow_x": null,
      "overflow_y": null,
      "padding": null,
      "right": null,
      "top": null,
      "visibility": null,
      "width": null
     }
    },
    "5355341c02044bd4be46e1468c16a471": {
     "model_module": "@jupyter-widgets/controls",
     "model_module_version": "1.5.0",
     "model_name": "HBoxModel",
     "state": {
      "_dom_classes": [],
      "_model_module": "@jupyter-widgets/controls",
      "_model_module_version": "1.5.0",
      "_model_name": "HBoxModel",
      "_view_count": null,
      "_view_module": "@jupyter-widgets/controls",
      "_view_module_version": "1.5.0",
      "_view_name": "HBoxView",
      "box_style": "",
      "children": [
       "IPY_MODEL_7f7b1e6c1941455ebc08a5321a25c2b4",
       "IPY_MODEL_1dddd1433251422fbe4327f15ffe2ff9",
       "IPY_MODEL_ed8d3df528fa46a2aee2db03165cc51e"
      ],
      "layout": "IPY_MODEL_185256fd9ce34c549116403f3d3b0e01"
     }
    },
    "5588edfee42d40e99aa13f5b8e1518c0": {
     "model_module": "@jupyter-widgets/base",
     "model_module_version": "1.2.0",
     "model_name": "LayoutModel",
     "state": {
      "_model_module": "@jupyter-widgets/base",
      "_model_module_version": "1.2.0",
      "_model_name": "LayoutModel",
      "_view_count": null,
      "_view_module": "@jupyter-widgets/base",
      "_view_module_version": "1.2.0",
      "_view_name": "LayoutView",
      "align_content": null,
      "align_items": null,
      "align_self": null,
      "border": null,
      "bottom": null,
      "display": null,
      "flex": null,
      "flex_flow": null,
      "grid_area": null,
      "grid_auto_columns": null,
      "grid_auto_flow": null,
      "grid_auto_rows": null,
      "grid_column": null,
      "grid_gap": null,
      "grid_row": null,
      "grid_template_areas": null,
      "grid_template_columns": null,
      "grid_template_rows": null,
      "height": null,
      "justify_content": null,
      "justify_items": null,
      "left": null,
      "margin": null,
      "max_height": null,
      "max_width": null,
      "min_height": null,
      "min_width": null,
      "object_fit": null,
      "object_position": null,
      "order": null,
      "overflow": null,
      "overflow_x": null,
      "overflow_y": null,
      "padding": null,
      "right": null,
      "top": null,
      "visibility": null,
      "width": null
     }
    },
    "5a0b93a20dae4c4787ff60020aac094b": {
     "model_module": "@jupyter-widgets/base",
     "model_module_version": "1.2.0",
     "model_name": "LayoutModel",
     "state": {
      "_model_module": "@jupyter-widgets/base",
      "_model_module_version": "1.2.0",
      "_model_name": "LayoutModel",
      "_view_count": null,
      "_view_module": "@jupyter-widgets/base",
      "_view_module_version": "1.2.0",
      "_view_name": "LayoutView",
      "align_content": null,
      "align_items": null,
      "align_self": null,
      "border": null,
      "bottom": null,
      "display": null,
      "flex": null,
      "flex_flow": null,
      "grid_area": null,
      "grid_auto_columns": null,
      "grid_auto_flow": null,
      "grid_auto_rows": null,
      "grid_column": null,
      "grid_gap": null,
      "grid_row": null,
      "grid_template_areas": null,
      "grid_template_columns": null,
      "grid_template_rows": null,
      "height": null,
      "justify_content": null,
      "justify_items": null,
      "left": null,
      "margin": null,
      "max_height": null,
      "max_width": null,
      "min_height": null,
      "min_width": null,
      "object_fit": null,
      "object_position": null,
      "order": null,
      "overflow": null,
      "overflow_x": null,
      "overflow_y": null,
      "padding": null,
      "right": null,
      "top": null,
      "visibility": null,
      "width": null
     }
    },
    "5ab34ed116a0464396ab1cecb2643207": {
     "model_module": "@jupyter-widgets/controls",
     "model_module_version": "1.5.0",
     "model_name": "FloatProgressModel",
     "state": {
      "_dom_classes": [],
      "_model_module": "@jupyter-widgets/controls",
      "_model_module_version": "1.5.0",
      "_model_name": "FloatProgressModel",
      "_view_count": null,
      "_view_module": "@jupyter-widgets/controls",
      "_view_module_version": "1.5.0",
      "_view_name": "ProgressView",
      "bar_style": "success",
      "description": "",
      "description_tooltip": null,
      "layout": "IPY_MODEL_8bdcbf8197f64bd38bb6537f4f29127d",
      "max": 31845,
      "min": 0,
      "orientation": "horizontal",
      "style": "IPY_MODEL_0d1336fecfa14258992a332100cda913",
      "value": 31845
     }
    },
    "653c56bc261847b6963d231969fa5b37": {
     "model_module": "@jupyter-widgets/controls",
     "model_module_version": "1.5.0",
     "model_name": "DescriptionStyleModel",
     "state": {
      "_model_module": "@jupyter-widgets/controls",
      "_model_module_version": "1.5.0",
      "_model_name": "DescriptionStyleModel",
      "_view_count": null,
      "_view_module": "@jupyter-widgets/base",
      "_view_module_version": "1.2.0",
      "_view_name": "StyleView",
      "description_width": ""
     }
    },
    "6fcc06ee1d22455890fe0f314fb05646": {
     "model_module": "@jupyter-widgets/base",
     "model_module_version": "1.2.0",
     "model_name": "LayoutModel",
     "state": {
      "_model_module": "@jupyter-widgets/base",
      "_model_module_version": "1.2.0",
      "_model_name": "LayoutModel",
      "_view_count": null,
      "_view_module": "@jupyter-widgets/base",
      "_view_module_version": "1.2.0",
      "_view_name": "LayoutView",
      "align_content": null,
      "align_items": null,
      "align_self": null,
      "border": null,
      "bottom": null,
      "display": null,
      "flex": null,
      "flex_flow": null,
      "grid_area": null,
      "grid_auto_columns": null,
      "grid_auto_flow": null,
      "grid_auto_rows": null,
      "grid_column": null,
      "grid_gap": null,
      "grid_row": null,
      "grid_template_areas": null,
      "grid_template_columns": null,
      "grid_template_rows": null,
      "height": null,
      "justify_content": null,
      "justify_items": null,
      "left": null,
      "margin": null,
      "max_height": null,
      "max_width": null,
      "min_height": null,
      "min_width": null,
      "object_fit": null,
      "object_position": null,
      "order": null,
      "overflow": null,
      "overflow_x": null,
      "overflow_y": null,
      "padding": null,
      "right": null,
      "top": null,
      "visibility": null,
      "width": null
     }
    },
    "7270363d70ed4ca8be1002ee4ebf23ed": {
     "model_module": "@jupyter-widgets/controls",
     "model_module_version": "1.5.0",
     "model_name": "DescriptionStyleModel",
     "state": {
      "_model_module": "@jupyter-widgets/controls",
      "_model_module_version": "1.5.0",
      "_model_name": "DescriptionStyleModel",
      "_view_count": null,
      "_view_module": "@jupyter-widgets/base",
      "_view_module_version": "1.2.0",
      "_view_name": "StyleView",
      "description_width": ""
     }
    },
    "73ee57621aca4f9eb5fa17cc78b2f17f": {
     "model_module": "@jupyter-widgets/controls",
     "model_module_version": "1.5.0",
     "model_name": "DescriptionStyleModel",
     "state": {
      "_model_module": "@jupyter-widgets/controls",
      "_model_module_version": "1.5.0",
      "_model_name": "DescriptionStyleModel",
      "_view_count": null,
      "_view_module": "@jupyter-widgets/base",
      "_view_module_version": "1.2.0",
      "_view_name": "StyleView",
      "description_width": ""
     }
    },
    "74308ee4b5d8451ba3ceb66937692079": {
     "model_module": "@jupyter-widgets/controls",
     "model_module_version": "1.5.0",
     "model_name": "DescriptionStyleModel",
     "state": {
      "_model_module": "@jupyter-widgets/controls",
      "_model_module_version": "1.5.0",
      "_model_name": "DescriptionStyleModel",
      "_view_count": null,
      "_view_module": "@jupyter-widgets/base",
      "_view_module_version": "1.2.0",
      "_view_name": "StyleView",
      "description_width": ""
     }
    },
    "74dd1133cda446d395c1c56e0316469a": {
     "model_module": "@jupyter-widgets/controls",
     "model_module_version": "1.5.0",
     "model_name": "HTMLModel",
     "state": {
      "_dom_classes": [],
      "_model_module": "@jupyter-widgets/controls",
      "_model_module_version": "1.5.0",
      "_model_name": "HTMLModel",
      "_view_count": null,
      "_view_module": "@jupyter-widgets/controls",
      "_view_module_version": "1.5.0",
      "_view_name": "HTMLView",
      "description": "",
      "description_tooltip": null,
      "layout": "IPY_MODEL_d056e1ece55b4f60b07ef7e6fe417faa",
      "placeholder": "​",
      "style": "IPY_MODEL_fea74c0bc0cf41d79fb634951deb365f",
      "value": " 297/297 [00:00&lt;00:00, 30.7kB/s]"
     }
    },
    "775e73cad7b84029a59ab101960e7e11": {
     "model_module": "@jupyter-widgets/controls",
     "model_module_version": "1.5.0",
     "model_name": "DescriptionStyleModel",
     "state": {
      "_model_module": "@jupyter-widgets/controls",
      "_model_module_version": "1.5.0",
      "_model_name": "DescriptionStyleModel",
      "_view_count": null,
      "_view_module": "@jupyter-widgets/base",
      "_view_module_version": "1.2.0",
      "_view_name": "StyleView",
      "description_width": ""
     }
    },
    "7876d4be52334c999ebfbf989b7757f2": {
     "model_module": "@jupyter-widgets/controls",
     "model_module_version": "1.5.0",
     "model_name": "ProgressStyleModel",
     "state": {
      "_model_module": "@jupyter-widgets/controls",
      "_model_module_version": "1.5.0",
      "_model_name": "ProgressStyleModel",
      "_view_count": null,
      "_view_module": "@jupyter-widgets/base",
      "_view_module_version": "1.2.0",
      "_view_name": "StyleView",
      "bar_color": null,
      "description_width": ""
     }
    },
    "7e603515338e42ca98297484fabf3771": {
     "model_module": "@jupyter-widgets/base",
     "model_module_version": "1.2.0",
     "model_name": "LayoutModel",
     "state": {
      "_model_module": "@jupyter-widgets/base",
      "_model_module_version": "1.2.0",
      "_model_name": "LayoutModel",
      "_view_count": null,
      "_view_module": "@jupyter-widgets/base",
      "_view_module_version": "1.2.0",
      "_view_name": "LayoutView",
      "align_content": null,
      "align_items": null,
      "align_self": null,
      "border": null,
      "bottom": null,
      "display": null,
      "flex": null,
      "flex_flow": null,
      "grid_area": null,
      "grid_auto_columns": null,
      "grid_auto_flow": null,
      "grid_auto_rows": null,
      "grid_column": null,
      "grid_gap": null,
      "grid_row": null,
      "grid_template_areas": null,
      "grid_template_columns": null,
      "grid_template_rows": null,
      "height": null,
      "justify_content": null,
      "justify_items": null,
      "left": null,
      "margin": null,
      "max_height": null,
      "max_width": null,
      "min_height": null,
      "min_width": null,
      "object_fit": null,
      "object_position": null,
      "order": null,
      "overflow": null,
      "overflow_x": null,
      "overflow_y": null,
      "padding": null,
      "right": null,
      "top": null,
      "visibility": null,
      "width": null
     }
    },
    "7f7b1e6c1941455ebc08a5321a25c2b4": {
     "model_module": "@jupyter-widgets/controls",
     "model_module_version": "1.5.0",
     "model_name": "HTMLModel",
     "state": {
      "_dom_classes": [],
      "_model_module": "@jupyter-widgets/controls",
      "_model_module_version": "1.5.0",
      "_model_name": "HTMLModel",
      "_view_count": null,
      "_view_module": "@jupyter-widgets/controls",
      "_view_module_version": "1.5.0",
      "_view_name": "HTMLView",
      "description": "",
      "description_tooltip": null,
      "layout": "IPY_MODEL_c971c8a65c2a4bf1ad026ba4e1847164",
      "placeholder": "​",
      "style": "IPY_MODEL_73ee57621aca4f9eb5fa17cc78b2f17f",
      "value": "model.safetensors: 100%"
     }
    },
    "817f5bd9699947178bbe63fa78e0a7e8": {
     "model_module": "@jupyter-widgets/controls",
     "model_module_version": "1.5.0",
     "model_name": "ProgressStyleModel",
     "state": {
      "_model_module": "@jupyter-widgets/controls",
      "_model_module_version": "1.5.0",
      "_model_name": "ProgressStyleModel",
      "_view_count": null,
      "_view_module": "@jupyter-widgets/base",
      "_view_module_version": "1.2.0",
      "_view_name": "StyleView",
      "bar_color": null,
      "description_width": ""
     }
    },
    "83f31e0d76514061b6857f88ba7b1dcb": {
     "model_module": "@jupyter-widgets/base",
     "model_module_version": "1.2.0",
     "model_name": "LayoutModel",
     "state": {
      "_model_module": "@jupyter-widgets/base",
      "_model_module_version": "1.2.0",
      "_model_name": "LayoutModel",
      "_view_count": null,
      "_view_module": "@jupyter-widgets/base",
      "_view_module_version": "1.2.0",
      "_view_name": "LayoutView",
      "align_content": null,
      "align_items": null,
      "align_self": null,
      "border": null,
      "bottom": null,
      "display": null,
      "flex": null,
      "flex_flow": null,
      "grid_area": null,
      "grid_auto_columns": null,
      "grid_auto_flow": null,
      "grid_auto_rows": null,
      "grid_column": null,
      "grid_gap": null,
      "grid_row": null,
      "grid_template_areas": null,
      "grid_template_columns": null,
      "grid_template_rows": null,
      "height": null,
      "justify_content": null,
      "justify_items": null,
      "left": null,
      "margin": null,
      "max_height": null,
      "max_width": null,
      "min_height": null,
      "min_width": null,
      "object_fit": null,
      "object_position": null,
      "order": null,
      "overflow": null,
      "overflow_x": null,
      "overflow_y": null,
      "padding": null,
      "right": null,
      "top": null,
      "visibility": null,
      "width": null
     }
    },
    "84faa31cde6847f5a6f2327eedb6c137": {
     "model_module": "@jupyter-widgets/controls",
     "model_module_version": "1.5.0",
     "model_name": "ProgressStyleModel",
     "state": {
      "_model_module": "@jupyter-widgets/controls",
      "_model_module_version": "1.5.0",
      "_model_name": "ProgressStyleModel",
      "_view_count": null,
      "_view_module": "@jupyter-widgets/base",
      "_view_module_version": "1.2.0",
      "_view_name": "StyleView",
      "bar_color": null,
      "description_width": ""
     }
    },
    "884206e5943942098ba980cc96f20e99": {
     "model_module": "@jupyter-widgets/controls",
     "model_module_version": "1.5.0",
     "model_name": "HBoxModel",
     "state": {
      "_dom_classes": [],
      "_model_module": "@jupyter-widgets/controls",
      "_model_module_version": "1.5.0",
      "_model_name": "HBoxModel",
      "_view_count": null,
      "_view_module": "@jupyter-widgets/controls",
      "_view_module_version": "1.5.0",
      "_view_name": "HBoxView",
      "box_style": "",
      "children": [
       "IPY_MODEL_038e2af716d0436fb0a637c95ad6bb31",
       "IPY_MODEL_c869f23cc3ad44cda8daf29c435fbc1a",
       "IPY_MODEL_0fbcf5dc427e4da0b410da275cbd293c"
      ],
      "layout": "IPY_MODEL_8ce8b259136143009cd99a240878bc5d"
     }
    },
    "8bdcbf8197f64bd38bb6537f4f29127d": {
     "model_module": "@jupyter-widgets/base",
     "model_module_version": "1.2.0",
     "model_name": "LayoutModel",
     "state": {
      "_model_module": "@jupyter-widgets/base",
      "_model_module_version": "1.2.0",
      "_model_name": "LayoutModel",
      "_view_count": null,
      "_view_module": "@jupyter-widgets/base",
      "_view_module_version": "1.2.0",
      "_view_name": "LayoutView",
      "align_content": null,
      "align_items": null,
      "align_self": null,
      "border": null,
      "bottom": null,
      "display": null,
      "flex": null,
      "flex_flow": null,
      "grid_area": null,
      "grid_auto_columns": null,
      "grid_auto_flow": null,
      "grid_auto_rows": null,
      "grid_column": null,
      "grid_gap": null,
      "grid_row": null,
      "grid_template_areas": null,
      "grid_template_columns": null,
      "grid_template_rows": null,
      "height": null,
      "justify_content": null,
      "justify_items": null,
      "left": null,
      "margin": null,
      "max_height": null,
      "max_width": null,
      "min_height": null,
      "min_width": null,
      "object_fit": null,
      "object_position": null,
      "order": null,
      "overflow": null,
      "overflow_x": null,
      "overflow_y": null,
      "padding": null,
      "right": null,
      "top": null,
      "visibility": null,
      "width": null
     }
    },
    "8c5f878dae2b49e796480326d7126692": {
     "model_module": "@jupyter-widgets/controls",
     "model_module_version": "1.5.0",
     "model_name": "HTMLModel",
     "state": {
      "_dom_classes": [],
      "_model_module": "@jupyter-widgets/controls",
      "_model_module_version": "1.5.0",
      "_model_name": "HTMLModel",
      "_view_count": null,
      "_view_module": "@jupyter-widgets/controls",
      "_view_module_version": "1.5.0",
      "_view_name": "HTMLView",
      "description": "",
      "description_tooltip": null,
      "layout": "IPY_MODEL_8dd09945e51642d1bbbd6eaefd7b7d3d",
      "placeholder": "​",
      "style": "IPY_MODEL_74308ee4b5d8451ba3ceb66937692079",
      "value": "config.json: 100%"
     }
    },
    "8ce8b259136143009cd99a240878bc5d": {
     "model_module": "@jupyter-widgets/base",
     "model_module_version": "1.2.0",
     "model_name": "LayoutModel",
     "state": {
      "_model_module": "@jupyter-widgets/base",
      "_model_module_version": "1.2.0",
      "_model_name": "LayoutModel",
      "_view_count": null,
      "_view_module": "@jupyter-widgets/base",
      "_view_module_version": "1.2.0",
      "_view_name": "LayoutView",
      "align_content": null,
      "align_items": null,
      "align_self": null,
      "border": null,
      "bottom": null,
      "display": null,
      "flex": null,
      "flex_flow": null,
      "grid_area": null,
      "grid_auto_columns": null,
      "grid_auto_flow": null,
      "grid_auto_rows": null,
      "grid_column": null,
      "grid_gap": null,
      "grid_row": null,
      "grid_template_areas": null,
      "grid_template_columns": null,
      "grid_template_rows": null,
      "height": null,
      "justify_content": null,
      "justify_items": null,
      "left": null,
      "margin": null,
      "max_height": null,
      "max_width": null,
      "min_height": null,
      "min_width": null,
      "object_fit": null,
      "object_position": null,
      "order": null,
      "overflow": null,
      "overflow_x": null,
      "overflow_y": null,
      "padding": null,
      "right": null,
      "top": null,
      "visibility": null,
      "width": null
     }
    },
    "8dd09945e51642d1bbbd6eaefd7b7d3d": {
     "model_module": "@jupyter-widgets/base",
     "model_module_version": "1.2.0",
     "model_name": "LayoutModel",
     "state": {
      "_model_module": "@jupyter-widgets/base",
      "_model_module_version": "1.2.0",
      "_model_name": "LayoutModel",
      "_view_count": null,
      "_view_module": "@jupyter-widgets/base",
      "_view_module_version": "1.2.0",
      "_view_name": "LayoutView",
      "align_content": null,
      "align_items": null,
      "align_self": null,
      "border": null,
      "bottom": null,
      "display": null,
      "flex": null,
      "flex_flow": null,
      "grid_area": null,
      "grid_auto_columns": null,
      "grid_auto_flow": null,
      "grid_auto_rows": null,
      "grid_column": null,
      "grid_gap": null,
      "grid_row": null,
      "grid_template_areas": null,
      "grid_template_columns": null,
      "grid_template_rows": null,
      "height": null,
      "justify_content": null,
      "justify_items": null,
      "left": null,
      "margin": null,
      "max_height": null,
      "max_width": null,
      "min_height": null,
      "min_width": null,
      "object_fit": null,
      "object_position": null,
      "order": null,
      "overflow": null,
      "overflow_x": null,
      "overflow_y": null,
      "padding": null,
      "right": null,
      "top": null,
      "visibility": null,
      "width": null
     }
    },
    "93353eec19bd494fbcbb43fb1c32adb9": {
     "model_module": "@jupyter-widgets/controls",
     "model_module_version": "1.5.0",
     "model_name": "ProgressStyleModel",
     "state": {
      "_model_module": "@jupyter-widgets/controls",
      "_model_module_version": "1.5.0",
      "_model_name": "ProgressStyleModel",
      "_view_count": null,
      "_view_module": "@jupyter-widgets/base",
      "_view_module_version": "1.2.0",
      "_view_name": "StyleView",
      "bar_color": null,
      "description_width": ""
     }
    },
    "93a1d72c08e1456082e22e9f776b87d9": {
     "model_module": "@jupyter-widgets/controls",
     "model_module_version": "1.5.0",
     "model_name": "HBoxModel",
     "state": {
      "_dom_classes": [],
      "_model_module": "@jupyter-widgets/controls",
      "_model_module_version": "1.5.0",
      "_model_name": "HBoxModel",
      "_view_count": null,
      "_view_module": "@jupyter-widgets/controls",
      "_view_module_version": "1.5.0",
      "_view_name": "HBoxView",
      "box_style": "",
      "children": [
       "IPY_MODEL_4e674714f81141379a7419e79c177dab",
       "IPY_MODEL_5ab34ed116a0464396ab1cecb2643207",
       "IPY_MODEL_c669801234174a21a9a84393af6d5fd1"
      ],
      "layout": "IPY_MODEL_a3b90064e29d4b12a3f0b62a89dcf81e"
     }
    },
    "9911c167f77b48418a075ea9e48dbf50": {
     "model_module": "@jupyter-widgets/base",
     "model_module_version": "1.2.0",
     "model_name": "LayoutModel",
     "state": {
      "_model_module": "@jupyter-widgets/base",
      "_model_module_version": "1.2.0",
      "_model_name": "LayoutModel",
      "_view_count": null,
      "_view_module": "@jupyter-widgets/base",
      "_view_module_version": "1.2.0",
      "_view_name": "LayoutView",
      "align_content": null,
      "align_items": null,
      "align_self": null,
      "border": null,
      "bottom": null,
      "display": null,
      "flex": null,
      "flex_flow": null,
      "grid_area": null,
      "grid_auto_columns": null,
      "grid_auto_flow": null,
      "grid_auto_rows": null,
      "grid_column": null,
      "grid_gap": null,
      "grid_row": null,
      "grid_template_areas": null,
      "grid_template_columns": null,
      "grid_template_rows": null,
      "height": null,
      "justify_content": null,
      "justify_items": null,
      "left": null,
      "margin": null,
      "max_height": null,
      "max_width": null,
      "min_height": null,
      "min_width": null,
      "object_fit": null,
      "object_position": null,
      "order": null,
      "overflow": null,
      "overflow_x": null,
      "overflow_y": null,
      "padding": null,
      "right": null,
      "top": null,
      "visibility": null,
      "width": null
     }
    },
    "a06024c136a74d00a3a760b25973833f": {
     "model_module": "@jupyter-widgets/base",
     "model_module_version": "1.2.0",
     "model_name": "LayoutModel",
     "state": {
      "_model_module": "@jupyter-widgets/base",
      "_model_module_version": "1.2.0",
      "_model_name": "LayoutModel",
      "_view_count": null,
      "_view_module": "@jupyter-widgets/base",
      "_view_module_version": "1.2.0",
      "_view_name": "LayoutView",
      "align_content": null,
      "align_items": null,
      "align_self": null,
      "border": null,
      "bottom": null,
      "display": null,
      "flex": null,
      "flex_flow": null,
      "grid_area": null,
      "grid_auto_columns": null,
      "grid_auto_flow": null,
      "grid_auto_rows": null,
      "grid_column": null,
      "grid_gap": null,
      "grid_row": null,
      "grid_template_areas": null,
      "grid_template_columns": null,
      "grid_template_rows": null,
      "height": null,
      "justify_content": null,
      "justify_items": null,
      "left": null,
      "margin": null,
      "max_height": null,
      "max_width": null,
      "min_height": null,
      "min_width": null,
      "object_fit": null,
      "object_position": null,
      "order": null,
      "overflow": null,
      "overflow_x": null,
      "overflow_y": null,
      "padding": null,
      "right": null,
      "top": null,
      "visibility": null,
      "width": null
     }
    },
    "a15a643a5a794cb093d1ce561b7f5854": {
     "model_module": "@jupyter-widgets/base",
     "model_module_version": "1.2.0",
     "model_name": "LayoutModel",
     "state": {
      "_model_module": "@jupyter-widgets/base",
      "_model_module_version": "1.2.0",
      "_model_name": "LayoutModel",
      "_view_count": null,
      "_view_module": "@jupyter-widgets/base",
      "_view_module_version": "1.2.0",
      "_view_name": "LayoutView",
      "align_content": null,
      "align_items": null,
      "align_self": null,
      "border": null,
      "bottom": null,
      "display": null,
      "flex": null,
      "flex_flow": null,
      "grid_area": null,
      "grid_auto_columns": null,
      "grid_auto_flow": null,
      "grid_auto_rows": null,
      "grid_column": null,
      "grid_gap": null,
      "grid_row": null,
      "grid_template_areas": null,
      "grid_template_columns": null,
      "grid_template_rows": null,
      "height": null,
      "justify_content": null,
      "justify_items": null,
      "left": null,
      "margin": null,
      "max_height": null,
      "max_width": null,
      "min_height": null,
      "min_width": null,
      "object_fit": null,
      "object_position": null,
      "order": null,
      "overflow": null,
      "overflow_x": null,
      "overflow_y": null,
      "padding": null,
      "right": null,
      "top": null,
      "visibility": null,
      "width": null
     }
    },
    "a3b90064e29d4b12a3f0b62a89dcf81e": {
     "model_module": "@jupyter-widgets/base",
     "model_module_version": "1.2.0",
     "model_name": "LayoutModel",
     "state": {
      "_model_module": "@jupyter-widgets/base",
      "_model_module_version": "1.2.0",
      "_model_name": "LayoutModel",
      "_view_count": null,
      "_view_module": "@jupyter-widgets/base",
      "_view_module_version": "1.2.0",
      "_view_name": "LayoutView",
      "align_content": null,
      "align_items": null,
      "align_self": null,
      "border": null,
      "bottom": null,
      "display": null,
      "flex": null,
      "flex_flow": null,
      "grid_area": null,
      "grid_auto_columns": null,
      "grid_auto_flow": null,
      "grid_auto_rows": null,
      "grid_column": null,
      "grid_gap": null,
      "grid_row": null,
      "grid_template_areas": null,
      "grid_template_columns": null,
      "grid_template_rows": null,
      "height": null,
      "justify_content": null,
      "justify_items": null,
      "left": null,
      "margin": null,
      "max_height": null,
      "max_width": null,
      "min_height": null,
      "min_width": null,
      "object_fit": null,
      "object_position": null,
      "order": null,
      "overflow": null,
      "overflow_x": null,
      "overflow_y": null,
      "padding": null,
      "right": null,
      "top": null,
      "visibility": null,
      "width": null
     }
    },
    "a5b8cc9c154d497aa7d0bc383c8da513": {
     "model_module": "@jupyter-widgets/base",
     "model_module_version": "1.2.0",
     "model_name": "LayoutModel",
     "state": {
      "_model_module": "@jupyter-widgets/base",
      "_model_module_version": "1.2.0",
      "_model_name": "LayoutModel",
      "_view_count": null,
      "_view_module": "@jupyter-widgets/base",
      "_view_module_version": "1.2.0",
      "_view_name": "LayoutView",
      "align_content": null,
      "align_items": null,
      "align_self": null,
      "border": null,
      "bottom": null,
      "display": null,
      "flex": null,
      "flex_flow": null,
      "grid_area": null,
      "grid_auto_columns": null,
      "grid_auto_flow": null,
      "grid_auto_rows": null,
      "grid_column": null,
      "grid_gap": null,
      "grid_row": null,
      "grid_template_areas": null,
      "grid_template_columns": null,
      "grid_template_rows": null,
      "height": null,
      "justify_content": null,
      "justify_items": null,
      "left": null,
      "margin": null,
      "max_height": null,
      "max_width": null,
      "min_height": null,
      "min_width": null,
      "object_fit": null,
      "object_position": null,
      "order": null,
      "overflow": null,
      "overflow_x": null,
      "overflow_y": null,
      "padding": null,
      "right": null,
      "top": null,
      "visibility": null,
      "width": null
     }
    },
    "a917f1e07cdd4680ab4356c300cc86ec": {
     "model_module": "@jupyter-widgets/controls",
     "model_module_version": "1.5.0",
     "model_name": "FloatProgressModel",
     "state": {
      "_dom_classes": [],
      "_model_module": "@jupyter-widgets/controls",
      "_model_module_version": "1.5.0",
      "_model_name": "FloatProgressModel",
      "_view_count": null,
      "_view_module": "@jupyter-widgets/controls",
      "_view_module_version": "1.5.0",
      "_view_name": "ProgressView",
      "bar_style": "success",
      "description": "",
      "description_tooltip": null,
      "layout": "IPY_MODEL_5134af7142584dd189b0facbbe39facf",
      "max": 297,
      "min": 0,
      "orientation": "horizontal",
      "style": "IPY_MODEL_7876d4be52334c999ebfbf989b7757f2",
      "value": 297
     }
    },
    "aa34a8fc63fb47dc97ab5fbe7a2b5b10": {
     "model_module": "@jupyter-widgets/controls",
     "model_module_version": "1.5.0",
     "model_name": "HTMLModel",
     "state": {
      "_dom_classes": [],
      "_model_module": "@jupyter-widgets/controls",
      "_model_module_version": "1.5.0",
      "_model_name": "HTMLModel",
      "_view_count": null,
      "_view_module": "@jupyter-widgets/controls",
      "_view_module_version": "1.5.0",
      "_view_name": "HTMLView",
      "description": "",
      "description_tooltip": null,
      "layout": "IPY_MODEL_ef4abfdd0418416d9c985edd048dcd6f",
      "placeholder": "​",
      "style": "IPY_MODEL_0fe69356fc8e4261adf58c04d5383520",
      "value": "sentence_bert_config.json: 100%"
     }
    },
    "abf43e5a42a74fca9fdc50086c2385ef": {
     "model_module": "@jupyter-widgets/controls",
     "model_module_version": "1.5.0",
     "model_name": "DescriptionStyleModel",
     "state": {
      "_model_module": "@jupyter-widgets/controls",
      "_model_module_version": "1.5.0",
      "_model_name": "DescriptionStyleModel",
      "_view_count": null,
      "_view_module": "@jupyter-widgets/base",
      "_view_module_version": "1.2.0",
      "_view_name": "StyleView",
      "description_width": ""
     }
    },
    "ad8fd4c37ab84ad7be485939d8faf9a6": {
     "model_module": "@jupyter-widgets/base",
     "model_module_version": "1.2.0",
     "model_name": "LayoutModel",
     "state": {
      "_model_module": "@jupyter-widgets/base",
      "_model_module_version": "1.2.0",
      "_model_name": "LayoutModel",
      "_view_count": null,
      "_view_module": "@jupyter-widgets/base",
      "_view_module_version": "1.2.0",
      "_view_name": "LayoutView",
      "align_content": null,
      "align_items": null,
      "align_self": null,
      "border": null,
      "bottom": null,
      "display": null,
      "flex": null,
      "flex_flow": null,
      "grid_area": null,
      "grid_auto_columns": null,
      "grid_auto_flow": null,
      "grid_auto_rows": null,
      "grid_column": null,
      "grid_gap": null,
      "grid_row": null,
      "grid_template_areas": null,
      "grid_template_columns": null,
      "grid_template_rows": null,
      "height": null,
      "justify_content": null,
      "justify_items": null,
      "left": null,
      "margin": null,
      "max_height": null,
      "max_width": null,
      "min_height": null,
      "min_width": null,
      "object_fit": null,
      "object_position": null,
      "order": null,
      "overflow": null,
      "overflow_x": null,
      "overflow_y": null,
      "padding": null,
      "right": null,
      "top": null,
      "visibility": null,
      "width": null
     }
    },
    "b45af483287c48b98383d48fd8af936f": {
     "model_module": "@jupyter-widgets/base",
     "model_module_version": "1.2.0",
     "model_name": "LayoutModel",
     "state": {
      "_model_module": "@jupyter-widgets/base",
      "_model_module_version": "1.2.0",
      "_model_name": "LayoutModel",
      "_view_count": null,
      "_view_module": "@jupyter-widgets/base",
      "_view_module_version": "1.2.0",
      "_view_name": "LayoutView",
      "align_content": null,
      "align_items": null,
      "align_self": null,
      "border": null,
      "bottom": null,
      "display": null,
      "flex": null,
      "flex_flow": null,
      "grid_area": null,
      "grid_auto_columns": null,
      "grid_auto_flow": null,
      "grid_auto_rows": null,
      "grid_column": null,
      "grid_gap": null,
      "grid_row": null,
      "grid_template_areas": null,
      "grid_template_columns": null,
      "grid_template_rows": null,
      "height": null,
      "justify_content": null,
      "justify_items": null,
      "left": null,
      "margin": null,
      "max_height": null,
      "max_width": null,
      "min_height": null,
      "min_width": null,
      "object_fit": null,
      "object_position": null,
      "order": null,
      "overflow": null,
      "overflow_x": null,
      "overflow_y": null,
      "padding": null,
      "right": null,
      "top": null,
      "visibility": null,
      "width": null
     }
    },
    "b68c0c3c038f4a41b40da81102c97548": {
     "model_module": "@jupyter-widgets/base",
     "model_module_version": "1.2.0",
     "model_name": "LayoutModel",
     "state": {
      "_model_module": "@jupyter-widgets/base",
      "_model_module_version": "1.2.0",
      "_model_name": "LayoutModel",
      "_view_count": null,
      "_view_module": "@jupyter-widgets/base",
      "_view_module_version": "1.2.0",
      "_view_name": "LayoutView",
      "align_content": null,
      "align_items": null,
      "align_self": null,
      "border": null,
      "bottom": null,
      "display": null,
      "flex": null,
      "flex_flow": null,
      "grid_area": null,
      "grid_auto_columns": null,
      "grid_auto_flow": null,
      "grid_auto_rows": null,
      "grid_column": null,
      "grid_gap": null,
      "grid_row": null,
      "grid_template_areas": null,
      "grid_template_columns": null,
      "grid_template_rows": null,
      "height": null,
      "justify_content": null,
      "justify_items": null,
      "left": null,
      "margin": null,
      "max_height": null,
      "max_width": null,
      "min_height": null,
      "min_width": null,
      "object_fit": null,
      "object_position": null,
      "order": null,
      "overflow": null,
      "overflow_x": null,
      "overflow_y": null,
      "padding": null,
      "right": null,
      "top": null,
      "visibility": null,
      "width": null
     }
    },
    "b9db9335255c4f49835a75782e4bec52": {
     "model_module": "@jupyter-widgets/controls",
     "model_module_version": "1.5.0",
     "model_name": "HTMLModel",
     "state": {
      "_dom_classes": [],
      "_model_module": "@jupyter-widgets/controls",
      "_model_module_version": "1.5.0",
      "_model_name": "HTMLModel",
      "_view_count": null,
      "_view_module": "@jupyter-widgets/controls",
      "_view_module_version": "1.5.0",
      "_view_name": "HTMLView",
      "description": "",
      "description_tooltip": null,
      "layout": "IPY_MODEL_bb84f8760dba4deba827b4a44d976a71",
      "placeholder": "​",
      "style": "IPY_MODEL_193ac2b604644dd5a1e877ec252b93f6",
      "value": "special_tokens_map.json: 100%"
     }
    },
    "babcaecaeb7942d8aba318e14081b83b": {
     "model_module": "@jupyter-widgets/controls",
     "model_module_version": "1.5.0",
     "model_name": "HTMLModel",
     "state": {
      "_dom_classes": [],
      "_model_module": "@jupyter-widgets/controls",
      "_model_module_version": "1.5.0",
      "_model_name": "HTMLModel",
      "_view_count": null,
      "_view_module": "@jupyter-widgets/controls",
      "_view_module_version": "1.5.0",
      "_view_name": "HTMLView",
      "description": "",
      "description_tooltip": null,
      "layout": "IPY_MODEL_315428ca5d124b19b6a5917490e9b281",
      "placeholder": "​",
      "style": "IPY_MODEL_ec1c6b19ea724e2396cfeba357d81d21",
      "value": " 698/698 [00:00&lt;00:00, 45.7kB/s]"
     }
    },
    "bb7fdc4a7df44a3a9f709b90fcbb77c5": {
     "model_module": "@jupyter-widgets/controls",
     "model_module_version": "1.5.0",
     "model_name": "ProgressStyleModel",
     "state": {
      "_model_module": "@jupyter-widgets/controls",
      "_model_module_version": "1.5.0",
      "_model_name": "ProgressStyleModel",
      "_view_count": null,
      "_view_module": "@jupyter-widgets/base",
      "_view_module_version": "1.2.0",
      "_view_name": "StyleView",
      "bar_color": null,
      "description_width": ""
     }
    },
    "bb84f8760dba4deba827b4a44d976a71": {
     "model_module": "@jupyter-widgets/base",
     "model_module_version": "1.2.0",
     "model_name": "LayoutModel",
     "state": {
      "_model_module": "@jupyter-widgets/base",
      "_model_module_version": "1.2.0",
      "_model_name": "LayoutModel",
      "_view_count": null,
      "_view_module": "@jupyter-widgets/base",
      "_view_module_version": "1.2.0",
      "_view_name": "LayoutView",
      "align_content": null,
      "align_items": null,
      "align_self": null,
      "border": null,
      "bottom": null,
      "display": null,
      "flex": null,
      "flex_flow": null,
      "grid_area": null,
      "grid_auto_columns": null,
      "grid_auto_flow": null,
      "grid_auto_rows": null,
      "grid_column": null,
      "grid_gap": null,
      "grid_row": null,
      "grid_template_areas": null,
      "grid_template_columns": null,
      "grid_template_rows": null,
      "height": null,
      "justify_content": null,
      "justify_items": null,
      "left": null,
      "margin": null,
      "max_height": null,
      "max_width": null,
      "min_height": null,
      "min_width": null,
      "object_fit": null,
      "object_position": null,
      "order": null,
      "overflow": null,
      "overflow_x": null,
      "overflow_y": null,
      "padding": null,
      "right": null,
      "top": null,
      "visibility": null,
      "width": null
     }
    },
    "c000124bd37645239575406cb76da892": {
     "model_module": "@jupyter-widgets/controls",
     "model_module_version": "1.5.0",
     "model_name": "HTMLModel",
     "state": {
      "_dom_classes": [],
      "_model_module": "@jupyter-widgets/controls",
      "_model_module_version": "1.5.0",
      "_model_name": "HTMLModel",
      "_view_count": null,
      "_view_module": "@jupyter-widgets/controls",
      "_view_module_version": "1.5.0",
      "_view_name": "HTMLView",
      "description": "",
      "description_tooltip": null,
      "layout": "IPY_MODEL_a5b8cc9c154d497aa7d0bc383c8da513",
      "placeholder": "​",
      "style": "IPY_MODEL_c5f6f6decff64e2e81938f72c653d2ba",
      "value": " 1.36k/1.36k [00:00&lt;00:00, 149kB/s]"
     }
    },
    "c4880f760e2049e095a80f51b15a1fa4": {
     "model_module": "@jupyter-widgets/base",
     "model_module_version": "1.2.0",
     "model_name": "LayoutModel",
     "state": {
      "_model_module": "@jupyter-widgets/base",
      "_model_module_version": "1.2.0",
      "_model_name": "LayoutModel",
      "_view_count": null,
      "_view_module": "@jupyter-widgets/base",
      "_view_module_version": "1.2.0",
      "_view_name": "LayoutView",
      "align_content": null,
      "align_items": null,
      "align_self": null,
      "border": null,
      "bottom": null,
      "display": null,
      "flex": null,
      "flex_flow": null,
      "grid_area": null,
      "grid_auto_columns": null,
      "grid_auto_flow": null,
      "grid_auto_rows": null,
      "grid_column": null,
      "grid_gap": null,
      "grid_row": null,
      "grid_template_areas": null,
      "grid_template_columns": null,
      "grid_template_rows": null,
      "height": null,
      "justify_content": null,
      "justify_items": null,
      "left": null,
      "margin": null,
      "max_height": null,
      "max_width": null,
      "min_height": null,
      "min_width": null,
      "object_fit": null,
      "object_position": null,
      "order": null,
      "overflow": null,
      "overflow_x": null,
      "overflow_y": null,
      "padding": null,
      "right": null,
      "top": null,
      "visibility": null,
      "width": null
     }
    },
    "c5721932984346458941cbb4af828599": {
     "model_module": "@jupyter-widgets/base",
     "model_module_version": "1.2.0",
     "model_name": "LayoutModel",
     "state": {
      "_model_module": "@jupyter-widgets/base",
      "_model_module_version": "1.2.0",
      "_model_name": "LayoutModel",
      "_view_count": null,
      "_view_module": "@jupyter-widgets/base",
      "_view_module_version": "1.2.0",
      "_view_name": "LayoutView",
      "align_content": null,
      "align_items": null,
      "align_self": null,
      "border": null,
      "bottom": null,
      "display": null,
      "flex": null,
      "flex_flow": null,
      "grid_area": null,
      "grid_auto_columns": null,
      "grid_auto_flow": null,
      "grid_auto_rows": null,
      "grid_column": null,
      "grid_gap": null,
      "grid_row": null,
      "grid_template_areas": null,
      "grid_template_columns": null,
      "grid_template_rows": null,
      "height": null,
      "justify_content": null,
      "justify_items": null,
      "left": null,
      "margin": null,
      "max_height": null,
      "max_width": null,
      "min_height": null,
      "min_width": null,
      "object_fit": null,
      "object_position": null,
      "order": null,
      "overflow": null,
      "overflow_x": null,
      "overflow_y": null,
      "padding": null,
      "right": null,
      "top": null,
      "visibility": null,
      "width": null
     }
    },
    "c5f6f6decff64e2e81938f72c653d2ba": {
     "model_module": "@jupyter-widgets/controls",
     "model_module_version": "1.5.0",
     "model_name": "DescriptionStyleModel",
     "state": {
      "_model_module": "@jupyter-widgets/controls",
      "_model_module_version": "1.5.0",
      "_model_name": "DescriptionStyleModel",
      "_view_count": null,
      "_view_module": "@jupyter-widgets/base",
      "_view_module_version": "1.2.0",
      "_view_name": "StyleView",
      "description_width": ""
     }
    },
    "c669801234174a21a9a84393af6d5fd1": {
     "model_module": "@jupyter-widgets/controls",
     "model_module_version": "1.5.0",
     "model_name": "HTMLModel",
     "state": {
      "_dom_classes": [],
      "_model_module": "@jupyter-widgets/controls",
      "_model_module_version": "1.5.0",
      "_model_name": "HTMLModel",
      "_view_count": null,
      "_view_module": "@jupyter-widgets/controls",
      "_view_module_version": "1.5.0",
      "_view_name": "HTMLView",
      "description": "",
      "description_tooltip": null,
      "layout": "IPY_MODEL_ad8fd4c37ab84ad7be485939d8faf9a6",
      "placeholder": "​",
      "style": "IPY_MODEL_abf43e5a42a74fca9fdc50086c2385ef",
      "value": " 31.8k/31.8k [00:00&lt;00:00, 2.00MB/s]"
     }
    },
    "c869f23cc3ad44cda8daf29c435fbc1a": {
     "model_module": "@jupyter-widgets/controls",
     "model_module_version": "1.5.0",
     "model_name": "FloatProgressModel",
     "state": {
      "_dom_classes": [],
      "_model_module": "@jupyter-widgets/controls",
      "_model_module_version": "1.5.0",
      "_model_name": "FloatProgressModel",
      "_view_count": null,
      "_view_module": "@jupyter-widgets/controls",
      "_view_module_version": "1.5.0",
      "_view_name": "ProgressView",
      "bar_style": "success",
      "description": "",
      "description_tooltip": null,
      "layout": "IPY_MODEL_c959dcbe72354f83abb95a06e3899537",
      "max": 17083053,
      "min": 0,
      "orientation": "horizontal",
      "style": "IPY_MODEL_532d78ccadf54a50a2701bb0e584c12f",
      "value": 17083053
     }
    },
    "c8bf3097bed2494d90965b8df15d5f6b": {
     "model_module": "@jupyter-widgets/controls",
     "model_module_version": "1.5.0",
     "model_name": "FloatProgressModel",
     "state": {
      "_dom_classes": [],
      "_model_module": "@jupyter-widgets/controls",
      "_model_module_version": "1.5.0",
      "_model_name": "FloatProgressModel",
      "_view_count": null,
      "_view_module": "@jupyter-widgets/controls",
      "_view_module_version": "1.5.0",
      "_view_name": "ProgressView",
      "bar_style": "success",
      "description": "",
      "description_tooltip": null,
      "layout": "IPY_MODEL_29be1b76e6574acaacf87f11bc62fc7b",
      "max": 698,
      "min": 0,
      "orientation": "horizontal",
      "style": "IPY_MODEL_bb7fdc4a7df44a3a9f709b90fcbb77c5",
      "value": 698
     }
    },
    "c959dcbe72354f83abb95a06e3899537": {
     "model_module": "@jupyter-widgets/base",
     "model_module_version": "1.2.0",
     "model_name": "LayoutModel",
     "state": {
      "_model_module": "@jupyter-widgets/base",
      "_model_module_version": "1.2.0",
      "_model_name": "LayoutModel",
      "_view_count": null,
      "_view_module": "@jupyter-widgets/base",
      "_view_module_version": "1.2.0",
      "_view_name": "LayoutView",
      "align_content": null,
      "align_items": null,
      "align_self": null,
      "border": null,
      "bottom": null,
      "display": null,
      "flex": null,
      "flex_flow": null,
      "grid_area": null,
      "grid_auto_columns": null,
      "grid_auto_flow": null,
      "grid_auto_rows": null,
      "grid_column": null,
      "grid_gap": null,
      "grid_row": null,
      "grid_template_areas": null,
      "grid_template_columns": null,
      "grid_template_rows": null,
      "height": null,
      "justify_content": null,
      "justify_items": null,
      "left": null,
      "margin": null,
      "max_height": null,
      "max_width": null,
      "min_height": null,
      "min_width": null,
      "object_fit": null,
      "object_position": null,
      "order": null,
      "overflow": null,
      "overflow_x": null,
      "overflow_y": null,
      "padding": null,
      "right": null,
      "top": null,
      "visibility": null,
      "width": null
     }
    },
    "c971c8a65c2a4bf1ad026ba4e1847164": {
     "model_module": "@jupyter-widgets/base",
     "model_module_version": "1.2.0",
     "model_name": "LayoutModel",
     "state": {
      "_model_module": "@jupyter-widgets/base",
      "_model_module_version": "1.2.0",
      "_model_name": "LayoutModel",
      "_view_count": null,
      "_view_module": "@jupyter-widgets/base",
      "_view_module_version": "1.2.0",
      "_view_name": "LayoutView",
      "align_content": null,
      "align_items": null,
      "align_self": null,
      "border": null,
      "bottom": null,
      "display": null,
      "flex": null,
      "flex_flow": null,
      "grid_area": null,
      "grid_auto_columns": null,
      "grid_auto_flow": null,
      "grid_auto_rows": null,
      "grid_column": null,
      "grid_gap": null,
      "grid_row": null,
      "grid_template_areas": null,
      "grid_template_columns": null,
      "grid_template_rows": null,
      "height": null,
      "justify_content": null,
      "justify_items": null,
      "left": null,
      "margin": null,
      "max_height": null,
      "max_width": null,
      "min_height": null,
      "min_width": null,
      "object_fit": null,
      "object_position": null,
      "order": null,
      "overflow": null,
      "overflow_x": null,
      "overflow_y": null,
      "padding": null,
      "right": null,
      "top": null,
      "visibility": null,
      "width": null
     }
    },
    "ca6eba8b3c9b443a82d59c036c0cec7c": {
     "model_module": "@jupyter-widgets/controls",
     "model_module_version": "1.5.0",
     "model_name": "HBoxModel",
     "state": {
      "_dom_classes": [],
      "_model_module": "@jupyter-widgets/controls",
      "_model_module_version": "1.5.0",
      "_model_name": "HBoxModel",
      "_view_count": null,
      "_view_module": "@jupyter-widgets/controls",
      "_view_module_version": "1.5.0",
      "_view_name": "HBoxView",
      "box_style": "",
      "children": [
       "IPY_MODEL_aa34a8fc63fb47dc97ab5fbe7a2b5b10",
       "IPY_MODEL_d514d7b493864fc78d8ef829324d2c14",
       "IPY_MODEL_251234a46feb4a108f54a1ba3dc0e454"
      ],
      "layout": "IPY_MODEL_4726ce7661354804be921f65284d5ab4"
     }
    },
    "cf23c2ab99fd4a57b270fcadfdf5baef": {
     "model_module": "@jupyter-widgets/controls",
     "model_module_version": "1.5.0",
     "model_name": "DescriptionStyleModel",
     "state": {
      "_model_module": "@jupyter-widgets/controls",
      "_model_module_version": "1.5.0",
      "_model_name": "DescriptionStyleModel",
      "_view_count": null,
      "_view_module": "@jupyter-widgets/base",
      "_view_module_version": "1.2.0",
      "_view_name": "StyleView",
      "description_width": ""
     }
    },
    "d056e1ece55b4f60b07ef7e6fe417faa": {
     "model_module": "@jupyter-widgets/base",
     "model_module_version": "1.2.0",
     "model_name": "LayoutModel",
     "state": {
      "_model_module": "@jupyter-widgets/base",
      "_model_module_version": "1.2.0",
      "_model_name": "LayoutModel",
      "_view_count": null,
      "_view_module": "@jupyter-widgets/base",
      "_view_module_version": "1.2.0",
      "_view_name": "LayoutView",
      "align_content": null,
      "align_items": null,
      "align_self": null,
      "border": null,
      "bottom": null,
      "display": null,
      "flex": null,
      "flex_flow": null,
      "grid_area": null,
      "grid_auto_columns": null,
      "grid_auto_flow": null,
      "grid_auto_rows": null,
      "grid_column": null,
      "grid_gap": null,
      "grid_row": null,
      "grid_template_areas": null,
      "grid_template_columns": null,
      "grid_template_rows": null,
      "height": null,
      "justify_content": null,
      "justify_items": null,
      "left": null,
      "margin": null,
      "max_height": null,
      "max_width": null,
      "min_height": null,
      "min_width": null,
      "object_fit": null,
      "object_position": null,
      "order": null,
      "overflow": null,
      "overflow_x": null,
      "overflow_y": null,
      "padding": null,
      "right": null,
      "top": null,
      "visibility": null,
      "width": null
     }
    },
    "d2e41d10c7644d62affc0b476f2d78c1": {
     "model_module": "@jupyter-widgets/controls",
     "model_module_version": "1.5.0",
     "model_name": "HBoxModel",
     "state": {
      "_dom_classes": [],
      "_model_module": "@jupyter-widgets/controls",
      "_model_module_version": "1.5.0",
      "_model_name": "HBoxModel",
      "_view_count": null,
      "_view_module": "@jupyter-widgets/controls",
      "_view_module_version": "1.5.0",
      "_view_name": "HBoxView",
      "box_style": "",
      "children": [
       "IPY_MODEL_183e6143fc0c4c9e819fc6287e38997a",
       "IPY_MODEL_06ca691465a948a6b0e4da177341dc0b",
       "IPY_MODEL_d873864fc6bd47569d80791304f33eea"
      ],
      "layout": "IPY_MODEL_3d1edf09304f426f8bac95a83a41e87f"
     }
    },
    "d514d7b493864fc78d8ef829324d2c14": {
     "model_module": "@jupyter-widgets/controls",
     "model_module_version": "1.5.0",
     "model_name": "FloatProgressModel",
     "state": {
      "_dom_classes": [],
      "_model_module": "@jupyter-widgets/controls",
      "_model_module_version": "1.5.0",
      "_model_name": "FloatProgressModel",
      "_view_count": null,
      "_view_module": "@jupyter-widgets/controls",
      "_view_module_version": "1.5.0",
      "_view_name": "ProgressView",
      "bar_style": "success",
      "description": "",
      "description_tooltip": null,
      "layout": "IPY_MODEL_5a0b93a20dae4c4787ff60020aac094b",
      "max": 54,
      "min": 0,
      "orientation": "horizontal",
      "style": "IPY_MODEL_817f5bd9699947178bbe63fa78e0a7e8",
      "value": 54
     }
    },
    "d661c463b67c4dd08ec5a3f0a8f36a21": {
     "model_module": "@jupyter-widgets/controls",
     "model_module_version": "1.5.0",
     "model_name": "DescriptionStyleModel",
     "state": {
      "_model_module": "@jupyter-widgets/controls",
      "_model_module_version": "1.5.0",
      "_model_name": "DescriptionStyleModel",
      "_view_count": null,
      "_view_module": "@jupyter-widgets/base",
      "_view_module_version": "1.2.0",
      "_view_name": "StyleView",
      "description_width": ""
     }
    },
    "d873864fc6bd47569d80791304f33eea": {
     "model_module": "@jupyter-widgets/controls",
     "model_module_version": "1.5.0",
     "model_name": "HTMLModel",
     "state": {
      "_dom_classes": [],
      "_model_module": "@jupyter-widgets/controls",
      "_model_module_version": "1.5.0",
      "_model_name": "HTMLModel",
      "_view_count": null,
      "_view_module": "@jupyter-widgets/controls",
      "_view_module_version": "1.5.0",
      "_view_name": "HTMLView",
      "description": "",
      "description_tooltip": null,
      "layout": "IPY_MODEL_f1d70759d78c4f33b962d5dbb46e366c",
      "placeholder": "​",
      "style": "IPY_MODEL_2b430f948b784e0487e01da56774ce16",
      "value": " 349/349 [00:00&lt;00:00, 34.1kB/s]"
     }
    },
    "d8f38b211e894c1fa34e09fbf4de9d5c": {
     "model_module": "@jupyter-widgets/controls",
     "model_module_version": "1.5.0",
     "model_name": "DescriptionStyleModel",
     "state": {
      "_model_module": "@jupyter-widgets/controls",
      "_model_module_version": "1.5.0",
      "_model_name": "DescriptionStyleModel",
      "_view_count": null,
      "_view_module": "@jupyter-widgets/base",
      "_view_module_version": "1.2.0",
      "_view_name": "StyleView",
      "description_width": ""
     }
    },
    "dabbcc58d62a438e8de79640d79f3765": {
     "model_module": "@jupyter-widgets/controls",
     "model_module_version": "1.5.0",
     "model_name": "HBoxModel",
     "state": {
      "_dom_classes": [],
      "_model_module": "@jupyter-widgets/controls",
      "_model_module_version": "1.5.0",
      "_model_name": "HBoxModel",
      "_view_count": null,
      "_view_module": "@jupyter-widgets/controls",
      "_view_module_version": "1.5.0",
      "_view_name": "HBoxView",
      "box_style": "",
      "children": [
       "IPY_MODEL_0250dbf70744459ba81a466a7b241f49",
       "IPY_MODEL_3408e027de50454bb4c9dc3ecf1a190f",
       "IPY_MODEL_c000124bd37645239575406cb76da892"
      ],
      "layout": "IPY_MODEL_ea340908f80846d0ac1c1421125e8f8b"
     }
    },
    "db8ff578287141ef89b7c3fcfcf468fd": {
     "model_module": "@jupyter-widgets/controls",
     "model_module_version": "1.5.0",
     "model_name": "HBoxModel",
     "state": {
      "_dom_classes": [],
      "_model_module": "@jupyter-widgets/controls",
      "_model_module_version": "1.5.0",
      "_model_name": "HBoxModel",
      "_view_count": null,
      "_view_module": "@jupyter-widgets/controls",
      "_view_module_version": "1.5.0",
      "_view_name": "HBoxView",
      "box_style": "",
      "children": [
       "IPY_MODEL_4a797b59009445f28f19493c8d2514a2",
       "IPY_MODEL_a917f1e07cdd4680ab4356c300cc86ec",
       "IPY_MODEL_74dd1133cda446d395c1c56e0316469a"
      ],
      "layout": "IPY_MODEL_e1879e2b81b24ab9b94ce12ba5f7d0fb"
     }
    },
    "e1879e2b81b24ab9b94ce12ba5f7d0fb": {
     "model_module": "@jupyter-widgets/base",
     "model_module_version": "1.2.0",
     "model_name": "LayoutModel",
     "state": {
      "_model_module": "@jupyter-widgets/base",
      "_model_module_version": "1.2.0",
      "_model_name": "LayoutModel",
      "_view_count": null,
      "_view_module": "@jupyter-widgets/base",
      "_view_module_version": "1.2.0",
      "_view_name": "LayoutView",
      "align_content": null,
      "align_items": null,
      "align_self": null,
      "border": null,
      "bottom": null,
      "display": null,
      "flex": null,
      "flex_flow": null,
      "grid_area": null,
      "grid_auto_columns": null,
      "grid_auto_flow": null,
      "grid_auto_rows": null,
      "grid_column": null,
      "grid_gap": null,
      "grid_row": null,
      "grid_template_areas": null,
      "grid_template_columns": null,
      "grid_template_rows": null,
      "height": null,
      "justify_content": null,
      "justify_items": null,
      "left": null,
      "margin": null,
      "max_height": null,
      "max_width": null,
      "min_height": null,
      "min_width": null,
      "object_fit": null,
      "object_position": null,
      "order": null,
      "overflow": null,
      "overflow_x": null,
      "overflow_y": null,
      "padding": null,
      "right": null,
      "top": null,
      "visibility": null,
      "width": null
     }
    },
    "e32457723ca34951940fb9d1d4899630": {
     "model_module": "@jupyter-widgets/controls",
     "model_module_version": "1.5.0",
     "model_name": "DescriptionStyleModel",
     "state": {
      "_model_module": "@jupyter-widgets/controls",
      "_model_module_version": "1.5.0",
      "_model_name": "DescriptionStyleModel",
      "_view_count": null,
      "_view_module": "@jupyter-widgets/base",
      "_view_module_version": "1.2.0",
      "_view_name": "StyleView",
      "description_width": ""
     }
    },
    "e51758e55feb4586b40c6ab9baad3a29": {
     "model_module": "@jupyter-widgets/base",
     "model_module_version": "1.2.0",
     "model_name": "LayoutModel",
     "state": {
      "_model_module": "@jupyter-widgets/base",
      "_model_module_version": "1.2.0",
      "_model_name": "LayoutModel",
      "_view_count": null,
      "_view_module": "@jupyter-widgets/base",
      "_view_module_version": "1.2.0",
      "_view_name": "LayoutView",
      "align_content": null,
      "align_items": null,
      "align_self": null,
      "border": null,
      "bottom": null,
      "display": null,
      "flex": null,
      "flex_flow": null,
      "grid_area": null,
      "grid_auto_columns": null,
      "grid_auto_flow": null,
      "grid_auto_rows": null,
      "grid_column": null,
      "grid_gap": null,
      "grid_row": null,
      "grid_template_areas": null,
      "grid_template_columns": null,
      "grid_template_rows": null,
      "height": null,
      "justify_content": null,
      "justify_items": null,
      "left": null,
      "margin": null,
      "max_height": null,
      "max_width": null,
      "min_height": null,
      "min_width": null,
      "object_fit": null,
      "object_position": null,
      "order": null,
      "overflow": null,
      "overflow_x": null,
      "overflow_y": null,
      "padding": null,
      "right": null,
      "top": null,
      "visibility": null,
      "width": null
     }
    },
    "e6c61f4063c94539a71bbcacf429113d": {
     "model_module": "@jupyter-widgets/controls",
     "model_module_version": "1.5.0",
     "model_name": "DescriptionStyleModel",
     "state": {
      "_model_module": "@jupyter-widgets/controls",
      "_model_module_version": "1.5.0",
      "_model_name": "DescriptionStyleModel",
      "_view_count": null,
      "_view_module": "@jupyter-widgets/base",
      "_view_module_version": "1.2.0",
      "_view_name": "StyleView",
      "description_width": ""
     }
    },
    "ea340908f80846d0ac1c1421125e8f8b": {
     "model_module": "@jupyter-widgets/base",
     "model_module_version": "1.2.0",
     "model_name": "LayoutModel",
     "state": {
      "_model_module": "@jupyter-widgets/base",
      "_model_module_version": "1.2.0",
      "_model_name": "LayoutModel",
      "_view_count": null,
      "_view_module": "@jupyter-widgets/base",
      "_view_module_version": "1.2.0",
      "_view_name": "LayoutView",
      "align_content": null,
      "align_items": null,
      "align_self": null,
      "border": null,
      "bottom": null,
      "display": null,
      "flex": null,
      "flex_flow": null,
      "grid_area": null,
      "grid_auto_columns": null,
      "grid_auto_flow": null,
      "grid_auto_rows": null,
      "grid_column": null,
      "grid_gap": null,
      "grid_row": null,
      "grid_template_areas": null,
      "grid_template_columns": null,
      "grid_template_rows": null,
      "height": null,
      "justify_content": null,
      "justify_items": null,
      "left": null,
      "margin": null,
      "max_height": null,
      "max_width": null,
      "min_height": null,
      "min_width": null,
      "object_fit": null,
      "object_position": null,
      "order": null,
      "overflow": null,
      "overflow_x": null,
      "overflow_y": null,
      "padding": null,
      "right": null,
      "top": null,
      "visibility": null,
      "width": null
     }
    },
    "ec1c6b19ea724e2396cfeba357d81d21": {
     "model_module": "@jupyter-widgets/controls",
     "model_module_version": "1.5.0",
     "model_name": "DescriptionStyleModel",
     "state": {
      "_model_module": "@jupyter-widgets/controls",
      "_model_module_version": "1.5.0",
      "_model_name": "DescriptionStyleModel",
      "_view_count": null,
      "_view_module": "@jupyter-widgets/base",
      "_view_module_version": "1.2.0",
      "_view_name": "StyleView",
      "description_width": ""
     }
    },
    "ed42d5c02dce45399595267bd03e1237": {
     "model_module": "@jupyter-widgets/controls",
     "model_module_version": "1.5.0",
     "model_name": "DescriptionStyleModel",
     "state": {
      "_model_module": "@jupyter-widgets/controls",
      "_model_module_version": "1.5.0",
      "_model_name": "DescriptionStyleModel",
      "_view_count": null,
      "_view_module": "@jupyter-widgets/base",
      "_view_module_version": "1.2.0",
      "_view_name": "StyleView",
      "description_width": ""
     }
    },
    "ed8d3df528fa46a2aee2db03165cc51e": {
     "model_module": "@jupyter-widgets/controls",
     "model_module_version": "1.5.0",
     "model_name": "HTMLModel",
     "state": {
      "_dom_classes": [],
      "_model_module": "@jupyter-widgets/controls",
      "_model_module_version": "1.5.0",
      "_model_name": "HTMLModel",
      "_view_count": null,
      "_view_module": "@jupyter-widgets/controls",
      "_view_module_version": "1.5.0",
      "_view_name": "HTMLView",
      "description": "",
      "description_tooltip": null,
      "layout": "IPY_MODEL_5588edfee42d40e99aa13f5b8e1518c0",
      "placeholder": "​",
      "style": "IPY_MODEL_d8f38b211e894c1fa34e09fbf4de9d5c",
      "value": " 2.27G/2.27G [00:28&lt;00:00, 80.3MB/s]"
     }
    },
    "ef4abfdd0418416d9c985edd048dcd6f": {
     "model_module": "@jupyter-widgets/base",
     "model_module_version": "1.2.0",
     "model_name": "LayoutModel",
     "state": {
      "_model_module": "@jupyter-widgets/base",
      "_model_module_version": "1.2.0",
      "_model_name": "LayoutModel",
      "_view_count": null,
      "_view_module": "@jupyter-widgets/base",
      "_view_module_version": "1.2.0",
      "_view_name": "LayoutView",
      "align_content": null,
      "align_items": null,
      "align_self": null,
      "border": null,
      "bottom": null,
      "display": null,
      "flex": null,
      "flex_flow": null,
      "grid_area": null,
      "grid_auto_columns": null,
      "grid_auto_flow": null,
      "grid_auto_rows": null,
      "grid_column": null,
      "grid_gap": null,
      "grid_row": null,
      "grid_template_areas": null,
      "grid_template_columns": null,
      "grid_template_rows": null,
      "height": null,
      "justify_content": null,
      "justify_items": null,
      "left": null,
      "margin": null,
      "max_height": null,
      "max_width": null,
      "min_height": null,
      "min_width": null,
      "object_fit": null,
      "object_position": null,
      "order": null,
      "overflow": null,
      "overflow_x": null,
      "overflow_y": null,
      "padding": null,
      "right": null,
      "top": null,
      "visibility": null,
      "width": null
     }
    },
    "f1d70759d78c4f33b962d5dbb46e366c": {
     "model_module": "@jupyter-widgets/base",
     "model_module_version": "1.2.0",
     "model_name": "LayoutModel",
     "state": {
      "_model_module": "@jupyter-widgets/base",
      "_model_module_version": "1.2.0",
      "_model_name": "LayoutModel",
      "_view_count": null,
      "_view_module": "@jupyter-widgets/base",
      "_view_module_version": "1.2.0",
      "_view_name": "LayoutView",
      "align_content": null,
      "align_items": null,
      "align_self": null,
      "border": null,
      "bottom": null,
      "display": null,
      "flex": null,
      "flex_flow": null,
      "grid_area": null,
      "grid_auto_columns": null,
      "grid_auto_flow": null,
      "grid_auto_rows": null,
      "grid_column": null,
      "grid_gap": null,
      "grid_row": null,
      "grid_template_areas": null,
      "grid_template_columns": null,
      "grid_template_rows": null,
      "height": null,
      "justify_content": null,
      "justify_items": null,
      "left": null,
      "margin": null,
      "max_height": null,
      "max_width": null,
      "min_height": null,
      "min_width": null,
      "object_fit": null,
      "object_position": null,
      "order": null,
      "overflow": null,
      "overflow_x": null,
      "overflow_y": null,
      "padding": null,
      "right": null,
      "top": null,
      "visibility": null,
      "width": null
     }
    },
    "f3bd77c545eb4f61858ba7114c85449d": {
     "model_module": "@jupyter-widgets/base",
     "model_module_version": "1.2.0",
     "model_name": "LayoutModel",
     "state": {
      "_model_module": "@jupyter-widgets/base",
      "_model_module_version": "1.2.0",
      "_model_name": "LayoutModel",
      "_view_count": null,
      "_view_module": "@jupyter-widgets/base",
      "_view_module_version": "1.2.0",
      "_view_name": "LayoutView",
      "align_content": null,
      "align_items": null,
      "align_self": null,
      "border": null,
      "bottom": null,
      "display": null,
      "flex": null,
      "flex_flow": null,
      "grid_area": null,
      "grid_auto_columns": null,
      "grid_auto_flow": null,
      "grid_auto_rows": null,
      "grid_column": null,
      "grid_gap": null,
      "grid_row": null,
      "grid_template_areas": null,
      "grid_template_columns": null,
      "grid_template_rows": null,
      "height": null,
      "justify_content": null,
      "justify_items": null,
      "left": null,
      "margin": null,
      "max_height": null,
      "max_width": null,
      "min_height": null,
      "min_width": null,
      "object_fit": null,
      "object_position": null,
      "order": null,
      "overflow": null,
      "overflow_x": null,
      "overflow_y": null,
      "padding": null,
      "right": null,
      "top": null,
      "visibility": null,
      "width": null
     }
    },
    "f686cbc603c74c228bf1928d90df1581": {
     "model_module": "@jupyter-widgets/controls",
     "model_module_version": "1.5.0",
     "model_name": "FloatProgressModel",
     "state": {
      "_dom_classes": [],
      "_model_module": "@jupyter-widgets/controls",
      "_model_module_version": "1.5.0",
      "_model_name": "FloatProgressModel",
      "_view_count": null,
      "_view_module": "@jupyter-widgets/controls",
      "_view_module_version": "1.5.0",
      "_view_name": "ProgressView",
      "bar_style": "success",
      "description": "",
      "description_tooltip": null,
      "layout": "IPY_MODEL_c4880f760e2049e095a80f51b15a1fa4",
      "max": 201,
      "min": 0,
      "orientation": "horizontal",
      "style": "IPY_MODEL_84faa31cde6847f5a6f2327eedb6c137",
      "value": 201
     }
    },
    "f9a136366d9b4f5797d959b1a475fd1a": {
     "model_module": "@jupyter-widgets/base",
     "model_module_version": "1.2.0",
     "model_name": "LayoutModel",
     "state": {
      "_model_module": "@jupyter-widgets/base",
      "_model_module_version": "1.2.0",
      "_model_name": "LayoutModel",
      "_view_count": null,
      "_view_module": "@jupyter-widgets/base",
      "_view_module_version": "1.2.0",
      "_view_name": "LayoutView",
      "align_content": null,
      "align_items": null,
      "align_self": null,
      "border": null,
      "bottom": null,
      "display": null,
      "flex": null,
      "flex_flow": null,
      "grid_area": null,
      "grid_auto_columns": null,
      "grid_auto_flow": null,
      "grid_auto_rows": null,
      "grid_column": null,
      "grid_gap": null,
      "grid_row": null,
      "grid_template_areas": null,
      "grid_template_columns": null,
      "grid_template_rows": null,
      "height": null,
      "justify_content": null,
      "justify_items": null,
      "left": null,
      "margin": null,
      "max_height": null,
      "max_width": null,
      "min_height": null,
      "min_width": null,
      "object_fit": null,
      "object_position": null,
      "order": null,
      "overflow": null,
      "overflow_x": null,
      "overflow_y": null,
      "padding": null,
      "right": null,
      "top": null,
      "visibility": null,
      "width": null
     }
    },
    "fea74c0bc0cf41d79fb634951deb365f": {
     "model_module": "@jupyter-widgets/controls",
     "model_module_version": "1.5.0",
     "model_name": "DescriptionStyleModel",
     "state": {
      "_model_module": "@jupyter-widgets/controls",
      "_model_module_version": "1.5.0",
      "_model_name": "DescriptionStyleModel",
      "_view_count": null,
      "_view_module": "@jupyter-widgets/base",
      "_view_module_version": "1.2.0",
      "_view_name": "StyleView",
      "description_width": ""
     }
    }
   }
  }
 },
 "nbformat": 4,
 "nbformat_minor": 0
}
