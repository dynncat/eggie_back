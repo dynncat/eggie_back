{
 "cells": [
  {
   "cell_type": "code",
   "execution_count": null,
   "metadata": {
    "colab": {
     "base_uri": "https://localhost:8080/"
    },
    "executionInfo": {
     "elapsed": 1525,
     "status": "ok",
     "timestamp": 1746496490061,
     "user": {
      "displayName": "정유라",
      "userId": "07842653199036968776"
     },
     "user_tz": -540
    },
    "id": "viLP5Yp49ztL",
    "outputId": "dd12e393-557a-4e48-a80c-3adbc0422aad"
   },
   "outputs": [
    {
     "name": "stdout",
     "output_type": "stream",
     "text": [
      "Drive already mounted at /content/drive; to attempt to forcibly remount, call drive.mount(\"/content/drive\", force_remount=True).\n",
      "/content/drive/MyDrive/Colab Notebooks/dx\n"
     ]
    }
   ],
   "source": [
    "# 1. 코드 연동, 작업공간 변경\n",
    "from google.colab import drive\n",
    "drive.mount('/content/drive') # 연동하는 코드\n",
    "\n",
    "# 2. 아이콘 연동, 작업공간 변경\n",
    "%cd /content/drive/MyDrive/Colab Notebooks/dx"
   ]
  },
  {
   "cell_type": "markdown",
   "metadata": {
    "id": "zWdcvMdf-YY8"
   },
   "source": [
    "# Cluster 별 Action 분석\n",
    "**자신이 맡은 클러스터만 지정해주면 됨**\n",
    "\n",
    "* LDA 활용\n",
    "* Action Map\n"
   ]
  },
  {
   "cell_type": "code",
   "execution_count": 1,
   "metadata": {
    "id": "ij8qUR2G-CfN"
   },
   "outputs": [],
   "source": [
    "import pandas as pd\n",
    "from tqdm import tqdm\n",
    "import warnings\n",
    "warnings.filterwarnings('ignore')"
   ]
  },
  {
   "cell_type": "code",
   "execution_count": 2,
   "metadata": {
    "colab": {
     "base_uri": "https://localhost:8080/",
     "height": 851
    },
    "executionInfo": {
     "elapsed": 7914,
     "status": "ok",
     "timestamp": 1746496498622,
     "user": {
      "displayName": "정유라",
      "userId": "07842653199036968776"
     },
     "user_tz": -540
    },
    "id": "oke_zPGA-ChB",
    "outputId": "347317d7-799e-40f5-9d29-5dfaaf7a3941"
   },
   "outputs": [
    {
     "name": "stdout",
     "output_type": "stream",
     "text": [
      "(52891, 10)\n"
     ]
    },
    {
     "data": {
      "text/html": [
       "<div>\n",
       "<style scoped>\n",
       "    .dataframe tbody tr th:only-of-type {\n",
       "        vertical-align: middle;\n",
       "    }\n",
       "\n",
       "    .dataframe tbody tr th {\n",
       "        vertical-align: top;\n",
       "    }\n",
       "\n",
       "    .dataframe thead th {\n",
       "        text-align: right;\n",
       "    }\n",
       "</style>\n",
       "<table border=\"1\" class=\"dataframe\">\n",
       "  <thead>\n",
       "    <tr style=\"text-align: right;\">\n",
       "      <th></th>\n",
       "      <th>source</th>\n",
       "      <th>search_words</th>\n",
       "      <th>url</th>\n",
       "      <th>title</th>\n",
       "      <th>contents</th>\n",
       "      <th>tagged_contents</th>\n",
       "      <th>vector</th>\n",
       "      <th>umap_kmeans_cluster</th>\n",
       "      <th>2nd_cluster</th>\n",
       "      <th>3rd_cluster</th>\n",
       "    </tr>\n",
       "  </thead>\n",
       "  <tbody>\n",
       "    <tr>\n",
       "      <th>0</th>\n",
       "      <td>블로그</td>\n",
       "      <td>아기+잠깨</td>\n",
       "      <td>https://blog.naver.com/srhymin/223091161466</td>\n",
       "      <td>NaN</td>\n",
       "      <td>저희 아기는 신생아때부터 청각과 촉각이 예민해 잠도 깊게 못 잘 뿐더러 잠투정이 정...</td>\n",
       "      <td>['저희', '아기', '신생아', '때', '청각', '촉각', '잠도', '못'...</td>\n",
       "      <td>[ 0.18305127 -1.2801502  -0.44998685  0.799018...</td>\n",
       "      <td>4</td>\n",
       "      <td>2</td>\n",
       "      <td>4</td>\n",
       "    </tr>\n",
       "    <tr>\n",
       "      <th>1</th>\n",
       "      <td>블로그</td>\n",
       "      <td>아기+잠깨</td>\n",
       "      <td>https://blog.naver.com/sukm83/223091879514</td>\n",
       "      <td>NaN</td>\n",
       "      <td>정신없는 주방한켠 뒤죽박죽 알 수 없는 용기에 양념과 소스가 담겨져 있기에 주방이 ...</td>\n",
       "      <td>['정신', '방한', '뒤죽박죽', '알', '수', '용기', '양념', '소스...</td>\n",
       "      <td>[ 3.5914354e+00 -2.2061694e+00  1.5965343e+00 ...</td>\n",
       "      <td>1</td>\n",
       "      <td>3</td>\n",
       "      <td>1</td>\n",
       "    </tr>\n",
       "    <tr>\n",
       "      <th>2</th>\n",
       "      <td>블로그</td>\n",
       "      <td>아기+잠깨</td>\n",
       "      <td>https://blog.naver.com/dldptmf5134/223096875782</td>\n",
       "      <td>NaN</td>\n",
       "      <td>안녕하세요 지유맘입니다! 오늘은 지유가 이유식과 유아식 그 중간즈음 토핑식을 할 때...</td>\n",
       "      <td>['지유', '맘', '오늘', '지유', '이유식', '유아식', '그', '중간...</td>\n",
       "      <td>[ 3.4138811e-01 -5.3281033e-01 -1.3500248e+00 ...</td>\n",
       "      <td>1</td>\n",
       "      <td>3</td>\n",
       "      <td>2</td>\n",
       "    </tr>\n",
       "  </tbody>\n",
       "</table>\n",
       "</div>"
      ],
      "text/plain": [
       "  source search_words                                              url title  \\\n",
       "0    블로그        아기+잠깨      https://blog.naver.com/srhymin/223091161466   NaN   \n",
       "1    블로그        아기+잠깨       https://blog.naver.com/sukm83/223091879514   NaN   \n",
       "2    블로그        아기+잠깨  https://blog.naver.com/dldptmf5134/223096875782   NaN   \n",
       "\n",
       "                                            contents  \\\n",
       "0  저희 아기는 신생아때부터 청각과 촉각이 예민해 잠도 깊게 못 잘 뿐더러 잠투정이 정...   \n",
       "1  정신없는 주방한켠 뒤죽박죽 알 수 없는 용기에 양념과 소스가 담겨져 있기에 주방이 ...   \n",
       "2  안녕하세요 지유맘입니다! 오늘은 지유가 이유식과 유아식 그 중간즈음 토핑식을 할 때...   \n",
       "\n",
       "                                     tagged_contents  \\\n",
       "0  ['저희', '아기', '신생아', '때', '청각', '촉각', '잠도', '못'...   \n",
       "1  ['정신', '방한', '뒤죽박죽', '알', '수', '용기', '양념', '소스...   \n",
       "2  ['지유', '맘', '오늘', '지유', '이유식', '유아식', '그', '중간...   \n",
       "\n",
       "                                              vector  umap_kmeans_cluster  \\\n",
       "0  [ 0.18305127 -1.2801502  -0.44998685  0.799018...                    4   \n",
       "1  [ 3.5914354e+00 -2.2061694e+00  1.5965343e+00 ...                    1   \n",
       "2  [ 3.4138811e-01 -5.3281033e-01 -1.3500248e+00 ...                    1   \n",
       "\n",
       "   2nd_cluster  3rd_cluster  \n",
       "0            2            4  \n",
       "1            3            1  \n",
       "2            3            2  "
      ]
     },
     "execution_count": 2,
     "metadata": {},
     "output_type": "execute_result"
    }
   ],
   "source": [
    "df = pd.read_csv('./3rd_clustering_0512.csv', encoding='utf-8')\n",
    "\n",
    "print(df.shape)\n",
    "df.head(3)"
   ]
  },
  {
   "cell_type": "code",
   "execution_count": 3,
   "metadata": {
    "colab": {
     "base_uri": "https://localhost:8080/",
     "height": 429
    },
    "executionInfo": {
     "elapsed": 7,
     "status": "ok",
     "timestamp": 1746496367661,
     "user": {
      "displayName": "정유라",
      "userId": "07842653199036968776"
     },
     "user_tz": -540
    },
    "id": "Qyews8BstQpZ",
    "outputId": "46d6dc61-5fc4-4881-b0f0-492b4b6396d4"
   },
   "outputs": [
    {
     "data": {
      "text/plain": [
       "3rd_cluster\n",
       "0      983\n",
       "1     6272\n",
       "2     4681\n",
       "3    17219\n",
       "4    17011\n",
       "5     6725\n",
       "Name: count, dtype: int64"
      ]
     },
     "execution_count": 3,
     "metadata": {},
     "output_type": "execute_result"
    }
   ],
   "source": [
    "df['3rd_cluster'].value_counts().sort_index()"
   ]
  },
  {
   "cell_type": "markdown",
   "metadata": {
    "id": "leanCtk--CjL"
   },
   "source": [
    "## LDA 를 위한 전처리"
   ]
  },
  {
   "cell_type": "markdown",
   "metadata": {
    "id": "OdZBQVNVrjf8"
   },
   "source": [
    "#### gensim 설치\n",
    "Colab 노트북 상단에 반드시 한 번만 실행\n",
    "!pip install --quiet gensim==4.3.1\n",
    "\n",
    "!pip uninstall gensim\n",
    "!pip install gensim==3.4.0\n",
    "\n",
    "1) 기존 scipy 제거\n",
    "!pip uninstall -y scipy\n",
    "\n",
    "2) gensim이 필요로 하는 scipy 함수가 남아 있는 1.12.0 설치\n",
    "!pip install scipy==1.12.0"
   ]
  },
  {
   "cell_type": "code",
   "execution_count": null,
   "metadata": {
    "colab": {
     "base_uri": "https://localhost:8080/"
    },
    "executionInfo": {
     "elapsed": 10829,
     "status": "ok",
     "timestamp": 1746496378499,
     "user": {
      "displayName": "정유라",
      "userId": "07842653199036968776"
     },
     "user_tz": -540
    },
    "id": "FiRztm7cShw-",
    "outputId": "dcc6bb96-098c-4d08-ba38-47b4a056af4a"
   },
   "outputs": [],
   "source": [
    "!pip install gensim==3.4.0"
   ]
  },
  {
   "cell_type": "code",
   "execution_count": null,
   "metadata": {
    "colab": {
     "base_uri": "https://localhost:8080/"
    },
    "executionInfo": {
     "elapsed": 13386,
     "status": "ok",
     "timestamp": 1746496464213,
     "user": {
      "displayName": "정유라",
      "userId": "07842653199036968776"
     },
     "user_tz": -540
    },
    "id": "sLP0qErhTOk7",
    "outputId": "66d73581-b75e-443f-8e5b-f32055832c32"
   },
   "outputs": [],
   "source": [
    "!pip install scipy==1.12.0"
   ]
  },
  {
   "cell_type": "code",
   "execution_count": 3,
   "metadata": {
    "id": "Ue-ydiBlxkce"
   },
   "outputs": [],
   "source": [
    "import collections.abc, collections\n",
    "collections.Mapping = collections.abc.Mapping"
   ]
  },
  {
   "cell_type": "code",
   "execution_count": 59,
   "metadata": {
    "colab": {
     "base_uri": "https://localhost:8080/",
     "height": 834
    },
    "executionInfo": {
     "elapsed": 1375,
     "status": "ok",
     "timestamp": 1746496513271,
     "user": {
      "displayName": "정유라",
      "userId": "07842653199036968776"
     },
     "user_tz": -540
    },
    "id": "pY1fCZzq-ClZ",
    "outputId": "0efcaba1-eebe-4666-ac0d-13a410715a2b"
   },
   "outputs": [
    {
     "data": {
      "text/html": [
       "<div>\n",
       "<style scoped>\n",
       "    .dataframe tbody tr th:only-of-type {\n",
       "        vertical-align: middle;\n",
       "    }\n",
       "\n",
       "    .dataframe tbody tr th {\n",
       "        vertical-align: top;\n",
       "    }\n",
       "\n",
       "    .dataframe thead th {\n",
       "        text-align: right;\n",
       "    }\n",
       "</style>\n",
       "<table border=\"1\" class=\"dataframe\">\n",
       "  <thead>\n",
       "    <tr style=\"text-align: right;\">\n",
       "      <th></th>\n",
       "      <th>source</th>\n",
       "      <th>search_words</th>\n",
       "      <th>url</th>\n",
       "      <th>title</th>\n",
       "      <th>contents</th>\n",
       "      <th>tagged_contents</th>\n",
       "      <th>vector</th>\n",
       "      <th>umap_kmeans_cluster</th>\n",
       "      <th>2nd_cluster</th>\n",
       "      <th>3rd_cluster</th>\n",
       "    </tr>\n",
       "  </thead>\n",
       "  <tbody>\n",
       "    <tr>\n",
       "      <th>0</th>\n",
       "      <td>블로그</td>\n",
       "      <td>아기+잠깨</td>\n",
       "      <td>https://blog.naver.com/srhymin/223091161466</td>\n",
       "      <td>NaN</td>\n",
       "      <td>저희 아기는 신생아때부터 청각과 촉각이 예민해 잠도 깊게 못 잘 뿐더러 잠투정이 정...</td>\n",
       "      <td>['저희', '아기', '신생아', '때', '청각', '촉각', '잠도', '못'...</td>\n",
       "      <td>[ 0.18305127 -1.2801502  -0.44998685  0.799018...</td>\n",
       "      <td>4</td>\n",
       "      <td>2</td>\n",
       "      <td>4</td>\n",
       "    </tr>\n",
       "    <tr>\n",
       "      <th>24</th>\n",
       "      <td>블로그</td>\n",
       "      <td>아기+잠깨</td>\n",
       "      <td>https://blog.naver.com/nature_food/223096546061</td>\n",
       "      <td>NaN</td>\n",
       "      <td>안녕하세요 푸드케어 클레입니다 아기 눈이 갑자기 빨갛게 충혈되고 계속 눈 주변을 긁...</td>\n",
       "      <td>['푸드', '케어', '클레', '아기', '눈', '갑자기', '충혈', '계속...</td>\n",
       "      <td>[ 2.70462304e-01  2.72024453e-01 -3.05641502e-...</td>\n",
       "      <td>4</td>\n",
       "      <td>2</td>\n",
       "      <td>4</td>\n",
       "    </tr>\n",
       "  </tbody>\n",
       "</table>\n",
       "</div>"
      ],
      "text/plain": [
       "   source search_words                                              url title  \\\n",
       "0     블로그        아기+잠깨      https://blog.naver.com/srhymin/223091161466   NaN   \n",
       "24    블로그        아기+잠깨  https://blog.naver.com/nature_food/223096546061   NaN   \n",
       "\n",
       "                                             contents  \\\n",
       "0   저희 아기는 신생아때부터 청각과 촉각이 예민해 잠도 깊게 못 잘 뿐더러 잠투정이 정...   \n",
       "24  안녕하세요 푸드케어 클레입니다 아기 눈이 갑자기 빨갛게 충혈되고 계속 눈 주변을 긁...   \n",
       "\n",
       "                                      tagged_contents  \\\n",
       "0   ['저희', '아기', '신생아', '때', '청각', '촉각', '잠도', '못'...   \n",
       "24  ['푸드', '케어', '클레', '아기', '눈', '갑자기', '충혈', '계속...   \n",
       "\n",
       "                                               vector  umap_kmeans_cluster  \\\n",
       "0   [ 0.18305127 -1.2801502  -0.44998685  0.799018...                    4   \n",
       "24  [ 2.70462304e-01  2.72024453e-01 -3.05641502e-...                    4   \n",
       "\n",
       "    2nd_cluster  3rd_cluster  \n",
       "0             2            4  \n",
       "24            2            4  "
      ]
     },
     "execution_count": 59,
     "metadata": {},
     "output_type": "execute_result"
    }
   ],
   "source": [
    "import gensim\n",
    "from gensim import corpora, models\n",
    "from gensim.corpora import Dictionary\n",
    "\n",
    "my_cluster = 4\n",
    "df_cluster = df[df['3rd_cluster'] == my_cluster]\n",
    "df_cluster.head(2)"
   ]
  },
  {
   "cell_type": "code",
   "execution_count": 5,
   "metadata": {},
   "outputs": [],
   "source": [
    "import ast"
   ]
  },
  {
   "cell_type": "code",
   "execution_count": 33,
   "metadata": {},
   "outputs": [],
   "source": [
    "# 문자열이 들어있는 경우만 literal_eval\n",
    "def to_list(x):\n",
    "    return ast.literal_eval(x) if isinstance(x, str) else x"
   ]
  },
  {
   "cell_type": "code",
   "execution_count": 60,
   "metadata": {
    "id": "VhVbFhlnULAb"
   },
   "outputs": [],
   "source": [
    "df_cluster['tagged_contents'] = df_cluster['tagged_contents'].apply(to_list)"
   ]
  },
  {
   "cell_type": "markdown",
   "metadata": {
    "id": "pRZB7tdnCcBP"
   },
   "source": [
    "### 전체 단어의 사전 만들고 각 문서에 매칭하기\n",
    "\n",
    "* 단일워드 또는 바이그램 또는 트라이그램 선택하기"
   ]
  },
  {
   "cell_type": "markdown",
   "metadata": {
    "id": "deHd9_IvydCf"
   },
   "source": [
    "##### 이번에는 사용 X 단일 워드 코드 #####\n",
    "\n",
    "all_documents = list(df_cluster['tagged_contents'])\n",
    "dictionary = Dictionary(all_documents)"
   ]
  },
  {
   "cell_type": "markdown",
   "metadata": {
    "id": "lOnFvkwgyl5v"
   },
   "source": [
    "##### 바이그램 코드 #####"
   ]
  },
  {
   "cell_type": "code",
   "execution_count": 7,
   "metadata": {},
   "outputs": [],
   "source": [
    "from nltk import bigrams, trigrams"
   ]
  },
  {
   "cell_type": "code",
   "execution_count": 61,
   "metadata": {
    "collapsed": true,
    "id": "RQ4JvvrnkO-P"
   },
   "outputs": [],
   "source": [
    "# bigrams 만들기\n",
    "all_documents = []\n",
    "\n",
    "for i in df_cluster['tagged_contents'] :\n",
    "    bi_r = list(bigrams(i))\n",
    "    bi_r = [' '.join(j) for j in bi_r]\n",
    "    all_documents.append(bi_r)\n",
    "\n",
    "dictionary = Dictionary(all_documents)"
   ]
  },
  {
   "cell_type": "code",
   "execution_count": 62,
   "metadata": {
    "executionInfo": {
     "elapsed": 637,
     "status": "ok",
     "timestamp": 1746497261901,
     "user": {
      "displayName": "정유라",
      "userId": "07842653199036968776"
     },
     "user_tz": -540
    },
    "id": "V3txXVy8-CnR"
   },
   "outputs": [],
   "source": [
    "# 딕셔너리랑 매칭된 단어 빈도 수\n",
    "corpus = []\n",
    "\n",
    "for doc in all_documents :\n",
    "    corpus.append(dictionary.doc2bow(doc))"
   ]
  },
  {
   "cell_type": "markdown",
   "metadata": {
    "id": "r7xFBf9Z-CpZ"
   },
   "source": [
    "## LDA 모델 만들기"
   ]
  },
  {
   "cell_type": "markdown",
   "metadata": {
    "id": "kCTp-NrvCcBR"
   },
   "source": [
    "### LDA 토픽개수 선정하기\n",
    "\n",
    "* coherence & perplexcity"
   ]
  },
  {
   "cell_type": "code",
   "execution_count": 10,
   "metadata": {
    "executionInfo": {
     "elapsed": 2,
     "status": "ok",
     "timestamp": 1746497266187,
     "user": {
      "displayName": "정유라",
      "userId": "07842653199036968776"
     },
     "user_tz": -540
    },
    "id": "khPubMf7fGFW"
   },
   "outputs": [],
   "source": [
    "from gensim.models import CoherenceModel\n",
    "import matplotlib.pyplot as plt\n",
    "import numpy as np\n",
    "from tqdm.notebook import tqdm"
   ]
  },
  {
   "cell_type": "markdown",
   "metadata": {
    "id": "0jaWXOXECcBR"
   },
   "source": [
    "> Perplexity 그래프 만들기"
   ]
  },
  {
   "cell_type": "code",
   "execution_count": 63,
   "metadata": {
    "colab": {
     "base_uri": "https://localhost:8080/",
     "height": 49,
     "referenced_widgets": [
      "004423da1d9a41208c6474a32da77aae",
      "a1b9c82f6c224a9d85316c957426e21c",
      "d793022c0165425e939fcd779bdebd2a",
      "000e7c1944734ec7a3d15645eb841b7a",
      "256c365511ab406b87acf85a65473edf",
      "d56f07f203c641c38c98a7d97275c1db",
      "db43b338d5e74f68b84fcd1e50146f0a",
      "4ca017edc5b34cbfb22e3c440e5a42d0",
      "51dcda1e24b247c59ca10c2b8de8ebda",
      "7e148ef370a44426a1cd0688ac1486b5",
      "b3a5e99a3c504f179edb6c359c52da3e"
     ]
    },
    "executionInfo": {
     "elapsed": 1513486,
     "status": "ok",
     "timestamp": 1746498781171,
     "user": {
      "displayName": "정유라",
      "userId": "07842653199036968776"
     },
     "user_tz": -540
    },
    "id": "F2uJ82NQfGFW",
    "outputId": "56b32f6b-1d19-437a-9749-ca2ddb39201b"
   },
   "outputs": [
    {
     "data": {
      "application/vnd.jupyter.widget-view+json": {
       "model_id": "b3f4e6b9d7e544818879ddfd16e58bf4",
       "version_major": 2,
       "version_minor": 0
      },
      "text/plain": [
       "  0%|          | 0/12 [00:00<?, ?it/s]"
      ]
     },
     "metadata": {},
     "output_type": "display_data"
    }
   ],
   "source": [
    "Perplexity_values = []\n",
    "\n",
    "for i in tqdm(range(2, 14)) :\n",
    "    ldamodel = gensim.models.ldamodel.LdaModel(corpus, num_topics = i, id2word = dictionary,\n",
    "                                               passes = 10,\n",
    "                                               iterations = 50)\n",
    "    p_v = ldamodel.log_perplexity(corpus)\n",
    "    Perplexity_values.append(p_v)"
   ]
  },
  {
   "cell_type": "code",
   "execution_count": 64,
   "metadata": {
    "colab": {
     "base_uri": "https://localhost:8080/",
     "height": 449
    },
    "executionInfo": {
     "elapsed": 211,
     "status": "ok",
     "timestamp": 1746498781379,
     "user": {
      "displayName": "정유라",
      "userId": "07842653199036968776"
     },
     "user_tz": -540
    },
    "id": "KuEUOrfMnwF9",
    "outputId": "4f47765b-50c2-48dd-e8aa-13c0ac719248"
   },
   "outputs": [
    {
     "data": {
      "image/png": "[encoded data removed]",
      "text/plain": [
       "<Figure size 640x480 with 1 Axes>"
      ]
     },
     "metadata": {},
     "output_type": "display_data"
    }
   ],
   "source": [
    "x = range(2, 14)\n",
    "plt.plot(x, Perplexity_values)\n",
    "plt.xlabel('number of topics')\n",
    "plt.ylabel('Perplexity score')\n",
    "plt.show()"
   ]
  },
  {
   "cell_type": "markdown",
   "metadata": {
    "id": "CHXlSqw_CcBS"
   },
   "source": [
    "> Cohearence 그래프 만들기"
   ]
  },
  {
   "cell_type": "code",
   "execution_count": 65,
   "metadata": {
    "colab": {
     "base_uri": "https://localhost:8080/",
     "height": 49,
     "referenced_widgets": [
      "497e9c597d5647fba626bc58b065ffe5",
      "c86330cbd93e48f6a14e3a09dad3967d",
      "9bd1b04d9c7145f9becc51d9ce1438b3",
      "8b68bd1d9c5049b3bd63187d2215448c",
      "49ebb4979609441ea9c17948bb0d5ba7",
      "05a83d43789a4879a29f77172c514061",
      "b929fb34681148369b7f6aafa06d83f3",
      "d8fafd83c54141709628f4f2a046169f",
      "c6eb16a9a35842318eb46b63c2bfc104",
      "8e9a44cb3a7045ae8d22b2e7bdf1231c",
      "d2d0f2f19e7d44c6a607142bf1c5146e"
     ]
    },
    "executionInfo": {
     "elapsed": 1460574,
     "status": "ok",
     "timestamp": 1746500241952,
     "user": {
      "displayName": "정유라",
      "userId": "07842653199036968776"
     },
     "user_tz": -540
    },
    "id": "2WzfeHH9fGFW",
    "outputId": "f2ba5460-ecad-4dee-81e7-5d8851ab11dc"
   },
   "outputs": [
    {
     "data": {
      "application/vnd.jupyter.widget-view+json": {
       "model_id": "4d7b5cb7ca814f71af8643f787171c89",
       "version_major": 2,
       "version_minor": 0
      },
      "text/plain": [
       "  0%|          | 0/12 [00:00<?, ?it/s]"
      ]
     },
     "metadata": {},
     "output_type": "display_data"
    }
   ],
   "source": [
    "Coherence_values = []\n",
    "\n",
    "for i in tqdm(range(2, 14)) :\n",
    "    ldamodel = gensim.models.ldamodel.LdaModel(corpus, num_topics = i, id2word = dictionary,\n",
    "                                               passes = 10,\n",
    "                                               iterations = 100)\n",
    "    co_model = CoherenceModel(model = ldamodel, texts = all_documents, dictionary = dictionary, topn = 10)\n",
    "    c_v = co_model.get_coherence()\n",
    "    Coherence_values.append(c_v)"
   ]
  },
  {
   "cell_type": "code",
   "execution_count": 66,
   "metadata": {
    "colab": {
     "base_uri": "https://localhost:8080/",
     "height": 449
    },
    "executionInfo": {
     "elapsed": 122,
     "status": "ok",
     "timestamp": 1746500242072,
     "user": {
      "displayName": "정유라",
      "userId": "07842653199036968776"
     },
     "user_tz": -540
    },
    "id": "0AGFgKPpfGFW",
    "outputId": "8b61e5f6-d7d7-41ba-edb8-6807660e5e41"
   },
   "outputs": [
    {
     "data": {
      "image/png": "[encoded data removed]",
      "text/plain": [
       "<Figure size 640x480 with 1 Axes>"
      ]
     },
     "metadata": {},
     "output_type": "display_data"
    }
   ],
   "source": [
    "x = range(2, 14)\n",
    "plt.plot(x, Coherence_values)\n",
    "plt.xlabel('number of topics')\n",
    "plt.ylabel('Coherence score')\n",
    "plt.show()"
   ]
  },
  {
   "cell_type": "markdown",
   "metadata": {
    "id": "ph7fcoMcCcBS"
   },
   "source": [
    "### 선정한 토픽 개수로 Action 넘버 매칭"
   ]
  },
  {
   "cell_type": "code",
   "execution_count": 67,
   "metadata": {
    "executionInfo": {
     "elapsed": 104595,
     "status": "ok",
     "timestamp": 1746500452375,
     "user": {
      "displayName": "정유라",
      "userId": "07842653199036968776"
     },
     "user_tz": -540
    },
    "id": "LHchIfU9fGFW"
   },
   "outputs": [],
   "source": [
    "number_topic = 4 # 선정된 최적의 토픽 수\n",
    "ldamodel = gensim.models.ldamodel.LdaModel(corpus, num_topics = number_topic, id2word = dictionary,\n",
    "                                           passes = 10,\n",
    "                                           iterations = 100)"
   ]
  },
  {
   "cell_type": "code",
   "execution_count": 68,
   "metadata": {
    "colab": {
     "base_uri": "https://localhost:8080/",
     "height": 819
    },
    "collapsed": true,
    "executionInfo": {
     "elapsed": 2543,
     "status": "ok",
     "timestamp": 1746500935705,
     "user": {
      "displayName": "정유라",
      "userId": "07842653199036968776"
     },
     "user_tz": -540
    },
    "id": "azJNSMa4q58T",
    "outputId": "da5b9f63-dc35-4b15-c3e9-8811fa51bd47"
   },
   "outputs": [
    {
     "data": {
      "text/html": [
       "<div>\n",
       "<style scoped>\n",
       "    .dataframe tbody tr th:only-of-type {\n",
       "        vertical-align: middle;\n",
       "    }\n",
       "\n",
       "    .dataframe tbody tr th {\n",
       "        vertical-align: top;\n",
       "    }\n",
       "\n",
       "    .dataframe thead th {\n",
       "        text-align: right;\n",
       "    }\n",
       "</style>\n",
       "<table border=\"1\" class=\"dataframe\">\n",
       "  <thead>\n",
       "    <tr style=\"text-align: right;\">\n",
       "      <th></th>\n",
       "      <th>source</th>\n",
       "      <th>search_words</th>\n",
       "      <th>url</th>\n",
       "      <th>title</th>\n",
       "      <th>contents</th>\n",
       "      <th>tagged_contents</th>\n",
       "      <th>vector</th>\n",
       "      <th>umap_kmeans_cluster</th>\n",
       "      <th>2nd_cluster</th>\n",
       "      <th>3rd_cluster</th>\n",
       "      <th>action_cluster</th>\n",
       "    </tr>\n",
       "  </thead>\n",
       "  <tbody>\n",
       "    <tr>\n",
       "      <th>0</th>\n",
       "      <td>블로그</td>\n",
       "      <td>아기+잠깨</td>\n",
       "      <td>https://blog.naver.com/srhymin/223091161466</td>\n",
       "      <td>NaN</td>\n",
       "      <td>저희 아기는 신생아때부터 청각과 촉각이 예민해 잠도 깊게 못 잘 뿐더러 잠투정이 정...</td>\n",
       "      <td>[저희, 아기, 신생아, 때, 청각, 촉각, 잠도, 못, 뿐더러, 잠투, 정이, 정...</td>\n",
       "      <td>[ 0.18305127 -1.2801502  -0.44998685  0.799018...</td>\n",
       "      <td>4</td>\n",
       "      <td>2</td>\n",
       "      <td>4</td>\n",
       "      <td>1</td>\n",
       "    </tr>\n",
       "    <tr>\n",
       "      <th>24</th>\n",
       "      <td>블로그</td>\n",
       "      <td>아기+잠깨</td>\n",
       "      <td>https://blog.naver.com/nature_food/223096546061</td>\n",
       "      <td>NaN</td>\n",
       "      <td>안녕하세요 푸드케어 클레입니다 아기 눈이 갑자기 빨갛게 충혈되고 계속 눈 주변을 긁...</td>\n",
       "      <td>[푸드, 케어, 클레, 아기, 눈, 갑자기, 충혈, 계속, 눈, 주변, 아기, 결막...</td>\n",
       "      <td>[ 2.70462304e-01  2.72024453e-01 -3.05641502e-...</td>\n",
       "      <td>4</td>\n",
       "      <td>2</td>\n",
       "      <td>4</td>\n",
       "      <td>0</td>\n",
       "    </tr>\n",
       "  </tbody>\n",
       "</table>\n",
       "</div>"
      ],
      "text/plain": [
       "   source search_words                                              url title  \\\n",
       "0     블로그        아기+잠깨      https://blog.naver.com/srhymin/223091161466   NaN   \n",
       "24    블로그        아기+잠깨  https://blog.naver.com/nature_food/223096546061   NaN   \n",
       "\n",
       "                                             contents  \\\n",
       "0   저희 아기는 신생아때부터 청각과 촉각이 예민해 잠도 깊게 못 잘 뿐더러 잠투정이 정...   \n",
       "24  안녕하세요 푸드케어 클레입니다 아기 눈이 갑자기 빨갛게 충혈되고 계속 눈 주변을 긁...   \n",
       "\n",
       "                                      tagged_contents  \\\n",
       "0   [저희, 아기, 신생아, 때, 청각, 촉각, 잠도, 못, 뿐더러, 잠투, 정이, 정...   \n",
       "24  [푸드, 케어, 클레, 아기, 눈, 갑자기, 충혈, 계속, 눈, 주변, 아기, 결막...   \n",
       "\n",
       "                                               vector  umap_kmeans_cluster  \\\n",
       "0   [ 0.18305127 -1.2801502  -0.44998685  0.799018...                    4   \n",
       "24  [ 2.70462304e-01  2.72024453e-01 -3.05641502e-...                    4   \n",
       "\n",
       "    2nd_cluster  3rd_cluster  action_cluster  \n",
       "0             2            4               1  \n",
       "24            2            4               0  "
      ]
     },
     "execution_count": 68,
     "metadata": {},
     "output_type": "execute_result"
    }
   ],
   "source": [
    "action_align = []\n",
    "\n",
    "for doc in ldamodel.get_document_topics(corpus) :\n",
    "    topic = []\n",
    "    value = []\n",
    "    for i in doc :\n",
    "        topic.append(i[0])\n",
    "        value.append(i[1])\n",
    "\n",
    "    action_align.append(topic[np.argmax(value)])\n",
    "\n",
    "\n",
    "df_cluster['action_cluster'] = action_align\n",
    "df_cluster.head(2)"
   ]
  },
  {
   "cell_type": "markdown",
   "metadata": {
    "id": "xo1CR0vv-Cra"
   },
   "source": [
    "## LDA 시각화하기\n",
    "\n",
    "* LDAvis"
   ]
  },
  {
   "cell_type": "code",
   "execution_count": null,
   "metadata": {
    "colab": {
     "base_uri": "https://localhost:8080/"
    },
    "collapsed": true,
    "executionInfo": {
     "elapsed": 5285,
     "status": "ok",
     "timestamp": 1746500461455,
     "user": {
      "displayName": "정유라",
      "userId": "07842653199036968776"
     },
     "user_tz": -540
    },
    "id": "uTtkElaj_0T_",
    "outputId": "f606c8f4-3327-4fa5-ca32-3b727f49b108"
   },
   "outputs": [],
   "source": [
    "!pip install pyLDAvis"
   ]
  },
  {
   "cell_type": "code",
   "execution_count": 69,
   "metadata": {},
   "outputs": [],
   "source": [
    "import pyLDAvis.gensim as gensimvis\n",
    "import pyLDAvis"
   ]
  },
  {
   "cell_type": "code",
   "execution_count": 70,
   "metadata": {
    "colab": {
     "base_uri": "https://localhost:8080/",
     "height": 861
    },
    "executionInfo": {
     "elapsed": 14133,
     "status": "ok",
     "timestamp": 1746500954115,
     "user": {
      "displayName": "정유라",
      "userId": "07842653199036968776"
     },
     "user_tz": -540
    },
    "id": "7cJlCqx3_0WK",
    "outputId": "872973b0-4837-4c03-f075-9a38ef651731"
   },
   "outputs": [
    {
     "data": {
      "text/html": [
       "\n",
       "<link rel=\"stylesheet\" type=\"text/css\" href=\"https://cdn.jsdelivr.net/gh/bmabey/pyLDAvis@3.4.0/pyLDAvis/js/ldavis.v1.0.0.css\">\n",
       "\n",
       "\n",
       "<div id=\"ldavis_el8270475832515044950349381\" style=\"background-color:white;\"></div>\n",
       "<script type=\"text/javascript\">\n",
       "\n",
       "var ldavis_el8270475832515044950349381_data = {\"mdsDat\": {\"x\": [-0.21004370649016635, 0.08281112252312296, 0.055005637790360294, 0.07222694617668314], \"y\": [0.008235341702349143, 0.09406453773871377, -0.07717181482791492, -0.02512806461314798], \"topics\": [1, 2, 3, 4], \"cluster\": [1, 1, 1, 1], \"Freq\": [72.77611104812124, 22.656736109859043, 3.904916429806688, 0.6622364122130278]}, \"tinfo\": {\"Term\": [\"\\ub0ae\\uc7a0 \\uc2dc\\uac04\", \"\\uc218\\uba74 \\uad50\\uc721\", \"\\uac1c\\uc6d4 \\uc544\\uae30\", \"\\uc544\\uae30 \\ub0ae\\uc7a0\", \"\\uc721\\uc544 \\uc77c\\uae30\", \"\\uc0dd\\ud6c4 \\uac1c\\uc6d4\", \"\\ub0ae\\uc7a0 \\ubc24\\uc7a0\", \"\\uac1c\\uc6d4 \\uac1c\\uc6d4\", \"\\uac83 \\uadf8\", \"\\uc774 \\uc2dc\\uae30\", \"\\uc6b0\\ub9ac \\uc544\\uae30\", \"\\uc544\\uae30 \\uc218\\uba74\", \"\\uac83 \\uc544\\uae30\", \"\\uc544\\uae30 \\uc7a0\", \"\\uc5c4\\ub9c8 \\uc544\\ube60\", \"\\ubaa8\\ub4e0 \\uac83\", \"\\uc218 \\uc544\\uae30\", \"\\uc544\\uc774 \\ub0ae\\uc7a0\", \"\\uac83 \\uac83\", \"\\uc0b0\\ud6c4 \\ub3c4\\uc6b0\\ubbf8\", \"\\uc2dc\\uac04 \\ub0ae\\uc7a0\", \"\\uc7ac\\uc0dd \\uc811\\uae30\", \"\\uc218\\uba74 \\uc758\\uc2dd\", \"\\uc218\\uba74 \\ud328\\ud134\", \"\\ubc24\\uc7a0 \\ub0ae\\uc7a0\", \"\\uc7a5 \\uc808\", \"\\ub0ae\\uc7a0 \\uc790\\uace0\", \"\\uadf8 \\uc0ac\\ub78c\", \"\\uac83 \\uc774\", \"\\uc544\\uae30 \\uc721\\uc544\", \"\\uc721\\uc544 \\uc77c\\uae30\", \"\\uc5c4\\ub9c8 \\uc544\\ube60\", \"\\uc0b0\\ud6c4 \\ub3c4\\uc6b0\\ubbf8\", \"\\uc7ac\\uc0dd \\uc811\\uae30\", \"\\ub0ae\\uc7a0 \\uc790\\uace0\", \"\\uc544\\uae30 \\uc721\\uc544\", \"\\uac1c\\uc6d4 \\uc544\\uae30\", \"\\ud558\\ub8e8 \\uc885\\uc77c\", \"\\uc790\\uace0 \\uc77c\\uc5b4\\ub098\\uc11c\", \"\\uc6b0\\ub9ac \\uc9d1\", \"\\uc218\\uc720 \\ud140\", \"\\uc77c\\uae30 \\uac1c\\uc6d4\", \"\\uc7ac\\uc0dd \\uac1c\\uc6d4\", \"\\uc544\\uae30 \\ub760\", \"\\uc870\\uae08 \\ub354\", \"\\uc6b0\\ub9ac \\uc544\\uac00\", \"\\uac1c\\uc6d4 \\uc721\\uc544\", \"\\uc721\\uc544 \\uae30\\ub85d\", \"\\uc721\\uc544 \\uc77c\\uc0c1\", \"\\ucd9c\\uc0b0 \\ud6c4\", \"\\uc218\\uc720 \\ud69f\\uc218\", \"\\uc6b0\\ub9ac \\uc560\\uae30\", \"\\uc6b0\\ub9ac \\ub538\", \"\\uc5b4\\ub9b0\\uc774\\uc9d1 \\uc801\\uc751\", \"\\uc801\\uc751 \\uae30\\uac04\", \"\\ubd84\\uc720 \\uc218\\uc720\", \"\\uc544\\uae30 \\ucf00\\uc5b4\", \"\\uac00\\uc815 \\ubcf4\\uc721\", \"\\uc77c\\uae30 \\uc721\\uc544\", \"\\uc811\\uae30 \\uac1c\\uc6d4\", \"\\ub2e4\\uc74c \\ub0a0\", \"\\uc544\\uae30 \\ubc1c\\ub2ec\", \"\\uc6b0\\ub9ac \\uc544\\uc774\", \"\\uc6b0\\ub9ac \\uc544\\uae30\", \"\\uc880 \\ub354\", \"\\uc544\\uae30 \\ub54c\", \"\\ubc24\\uc7a0 \\ub0ae\\uc7a0\", \"\\ub0ae\\uc7a0 \\uc2dc\\uac04\", \"\\ubcfc \\uc218\", \"\\uac83 \\uac83\", \"\\uc0dd\\ud6c4 \\uac1c\\uc6d4\", \"\\uc218 \\uac83\", \"\\uac1c\\uc6d4 \\uac1c\\uc6d4\", \"\\uc7a5 \\uc808\", \"\\uc608\\uc218 \\uadf8\\ub9ac\\uc2a4\\ub3c4\", \"\\uac83 \\ud558\\ub098\\ub2d8\", \"\\ud558\\ub098\\ub2d8 \\ub9d0\\uc500\", \"\\uc6b0\\ub9ac \\ud558\\ub098\\ub2d8\", \"\\ud558\\ub098\\ub2d8 \\ub098\\ub77c\", \"\\ub0b4 \\ub108\\ud76c\", \"\\ud558\\ub098\\ub2d8 \\uc55e\", \"\\uc774 \\uc791\\ud488\", \"\\ud558\\ub098\\ub2d8 \\uadf8\", \"\\ud558\\ub098\\ub2d8 \\ub73b\", \"\\uc0ac\\ub78c \\ud558\\ub098\\ub2d8\", \"\\ud558\\ub098\\ub2d8 \\uc544\\ub4e4\", \"\\uadf8 \\uc790\\uc2e0\", \"\\ud558\\ub098\\ub2d8 \\uc0ac\\ub78c\", \"\\ub54c \\ud558\\ub098\\ub2d8\", \"\\uc2dc\\uac04 \\uacc4\\uc655\", \"\\ud558\\ub098\\ub2d8 \\uc740\\ud61c\", \"\\uac83 \\uc608\\uc218\\ub2d8\", \"\\uacc4\\uc655 \\uc2e0\", \"\\uac15 \\uc131\", \"\\ud558\\ub098\\ub2d8 \\ud558\\ub098\\ub2d8\", \"\\uce90\\ub9ad\\ud130 \\uc0b0\\uc5c5\", \"\\ud558\\ub098\\ub2d8 \\uc0ac\\ub791\", \"\\ud558\\ub098\\ub2d8 \\uac83\", \"\\uc694 \\uc608\\uc218\", \"\\uc8fc \\uc608\\uc218\", \"\\uadf8 \\ud558\\ub098\\ub2d8\", \"\\uc815\\ubb34 \\uc9c1\", \"\\uc9c1 \\uae09\", \"\\ud558\\ub098\\ub2d8 \\uc6b0\\ub9ac\", \"\\ub0b4 \\uc544\\ubc84\\uc9c0\", \"\\uc774 \\ub545\", \"\\uc774 \\uadf8\\ub9bc\", \"\\uc774 \\ub9d0\\uc500\", \"\\uadf8 \\uadf8\", \"\\uac83 \\ub108\\ud76c\", \"\\uadf8 \\uc0ac\\ub78c\", \"\\uc0ac\\ub78c \\uadf8\", \"\\uac83 \\uadf8\", \"\\ubaa8\\ub4e0 \\uc0ac\\ub78c\", \"\\uc774 \\uc138\\uc0c1\", \"\\uadf8 \\uc774\\ub984\", \"\\ubaa8\\ub4e0 \\uac83\", \"\\uc774 \\uc0ac\\ub78c\", \"\\uc808 \\uc808\", \"\\uac83 \\uc774\", \"\\uac83 \\uadf8\\uac83\", \"\\uac83 \\uc6b0\\ub9ac\", \"\\uac83 \\uc0ac\\ub78c\", \"\\ub450 \\uc0ac\\ub78c\", \"\\uadf8 \\uac83\", \"\\ub9d0 \\uac83\", \"\\uc0ac\\ub78c \\uac83\", \"\\uac83 \\uac83\", \"\\uc218 \\uac83\", \"\\uadf8 \\ub9d0\", \"\\ub9d0 \\uadf8\", \"\\uac83 \\ub9d0\", \"\\ub54c \\uadf8\", \"\\uac83 \\uc54c\", \"\\uac83 \\ub0b4\", \"\\ub2e4\\ub978 \\uc0ac\\ub78c\", \"\\uc54c \\uc218\", \"\\uc774\\uae30 \\ub54c\\ubb38\", \"\\ubcfc \\uc218\", \"\\uc218\\uba74 \\ud658\\uacbd\", \"\\uad50\\uc721 \\uc2dc\\uae30\", \"\\uc218\\uba74 \\ud1f4\\ud589\", \"\\uafc0\\ubc24 \\uc721\\uc544\", \"\\uc218\\uba74 \\uc8fc\\uae30\", \"\\uad50\\uc721 \\ucee8\\uc124\\ud305\", \"\\uc7a0 \\uc624\\uc77c\", \"\\ub9c8\\ub9ac \\ubca0\\ubca0\", \"\\uad50\\uc721 \\uc218\\uba74\", \"\\ubc24 \\uad6c\\ubd84\", \"\\uae40\\ud574 \\ucd5c\\uc218\\uc885\", \"\\uc601\\uc720 \\uc218\\uba74\", \"\\uad8c\\uc7a5 \\uc218\\uba74\\uc2dc\\uac04\", \"\\ub4f1 \\uc218\\uba74\", \"\\uc218\\uba74\\uc2dc\\uac04 \\uc544\\uae30\", \"\\uaddc\\uce59 \\uc218\\uba74\", \"\\uc801\\uc815 \\uc218\\uba74\\uc2dc\\uac04\", \"\\uc2e0\\uc0dd\\uc544 \\ub0ae\\uc7a0\", \"\\uc721\\uc544 \\uae40\\ud574\", \"\\uc2e0\\uc0dd\\uc544 \\ubc24\\uc7a0\", \"\\uc2e0\\uc0dd\\uc544 \\uc7a0\\ud22c\\uc815\", \"\\uc2e0\\uc0dd\\uc544 \\uc218\\uba74\\uc2dc\\uac04\", \"\\uc2ac\\ub9bd \\ubca0\\uc774\\ube44\", \"\\ud1b5\\uc7a0 \\uae30\\uc900\", \"\\ub0ae\\uc7a0 \\ud1b5\\ud574\", \"\\uc218\\uba74 \\ubc95\", \"\\ubc29\\ubc95 \\uc218\\uba74\", \"\\uc7a0\\ud22c\\uc815 \\uc218\", \"\\uc6d4\\ub839 \\ub0ae\\uc7a0\", \"\\uc218\\uba74 \\ucee8\\uc124\\ud134\\ud2b8\", \"\\ub0ae\\uc7a0 \\ub8e8\\ud2f4\", \"\\ub0ae\\uc7a0 \\uc218\\uba74\", \"\\uad50\\uc721 \\ubc29\\ubc95\", \"\\uc2e0\\uc0dd\\uc544 \\uc218\\uba74\", \"\\uc544\\uae30 \\uc218\\uba74\", \"\\uc218\\uba74 \\uad50\\uc721\", \"\\uc2e0\\uc0dd\\uc544 \\ud1b5\\uc7a0\", \"\\ub0ae\\uc7a0 \\ud69f\\uc218\", \"\\ud1b5\\uc7a0 \\uc2dc\\uae30\", \"\\uc544\\uc774 \\uc218\\uba74\", \"\\uc544\\uae30 \\uc218\\uba74\\uc2dc\\uac04\", \"\\uc218\\uba74 \\uc2b5\\uad00\", \"\\uc218\\uba74 \\ud328\\ud134\", \"\\ub0ae\\uc7a0 \\ubcc0\\ud658\\uae30\", \"\\uac1c\\uc6d4 \\uc218\\uba74\", \"\\uc218\\uba74 \\uc2dc\\uac04\", \"\\ub611 \\uc721\\uc544\", \"\\uc544\\uae30 \\uc7a0\\ud22c\\uc815\", \"\\uc544\\uae30 \\ub0ae\\uc7a0\", \"\\uc218\\uba74 \\uc758\\uc2dd\", \"\\uac83 \\uc218\\uba74\", \"\\uc218 \\uc218\\uba74\", \"\\uc544\\uae30 \\uc7a0\", \"\\uc544\\uae30 \\ud1b5\\uc7a0\", \"\\ub0ae\\uc7a0 \\uc2dc\\uac04\", \"\\ubc24\\uc911 \\uc218\\uc720\", \"\\ub0ae\\uc7a0 \\ubc24\\uc7a0\", \"\\uac1c\\uc6d4 \\ub0ae\\uc7a0\", \"\\ub0ae\\uc7a0 \\uc544\\uae30\", \"\\uc218 \\ub0ae\\uc7a0\", \"\\ub0ae \\ubc24\", \"\\uc0dd\\ud6c4 \\uac1c\\uc6d4\", \"\\uac1c\\uc6d4 \\uac1c\\uc6d4\", \"\\uc7a0 \\uc218\", \"\\uc774 \\uc2dc\\uae30\", \"\\uc2dc\\uac04 \\ub0ae\\uc7a0\", \"\\uac83 \\uc544\\uae30\", \"\\ubc24\\uc7a0 \\uc2dc\\uac04\", \"\\uc544\\uc774 \\ub0ae\\uc7a0\", \"\\uc218 \\uc544\\uae30\", \"\\uc774\\ub370\\uc77c\\ub9ac \\uc804\", \"\\uac70\\uc7a5 \\uc2dc\\uc120\", \"\\uacbd\\uc81c \\uc804\", \"\\uc2dc\\uc120 \\uc0ac\\ub78c\", \"\\uc791\\ud488 \\uce94\\ubc84\\uc2a4\", \"\\uc99d\\uad8c \\ud50c\\ub7ec\\uc2a4\", \"\\ud50c\\ub7ec\\uc2a4 \\uc804\", \"\\ub274\\uc2dc\\uc2a4 \\uc804\", \"\\uc601\\uad6d \\ub0b4\\uc154\\ub110\\uac24\\ub7ec\\ub9ac\", \"\\uba85\\ud654 \\uc804\", \"\\ub0b4\\uc154\\ub110\\uac24\\ub7ec\\ub9ac \\uba85\\ud654\", \"\\ud504\\ub9ac \\ud0a4\", \"\\ub7ec \\ubc14\\uc624\", \"\\uace0\\ud2b8 \\ud560\\uc544\\ubc84\\uc9c0\", \"\\ubca0\\ucf00 \\ub77c\\ub974\", \"\\uba38\\ub9ac \\uc624\\ubaa9\\ub208\\uc774\", \"\\ub808\\uc548\\ub4dc\\ub85c \\uc2a4\", \"\\ud30c\\uc774\\ub0b8\\uc15c\\ub274\\uc2a4 \\uc804\", \"\\ube44\\uc988 \\uc804\", \"\\uc131 \\uc81c\\ub178\", \"\\ub3c4\\ub9c8\\ubc40 \\uc18c\\ub144\", \"\\uc11d \\uc11d\", \"\\ud798 \\ubca0\\ucf00\", \"\\uc0c1\\uc2b9 \\ud3ed\", \"\\ud3ed \\ud655\\ub300\", \"\\ud655\\ub300 \\uc99d\\uad8c\", \"\\ubca0\\ub124\\uce58\\uc544 \\ud654\\uac00\", \"\\ub808\\ub4dc \\ubcf4\\uc774\", \"\\ubc18 \\uc5d0\\uc774\", \"\\uc720\\ud654 \\ubb3c\\uac10\", \"\\uae30\\ub3c4 \\uc131\\ubaa8\", \"\\uc580 \\ubc18\", \"\\uc911\\uc559 \\ubc15\\ubb3c\\uad00\", \"\\uad6d\\ub9bd \\uc911\\uc559\", \"\\ubc18 \\ub2e4\\uc774\\ud06c\", \"\\uc870\\uc120 \\ube44\\uc988\", \"\\uc0ac\\ub78c \\ud5a5\", \"\\ub974\\ub124\\uc0c1\\uc2a4 \\uc2dc\\ub300\", \"\\ud5a5 \\uc601\\uad6d\", \"\\ub9c8\\ub9ac\\uc544 \\ub9c9\\ub2ec\\ub808\\ub098\", \"\\uadf8\\ub9b0 \\uadf8\\ub9bc\", \"\\uadf8\\ub9bc \\uc18d\"], \"Freq\": [4819.0, 2594.0, 16346.0, 1978.0, 11601.0, 1913.0, 1377.0, 1702.0, 2185.0, 1332.0, 3745.0, 678.0, 1395.0, 773.0, 5783.0, 1860.0, 1019.0, 969.0, 5136.0, 4802.0, 756.0, 4746.0, 545.0, 511.0, 1923.0, 915.0, 4316.0, 1052.0, 1771.0, 3998.0, 11600.882992220228, 5783.360237250927, 4802.532848713698, 4746.385402074906, 4316.103052321655, 3997.6782678306527, 16344.95316531963, 2574.3686184639364, 2417.3664461665317, 2253.7738570054003, 2201.679161467738, 2121.4741152104016, 2115.466592768264, 1945.39236855024, 2404.479417637015, 1904.8529104040945, 1661.1849642784562, 1521.7703892792722, 1508.7437679109287, 1429.4107052988336, 1362.244070345553, 1359.0438101959548, 1306.1503072140354, 1288.55186317496, 1260.9335457723234, 1257.7703060208603, 1224.531804864003, 1221.3316233139765, 1127.282677344758, 1109.6636402179727, 3466.793811441306, 2470.9168057667384, 2230.2402021298863, 3664.7194793907734, 2743.845328740089, 1677.1585979773095, 1864.0251490300107, 4320.127664776219, 2850.2037535880904, 3647.6706035550087, 1726.6659528232422, 2398.7762327353835, 1535.021019426139, 914.6525005114295, 746.5093349455344, 718.447774363718, 530.8669052810001, 372.5483495254272, 355.6616124388898, 325.12009650190237, 303.53258284887625, 456.7781289316054, 270.3703863006931, 262.301086091427, 252.6666058654052, 235.2157197999686, 228.70577581838964, 219.99820790295982, 209.50290803136468, 209.11983484703737, 210.20274150768284, 206.22421266451607, 206.68245677329267, 204.52465727939665, 203.97795519800152, 203.11258418786196, 206.50903999543718, 199.91689005009277, 190.71448358659148, 189.40492631145665, 185.7690589398151, 182.44889966297976, 182.44889966297976, 282.15328188990577, 187.6647389862174, 361.40318330893496, 524.3894325939341, 268.63744200723676, 475.00751856519105, 242.0780274899036, 918.2482742763946, 619.1948459032723, 1663.9816260330829, 488.88732079494946, 835.0907327408032, 255.29550829646257, 1236.7722445063825, 534.2046705084022, 244.02495932708032, 1028.751686550608, 384.84640575019677, 844.3757122135995, 469.39774150995174, 429.06266781444094, 358.58591311211893, 791.32456637458, 532.4909594006936, 1488.929195419174, 1140.0064165540828, 551.4725476728114, 430.9201628909204, 521.0364472119071, 499.23731957625165, 524.3994162323376, 579.1554640863568, 531.7731651631301, 599.3764917026168, 521.6464768819984, 572.5068992431225, 126.7746948183963, 67.70908567547909, 57.03014390318608, 42.50895926266745, 45.48737658969352, 42.4869909128854, 39.926672317351596, 38.8443821021148, 42.262136903098536, 38.55707707993158, 36.434603004655536, 38.00024752369743, 33.625119293111275, 30.562801342056783, 27.897666009854095, 27.12442564526592, 26.69563162964096, 26.580819694472666, 27.48478839892821, 25.40768704224118, 25.23024063850154, 22.86693288798956, 21.757366746046024, 22.22961878822678, 20.83552477102486, 21.162690391780757, 20.654679156318757, 19.97655554673336, 20.961831184467485, 22.47995422811216, 30.608465060095785, 149.2512224225503, 100.48536589906494, 69.10782724911407, 486.8933969419652, 1453.6302778900406, 38.1423396029558, 181.516836567866, 31.95501651498381, 118.92122696655494, 56.65690126082454, 126.80036181336146, 251.91321359888815, 175.96394288945694, 65.20013480894228, 149.40971168820772, 121.73096582979085, 83.05860657644934, 508.55256191710026, 204.1827584227423, 80.2099750041157, 67.48613792295878, 193.21307446084958, 91.00223364918543, 499.0312286089897, 100.19850791951502, 228.93196642696358, 107.14101253664292, 123.56389123495047, 99.91693853866481, 107.0506255770482, 186.9302529446832, 167.2884142435636, 100.90399180347383, 125.26056141938473, 109.33740890698131, 108.37648654930409, 94.67000758630456, 100.17874526121618, 99.11135927867852, 5.007615981437815, 4.009573870400755, 3.505432677832023, 3.8465537848397564, 4.754781521857536, 2.9280775486018142, 2.9280775486018142, 2.860814307279283, 3.405013978759512, 2.4818807154752105, 2.343741795993227, 2.225737612068254, 2.633988928026759, 1.940530153956843, 1.9440823328511787, 1.612808124651009, 1.4498756544961433, 1.4017045253976477, 1.3010384469080265, 1.288507208744215, 1.262759812389674, 1.565176098510654, 1.2068128159969356, 1.183747523911751, 1.183747523911751, 1.183747523911751, 1.4459311731506765, 1.0690551129351034, 1.7065333643089138, 1.020606207237778, 1.2743378306961561, 1.4656985498262605, 5.151572385080032, 5.015595062832198, 3.404568391836896, 1.301050963394617, 3.3924824723852733, 2.7274869040495733, 1.610011762739778, 1.6082371037482206, 1.7251219561581157, 1.7155618637004215], \"Total\": [4819.0, 2594.0, 16346.0, 1978.0, 11601.0, 1913.0, 1377.0, 1702.0, 2185.0, 1332.0, 3745.0, 678.0, 1395.0, 773.0, 5783.0, 1860.0, 1019.0, 969.0, 5136.0, 4802.0, 756.0, 4746.0, 545.0, 511.0, 1923.0, 915.0, 4316.0, 1052.0, 1771.0, 3998.0, 11601.283932234639, 5783.766887013128, 4802.935642426611, 4746.788898939021, 4316.506742462171, 3998.0797230453404, 16346.956659300582, 2574.7808974599698, 2417.7739095164056, 2254.186212152888, 2202.0888116240203, 2121.8750155028056, 2115.8676974882346, 1945.7947165670098, 2404.9889634846313, 1905.2605762623255, 1661.5863970339603, 1522.1714091118981, 1509.1448521311252, 1429.8145028301014, 1362.648463733383, 1359.4480952696833, 1306.5522384916826, 1288.9553353897932, 1261.3347298936524, 1258.1726108510059, 1224.9332722587123, 1221.7328079073238, 1127.6836910009886, 1110.064934676403, 3479.3851731724867, 2475.2814161733922, 2253.608560443945, 3745.3924755181356, 2798.2863661795, 1701.3898332063984, 1923.723827853249, 4819.484510167376, 3422.8061259144138, 5136.693421821349, 1913.9235303931034, 3541.276281154036, 1702.638513393304, 915.1401042088127, 746.9956561524225, 718.9367051625488, 531.3539120498696, 373.04309545523597, 356.1501108373696, 325.61849027995464, 304.01953166039056, 457.52951653817973, 270.8566364811702, 262.7885564448793, 253.16026198362522, 235.70221488594206, 229.19879138460385, 220.48519352648466, 209.9905854610442, 209.61080237286046, 210.69705009755117, 206.71091028015937, 207.17342468290272, 205.01095002915463, 204.46603003675355, 203.60015938260173, 207.01312501105556, 200.42461841102255, 191.2002032398527, 189.8913171128764, 186.2553753715572, 182.93527546423798, 182.93527546423798, 284.01836329588247, 188.16906781113923, 365.20895200825964, 542.3174313858144, 272.6227707144929, 493.6659665349875, 246.55211010653807, 1052.5830589810191, 689.177632947753, 2185.0263161927096, 563.7953705095041, 1052.694977109119, 265.2310102242864, 1860.085803954826, 668.3695101540627, 255.51316917706362, 1771.4462354213113, 474.63736837654324, 1452.9922737474892, 639.665628531542, 590.8021050812158, 451.4924567058301, 1593.473241351753, 850.3890249043467, 5136.693421821349, 3541.276281154036, 1002.0947130908237, 649.2223250367073, 984.9707437577009, 932.4316164486955, 1054.725337147915, 1450.2264895373905, 1164.7422649882615, 1895.0110391387063, 1566.8119163252393, 3422.8061259144138, 127.52575169939405, 68.43928144013648, 57.80755769268509, 43.23140186438156, 46.261791280274736, 43.21412928399997, 40.64918979691838, 39.57172332703653, 43.05912275566682, 39.31193749424772, 37.15747237066088, 38.802444063111416, 34.35409431903425, 31.326600145492698, 28.64894604657345, 27.872967762457098, 27.439718706452577, 27.329243661020666, 28.263135328457967, 26.134119426109237, 25.95585928810578, 23.59136077609107, 22.512952891766293, 23.00389064973413, 21.570105478908186, 21.914444665559998, 21.394014350040298, 20.698737243308283, 21.728543099189615, 23.303568895652564, 32.11463484435119, 170.13715102781032, 112.54592245759649, 78.4747617839913, 678.6969350975374, 2594.628939287065, 42.78451000681252, 271.3704318162005, 35.24239955040137, 173.5868902054151, 70.82571616502557, 203.9905111731785, 511.9414590355885, 324.7731418665798, 88.37890371694827, 275.08944338944946, 219.67027399072566, 135.05786616347424, 1978.7022261455165, 545.9612574195119, 136.56325486449467, 104.73493426236222, 773.5214624548834, 192.30138766031732, 4819.484510167376, 237.37678880685107, 1377.720071799623, 305.6539856131792, 448.1288475713485, 280.6869509261117, 330.9868438732505, 1913.9235303931034, 1702.638513393304, 418.3068566702353, 1332.8639945972345, 756.571317794777, 1395.8532772633157, 494.6999339308258, 969.502286992738, 1019.1138577001649, 5.787025698670667, 4.803087442369228, 4.303153092054406, 4.733817340319257, 5.886885018653903, 3.7071659497393328, 3.7071659497393328, 3.640125096464751, 4.468466032410692, 3.288762815336332, 3.1423103324820696, 3.0083513532519817, 3.690430042758896, 2.7231512124395585, 2.7361703476088537, 2.4315417294561708, 2.2448997241322854, 2.180858990073601, 2.080229317789632, 2.0794859708760844, 2.0620145880689207, 2.5604424941012267, 1.9996224388397783, 1.9627742373987518, 1.9627742373987518, 1.9627742373987518, 2.483198971872695, 1.8684022945983711, 3.0146996338833927, 1.8089165330836625, 2.2951621451700497, 2.745696937566075, 24.264486010095062, 31.09455745959287, 18.527838125553707, 2.4137655542563072, 38.882859828918406, 31.346710489944954, 5.427336975447594, 6.721829706346904, 108.46714417497074, 181.78205165222644], \"Category\": [\"Default\", \"Default\", \"Default\", \"Default\", \"Default\", \"Default\", \"Default\", \"Default\", \"Default\", \"Default\", \"Default\", \"Default\", \"Default\", \"Default\", \"Default\", \"Default\", \"Default\", \"Default\", \"Default\", \"Default\", \"Default\", \"Default\", \"Default\", \"Default\", \"Default\", \"Default\", \"Default\", \"Default\", \"Default\", \"Default\", \"Topic1\", \"Topic1\", \"Topic1\", \"Topic1\", \"Topic1\", \"Topic1\", \"Topic1\", \"Topic1\", \"Topic1\", \"Topic1\", \"Topic1\", \"Topic1\", \"Topic1\", \"Topic1\", \"Topic1\", \"Topic1\", \"Topic1\", \"Topic1\", \"Topic1\", \"Topic1\", \"Topic1\", \"Topic1\", \"Topic1\", \"Topic1\", \"Topic1\", \"Topic1\", \"Topic1\", \"Topic1\", \"Topic1\", \"Topic1\", \"Topic1\", \"Topic1\", \"Topic1\", \"Topic1\", \"Topic1\", \"Topic1\", \"Topic1\", \"Topic1\", \"Topic1\", \"Topic1\", \"Topic1\", \"Topic1\", \"Topic1\", \"Topic2\", \"Topic2\", \"Topic2\", \"Topic2\", \"Topic2\", \"Topic2\", \"Topic2\", \"Topic2\", \"Topic2\", \"Topic2\", \"Topic2\", \"Topic2\", \"Topic2\", \"Topic2\", \"Topic2\", \"Topic2\", \"Topic2\", \"Topic2\", \"Topic2\", \"Topic2\", \"Topic2\", \"Topic2\", \"Topic2\", \"Topic2\", \"Topic2\", \"Topic2\", \"Topic2\", \"Topic2\", \"Topic2\", \"Topic2\", \"Topic2\", \"Topic2\", \"Topic2\", \"Topic2\", \"Topic2\", \"Topic2\", \"Topic2\", \"Topic2\", \"Topic2\", \"Topic2\", \"Topic2\", \"Topic2\", \"Topic2\", \"Topic2\", \"Topic2\", \"Topic2\", \"Topic2\", \"Topic2\", \"Topic2\", \"Topic2\", \"Topic2\", \"Topic2\", \"Topic2\", \"Topic2\", \"Topic2\", \"Topic2\", \"Topic2\", \"Topic2\", \"Topic2\", \"Topic2\", \"Topic2\", \"Topic2\", \"Topic2\", \"Topic2\", \"Topic2\", \"Topic2\", \"Topic3\", \"Topic3\", \"Topic3\", \"Topic3\", \"Topic3\", \"Topic3\", \"Topic3\", \"Topic3\", \"Topic3\", \"Topic3\", \"Topic3\", \"Topic3\", \"Topic3\", \"Topic3\", \"Topic3\", \"Topic3\", \"Topic3\", \"Topic3\", \"Topic3\", \"Topic3\", \"Topic3\", \"Topic3\", \"Topic3\", \"Topic3\", \"Topic3\", \"Topic3\", \"Topic3\", \"Topic3\", \"Topic3\", \"Topic3\", \"Topic3\", \"Topic3\", \"Topic3\", \"Topic3\", \"Topic3\", \"Topic3\", \"Topic3\", \"Topic3\", \"Topic3\", \"Topic3\", \"Topic3\", \"Topic3\", \"Topic3\", \"Topic3\", \"Topic3\", \"Topic3\", \"Topic3\", \"Topic3\", \"Topic3\", \"Topic3\", \"Topic3\", \"Topic3\", \"Topic3\", \"Topic3\", \"Topic3\", \"Topic3\", \"Topic3\", \"Topic3\", \"Topic3\", \"Topic3\", \"Topic3\", \"Topic3\", \"Topic3\", \"Topic3\", \"Topic3\", \"Topic3\", \"Topic3\", \"Topic3\", \"Topic3\", \"Topic3\", \"Topic4\", \"Topic4\", \"Topic4\", \"Topic4\", \"Topic4\", \"Topic4\", \"Topic4\", \"Topic4\", \"Topic4\", \"Topic4\", \"Topic4\", \"Topic4\", \"Topic4\", \"Topic4\", \"Topic4\", \"Topic4\", \"Topic4\", \"Topic4\", \"Topic4\", \"Topic4\", \"Topic4\", \"Topic4\", \"Topic4\", \"Topic4\", \"Topic4\", \"Topic4\", \"Topic4\", \"Topic4\", \"Topic4\", \"Topic4\", \"Topic4\", \"Topic4\", \"Topic4\", \"Topic4\", \"Topic4\", \"Topic4\", \"Topic4\", \"Topic4\", \"Topic4\", \"Topic4\", \"Topic4\", \"Topic4\"], \"logprob\": [30.0, 29.0, 28.0, 27.0, 26.0, 25.0, 24.0, 23.0, 22.0, 21.0, 20.0, 19.0, 18.0, 17.0, 16.0, 15.0, 14.0, 13.0, 12.0, 11.0, 10.0, 9.0, 8.0, 7.0, 6.0, 5.0, 4.0, 3.0, 2.0, 1.0, -6.1433, -6.8394, -7.0253, -7.037, -7.132, -7.2087, -5.8005, -7.6488, -7.7117, -7.7818, -7.8052, -7.8423, -7.8451, -7.9289, -7.7171, -7.95, -8.0869, -8.1745, -8.1831, -8.2371, -8.2853, -8.2876, -8.3273, -8.3409, -8.3625, -8.3651, -8.3918, -8.3945, -8.4746, -8.4903, -7.3512, -7.6898, -7.7923, -7.2956, -7.585, -8.0773, -7.9717, -7.1311, -7.547, -7.3003, -8.0482, -7.7194, -8.1659, -7.5167, -7.7198, -7.7581, -8.0607, -8.4149, -8.4612, -8.551, -8.6197, -8.211, -8.7354, -8.7657, -8.8032, -8.8747, -8.9028, -8.9416, -8.9905, -8.9923, -8.9872, -9.0063, -9.004, -9.0145, -9.0172, -9.0215, -9.0049, -9.0373, -9.0844, -9.0913, -9.1107, -9.1288, -9.1288, -8.6928, -9.1006, -8.4452, -8.073, -8.7419, -8.1719, -8.846, -7.5128, -7.9068, -6.9183, -8.1431, -7.6077, -8.7928, -7.215, -8.0544, -8.838, -7.3991, -8.3824, -7.5966, -8.1838, -8.2736, -8.4531, -7.6615, -8.0577, -7.0294, -7.2964, -8.0226, -8.2693, -8.0794, -8.1221, -8.073, -7.9737, -8.059, -7.9393, -8.0782, -7.9852, -7.7346, -8.3618, -8.5334, -8.8273, -8.7596, -8.8278, -8.89, -8.9174, -8.8331, -8.9249, -8.9815, -8.9394, -9.0617, -9.1572, -9.2485, -9.2766, -9.2925, -9.2968, -9.2634, -9.342, -9.349, -9.4473, -9.4971, -9.4756, -9.5403, -9.5248, -9.5491, -9.5824, -9.5343, -9.4644, -9.1557, -7.5714, -7.967, -8.3413, -6.389, -5.2952, -8.9357, -7.3757, -9.1127, -7.7985, -8.54, -7.7344, -7.0479, -7.4067, -8.3995, -7.5703, -7.7752, -8.1575, -6.3454, -7.258, -8.1924, -8.3651, -7.3132, -8.0661, -6.3643, -7.9698, -7.1436, -7.9029, -7.7602, -7.9727, -7.9037, -7.3463, -7.4573, -7.9628, -7.7466, -7.8826, -7.8914, -8.0266, -7.97, -7.9808, -9.1917, -9.4139, -9.5483, -9.4555, -9.2435, -9.7283, -9.7283, -9.7515, -9.5774, -9.8936, -9.9509, -10.0025, -9.8341, -10.1397, -10.1378, -10.3247, -10.4312, -10.4649, -10.5395, -10.5491, -10.5693, -10.3546, -10.6147, -10.6339, -10.6339, -10.6339, -10.4339, -10.7359, -10.2682, -10.7822, -10.5602, -10.4203, -9.1633, -9.1901, -9.5775, -10.5395, -9.5811, -9.7993, -10.3264, -10.3275, -10.2573, -10.2629], \"loglift\": [30.0, 29.0, 28.0, 27.0, 26.0, 25.0, 24.0, 23.0, 22.0, 21.0, 20.0, 19.0, 18.0, 17.0, 16.0, 15.0, 14.0, 13.0, 12.0, 11.0, 10.0, 9.0, 8.0, 7.0, 6.0, 5.0, 4.0, 3.0, 2.0, 1.0, 0.3177, 0.3177, 0.3177, 0.3177, 0.3177, 0.3177, 0.3177, 0.3176, 0.3176, 0.3176, 0.3176, 0.3176, 0.3176, 0.3176, 0.3176, 0.3176, 0.3175, 0.3175, 0.3175, 0.3175, 0.3175, 0.3175, 0.3175, 0.3175, 0.3175, 0.3175, 0.3175, 0.3175, 0.3174, 0.3174, 0.3142, 0.316, 0.3074, 0.296, 0.2981, 0.3034, 0.2863, 0.2084, 0.1347, -0.0245, 0.2148, -0.0717, 0.2141, 1.4842, 1.4841, 1.484, 1.4838, 1.4834, 1.4833, 1.4832, 1.4831, 1.4831, 1.4829, 1.4829, 1.4828, 1.4826, 1.4826, 1.4825, 1.4824, 1.4824, 1.4824, 1.4824, 1.4823, 1.4823, 1.4823, 1.4823, 1.4823, 1.4822, 1.4822, 1.4821, 1.4821, 1.4821, 1.4821, 1.4781, 1.482, 1.4742, 1.4511, 1.47, 1.4462, 1.4664, 1.3482, 1.3776, 1.2123, 1.3422, 1.2531, 1.4465, 1.0766, 1.2607, 1.4387, 0.9413, 1.275, 0.9419, 1.1752, 1.1648, 1.2543, 0.7847, 1.0166, 0.2464, 0.3513, 0.8875, 1.0749, 0.8479, 0.86, 0.7859, 0.5668, 0.7007, 0.3336, 0.3849, -0.3035, 3.237, 3.2322, 3.2294, 3.2261, 3.2261, 3.226, 3.225, 3.2244, 3.2243, 3.2235, 3.2233, 3.222, 3.2215, 3.2182, 3.2164, 3.2157, 3.2154, 3.2152, 3.215, 3.2147, 3.2146, 3.2117, 3.2088, 3.2087, 3.2083, 3.208, 3.2078, 3.2074, 3.207, 3.207, 3.1949, 3.112, 3.1296, 3.1158, 2.9108, 2.6636, 3.1281, 2.8408, 3.145, 2.8647, 3.0197, 2.7675, 2.5338, 2.6301, 2.9388, 2.6325, 2.6526, 2.7568, 1.8843, 2.2594, 2.7108, 2.8034, 1.8558, 2.4948, 0.9752, 2.3804, 1.4482, 2.1946, 1.9546, 2.21, 2.1142, 0.9168, 0.9227, 1.8209, 0.8782, 1.3086, 0.6873, 1.5894, 0.9731, 0.9125, 4.8726, 4.8367, 4.8123, 4.8097, 4.8037, 4.7814, 4.7814, 4.7764, 4.7455, 4.7358, 4.7241, 4.716, 4.6801, 4.6785, 4.6755, 4.6068, 4.5801, 4.5753, 4.548, 4.5387, 4.5269, 4.5251, 4.5123, 4.5116, 4.5116, 4.5116, 4.4765, 4.459, 4.4483, 4.445, 4.4289, 4.3896, 3.4676, 3.1928, 3.3231, 4.3993, 2.5783, 2.5756, 3.8021, 3.5871, 0.8762, 0.3542]}, \"token.table\": {\"Topic\": [1, 2, 1, 3, 1, 3, 1, 3, 1, 3, 1, 4, 1, 2, 1, 2, 1, 2, 1, 2, 1, 2, 1, 2, 1, 2, 1, 3, 1, 2, 3, 1, 2, 2, 1, 2, 1, 2, 3, 2, 4, 2, 4, 1, 2, 3, 3, 3, 3, 1, 2, 4, 3, 3, 1, 2, 1, 2, 1, 2, 1, 2, 1, 2, 2, 2, 1, 2, 4, 1, 2, 4, 2, 4, 3, 3, 1, 2, 3, 1, 3, 1, 3, 1, 3, 1, 3, 1, 3, 1, 3, 1, 3, 1, 3, 2, 2, 4, 4, 1, 2, 1, 2, 4, 1, 2, 3, 1, 2, 2, 1, 3, 1, 4, 4, 4, 2, 4, 3, 2, 4, 1, 2, 1, 2, 4, 4, 1, 2, 1, 2, 2, 4, 2, 4, 3, 1, 3, 1, 3, 1, 3, 3, 2, 4, 4, 1, 2, 1, 4, 1, 2, 1, 2, 2, 1, 2, 4, 1, 4, 1, 3, 2, 4, 4, 1, 2, 3, 1, 3, 1, 3, 1, 3, 1, 3, 3, 1, 3, 1, 3, 1, 3, 3, 3, 3, 1, 3, 3, 3, 1, 1, 3, 2, 1, 3, 4, 3, 3, 1, 3, 3, 3, 1, 3, 1, 3, 1, 3, 1, 1, 3, 1, 3, 1, 3, 1, 1, 3, 1, 3, 1, 1, 3, 1, 3, 1, 3, 1, 2, 2, 4, 1, 1, 2, 4, 3, 2, 2, 1, 1, 1, 3, 1, 3, 1, 1, 2, 3, 4, 1, 3, 1, 1, 1, 2, 4, 1, 2, 1, 2, 1, 2, 1, 2, 1, 3, 2, 1, 2, 3, 4, 1, 1, 1, 2, 4, 1, 3, 3, 3, 2, 1, 1, 1, 3, 1, 2, 1, 2, 1, 4, 1, 2, 2, 1, 4, 4, 2, 1, 2, 3, 1, 3, 4, 4, 4, 4, 2, 2, 2, 2, 2, 2, 2, 2, 2, 1, 2, 2, 2, 1, 2, 4, 4, 4], \"Freq\": [0.9994001897120377, 0.999946588076622, 0.9015419232710731, 0.09808306266206462, 0.6477913239141568, 0.3500690487818928, 0.2602431013815498, 0.7354696343391626, 0.9998803043684912, 0.0001223469323179555, 0.9996470860407818, 0.8327976635850944, 0.7101844903771785, 0.2898751935777464, 0.238441064136845, 0.7615468919840884, 0.1896184455679024, 0.811145572707138, 0.6005958422934623, 0.39924798242010867, 0.016223750826028432, 0.9815369249747201, 0.47107998175643506, 0.5289497208946178, 0.26576384976360706, 0.7331955619948924, 0.41006638319778027, 0.5858091188539718, 0.9220166767980575, 0.000716407674279765, 0.07737202882221463, 0.5025004912019788, 0.49681180639591865, 0.9965608478081981, 0.41844682245410364, 0.5808702601172097, 0.4160442384663827, 0.5808813044530635, 0.0028225524997719316, 0.9986970964817591, 0.9295509396088729, 0.999162900921447, 0.7344432401931448, 0.09773788121150662, 0.008885261928318783, 0.8885261928318783, 0.9754030577520896, 0.9935814428367323, 0.9719043446179186, 0.7075193151916963, 0.12863987548939934, 0.16079984436174916, 0.9896928058779281, 0.9686804874925116, 0.2059835078498203, 0.7951406378288762, 0.03848756302436623, 0.9621890756091557, 0.4500572591676014, 0.5498482257236106, 0.12730586803261135, 0.8721402004025166, 0.03770298198368182, 0.9614260405838865, 0.9991326682684366, 0.9986288966369548, 0.3134589765279876, 0.6730148613689145, 0.01843876332517574, 0.20354044672565355, 0.7866563211288773, 0.011002186309494786, 0.4356990647063454, 0.4356990647063454, 0.968849539626522, 0.9946473661643572, 0.6314450373744623, 0.04531902182113366, 0.32327568899075343, 0.03113845151429132, 0.9652919969430309, 0.8332607062191124, 0.16621663913255813, 0.45570270727867007, 0.5419167329800401, 0.12342983218619534, 0.8757640474163384, 0.8963614243154753, 0.10353804415125513, 0.7230063446170235, 0.2767061318904658, 0.9998826035745094, 0.9735696480730867, 0.3316499863218595, 0.6706699723397603, 0.998100567693736, 0.9991015111404552, 0.636474373433456, 0.8241475005662763, 0.5434678718440594, 0.4567534088799994, 0.9964404133040569, 0.003448885191707148, 0.4849626214024515, 0.2742034915019985, 0.7261314682367739, 0.9895743507442288, 0.4643772179767401, 0.535159888615227, 1.0000448331478058, 0.4461231746091303, 0.5553778296154479, 0.270971130305567, 0.812913390916701, 0.5352166409188437, 0.4454541952365053, 0.8932356716977217, 0.09570382196761304, 0.9855522257064323, 0.7438450865958247, 0.2975380346383299, 0.5033030861062082, 0.49639992657108567, 0.3357863579131759, 0.6638711938558661, 0.8225234121099424, 0.6081314197160995, 0.33493078581397, 0.665023085155507, 0.13302698802266186, 0.8673359619077552, 0.8095925654333038, 0.16191851308666075, 0.3317080045921018, 0.6634160091842036, 0.9920650694386822, 0.9689540530774123, 0.030669683010497495, 0.8085709590087236, 0.19203560276457185, 0.5771415170312809, 0.42127118031480354, 0.9815829631786913, 0.4027063523008202, 0.4027063523008202, 0.7309486420492076, 0.8326501400188459, 0.16740650183536795, 0.9998628082907566, 0.480716232315464, 0.3739465005863278, 0.6255960324274414, 0.10157033057006763, 0.8981719231838837, 0.9993669544249579, 0.2314644560507974, 0.6686750952578592, 0.07715481868359914, 1.000013399632679, 0.5094829455909772, 0.9023349013559017, 0.09770505301305941, 0.39055749242711374, 0.7811149848542275, 0.48088807234352315, 0.6774393776523447, 0.3219178368168708, 0.00056476813476644, 0.6412838195936774, 0.3562687886631541, 0.35327276672857383, 0.6397101451571472, 0.9027450593951933, 0.09714321834796102, 0.43975459562765706, 0.5603884154624131, 0.9582720584748785, 0.37746853790973917, 0.6225779781108685, 0.4543976623015485, 0.5416420134634459, 0.6245864433892945, 0.3736528869542994, 0.9727249800460549, 0.9440614052942014, 0.9860302402502765, 0.5078705688142473, 0.4922437820815012, 0.9958772899403615, 0.9773483448389869, 0.9999596693723016, 0.9995241151693619, 0.9772152105398001, 0.9970860167226785, 0.8551738412260315, 0.14407101807362818, 0.8449840186968922, 0.9879526976631899, 0.956603878339356, 0.1146865539365802, 0.8792635801804481, 0.9749331638092539, 0.9631736604249584, 0.09349178007094357, 0.8881719106739638, 0.7429111771221579, 0.2572393123504615, 0.9856647590514668, 0.014106114619698988, 0.999591572245395, 0.9982703315488018, 0.001615977873814329, 0.2814216333134772, 0.7175514943647298, 0.19766831538109228, 0.8047924269087329, 0.9999800596659238, 0.7498175915627283, 0.2495082675372527, 0.38502015082230845, 0.6145513945817616, 1.0000544745928606, 0.5252172188086712, 0.4732155139761296, 0.8963362043172871, 0.10314570820682245, 0.3110833999969627, 0.6855356407340475, 0.6839010291934973, 0.3160931454374266, 0.36420625536569623, 0.36420625536569623, 1.0000346517904697, 0.9998674069982229, 0.2237904445836215, 0.6713713337508644, 0.9793197546575608, 1.000005815090813, 0.9989529130384786, 0.9995773314870899, 0.9998632332681566, 0.9785356338371417, 0.021359577273389177, 0.9895241077539685, 0.010205854026162007, 0.999670384422, 0.9999173927371732, 0.9998844759338505, 0.9664706880777116, 0.5528171044438953, 0.9998873917149724, 0.9553080253206684, 0.9999755257921195, 0.9999040170789963, 0.031346954783583, 0.9662237827410289, 0.001843938516681353, 0.010952634041428249, 0.9884752222388994, 0.01467228870690718, 0.9867114155395079, 0.20048790072592074, 0.7989592461764304, 0.20708752747986447, 0.7932022268150772, 0.9055687638743155, 0.0937830120002398, 0.9988426614698299, 0.6593005766912802, 0.3331606011934639, 0.007658864395252044, 0.8640016928123451, 0.99958762156281, 0.9993937209463571, 0.9996799082356875, 0.16986912379488947, 0.8493456189744474, 0.7578168871611427, 0.2414495444898278, 0.9840294529814321, 0.9662425183191221, 0.9998469040880535, 0.9995899093836232, 0.9998338036605762, 0.9997346224711654, 0.9839751015250322, 0.04305061862536448, 0.9549409949626303, 0.9999415037135445, 0.994887396857361, 0.999588786684826, 0.41429044268058784, 0.9806001391295712, 0.019297524603861825, 0.9953061723599158, 0.7830373984470633, 0.20606247327554297, 0.809243513960022, 0.994887396857361, 0.9994303437064813, 0.9970522646719843, 0.956359962537653, 0.0851247371992817, 0.907997196792338, 0.4585349188331756, 0.5094829455909772, 0.6648159623502855, 0.809243513960022, 0.9978814059151568, 0.9968373066567643, 0.9995785180663944, 0.9969992740340475, 0.9993339428922161, 0.9977994280762151, 0.9999365981695371, 0.9970207539785663, 0.9999357552447901, 0.007041798202028421, 0.9928935464860074, 0.9966916950321401, 0.9977207459025356, 0.999696713044306, 0.552757275542595, 0.36850485036173003, 0.5094829455909772, 0.5000944081124736], \"Term\": [\"\\uac00\\uc815 \\ubcf4\\uc721\", \"\\uac15 \\uc131\", \"\\uac1c\\uc6d4 \\uac1c\\uc6d4\", \"\\uac1c\\uc6d4 \\uac1c\\uc6d4\", \"\\uac1c\\uc6d4 \\ub0ae\\uc7a0\", \"\\uac1c\\uc6d4 \\ub0ae\\uc7a0\", \"\\uac1c\\uc6d4 \\uc218\\uba74\", \"\\uac1c\\uc6d4 \\uc218\\uba74\", \"\\uac1c\\uc6d4 \\uc544\\uae30\", \"\\uac1c\\uc6d4 \\uc544\\uae30\", \"\\uac1c\\uc6d4 \\uc721\\uc544\", \"\\uac70\\uc7a5 \\uc2dc\\uc120\", \"\\uac83 \\uac83\", \"\\uac83 \\uac83\", \"\\uac83 \\uadf8\", \"\\uac83 \\uadf8\", \"\\uac83 \\uadf8\\uac83\", \"\\uac83 \\uadf8\\uac83\", \"\\uac83 \\ub0b4\", \"\\uac83 \\ub0b4\", \"\\uac83 \\ub108\\ud76c\", \"\\uac83 \\ub108\\ud76c\", \"\\uac83 \\ub9d0\", \"\\uac83 \\ub9d0\", \"\\uac83 \\uc0ac\\ub78c\", \"\\uac83 \\uc0ac\\ub78c\", \"\\uac83 \\uc218\\uba74\", \"\\uac83 \\uc218\\uba74\", \"\\uac83 \\uc544\\uae30\", \"\\uac83 \\uc544\\uae30\", \"\\uac83 \\uc544\\uae30\", \"\\uac83 \\uc54c\", \"\\uac83 \\uc54c\", \"\\uac83 \\uc608\\uc218\\ub2d8\", \"\\uac83 \\uc6b0\\ub9ac\", \"\\uac83 \\uc6b0\\ub9ac\", \"\\uac83 \\uc774\", \"\\uac83 \\uc774\", \"\\uac83 \\uc774\", \"\\uac83 \\ud558\\ub098\\ub2d8\", \"\\uacbd\\uc81c \\uc804\", \"\\uacc4\\uc655 \\uc2e0\", \"\\uace0\\ud2b8 \\ud560\\uc544\\ubc84\\uc9c0\", \"\\uad50\\uc721 \\ubc29\\ubc95\", \"\\uad50\\uc721 \\ubc29\\ubc95\", \"\\uad50\\uc721 \\ubc29\\ubc95\", \"\\uad50\\uc721 \\uc218\\uba74\", \"\\uad50\\uc721 \\uc2dc\\uae30\", \"\\uad50\\uc721 \\ucee8\\uc124\\ud305\", \"\\uad6d\\ub9bd \\uc911\\uc559\", \"\\uad6d\\ub9bd \\uc911\\uc559\", \"\\uad6d\\ub9bd \\uc911\\uc559\", \"\\uad8c\\uc7a5 \\uc218\\uba74\\uc2dc\\uac04\", \"\\uaddc\\uce59 \\uc218\\uba74\", \"\\uadf8 \\uac83\", \"\\uadf8 \\uac83\", \"\\uadf8 \\uadf8\", \"\\uadf8 \\uadf8\", \"\\uadf8 \\ub9d0\", \"\\uadf8 \\ub9d0\", \"\\uadf8 \\uc0ac\\ub78c\", \"\\uadf8 \\uc0ac\\ub78c\", \"\\uadf8 \\uc774\\ub984\", \"\\uadf8 \\uc774\\ub984\", \"\\uadf8 \\uc790\\uc2e0\", \"\\uadf8 \\ud558\\ub098\\ub2d8\", \"\\uadf8\\ub9b0 \\uadf8\\ub9bc\", \"\\uadf8\\ub9b0 \\uadf8\\ub9bc\", \"\\uadf8\\ub9b0 \\uadf8\\ub9bc\", \"\\uadf8\\ub9bc \\uc18d\", \"\\uadf8\\ub9bc \\uc18d\", \"\\uadf8\\ub9bc \\uc18d\", \"\\uae30\\ub3c4 \\uc131\\ubaa8\", \"\\uae30\\ub3c4 \\uc131\\ubaa8\", \"\\uae40\\ud574 \\ucd5c\\uc218\\uc885\", \"\\uafc0\\ubc24 \\uc721\\uc544\", \"\\ub0ae \\ubc24\", \"\\ub0ae \\ubc24\", \"\\ub0ae \\ubc24\", \"\\ub0ae\\uc7a0 \\ub8e8\\ud2f4\", \"\\ub0ae\\uc7a0 \\ub8e8\\ud2f4\", \"\\ub0ae\\uc7a0 \\ubc24\\uc7a0\", \"\\ub0ae\\uc7a0 \\ubc24\\uc7a0\", \"\\ub0ae\\uc7a0 \\ubcc0\\ud658\\uae30\", \"\\ub0ae\\uc7a0 \\ubcc0\\ud658\\uae30\", \"\\ub0ae\\uc7a0 \\uc218\\uba74\", \"\\ub0ae\\uc7a0 \\uc218\\uba74\", \"\\ub0ae\\uc7a0 \\uc2dc\\uac04\", \"\\ub0ae\\uc7a0 \\uc2dc\\uac04\", \"\\ub0ae\\uc7a0 \\uc544\\uae30\", \"\\ub0ae\\uc7a0 \\uc544\\uae30\", \"\\ub0ae\\uc7a0 \\uc790\\uace0\", \"\\ub0ae\\uc7a0 \\ud1b5\\ud574\", \"\\ub0ae\\uc7a0 \\ud69f\\uc218\", \"\\ub0ae\\uc7a0 \\ud69f\\uc218\", \"\\ub0b4 \\ub108\\ud76c\", \"\\ub0b4 \\uc544\\ubc84\\uc9c0\", \"\\ub0b4\\uc154\\ub110\\uac24\\ub7ec\\ub9ac \\uba85\\ud654\", \"\\ub274\\uc2dc\\uc2a4 \\uc804\", \"\\ub2e4\\ub978 \\uc0ac\\ub78c\", \"\\ub2e4\\ub978 \\uc0ac\\ub78c\", \"\\ub2e4\\uc74c \\ub0a0\", \"\\ub2e4\\uc74c \\ub0a0\", \"\\ub3c4\\ub9c8\\ubc40 \\uc18c\\ub144\", \"\\ub450 \\uc0ac\\ub78c\", \"\\ub450 \\uc0ac\\ub78c\", \"\\ub4f1 \\uc218\\uba74\", \"\\ub54c \\uadf8\", \"\\ub54c \\uadf8\", \"\\ub54c \\ud558\\ub098\\ub2d8\", \"\\ub611 \\uc721\\uc544\", \"\\ub611 \\uc721\\uc544\", \"\\ub7ec \\ubc14\\uc624\", \"\\ub7ec \\ubc14\\uc624\", \"\\ub808\\ub4dc \\ubcf4\\uc774\", \"\\ub808\\uc548\\ub4dc\\ub85c \\uc2a4\", \"\\ub974\\ub124\\uc0c1\\uc2a4 \\uc2dc\\ub300\", \"\\ub974\\ub124\\uc0c1\\uc2a4 \\uc2dc\\ub300\", \"\\ub9c8\\ub9ac \\ubca0\\ubca0\", \"\\ub9c8\\ub9ac\\uc544 \\ub9c9\\ub2ec\\ub808\\ub098\", \"\\ub9c8\\ub9ac\\uc544 \\ub9c9\\ub2ec\\ub808\\ub098\", \"\\ub9d0 \\uac83\", \"\\ub9d0 \\uac83\", \"\\ub9d0 \\uadf8\", \"\\ub9d0 \\uadf8\", \"\\uba38\\ub9ac \\uc624\\ubaa9\\ub208\\uc774\", \"\\uba85\\ud654 \\uc804\", \"\\ubaa8\\ub4e0 \\uac83\", \"\\ubaa8\\ub4e0 \\uac83\", \"\\ubaa8\\ub4e0 \\uc0ac\\ub78c\", \"\\ubaa8\\ub4e0 \\uc0ac\\ub78c\", \"\\ubc18 \\ub2e4\\uc774\\ud06c\", \"\\ubc18 \\ub2e4\\uc774\\ud06c\", \"\\ubc18 \\uc5d0\\uc774\", \"\\ubc18 \\uc5d0\\uc774\", \"\\ubc24 \\uad6c\\ubd84\", \"\\ubc24\\uc7a0 \\ub0ae\\uc7a0\", \"\\ubc24\\uc7a0 \\ub0ae\\uc7a0\", \"\\ubc24\\uc7a0 \\uc2dc\\uac04\", \"\\ubc24\\uc7a0 \\uc2dc\\uac04\", \"\\ubc24\\uc911 \\uc218\\uc720\", \"\\ubc24\\uc911 \\uc218\\uc720\", \"\\ubc29\\ubc95 \\uc218\\uba74\", \"\\ubca0\\ub124\\uce58\\uc544 \\ud654\\uac00\", \"\\ubca0\\ub124\\uce58\\uc544 \\ud654\\uac00\", \"\\ubca0\\ucf00 \\ub77c\\ub974\", \"\\ubcfc \\uc218\", \"\\ubcfc \\uc218\", \"\\ubd84\\uc720 \\uc218\\uc720\", \"\\ube44\\uc988 \\uc804\", \"\\uc0ac\\ub78c \\uac83\", \"\\uc0ac\\ub78c \\uac83\", \"\\uc0ac\\ub78c \\uadf8\", \"\\uc0ac\\ub78c \\uadf8\", \"\\uc0ac\\ub78c \\ud558\\ub098\\ub2d8\", \"\\uc0ac\\ub78c \\ud5a5\", \"\\uc0ac\\ub78c \\ud5a5\", \"\\uc0ac\\ub78c \\ud5a5\", \"\\uc0b0\\ud6c4 \\ub3c4\\uc6b0\\ubbf8\", \"\\uc0c1\\uc2b9 \\ud3ed\", \"\\uc0dd\\ud6c4 \\uac1c\\uc6d4\", \"\\uc0dd\\ud6c4 \\uac1c\\uc6d4\", \"\\uc11d \\uc11d\", \"\\uc11d \\uc11d\", \"\\uc131 \\uc81c\\ub178\", \"\\uc218 \\uac83\", \"\\uc218 \\uac83\", \"\\uc218 \\uac83\", \"\\uc218 \\ub0ae\\uc7a0\", \"\\uc218 \\ub0ae\\uc7a0\", \"\\uc218 \\uc218\\uba74\", \"\\uc218 \\uc218\\uba74\", \"\\uc218 \\uc544\\uae30\", \"\\uc218 \\uc544\\uae30\", \"\\uc218\\uba74 \\uad50\\uc721\", \"\\uc218\\uba74 \\uad50\\uc721\", \"\\uc218\\uba74 \\ubc95\", \"\\uc218\\uba74 \\uc2b5\\uad00\", \"\\uc218\\uba74 \\uc2b5\\uad00\", \"\\uc218\\uba74 \\uc2dc\\uac04\", \"\\uc218\\uba74 \\uc2dc\\uac04\", \"\\uc218\\uba74 \\uc758\\uc2dd\", \"\\uc218\\uba74 \\uc758\\uc2dd\", \"\\uc218\\uba74 \\uc8fc\\uae30\", \"\\uc218\\uba74 \\ucee8\\uc124\\ud134\\ud2b8\", \"\\uc218\\uba74 \\ud1f4\\ud589\", \"\\uc218\\uba74 \\ud328\\ud134\", \"\\uc218\\uba74 \\ud328\\ud134\", \"\\uc218\\uba74 \\ud658\\uacbd\", \"\\uc218\\uba74\\uc2dc\\uac04 \\uc544\\uae30\", \"\\uc218\\uc720 \\ud140\", \"\\uc218\\uc720 \\ud69f\\uc218\", \"\\uc2ac\\ub9bd \\ubca0\\uc774\\ube44\", \"\\uc2dc\\uac04 \\uacc4\\uc655\", \"\\uc2dc\\uac04 \\ub0ae\\uc7a0\", \"\\uc2dc\\uac04 \\ub0ae\\uc7a0\", \"\\uc2dc\\uc120 \\uc0ac\\ub78c\", \"\\uc2e0\\uc0dd\\uc544 \\ub0ae\\uc7a0\", \"\\uc2e0\\uc0dd\\uc544 \\ubc24\\uc7a0\", \"\\uc2e0\\uc0dd\\uc544 \\uc218\\uba74\", \"\\uc2e0\\uc0dd\\uc544 \\uc218\\uba74\", \"\\uc2e0\\uc0dd\\uc544 \\uc218\\uba74\\uc2dc\\uac04\", \"\\uc2e0\\uc0dd\\uc544 \\uc7a0\\ud22c\\uc815\", \"\\uc2e0\\uc0dd\\uc544 \\ud1b5\\uc7a0\", \"\\uc2e0\\uc0dd\\uc544 \\ud1b5\\uc7a0\", \"\\uc544\\uae30 \\ub0ae\\uc7a0\", \"\\uc544\\uae30 \\ub0ae\\uc7a0\", \"\\uc544\\uae30 \\ub54c\", \"\\uc544\\uae30 \\ub54c\", \"\\uc544\\uae30 \\ub760\", \"\\uc544\\uae30 \\ubc1c\\ub2ec\", \"\\uc544\\uae30 \\ubc1c\\ub2ec\", \"\\uc544\\uae30 \\uc218\\uba74\", \"\\uc544\\uae30 \\uc218\\uba74\", \"\\uc544\\uae30 \\uc218\\uba74\\uc2dc\\uac04\", \"\\uc544\\uae30 \\uc218\\uba74\\uc2dc\\uac04\", \"\\uc544\\uae30 \\uc721\\uc544\", \"\\uc544\\uae30 \\uc7a0\", \"\\uc544\\uae30 \\uc7a0\", \"\\uc544\\uae30 \\uc7a0\\ud22c\\uc815\", \"\\uc544\\uae30 \\uc7a0\\ud22c\\uc815\", \"\\uc544\\uae30 \\ucf00\\uc5b4\", \"\\uc544\\uae30 \\ud1b5\\uc7a0\", \"\\uc544\\uae30 \\ud1b5\\uc7a0\", \"\\uc544\\uc774 \\ub0ae\\uc7a0\", \"\\uc544\\uc774 \\ub0ae\\uc7a0\", \"\\uc544\\uc774 \\uc218\\uba74\", \"\\uc544\\uc774 \\uc218\\uba74\", \"\\uc54c \\uc218\", \"\\uc54c \\uc218\", \"\\uc580 \\ubc18\", \"\\uc580 \\ubc18\", \"\\uc5b4\\ub9b0\\uc774\\uc9d1 \\uc801\\uc751\", \"\\uc5c4\\ub9c8 \\uc544\\ube60\", \"\\uc601\\uad6d \\ub0b4\\uc154\\ub110\\uac24\\ub7ec\\ub9ac\", \"\\uc601\\uad6d \\ub0b4\\uc154\\ub110\\uac24\\ub7ec\\ub9ac\", \"\\uc601\\uc720 \\uc218\\uba74\", \"\\uc608\\uc218 \\uadf8\\ub9ac\\uc2a4\\ub3c4\", \"\\uc694 \\uc608\\uc218\", \"\\uc6b0\\ub9ac \\ub538\", \"\\uc6b0\\ub9ac \\uc544\\uac00\", \"\\uc6b0\\ub9ac \\uc544\\uae30\", \"\\uc6b0\\ub9ac \\uc544\\uae30\", \"\\uc6b0\\ub9ac \\uc544\\uc774\", \"\\uc6b0\\ub9ac \\uc544\\uc774\", \"\\uc6b0\\ub9ac \\uc560\\uae30\", \"\\uc6b0\\ub9ac \\uc9d1\", \"\\uc6b0\\ub9ac \\ud558\\ub098\\ub2d8\", \"\\uc6d4\\ub839 \\ub0ae\\uc7a0\", \"\\uc720\\ud654 \\ubb3c\\uac10\", \"\\uc721\\uc544 \\uae30\\ub85d\", \"\\uc721\\uc544 \\uae40\\ud574\", \"\\uc721\\uc544 \\uc77c\\uae30\", \"\\uc721\\uc544 \\uc77c\\uc0c1\", \"\\uc774 \\uadf8\\ub9bc\", \"\\uc774 \\uadf8\\ub9bc\", \"\\uc774 \\uadf8\\ub9bc\", \"\\uc774 \\ub545\", \"\\uc774 \\ub545\", \"\\uc774 \\ub9d0\\uc500\", \"\\uc774 \\ub9d0\\uc500\", \"\\uc774 \\uc0ac\\ub78c\", \"\\uc774 \\uc0ac\\ub78c\", \"\\uc774 \\uc138\\uc0c1\", \"\\uc774 \\uc138\\uc0c1\", \"\\uc774 \\uc2dc\\uae30\", \"\\uc774 \\uc2dc\\uae30\", \"\\uc774 \\uc791\\ud488\", \"\\uc774\\uae30 \\ub54c\\ubb38\", \"\\uc774\\uae30 \\ub54c\\ubb38\", \"\\uc774\\uae30 \\ub54c\\ubb38\", \"\\uc774\\ub370\\uc77c\\ub9ac \\uc804\", \"\\uc77c\\uae30 \\uac1c\\uc6d4\", \"\\uc77c\\uae30 \\uc721\\uc544\", \"\\uc790\\uace0 \\uc77c\\uc5b4\\ub098\\uc11c\", \"\\uc791\\ud488 \\uce94\\ubc84\\uc2a4\", \"\\uc791\\ud488 \\uce94\\ubc84\\uc2a4\", \"\\uc7a0 \\uc218\", \"\\uc7a0 \\uc218\", \"\\uc7a0 \\uc624\\uc77c\", \"\\uc7a0\\ud22c\\uc815 \\uc218\", \"\\uc7a5 \\uc808\", \"\\uc7ac\\uc0dd \\uac1c\\uc6d4\", \"\\uc7ac\\uc0dd \\uc811\\uae30\", \"\\uc801\\uc751 \\uae30\\uac04\", \"\\uc801\\uc815 \\uc218\\uba74\\uc2dc\\uac04\", \"\\uc808 \\uc808\", \"\\uc808 \\uc808\", \"\\uc811\\uae30 \\uac1c\\uc6d4\", \"\\uc815\\ubb34 \\uc9c1\", \"\\uc870\\uae08 \\ub354\", \"\\uc870\\uc120 \\ube44\\uc988\", \"\\uc880 \\ub354\", \"\\uc880 \\ub354\", \"\\uc8fc \\uc608\\uc218\", \"\\uc911\\uc559 \\ubc15\\ubb3c\\uad00\", \"\\uc911\\uc559 \\ubc15\\ubb3c\\uad00\", \"\\uc99d\\uad8c \\ud50c\\ub7ec\\uc2a4\", \"\\uc9c1 \\uae09\", \"\\ucd9c\\uc0b0 \\ud6c4\", \"\\uce90\\ub9ad\\ud130 \\uc0b0\\uc5c5\", \"\\ud1b5\\uc7a0 \\uae30\\uc900\", \"\\ud1b5\\uc7a0 \\uc2dc\\uae30\", \"\\ud1b5\\uc7a0 \\uc2dc\\uae30\", \"\\ud30c\\uc774\\ub0b8\\uc15c\\ub274\\uc2a4 \\uc804\", \"\\ud3ed \\ud655\\ub300\", \"\\ud504\\ub9ac \\ud0a4\", \"\\ud50c\\ub7ec\\uc2a4 \\uc804\", \"\\ud558\\ub098\\ub2d8 \\uac83\", \"\\ud558\\ub098\\ub2d8 \\uadf8\", \"\\ud558\\ub098\\ub2d8 \\ub098\\ub77c\", \"\\ud558\\ub098\\ub2d8 \\ub73b\", \"\\ud558\\ub098\\ub2d8 \\ub9d0\\uc500\", \"\\ud558\\ub098\\ub2d8 \\uc0ac\\ub78c\", \"\\ud558\\ub098\\ub2d8 \\uc0ac\\ub791\", \"\\ud558\\ub098\\ub2d8 \\uc544\\ub4e4\", \"\\ud558\\ub098\\ub2d8 \\uc55e\", \"\\ud558\\ub098\\ub2d8 \\uc6b0\\ub9ac\", \"\\ud558\\ub098\\ub2d8 \\uc6b0\\ub9ac\", \"\\ud558\\ub098\\ub2d8 \\uc740\\ud61c\", \"\\ud558\\ub098\\ub2d8 \\ud558\\ub098\\ub2d8\", \"\\ud558\\ub8e8 \\uc885\\uc77c\", \"\\ud5a5 \\uc601\\uad6d\", \"\\ud5a5 \\uc601\\uad6d\", \"\\ud655\\ub300 \\uc99d\\uad8c\", \"\\ud798 \\ubca0\\ucf00\"]}, \"R\": 30, \"lambda.step\": 0.01, \"plot.opts\": {\"xlab\": \"PC1\", \"ylab\": \"PC2\"}, \"topic.order\": [1, 4, 2, 3]};\n",
       "\n",
       "function LDAvis_load_lib(url, callback){\n",
       "  var s = document.createElement('script');\n",
       "  s.src = url;\n",
       "  s.async = true;\n",
       "  s.onreadystatechange = s.onload = callback;\n",
       "  s.onerror = function(){console.warn(\"failed to load library \" + url);};\n",
       "  document.getElementsByTagName(\"head\")[0].appendChild(s);\n",
       "}\n",
       "\n",
       "if(typeof(LDAvis) !== \"undefined\"){\n",
       "   // already loaded: just create the visualization\n",
       "   !function(LDAvis){\n",
       "       new LDAvis(\"#\" + \"ldavis_el8270475832515044950349381\", ldavis_el8270475832515044950349381_data);\n",
       "   }(LDAvis);\n",
       "}else if(typeof define === \"function\" && define.amd){\n",
       "   // require.js is available: use it to load d3/LDAvis\n",
       "   require.config({paths: {d3: \"https://d3js.org/d3.v5\"}});\n",
       "   require([\"d3\"], function(d3){\n",
       "      window.d3 = d3;\n",
       "      LDAvis_load_lib(\"https://cdn.jsdelivr.net/gh/bmabey/pyLDAvis@3.4.0/pyLDAvis/js/ldavis.v3.0.0.js\", function(){\n",
       "        new LDAvis(\"#\" + \"ldavis_el8270475832515044950349381\", ldavis_el8270475832515044950349381_data);\n",
       "      });\n",
       "    });\n",
       "}else{\n",
       "    // require.js not available: dynamically load d3 & LDAvis\n",
       "    LDAvis_load_lib(\"https://d3js.org/d3.v5.js\", function(){\n",
       "         LDAvis_load_lib(\"https://cdn.jsdelivr.net/gh/bmabey/pyLDAvis@3.4.0/pyLDAvis/js/ldavis.v3.0.0.js\", function(){\n",
       "                 new LDAvis(\"#\" + \"ldavis_el8270475832515044950349381\", ldavis_el8270475832515044950349381_data);\n",
       "            })\n",
       "         });\n",
       "}\n",
       "</script>"
      ],
      "text/plain": [
       "<IPython.core.display.HTML object>"
      ]
     },
     "execution_count": 70,
     "metadata": {},
     "output_type": "execute_result"
    }
   ],
   "source": [
    "data_vis = gensimvis.prepare(ldamodel, corpus, dictionary)\n",
    "# 저장하기\n",
    "pyLDAvis.save_html(data_vis, f'./Actor{my_cluster}_LDAvis.html')\n",
    "pyLDAvis.display(data_vis)"
   ]
  },
  {
   "cell_type": "code",
   "execution_count": 71,
   "metadata": {},
   "outputs": [
    {
     "data": {
      "text/plain": [
       "[(0,\n",
       "  '0.003*\"개월 아기\" + 0.002*\"육아 일기\" + 0.001*\"엄마 아빠\" + 0.001*\"산후 도우미\" + 0.001*\"재생 접기\"'),\n",
       " (1,\n",
       "  '0.005*\"수면 교육\" + 0.002*\"아기 낮잠\" + 0.002*\"낮잠 시간\" + 0.002*\"아기 수면\" + 0.001*\"수면 패턴\"'),\n",
       " (2,\n",
       "  '0.000*\"중앙 박물관\" + 0.000*\"국립 중앙\" + 0.000*\"이데일리 전\" + 0.000*\"작품 캔버스\" + 0.000*\"거장 시선\"'),\n",
       " (3, '0.001*\"것 그\" + 0.001*\"것 것\" + 0.001*\"모든 것\" + 0.001*\"수 것\" + 0.001*\"것 이\"')]"
      ]
     },
     "metadata": {},
     "output_type": "display_data"
    }
   ],
   "source": [
    "display(ldamodel.print_topics(num_words = 5))"
   ]
  },
  {
   "cell_type": "code",
   "execution_count": 72,
   "metadata": {
    "colab": {
     "base_uri": "https://localhost:8080/",
     "height": 272
    },
    "executionInfo": {
     "elapsed": 44,
     "status": "ok",
     "timestamp": 1746500973437,
     "user": {
      "displayName": "정유라",
      "userId": "07842653199036968776"
     },
     "user_tz": -540
    },
    "id": "OjFlZSjA_0X6",
    "outputId": "a3ec7f9b-b780-4be2-9d15-b69090bc3c12"
   },
   "outputs": [],
   "source": [
    "### 그룹 순서 매핑 해주기 ###\n",
    "\n",
    "action_cluster = []\n",
    "for i in df_cluster['action_cluster'] :\n",
    "    if i == 0:\n",
    "        n = 1\n",
    "    elif i == 3:\n",
    "        n = 2\n",
    "    elif i == 1:\n",
    "        n = 3\n",
    "    elif i == 2:\n",
    "        n = 4\n",
    "    # elif i == 4:\n",
    "    #     n = 5\n",
    "    # elif i == 3:\n",
    "    #     n = 6\n",
    "    # elif i == 2:\n",
    "    #     n = 7\n",
    "    # else:\n",
    "    #     n = 8\n",
    "    action_cluster.append(n)\n",
    "\n",
    "df_cluster['action_cluster'] = action_cluster"
   ]
  },
  {
   "cell_type": "code",
   "execution_count": 73,
   "metadata": {
    "colab": {
     "base_uri": "https://localhost:8080/",
     "height": 269
    },
    "executionInfo": {
     "elapsed": 3,
     "status": "ok",
     "timestamp": 1746500980507,
     "user": {
      "displayName": "정유라",
      "userId": "07842653199036968776"
     },
     "user_tz": -540
    },
    "id": "qABrobdO_0bq",
    "outputId": "36aa58a6-5084-4270-840a-b8667c3506d2"
   },
   "outputs": [
    {
     "data": {
      "text/plain": [
       "action_cluster\n",
       "1    14851\n",
       "2     1155\n",
       "3      978\n",
       "4       27\n",
       "Name: count, dtype: int64"
      ]
     },
     "execution_count": 73,
     "metadata": {},
     "output_type": "execute_result"
    }
   ],
   "source": [
    "df_cluster['action_cluster'].value_counts()"
   ]
  },
  {
   "cell_type": "markdown",
   "metadata": {
    "id": "33W-0sD1c8mC"
   },
   "source": [
    "### 피클로 저장하기"
   ]
  },
  {
   "cell_type": "code",
   "execution_count": 18,
   "metadata": {},
   "outputs": [],
   "source": [
    "import pickle"
   ]
  },
  {
   "cell_type": "code",
   "execution_count": 74,
   "metadata": {
    "executionInfo": {
     "elapsed": 610,
     "status": "ok",
     "timestamp": 1746500994184,
     "user": {
      "displayName": "정유라",
      "userId": "07842653199036968776"
     },
     "user_tz": -540
    },
    "id": "zhd71q82c8oF"
   },
   "outputs": [],
   "source": [
    "with open(f'./Actor{my_cluster}_action.pkl', 'wb') as f:\n",
    "    pickle.dump(df_cluster, f)"
   ]
  },
  {
   "cell_type": "code",
   "execution_count": null,
   "metadata": {
    "id": "-RmpwE2q_0dp"
   },
   "outputs": [],
   "source": []
  },
  {
   "cell_type": "code",
   "execution_count": null,
   "metadata": {
    "id": "JUeQHjmY-CtZ"
   },
   "outputs": [],
   "source": []
  }
 ],
 "metadata": {
  "accelerator": "GPU",
  "colab": {
   "gpuType": "T4",
   "provenance": []
  },
  "kernelspec": {
   "display_name": "dxschool",
   "language": "python",
   "name": "python3"
  },
  "language_info": {
   "codemirror_mode": {
    "name": "ipython",
    "version": 3
   },
   "file_extension": ".py",
   "mimetype": "text/x-python",
   "name": "python",
   "nbconvert_exporter": "python",
   "pygments_lexer": "ipython3",
   "version": "3.10.16"
  },
  "widgets": {
   "application/vnd.jupyter.widget-state+json": {
    "000e7c1944734ec7a3d15645eb841b7a": {
     "model_module": "@jupyter-widgets/controls",
     "model_module_version": "1.5.0",
     "model_name": "HTMLModel",
     "state": {
      "_dom_classes": [],
      "_model_module": "@jupyter-widgets/controls",
      "_model_module_version": "1.5.0",
      "_model_name": "HTMLModel",
      "_view_count": null,
      "_view_module": "@jupyter-widgets/controls",
      "_view_module_version": "1.5.0",
      "_view_name": "HTMLView",
      "description": "",
      "description_tooltip": null,
      "layout": "IPY_MODEL_7e148ef370a44426a1cd0688ac1486b5",
      "placeholder": "​",
      "style": "IPY_MODEL_b3a5e99a3c504f179edb6c359c52da3e",
      "value": " 14/14 [25:13&lt;00:00, 107.84s/it]"
     }
    },
    "004423da1d9a41208c6474a32da77aae": {
     "model_module": "@jupyter-widgets/controls",
     "model_module_version": "1.5.0",
     "model_name": "HBoxModel",
     "state": {
      "_dom_classes": [],
      "_model_module": "@jupyter-widgets/controls",
      "_model_module_version": "1.5.0",
      "_model_name": "HBoxModel",
      "_view_count": null,
      "_view_module": "@jupyter-widgets/controls",
      "_view_module_version": "1.5.0",
      "_view_name": "HBoxView",
      "box_style": "",
      "children": [
       "IPY_MODEL_a1b9c82f6c224a9d85316c957426e21c",
       "IPY_MODEL_d793022c0165425e939fcd779bdebd2a",
       "IPY_MODEL_000e7c1944734ec7a3d15645eb841b7a"
      ],
      "layout": "IPY_MODEL_256c365511ab406b87acf85a65473edf"
     }
    },
    "05a83d43789a4879a29f77172c514061": {
     "model_module": "@jupyter-widgets/base",
     "model_module_version": "1.2.0",
     "model_name": "LayoutModel",
     "state": {
      "_model_module": "@jupyter-widgets/base",
      "_model_module_version": "1.2.0",
      "_model_name": "LayoutModel",
      "_view_count": null,
      "_view_module": "@jupyter-widgets/base",
      "_view_module_version": "1.2.0",
      "_view_name": "LayoutView",
      "align_content": null,
      "align_items": null,
      "align_self": null,
      "border": null,
      "bottom": null,
      "display": null,
      "flex": null,
      "flex_flow": null,
      "grid_area": null,
      "grid_auto_columns": null,
      "grid_auto_flow": null,
      "grid_auto_rows": null,
      "grid_column": null,
      "grid_gap": null,
      "grid_row": null,
      "grid_template_areas": null,
      "grid_template_columns": null,
      "grid_template_rows": null,
      "height": null,
      "justify_content": null,
      "justify_items": null,
      "left": null,
      "margin": null,
      "max_height": null,
      "max_width": null,
      "min_height": null,
      "min_width": null,
      "object_fit": null,
      "object_position": null,
      "order": null,
      "overflow": null,
      "overflow_x": null,
      "overflow_y": null,
      "padding": null,
      "right": null,
      "top": null,
      "visibility": null,
      "width": null
     }
    },
    "256c365511ab406b87acf85a65473edf": {
     "model_module": "@jupyter-widgets/base",
     "model_module_version": "1.2.0",
     "model_name": "LayoutModel",
     "state": {
      "_model_module": "@jupyter-widgets/base",
      "_model_module_version": "1.2.0",
      "_model_name": "LayoutModel",
      "_view_count": null,
      "_view_module": "@jupyter-widgets/base",
      "_view_module_version": "1.2.0",
      "_view_name": "LayoutView",
      "align_content": null,
      "align_items": null,
      "align_self": null,
      "border": null,
      "bottom": null,
      "display": null,
      "flex": null,
      "flex_flow": null,
      "grid_area": null,
      "grid_auto_columns": null,
      "grid_auto_flow": null,
      "grid_auto_rows": null,
      "grid_column": null,
      "grid_gap": null,
      "grid_row": null,
      "grid_template_areas": null,
      "grid_template_columns": null,
      "grid_template_rows": null,
      "height": null,
      "justify_content": null,
      "justify_items": null,
      "left": null,
      "margin": null,
      "max_height": null,
      "max_width": null,
      "min_height": null,
      "min_width": null,
      "object_fit": null,
      "object_position": null,
      "order": null,
      "overflow": null,
      "overflow_x": null,
      "overflow_y": null,
      "padding": null,
      "right": null,
      "top": null,
      "visibility": null,
      "width": null
     }
    },
    "497e9c597d5647fba626bc58b065ffe5": {
     "model_module": "@jupyter-widgets/controls",
     "model_module_version": "1.5.0",
     "model_name": "HBoxModel",
     "state": {
      "_dom_classes": [],
      "_model_module": "@jupyter-widgets/controls",
      "_model_module_version": "1.5.0",
      "_model_name": "HBoxModel",
      "_view_count": null,
      "_view_module": "@jupyter-widgets/controls",
      "_view_module_version": "1.5.0",
      "_view_name": "HBoxView",
      "box_style": "",
      "children": [
       "IPY_MODEL_c86330cbd93e48f6a14e3a09dad3967d",
       "IPY_MODEL_9bd1b04d9c7145f9becc51d9ce1438b3",
       "IPY_MODEL_8b68bd1d9c5049b3bd63187d2215448c"
      ],
      "layout": "IPY_MODEL_49ebb4979609441ea9c17948bb0d5ba7"
     }
    },
    "49ebb4979609441ea9c17948bb0d5ba7": {
     "model_module": "@jupyter-widgets/base",
     "model_module_version": "1.2.0",
     "model_name": "LayoutModel",
     "state": {
      "_model_module": "@jupyter-widgets/base",
      "_model_module_version": "1.2.0",
      "_model_name": "LayoutModel",
      "_view_count": null,
      "_view_module": "@jupyter-widgets/base",
      "_view_module_version": "1.2.0",
      "_view_name": "LayoutView",
      "align_content": null,
      "align_items": null,
      "align_self": null,
      "border": null,
      "bottom": null,
      "display": null,
      "flex": null,
      "flex_flow": null,
      "grid_area": null,
      "grid_auto_columns": null,
      "grid_auto_flow": null,
      "grid_auto_rows": null,
      "grid_column": null,
      "grid_gap": null,
      "grid_row": null,
      "grid_template_areas": null,
      "grid_template_columns": null,
      "grid_template_rows": null,
      "height": null,
      "justify_content": null,
      "justify_items": null,
      "left": null,
      "margin": null,
      "max_height": null,
      "max_width": null,
      "min_height": null,
      "min_width": null,
      "object_fit": null,
      "object_position": null,
      "order": null,
      "overflow": null,
      "overflow_x": null,
      "overflow_y": null,
      "padding": null,
      "right": null,
      "top": null,
      "visibility": null,
      "width": null
     }
    },
    "4ca017edc5b34cbfb22e3c440e5a42d0": {
     "model_module": "@jupyter-widgets/base",
     "model_module_version": "1.2.0",
     "model_name": "LayoutModel",
     "state": {
      "_model_module": "@jupyter-widgets/base",
      "_model_module_version": "1.2.0",
      "_model_name": "LayoutModel",
      "_view_count": null,
      "_view_module": "@jupyter-widgets/base",
      "_view_module_version": "1.2.0",
      "_view_name": "LayoutView",
      "align_content": null,
      "align_items": null,
      "align_self": null,
      "border": null,
      "bottom": null,
      "display": null,
      "flex": null,
      "flex_flow": null,
      "grid_area": null,
      "grid_auto_columns": null,
      "grid_auto_flow": null,
      "grid_auto_rows": null,
      "grid_column": null,
      "grid_gap": null,
      "grid_row": null,
      "grid_template_areas": null,
      "grid_template_columns": null,
      "grid_template_rows": null,
      "height": null,
      "justify_content": null,
      "justify_items": null,
      "left": null,
      "margin": null,
      "max_height": null,
      "max_width": null,
      "min_height": null,
      "min_width": null,
      "object_fit": null,
      "object_position": null,
      "order": null,
      "overflow": null,
      "overflow_x": null,
      "overflow_y": null,
      "padding": null,
      "right": null,
      "top": null,
      "visibility": null,
      "width": null
     }
    },
    "51dcda1e24b247c59ca10c2b8de8ebda": {
     "model_module": "@jupyter-widgets/controls",
     "model_module_version": "1.5.0",
     "model_name": "ProgressStyleModel",
     "state": {
      "_model_module": "@jupyter-widgets/controls",
      "_model_module_version": "1.5.0",
      "_model_name": "ProgressStyleModel",
      "_view_count": null,
      "_view_module": "@jupyter-widgets/base",
      "_view_module_version": "1.2.0",
      "_view_name": "StyleView",
      "bar_color": null,
      "description_width": ""
     }
    },
    "7e148ef370a44426a1cd0688ac1486b5": {
     "model_module": "@jupyter-widgets/base",
     "model_module_version": "1.2.0",
     "model_name": "LayoutModel",
     "state": {
      "_model_module": "@jupyter-widgets/base",
      "_model_module_version": "1.2.0",
      "_model_name": "LayoutModel",
      "_view_count": null,
      "_view_module": "@jupyter-widgets/base",
      "_view_module_version": "1.2.0",
      "_view_name": "LayoutView",
      "align_content": null,
      "align_items": null,
      "align_self": null,
      "border": null,
      "bottom": null,
      "display": null,
      "flex": null,
      "flex_flow": null,
      "grid_area": null,
      "grid_auto_columns": null,
      "grid_auto_flow": null,
      "grid_auto_rows": null,
      "grid_column": null,
      "grid_gap": null,
      "grid_row": null,
      "grid_template_areas": null,
      "grid_template_columns": null,
      "grid_template_rows": null,
      "height": null,
      "justify_content": null,
      "justify_items": null,
      "left": null,
      "margin": null,
      "max_height": null,
      "max_width": null,
      "min_height": null,
      "min_width": null,
      "object_fit": null,
      "object_position": null,
      "order": null,
      "overflow": null,
      "overflow_x": null,
      "overflow_y": null,
      "padding": null,
      "right": null,
      "top": null,
      "visibility": null,
      "width": null
     }
    },
    "8b68bd1d9c5049b3bd63187d2215448c": {
     "model_module": "@jupyter-widgets/controls",
     "model_module_version": "1.5.0",
     "model_name": "HTMLModel",
     "state": {
      "_dom_classes": [],
      "_model_module": "@jupyter-widgets/controls",
      "_model_module_version": "1.5.0",
      "_model_name": "HTMLModel",
      "_view_count": null,
      "_view_module": "@jupyter-widgets/controls",
      "_view_module_version": "1.5.0",
      "_view_name": "HTMLView",
      "description": "",
      "description_tooltip": null,
      "layout": "IPY_MODEL_8e9a44cb3a7045ae8d22b2e7bdf1231c",
      "placeholder": "​",
      "style": "IPY_MODEL_d2d0f2f19e7d44c6a607142bf1c5146e",
      "value": " 14/14 [24:20&lt;00:00, 102.83s/it]"
     }
    },
    "8e9a44cb3a7045ae8d22b2e7bdf1231c": {
     "model_module": "@jupyter-widgets/base",
     "model_module_version": "1.2.0",
     "model_name": "LayoutModel",
     "state": {
      "_model_module": "@jupyter-widgets/base",
      "_model_module_version": "1.2.0",
      "_model_name": "LayoutModel",
      "_view_count": null,
      "_view_module": "@jupyter-widgets/base",
      "_view_module_version": "1.2.0",
      "_view_name": "LayoutView",
      "align_content": null,
      "align_items": null,
      "align_self": null,
      "border": null,
      "bottom": null,
      "display": null,
      "flex": null,
      "flex_flow": null,
      "grid_area": null,
      "grid_auto_columns": null,
      "grid_auto_flow": null,
      "grid_auto_rows": null,
      "grid_column": null,
      "grid_gap": null,
      "grid_row": null,
      "grid_template_areas": null,
      "grid_template_columns": null,
      "grid_template_rows": null,
      "height": null,
      "justify_content": null,
      "justify_items": null,
      "left": null,
      "margin": null,
      "max_height": null,
      "max_width": null,
      "min_height": null,
      "min_width": null,
      "object_fit": null,
      "object_position": null,
      "order": null,
      "overflow": null,
      "overflow_x": null,
      "overflow_y": null,
      "padding": null,
      "right": null,
      "top": null,
      "visibility": null,
      "width": null
     }
    },
    "9bd1b04d9c7145f9becc51d9ce1438b3": {
     "model_module": "@jupyter-widgets/controls",
     "model_module_version": "1.5.0",
     "model_name": "FloatProgressModel",
     "state": {
      "_dom_classes": [],
      "_model_module": "@jupyter-widgets/controls",
      "_model_module_version": "1.5.0",
      "_model_name": "FloatProgressModel",
      "_view_count": null,
      "_view_module": "@jupyter-widgets/controls",
      "_view_module_version": "1.5.0",
      "_view_name": "ProgressView",
      "bar_style": "success",
      "description": "",
      "description_tooltip": null,
      "layout": "IPY_MODEL_d8fafd83c54141709628f4f2a046169f",
      "max": 14,
      "min": 0,
      "orientation": "horizontal",
      "style": "IPY_MODEL_c6eb16a9a35842318eb46b63c2bfc104",
      "value": 14
     }
    },
    "a1b9c82f6c224a9d85316c957426e21c": {
     "model_module": "@jupyter-widgets/controls",
     "model_module_version": "1.5.0",
     "model_name": "HTMLModel",
     "state": {
      "_dom_classes": [],
      "_model_module": "@jupyter-widgets/controls",
      "_model_module_version": "1.5.0",
      "_model_name": "HTMLModel",
      "_view_count": null,
      "_view_module": "@jupyter-widgets/controls",
      "_view_module_version": "1.5.0",
      "_view_name": "HTMLView",
      "description": "",
      "description_tooltip": null,
      "layout": "IPY_MODEL_d56f07f203c641c38c98a7d97275c1db",
      "placeholder": "​",
      "style": "IPY_MODEL_db43b338d5e74f68b84fcd1e50146f0a",
      "value": "100%"
     }
    },
    "b3a5e99a3c504f179edb6c359c52da3e": {
     "model_module": "@jupyter-widgets/controls",
     "model_module_version": "1.5.0",
     "model_name": "DescriptionStyleModel",
     "state": {
      "_model_module": "@jupyter-widgets/controls",
      "_model_module_version": "1.5.0",
      "_model_name": "DescriptionStyleModel",
      "_view_count": null,
      "_view_module": "@jupyter-widgets/base",
      "_view_module_version": "1.2.0",
      "_view_name": "StyleView",
      "description_width": ""
     }
    },
    "b929fb34681148369b7f6aafa06d83f3": {
     "model_module": "@jupyter-widgets/controls",
     "model_module_version": "1.5.0",
     "model_name": "DescriptionStyleModel",
     "state": {
      "_model_module": "@jupyter-widgets/controls",
      "_model_module_version": "1.5.0",
      "_model_name": "DescriptionStyleModel",
      "_view_count": null,
      "_view_module": "@jupyter-widgets/base",
      "_view_module_version": "1.2.0",
      "_view_name": "StyleView",
      "description_width": ""
     }
    },
    "c6eb16a9a35842318eb46b63c2bfc104": {
     "model_module": "@jupyter-widgets/controls",
     "model_module_version": "1.5.0",
     "model_name": "ProgressStyleModel",
     "state": {
      "_model_module": "@jupyter-widgets/controls",
      "_model_module_version": "1.5.0",
      "_model_name": "ProgressStyleModel",
      "_view_count": null,
      "_view_module": "@jupyter-widgets/base",
      "_view_module_version": "1.2.0",
      "_view_name": "StyleView",
      "bar_color": null,
      "description_width": ""
     }
    },
    "c86330cbd93e48f6a14e3a09dad3967d": {
     "model_module": "@jupyter-widgets/controls",
     "model_module_version": "1.5.0",
     "model_name": "HTMLModel",
     "state": {
      "_dom_classes": [],
      "_model_module": "@jupyter-widgets/controls",
      "_model_module_version": "1.5.0",
      "_model_name": "HTMLModel",
      "_view_count": null,
      "_view_module": "@jupyter-widgets/controls",
      "_view_module_version": "1.5.0",
      "_view_name": "HTMLView",
      "description": "",
      "description_tooltip": null,
      "layout": "IPY_MODEL_05a83d43789a4879a29f77172c514061",
      "placeholder": "​",
      "style": "IPY_MODEL_b929fb34681148369b7f6aafa06d83f3",
      "value": "100%"
     }
    },
    "d2d0f2f19e7d44c6a607142bf1c5146e": {
     "model_module": "@jupyter-widgets/controls",
     "model_module_version": "1.5.0",
     "model_name": "DescriptionStyleModel",
     "state": {
      "_model_module": "@jupyter-widgets/controls",
      "_model_module_version": "1.5.0",
      "_model_name": "DescriptionStyleModel",
      "_view_count": null,
      "_view_module": "@jupyter-widgets/base",
      "_view_module_version": "1.2.0",
      "_view_name": "StyleView",
      "description_width": ""
     }
    },
    "d56f07f203c641c38c98a7d97275c1db": {
     "model_module": "@jupyter-widgets/base",
     "model_module_version": "1.2.0",
     "model_name": "LayoutModel",
     "state": {
      "_model_module": "@jupyter-widgets/base",
      "_model_module_version": "1.2.0",
      "_model_name": "LayoutModel",
      "_view_count": null,
      "_view_module": "@jupyter-widgets/base",
      "_view_module_version": "1.2.0",
      "_view_name": "LayoutView",
      "align_content": null,
      "align_items": null,
      "align_self": null,
      "border": null,
      "bottom": null,
      "display": null,
      "flex": null,
      "flex_flow": null,
      "grid_area": null,
      "grid_auto_columns": null,
      "grid_auto_flow": null,
      "grid_auto_rows": null,
      "grid_column": null,
      "grid_gap": null,
      "grid_row": null,
      "grid_template_areas": null,
      "grid_template_columns": null,
      "grid_template_rows": null,
      "height": null,
      "justify_content": null,
      "justify_items": null,
      "left": null,
      "margin": null,
      "max_height": null,
      "max_width": null,
      "min_height": null,
      "min_width": null,
      "object_fit": null,
      "object_position": null,
      "order": null,
      "overflow": null,
      "overflow_x": null,
      "overflow_y": null,
      "padding": null,
      "right": null,
      "top": null,
      "visibility": null,
      "width": null
     }
    },
    "d793022c0165425e939fcd779bdebd2a": {
     "model_module": "@jupyter-widgets/controls",
     "model_module_version": "1.5.0",
     "model_name": "FloatProgressModel",
     "state": {
      "_dom_classes": [],
      "_model_module": "@jupyter-widgets/controls",
      "_model_module_version": "1.5.0",
      "_model_name": "FloatProgressModel",
      "_view_count": null,
      "_view_module": "@jupyter-widgets/controls",
      "_view_module_version": "1.5.0",
      "_view_name": "ProgressView",
      "bar_style": "success",
      "description": "",
      "description_tooltip": null,
      "layout": "IPY_MODEL_4ca017edc5b34cbfb22e3c440e5a42d0",
      "max": 14,
      "min": 0,
      "orientation": "horizontal",
      "style": "IPY_MODEL_51dcda1e24b247c59ca10c2b8de8ebda",
      "value": 14
     }
    },
    "d8fafd83c54141709628f4f2a046169f": {
     "model_module": "@jupyter-widgets/base",
     "model_module_version": "1.2.0",
     "model_name": "LayoutModel",
     "state": {
      "_model_module": "@jupyter-widgets/base",
      "_model_module_version": "1.2.0",
      "_model_name": "LayoutModel",
      "_view_count": null,
      "_view_module": "@jupyter-widgets/base",
      "_view_module_version": "1.2.0",
      "_view_name": "LayoutView",
      "align_content": null,
      "align_items": null,
      "align_self": null,
      "border": null,
      "bottom": null,
      "display": null,
      "flex": null,
      "flex_flow": null,
      "grid_area": null,
      "grid_auto_columns": null,
      "grid_auto_flow": null,
      "grid_auto_rows": null,
      "grid_column": null,
      "grid_gap": null,
      "grid_row": null,
      "grid_template_areas": null,
      "grid_template_columns": null,
      "grid_template_rows": null,
      "height": null,
      "justify_content": null,
      "justify_items": null,
      "left": null,
      "margin": null,
      "max_height": null,
      "max_width": null,
      "min_height": null,
      "min_width": null,
      "object_fit": null,
      "object_position": null,
      "order": null,
      "overflow": null,
      "overflow_x": null,
      "overflow_y": null,
      "padding": null,
      "right": null,
      "top": null,
      "visibility": null,
      "width": null
     }
    },
    "db43b338d5e74f68b84fcd1e50146f0a": {
     "model_module": "@jupyter-widgets/controls",
     "model_module_version": "1.5.0",
     "model_name": "DescriptionStyleModel",
     "state": {
      "_model_module": "@jupyter-widgets/controls",
      "_model_module_version": "1.5.0",
      "_model_name": "DescriptionStyleModel",
      "_view_count": null,
      "_view_module": "@jupyter-widgets/base",
      "_view_module_version": "1.2.0",
      "_view_name": "StyleView",
      "description_width": ""
     }
    }
   }
  }
 },
 "nbformat": 4,
 "nbformat_minor": 0
}
