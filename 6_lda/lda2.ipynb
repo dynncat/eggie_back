{
 "cells": [
  {
   "cell_type": "code",
   "execution_count": null,
   "metadata": {
    "colab": {
     "base_uri": "https://localhost:8080/"
    },
    "executionInfo": {
     "elapsed": 1525,
     "status": "ok",
     "timestamp": 1746496490061,
     "user": {
      "displayName": "정유라",
      "userId": "07842653199036968776"
     },
     "user_tz": -540
    },
    "id": "viLP5Yp49ztL",
    "outputId": "dd12e393-557a-4e48-a80c-3adbc0422aad"
   },
   "outputs": [
    {
     "name": "stdout",
     "output_type": "stream",
     "text": [
      "Drive already mounted at /content/drive; to attempt to forcibly remount, call drive.mount(\"/content/drive\", force_remount=True).\n",
      "/content/drive/MyDrive/Colab Notebooks/dx\n"
     ]
    }
   ],
   "source": [
    "# 1. 코드 연동, 작업공간 변경\n",
    "from google.colab import drive\n",
    "drive.mount('/content/drive') # 연동하는 코드\n",
    "\n",
    "# 2. 아이콘 연동, 작업공간 변경\n",
    "%cd /content/drive/MyDrive/Colab Notebooks/dx"
   ]
  },
  {
   "cell_type": "markdown",
   "metadata": {
    "id": "zWdcvMdf-YY8"
   },
   "source": [
    "# Cluster 별 Action 분석\n",
    "**자신이 맡은 클러스터만 지정해주면 됨**\n",
    "\n",
    "* LDA 활용\n",
    "* Action Map\n"
   ]
  },
  {
   "cell_type": "code",
   "execution_count": 1,
   "metadata": {
    "id": "ij8qUR2G-CfN"
   },
   "outputs": [],
   "source": [
    "import pandas as pd\n",
    "from tqdm import tqdm\n",
    "import warnings\n",
    "warnings.filterwarnings('ignore')"
   ]
  },
  {
   "cell_type": "code",
   "execution_count": 2,
   "metadata": {
    "colab": {
     "base_uri": "https://localhost:8080/",
     "height": 851
    },
    "executionInfo": {
     "elapsed": 7914,
     "status": "ok",
     "timestamp": 1746496498622,
     "user": {
      "displayName": "정유라",
      "userId": "07842653199036968776"
     },
     "user_tz": -540
    },
    "id": "oke_zPGA-ChB",
    "outputId": "347317d7-799e-40f5-9d29-5dfaaf7a3941"
   },
   "outputs": [
    {
     "name": "stdout",
     "output_type": "stream",
     "text": [
      "(52891, 10)\n"
     ]
    },
    {
     "data": {
      "text/html": [
       "<div>\n",
       "<style scoped>\n",
       "    .dataframe tbody tr th:only-of-type {\n",
       "        vertical-align: middle;\n",
       "    }\n",
       "\n",
       "    .dataframe tbody tr th {\n",
       "        vertical-align: top;\n",
       "    }\n",
       "\n",
       "    .dataframe thead th {\n",
       "        text-align: right;\n",
       "    }\n",
       "</style>\n",
       "<table border=\"1\" class=\"dataframe\">\n",
       "  <thead>\n",
       "    <tr style=\"text-align: right;\">\n",
       "      <th></th>\n",
       "      <th>source</th>\n",
       "      <th>search_words</th>\n",
       "      <th>url</th>\n",
       "      <th>title</th>\n",
       "      <th>contents</th>\n",
       "      <th>tagged_contents</th>\n",
       "      <th>vector</th>\n",
       "      <th>umap_kmeans_cluster</th>\n",
       "      <th>2nd_cluster</th>\n",
       "      <th>3rd_cluster</th>\n",
       "    </tr>\n",
       "  </thead>\n",
       "  <tbody>\n",
       "    <tr>\n",
       "      <th>0</th>\n",
       "      <td>블로그</td>\n",
       "      <td>아기+잠깨</td>\n",
       "      <td>https://blog.naver.com/srhymin/223091161466</td>\n",
       "      <td>NaN</td>\n",
       "      <td>저희 아기는 신생아때부터 청각과 촉각이 예민해 잠도 깊게 못 잘 뿐더러 잠투정이 정...</td>\n",
       "      <td>['저희', '아기', '신생아', '때', '청각', '촉각', '잠도', '못'...</td>\n",
       "      <td>[ 0.18305127 -1.2801502  -0.44998685  0.799018...</td>\n",
       "      <td>4</td>\n",
       "      <td>2</td>\n",
       "      <td>4</td>\n",
       "    </tr>\n",
       "    <tr>\n",
       "      <th>1</th>\n",
       "      <td>블로그</td>\n",
       "      <td>아기+잠깨</td>\n",
       "      <td>https://blog.naver.com/sukm83/223091879514</td>\n",
       "      <td>NaN</td>\n",
       "      <td>정신없는 주방한켠 뒤죽박죽 알 수 없는 용기에 양념과 소스가 담겨져 있기에 주방이 ...</td>\n",
       "      <td>['정신', '방한', '뒤죽박죽', '알', '수', '용기', '양념', '소스...</td>\n",
       "      <td>[ 3.5914354e+00 -2.2061694e+00  1.5965343e+00 ...</td>\n",
       "      <td>1</td>\n",
       "      <td>3</td>\n",
       "      <td>1</td>\n",
       "    </tr>\n",
       "    <tr>\n",
       "      <th>2</th>\n",
       "      <td>블로그</td>\n",
       "      <td>아기+잠깨</td>\n",
       "      <td>https://blog.naver.com/dldptmf5134/223096875782</td>\n",
       "      <td>NaN</td>\n",
       "      <td>안녕하세요 지유맘입니다! 오늘은 지유가 이유식과 유아식 그 중간즈음 토핑식을 할 때...</td>\n",
       "      <td>['지유', '맘', '오늘', '지유', '이유식', '유아식', '그', '중간...</td>\n",
       "      <td>[ 3.4138811e-01 -5.3281033e-01 -1.3500248e+00 ...</td>\n",
       "      <td>1</td>\n",
       "      <td>3</td>\n",
       "      <td>2</td>\n",
       "    </tr>\n",
       "  </tbody>\n",
       "</table>\n",
       "</div>"
      ],
      "text/plain": [
       "  source search_words                                              url title  \\\n",
       "0    블로그        아기+잠깨      https://blog.naver.com/srhymin/223091161466   NaN   \n",
       "1    블로그        아기+잠깨       https://blog.naver.com/sukm83/223091879514   NaN   \n",
       "2    블로그        아기+잠깨  https://blog.naver.com/dldptmf5134/223096875782   NaN   \n",
       "\n",
       "                                            contents  \\\n",
       "0  저희 아기는 신생아때부터 청각과 촉각이 예민해 잠도 깊게 못 잘 뿐더러 잠투정이 정...   \n",
       "1  정신없는 주방한켠 뒤죽박죽 알 수 없는 용기에 양념과 소스가 담겨져 있기에 주방이 ...   \n",
       "2  안녕하세요 지유맘입니다! 오늘은 지유가 이유식과 유아식 그 중간즈음 토핑식을 할 때...   \n",
       "\n",
       "                                     tagged_contents  \\\n",
       "0  ['저희', '아기', '신생아', '때', '청각', '촉각', '잠도', '못'...   \n",
       "1  ['정신', '방한', '뒤죽박죽', '알', '수', '용기', '양념', '소스...   \n",
       "2  ['지유', '맘', '오늘', '지유', '이유식', '유아식', '그', '중간...   \n",
       "\n",
       "                                              vector  umap_kmeans_cluster  \\\n",
       "0  [ 0.18305127 -1.2801502  -0.44998685  0.799018...                    4   \n",
       "1  [ 3.5914354e+00 -2.2061694e+00  1.5965343e+00 ...                    1   \n",
       "2  [ 3.4138811e-01 -5.3281033e-01 -1.3500248e+00 ...                    1   \n",
       "\n",
       "   2nd_cluster  3rd_cluster  \n",
       "0            2            4  \n",
       "1            3            1  \n",
       "2            3            2  "
      ]
     },
     "execution_count": 2,
     "metadata": {},
     "output_type": "execute_result"
    }
   ],
   "source": [
    "df = pd.read_csv('./3rd_clustering_0512.csv', encoding='utf-8')\n",
    "\n",
    "print(df.shape)\n",
    "df.head(3)"
   ]
  },
  {
   "cell_type": "code",
   "execution_count": 3,
   "metadata": {
    "colab": {
     "base_uri": "https://localhost:8080/",
     "height": 429
    },
    "executionInfo": {
     "elapsed": 7,
     "status": "ok",
     "timestamp": 1746496367661,
     "user": {
      "displayName": "정유라",
      "userId": "07842653199036968776"
     },
     "user_tz": -540
    },
    "id": "Qyews8BstQpZ",
    "outputId": "46d6dc61-5fc4-4881-b0f0-492b4b6396d4"
   },
   "outputs": [
    {
     "data": {
      "text/plain": [
       "3rd_cluster\n",
       "0      983\n",
       "1     6272\n",
       "2     4681\n",
       "3    17219\n",
       "4    17011\n",
       "5     6725\n",
       "Name: count, dtype: int64"
      ]
     },
     "execution_count": 3,
     "metadata": {},
     "output_type": "execute_result"
    }
   ],
   "source": [
    "df['3rd_cluster'].value_counts().sort_index()"
   ]
  },
  {
   "cell_type": "markdown",
   "metadata": {
    "id": "leanCtk--CjL"
   },
   "source": [
    "## LDA 를 위한 전처리"
   ]
  },
  {
   "cell_type": "markdown",
   "metadata": {
    "id": "OdZBQVNVrjf8"
   },
   "source": [
    "#### gensim 설치\n",
    "Colab 노트북 상단에 반드시 한 번만 실행\n",
    "!pip install --quiet gensim==4.3.1\n",
    "\n",
    "!pip uninstall gensim\n",
    "!pip install gensim==3.4.0\n",
    "\n",
    "1) 기존 scipy 제거\n",
    "!pip uninstall -y scipy\n",
    "\n",
    "2) gensim이 필요로 하는 scipy 함수가 남아 있는 1.12.0 설치\n",
    "!pip install scipy==1.12.0"
   ]
  },
  {
   "cell_type": "code",
   "execution_count": null,
   "metadata": {
    "colab": {
     "base_uri": "https://localhost:8080/"
    },
    "executionInfo": {
     "elapsed": 10829,
     "status": "ok",
     "timestamp": 1746496378499,
     "user": {
      "displayName": "정유라",
      "userId": "07842653199036968776"
     },
     "user_tz": -540
    },
    "id": "FiRztm7cShw-",
    "outputId": "dcc6bb96-098c-4d08-ba38-47b4a056af4a"
   },
   "outputs": [],
   "source": [
    "!pip install gensim==3.4.0"
   ]
  },
  {
   "cell_type": "code",
   "execution_count": null,
   "metadata": {
    "colab": {
     "base_uri": "https://localhost:8080/"
    },
    "executionInfo": {
     "elapsed": 13386,
     "status": "ok",
     "timestamp": 1746496464213,
     "user": {
      "displayName": "정유라",
      "userId": "07842653199036968776"
     },
     "user_tz": -540
    },
    "id": "sLP0qErhTOk7",
    "outputId": "66d73581-b75e-443f-8e5b-f32055832c32"
   },
   "outputs": [],
   "source": [
    "!pip install scipy==1.12.0"
   ]
  },
  {
   "cell_type": "code",
   "execution_count": 3,
   "metadata": {
    "id": "Ue-ydiBlxkce"
   },
   "outputs": [],
   "source": [
    "import collections.abc, collections\n",
    "collections.Mapping = collections.abc.Mapping"
   ]
  },
  {
   "cell_type": "code",
   "execution_count": 4,
   "metadata": {
    "colab": {
     "base_uri": "https://localhost:8080/",
     "height": 834
    },
    "executionInfo": {
     "elapsed": 1375,
     "status": "ok",
     "timestamp": 1746496513271,
     "user": {
      "displayName": "정유라",
      "userId": "07842653199036968776"
     },
     "user_tz": -540
    },
    "id": "pY1fCZzq-ClZ",
    "outputId": "0efcaba1-eebe-4666-ac0d-13a410715a2b"
   },
   "outputs": [
    {
     "data": {
      "text/html": [
       "<div>\n",
       "<style scoped>\n",
       "    .dataframe tbody tr th:only-of-type {\n",
       "        vertical-align: middle;\n",
       "    }\n",
       "\n",
       "    .dataframe tbody tr th {\n",
       "        vertical-align: top;\n",
       "    }\n",
       "\n",
       "    .dataframe thead th {\n",
       "        text-align: right;\n",
       "    }\n",
       "</style>\n",
       "<table border=\"1\" class=\"dataframe\">\n",
       "  <thead>\n",
       "    <tr style=\"text-align: right;\">\n",
       "      <th></th>\n",
       "      <th>source</th>\n",
       "      <th>search_words</th>\n",
       "      <th>url</th>\n",
       "      <th>title</th>\n",
       "      <th>contents</th>\n",
       "      <th>tagged_contents</th>\n",
       "      <th>vector</th>\n",
       "      <th>umap_kmeans_cluster</th>\n",
       "      <th>2nd_cluster</th>\n",
       "      <th>3rd_cluster</th>\n",
       "    </tr>\n",
       "  </thead>\n",
       "  <tbody>\n",
       "    <tr>\n",
       "      <th>18</th>\n",
       "      <td>블로그</td>\n",
       "      <td>아기+잠깨</td>\n",
       "      <td>https://blog.naver.com/kittyhwang/223091454956</td>\n",
       "      <td>NaN</td>\n",
       "      <td>이젠 슬슬 여름 맞이 에어컨 청소도 하고 이불도 얇고 시원한걸로 바꾸고 냉매트 준비...</td>\n",
       "      <td>['젠', '슬슬', '여름', '맞이', '에어컨', '청소', '이불', '냉'...</td>\n",
       "      <td>[ 1.8605886  -2.3287573   0.3663352   0.120231...</td>\n",
       "      <td>5</td>\n",
       "      <td>1</td>\n",
       "      <td>5</td>\n",
       "    </tr>\n",
       "    <tr>\n",
       "      <th>26</th>\n",
       "      <td>블로그</td>\n",
       "      <td>아기+잠깨</td>\n",
       "      <td>https://blog.naver.com/junyeong0212/223090791914</td>\n",
       "      <td>NaN</td>\n",
       "      <td>아기가 정말 감사하게도 50일 경부터 통잠을 잤다. 밤에는 입면도 스스로 잘했다. ...</td>\n",
       "      <td>['아기', '정말', '경', '통잠', '밤', '입면', '스스로', '스와들...</td>\n",
       "      <td>[ 1.96671498e+00 -1.77841878e+00 -6.00637555e-...</td>\n",
       "      <td>5</td>\n",
       "      <td>5</td>\n",
       "      <td>5</td>\n",
       "    </tr>\n",
       "  </tbody>\n",
       "</table>\n",
       "</div>"
      ],
      "text/plain": [
       "   source search_words                                               url  \\\n",
       "18    블로그        아기+잠깨    https://blog.naver.com/kittyhwang/223091454956   \n",
       "26    블로그        아기+잠깨  https://blog.naver.com/junyeong0212/223090791914   \n",
       "\n",
       "   title                                           contents  \\\n",
       "18   NaN  이젠 슬슬 여름 맞이 에어컨 청소도 하고 이불도 얇고 시원한걸로 바꾸고 냉매트 준비...   \n",
       "26   NaN  아기가 정말 감사하게도 50일 경부터 통잠을 잤다. 밤에는 입면도 스스로 잘했다. ...   \n",
       "\n",
       "                                      tagged_contents  \\\n",
       "18  ['젠', '슬슬', '여름', '맞이', '에어컨', '청소', '이불', '냉'...   \n",
       "26  ['아기', '정말', '경', '통잠', '밤', '입면', '스스로', '스와들...   \n",
       "\n",
       "                                               vector  umap_kmeans_cluster  \\\n",
       "18  [ 1.8605886  -2.3287573   0.3663352   0.120231...                    5   \n",
       "26  [ 1.96671498e+00 -1.77841878e+00 -6.00637555e-...                    5   \n",
       "\n",
       "    2nd_cluster  3rd_cluster  \n",
       "18            1            5  \n",
       "26            5            5  "
      ]
     },
     "execution_count": 4,
     "metadata": {},
     "output_type": "execute_result"
    }
   ],
   "source": [
    "import gensim\n",
    "from gensim import corpora, models\n",
    "from gensim.corpora import Dictionary\n",
    "\n",
    "my_cluster = 5\n",
    "df_cluster = df[df['3rd_cluster'] == my_cluster]\n",
    "df_cluster.head(2)"
   ]
  },
  {
   "cell_type": "code",
   "execution_count": 5,
   "metadata": {},
   "outputs": [],
   "source": [
    "import ast"
   ]
  },
  {
   "cell_type": "code",
   "execution_count": 6,
   "metadata": {},
   "outputs": [],
   "source": [
    "# 문자열이 들어있는 경우만 literal_eval\n",
    "def to_list(x):\n",
    "    return ast.literal_eval(x) if isinstance(x, str) else x"
   ]
  },
  {
   "cell_type": "code",
   "execution_count": 7,
   "metadata": {
    "id": "VhVbFhlnULAb"
   },
   "outputs": [],
   "source": [
    "df_cluster['tagged_contents'] = df_cluster['tagged_contents'].apply(to_list)"
   ]
  },
  {
   "cell_type": "markdown",
   "metadata": {
    "id": "pRZB7tdnCcBP"
   },
   "source": [
    "### 전체 단어의 사전 만들고 각 문서에 매칭하기\n",
    "\n",
    "* 단일워드 또는 바이그램 또는 트라이그램 선택하기"
   ]
  },
  {
   "cell_type": "markdown",
   "metadata": {
    "id": "deHd9_IvydCf"
   },
   "source": [
    "##### 이번에는 사용 X 단일 워드 코드 #####\n",
    "\n",
    "all_documents = list(df_cluster['tagged_contents'])\n",
    "dictionary = Dictionary(all_documents)"
   ]
  },
  {
   "cell_type": "markdown",
   "metadata": {
    "id": "lOnFvkwgyl5v"
   },
   "source": [
    "##### 바이그램 코드 #####"
   ]
  },
  {
   "cell_type": "code",
   "execution_count": 8,
   "metadata": {},
   "outputs": [],
   "source": [
    "from nltk import bigrams, trigrams"
   ]
  },
  {
   "cell_type": "code",
   "execution_count": 9,
   "metadata": {
    "collapsed": true,
    "id": "RQ4JvvrnkO-P"
   },
   "outputs": [],
   "source": [
    "# bigrams 만들기\n",
    "all_documents = []\n",
    "\n",
    "for i in df_cluster['tagged_contents'] :\n",
    "    bi_r = list(bigrams(i))\n",
    "    bi_r = [' '.join(j) for j in bi_r]\n",
    "    all_documents.append(bi_r)\n",
    "\n",
    "dictionary = Dictionary(all_documents)"
   ]
  },
  {
   "cell_type": "code",
   "execution_count": 10,
   "metadata": {
    "executionInfo": {
     "elapsed": 637,
     "status": "ok",
     "timestamp": 1746497261901,
     "user": {
      "displayName": "정유라",
      "userId": "07842653199036968776"
     },
     "user_tz": -540
    },
    "id": "V3txXVy8-CnR"
   },
   "outputs": [],
   "source": [
    "# 딕셔너리랑 매칭된 단어 빈도 수\n",
    "corpus = []\n",
    "\n",
    "for doc in all_documents :\n",
    "    corpus.append(dictionary.doc2bow(doc))"
   ]
  },
  {
   "cell_type": "markdown",
   "metadata": {
    "id": "r7xFBf9Z-CpZ"
   },
   "source": [
    "## LDA 모델 만들기"
   ]
  },
  {
   "cell_type": "markdown",
   "metadata": {
    "id": "kCTp-NrvCcBR"
   },
   "source": [
    "### LDA 토픽개수 선정하기\n",
    "\n",
    "* coherence & perplexcity"
   ]
  },
  {
   "cell_type": "code",
   "execution_count": 11,
   "metadata": {
    "executionInfo": {
     "elapsed": 2,
     "status": "ok",
     "timestamp": 1746497266187,
     "user": {
      "displayName": "정유라",
      "userId": "07842653199036968776"
     },
     "user_tz": -540
    },
    "id": "khPubMf7fGFW"
   },
   "outputs": [],
   "source": [
    "from gensim.models import CoherenceModel\n",
    "import matplotlib.pyplot as plt\n",
    "import numpy as np\n",
    "from tqdm.notebook import tqdm"
   ]
  },
  {
   "cell_type": "markdown",
   "metadata": {
    "id": "0jaWXOXECcBR"
   },
   "source": [
    "> Perplexity 그래프 만들기"
   ]
  },
  {
   "cell_type": "code",
   "execution_count": 12,
   "metadata": {
    "colab": {
     "base_uri": "https://localhost:8080/",
     "height": 49,
     "referenced_widgets": [
      "004423da1d9a41208c6474a32da77aae",
      "a1b9c82f6c224a9d85316c957426e21c",
      "d793022c0165425e939fcd779bdebd2a",
      "000e7c1944734ec7a3d15645eb841b7a",
      "256c365511ab406b87acf85a65473edf",
      "d56f07f203c641c38c98a7d97275c1db",
      "db43b338d5e74f68b84fcd1e50146f0a",
      "4ca017edc5b34cbfb22e3c440e5a42d0",
      "51dcda1e24b247c59ca10c2b8de8ebda",
      "7e148ef370a44426a1cd0688ac1486b5",
      "b3a5e99a3c504f179edb6c359c52da3e"
     ]
    },
    "executionInfo": {
     "elapsed": 1513486,
     "status": "ok",
     "timestamp": 1746498781171,
     "user": {
      "displayName": "정유라",
      "userId": "07842653199036968776"
     },
     "user_tz": -540
    },
    "id": "F2uJ82NQfGFW",
    "outputId": "56b32f6b-1d19-437a-9749-ca2ddb39201b"
   },
   "outputs": [
    {
     "data": {
      "application/vnd.jupyter.widget-view+json": {
       "model_id": "b812d15568354f619ad56f3840033b06",
       "version_major": 2,
       "version_minor": 0
      },
      "text/plain": [
       "  0%|          | 0/12 [00:00<?, ?it/s]"
      ]
     },
     "metadata": {},
     "output_type": "display_data"
    }
   ],
   "source": [
    "Perplexity_values = []\n",
    "\n",
    "for i in tqdm(range(2, 14)) :\n",
    "    ldamodel = gensim.models.ldamodel.LdaModel(corpus, num_topics = i, id2word = dictionary,\n",
    "                                               passes = 10,\n",
    "                                               iterations = 50)\n",
    "    p_v = ldamodel.log_perplexity(corpus)\n",
    "    Perplexity_values.append(p_v)"
   ]
  },
  {
   "cell_type": "code",
   "execution_count": 13,
   "metadata": {
    "colab": {
     "base_uri": "https://localhost:8080/",
     "height": 449
    },
    "executionInfo": {
     "elapsed": 211,
     "status": "ok",
     "timestamp": 1746498781379,
     "user": {
      "displayName": "정유라",
      "userId": "07842653199036968776"
     },
     "user_tz": -540
    },
    "id": "KuEUOrfMnwF9",
    "outputId": "4f47765b-50c2-48dd-e8aa-13c0ac719248"
   },
   "outputs": [
    {
     "data": {
      "image/png": "[encoded data removed]",
      "text/plain": [
       "<Figure size 640x480 with 1 Axes>"
      ]
     },
     "metadata": {},
     "output_type": "display_data"
    }
   ],
   "source": [
    "x = range(2, 14)\n",
    "plt.plot(x, Perplexity_values)\n",
    "plt.xlabel('number of topics')\n",
    "plt.ylabel('Perplexity score')\n",
    "plt.show()"
   ]
  },
  {
   "cell_type": "markdown",
   "metadata": {
    "id": "CHXlSqw_CcBS"
   },
   "source": [
    "> Cohearence 그래프 만들기"
   ]
  },
  {
   "cell_type": "code",
   "execution_count": 14,
   "metadata": {
    "colab": {
     "base_uri": "https://localhost:8080/",
     "height": 49,
     "referenced_widgets": [
      "497e9c597d5647fba626bc58b065ffe5",
      "c86330cbd93e48f6a14e3a09dad3967d",
      "9bd1b04d9c7145f9becc51d9ce1438b3",
      "8b68bd1d9c5049b3bd63187d2215448c",
      "49ebb4979609441ea9c17948bb0d5ba7",
      "05a83d43789a4879a29f77172c514061",
      "b929fb34681148369b7f6aafa06d83f3",
      "d8fafd83c54141709628f4f2a046169f",
      "c6eb16a9a35842318eb46b63c2bfc104",
      "8e9a44cb3a7045ae8d22b2e7bdf1231c",
      "d2d0f2f19e7d44c6a607142bf1c5146e"
     ]
    },
    "executionInfo": {
     "elapsed": 1460574,
     "status": "ok",
     "timestamp": 1746500241952,
     "user": {
      "displayName": "정유라",
      "userId": "07842653199036968776"
     },
     "user_tz": -540
    },
    "id": "2WzfeHH9fGFW",
    "outputId": "f2ba5460-ecad-4dee-81e7-5d8851ab11dc"
   },
   "outputs": [
    {
     "data": {
      "application/vnd.jupyter.widget-view+json": {
       "model_id": "b25f9c5f941e44539948dec151023432",
       "version_major": 2,
       "version_minor": 0
      },
      "text/plain": [
       "  0%|          | 0/12 [00:00<?, ?it/s]"
      ]
     },
     "metadata": {},
     "output_type": "display_data"
    }
   ],
   "source": [
    "Coherence_values = []\n",
    "\n",
    "for i in tqdm(range(2, 14)) :\n",
    "    ldamodel = gensim.models.ldamodel.LdaModel(corpus, num_topics = i, id2word = dictionary,\n",
    "                                               passes = 10,\n",
    "                                               iterations = 100)\n",
    "    co_model = CoherenceModel(model = ldamodel, texts = all_documents, dictionary = dictionary, topn = 10)\n",
    "    c_v = co_model.get_coherence()\n",
    "    Coherence_values.append(c_v)"
   ]
  },
  {
   "cell_type": "code",
   "execution_count": 15,
   "metadata": {
    "colab": {
     "base_uri": "https://localhost:8080/",
     "height": 449
    },
    "executionInfo": {
     "elapsed": 122,
     "status": "ok",
     "timestamp": 1746500242072,
     "user": {
      "displayName": "정유라",
      "userId": "07842653199036968776"
     },
     "user_tz": -540
    },
    "id": "0AGFgKPpfGFW",
    "outputId": "8b61e5f6-d7d7-41ba-edb8-6807660e5e41"
   },
   "outputs": [
    {
     "data": {
      "image/png": "[encoded data removed]",
      "text/plain": [
       "<Figure size 640x480 with 1 Axes>"
      ]
     },
     "metadata": {},
     "output_type": "display_data"
    }
   ],
   "source": [
    "x = range(2, 14)\n",
    "plt.plot(x, Coherence_values)\n",
    "plt.xlabel('number of topics')\n",
    "plt.ylabel('Coherence score')\n",
    "plt.show()"
   ]
  },
  {
   "cell_type": "markdown",
   "metadata": {
    "id": "ph7fcoMcCcBS"
   },
   "source": [
    "### 선정한 토픽 개수로 Action 넘버 매칭"
   ]
  },
  {
   "cell_type": "code",
   "execution_count": 16,
   "metadata": {
    "executionInfo": {
     "elapsed": 104595,
     "status": "ok",
     "timestamp": 1746500452375,
     "user": {
      "displayName": "정유라",
      "userId": "07842653199036968776"
     },
     "user_tz": -540
    },
    "id": "LHchIfU9fGFW"
   },
   "outputs": [],
   "source": [
    "number_topic = 10 # 선정된 최적의 토픽 수\n",
    "ldamodel = gensim.models.ldamodel.LdaModel(corpus, num_topics = number_topic, id2word = dictionary,\n",
    "                                           passes = 10,\n",
    "                                           iterations = 100)"
   ]
  },
  {
   "cell_type": "code",
   "execution_count": 17,
   "metadata": {
    "colab": {
     "base_uri": "https://localhost:8080/",
     "height": 819
    },
    "collapsed": true,
    "executionInfo": {
     "elapsed": 2543,
     "status": "ok",
     "timestamp": 1746500935705,
     "user": {
      "displayName": "정유라",
      "userId": "07842653199036968776"
     },
     "user_tz": -540
    },
    "id": "azJNSMa4q58T",
    "outputId": "da5b9f63-dc35-4b15-c3e9-8811fa51bd47"
   },
   "outputs": [
    {
     "data": {
      "text/html": [
       "<div>\n",
       "<style scoped>\n",
       "    .dataframe tbody tr th:only-of-type {\n",
       "        vertical-align: middle;\n",
       "    }\n",
       "\n",
       "    .dataframe tbody tr th {\n",
       "        vertical-align: top;\n",
       "    }\n",
       "\n",
       "    .dataframe thead th {\n",
       "        text-align: right;\n",
       "    }\n",
       "</style>\n",
       "<table border=\"1\" class=\"dataframe\">\n",
       "  <thead>\n",
       "    <tr style=\"text-align: right;\">\n",
       "      <th></th>\n",
       "      <th>source</th>\n",
       "      <th>search_words</th>\n",
       "      <th>url</th>\n",
       "      <th>title</th>\n",
       "      <th>contents</th>\n",
       "      <th>tagged_contents</th>\n",
       "      <th>vector</th>\n",
       "      <th>umap_kmeans_cluster</th>\n",
       "      <th>2nd_cluster</th>\n",
       "      <th>3rd_cluster</th>\n",
       "      <th>action_cluster</th>\n",
       "    </tr>\n",
       "  </thead>\n",
       "  <tbody>\n",
       "    <tr>\n",
       "      <th>18</th>\n",
       "      <td>블로그</td>\n",
       "      <td>아기+잠깨</td>\n",
       "      <td>https://blog.naver.com/kittyhwang/223091454956</td>\n",
       "      <td>NaN</td>\n",
       "      <td>이젠 슬슬 여름 맞이 에어컨 청소도 하고 이불도 얇고 시원한걸로 바꾸고 냉매트 준비...</td>\n",
       "      <td>[젠, 슬슬, 여름, 맞이, 에어컨, 청소, 이불, 냉, 매트, 준비, 시기, 잠,...</td>\n",
       "      <td>[ 1.8605886  -2.3287573   0.3663352   0.120231...</td>\n",
       "      <td>5</td>\n",
       "      <td>1</td>\n",
       "      <td>5</td>\n",
       "      <td>5</td>\n",
       "    </tr>\n",
       "    <tr>\n",
       "      <th>26</th>\n",
       "      <td>블로그</td>\n",
       "      <td>아기+잠깨</td>\n",
       "      <td>https://blog.naver.com/junyeong0212/223090791914</td>\n",
       "      <td>NaN</td>\n",
       "      <td>아기가 정말 감사하게도 50일 경부터 통잠을 잤다. 밤에는 입면도 스스로 잘했다. ...</td>\n",
       "      <td>[아기, 정말, 경, 통잠, 밤, 입면, 스스로, 스와들업, 침대, 눕힌, 후, 인...</td>\n",
       "      <td>[ 1.96671498e+00 -1.77841878e+00 -6.00637555e-...</td>\n",
       "      <td>5</td>\n",
       "      <td>5</td>\n",
       "      <td>5</td>\n",
       "      <td>7</td>\n",
       "    </tr>\n",
       "  </tbody>\n",
       "</table>\n",
       "</div>"
      ],
      "text/plain": [
       "   source search_words                                               url  \\\n",
       "18    블로그        아기+잠깨    https://blog.naver.com/kittyhwang/223091454956   \n",
       "26    블로그        아기+잠깨  https://blog.naver.com/junyeong0212/223090791914   \n",
       "\n",
       "   title                                           contents  \\\n",
       "18   NaN  이젠 슬슬 여름 맞이 에어컨 청소도 하고 이불도 얇고 시원한걸로 바꾸고 냉매트 준비...   \n",
       "26   NaN  아기가 정말 감사하게도 50일 경부터 통잠을 잤다. 밤에는 입면도 스스로 잘했다. ...   \n",
       "\n",
       "                                      tagged_contents  \\\n",
       "18  [젠, 슬슬, 여름, 맞이, 에어컨, 청소, 이불, 냉, 매트, 준비, 시기, 잠,...   \n",
       "26  [아기, 정말, 경, 통잠, 밤, 입면, 스스로, 스와들업, 침대, 눕힌, 후, 인...   \n",
       "\n",
       "                                               vector  umap_kmeans_cluster  \\\n",
       "18  [ 1.8605886  -2.3287573   0.3663352   0.120231...                    5   \n",
       "26  [ 1.96671498e+00 -1.77841878e+00 -6.00637555e-...                    5   \n",
       "\n",
       "    2nd_cluster  3rd_cluster  action_cluster  \n",
       "18            1            5               5  \n",
       "26            5            5               7  "
      ]
     },
     "execution_count": 17,
     "metadata": {},
     "output_type": "execute_result"
    }
   ],
   "source": [
    "action_align = []\n",
    "\n",
    "for doc in ldamodel.get_document_topics(corpus) :\n",
    "    topic = []\n",
    "    value = []\n",
    "    for i in doc :\n",
    "        topic.append(i[0])\n",
    "        value.append(i[1])\n",
    "\n",
    "    action_align.append(topic[np.argmax(value)])\n",
    "\n",
    "\n",
    "df_cluster['action_cluster'] = action_align\n",
    "df_cluster.head(2)"
   ]
  },
  {
   "cell_type": "markdown",
   "metadata": {
    "id": "xo1CR0vv-Cra"
   },
   "source": [
    "## LDA 시각화하기\n",
    "\n",
    "* LDAvis"
   ]
  },
  {
   "cell_type": "code",
   "execution_count": null,
   "metadata": {
    "colab": {
     "base_uri": "https://localhost:8080/"
    },
    "collapsed": true,
    "executionInfo": {
     "elapsed": 5285,
     "status": "ok",
     "timestamp": 1746500461455,
     "user": {
      "displayName": "정유라",
      "userId": "07842653199036968776"
     },
     "user_tz": -540
    },
    "id": "uTtkElaj_0T_",
    "outputId": "f606c8f4-3327-4fa5-ca32-3b727f49b108"
   },
   "outputs": [],
   "source": [
    "!pip install pyLDAvis"
   ]
  },
  {
   "cell_type": "code",
   "execution_count": 18,
   "metadata": {},
   "outputs": [],
   "source": [
    "import pyLDAvis.gensim as gensimvis\n",
    "import pyLDAvis"
   ]
  },
  {
   "cell_type": "code",
   "execution_count": 19,
   "metadata": {
    "colab": {
     "base_uri": "https://localhost:8080/",
     "height": 861
    },
    "executionInfo": {
     "elapsed": 14133,
     "status": "ok",
     "timestamp": 1746500954115,
     "user": {
      "displayName": "정유라",
      "userId": "07842653199036968776"
     },
     "user_tz": -540
    },
    "id": "7cJlCqx3_0WK",
    "outputId": "872973b0-4837-4c03-f075-9a38ef651731"
   },
   "outputs": [
    {
     "data": {
      "text/html": [
       "\n",
       "<link rel=\"stylesheet\" type=\"text/css\" href=\"https://cdn.jsdelivr.net/gh/bmabey/pyLDAvis@3.4.0/pyLDAvis/js/ldavis.v1.0.0.css\">\n",
       "\n",
       "\n",
       "<div id=\"ldavis_el8996971417013604215362838\" style=\"background-color:white;\"></div>\n",
       "<script type=\"text/javascript\">\n",
       "\n",
       "var ldavis_el8996971417013604215362838_data = {\"mdsDat\": {\"x\": [-0.3324854894441151, -0.1603226836965864, -0.09645947237617601, 0.03774411276441887, 0.05196786043732903, 0.07254129955439115, 0.1045202313764324, 0.10305602436232847, 0.10830282206791576, 0.11113529495406219], \"y\": [0.17241498085003937, -0.2522317318568084, -0.06862701181389536, -0.01234134993598239, 0.09483434850400478, 0.03596205328433422, 0.00969639291801255, 0.006231666493365762, 0.007868688516885637, 0.006191963040043944], \"topics\": [1, 2, 3, 4, 5, 6, 7, 8, 9, 10], \"cluster\": [1, 1, 1, 1, 1, 1, 1, 1, 1, 1], \"Freq\": [56.5432152640818, 13.756473920047164, 10.336669691154093, 5.2296960045031895, 4.372687658297432, 3.9559285224110563, 1.826144270312565, 1.526888487465325, 1.3445018443391177, 1.1077943373882702]}, \"tinfo\": {\"Term\": [\"\\ub0ae\\uc7a0 \\uc774\\ubd88\", \"\\ub3c4 \\ub178\\ub3c4\", \"\\uba38 \\ucfe8\\ucfe8\", \"\\ucfe8 \\ub9e4\\ud2b8\", \"\\ub178\\ub3c4 \\ub178\", \"\\uc5b4\\ub9b0\\uc774\\uc9d1 \\ub0ae\\uc7a0\", \"\\uc544\\uae30 \\ubca0\\uac1c\", \"\\uac00\\ub4dc \\ud0a4\\uc988\", \"\\ubaa8\\ub85c \\ubc18\\uc0ac\", \"\\ud0a4\\uc988 \\uc544\\uae30\", \"\\ud338 \\ud37c\\uc2a4\", \"\\uc774\\ubd88 \\uc138\\ud2b8\", \"\\ud544 \\ub85c\\uc6b0\", \"\\ub178 \\ub0ae\\uc7a0\", \"\\ubc14\\ub514 \\ud544\", \"\\uc544\\uae30 \\ucfe8\", \"\\ucd9c\\uc0b0 \\uc120\\ubb3c\", \"\\uc544\\uae30 \\ube14\\ub7ad\\ud0b7\", \"\\ucc28\\ub835 \\uc774\\ubd88\", \"\\ubc00\\ub85c \\uc564\", \"\\uc564 \\uac1c\\ube44\", \"\\uc5ec\\ub984 \\uc774\\ubd88\", \"\\uc544\\ub9ac \\ubca0\\ubca0\", \"\\ubb34 \\ubb34\\uc288\", \"\\uc544\\uae30 \\uc774\\ubd88\", \"\\uc591\\uba74 \\ub0ae\\uc7a0\", \"\\uc5d0\\uc5b4 \\ucc28\\ucc28\", \"\\ud1b5\\uc7a0 \\ud32c\\ud2f0\", \"\\ub450\\uc0c1 \\ubca0\\uac1c\", \"\\uc77c\\uccb4 \\ub0ae\\uc7a0\", \"\\uc5b4\\ub9b0\\uc774\\uc9d1 \\uc900\\ube44\\ubb3c\", \"\\uc785\\uc18c \\uc900\\ube44\\ubb3c\", \"\\ub808\\uc6b0 \\ud1a0\", \"\\uacbd\\ucd94 \\ubca0\\uac1c\", \"\\uc774\\ubd88 \\uac00\\ubc29\", \"\\ubca0\\uac1c \\uc77c\\uccb4\", \"\\ube14 \\ub0ae\\uc7a0\", \"\\uc544\\uae30 \\uc5b4\\ub9b0\\uc774\\uc9d1\", \"\\ubc29\\uc218 \\uac00\\ubc29\", \"\\uc694\\ucf54 \\ubca0\\uc774\\ube44\", \"\\uc138\\ud2b8 \\uc5b4\\ub9b0\\uc774\\uc9d1\", \"\\uc774\\ubd88 \\uc138\\ud2b8\", \"\\ud0b7 \\uacbd\\ucd94\", \"\\uc0dd\\ud06c\\ub9bc \\ub2ec\", \"\\uc544\\uae30 \\uc720\\uc544\", \"\\uac00\\ubc29 \\uc138\\ud2b8\", \"\\ud1a0 \\ud1a0\\ud37c\\ud615\", \"\\ud3ec \\uc2dc\\uc98c\", \"\\uc218 \\uc5b4\\ub9b0\\uc774\\uc9d1\", \"\\ud544\\uc218 \\uc900\\ube44\\ubb3c\", \"\\uc774\\ub984 \\ud45c\", \"\\uc774\\ubd88 \\uc900\\ube44\", \"\\uc900\\ube44\\ubb3c \\uc5b4\\ub9b0\\uc774\\uc9d1\", \"\\uc900\\ube44\\ubb3c \\uc911\", \"\\uc77c\\uccb4 \\uc5b4\\ub9b0\\uc774\\uc9d1\", \"\\uc544\\uc774 \\uc5b4\\ub9b0\\uc774\\uc9d1\", \"\\ubca0\\ubca0 \\ubca0\\uc774\\ube44\", \"\\ubca0\\uc774\\ube44 \\ub0ae\\uc7a0\", \"\\ubc24\\ubd80 \\ubca0\\ubca0\", \"\\uac83 \\uc5b4\\ub9b0\\uc774\\uc9d1\", \"\\ub0ae\\uc7a0 \\uc774\\ubd88\", \"\\uc5b4\\ub9b0\\uc774\\uc9d1 \\ub0ae\\uc7a0\", \"\\uc77c\\uccb4 \\ub0ae\\uc7a0\", \"\\uc5b4\\ub9b0\\uc774\\uc9d1 \\uc785\\uc18c\", \"\\ub0ae\\uc7a0 \\ud328\\ub4dc\", \"\\uc774\\ubd88 \\ud328\\ub4dc\", \"\\ud328\\ub4dc \\uc774\\ubd88\", \"\\uc774\\ubd88 \\ubca0\\uac1c\", \"\\ub9ac\\ubc84\\uc2dc \\ube14\", \"\\ub77c\\ube44 \\ud0b7\", \"\\uc774\\ubd88 \\uc120\\ud0dd\", \"\\uc774\\ubd88 \\ud3ec\\ubabd\\ub4dc\", \"\\uc544\\uae30 \\uce68\\uad6c\", \"\\ubca0\\uac1c \\ud328\\ub4dc\", \"\\uc774\\ubd88 \\ucd94\\ucc9c\", \"\\uc774\\ubd88 \\uc5b4\\ub9b0\\uc774\\uc9d1\", \"\\uc544\\uae30 \\ub0ae\\uc7a0\", \"\\uc774\\ubd88 \\ub0ae\\uc7a0\", \"\\uc774\\ubd88 \\uc77c\\uccb4\", \"\\uc544\\uc774 \\ub0ae\\uc7a0\", \"\\ubca0\\uac1c \\uc19c\", \"\\ud328\\ub4dc \\ubca0\\uac1c\", \"\\uc900\\ube44\\ubb3c \\ub0ae\\uc7a0\", \"\\uc6b0\\ub9ac \\uc544\\uc774\", \"\\uc544\\uae30 \\uc774\\ubd88\", \"\\ubb34 \\ubb34\\uc288\", \"\\uc0ac\\uc6a9 \\uc218\", \"\\uc774\\ubd88 \\uc544\\uae30\", \"\\uc0ac\\uacc4\\uc808 \\ub0b4\\ub0b4\", \"\\uc774\\ubd88 \\uc0ac\\uc6a9\", \"\\ub0ae\\uc7a0 \\uc2dc\\uac04\", \"\\uc7ac\\uc0dd \\uc811\\uae30\", \"\\uba38 \\ucfe8\\ucfe8\", \"\\uac00\\ub4dc \\ud0a4\\uc988\", \"\\ud0a4\\uc988 \\uc544\\uae30\", \"\\ucfe8\\ucfe8 \\ubca0\\ub4dc\", \"\\uc544\\uae30 \\ucd9c\\uc0b0\", \"\\ubc18\\uc0ac \\uc774\\ubd88\", \"\\uc9f1\\uad6c \\ub450\\uc0c1\", \"\\uc2e0\\uc0dd\\uc544 \\uc9f1\\uad6c\", \"\\ud0dc\\uc5f4 \\ubaa8\\ub85c\", \"\\ub85c\\uc6b0 \\uc720\\uc544\", \"\\uc720\\uc544 \\ud0dc\\uc5f4\", \"\\ubc18\\uc0ac \\ubc29\\uc9c0\", \"\\uc120\\ubb3c \\uac00\\ub4dc\", \"\\ubbf9\\uc2a4 \\ubcfc\", \"\\ud488 \\uc544\\uae30\", \"\\uba38 \\ucfe8\", \"\\ubca0\\ub4dc \\uba38\", \"\\ucfe8\\ucfe8 \\uc62c\\uc778\\uc6d0\", \"\\ubc40\\ubd80 \\uba54\\uc26c\", \"\\ud0a4\\uc988 \\uc5c4\\ub9c8\", \"\\ud0a4\\uc988 \\ubcf8\\uc0ac\", \"\\ubcf8\\uc0ac \\uac00\\ub4dc\", \"\\uc774\\ubd88 \\uba38\", \"\\ubca0\\uac1c \\ubaa8\\ub85c\", \"\\ub4f1 \\uc13c\\uc11c\", \"\\ubca0\\uac1c \\uac00\\ub4dc\", \"\\ud15c \\uba38\", \"\\ub450\\uc0c1 \\uad50\\uc815\", \"\\ucfe8\\ucfe8 \\uc0ac\\uc6a9\", \"\\uc606\\uc7a0 \\ubca0\\uac1c\", \"\\ubaa8\\ub85c \\ubc18\\uc0ac\", \"\\ub450\\uc0c1 \\ubca0\\uac1c\", \"\\uc544\\uae30 \\uc606\", \"\\ubca0\\uac1c \\ubc14\\ub514\", \"\\ubc18\\uc0ac \\uc544\\uae30\", \"\\ubca0\\uac1c \\uc2e0\\uc0dd\\uc544\", \"\\uc544\\uae30 \\ubca0\\uac1c\", \"\\uac1c\\uc6d4 \\uac1c\\uc6d4\", \"\\ucd9c\\uc0b0 \\uc120\\ubb3c\", \"\\ud544 \\ub85c\\uc6b0\", \"\\uc5c4\\ub9c8 \\ud488\", \"\\ubc14\\ub514 \\ud544\", \"\\uc606 \\ubca0\\uac1c\", \"\\uc721\\uc544 \\ud15c\", \"\\ucda9\\uc804 \\uc7ac\", \"\\ubca0\\uac1c \\uc544\\uae30\", \"\\ubca0\\uac1c \\uc0ac\\uc6a9\", \"\\uc0ac\\uc6a9 \\uc218\", \"\\ubc00\\ub85c \\uc564\", \"\\uc564 \\uac1c\\ube44\", \"\\uc544\\uae30 \\ucfe8\", \"\\ubaa8\\ubaa8 \\ubca0\\uac1c\", \"\\uac1c\\ube44 \\ub0ae\\uc7a0\", \"\\ubabd\\uc288\\ub808 \\ubc14\\uc774\\uc624\", \"\\uc2e0\\uc0dd\\uc544 \\ucfe8\", \"\\ub9e4\\ud2b8 \\ucd94\\ucc9c\", \"\\ub9ac\\ud2c0 \\ub77c\\uc774\\ud504\", \"\\ucfe8 \\uc5d0\\uc5b4\", \"\\uc058\\ub760 \\uc5d8\\ub9b0\", \"\\ub9e4\\ud2b8 \\ucfe8\", \"\\uce68\\ub300 \\ucfe8\", \"\\uc5d0\\uc5b4\\ucee8 \\ub9e4\\ud2b8\", \"\\ub0c9\\uac10 \\ub9e4\\ud2b8\", \"\\uc774\\ubd88 \\ubc00\\ub85c\", \"\\ub204\\uc7a0 \\ucfe8\", \"\\uad6c\\ub984 \\ucf54\\ud2bc\", \"\\uc5ec\\ub984 \\ub9e4\\ud2b8\", \"\\ub9e4\\ud2b8 \\uc2e0\\uc0dd\\uc544\", \"\\uc548\\ud2f0 \\ubc84\\uadf8\", \"\\ub85c \\ucfe8\", \"\\ub9e4\\ud2b8 \\uc7ac\\uc0dd\", \"\\uc720\\uc544 \\ucfe8\", \"\\ub0c9\\uac10 \\ubca0\\uac1c\", \"\\uadf8\\ub9b0\\ud2f0 \\ub2ec\", \"\\ubc14\\uc774\\uc624 \\uc5d0\\uc5b4\\ucee8\", \"\\uc5ec\\ub984 \\ud544\\uc218\", \"\\ub860\\ucfe8 \\ub9e4\\ud2b8\", \"\\ub9e4\\ud2b8 \\ub0c9\\uac10\", \"\\uc774\\ubabd \\ubaa8\\ubaa8\", \"\\ucfe8 \\ub9e4\\ud2b8\", \"\\ud0dc\\uc5f4 \\ubca0\\uac1c\", \"\\ub0c9\\uac10 \\ud328\\ub4dc\", \"\\ub9e4\\ud2b8 \\uc5ec\\ub984\", \"\\uc5ec\\ub984 \\ucfe8\", \"\\ub4c0\\ub77c\\ub860 \\ucfe8\", \"\\uc544\\uae30 \\uc5ec\\ub984\", \"\\ub9e4\\ud2b8 \\uc544\\uae30\", \"\\ub0c9\\uac10 \\uc774\\ubd88\", \"\\uc544\\uae30 \\ub0c9\\uac10\", \"\\uc5d8 \\ub77c\\ubc14\", \"\\uc5ec\\ub984 \\uc774\\ubd88\", \"\\uc720\\uc544 \\ubca0\\uac1c\", \"\\ucfe8 \\ud328\\ub4dc\", \"\\ub4c0\\ub77c\\ub860 \\ub0c9\\uac10\", \"\\ub9e4\\ud2b8 \\uc0ac\\uc6a9\", \"\\uc288\\ud37c \\uc2f1\\uae00\", \"\\uc544\\uae30 \\uce68\\ub300\", \"\\uc544\\uae30 \\ubc14\\ub514\", \"\\uc2e0\\uc0dd\\uc544 \\ud0dc\\uc5f4\", \"\\ud544 \\ub85c\\uc6b0\", \"\\ubc14\\ub514 \\ud544\", \"\\ud1b5 \\uae30\\uc131\", \"\\uc0ac\\uc6a9 \\uc218\", \"\\ubca0\\uac1c \\ucee4\\ubc84\", \"\\ubca0\\uac1c \\uc544\\uae30\", \"\\uce68\\ub300 \\ud328\\ub4dc\", \"\\uc544\\uae30 \\ubca0\\uac1c\", \"\\uc5ec\\ub984 \\uc544\\uae30\", \"\\ud338 \\ud37c\\uc2a4\", \"\\uc5d0\\uc5b4 \\ucc28\\ucc28\", \"\\ud1b5\\uc7a0 \\ud32c\\ud2f0\", \"\\ubc40\\ubd80 \\ucf54\\ud2bc\", \"\\uc378\\uba38 \\ud32c\\ud2f0\", \"\\ucc28\\ucc28 \\uc378\\uba38\", \"\\ubca8\\ubabd \\ubc40\\ubd80\", \"\\ud37c\\uc2a4 \\uc5d0\\uc5b4\", \"\\ud37c\\uc2a4 \\ud1b5\\uc7a0\", \"\\ubc24 \\uae30\\uc800\\uadc0\", \"\\uc5ec\\ub984 \\uae30\\uc800\\uadc0\", \"\\ud32c\\ud2f0 \\uae30\\uc800\\uadc0\", \"\\uae30\\uc800\\uadc0 \\ud338\", \"\\uc2e4\\ud5d8 \\uacb0\\uacfc\", \"\\ub0b4\\ubd80 \\uc2e4\\ud5d8\", \"\\ubca8\\ubabd \\ube14\\ub7ad\\ud0b7\", \"\\ud5c8\\ub9ac \\ubc34\\ub4dc\", \"\\ud37c\\uc2a4 \\uae30\\uc800\\uadc0\", \"\\uc720\\ubaa8\\ucc28 \\ub2f4\\uc694\", \"\\ud0d1 \\uc2dc\\ud2b8\", \"\\ucf54\\ud2bc \\uc2a4\\uc640\\ub4e4\", \"\\uc0d8 \\ubc29\\uc9c0\", \"\\ud37c\\uc2a4 \\uc5ec\\ub984\", \"\\ud32c\\ud2f0 \\ud338\", \"\\ubca0\\uc774\\ube44 \\ub4dc\\ub77c\\uc774\", \"\\ub0ae\\ubc24 \\uae30\\uc800\\uadc0\", \"\\ubca8\\ubabd \\uc544\\uae30\", \"\\uc2f8\\uac1c \\uc2e0\\uc0dd\\uc544\", \"\\ub2e4\\ub9ac \\ubc34\\ub4dc\", \"\\ud37c\\uc2a4 \\uacf5\\uc2dd\", \"\\ud587\\ube5b \\uac00\\ub9ac\\uac1c\", \"\\uc720\\ubaa8\\ucc28 \\ud587\\ube5b\", \"\\uc2e0\\uc0dd\\uc544 \\ube14\\ub7ad\\ud0b7\", \"\\ud1a0\\ud1a0 \\ubca8\\ubabd\", \"\\uc2e0\\uc0dd\\uc544 \\uc2f8\\uac1c\", \"\\uc544\\uae30 \\ube14\\ub7ad\\ud0b7\", \"\\uc544\\uae30 \\uc2f8\\uac1c\", \"\\ud1b5 \\uae30\\uc131\", \"\\ud53c\\ubd80 \\uc790\\uadf9\", \"\\ube14\\ub7ad\\ud0b7 \\uc544\\uae30\", \"\\uc544\\uae30 \\uc774\\ubd88\", \"\\uc544\\uae30 \\ud53c\\ubd80\", \"\\ubb34\\ud615 \\uad11\", \"\\ub3c4 \\ub178\\ub3c4\", \"\\ub178\\ub3c4 \\ub178\", \"\\ub178 \\ub0ae\\uc7a0\", \"\\ub178 \\uc0ac\\uacc4\\uc808\", \"\\uc704\\ud2c0 \\uc2a4\\ud1a0\\uc5b4\", \"\\ubaa8\\ub358 \\ud558\\uc6b0\\uc2a4\", \"\\ub354\\ube14 \\uba54\\uc26c\", \"\\uc0ac\\uc6a9 \\ub3c4\", \"\\ub178 \\uc5b4\\ub9b0\\uc774\\uc9d1\", \"\\uad6c\\ub984 \\ub2ec\", \"\\ub178 \\uc81c\\ud488\", \"\\ub178 \\ub3c4\", \"\\ub178 \\ud611\\ucc2c\", \"\\uc811\\uae30 \\ub3c4\", \"\\uc2e4\\uc0ac \\uc6a9\\ud55c\", \"\\uc6a9\\ud55c \\ub3c4\", \"\\ud611\\ucc2c \\ud6c4\\uae30\", \"\\uc6a9\\ud488 \\uc2dc\\uc791\", \"\\ub77c\\uc774\\ud2b8 \\ube14\\ub7ad\\ud0b7\", \"\\uc2dc\\uc791 \\uc704\\ud2c0\", \"\\ub178\\ub3c4 \\ub178\\ub85c\", \"\\ub178 \\ubd84\\ub9ac\", \"\\ucd94\\ucc9c \\ub3c4\", \"\\uc774\\ubd88 \\uccb4\\ud5d8\", \"\\ub178 \\uc720\\uc544\", \"\\ub178 \\ub2ec\", \"\\ud1a0\\ud37c\\ud615 \\ub2ec\", \"\\ub178 \\uc77c\\uccb4\", \"\\uc7ac\\uc0dd \\ub3c4\", \"\\uc6a9 \\uc0ac\\uacc4\\uc808\", \"\\uc774\\ubd88 \\ub3c4\", \"\\ub178 \\uc544\\uae30\", \"\\uc6d0 \\uc810\", \"\\ub960 \\uc6d0\", \"\\ud560\\uc778 \\ub960\", \"\\uc6d0 \\ud560\\uc778\", \"\\uc0ac\\uacc4\\uc808 \\uc591\\uba74\", \"\\uc810 \\ub9ac\\ubdf0\", \"\\ud074\\ub9ad \\ubc14\\ub85c\", \"\\uc0ac\\uacc4\\uc808 \\ub2ec\", \"\\ubc14\\ub85c \\uc774\\ub3d9\", \"\\uc218 \\ub3c4\", \"\\ub2ec \\ub0ae\\uc7a0\", \"\\uc0ac\\uc9c4 \\ud074\\ub9ad\", \"\\uc591\\uba74 \\ub0ae\\uc7a0\", \"\\ub0ae\\uc7a0 \\uc774\\ubd88\", \"\\uc720\\uc544 \\uc6a9\", \"\\ub2ec \\uc778\\uacac\", \"\\uc0ac\\uacc4\\uc808 \\ub0ae\\uc7a0\", \"\\ubd84\\ub9ac \\ub0ae\\uc7a0\", \"\\uc720 \\ud2b8\\ub7ec\\uc2a4\", \"\\uc544\\ub9ac \\ubca0\\ubca0\", \"\\uc218\\uba74 \\uacf5\\uac10\", \"\\uc544\\uae30 \\ucc28\\ub835\", \"\\uc5d0\\uc5b4 \\ud1a0\", \"\\ubabd\\ub4dc \\ucfe8\", \"\\ubca0\\ubca0 \\ub4c0\\ub77c\\ub860\", \"\\ud2b8\\ub7ec\\uc2a4 \\uc544\\uae30\", \"\\uacf5\\uac10 \\uc5d0\\uc5b4\", \"\\uc774\\ubd88 \\uc544\\ub9ac\", \"\\uc6b0\\uc720 \\ubca0\\uac1c\", \"\\ud2b8\\ub7ec\\uc2a4 \\ub0ae\\uc7a0\", \"\\ubca0\\ubca0 \\uc544\\ub9ac\", \"\\uc544\\uc774 \\uc778\\uacac\", \"\\uace0\\ubbfc \\uc815\\ub3c4\", \"\\uc544\\uc6b0\\ub77c \\ube14\\ub7ad\\ud0b7\", \"\\ubabd\\ub4dc \\uc2e0\\uc0c1\", \"\\ud2bc\\ud2bc\\ub9d8\\uc2a4 \\uc804\\uc790\\ud30c\", \"\\ub5bc\\ucfe8 \\ub9e4\\ud2b8\", \"\\uc804\\uc790\\ud30c \\uc274\\ub4dc\", \"\\ud3ec\\ubabd\\ub4dc \\ub5bc\\ucfe8\", \"\\uc2e0\\uc0dd\\uc544 \\uac89\", \"\\uc138\\ud2b8 \\uc544\\ub9ac\", \"\\ubb34\\uc288 \\ub9ac\\ubc84\\uc2dc\", \"\\uce74\\uce74\\uc624 \\ud398\\uc774\", \"\\ube0c\\ub9ac \\uc6b0\\ub4dc\", \"\\uc6b0\\ub4dc \\uac00\\ub4e0\", \"\\ubb34\\uc288 \\uc778\\uacac\", \"\\uc774\\ubd88 \\uac04\\uc808\", \"\\ubb34\\uc288 \\uc5ec\\ub984\", \"\\ud2b8\\ub7ec\\uc2a4 \\ub2ec\", \"\\ud3ec\\ubabd\\ub4dc \\uc778\\uacac\", \"\\ud398\\uc774 \\uad6c\\ub9e4\", \"\\uc544\\uae30 \\uc778\\uacac\", \"\\uc774\\ubd88 \\uc720\", \"\\ub4c0\\ub77c\\ub860 \\uc21c\\uba74\", \"\\ub124\\uc774\\ubc84 \\ud398\\uc774\", \"\\uc778\\uacac \\uc544\\uae30\", \"\\uc0ac\\uacc4\\uc808 \\ub4c0\\ub77c\\ub860\", \"\\ube44\\ube44 \\ub2ec\", \"\\ub2ec \\uc544\\uc774\\uc2f1\", \"\\uac04\\uc808 \\uae30\", \"\\uc778\\uacac \\uc774\\ubd88\", \"\\uc778\\uacac \\ucfe8\", \"\\ucc28\\ub835 \\uc774\\ubd88\", \"\\uc774\\ubd88 \\uc778\\uacac\", \"\\uc544\\uc774\\uc2f1 \\ub4c0\\uc5bc\", \"\\ud48d\\uae30 \\uc778\\uacac\", \"\\ubca0\\ubca0 \\uc0ac\\uacc4\\uc808\", \"\\uc21c\\uba74 \\ub9ac\\ubc84\\uc2dc\", \"\\ubca0\\ubca0 \\ub0ae\\uc7a0\", \"\\ud3ec \\ubabd\\ub4dc\", \"\\uc778\\uacac \\ube14\\ub7ad\\ud0b7\", \"\\ubb34 \\ubb34\\uc288\", \"\\uc5ec\\ub984 \\uc774\\ubd88\", \"\\ubca0\\ubca0 \\ub204\\ubcf4\", \"\\uc778\\uacac \\ubca0\\uac1c\", \"\\ucfe8 \\ud328\\ub4dc\", \"\\uc058\\ub760 \\ub2e4\\ub098\", \"\\uce94\\ucf54 \\uafc0\\uc7a0\", \"\\ub2e4\\ub098 \\ub0ae\\uc7a0\", \"\\uc544\\uc774 \\ub204\\uc624\", \"\\ud638\\ud154 \\ub4dc\", \"\\ub4dc \\ubbf8\\uce74\", \"\\uc2a4\\ud30c \\ub77c\\ud14d\\uc2a4\", \"\\ubbf8\\uce74 \\ub0ae\\uc7a0\", \"\\ub2e4\\ub098 \\uc058\\ub760\", \"\\ub2e4\\ub098 \\uc5b4\\ub9b0\\uc774\\uc9d1\", \"\\ub204\\uc624 \\ube14\\ub7ad\\ud0b7\", \"\\ub77c\\ud14d\\uc2a4 \\ub0ae\\uc7a0\", \"\\ub370\\ucf54 \\ubf40\\ub85c\\ub85c\", \"\\ub2e4\\ub098 \\ud648\\ud398\\uc774\\uc9c0\", \"\\ub0ae\\uc7a0 \\ub77c\\uc2a4\", \"\\ub2e4\\ub098 \\uc544\\uae30\", \"\\ub2e4\\ub098 \\uc81c\\ud488\", \"\\ubf40\\ub85c\\ub85c \\ub3d9\\ud654\", \"\\uc6b0\\ub9ac \\ub2f9\\uc2e0\", \"\\uafc0\\uc7a0 \\ud1a0\\ub07c\", \"\\uac00\\ubc29 \\uc058\\ub760\", \"\\uc2a4\\ud30c \\uc2ac\\ub9bd\", \"\\uc2a4\\ud30c \\uc218\\uba74\", \"\\ub9ac\\ubca0 \\uc2e0\\uc0dd\\uc544\", \"\\ubbf8\\uce74 \\uc5b4\\ub9b0\\uc774\\uc9d1\", \"\\ub2f9\\uc2e0 \\uc218\\uba74\", \"\\ucfe8 \\ub9ac\\ubca0\", \"\\ub9de\\uc774 \\uc544\\uc774\", \"\\uc774\\ubd88 \\uc804\\ubb38\\uc810\", \"\\uc900\\ube44\\ubb3c \\uc058\\ub760\", \"\\uc2ac\\ub9bd \\uc2a4\\ud30c\", \"\\ub77c\\uc2a4 \\ubca0\\uac1c\", \"\\ub77c\\uc2a4 \\uc878\\uc5c5\", \"\\ube44 \\uc544\\uae30\", \"\\ubca0\\uac1c \\uce94\\ucf54\", \"\\uc2a4\\ud30c \\ub0ae\\uc7a0\", \"\\uc740 \\ub370\\ucf54\", \"\\ud1a0\\ub07c \\uadc0\\uac00\", \"\\uc774\\ubd88 \\uc058\\ub760\", \"\\ubc29\\uc218 \\uc6d0\\ub2e8\", \"\\ubca0\\uac1c \\ub77c\\uc2a4\", \"\\uc774\\ubd88 \\uc2ac\\ub9bd\", \"\\ud30c\\uc774 \\ud551\", \"\\ubd84\\ub9ac \\ub0ae\\uc7a0\", \"\\uad6d\\ub0b4 \\uc0b0\", \"\\ubca0\\uac1c \\uc878\\uc5c5\", \"\\ub0ae\\uc7a0 \\ubd88\\uc758\", \"\\ud5c8\\uadf8 \\uacf0\", \"\\ubc29 \\uc218\\uc694\", \"\\uc2e0\\uc0dd\\uc544 \\ubc29\\uc218\", \"\\ubca0 \\ub85c\", \"\\ub85c \\ud5c8\\uadf8\", \"\\ub864\\ub85c \\uc720\\uc544\", \"\\ubca0\\ubca0 \\ud5c8\\uadf8\", \"\\uc5ed\\uc2dc \\uc774\\uc720\", \"\\uc5d8\\ub974 \\ub9ac\\ud2c0\", \"\\uacf0 \\ubca0\\uac1c\", \"\\uc720\\uc544 \\ubc29\\uc218\", \"\\ucf54\\ud2bc \\uc5d0\\uc5b4\", \"\\ud5ec\\ub85c \\uc0e4\\uc778\", \"\\ud648 \\uc0ac\\uacc4\\uc808\", \"\\ubca8\\ubabd \\ub9ac\\ubc84\\uc2dc\", \"\\ube14 \\ucf54\\ud2bc\", \"\\ud5c8\\uadf8 \\uacf0\\ubca0\", \"\\ub9c8 \\ub864\\ub85c\", \"\\ub864\\ub85c \\ub0ae\\uc7a0\", \"\\uaca8\\uc6b8 \\ubc29\\ud55c\", \"\\ucd94\\ucc9c \\ub9c8\", \"\\uc0ac\\uacc4\\uc808 \\ub9c8\\uc774\\ud06c\\ub85c\", \"\\uc778\\uacac \\ucee4\\ubc84\", \"\\uc548\\uc2ec \\ucf54\\ud2bc\", \"\\ub864\\ub85c \\uc218\", \"\\uacf0 \\uc544\\uae30\", \"\\ub315\\ub315 \\uc790\\uc218\", \"\\uc5d0\\uc774\\ud2b8 \\ub8f8\", \"\\uc591\\uba74 \\uc548\\uc2ec\", \"\\ubc29\\uc218 \\uc544\\uae30\", \"\\ub9ac\\uc5bc\\ub9ac \\uc724\", \"\\ub864\\ub85c \\uc544\\uae30\", \"\\uc778\\ud615 \\ube14\\ub7ad\\ud0b7\", \"\\uc544\\uae30 \\ubc29\\uc218\", \"\\uc058\\ub9ac \\uc5d8\\ub974\", \"\\ubc29\\uc218 \\ud328\\ub4dc\", \"\\uc26c\\uc988 \\ud648\", \"\\ub864\\ub85c \\uc591\\uba74\", \"\\ubca0\\ubca0 \\uc2a4\\ubbf8\\uc2a4\", \"\\ud328\\ub4dc \\ubc29\\uc218\", \"\\ud5ec\\ub85c \\uc774\\uc8fc\", \"\\uc5d8\\ub9bc \\ucf54\\ub9ac\\uc544\", \"\\uc18c\\ub2c9 \\uc2ac\\ub9bd\", \"\\uc544\\uae30 \\uc0c1\\uc5b4\", \"\\uc2a4\\ud398\\uc15c \\ub4dc\\ub9bc\", \"\\uc77c\\uccb4 \\ub2ec\", \"\\ud654\\uc74c \\ubca0\\ubca0\", \"\\ud558\\uc7a0 \\ubca0\\uac1c\", \"\\ud504\\ub808 \\uc26c\", \"\\uc26c \\ucfe8\", \"\\uc0e4\\ubcb3 \\ucfe8\", \"\\uc2ac\\ub9bd \\ud504\\ub808\", \"\\uc774\\uc8fc \\ub0ae\\uc7a0\", \"\\ubca0\\ub529 \\ub0ae\\uc7a0\", \"\\uba54\\uc774\\ub4dc \\ubca0\\ub529\", \"\\uc774\\uc8fc \\uc0e4\\ubcb3\", \"\\ub540 \\uc190\\ubc14\\ub290\\uc9c8\", \"\\uadf8 \\uaf2c\\ub974\\ub370\", \"\\ud560\\uba38\\ub2c8 \\ub540\", \"\\uadf8 \\ud578\\ub4dc\", \"\\uc190\\ubc14\\ub290\\uc9c8 \\uc2dc\\uc791\", \"\\uc190\\ub140 \\uc704\", \"\\uc704 \\ud560\\uba38\\ub2c8\", \"\\uaf2c\\ub974\\ub370 \\ube14\\ub7ad\\ud0b7\", \"\\uc2dc\\uc791 \\ud504\\ub9ac\\ubbf8\\uc5c4\", \"\\uadf8 \\uc190\\ub140\", \"\\uba54\\uc774\\ub4dc \\ub77c\\uc774\\ud504\\uc2a4\\ud0c0\\uc77c\", \"\\uadf8 \\uadf8\", \"\\ub4dc\\ub9bc \\uc720\\uc544\", \"\\ucf54\\ub9ac\\uc544 \\ud734\\ub300\", \"\\ud551\\ud06c \\ud401\", \"\\ubca0\\uc774\\ube44 \\ud56b\\ub51c\", \"\\ub0ae\\uc7a0 \\ubca0\\uac1c\", \"\\ud578\\ub4dc \\uba54\\uc774\\ub4dc\", \"\\uba54\\ubaa8\\ub9ac \\ud3fc\", \"\\ub300\\uae30 \\uc2e0\\uccad\", \"\\ub540 \\ub540\", \"\\ubaa9 \\ubca0\\uac1c\", \"\\uc544\\uac00 \\uc564\", \"\\ubcf5 \\ub3d9\\uc774\", \"\\ucf64\\ub9c8 \\ub0ae\\uc7a0\", \"\\uba54\\ub9ac \\ubd09\\ubd09\", \"\\ub77c\\uc774\\ud504 \\uc5b4\\ub9b0\\uc774\\uc9d1\", \"\\ub9ac \\ub77c\\uc774\\ud504\", \"\\ubba4 \\ud5e4\\ub9c1\\ubcf8\", \"\\ubca0 \\ubc14\\ubbf8\\ube14\", \"\\uc900\\ube44\\ubb3c \\ub9ac\", \"\\uc564 \\uc544\\uae30\", \"\\uc2e4\\ud0a4 \\ucf54\\ud2bc\", \"\\uc2a4\\ud0c0 \\ud544\\ub4dc\", \"\\ubc00\\ub3c4 \\ub77c\\uc778\", \"\\ud328\\ub4dc \\ud6c4\\uae30\", \"\\uc774\\ubabd \\ubc29\\uc218\", \"\\ud310\\ub9e4 \\uc801\\ub9bd\\uae08\", \"\\uc5b4\\ub9b0\\uc774\\uc9d1 \\uc9c1\\uc811\", \"\\uc2e0\\uc0dd\\uc544 \\uc721\\uc544\\uc6a9\\ud488\", \"\\uc774\\ubd88 \\ucf64\\ub9c8\", \"\\ube0c\\ub79c\\ub4dc \\uc5ec\\ub7ec\", \"\\uc13c\\uc2a4 \\uc774\\ub984\", \"\\uc3d9 \\ub4ed\\ub2c8\", \"\\ub0a0 \\uba3c\\uc800\", \"\\uc5ec\\ub984 \\ub300\\ud45c\", \"\\uc774\\ubd88 \\uba54\\ub974\", \"\\uac00\\uae30 \\uc5b4\\ub9b0\\uc774\\uc9d1\", \"\\ubc29\\uc218 \\ub4c0\\ub77c\\ub860\", \"\\ucf54\\uc2a4\\ubaa8\\uc2a4 \\ub0ae\\uc7a0\", \"\\ub2f4\\uc694 \\uaca8\\uc6b8\", \"\\ud5e4\\ub9c1\\ubcf8 \\ubc29\\uc218\", \"\\uafc0\\ubc8c \\uc6d0\\ub2e8\", \"\\uba54\\ub974 \\ubca0\", \"\\uc774\\ubd88 \\ubabd\\uc288\\ub808\", \"\\ub0c4\\uc0c8 \\uc81c\\uac70\", \"\\ubabd\\uc288\\ub808 \\uc544\\uae30\", \"\\uc54c\\ub7ec\\uc9c0 \\ud504\\ub9ac\", \"\\uc2e0\\uc0dd\\uc544 \\uc637\", \"\\uc778\\ud615 \\ub0ae\\uc7a0\", \"\\uc81c\\uac70 \\ud56d\\uade0\", \"\\ubc14\\ub514 \\uc288\\ud2b8\", \"\\uc544\\uae30 \\ubc31\\uc77c\", \"\\ubc31\\uc77c \\uc120\\ubb3c\", \"\\uc54c\\ub808 \\ub974\\ub9dd\", \"\\uc637 \\uc815\\ub9ac\"], \"Freq\": [59851.0, 3064.0, 4817.0, 4615.0, 2936.0, 15128.0, 4846.0, 3524.0, 3360.0, 2714.0, 1686.0, 8662.0, 2579.0, 1138.0, 2270.0, 1331.0, 1992.0, 1104.0, 1194.0, 1053.0, 1048.0, 1443.0, 667.0, 1799.0, 3925.0, 1021.0, 668.0, 651.0, 970.0, 3606.0, 3156.796711664785, 2003.5172134900952, 1719.4180612357247, 1408.252354965818, 3116.1210429410285, 1122.6235379243399, 1351.480724753072, 973.0344347841325, 853.9584336101018, 789.0226781330684, 788.5078214953985, 8654.443446232897, 616.0666936541103, 561.3962663308396, 549.947607635839, 609.4220515064202, 530.1697651520382, 506.459121226464, 569.0533549002716, 469.34000448113187, 457.80390937855145, 854.459487261461, 452.48918233774793, 457.4379990342258, 445.5183593538583, 707.0270088873222, 438.8324919371683, 423.4649397523804, 504.1143979701397, 409.7890931160465, 59245.3814758572, 15088.804077697994, 3597.5603883387544, 2736.6923792163393, 3088.9618042341444, 2945.6177389155087, 1059.8737976024777, 1666.7521634149173, 2885.96112711533, 1442.4437690938435, 1297.3615771568234, 699.9043530540157, 828.0044107877691, 678.5225825677857, 1859.3871651943193, 2704.5269075885517, 4356.106177663647, 2227.45728325631, 1861.5952231413173, 969.6425739503575, 2016.4536031848947, 962.0534506557248, 997.8572425230464, 2026.7343612929362, 3415.788179337298, 1684.2411243816885, 4380.081597505332, 2210.3718103456454, 1405.2434089157782, 1411.7983054110302, 1342.2550816138091, 1409.695947899126, 4816.685203384178, 3523.9824254784016, 2714.1377537713247, 794.2578138700121, 675.4846792681604, 645.3369476893678, 604.8087372423674, 579.1525973258686, 568.2746530510208, 562.6059989902232, 561.790441740405, 490.94789477041684, 402.63780003153573, 397.58160556249624, 373.99901280323326, 366.42642992354183, 354.8188101320653, 348.7014923274658, 314.49277800253765, 306.31340479804254, 282.19269134839357, 278.42101997760847, 277.1050860759574, 306.00741760592956, 604.1350138153665, 257.1127992194119, 254.91003363519454, 261.5757381000707, 206.1919158728038, 537.9353411087469, 3283.61122694808, 959.6408012012319, 432.2003968638015, 620.3083087981236, 718.7778065312247, 948.2144191916303, 4160.941218098526, 441.1506882251575, 1668.5893756952412, 2103.582831411971, 856.7045340016919, 1839.0773080838615, 585.1229993971826, 1019.5305287129908, 720.5139301557123, 628.7806962775566, 562.8801157086458, 545.4412973331034, 1052.937826538752, 1047.6169303890297, 1330.7098974284177, 337.15206840006806, 200.69679129179835, 187.49320045338118, 184.4879491281039, 363.9972148711311, 169.01779837339248, 162.9281228021848, 153.23871779898752, 140.7969984200015, 149.2367051156569, 132.85521187256916, 131.32356317491164, 127.3179621890696, 122.19351121026006, 119.6863719210407, 115.57517505968865, 99.41492849016632, 96.36538945260901, 96.04521500579412, 94.98332691659756, 92.21868374742063, 94.64844426724252, 91.02520857548558, 90.63162743745434, 92.68125815646698, 90.24503101661112, 87.0163167132761, 214.65931770577367, 4353.8078659172625, 258.04951301594656, 686.5927104981399, 222.27131622586586, 195.55087765866244, 280.8429862320235, 920.6095194718579, 370.70323416783066, 255.73515383999475, 132.3881376937959, 185.25388860963355, 1085.3092275203785, 401.2233013189636, 498.2434024696398, 302.2227833912999, 189.05382421409885, 306.86777383159756, 468.21046177602045, 381.2917584043252, 198.33108293124454, 475.7057541149656, 431.0535317038627, 355.08628921947, 490.71491353526807, 311.4187967991762, 285.1411394108559, 220.62121516776435, 344.9750667833454, 214.24986744380152, 1685.7117005064158, 668.2094892836482, 651.2898616911887, 567.3382577655838, 463.7679243062434, 457.8528504598275, 417.2490062271783, 394.292057857706, 351.91396330356986, 318.28908682905757, 312.4913280961528, 226.5638712632306, 221.8860039242325, 208.99402047956585, 198.65312621379576, 164.72224408073728, 156.15793012877813, 149.26059947669185, 135.40193134171994, 131.5332994617358, 122.05225973821754, 114.94652098105476, 113.81704749371582, 109.2354282542998, 102.34030138661994, 101.55822004648145, 101.40068344047799, 97.15706842085719, 90.96613319158622, 90.20905072742352, 180.94382538954227, 121.82767760309225, 164.431111539859, 195.6893177279158, 163.70415393478476, 705.6012060984917, 134.39998610091217, 289.001432815781, 213.51723457806136, 163.02340784413565, 255.88734890848798, 177.2420889180628, 135.69472400212905, 3064.0725603973806, 2935.3370707228473, 1137.5068459884963, 335.1974450207565, 230.60187276758074, 128.12168673971675, 119.72540548103098, 119.57520981208644, 95.9158649567195, 88.2302755430011, 78.333141556983, 77.71308824843861, 70.97955251400616, 68.72927185933045, 65.08600206965531, 64.7061214009475, 63.95485083095965, 62.82932492861911, 62.45256132940677, 61.393443618583014, 59.89693368338632, 59.5434101101259, 59.39299121354823, 55.42692209030108, 53.818660343270665, 53.14341298776155, 50.686464131641344, 50.427999001940066, 49.00743110753733, 47.01380135070812, 363.1540192224747, 100.82331747838856, 223.62564395039934, 211.97212247736815, 217.04895200969472, 212.81509495904956, 250.09359018171278, 219.02976850038175, 89.42593956767398, 173.8709968984288, 88.89248234605064, 85.53784994470871, 213.41759851694496, 86.68633582378868, 201.56632171305787, 601.6455845167794, 111.19972525144075, 92.25912033537122, 103.13977903826367, 96.12161589552602, 439.500727984617, 665.3778865508159, 98.06731169725097, 97.79196681110386, 79.38695964559498, 59.285629995125284, 57.26145145934046, 52.20961377840473, 48.809830726941094, 48.226208108273404, 47.745602987415275, 47.547352319403664, 45.53654667095212, 45.83229971410042, 44.11082136666835, 43.70627500149981, 43.19767934792846, 40.03583969156944, 39.17044277277315, 38.47879424928805, 38.404105094635064, 38.90431056491248, 38.0294843285237, 37.68294589144168, 37.44488866890507, 36.60791923328677, 36.60791923328677, 36.54484047669743, 35.51396050289397, 37.78907712029425, 95.28145506433464, 139.04330722746994, 41.926454587390516, 150.87663080890871, 87.40103507310475, 103.96886014248334, 73.28558163571365, 62.175605681644704, 91.38213849162763, 128.57462033785922, 133.55695719192943, 72.97927568806347, 153.16965872351156, 150.37407168108584, 280.66974810332295, 86.19747521310981, 97.75330954645676, 90.61925969868118, 65.06104295829483, 72.32067751023646, 114.10609623753056, 105.74830602762283, 70.75573391291557, 114.4940495005961, 100.2091327199306, 89.15519658093042, 68.7127885382619, 71.1885204967772, 299.48441628907426, 69.45747728431397, 64.56476052398554, 60.55342786962247, 47.96318573067106, 46.8443716070376, 66.71272281895055, 28.054027187913714, 25.477759962450385, 23.72415327173313, 20.950909102659114, 59.99837358976247, 18.990082531662736, 16.773119828639008, 15.534612676238067, 15.047921481221945, 14.685032015698816, 14.124143516409271, 13.67667312423462, 76.81501445793464, 12.983175631025603, 12.631429151711032, 12.424671161261816, 12.273262827512843, 11.986560606300989, 11.862257154277154, 72.69879467448948, 11.67620115075496, 11.658946811218904, 11.426344177901571, 233.8030519326046, 314.88976591827077, 19.13257173042092, 13.864060556972943, 15.481792819798896, 34.8625493971385, 25.16176460347517, 13.329728604142572, 23.09238629491132, 21.792919855013483, 18.831414476293553, 17.501100575791884, 15.123935834661104, 20.028632915421856, 16.555280719793313, 15.89546474148394, 16.612822870053147, 161.62314802708198, 56.601151334748856, 50.91049236052145, 47.817111444099986, 35.49405861384531, 22.609509944585618, 21.870041059951543, 19.874528365972072, 20.146130111812468, 18.512361447644107, 18.68220944274169, 16.55839521386528, 16.31791894504779, 16.000988119109927, 15.963203020170502, 15.963203020170502, 15.535085278246934, 238.80871876408673, 41.86651321152975, 13.611088051713637, 13.326281858672514, 12.988799601065898, 12.896710026072984, 12.6079086267789, 12.544013671578977, 15.733914462655209, 11.428183319285951, 11.230614771969556, 11.159342361590564, 17.036861908375847, 38.09586334379455, 22.40541428751469, 20.601182545058332, 79.78607443845446, 38.53698286725933, 166.3992775041253, 67.22197702519023, 15.792581210736586, 15.694476859107427, 16.857439023797944, 118.16982255000602, 106.83692224109222, 41.56040723655157, 33.66383272094946, 29.032479666149108, 28.98187018238005, 24.01081684798114, 23.890646467006203, 23.799850402472458, 23.435557962121493, 21.930232192440272, 20.71208660262834, 20.333185625092376, 18.007023797040535, 18.00693394442843, 17.168775051215416, 17.122062924496486, 15.624871312116806, 15.63660331776145, 15.46918543825378, 15.111096571997011, 14.745685965806498, 14.745644783359282, 14.532543090360123, 14.381708009597908, 13.59241146602966, 13.565033874301948, 13.590291193974531, 13.001407157851274, 12.970148432461736, 20.466922502542467, 13.115121878236938, 53.200244068421604, 40.85827646239737, 33.3010103691688, 15.862873410246014, 19.4374985969781, 15.833170882180044, 40.77273986028895, 19.68413107009743, 24.329253731940973, 18.934471678902206, 12.604241039754296, 11.77684747243974, 9.622715502367647, 9.560568468615186, 8.400576706311293, 8.32959603313184, 7.876891806184799, 7.013525656105304, 6.7349683376780325, 6.676984147508411, 6.41133951025029, 6.403807112901619, 6.359144844791841, 6.203395267971259, 6.2196795593931276, 5.886902450044544, 5.687672056831285, 5.425703904007014, 5.392780577175113, 5.379501327218195, 5.249346272082746, 5.243931027985172, 5.1251113285758505, 5.016459414462049, 4.969029629122873, 4.9348256250815306, 15.723422668200026, 19.190623572685762, 9.999802192324733, 15.787537759904211, 17.968885277450827, 6.099543708375547, 7.233266421295074, 6.227406294752705, 7.512955321632414, 7.813814726237283, 7.505243495802774, 11.152640979110773, 11.27592428331029, 6.699100635744376], \"Total\": [59851.0, 3064.0, 4817.0, 4615.0, 2936.0, 15128.0, 4846.0, 3524.0, 3360.0, 2714.0, 1686.0, 8662.0, 2579.0, 1138.0, 2270.0, 1331.0, 1992.0, 1104.0, 1194.0, 1053.0, 1048.0, 1443.0, 667.0, 1799.0, 3925.0, 1021.0, 668.0, 651.0, 970.0, 3606.0, 3157.6124608825444, 2004.177351642328, 1720.0343762517448, 1408.8738571772121, 3117.598180660155, 1123.2413811458036, 1352.2897638923616, 973.6825314049571, 854.5750374939906, 789.639109777258, 789.1242189307343, 8662.351549546835, 616.6834921592712, 562.013813065798, 550.5644018895907, 610.1253997084408, 530.7860610321269, 507.07625425211046, 569.7890711588353, 469.956606819458, 458.42022288719284, 855.6255987808433, 453.10730243438974, 458.06468166839414, 446.1347912782085, 708.0177542906382, 439.4487845236903, 424.0812411411416, 504.849728123734, 410.4058704078449, 59851.76956690916, 15128.19717932203, 3606.263714651136, 2749.618205591391, 3112.3872459990303, 2966.92399807804, 1061.631579391246, 1679.1131457962513, 2924.1378288424835, 1452.1279884224232, 1304.9919675767874, 701.0390612951079, 831.3504721385497, 680.2953737823177, 1883.4336765782623, 2762.3798524151525, 4520.175949110951, 2286.0744455683853, 1902.4557953460276, 978.8751237166199, 2098.7257164364487, 971.9644899558282, 1010.418703482336, 2153.0870689587273, 3925.9335944203062, 1799.2719767471044, 5516.274453541196, 2529.5400678136634, 1493.4756905387424, 1604.1530484765683, 1494.8331581373177, 1948.9911472259491, 4817.3294038933245, 3524.6264674709273, 2714.781656277657, 794.9015871033769, 676.1286832249843, 645.9807013594425, 605.4531386815277, 579.7963659349365, 568.9184112179913, 563.2497599835879, 562.4342572257333, 491.5924916012701, 403.2815275070745, 398.2253541699548, 374.6430167872227, 367.07026246347476, 355.46254276111983, 349.3452230657725, 315.13650389970184, 306.9575558082563, 282.83641939394977, 279.0647492820963, 277.7488121911923, 306.7334879181105, 605.6120939865332, 257.75652489042795, 255.5537543895549, 262.2462357590571, 206.8356282532494, 539.6611190686205, 3360.593333394496, 970.45964742964, 436.62501045019087, 639.9857399039304, 749.1678124019865, 1000.5432929943277, 4846.993317484152, 454.8861545479178, 1992.00000221591, 2579.8251893244105, 955.8292820100436, 2270.6657162242464, 643.7923634917357, 2025.2834659132227, 1440.3094253293048, 1114.0267420023365, 917.6725141692596, 5516.274453541196, 1053.5804814152789, 1048.26019431593, 1331.86207992419, 337.7933080448173, 201.34213556943874, 188.1344176441905, 185.1410701202334, 365.3358314698985, 169.66075921177304, 163.56935744811355, 153.8800450813161, 141.43944140609474, 149.94601922367244, 133.49642721533624, 131.9758472136103, 127.95920671265165, 122.83473052615061, 120.3326380484329, 116.21692074085036, 100.05760094880131, 97.00660791785566, 96.68643734273694, 95.62754390328323, 92.86036246306548, 95.31048238140144, 91.6681617261367, 91.27284258306567, 93.34308502143499, 90.90062208893013, 87.66970790156198, 217.21279734263146, 4615.888168059951, 263.4717933242828, 716.7879358541987, 229.5243372229868, 201.56445383462616, 294.1393749338877, 1085.6885982162341, 410.32730030429684, 278.5811659168055, 136.5015087394433, 196.9721480138659, 1443.4843894547887, 472.136637320551, 627.4237794403996, 362.6530305214648, 221.11006627182857, 443.5581324847647, 1034.6872120402923, 766.5636991981667, 263.9646152830772, 2579.8251893244105, 2270.6657162242464, 1452.9260006670793, 5516.274453541196, 1188.3263903046582, 1114.0267420023365, 385.45074530004246, 4846.993317484152, 388.65207873557995, 1686.3828158485921, 668.8805951993805, 651.9609629961977, 568.0099583900181, 464.4390236795207, 458.5239466269624, 417.9202354710971, 394.9631528645399, 352.58505636890163, 318.96019538033096, 313.1624294215688, 227.23496547411398, 222.55709465864805, 209.66528288834255, 199.3242177916372, 165.39337927360734, 156.8290230039291, 149.931689470936, 136.07409500104012, 132.20439160044808, 122.7233703901744, 115.61762618693845, 114.48813817193418, 109.90651850865855, 103.01139028308823, 102.22930876756784, 102.07180678412826, 97.82825123652593, 91.63723058538427, 90.88014075073586, 185.92498308974217, 124.15156252851567, 171.12177636112418, 205.97354138409023, 172.20876396150845, 1104.2947537949738, 156.29023097729362, 1452.9260006670793, 786.4213442881596, 464.17922998664625, 3925.9335944203062, 1010.7540378190323, 686.8270237515363, 3064.747147174145, 2936.0110348162434, 1138.1800553993776, 335.8691699506519, 231.27365233207058, 128.79345798344985, 120.39723825985762, 120.2471539104775, 96.58758040827544, 88.9105894934546, 79.00485366825025, 78.38479593775223, 71.6512637054329, 69.40097745860409, 65.75771334396994, 65.3778313288541, 64.62657550945131, 63.50112707834486, 63.12430976018446, 62.065196461418275, 60.56864620832848, 60.21511350008369, 60.06477623507307, 56.09885470561001, 54.49036364136394, 53.815125345189664, 51.35817403963089, 51.099749593131165, 49.67917023445371, 47.68550644808536, 393.4534911457262, 104.8793149337795, 255.18867734504292, 241.09210117733977, 252.7877458586352, 249.03867105419252, 304.16305352124647, 266.6902474058765, 106.07947127002753, 272.71539666459967, 105.87326488498525, 114.47440350912065, 753.4347718996275, 123.49504162184172, 1021.3823291792089, 59851.76956690916, 400.34907072764514, 258.96531538192806, 773.8772689814475, 1222.359578923989, 440.1888144393522, 667.3653299482197, 98.7380650866769, 98.4627882660787, 80.05767946821184, 59.95785389262853, 57.932565958833834, 52.88405730755301, 49.480546782842126, 48.897024958363765, 48.41633733433248, 48.2180755422082, 46.207342712499994, 46.508533370406944, 44.781834027814874, 44.376986820230144, 43.86846218746987, 40.70655638640235, 39.84118163324352, 39.14950756244025, 39.07485002024484, 39.585102957625864, 38.700625322733636, 38.35513032388978, 38.11560174701758, 37.27866008539131, 37.278660291390075, 37.21565048466741, 36.1892492847538, 38.53356699968003, 97.88983918063246, 151.00918885428007, 43.469915487057875, 187.58624491976872, 100.44315040915015, 125.3087594615532, 85.4136056392906, 71.27650272219417, 117.17265023748217, 198.41904326676445, 211.77811419246478, 100.69304173512126, 328.706726666271, 361.10196488147795, 1194.7761280618165, 154.2512458898915, 211.19377917044477, 186.38221923886854, 96.52660425787803, 124.92993443712862, 413.24518577004807, 711.20836505077, 183.5130877009961, 1799.2719767471044, 1443.4843894547887, 805.1214776517172, 178.59869527240375, 627.4237794403996, 300.18667110001616, 70.16042286350131, 65.26663623650035, 61.25533132823605, 48.670824579815374, 47.55264961669121, 67.72842506641081, 28.758694470325775, 26.1795333581353, 24.426152174779876, 21.652693828960558, 62.03658619493252, 19.691868296711117, 17.47487151014758, 16.236454901343482, 15.749677122327647, 15.386799179631815, 14.825922860650135, 14.378487894506184, 80.93820311699812, 13.684937202364637, 13.333200264493641, 13.126458254200452, 12.97505001634191, 12.688587283840006, 12.565306972648868, 77.01893696007168, 12.378040730612593, 12.360710111561554, 12.128113604979706, 252.56940605873703, 478.54758088967384, 21.723593192948503, 15.070582754551616, 17.471508052321365, 52.34365899867638, 35.32492914488522, 14.546249193854644, 45.05261638918974, 68.80913298956584, 45.41004909714024, 37.95759226284987, 22.96431936702939, 1222.359578923989, 87.93535706389648, 53.18050090128994, 546.9766094997236, 162.3488846637535, 57.34338329860129, 51.644786536087175, 48.526542997551445, 36.20365602277184, 23.319203214903098, 22.606960776549794, 20.58402939136234, 20.867590421766103, 19.221721965213415, 19.461232232424127, 17.26773445631559, 17.02730992251642, 16.710344599915473, 16.6725440267772, 16.6725440267772, 16.244442523970225, 249.83067603012324, 44.00650537691733, 14.322101484658198, 14.036591435434321, 13.698155737038503, 13.606287591117468, 13.317251215433894, 13.253553274515758, 16.693672722306516, 12.137949210320407, 11.94007598630446, 11.868684273341659, 18.125247006991497, 42.6302581322514, 24.678693139146958, 23.730874477621775, 125.71749333450227, 52.05137181384354, 342.00010774715906, 134.7370259474911, 17.995815948511765, 19.821952208907256, 108.44864162849407, 118.89050275003366, 107.54868425887447, 42.271395900992395, 34.374834554428055, 29.74400485749928, 29.69320685144612, 24.721927341080296, 24.601582848578744, 24.51083782563906, 24.146544627786255, 22.64119956393772, 21.423067144077827, 21.04417097743583, 18.719307760337102, 18.719516903578835, 17.879742434791442, 17.834517414746156, 16.33580395631361, 16.348629205857645, 16.180937595244327, 15.822669787933759, 15.457624201177657, 15.457716598287695, 15.243474011517018, 15.09359973057441, 14.303748509615454, 14.276215547953544, 14.302811377846066, 13.712423991014637, 13.681092915301106, 21.859081846212604, 13.85133232997007, 299.8720869483124, 317.23686574572827, 184.8595319488841, 28.87029687076897, 89.25708010101734, 47.03048485763788, 41.48853836689639, 20.400030886761126, 25.229736390420513, 19.65010379114357, 13.319978351924203, 12.492502415462516, 10.338484566875088, 10.276205320008653, 9.116294476075078, 9.045285891742518, 8.609764996222033, 7.7292717496686265, 7.450723386916746, 7.392900885080693, 7.127217631748176, 7.119629554104833, 7.075935758649833, 6.91960098010169, 6.966212718192433, 6.602811654736722, 6.4058875364116385, 6.142139097923315, 6.108881054121797, 6.095888770112918, 5.964949441923999, 5.960163662292341, 5.840998224781553, 5.732128263230203, 5.684933759078683, 5.650589479769811, 18.49974046990724, 23.444597079450176, 12.924857801231706, 25.33538736352561, 31.870522101807243, 7.618504743582301, 10.21587023499201, 7.986747491404879, 14.989293173515026, 17.56804824672517, 22.146985119684874, 313.55820461090894, 405.5161799796308, 19.226792919599845], \"Category\": [\"Default\", \"Default\", \"Default\", \"Default\", \"Default\", \"Default\", \"Default\", \"Default\", \"Default\", \"Default\", \"Default\", \"Default\", \"Default\", \"Default\", \"Default\", \"Default\", \"Default\", \"Default\", \"Default\", \"Default\", \"Default\", \"Default\", \"Default\", \"Default\", \"Default\", \"Default\", \"Default\", \"Default\", \"Default\", \"Default\", \"Topic1\", \"Topic1\", \"Topic1\", \"Topic1\", \"Topic1\", \"Topic1\", \"Topic1\", \"Topic1\", \"Topic1\", \"Topic1\", \"Topic1\", \"Topic1\", \"Topic1\", \"Topic1\", \"Topic1\", \"Topic1\", \"Topic1\", \"Topic1\", \"Topic1\", \"Topic1\", \"Topic1\", \"Topic1\", \"Topic1\", \"Topic1\", \"Topic1\", \"Topic1\", \"Topic1\", \"Topic1\", \"Topic1\", \"Topic1\", \"Topic1\", \"Topic1\", \"Topic1\", \"Topic1\", \"Topic1\", \"Topic1\", \"Topic1\", \"Topic1\", \"Topic1\", \"Topic1\", \"Topic1\", \"Topic1\", \"Topic1\", \"Topic1\", \"Topic1\", \"Topic1\", \"Topic1\", \"Topic1\", \"Topic1\", \"Topic1\", \"Topic1\", \"Topic1\", \"Topic1\", \"Topic1\", \"Topic1\", \"Topic1\", \"Topic1\", \"Topic1\", \"Topic1\", \"Topic1\", \"Topic1\", \"Topic1\", \"Topic2\", \"Topic2\", \"Topic2\", \"Topic2\", \"Topic2\", \"Topic2\", \"Topic2\", \"Topic2\", \"Topic2\", \"Topic2\", \"Topic2\", \"Topic2\", \"Topic2\", \"Topic2\", \"Topic2\", \"Topic2\", \"Topic2\", \"Topic2\", \"Topic2\", \"Topic2\", \"Topic2\", \"Topic2\", \"Topic2\", \"Topic2\", \"Topic2\", \"Topic2\", \"Topic2\", \"Topic2\", \"Topic2\", \"Topic2\", \"Topic2\", \"Topic2\", \"Topic2\", \"Topic2\", \"Topic2\", \"Topic2\", \"Topic2\", \"Topic2\", \"Topic2\", \"Topic2\", \"Topic2\", \"Topic2\", \"Topic2\", \"Topic2\", \"Topic2\", \"Topic2\", \"Topic2\", \"Topic2\", \"Topic3\", \"Topic3\", \"Topic3\", \"Topic3\", \"Topic3\", \"Topic3\", \"Topic3\", \"Topic3\", \"Topic3\", \"Topic3\", \"Topic3\", \"Topic3\", \"Topic3\", \"Topic3\", \"Topic3\", \"Topic3\", \"Topic3\", \"Topic3\", \"Topic3\", \"Topic3\", \"Topic3\", \"Topic3\", \"Topic3\", \"Topic3\", \"Topic3\", \"Topic3\", \"Topic3\", \"Topic3\", \"Topic3\", \"Topic3\", \"Topic3\", \"Topic3\", \"Topic3\", \"Topic3\", \"Topic3\", \"Topic3\", \"Topic3\", \"Topic3\", \"Topic3\", \"Topic3\", \"Topic3\", \"Topic3\", \"Topic3\", \"Topic3\", \"Topic3\", \"Topic3\", \"Topic3\", \"Topic3\", \"Topic3\", \"Topic3\", \"Topic3\", \"Topic3\", \"Topic3\", \"Topic3\", \"Topic3\", \"Topic3\", \"Topic3\", \"Topic3\", \"Topic3\", \"Topic3\", \"Topic4\", \"Topic4\", \"Topic4\", \"Topic4\", \"Topic4\", \"Topic4\", \"Topic4\", \"Topic4\", \"Topic4\", \"Topic4\", \"Topic4\", \"Topic4\", \"Topic4\", \"Topic4\", \"Topic4\", \"Topic4\", \"Topic4\", \"Topic4\", \"Topic4\", \"Topic4\", \"Topic4\", \"Topic4\", \"Topic4\", \"Topic4\", \"Topic4\", \"Topic4\", \"Topic4\", \"Topic4\", \"Topic4\", \"Topic4\", \"Topic4\", \"Topic4\", \"Topic4\", \"Topic4\", \"Topic4\", \"Topic4\", \"Topic4\", \"Topic4\", \"Topic4\", \"Topic4\", \"Topic4\", \"Topic4\", \"Topic4\", \"Topic5\", \"Topic5\", \"Topic5\", \"Topic5\", \"Topic5\", \"Topic5\", \"Topic5\", \"Topic5\", \"Topic5\", \"Topic5\", \"Topic5\", \"Topic5\", \"Topic5\", \"Topic5\", \"Topic5\", \"Topic5\", \"Topic5\", \"Topic5\", \"Topic5\", \"Topic5\", \"Topic5\", \"Topic5\", \"Topic5\", \"Topic5\", \"Topic5\", \"Topic5\", \"Topic5\", \"Topic5\", \"Topic5\", \"Topic5\", \"Topic5\", \"Topic5\", \"Topic5\", \"Topic5\", \"Topic5\", \"Topic5\", \"Topic5\", \"Topic5\", \"Topic5\", \"Topic5\", \"Topic5\", \"Topic5\", \"Topic5\", \"Topic5\", \"Topic5\", \"Topic5\", \"Topic5\", \"Topic5\", \"Topic5\", \"Topic5\", \"Topic6\", \"Topic6\", \"Topic6\", \"Topic6\", \"Topic6\", \"Topic6\", \"Topic6\", \"Topic6\", \"Topic6\", \"Topic6\", \"Topic6\", \"Topic6\", \"Topic6\", \"Topic6\", \"Topic6\", \"Topic6\", \"Topic6\", \"Topic6\", \"Topic6\", \"Topic6\", \"Topic6\", \"Topic6\", \"Topic6\", \"Topic6\", \"Topic6\", \"Topic6\", \"Topic6\", \"Topic6\", \"Topic6\", \"Topic6\", \"Topic6\", \"Topic6\", \"Topic6\", \"Topic6\", \"Topic6\", \"Topic6\", \"Topic6\", \"Topic6\", \"Topic6\", \"Topic6\", \"Topic6\", \"Topic6\", \"Topic6\", \"Topic6\", \"Topic6\", \"Topic6\", \"Topic6\", \"Topic6\", \"Topic6\", \"Topic6\", \"Topic6\", \"Topic6\", \"Topic6\", \"Topic6\", \"Topic6\", \"Topic6\", \"Topic6\", \"Topic6\", \"Topic7\", \"Topic7\", \"Topic7\", \"Topic7\", \"Topic7\", \"Topic7\", \"Topic7\", \"Topic7\", \"Topic7\", \"Topic7\", \"Topic7\", \"Topic7\", \"Topic7\", \"Topic7\", \"Topic7\", \"Topic7\", \"Topic7\", \"Topic7\", \"Topic7\", \"Topic7\", \"Topic7\", \"Topic7\", \"Topic7\", \"Topic7\", \"Topic7\", \"Topic7\", \"Topic7\", \"Topic7\", \"Topic7\", \"Topic7\", \"Topic7\", \"Topic7\", \"Topic7\", \"Topic7\", \"Topic7\", \"Topic7\", \"Topic7\", \"Topic7\", \"Topic7\", \"Topic7\", \"Topic7\", \"Topic7\", \"Topic7\", \"Topic7\", \"Topic7\", \"Topic7\", \"Topic7\", \"Topic8\", \"Topic8\", \"Topic8\", \"Topic8\", \"Topic8\", \"Topic8\", \"Topic8\", \"Topic8\", \"Topic8\", \"Topic8\", \"Topic8\", \"Topic8\", \"Topic8\", \"Topic8\", \"Topic8\", \"Topic8\", \"Topic8\", \"Topic8\", \"Topic8\", \"Topic8\", \"Topic8\", \"Topic8\", \"Topic8\", \"Topic8\", \"Topic8\", \"Topic8\", \"Topic8\", \"Topic8\", \"Topic8\", \"Topic8\", \"Topic8\", \"Topic8\", \"Topic8\", \"Topic8\", \"Topic8\", \"Topic8\", \"Topic8\", \"Topic8\", \"Topic8\", \"Topic8\", \"Topic9\", \"Topic9\", \"Topic9\", \"Topic9\", \"Topic9\", \"Topic9\", \"Topic9\", \"Topic9\", \"Topic9\", \"Topic9\", \"Topic9\", \"Topic9\", \"Topic9\", \"Topic9\", \"Topic9\", \"Topic9\", \"Topic9\", \"Topic9\", \"Topic9\", \"Topic9\", \"Topic9\", \"Topic9\", \"Topic9\", \"Topic9\", \"Topic9\", \"Topic9\", \"Topic9\", \"Topic9\", \"Topic9\", \"Topic9\", \"Topic9\", \"Topic9\", \"Topic9\", \"Topic9\", \"Topic9\", \"Topic9\", \"Topic9\", \"Topic9\", \"Topic10\", \"Topic10\", \"Topic10\", \"Topic10\", \"Topic10\", \"Topic10\", \"Topic10\", \"Topic10\", \"Topic10\", \"Topic10\", \"Topic10\", \"Topic10\", \"Topic10\", \"Topic10\", \"Topic10\", \"Topic10\", \"Topic10\", \"Topic10\", \"Topic10\", \"Topic10\", \"Topic10\", \"Topic10\", \"Topic10\", \"Topic10\", \"Topic10\", \"Topic10\", \"Topic10\", \"Topic10\", \"Topic10\", \"Topic10\", \"Topic10\", \"Topic10\", \"Topic10\", \"Topic10\", \"Topic10\", \"Topic10\", \"Topic10\", \"Topic10\", \"Topic10\", \"Topic10\", \"Topic10\", \"Topic10\", \"Topic10\", \"Topic10\"], \"logprob\": [30.0, 29.0, 28.0, 27.0, 26.0, 25.0, 24.0, 23.0, 22.0, 21.0, 20.0, 19.0, 18.0, 17.0, 16.0, 15.0, 14.0, 13.0, 12.0, 11.0, 10.0, 9.0, 8.0, 7.0, 6.0, 5.0, 4.0, 3.0, 2.0, 1.0, -5.6547, -6.1093, -6.2622, -6.4619, -5.6676, -6.6886, -6.503, -6.8316, -6.9621, -7.0412, -7.0418, -4.6462, -7.2886, -7.3816, -7.4022, -7.2995, -7.4388, -7.4845, -7.368, -7.5607, -7.5855, -6.9615, -7.5972, -7.5863, -7.6127, -7.1509, -7.6279, -7.6635, -7.4892, -7.6963, -2.7225, -4.0903, -5.524, -5.7975, -5.6764, -5.7239, -6.7461, -6.2933, -5.7444, -6.4379, -6.5439, -7.161, -6.993, -7.1921, -6.184, -5.8093, -5.3326, -6.0034, -6.1828, -6.8351, -6.1029, -6.8429, -6.8064, -6.0978, -5.5758, -6.2829, -5.3272, -6.0111, -6.464, -6.4594, -6.5099, -6.4609, -3.8186, -4.1311, -4.3923, -5.6211, -5.7831, -5.8287, -5.8936, -5.9369, -5.9559, -5.9659, -5.9674, -6.1021, -6.3004, -6.3131, -6.3742, -6.3947, -6.4269, -6.4443, -6.5475, -6.5739, -6.6559, -6.6693, -6.6741, -6.5749, -5.8947, -6.749, -6.7576, -6.7318, -6.9697, -6.0107, -4.2018, -5.4319, -6.2296, -5.8683, -5.7209, -5.4439, -3.965, -6.2091, -4.8788, -4.6471, -5.5454, -4.7815, -5.9267, -5.3714, -5.7185, -5.8547, -5.9654, -5.9969, -5.0533, -5.0584, -4.8192, -6.1921, -6.7109, -6.7789, -6.7951, -6.1155, -6.8827, -6.9194, -6.9807, -7.0654, -7.0071, -7.1234, -7.135, -7.166, -7.2071, -7.2278, -7.2628, -7.4134, -7.4445, -7.4479, -7.459, -7.4885, -7.4625, -7.5015, -7.5059, -7.4835, -7.5101, -7.5466, -6.6436, -3.6339, -6.4595, -5.4809, -6.6088, -6.7369, -6.3749, -5.1876, -6.0973, -6.4685, -7.1269, -6.7909, -5.0231, -6.0182, -5.8016, -6.3015, -6.7706, -6.2863, -5.8638, -6.0691, -6.7227, -5.8479, -5.9464, -6.1403, -5.8168, -6.2715, -6.3597, -6.6162, -6.1692, -6.6455, -3.9014, -4.8267, -4.8524, -4.9904, -5.1919, -5.2048, -5.2976, -5.3542, -5.4679, -5.5684, -5.5868, -5.9083, -5.9292, -5.989, -6.0398, -6.2271, -6.2805, -6.3256, -6.4231, -6.4521, -6.5269, -6.5869, -6.5967, -6.6378, -6.703, -6.7107, -6.7122, -6.755, -6.8208, -6.8292, -6.1331, -6.5287, -6.2288, -6.0548, -6.2333, -4.7723, -6.4305, -5.6649, -5.9676, -6.2374, -5.7866, -6.1538, -6.4209, -3.1249, -3.1678, -4.1158, -5.3376, -5.7117, -6.2994, -6.3672, -6.3684, -6.5889, -6.6724, -6.7914, -6.7993, -6.89, -6.9222, -6.9766, -6.9825, -6.9942, -7.0119, -7.0179, -7.035, -7.0597, -7.0656, -7.0682, -7.1373, -7.1667, -7.1794, -7.2267, -7.2318, -7.2604, -7.3019, -5.2575, -6.539, -5.7424, -5.7959, -5.7722, -5.7919, -5.6305, -5.7631, -6.6589, -5.994, -6.6649, -6.7034, -5.7891, -6.6901, -5.8462, -4.7527, -6.441, -6.6278, -6.5163, -6.5867, -4.9666, -4.5518, -6.4665, -6.4693, -6.6779, -6.9698, -7.0046, -7.0969, -7.1643, -7.1763, -7.1863, -7.1905, -7.2337, -7.2272, -7.2655, -7.2747, -7.2864, -7.3624, -7.3843, -7.4021, -7.404, -7.3911, -7.4138, -7.423, -7.4293, -7.4519, -7.4519, -7.4536, -7.4823, -7.4202, -6.4954, -6.1174, -7.3163, -6.0357, -6.5817, -6.4081, -6.7578, -6.9222, -6.5371, -6.1957, -6.1577, -6.762, -6.0206, -6.0391, -5.415, -6.5955, -6.4697, -6.5455, -6.8769, -6.7711, -6.3151, -6.3911, -6.793, -6.3117, -6.4449, -6.5618, -6.8223, -6.7869, -4.5771, -6.0385, -6.1115, -6.1757, -6.4087, -6.4324, -6.0788, -6.945, -7.0414, -7.1127, -7.237, -6.1849, -7.3353, -7.4594, -7.5361, -7.5679, -7.5924, -7.6313, -7.6635, -5.9378, -7.7155, -7.743, -7.7595, -7.7718, -7.7954, -7.8058, -5.9929, -7.8216, -7.8231, -7.8433, -4.8247, -4.527, -7.3278, -7.6499, -7.5395, -6.7278, -7.0539, -7.6892, -7.1397, -7.1976, -7.3437, -7.4169, -7.5629, -7.282, -7.4725, -7.5131, -7.469, -5.0149, -6.0642, -6.1701, -6.2328, -6.5308, -6.9818, -7.0151, -7.1108, -7.0972, -7.1818, -7.1726, -7.2933, -7.3079, -7.3276, -7.3299, -7.3299, -7.3571, -4.6245, -6.3657, -7.4893, -7.5105, -7.5361, -7.5432, -7.5659, -7.571, -7.3444, -7.6641, -7.6816, -7.6879, -7.2648, -6.4601, -6.9909, -7.0749, -5.7209, -6.4486, -4.9858, -5.8922, -7.3407, -7.3469, -7.2754, -5.2009, -5.3017, -6.2459, -6.4566, -6.6046, -6.6063, -6.7945, -6.7995, -6.8033, -6.8187, -6.8851, -6.9423, -6.9607, -7.0822, -7.0822, -7.1299, -7.1326, -7.2241, -7.2234, -7.2341, -7.2576, -7.282, -7.2821, -7.2966, -7.307, -7.3635, -7.3655, -7.3636, -7.4079, -7.4103, -6.9542, -7.3992, -5.9989, -6.2629, -6.4674, -7.209, -7.0058, -7.2109, -6.0713, -6.7995, -6.5877, -6.8384, -7.2453, -7.3132, -7.5152, -7.5217, -7.651, -7.6595, -7.7154, -7.8315, -7.872, -7.8807, -7.9213, -7.9225, -7.9295, -7.9542, -7.9516, -8.0066, -8.041, -8.0882, -8.0943, -8.0967, -8.1212, -8.1223, -8.1452, -8.1666, -8.1761, -8.183, -7.0242, -6.8249, -7.4768, -7.0201, -6.8907, -7.9711, -7.8007, -7.9504, -7.7627, -7.7235, -7.7637, -7.3677, -7.3567, -7.8774], \"loglift\": [30.0, 29.0, 28.0, 27.0, 26.0, 25.0, 24.0, 23.0, 22.0, 21.0, 20.0, 19.0, 18.0, 17.0, 16.0, 15.0, 14.0, 13.0, 12.0, 11.0, 10.0, 9.0, 8.0, 7.0, 6.0, 5.0, 4.0, 3.0, 2.0, 1.0, 0.5699, 0.5698, 0.5698, 0.5697, 0.5697, 0.5696, 0.5696, 0.5695, 0.5694, 0.5694, 0.5694, 0.5693, 0.5692, 0.5691, 0.569, 0.569, 0.569, 0.5689, 0.5689, 0.5689, 0.5688, 0.5688, 0.5688, 0.5688, 0.5688, 0.5688, 0.5688, 0.5687, 0.5687, 0.5687, 0.56, 0.5676, 0.5677, 0.5655, 0.5626, 0.563, 0.5685, 0.5628, 0.557, 0.5635, 0.5643, 0.5685, 0.5661, 0.5676, 0.5573, 0.549, 0.5332, 0.5442, 0.5485, 0.5607, 0.5302, 0.5599, 0.5577, 0.5097, 0.431, 0.5041, 0.3395, 0.4353, 0.5093, 0.4424, 0.4625, 0.2462, 1.9835, 1.9835, 1.9834, 1.9829, 1.9827, 1.9827, 1.9826, 1.9825, 1.9825, 1.9825, 1.9825, 1.9823, 1.9821, 1.982, 1.9819, 1.9819, 1.9818, 1.9818, 1.9816, 1.9816, 1.9814, 1.9814, 1.9813, 1.9813, 1.9812, 1.9812, 1.9811, 1.9811, 1.9805, 1.9805, 1.9605, 1.9724, 1.9735, 1.9524, 1.9422, 1.9299, 1.831, 1.953, 1.8065, 1.7796, 1.8742, 1.7729, 1.8881, 1.2973, 1.291, 1.4117, 1.4949, -0.3302, 2.2689, 2.2689, 2.2686, 2.2676, 2.2663, 2.2661, 2.2659, 2.2658, 2.2657, 2.2655, 2.2653, 2.2649, 2.2647, 2.2647, 2.2645, 2.2644, 2.2642, 2.2641, 2.2639, 2.263, 2.2628, 2.2628, 2.2627, 2.2625, 2.2625, 2.2624, 2.2624, 2.2624, 2.2622, 2.262, 2.2576, 2.211, 2.2487, 2.2264, 2.2374, 2.2392, 2.2232, 2.1045, 2.1679, 2.1839, 2.2389, 2.2081, 1.9843, 2.1067, 2.0389, 2.0872, 2.1128, 1.9011, 1.4765, 1.5711, 1.9836, 0.5788, 0.6079, 0.8605, -0.1501, 0.9303, 0.9067, 1.7115, -0.3732, 1.6739, 2.9504, 2.9498, 2.9498, 2.9496, 2.9494, 2.9494, 2.9492, 2.9491, 2.9489, 2.9487, 2.9487, 2.9479, 2.9478, 2.9476, 2.9474, 2.9468, 2.9465, 2.9463, 2.9459, 2.9457, 2.9453, 2.945, 2.9449, 2.9447, 2.9443, 2.9442, 2.9442, 2.9439, 2.9435, 2.9434, 2.9237, 2.9319, 2.9109, 2.8996, 2.9002, 2.5029, 2.7999, 1.3359, 1.647, 1.9044, 0.2202, 1.2099, 1.3291, 3.1296, 3.1296, 3.1292, 3.1278, 3.1269, 3.1246, 3.1242, 3.1242, 3.1228, 3.1221, 3.1213, 3.1212, 3.1204, 3.1201, 3.1195, 3.1195, 3.1193, 3.1192, 3.1191, 3.1189, 3.1186, 3.1186, 3.1185, 3.1177, 3.1174, 3.1172, 3.1166, 3.1166, 3.1162, 3.1156, 3.0497, 3.0904, 2.9978, 3.0011, 2.9774, 2.9726, 2.9341, 2.9329, 2.959, 2.6797, 2.955, 2.8384, 1.8684, 2.7759, 1.507, -1.4702, 1.8488, 2.0977, 1.1145, 0.5869, 3.2284, 3.227, 3.2231, 3.2231, 3.2215, 3.2187, 3.2183, 3.2171, 3.2163, 3.2161, 3.216, 3.2159, 3.2153, 3.2153, 3.2149, 3.2147, 3.2145, 3.2133, 3.213, 3.2127, 3.2126, 3.2126, 3.2125, 3.2123, 3.2122, 3.2118, 3.2118, 3.2118, 3.2111, 3.2104, 3.2029, 3.1474, 3.1938, 3.0122, 3.0909, 3.0433, 3.0768, 3.0934, 2.9814, 2.7961, 2.7689, 2.9081, 2.4663, 2.3539, 1.7814, 2.648, 2.4596, 2.5088, 2.8355, 2.6833, 1.943, 1.3241, 2.2769, 0.4753, 0.5624, 1.0293, 2.2747, 1.0537, 4.0006, 3.9929, 3.9922, 3.9914, 3.9883, 3.988, 3.9879, 3.9782, 3.9758, 3.9738, 3.97, 3.9696, 3.9667, 3.962, 3.9588, 3.9574, 3.9563, 3.9545, 3.9529, 3.9507, 3.9503, 3.9489, 3.948, 3.9474, 3.946, 3.9454, 3.9452, 3.9446, 3.9445, 3.9434, 3.9258, 3.5844, 3.876, 3.9195, 3.8821, 3.5965, 3.6637, 3.9156, 3.3346, 2.8532, 3.1228, 3.2288, 3.5853, -0.1084, 2.3331, 2.7953, 0.5087, 4.1775, 4.1689, 4.1676, 4.1672, 4.1621, 4.151, 4.1488, 4.1469, 4.1468, 4.1443, 4.1411, 4.14, 4.1394, 4.1386, 4.1385, 4.1385, 4.1373, 4.1368, 4.1321, 4.131, 4.13, 4.1288, 4.1284, 4.1272, 4.1269, 4.1227, 4.1217, 4.1207, 4.1203, 4.12, 4.0695, 4.0853, 4.0405, 3.7272, 3.8813, 3.4615, 3.4866, 4.0513, 3.9485, 2.3205, 4.3031, 4.3025, 4.2922, 4.2882, 4.2849, 4.2849, 4.28, 4.2798, 4.2797, 4.2793, 4.2772, 4.2754, 4.2748, 4.2704, 4.2703, 4.2686, 4.2684, 4.2647, 4.2646, 4.2642, 4.2631, 4.262, 4.262, 4.2614, 4.2608, 4.2581, 4.258, 4.258, 4.2559, 4.2558, 4.2433, 4.2545, 2.5799, 2.2596, 2.5951, 3.7103, 2.7848, 3.2205, 4.4854, 4.4671, 4.4665, 4.4657, 4.4476, 4.4438, 4.4311, 4.4306, 4.421, 4.4204, 4.4138, 4.4056, 4.4018, 4.4009, 4.3969, 4.3968, 4.396, 4.3935, 4.3894, 4.388, 4.3839, 4.3788, 4.3781, 4.3778, 4.375, 4.3748, 4.372, 4.3694, 4.3682, 4.3674, 4.3402, 4.3026, 4.2462, 4.0298, 3.9298, 4.2804, 4.1575, 4.254, 3.8121, 3.6926, 3.4207, 1.1665, 0.9203, 3.4485]}, \"token.table\": {\"Topic\": [10, 2, 7, 1, 1, 3, 6, 3, 1, 2, 4, 1, 8, 1, 6, 8, 8, 6, 5, 3, 1, 3, 7, 9, 9, 9, 9, 3, 4, 9, 7, 10, 2, 7, 10, 4, 7, 1, 2, 3, 5, 9, 1, 5, 7, 1, 2, 3, 5, 1, 5, 6, 1, 5, 8, 4, 7, 10, 3, 3, 3, 6, 1, 3, 6, 9, 1, 2, 6, 5, 5, 5, 5, 5, 3, 4, 5, 5, 5, 5, 5, 5, 5, 5, 7, 3, 7, 7, 7, 7, 7, 7, 4, 1, 5, 1, 5, 6, 1, 5, 10, 7, 1, 9, 8, 5, 7, 5, 2, 2, 3, 8, 1, 3, 6, 10, 1, 6, 1, 3, 6, 7, 9, 2, 3, 1, 3, 4, 9, 9, 6, 1, 8, 2, 3, 7, 2, 7, 5, 10, 1, 7, 1, 3, 8, 2, 3, 5, 8, 8, 1, 8, 1, 5, 8, 8, 1, 5, 10, 1, 6, 7, 6, 8, 3, 1, 5, 8, 7, 3, 1, 3, 3, 1, 3, 6, 1, 3, 3, 3, 6, 3, 2, 2, 1, 3, 10, 10, 1, 2, 3, 9, 9, 9, 5, 2, 4, 3, 1, 3, 8, 9, 6, 6, 3, 3, 7, 10, 1, 6, 6, 6, 6, 1, 3, 4, 5, 6, 8, 10, 7, 7, 2, 10, 3, 1, 2, 10, 2, 3, 1, 5, 3, 2, 2, 4, 2, 4, 1, 8, 1, 10, 1, 8, 1, 7, 1, 3, 8, 2, 3, 8, 10, 2, 4, 8, 10, 2, 2, 7, 2, 2, 3, 1, 2, 3, 1, 2, 3, 5, 2, 3, 6, 1, 2, 3, 1, 2, 7, 3, 7, 1, 2, 3, 5, 6, 9, 1, 5, 2, 9, 1, 6, 1, 3, 6, 6, 1, 1, 6, 8, 9, 6, 8, 1, 4, 9, 8, 4, 4, 4, 10, 2, 1, 5, 7, 10, 6, 1, 8, 1, 3, 4, 9, 7, 9, 1, 5, 6, 7, 7, 3, 1, 8, 1, 5, 1, 2, 3, 5, 1, 5, 1, 6, 8, 1, 5, 5, 1, 2, 3, 4, 5, 6, 7, 8, 1, 5, 4, 1, 9, 2, 6, 1, 10, 9, 9, 9, 1, 3, 5, 1, 6, 1, 6, 9, 1, 3, 6, 8, 1, 3, 6, 10, 10, 1, 7, 7, 7, 7, 9, 1, 7, 9, 5, 9, 6, 8, 3, 4, 2, 3, 4, 9, 3, 10, 10, 2, 3, 1, 2, 3, 6, 5, 10, 4, 4, 4, 10, 10, 1, 2, 3, 4, 6, 7, 3, 6, 2, 3, 1, 3, 8, 2, 10, 1, 2, 3, 1, 4, 9, 2, 4, 1, 1, 3, 4, 5, 6, 9, 2, 3, 8, 1, 1, 2, 3, 4, 5, 6, 3, 6, 6, 2, 1, 3, 1, 2, 3, 8, 3, 6, 1, 2, 3, 4, 5, 6, 8, 1, 6, 6, 1, 5, 8, 7, 1, 6, 1, 5, 6, 8, 3, 7, 10, 1, 10, 3, 10, 1, 5, 8, 1, 5, 1, 5, 1, 10, 1, 2, 5, 4, 6, 3, 8, 2, 3, 8, 9, 4, 10, 3, 1, 2, 3, 4, 5, 6, 1, 3, 4, 5, 6, 9, 1, 3, 6, 3, 8, 2, 3, 2, 8, 3, 4, 7, 9, 10, 1, 5, 5, 5, 6, 7, 1, 2, 3, 4, 5, 6, 6, 1, 5, 1, 5, 9, 5, 6, 4, 3, 4, 8, 1, 3, 6, 1, 2, 3, 4, 5, 6, 3, 2, 1, 2, 3, 4, 5, 6, 8, 1, 7, 1, 3, 6, 10, 1, 5, 6, 1, 5, 6, 1, 5, 2, 10, 7, 10, 3, 1, 3, 5, 6, 1, 3, 7, 1, 2, 3, 4, 5, 6, 1, 5, 7, 1, 5, 1, 7, 1, 2, 3, 4, 5, 6, 6, 1, 5, 1, 6, 1, 6, 1, 2, 5, 7, 1, 5, 1, 2, 3, 5, 6, 10, 1, 5, 1, 6, 9, 9, 1, 3, 6, 1, 4, 6, 3, 6, 1, 3, 6, 8, 3, 6, 6, 10, 1, 8, 1, 5, 9, 1, 1, 5, 1, 2, 3, 4, 5, 6, 6, 1, 5, 5, 7, 10, 1, 4, 10, 7, 1, 1, 2, 1, 3, 6, 4, 5, 8, 1, 2, 3, 4, 6, 8, 1, 2, 5, 6, 3, 1, 3, 6, 7, 9, 10, 4, 8, 10, 7, 8, 1, 2, 3, 6, 9, 3, 1, 3, 5, 6, 2, 2, 2, 1, 5, 2, 2, 2, 1, 4, 2, 2, 3, 2, 1, 3, 7, 4, 8, 5, 1, 2, 3, 4, 5, 6, 4, 6, 3, 6, 6, 6, 1, 7, 10, 1, 3, 8, 1, 5, 6, 1, 5, 10, 4, 4, 4, 4, 4, 4, 4, 4, 2, 6, 1, 6, 1, 6, 1, 3, 6, 2, 1, 6, 9, 1, 2, 3, 4, 5, 2, 3, 1, 6, 9, 9, 9, 1, 5, 1, 7, 9, 3, 4, 8, 8, 8, 4, 10, 8, 9, 5, 7, 8, 9], \"Freq\": [0.8389031381190207, 0.9998222598971241, 0.9499495545915778, 0.9981554616330043, 0.14896759241277416, 0.1291052467577376, 0.7249756164088342, 0.9983007254369727, 0.024181874717493206, 0.9694733409467731, 0.004396704494089674, 0.9990110511639574, 0.9775101799827887, 0.9993797477518939, 0.9825412682444122, 0.9884650310927046, 0.9584469676717926, 0.9902881674903244, 0.9897583685065812, 0.9972356789161473, 0.6368314392504111, 0.17057984979921728, 0.19332382977244625, 0.9788285414771605, 0.979443683505774, 0.9787644120412726, 0.9270167387833316, 0.9927110818679569, 0.9974968461036818, 0.9840276559442379, 0.10810962474059119, 0.8648769979247295, 0.04942042009776154, 0.9513430868819097, 0.8184804967885877, 0.9977569175578678, 0.9854367900640727, 0.37682733711549915, 0.010004265587137146, 0.4068401338769106, 0.026678041565699057, 0.17674202537275624, 0.9470240427168791, 0.021938780912360137, 0.031079939625843524, 0.8977590527040756, 0.08763519814026371, 0.0066897097816995205, 0.007358680759869472, 0.9898621281993869, 0.010058182144924144, 6.683177504932986e-05, 0.9924857531693415, 0.00642593559837709, 0.000642593559837709, 0.9983734149556471, 0.3552343554437599, 0.6315277430111288, 0.9926058651320431, 0.9967424109747027, 0.9189422377406912, 0.07897159855584064, 0.022321804259906722, 0.958442470409745, 0.015346240428685872, 0.0027902255324883402, 0.03512320990954617, 0.1053696297286385, 0.8546647744656235, 0.9998418041165601, 0.9848532296457333, 0.9950909365375167, 0.9964275829176442, 0.9974121770367325, 0.02860430583374988, 0.009534768611249961, 0.963011629736246, 0.9939166049528134, 0.99100091082909, 0.9784783760803596, 0.9872811147468263, 0.9909106459292844, 0.9996556433868081, 0.9906115417146258, 0.9698562297090454, 0.9932044420777811, 0.9959146625002373, 0.954944446793634, 0.9524004767523226, 0.9825534463336439, 0.9748616216331829, 0.9728254648469475, 0.9930461605909127, 0.715390396226371, 0.2827052957258201, 0.32581270384385674, 0.04249730919702479, 0.632737714711258, 0.6410124836802155, 0.35525993071433626, 0.8795177238459705, 0.9550104924711046, 0.41565211655824497, 0.55420282207766, 0.9062486429459718, 0.9967006032231384, 0.9648652790945859, 0.9997562124579074, 0.9990610513117782, 0.9892219656352086, 0.010304395475366757, 0.0010304395475366757, 0.14614520089295938, 0.8327518994278063, 0.016544739723731248, 0.0027574566206218748, 0.1675860497720684, 0.8299499607759577, 0.0373972372875016, 0.95532942525345, 0.0067994976886366545, 0.9883781530336171, 0.9480453644460332, 0.9973380749781244, 0.0016512219784406035, 0.6049940233187677, 0.1344431162930595, 0.044814372097686496, 0.21286826746401086, 0.9532077378187901, 0.9788866293929988, 0.9930254161457034, 0.0061978007942519635, 0.323896737105718, 0.016717250947391897, 0.658241756053556, 0.09206580063602009, 0.8746251060421909, 0.9821889575592062, 0.9759775621648831, 0.016119520130552983, 0.967171207833179, 0.9993986304773752, 0.9929003760858037, 0.966753191389987, 0.999556573297794, 0.9900922340437996, 0.045447826017311004, 0.954404346363531, 0.9808690341930193, 0.0810415684786594, 0.8914572532652534, 0.05556847229717855, 0.05556847229717855, 0.8890955567548569, 0.9863115728285649, 0.11613818894632338, 0.8793320020221628, 0.9605761600771896, 0.986957581661744, 0.012995283473023655, 0.9248519261880419, 0.09383006754476697, 0.8913856416752862, 0.9961054093189088, 0.03602439917712438, 0.008005422039360974, 0.9566479337036364, 0.9694587585515334, 0.9923610113733475, 0.14472430197121736, 0.8547779085175025, 0.9894300788868357, 0.07554944547196968, 0.9041562667774435, 0.019496631089540563, 0.030497855193453327, 0.9672176932780912, 0.9934376239557307, 0.9963435520011167, 0.0027372075604426283, 0.996893077335953, 0.9970843117165307, 0.9999316210568747, 0.04265375073886542, 0.12796125221659627, 0.810421264038443, 0.9669160123501954, 0.17851392163605012, 0.38407540715635025, 0.2596566132888002, 0.17851392163605012, 0.9806520469640052, 0.9615632760564843, 0.9938392990150803, 0.977208389770526, 0.022615054087259435, 0.997651498635633, 0.14883963074565626, 0.4465188922369688, 0.042525608784473215, 0.3402048702757857, 0.9802030400847301, 0.9840245467367155, 0.9939701748441586, 0.21963869865825197, 0.1882617417070731, 0.5647852251212193, 0.935934100993723, 0.06335895933092899, 0.9907409955098344, 0.9861531895117713, 0.9942053818256851, 0.5416210881862056, 0.2460590427512601, 0.19801201073474184, 0.0014559706671672195, 0.004367912001501658, 0.008735824003003316, 0.9672597502384821, 0.9736186052844429, 0.9457317612720385, 0.9994341039122822, 0.9395060904142271, 0.9994490393230339, 0.28460759725725604, 0.28460759725725604, 0.45537215561160965, 0.8098946431700932, 0.18981217575112025, 0.1511240823392147, 0.8406277080118818, 0.9970106926075261, 0.9987947505069896, 0.9597315689454646, 0.04004443264028364, 0.9984818410869262, 0.996989607498873, 0.9983168692060269, 0.9940118060908055, 0.9993271070780666, 0.856018065334542, 0.055171661915242726, 0.9379182525591263, 0.6685159077207876, 0.31972499934472454, 0.2426899820200114, 0.2690057632029042, 0.4853799640400228, 0.9216789602383935, 0.028702804990122982, 0.009567601663374326, 0.0350812060990392, 0.9963936139240044, 0.9982219354166241, 0.9891493816574155, 0.9731218566185265, 0.997064963182796, 0.5725604908372007, 0.4184095894579544, 0.9976087126218631, 0.9687715855873125, 0.029688161493804738, 0.2495443597406931, 0.6135086224192586, 0.13621417016413379, 0.960582883323642, 0.019059184192929405, 0.01858270458810617, 0.0019059184192929404, 0.9474852379080158, 0.02498642505031687, 0.025985882052329545, 0.17952890398351007, 0.5646184030281391, 0.25582868817650184, 0.9997851030509957, 0.6957437288655274, 0.30086215302293073, 0.057236043792289255, 0.8585406568843388, 0.6892045877984989, 0.04628358037718857, 0.2617126090419208, 0.0008415196432216103, 0.0016830392864432206, 0.0008415196432216103, 0.9980958656603591, 0.0014699497285130473, 0.9986987580814368, 0.9615740192134034, 0.723541399382157, 0.27586528270757826, 0.8582555790406025, 0.031051214871222952, 0.11054232494155371, 0.9839025607894444, 0.9989787557970453, 0.3211549835233112, 0.6733894815811363, 0.807185883175028, 0.15134735309531774, 0.995512775668792, 0.9731515977512822, 0.9974503914904792, 0.9901817626156796, 0.9385378742138728, 0.9596615833974078, 0.9977980595506227, 0.9976215536841013, 0.9894994825907705, 0.9803906724954651, 0.9961845797979308, 0.9048074061591458, 0.07853662838271067, 0.01636179757973139, 0.9087037937384936, 0.9925249436338912, 0.9990462370367655, 0.9596615833974078, 0.6269130137692107, 0.00861736101400977, 0.3511574613208981, 0.012926041521014654, 0.928962086470858, 0.06635443474791843, 0.3477488796638988, 0.005039838835708678, 0.6501392098064195, 0.944291976397487, 0.9960468894382696, 0.9942809668345818, 0.2497532638811746, 0.7492597916435239, 0.8657703577233022, 0.13309604006791065, 0.9407585331992739, 0.01138284346219762, 0.037496425522533336, 0.01004368540782143, 0.35934898138708965, 0.6380277832791184, 0.21336036992703258, 0.7766317465343986, 0.9490328661433775, 0.17753635550028427, 0.8219275717605753, 0.9979446173781252, 0.7940141551855239, 0.09879856497171473, 0.08900934935983841, 0.013414851023682367, 0.0041694807235769515, 0.00018128177059030225, 0.00018128177059030225, 0.00018128177059030225, 0.2915096794755274, 0.7044817253991913, 0.9946580274365794, 0.9981961064973339, 0.9716799650068451, 0.9993019082505098, 0.9818962790163994, 0.9998425863409659, 0.9366383605543279, 0.9935796797052064, 0.9703949199940576, 0.9480068914437486, 0.200918277754271, 0.043677886468319785, 0.7512596472551003, 0.9986151521698539, 0.9925250197476628, 0.41623330896862965, 0.5763230431873333, 0.9525172381614019, 0.38593697340673916, 0.02968745949282609, 0.08164051360527175, 0.497264946504837, 0.29759346144901067, 0.6921302474609566, 0.006763487760204788, 0.002254495920068263, 0.9056480644894013, 0.3247766840378866, 0.6686578789015313, 0.9892449135544411, 0.9141841437815119, 0.975009730756017, 0.9749863926843834, 0.07126753901386598, 0.9264780071802577, 0.980251793954967, 0.9828374592823462, 0.92754546628402, 0.985219112395585, 0.9875149733528935, 0.03506274962537786, 0.9583818230936614, 0.03484143235207879, 0.005806905392013131, 0.9523324842901535, 0.011613810784026263, 0.19577382582146358, 0.6852083903751225, 0.8671020218151112, 0.9986264730485982, 0.9938367531337462, 0.12501675637323817, 0.11743998325970857, 0.750100538239429, 0.007576773113529585, 0.9884771944546423, 0.9291775098984004, 0.9968269287162013, 0.9915336191125056, 0.9990547226715737, 0.8140486433611578, 0.9882247390212667, 0.9636793012132102, 0.01216766794461124, 0.021016880995237595, 0.0002212303262656589, 0.0008849213050626356, 0.00199107293639093, 0.9670222785007024, 0.021977779056834144, 0.5022413667679723, 0.4970232746457076, 0.25453895994295833, 0.11136079497504425, 0.6363473998573957, 0.6321402179277394, 0.361222981672994, 0.0703528925385433, 0.8584703397445121, 0.07117814640996316, 0.36041102127149444, 0.63932206285848, 0.989095669570873, 0.13436540383033252, 0.8573792434887884, 0.9992990205914732, 0.03315867925586335, 0.8483095442958373, 0.036842976950959276, 0.011052893085287783, 0.06263306081663077, 0.007368595390191855, 0.9894073625204791, 0.004580589641298515, 0.004580589641298515, 0.9989748667228509, 0.8701115079620694, 0.04075463737527257, 0.01833958681887266, 0.06520741980043611, 0.0007641494507863607, 0.004584896704718165, 0.19191172580589438, 0.8049630721302792, 0.9952998663329734, 0.9983306680325988, 0.9959698439456816, 0.0036085863911075418, 0.40012092077917577, 0.14400487245434104, 0.4523106060981987, 0.00289942696216794, 0.9993527258286089, 0.0007508284942363704, 0.5065525150953388, 0.20380823849539023, 0.1028934796287407, 0.17511678744506828, 0.0059361622862735015, 0.0009893603810455837, 0.003957441524182335, 0.0014984296533318401, 0.9964557194656737, 0.9915049027155155, 0.9909333443034872, 0.004086323069292731, 0.004086323069292731, 0.9958316880718862, 0.9985625299867545, 0.9890658050565293, 0.4971737350050417, 0.03787990361943175, 0.4640288193380389, 0.9761774250330114, 0.9896233056751346, 0.1312593525445243, 0.7875561152671459, 0.9716011825219668, 0.027125921339445774, 0.9997517846071606, 0.8844386010289886, 0.8018544834803976, 0.1977711912857635, 0.9268087133050782, 0.9974089986495148, 0.0025779674562483317, 0.9954109244819038, 0.004364242270289677, 0.9998060367159898, 0.8479443856829003, 0.1014825574249155, 0.8966036259087895, 0.0020924238644312474, 0.9986834792252898, 0.9867885320279385, 0.9962813445596153, 0.9212671688703866, 0.05584545891851498, 0.9392190818113882, 0.9584240248044568, 0.9948982708374771, 0.9962880942528264, 0.8202249398831111, 0.9981334840101808, 0.2341425788742841, 0.1826826714293865, 0.5506210096604044, 0.012864976861224401, 0.01029198148897952, 0.01029198148897952, 0.1565656003286335, 0.7516534352060502, 0.010391522145705764, 0.006927681430470509, 0.06927681430470509, 0.0041566088582823055, 0.004961192219043003, 0.9723936749324287, 0.024805961095215018, 0.9963244730838262, 0.9716270619197903, 0.9086780663677592, 0.09009115871680348, 0.9969219219063117, 0.0018530147247329213, 0.41608603335217587, 0.15603226250706595, 0.05201075416902198, 0.05201075416902198, 0.3640752791831539, 0.9991906305433146, 0.9856244276480178, 0.9921083750572397, 0.9942208035786078, 0.9925249381492812, 0.9736767942997122, 0.9414389363177471, 0.012075684432294733, 0.026473615870799994, 0.0181135266484421, 0.0009288988024842102, 0.0004644494012421051, 0.9914008915739015, 0.12147874397297267, 0.877781891933738, 0.14455586294132672, 0.855288855736183, 0.9703891195457421, 0.9988167595862686, 0.9995710603423835, 0.9921065431224664, 0.016109342156210328, 0.98266987152883, 0.9762999471505369, 0.14402610309149189, 0.8493304020542389, 0.006354092783448172, 0.4695901995183977, 0.037467303153063646, 0.17484741471429702, 0.037467303153063646, 0.277258043332671, 0.0024978202102042433, 0.9907348793366202, 0.9992278969138984, 0.42265688453345474, 0.5036332035328549, 0.040488159499700103, 0.025675418219322017, 0.0009875160853585392, 0.006418854554830504, 0.0004937580426792696, 0.2830862012202486, 0.7077155030506215, 0.999083323845213, 0.989812767158737, 0.009207560624732438, 0.8418432423436899, 0.999487367977673, 0.0003207597458208193, 0.9947705661627657, 0.9741590018282639, 0.024496140144761015, 0.0008748621480271791, 0.07624789377936586, 0.922599514730327, 0.9973039949827873, 0.8382300719697712, 0.15474058057407836, 0.7737029028703918, 0.9925038085395007, 0.9927859859673083, 0.003573314886505009, 0.0029777624054208407, 0.0005955524810841681, 0.22196269165844662, 0.24415896082429128, 0.5105141908144272, 0.8802152645852264, 0.08290979475200787, 0.02181836704000207, 0.008103964900572197, 0.006233819154286306, 0.0012467638308572612, 0.9938758492194956, 0.0038314412074768526, 0.001532576482990741, 0.9990358796339464, 0.0008080946565100097, 0.5269038104815342, 0.47421342943338085, 0.8736766134367466, 0.07906575687210377, 0.020161768002386463, 0.01660380894314179, 0.004348616627965708, 0.0059299317654077826, 0.9816548152136538, 0.9792281092822969, 0.020634381600403297, 0.1194705656992896, 0.8661616013198496, 0.44083922698776873, 0.5575319635433545, 0.9787349617031867, 0.009461455054058734, 0.011564000621627341, 0.9708180105911419, 0.9981001050188779, 0.9804121722025081, 0.9870270576117911, 0.0015928354883460857, 0.0074332322789484, 0.0015928354883460857, 0.0015928354883460857, 0.8613001415146073, 0.9929475786735372, 0.007078037729852098, 0.9985178268195379, 0.0014264540383136257, 0.9503819381359608, 0.9507966941917694, 0.016797435140409708, 0.5935093749611431, 0.3863410082294233, 0.5013266418899704, 0.10898405258477617, 0.3868933866759554, 0.12626882150879673, 0.8698518815050442, 0.19774466029103546, 0.33464480972329075, 0.46546050806966804, 0.9554406308805887, 0.5815531911296214, 0.41539513652115817, 0.12520741404134447, 0.7512444842480669, 0.1264175916833154, 0.8849231417832077, 0.9977085107177373, 0.0022183624473990824, 0.9766543622278925, 0.9996978687140218, 0.9999115090078318, 0.9863288732229532, 0.7234512080811093, 0.14007246794761902, 0.08773769970345367, 0.029245899901151225, 0.009748633300383742, 0.010261719263561833, 0.9706380071165166, 0.17623441598323838, 0.8211773851133873, 0.9942223081966928, 0.46700000586875456, 0.5337142924214338, 0.9877093491643258, 0.011876264719410732, 0.8775495373690817, 0.9069835885675979, 0.9975562026291773, 0.9976756957892577, 0.9992515710092535, 0.7340287267227897, 0.03013116780161965, 0.23519050422930893, 0.9988573189452443, 0.9822728676969361, 0.9261507724149095, 0.0778112448933621, 0.8378514046904603, 0.021084337325943277, 0.06275100394625975, 0.000502008031570078, 0.000502008031570078, 0.49850399322065136, 0.5005868789861972, 0.0006942952551819657, 0.0006942952551819657, 0.9936909347205726, 0.42547589283382803, 0.5733547092455853, 0.9707310997102422, 0.9834604351550312, 0.9502164834697261, 0.8722763640990773, 0.994105683474349, 0.9844951022965455, 0.9512584526690722, 0.9478188466538406, 0.051935279268703595, 0.020147801812773928, 0.023180804236202262, 0.9432637536862116, 0.013215224844937737, 0.00021664303024488096, 0.9965191680336939, 0.011156733661327457, 0.7937219090487247, 0.0812847738182429, 0.11316115570774991, 0.9988657877679397, 0.9959599404594538, 0.9990117996669802, 0.15083031437130434, 0.8389936236903804, 0.9970427450759629, 0.9997120739799278, 0.9968804944197092, 0.9988916645767865, 0.998453972685977, 0.9983856890550877, 0.01897736352310764, 0.9792319577923543, 0.9978331197251331, 0.9985190624060504, 0.06874624424985584, 0.893701175248126, 0.9515785313148934, 0.0485499250670864, 0.9930259584510442, 0.392311789959225, 0.13214712924942315, 0.244334535851798, 0.1989089601723088, 0.01376532596348158, 0.01858319005070013, 0.9985260421240845, 0.9954773072181758, 0.020431129693751715, 0.9704786604532065, 0.9832831035937414, 0.9826426883253047, 0.30482070415943285, 0.6531872231987846, 0.8427404760884913, 0.7100135035694981, 0.1290933642853633, 0.15675622806079828, 0.9897480925910359, 0.0072019091976478706, 0.002057688342185106, 0.9984631397342366, 0.0009419463582398458, 0.9468543010128013, 0.9989659801095147, 0.9917519131625743, 0.9997729958791122, 0.9903153676538652, 0.9937859069405297, 0.9975614108365439, 0.9957363428235586, 0.9983406660085744, 0.023004415554884756, 0.9661854533051598, 0.8506649102149013, 0.14904211650046204, 0.9978775297737067, 0.9724925362557257, 0.03311056789282452, 0.04635479504995433, 0.9204737874205217, 0.9982836546834987, 0.5097052733246374, 0.48824399865833695, 0.9791586958686206, 0.6256188283461975, 0.0038147489533304725, 0.06993706414439199, 0.272118758670907, 0.0279748256577568, 0.8155591350555745, 0.18450862561143225, 0.9979644784101833, 0.04574757563173973, 0.9149515126347946, 0.9755469860503916, 0.9786753249175941, 0.1384560785615487, 0.8584276870816019, 0.8258813154773704, 0.04413106265909613, 0.12924096921592437, 0.016135539991158486, 0.9735109127998953, 0.010757026660772323, 0.9978510190293202, 0.9849522368274857, 0.9947138419404147, 0.884863432019076, 0.9396669275891939, 0.9925098916277111, 0.9903046772243149, 0.9862171108542596, 0.9574907270362895, 0.9707980963166787], \"Term\": [\"\\uac00\\uae30 \\uc5b4\\ub9b0\\uc774\\uc9d1\", \"\\uac00\\ub4dc \\ud0a4\\uc988\", \"\\uac00\\ubc29 \\uc058\\ub760\", \"\\uac00\\ubc29 \\uc138\\ud2b8\", \"\\uac04\\uc808 \\uae30\", \"\\uac04\\uc808 \\uae30\", \"\\uac04\\uc808 \\uae30\", \"\\uac1c\\ube44 \\ub0ae\\uc7a0\", \"\\uac1c\\uc6d4 \\uac1c\\uc6d4\", \"\\uac1c\\uc6d4 \\uac1c\\uc6d4\", \"\\uac1c\\uc6d4 \\uac1c\\uc6d4\", \"\\uac83 \\uc5b4\\ub9b0\\uc774\\uc9d1\", \"\\uaca8\\uc6b8 \\ubc29\\ud55c\", \"\\uacbd\\ucd94 \\ubca0\\uac1c\", \"\\uace0\\ubbfc \\uc815\\ub3c4\", \"\\uacf0 \\ubca0\\uac1c\", \"\\uacf0 \\uc544\\uae30\", \"\\uacf5\\uac10 \\uc5d0\\uc5b4\", \"\\uad6c\\ub984 \\ub2ec\", \"\\uad6c\\ub984 \\ucf54\\ud2bc\", \"\\uad6d\\ub0b4 \\uc0b0\", \"\\uad6d\\ub0b4 \\uc0b0\", \"\\uad6d\\ub0b4 \\uc0b0\", \"\\uadf8 \\uadf8\", \"\\uadf8 \\uaf2c\\ub974\\ub370\", \"\\uadf8 \\uc190\\ub140\", \"\\uadf8 \\ud578\\ub4dc\", \"\\uadf8\\ub9b0\\ud2f0 \\ub2ec\", \"\\uae30\\uc800\\uadc0 \\ud338\", \"\\uaf2c\\ub974\\ub370 \\ube14\\ub7ad\\ud0b7\", \"\\uafc0\\ubc8c \\uc6d0\\ub2e8\", \"\\uafc0\\ubc8c \\uc6d0\\ub2e8\", \"\\uafc0\\uc7a0 \\ud1a0\\ub07c\", \"\\uafc0\\uc7a0 \\ud1a0\\ub07c\", \"\\ub0a0 \\uba3c\\uc800\", \"\\ub0ae\\ubc24 \\uae30\\uc800\\uadc0\", \"\\ub0ae\\uc7a0 \\ub77c\\uc2a4\", \"\\ub0ae\\uc7a0 \\ubca0\\uac1c\", \"\\ub0ae\\uc7a0 \\ubca0\\uac1c\", \"\\ub0ae\\uc7a0 \\ubca0\\uac1c\", \"\\ub0ae\\uc7a0 \\ubca0\\uac1c\", \"\\ub0ae\\uc7a0 \\ubca0\\uac1c\", \"\\ub0ae\\uc7a0 \\ubd88\\uc758\", \"\\ub0ae\\uc7a0 \\ubd88\\uc758\", \"\\ub0ae\\uc7a0 \\ubd88\\uc758\", \"\\ub0ae\\uc7a0 \\uc2dc\\uac04\", \"\\ub0ae\\uc7a0 \\uc2dc\\uac04\", \"\\ub0ae\\uc7a0 \\uc2dc\\uac04\", \"\\ub0ae\\uc7a0 \\uc2dc\\uac04\", \"\\ub0ae\\uc7a0 \\uc774\\ubd88\", \"\\ub0ae\\uc7a0 \\uc774\\ubd88\", \"\\ub0ae\\uc7a0 \\uc774\\ubd88\", \"\\ub0ae\\uc7a0 \\ud328\\ub4dc\", \"\\ub0ae\\uc7a0 \\ud328\\ub4dc\", \"\\ub0ae\\uc7a0 \\ud328\\ub4dc\", \"\\ub0b4\\ubd80 \\uc2e4\\ud5d8\", \"\\ub0c4\\uc0c8 \\uc81c\\uac70\", \"\\ub0c4\\uc0c8 \\uc81c\\uac70\", \"\\ub0c9\\uac10 \\ub9e4\\ud2b8\", \"\\ub0c9\\uac10 \\ubca0\\uac1c\", \"\\ub0c9\\uac10 \\uc774\\ubd88\", \"\\ub0c9\\uac10 \\uc774\\ubd88\", \"\\ub0c9\\uac10 \\ud328\\ub4dc\", \"\\ub0c9\\uac10 \\ud328\\ub4dc\", \"\\ub0c9\\uac10 \\ud328\\ub4dc\", \"\\ub0c9\\uac10 \\ud328\\ub4dc\", \"\\ub124\\uc774\\ubc84 \\ud398\\uc774\", \"\\ub124\\uc774\\ubc84 \\ud398\\uc774\", \"\\ub124\\uc774\\ubc84 \\ud398\\uc774\", \"\\ub178 \\ub0ae\\uc7a0\", \"\\ub178 \\ub2ec\", \"\\ub178 \\ub3c4\", \"\\ub178 \\ubd84\\ub9ac\", \"\\ub178 \\uc0ac\\uacc4\\uc808\", \"\\ub178 \\uc544\\uae30\", \"\\ub178 \\uc544\\uae30\", \"\\ub178 \\uc544\\uae30\", \"\\ub178 \\uc5b4\\ub9b0\\uc774\\uc9d1\", \"\\ub178 \\uc720\\uc544\", \"\\ub178 \\uc77c\\uccb4\", \"\\ub178 \\uc81c\\ud488\", \"\\ub178 \\ud611\\ucc2c\", \"\\ub178\\ub3c4 \\ub178\", \"\\ub178\\ub3c4 \\ub178\\ub85c\", \"\\ub204\\uc624 \\ube14\\ub7ad\\ud0b7\", \"\\ub204\\uc7a0 \\ucfe8\", \"\\ub2e4\\ub098 \\ub0ae\\uc7a0\", \"\\ub2e4\\ub098 \\uc058\\ub760\", \"\\ub2e4\\ub098 \\uc544\\uae30\", \"\\ub2e4\\ub098 \\uc5b4\\ub9b0\\uc774\\uc9d1\", \"\\ub2e4\\ub098 \\uc81c\\ud488\", \"\\ub2e4\\ub098 \\ud648\\ud398\\uc774\\uc9c0\", \"\\ub2e4\\ub9ac \\ubc34\\ub4dc\", \"\\ub2ec \\ub0ae\\uc7a0\", \"\\ub2ec \\ub0ae\\uc7a0\", \"\\ub2ec \\uc544\\uc774\\uc2f1\", \"\\ub2ec \\uc544\\uc774\\uc2f1\", \"\\ub2ec \\uc544\\uc774\\uc2f1\", \"\\ub2ec \\uc778\\uacac\", \"\\ub2ec \\uc778\\uacac\", \"\\ub2f4\\uc694 \\uaca8\\uc6b8\", \"\\ub2f9\\uc2e0 \\uc218\\uba74\", \"\\ub300\\uae30 \\uc2e0\\uccad\", \"\\ub300\\uae30 \\uc2e0\\uccad\", \"\\ub315\\ub315 \\uc790\\uc218\", \"\\ub354\\ube14 \\uba54\\uc26c\", \"\\ub370\\ucf54 \\ubf40\\ub85c\\ub85c\", \"\\ub3c4 \\ub178\\ub3c4\", \"\\ub450\\uc0c1 \\uad50\\uc815\", \"\\ub450\\uc0c1 \\ubca0\\uac1c\", \"\\ub450\\uc0c1 \\ubca0\\uac1c\", \"\\ub450\\uc0c1 \\ubca0\\uac1c\", \"\\ub4c0\\ub77c\\ub860 \\ub0c9\\uac10\", \"\\ub4c0\\ub77c\\ub860 \\ub0c9\\uac10\", \"\\ub4c0\\ub77c\\ub860 \\ub0c9\\uac10\", \"\\ub4c0\\ub77c\\ub860 \\ub0c9\\uac10\", \"\\ub4c0\\ub77c\\ub860 \\uc21c\\uba74\", \"\\ub4c0\\ub77c\\ub860 \\uc21c\\uba74\", \"\\ub4c0\\ub77c\\ub860 \\ucfe8\", \"\\ub4c0\\ub77c\\ub860 \\ucfe8\", \"\\ub4c0\\ub77c\\ub860 \\ucfe8\", \"\\ub4dc \\ubbf8\\uce74\", \"\\ub4dc\\ub9bc \\uc720\\uc544\", \"\\ub4f1 \\uc13c\\uc11c\", \"\\ub4f1 \\uc13c\\uc11c\", \"\\ub540 \\ub540\", \"\\ub540 \\ub540\", \"\\ub540 \\ub540\", \"\\ub540 \\ub540\", \"\\ub540 \\uc190\\ubc14\\ub290\\uc9c8\", \"\\ub5bc\\ucfe8 \\ub9e4\\ud2b8\", \"\\ub77c\\ube44 \\ud0b7\", \"\\ub77c\\ube44 \\ud0b7\", \"\\ub77c\\uc2a4 \\ubca0\\uac1c\", \"\\ub77c\\uc2a4 \\ubca0\\uac1c\", \"\\ub77c\\uc2a4 \\ubca0\\uac1c\", \"\\ub77c\\uc2a4 \\uc878\\uc5c5\", \"\\ub77c\\uc2a4 \\uc878\\uc5c5\", \"\\ub77c\\uc774\\ud2b8 \\ube14\\ub7ad\\ud0b7\", \"\\ub77c\\uc774\\ud504 \\uc5b4\\ub9b0\\uc774\\uc9d1\", \"\\ub77c\\ud14d\\uc2a4 \\ub0ae\\uc7a0\", \"\\ub77c\\ud14d\\uc2a4 \\ub0ae\\uc7a0\", \"\\ub808\\uc6b0 \\ud1a0\", \"\\ub85c \\ucfe8\", \"\\ub85c \\ud5c8\\uadf8\", \"\\ub85c\\uc6b0 \\uc720\\uc544\", \"\\ub860\\ucfe8 \\ub9e4\\ud2b8\", \"\\ub864\\ub85c \\ub0ae\\uc7a0\", \"\\ub864\\ub85c \\ub0ae\\uc7a0\", \"\\ub864\\ub85c \\uc218\", \"\\ub864\\ub85c \\uc544\\uae30\", \"\\ub864\\ub85c \\uc544\\uae30\", \"\\ub864\\ub85c \\uc591\\uba74\", \"\\ub864\\ub85c \\uc591\\uba74\", \"\\ub864\\ub85c \\uc591\\uba74\", \"\\ub864\\ub85c \\uc720\\uc544\", \"\\ub960 \\uc6d0\", \"\\ub960 \\uc6d0\", \"\\ub9ac \\ub77c\\uc774\\ud504\", \"\\ub9ac\\ubc84\\uc2dc \\ube14\", \"\\ub9ac\\ubc84\\uc2dc \\ube14\", \"\\ub9ac\\ubca0 \\uc2e0\\uc0dd\\uc544\", \"\\ub9ac\\uc5bc\\ub9ac \\uc724\", \"\\ub9ac\\uc5bc\\ub9ac \\uc724\", \"\\ub9ac\\ud2c0 \\ub77c\\uc774\\ud504\", \"\\ub9c8 \\ub864\\ub85c\", \"\\ub9c8 \\ub864\\ub85c\", \"\\ub9c8 \\ub864\\ub85c\", \"\\ub9de\\uc774 \\uc544\\uc774\", \"\\ub9e4\\ud2b8 \\ub0c9\\uac10\", \"\\ub9e4\\ud2b8 \\uc0ac\\uc6a9\", \"\\ub9e4\\ud2b8 \\uc0ac\\uc6a9\", \"\\ub9e4\\ud2b8 \\uc2e0\\uc0dd\\uc544\", \"\\ub9e4\\ud2b8 \\uc544\\uae30\", \"\\ub9e4\\ud2b8 \\uc544\\uae30\", \"\\ub9e4\\ud2b8 \\uc544\\uae30\", \"\\ub9e4\\ud2b8 \\uc5ec\\ub984\", \"\\ub9e4\\ud2b8 \\uc5ec\\ub984\", \"\\ub9e4\\ud2b8 \\uc7ac\\uc0dd\", \"\\ub9e4\\ud2b8 \\ucd94\\ucc9c\", \"\\ub9e4\\ud2b8 \\ucd94\\ucc9c\", \"\\ub9e4\\ud2b8 \\ucfe8\", \"\\uba38 \\ucfe8\", \"\\uba38 \\ucfe8\\ucfe8\", \"\\uba54\\ub974 \\ubca0\", \"\\uba54\\ub974 \\ubca0\", \"\\uba54\\ub974 \\ubca0\", \"\\uba54\\ub9ac \\ubd09\\ubd09\", \"\\uba54\\ubaa8\\ub9ac \\ud3fc\", \"\\uba54\\ubaa8\\ub9ac \\ud3fc\", \"\\uba54\\ubaa8\\ub9ac \\ud3fc\", \"\\uba54\\ubaa8\\ub9ac \\ud3fc\", \"\\uba54\\uc774\\ub4dc \\ub77c\\uc774\\ud504\\uc2a4\\ud0c0\\uc77c\", \"\\uba54\\uc774\\ub4dc \\ubca0\\ub529\", \"\\ubaa8\\ub358 \\ud558\\uc6b0\\uc2a4\", \"\\ubaa8\\ub85c \\ubc18\\uc0ac\", \"\\ubaa8\\ub85c \\ubc18\\uc0ac\", \"\\ubaa8\\ubaa8 \\ubca0\\uac1c\", \"\\ubaa9 \\ubca0\\uac1c\", \"\\ubaa9 \\ubca0\\uac1c\", \"\\ubaa9 \\ubca0\\uac1c\", \"\\ubaa9 \\ubca0\\uac1c\", \"\\ubabd\\ub4dc \\uc2e0\\uc0c1\", \"\\ubabd\\ub4dc \\ucfe8\", \"\\ubabd\\uc288\\ub808 \\ubc14\\uc774\\uc624\", \"\\ubabd\\uc288\\ub808 \\uc544\\uae30\", \"\\ubabd\\uc288\\ub808 \\uc544\\uae30\", \"\\ubabd\\uc288\\ub808 \\uc544\\uae30\", \"\\ubb34 \\ubb34\\uc288\", \"\\ubb34 \\ubb34\\uc288\", \"\\ubb34\\uc288 \\ub9ac\\ubc84\\uc2dc\", \"\\ubb34\\uc288 \\uc5ec\\ub984\", \"\\ubb34\\uc288 \\uc778\\uacac\", \"\\ubb34\\ud615 \\uad11\", \"\\ubb34\\ud615 \\uad11\", \"\\ubb34\\ud615 \\uad11\", \"\\ubb34\\ud615 \\uad11\", \"\\ubb34\\ud615 \\uad11\", \"\\ubb34\\ud615 \\uad11\", \"\\ubba4 \\ud5e4\\ub9c1\\ubcf8\", \"\\ubbf8\\uce74 \\ub0ae\\uc7a0\", \"\\ubbf8\\uce74 \\uc5b4\\ub9b0\\uc774\\uc9d1\", \"\\ubbf9\\uc2a4 \\ubcfc\", \"\\ubc00\\ub3c4 \\ub77c\\uc778\", \"\\ubc00\\ub85c \\uc564\", \"\\ubc14\\ub514 \\uc288\\ud2b8\", \"\\ubc14\\ub514 \\uc288\\ud2b8\", \"\\ubc14\\ub514 \\uc288\\ud2b8\", \"\\ubc14\\ub514 \\ud544\", \"\\ubc14\\ub514 \\ud544\", \"\\ubc14\\ub85c \\uc774\\ub3d9\", \"\\ubc14\\ub85c \\uc774\\ub3d9\", \"\\ubc14\\uc774\\uc624 \\uc5d0\\uc5b4\\ucee8\", \"\\ubc18\\uc0ac \\ubc29\\uc9c0\", \"\\ubc18\\uc0ac \\uc544\\uae30\", \"\\ubc18\\uc0ac \\uc544\\uae30\", \"\\ubc18\\uc0ac \\uc774\\ubd88\", \"\\ubc24 \\uae30\\uc800\\uadc0\", \"\\ubc24\\ubd80 \\ubca0\\ubca0\", \"\\ubc29 \\uc218\\uc694\", \"\\ubc29\\uc218 \\uac00\\ubc29\", \"\\ubc29\\uc218 \\ub4c0\\ub77c\\ub860\", \"\\ubc29\\uc218 \\uc544\\uae30\", \"\\ubc29\\uc218 \\uc544\\uae30\", \"\\ubc29\\uc218 \\uc6d0\\ub2e8\", \"\\ubc29\\uc218 \\uc6d0\\ub2e8\", \"\\ubc29\\uc218 \\ud328\\ub4dc\", \"\\ubc29\\uc218 \\ud328\\ub4dc\", \"\\ubc29\\uc218 \\ud328\\ub4dc\", \"\\ubc31\\uc77c \\uc120\\ubb3c\", \"\\ubc31\\uc77c \\uc120\\ubb3c\", \"\\ubc31\\uc77c \\uc120\\ubb3c\", \"\\ubc31\\uc77c \\uc120\\ubb3c\", \"\\ubc40\\ubd80 \\uba54\\uc26c\", \"\\ubc40\\ubd80 \\ucf54\\ud2bc\", \"\\ubca0 \\ub85c\", \"\\ubca0 \\ubc14\\ubbf8\\ube14\", \"\\ubca0\\uac1c \\uac00\\ub4dc\", \"\\ubca0\\uac1c \\ub77c\\uc2a4\", \"\\ubca0\\uac1c \\ub77c\\uc2a4\", \"\\ubca0\\uac1c \\ubaa8\\ub85c\", \"\\ubca0\\uac1c \\ubc14\\ub514\", \"\\ubca0\\uac1c \\ubc14\\ub514\", \"\\ubca0\\uac1c \\uc0ac\\uc6a9\", \"\\ubca0\\uac1c \\uc0ac\\uc6a9\", \"\\ubca0\\uac1c \\uc0ac\\uc6a9\", \"\\ubca0\\uac1c \\uc19c\", \"\\ubca0\\uac1c \\uc19c\", \"\\ubca0\\uac1c \\uc19c\", \"\\ubca0\\uac1c \\uc19c\", \"\\ubca0\\uac1c \\uc2e0\\uc0dd\\uc544\", \"\\ubca0\\uac1c \\uc2e0\\uc0dd\\uc544\", \"\\ubca0\\uac1c \\uc2e0\\uc0dd\\uc544\", \"\\ubca0\\uac1c \\uc544\\uae30\", \"\\ubca0\\uac1c \\uc544\\uae30\", \"\\ubca0\\uac1c \\uc544\\uae30\", \"\\ubca0\\uac1c \\uc77c\\uccb4\", \"\\ubca0\\uac1c \\uc878\\uc5c5\", \"\\ubca0\\uac1c \\uc878\\uc5c5\", \"\\ubca0\\uac1c \\uce94\\ucf54\", \"\\ubca0\\uac1c \\uce94\\ucf54\", \"\\ubca0\\uac1c \\ucee4\\ubc84\", \"\\ubca0\\uac1c \\ucee4\\ubc84\", \"\\ubca0\\uac1c \\ucee4\\ubc84\", \"\\ubca0\\uac1c \\ucee4\\ubc84\", \"\\ubca0\\uac1c \\ucee4\\ubc84\", \"\\ubca0\\uac1c \\ucee4\\ubc84\", \"\\ubca0\\uac1c \\ud328\\ub4dc\", \"\\ubca0\\uac1c \\ud328\\ub4dc\", \"\\ubca0\\ub4dc \\uba38\", \"\\ubca0\\ub529 \\ub0ae\\uc7a0\", \"\\ubca0\\ubca0 \\ub0ae\\uc7a0\", \"\\ubca0\\ubca0 \\ub0ae\\uc7a0\", \"\\ubca0\\ubca0 \\ub204\\ubcf4\", \"\\ubca0\\ubca0 \\ub204\\ubcf4\", \"\\ubca0\\ubca0 \\ub204\\ubcf4\", \"\\ubca0\\ubca0 \\ub4c0\\ub77c\\ub860\", \"\\ubca0\\ubca0 \\ubca0\\uc774\\ube44\", \"\\ubca0\\ubca0 \\uc0ac\\uacc4\\uc808\", \"\\ubca0\\ubca0 \\uc0ac\\uacc4\\uc808\", \"\\ubca0\\ubca0 \\uc2a4\\ubbf8\\uc2a4\", \"\\ubca0\\ubca0 \\uc2a4\\ubbf8\\uc2a4\", \"\\ubca0\\ubca0 \\uc544\\ub9ac\", \"\\ubca0\\ubca0 \\ud5c8\\uadf8\", \"\\ubca0\\uc774\\ube44 \\ub0ae\\uc7a0\", \"\\ubca0\\uc774\\ube44 \\ub4dc\\ub77c\\uc774\", \"\\ubca0\\uc774\\ube44 \\ud56b\\ub51c\", \"\\ubca8\\ubabd \\ub9ac\\ubc84\\uc2dc\", \"\\ubca8\\ubabd \\ubc40\\ubd80\", \"\\ubca8\\ubabd \\ube14\\ub7ad\\ud0b7\", \"\\ubca8\\ubabd \\uc544\\uae30\", \"\\ubcf5 \\ub3d9\\uc774\", \"\\ubcf8\\uc0ac \\uac00\\ub4dc\", \"\\ubd84\\ub9ac \\ub0ae\\uc7a0\", \"\\ubd84\\ub9ac \\ub0ae\\uc7a0\", \"\\ubd84\\ub9ac \\ub0ae\\uc7a0\", \"\\ube0c\\ub79c\\ub4dc \\uc5ec\\ub7ec\", \"\\ube0c\\ub9ac \\uc6b0\\ub4dc\", \"\\ube14 \\ub0ae\\uc7a0\", \"\\ube14 \\ucf54\\ud2bc\", \"\\ube14\\ub7ad\\ud0b7 \\uc544\\uae30\", \"\\ube14\\ub7ad\\ud0b7 \\uc544\\uae30\", \"\\ube14\\ub7ad\\ud0b7 \\uc544\\uae30\", \"\\ube14\\ub7ad\\ud0b7 \\uc544\\uae30\", \"\\ube44 \\uc544\\uae30\", \"\\ube44 \\uc544\\uae30\", \"\\ube44\\ube44 \\ub2ec\", \"\\ube44\\ube44 \\ub2ec\", \"\\ube44\\ube44 \\ub2ec\", \"\\ubf40\\ub85c\\ub85c \\ub3d9\\ud654\", \"\\uc058\\ub760 \\ub2e4\\ub098\", \"\\uc058\\ub760 \\uc5d8\\ub9b0\", \"\\uc058\\ub9ac \\uc5d8\\ub974\", \"\\uc058\\ub9ac \\uc5d8\\ub974\", \"\\uc0ac\\uacc4\\uc808 \\ub0ae\\uc7a0\", \"\\uc0ac\\uacc4\\uc808 \\ub0ae\\uc7a0\", \"\\uc0ac\\uacc4\\uc808 \\ub0b4\\ub0b4\", \"\\uc0ac\\uacc4\\uc808 \\ub0b4\\ub0b4\", \"\\uc0ac\\uacc4\\uc808 \\ub0b4\\ub0b4\", \"\\uc0ac\\uacc4\\uc808 \\ub0b4\\ub0b4\", \"\\uc0ac\\uacc4\\uc808 \\ub2ec\", \"\\uc0ac\\uacc4\\uc808 \\ub2ec\", \"\\uc0ac\\uacc4\\uc808 \\ub4c0\\ub77c\\ub860\", \"\\uc0ac\\uacc4\\uc808 \\ub4c0\\ub77c\\ub860\", \"\\uc0ac\\uacc4\\uc808 \\ub9c8\\uc774\\ud06c\\ub85c\", \"\\uc0ac\\uacc4\\uc808 \\uc591\\uba74\", \"\\uc0ac\\uacc4\\uc808 \\uc591\\uba74\", \"\\uc0ac\\uc6a9 \\ub3c4\", \"\\uc0ac\\uc6a9 \\uc218\", \"\\uc0ac\\uc6a9 \\uc218\", \"\\uc0ac\\uc6a9 \\uc218\", \"\\uc0ac\\uc6a9 \\uc218\", \"\\uc0ac\\uc6a9 \\uc218\", \"\\uc0ac\\uc6a9 \\uc218\", \"\\uc0ac\\uc6a9 \\uc218\", \"\\uc0ac\\uc6a9 \\uc218\", \"\\uc0ac\\uc9c4 \\ud074\\ub9ad\", \"\\uc0ac\\uc9c4 \\ud074\\ub9ad\", \"\\uc0d8 \\ubc29\\uc9c0\", \"\\uc0dd\\ud06c\\ub9bc \\ub2ec\", \"\\uc0e4\\ubcb3 \\ucfe8\", \"\\uc120\\ubb3c \\uac00\\ub4dc\", \"\\uc138\\ud2b8 \\uc544\\ub9ac\", \"\\uc138\\ud2b8 \\uc5b4\\ub9b0\\uc774\\uc9d1\", \"\\uc13c\\uc2a4 \\uc774\\ub984\", \"\\uc18c\\ub2c9 \\uc2ac\\ub9bd\", \"\\uc190\\ub140 \\uc704\", \"\\uc190\\ubc14\\ub290\\uc9c8 \\uc2dc\\uc791\", \"\\uc218 \\ub3c4\", \"\\uc218 \\ub3c4\", \"\\uc218 \\ub3c4\", \"\\uc218 \\uc5b4\\ub9b0\\uc774\\uc9d1\", \"\\uc218\\uba74 \\uacf5\\uac10\", \"\\uc21c\\uba74 \\ub9ac\\ubc84\\uc2dc\", \"\\uc21c\\uba74 \\ub9ac\\ubc84\\uc2dc\", \"\\uc26c \\ucfe8\", \"\\uc26c\\uc988 \\ud648\", \"\\uc26c\\uc988 \\ud648\", \"\\uc26c\\uc988 \\ud648\", \"\\uc26c\\uc988 \\ud648\", \"\\uc288\\ud37c \\uc2f1\\uae00\", \"\\uc288\\ud37c \\uc2f1\\uae00\", \"\\uc288\\ud37c \\uc2f1\\uae00\", \"\\uc288\\ud37c \\uc2f1\\uae00\", \"\\uc2a4\\ud0c0 \\ud544\\ub4dc\", \"\\uc2a4\\ud30c \\ub0ae\\uc7a0\", \"\\uc2a4\\ud30c \\ub0ae\\uc7a0\", \"\\uc2a4\\ud30c \\ub77c\\ud14d\\uc2a4\", \"\\uc2a4\\ud30c \\uc218\\uba74\", \"\\uc2a4\\ud30c \\uc2ac\\ub9bd\", \"\\uc2a4\\ud398\\uc15c \\ub4dc\\ub9bc\", \"\\uc2ac\\ub9bd \\uc2a4\\ud30c\", \"\\uc2ac\\ub9bd \\uc2a4\\ud30c\", \"\\uc2ac\\ub9bd \\ud504\\ub808\", \"\\uc2dc\\uc791 \\uc704\\ud2c0\", \"\\uc2dc\\uc791 \\ud504\\ub9ac\\ubbf8\\uc5c4\", \"\\uc2e0\\uc0dd\\uc544 \\uac89\", \"\\uc2e0\\uc0dd\\uc544 \\ubc29\\uc218\", \"\\uc2e0\\uc0dd\\uc544 \\ube14\\ub7ad\\ud0b7\", \"\\uc2e0\\uc0dd\\uc544 \\ube14\\ub7ad\\ud0b7\", \"\\uc2e0\\uc0dd\\uc544 \\uc2f8\\uac1c\", \"\\uc2e0\\uc0dd\\uc544 \\uc2f8\\uac1c\", \"\\uc2e0\\uc0dd\\uc544 \\uc2f8\\uac1c\", \"\\uc2e0\\uc0dd\\uc544 \\uc2f8\\uac1c\", \"\\uc2e0\\uc0dd\\uc544 \\uc637\", \"\\uc2e0\\uc0dd\\uc544 \\uc637\", \"\\uc2e0\\uc0dd\\uc544 \\uc721\\uc544\\uc6a9\\ud488\", \"\\uc2e0\\uc0dd\\uc544 \\uc9f1\\uad6c\", \"\\uc2e0\\uc0dd\\uc544 \\ucfe8\", \"\\uc2e0\\uc0dd\\uc544 \\ud0dc\\uc5f4\", \"\\uc2e0\\uc0dd\\uc544 \\ud0dc\\uc5f4\", \"\\uc2e0\\uc0dd\\uc544 \\ud0dc\\uc5f4\", \"\\uc2e0\\uc0dd\\uc544 \\ud0dc\\uc5f4\", \"\\uc2e4\\uc0ac \\uc6a9\\ud55c\", \"\\uc2e4\\ud0a4 \\ucf54\\ud2bc\", \"\\uc2e4\\ud5d8 \\uacb0\\uacfc\", \"\\uc2f8\\uac1c \\uc2e0\\uc0dd\\uc544\", \"\\uc378\\uba38 \\ud32c\\ud2f0\", \"\\uc3d9 \\ub4ed\\ub2c8\", \"\\uc544\\uac00 \\uc564\", \"\\uc544\\uae30 \\ub0ae\\uc7a0\", \"\\uc544\\uae30 \\ub0ae\\uc7a0\", \"\\uc544\\uae30 \\ub0ae\\uc7a0\", \"\\uc544\\uae30 \\ub0ae\\uc7a0\", \"\\uc544\\uae30 \\ub0ae\\uc7a0\", \"\\uc544\\uae30 \\ub0ae\\uc7a0\", \"\\uc544\\uae30 \\ub0c9\\uac10\", \"\\uc544\\uae30 \\ub0c9\\uac10\", \"\\uc544\\uae30 \\ubc14\\ub514\", \"\\uc544\\uae30 \\ubc14\\ub514\", \"\\uc544\\uae30 \\ubc29\\uc218\", \"\\uc544\\uae30 \\ubc29\\uc218\", \"\\uc544\\uae30 \\ubc29\\uc218\", \"\\uc544\\uae30 \\ubc31\\uc77c\", \"\\uc544\\uae30 \\ubc31\\uc77c\", \"\\uc544\\uae30 \\ubca0\\uac1c\", \"\\uc544\\uae30 \\ubca0\\uac1c\", \"\\uc544\\uae30 \\ubca0\\uac1c\", \"\\uc544\\uae30 \\ube14\\ub7ad\\ud0b7\", \"\\uc544\\uae30 \\ube14\\ub7ad\\ud0b7\", \"\\uc544\\uae30 \\uc0c1\\uc5b4\", \"\\uc544\\uae30 \\uc2f8\\uac1c\", \"\\uc544\\uae30 \\uc2f8\\uac1c\", \"\\uc544\\uae30 \\uc5b4\\ub9b0\\uc774\\uc9d1\", \"\\uc544\\uae30 \\uc5ec\\ub984\", \"\\uc544\\uae30 \\uc5ec\\ub984\", \"\\uc544\\uae30 \\uc5ec\\ub984\", \"\\uc544\\uae30 \\uc5ec\\ub984\", \"\\uc544\\uae30 \\uc5ec\\ub984\", \"\\uc544\\uae30 \\uc5ec\\ub984\", \"\\uc544\\uae30 \\uc606\", \"\\uc544\\uae30 \\uc606\", \"\\uc544\\uae30 \\uc606\", \"\\uc544\\uae30 \\uc720\\uc544\", \"\\uc544\\uae30 \\uc774\\ubd88\", \"\\uc544\\uae30 \\uc774\\ubd88\", \"\\uc544\\uae30 \\uc774\\ubd88\", \"\\uc544\\uae30 \\uc774\\ubd88\", \"\\uc544\\uae30 \\uc774\\ubd88\", \"\\uc544\\uae30 \\uc774\\ubd88\", \"\\uc544\\uae30 \\uc778\\uacac\", \"\\uc544\\uae30 \\uc778\\uacac\", \"\\uc544\\uae30 \\ucc28\\ub835\", \"\\uc544\\uae30 \\ucd9c\\uc0b0\", \"\\uc544\\uae30 \\uce68\\uad6c\", \"\\uc544\\uae30 \\uce68\\uad6c\", \"\\uc544\\uae30 \\uce68\\ub300\", \"\\uc544\\uae30 \\uce68\\ub300\", \"\\uc544\\uae30 \\uce68\\ub300\", \"\\uc544\\uae30 \\uce68\\ub300\", \"\\uc544\\uae30 \\ucfe8\", \"\\uc544\\uae30 \\ucfe8\", \"\\uc544\\uae30 \\ud53c\\ubd80\", \"\\uc544\\uae30 \\ud53c\\ubd80\", \"\\uc544\\uae30 \\ud53c\\ubd80\", \"\\uc544\\uae30 \\ud53c\\ubd80\", \"\\uc544\\uae30 \\ud53c\\ubd80\", \"\\uc544\\uae30 \\ud53c\\ubd80\", \"\\uc544\\uae30 \\ud53c\\ubd80\", \"\\uc544\\ub9ac \\ubca0\\ubca0\", \"\\uc544\\ub9ac \\ubca0\\ubca0\", \"\\uc544\\uc6b0\\ub77c \\ube14\\ub7ad\\ud0b7\", \"\\uc544\\uc774 \\ub0ae\\uc7a0\", \"\\uc544\\uc774 \\ub0ae\\uc7a0\", \"\\uc544\\uc774 \\ub0ae\\uc7a0\", \"\\uc544\\uc774 \\ub204\\uc624\", \"\\uc544\\uc774 \\uc5b4\\ub9b0\\uc774\\uc9d1\", \"\\uc544\\uc774 \\uc778\\uacac\", \"\\uc544\\uc774\\uc2f1 \\ub4c0\\uc5bc\", \"\\uc544\\uc774\\uc2f1 \\ub4c0\\uc5bc\", \"\\uc544\\uc774\\uc2f1 \\ub4c0\\uc5bc\", \"\\uc548\\uc2ec \\ucf54\\ud2bc\", \"\\uc548\\ud2f0 \\ubc84\\uadf8\", \"\\uc54c\\ub7ec\\uc9c0 \\ud504\\ub9ac\", \"\\uc54c\\ub7ec\\uc9c0 \\ud504\\ub9ac\", \"\\uc54c\\ub808 \\ub974\\ub9dd\", \"\\uc54c\\ub808 \\ub974\\ub9dd\", \"\\uc564 \\uac1c\\ube44\", \"\\uc564 \\uc544\\uae30\", \"\\uc591\\uba74 \\ub0ae\\uc7a0\", \"\\uc591\\uba74 \\ub0ae\\uc7a0\", \"\\uc591\\uba74 \\uc548\\uc2ec\", \"\\uc5b4\\ub9b0\\uc774\\uc9d1 \\ub0ae\\uc7a0\", \"\\uc5b4\\ub9b0\\uc774\\uc9d1 \\ub0ae\\uc7a0\", \"\\uc5b4\\ub9b0\\uc774\\uc9d1 \\uc785\\uc18c\", \"\\uc5b4\\ub9b0\\uc774\\uc9d1 \\uc785\\uc18c\", \"\\uc5b4\\ub9b0\\uc774\\uc9d1 \\uc900\\ube44\\ubb3c\", \"\\uc5b4\\ub9b0\\uc774\\uc9d1 \\uc9c1\\uc811\", \"\\uc5c4\\ub9c8 \\ud488\", \"\\uc5c4\\ub9c8 \\ud488\", \"\\uc5c4\\ub9c8 \\ud488\", \"\\uc5d0\\uc5b4 \\ucc28\\ucc28\", \"\\uc5d0\\uc5b4 \\ud1a0\", \"\\uc5d0\\uc5b4\\ucee8 \\ub9e4\\ud2b8\", \"\\uc5d0\\uc774\\ud2b8 \\ub8f8\", \"\\uc5d8 \\ub77c\\ubc14\", \"\\uc5d8 \\ub77c\\ubc14\", \"\\uc5d8\\ub974 \\ub9ac\\ud2c0\", \"\\uc5d8\\ub9bc \\ucf54\\ub9ac\\uc544\", \"\\uc5ec\\ub984 \\uae30\\uc800\\uadc0\", \"\\uc5ec\\ub984 \\ub300\\ud45c\", \"\\uc5ec\\ub984 \\ub9e4\\ud2b8\", \"\\uc5ec\\ub984 \\uc544\\uae30\", \"\\uc5ec\\ub984 \\uc544\\uae30\", \"\\uc5ec\\ub984 \\uc544\\uae30\", \"\\uc5ec\\ub984 \\uc544\\uae30\", \"\\uc5ec\\ub984 \\uc544\\uae30\", \"\\uc5ec\\ub984 \\uc544\\uae30\", \"\\uc5ec\\ub984 \\uc774\\ubd88\", \"\\uc5ec\\ub984 \\uc774\\ubd88\", \"\\uc5ec\\ub984 \\uc774\\ubd88\", \"\\uc5ec\\ub984 \\uc774\\ubd88\", \"\\uc5ec\\ub984 \\uc774\\ubd88\", \"\\uc5ec\\ub984 \\uc774\\ubd88\", \"\\uc5ec\\ub984 \\ucfe8\", \"\\uc5ec\\ub984 \\ucfe8\", \"\\uc5ec\\ub984 \\ucfe8\", \"\\uc5ec\\ub984 \\ud544\\uc218\", \"\\uc5ed\\uc2dc \\uc774\\uc720\", \"\\uc606 \\ubca0\\uac1c\", \"\\uc606 \\ubca0\\uac1c\", \"\\uc606\\uc7a0 \\ubca0\\uac1c\", \"\\uc606\\uc7a0 \\ubca0\\uac1c\", \"\\uc637 \\uc815\\ub9ac\", \"\\uc637 \\uc815\\ub9ac\", \"\\uc637 \\uc815\\ub9ac\", \"\\uc637 \\uc815\\ub9ac\", \"\\uc637 \\uc815\\ub9ac\", \"\\uc694\\ucf54 \\ubca0\\uc774\\ube44\", \"\\uc6a9 \\uc0ac\\uacc4\\uc808\", \"\\uc6a9\\ud488 \\uc2dc\\uc791\", \"\\uc6a9\\ud55c \\ub3c4\", \"\\uc6b0\\ub4dc \\uac00\\ub4e0\", \"\\uc6b0\\ub9ac \\ub2f9\\uc2e0\", \"\\uc6b0\\ub9ac \\uc544\\uc774\", \"\\uc6b0\\ub9ac \\uc544\\uc774\", \"\\uc6b0\\ub9ac \\uc544\\uc774\", \"\\uc6b0\\ub9ac \\uc544\\uc774\", \"\\uc6b0\\ub9ac \\uc544\\uc774\", \"\\uc6b0\\ub9ac \\uc544\\uc774\", \"\\uc6b0\\uc720 \\ubca0\\uac1c\", \"\\uc6d0 \\uc810\", \"\\uc6d0 \\uc810\", \"\\uc6d0 \\ud560\\uc778\", \"\\uc6d0 \\ud560\\uc778\", \"\\uc704 \\ud560\\uba38\\ub2c8\", \"\\uc704\\ud2c0 \\uc2a4\\ud1a0\\uc5b4\", \"\\uc720 \\ud2b8\\ub7ec\\uc2a4\", \"\\uc720\\ubaa8\\ucc28 \\ub2f4\\uc694\", \"\\uc720\\ubaa8\\ucc28 \\ud587\\ube5b\", \"\\uc720\\ubaa8\\ucc28 \\ud587\\ube5b\", \"\\uc720\\uc544 \\ubc29\\uc218\", \"\\uc720\\uc544 \\ubca0\\uac1c\", \"\\uc720\\uc544 \\ubca0\\uac1c\", \"\\uc720\\uc544 \\ubca0\\uac1c\", \"\\uc720\\uc544 \\uc6a9\", \"\\uc720\\uc544 \\uc6a9\", \"\\uc720\\uc544 \\uc6a9\", \"\\uc720\\uc544 \\uc6a9\", \"\\uc720\\uc544 \\uc6a9\", \"\\uc720\\uc544 \\uc6a9\", \"\\uc720\\uc544 \\ucfe8\", \"\\uc720\\uc544 \\ud0dc\\uc5f4\", \"\\uc721\\uc544 \\ud15c\", \"\\uc721\\uc544 \\ud15c\", \"\\uc721\\uc544 \\ud15c\", \"\\uc721\\uc544 \\ud15c\", \"\\uc721\\uc544 \\ud15c\", \"\\uc721\\uc544 \\ud15c\", \"\\uc721\\uc544 \\ud15c\", \"\\uc740 \\ub370\\ucf54\", \"\\uc740 \\ub370\\ucf54\", \"\\uc774\\ub984 \\ud45c\", \"\\uc774\\ubabd \\ubaa8\\ubaa8\", \"\\uc774\\ubabd \\ubaa8\\ubaa8\", \"\\uc774\\ubabd \\ubc29\\uc218\", \"\\uc774\\ubd88 \\uac00\\ubc29\", \"\\uc774\\ubd88 \\uac00\\ubc29\", \"\\uc774\\ubd88 \\uac04\\uc808\", \"\\uc774\\ubd88 \\ub0ae\\uc7a0\", \"\\uc774\\ubd88 \\ub0ae\\uc7a0\", \"\\uc774\\ubd88 \\ub0ae\\uc7a0\", \"\\uc774\\ubd88 \\ub3c4\", \"\\uc774\\ubd88 \\ub3c4\", \"\\uc774\\ubd88 \\uba38\", \"\\uc774\\ubd88 \\uba54\\ub974\", \"\\uc774\\ubd88 \\ubabd\\uc288\\ub808\", \"\\uc774\\ubd88 \\ubabd\\uc288\\ub808\", \"\\uc774\\ubd88 \\ubc00\\ub85c\", \"\\uc774\\ubd88 \\ubca0\\uac1c\", \"\\uc774\\ubd88 \\ubca0\\uac1c\", \"\\uc774\\ubd88 \\ubca0\\uac1c\", \"\\uc774\\ubd88 \\ubca0\\uac1c\", \"\\uc774\\ubd88 \\uc058\\ub760\", \"\\uc774\\ubd88 \\uc058\\ub760\", \"\\uc774\\ubd88 \\uc058\\ub760\", \"\\uc774\\ubd88 \\uc0ac\\uc6a9\", \"\\uc774\\ubd88 \\uc0ac\\uc6a9\", \"\\uc774\\ubd88 \\uc0ac\\uc6a9\", \"\\uc774\\ubd88 \\uc0ac\\uc6a9\", \"\\uc774\\ubd88 \\uc0ac\\uc6a9\", \"\\uc774\\ubd88 \\uc0ac\\uc6a9\", \"\\uc774\\ubd88 \\uc120\\ud0dd\", \"\\uc774\\ubd88 \\uc120\\ud0dd\", \"\\uc774\\ubd88 \\uc120\\ud0dd\", \"\\uc774\\ubd88 \\uc138\\ud2b8\", \"\\uc774\\ubd88 \\uc138\\ud2b8\", \"\\uc774\\ubd88 \\uc2ac\\ub9bd\", \"\\uc774\\ubd88 \\uc2ac\\ub9bd\", \"\\uc774\\ubd88 \\uc544\\uae30\", \"\\uc774\\ubd88 \\uc544\\uae30\", \"\\uc774\\ubd88 \\uc544\\uae30\", \"\\uc774\\ubd88 \\uc544\\uae30\", \"\\uc774\\ubd88 \\uc544\\uae30\", \"\\uc774\\ubd88 \\uc544\\uae30\", \"\\uc774\\ubd88 \\uc544\\ub9ac\", \"\\uc774\\ubd88 \\uc5b4\\ub9b0\\uc774\\uc9d1\", \"\\uc774\\ubd88 \\uc5b4\\ub9b0\\uc774\\uc9d1\", \"\\uc774\\ubd88 \\uc720\", \"\\uc774\\ubd88 \\uc720\", \"\\uc774\\ubd88 \\uc778\\uacac\", \"\\uc774\\ubd88 \\uc778\\uacac\", \"\\uc774\\ubd88 \\uc77c\\uccb4\", \"\\uc774\\ubd88 \\uc77c\\uccb4\", \"\\uc774\\ubd88 \\uc77c\\uccb4\", \"\\uc774\\ubd88 \\uc804\\ubb38\\uc810\", \"\\uc774\\ubd88 \\uc900\\ube44\", \"\\uc774\\ubd88 \\uccb4\\ud5d8\", \"\\uc774\\ubd88 \\ucd94\\ucc9c\", \"\\uc774\\ubd88 \\ucd94\\ucc9c\", \"\\uc774\\ubd88 \\ucd94\\ucc9c\", \"\\uc774\\ubd88 \\ucd94\\ucc9c\", \"\\uc774\\ubd88 \\ucd94\\ucc9c\", \"\\uc774\\ubd88 \\ucf64\\ub9c8\", \"\\uc774\\ubd88 \\ud328\\ub4dc\", \"\\uc774\\ubd88 \\ud328\\ub4dc\", \"\\uc774\\ubd88 \\ud3ec\\ubabd\\ub4dc\", \"\\uc774\\ubd88 \\ud3ec\\ubabd\\ub4dc\", \"\\uc774\\uc8fc \\ub0ae\\uc7a0\", \"\\uc774\\uc8fc \\uc0e4\\ubcb3\", \"\\uc778\\uacac \\ubca0\\uac1c\", \"\\uc778\\uacac \\ubca0\\uac1c\", \"\\uc778\\uacac \\ubca0\\uac1c\", \"\\uc778\\uacac \\ube14\\ub7ad\\ud0b7\", \"\\uc778\\uacac \\ube14\\ub7ad\\ud0b7\", \"\\uc778\\uacac \\ube14\\ub7ad\\ud0b7\", \"\\uc778\\uacac \\uc544\\uae30\", \"\\uc778\\uacac \\uc544\\uae30\", \"\\uc778\\uacac \\uc774\\ubd88\", \"\\uc778\\uacac \\uc774\\ubd88\", \"\\uc778\\uacac \\uc774\\ubd88\", \"\\uc778\\uacac \\ucee4\\ubc84\", \"\\uc778\\uacac \\ucfe8\", \"\\uc778\\uacac \\ucfe8\", \"\\uc778\\ud615 \\ub0ae\\uc7a0\", \"\\uc778\\ud615 \\ub0ae\\uc7a0\", \"\\uc778\\ud615 \\ube14\\ub7ad\\ud0b7\", \"\\uc778\\ud615 \\ube14\\ub7ad\\ud0b7\", \"\\uc77c\\uccb4 \\ub0ae\\uc7a0\", \"\\uc77c\\uccb4 \\ub0ae\\uc7a0\", \"\\uc77c\\uccb4 \\ub2ec\", \"\\uc77c\\uccb4 \\uc5b4\\ub9b0\\uc774\\uc9d1\", \"\\uc785\\uc18c \\uc900\\ube44\\ubb3c\", \"\\uc7ac\\uc0dd \\ub3c4\", \"\\uc7ac\\uc0dd \\uc811\\uae30\", \"\\uc7ac\\uc0dd \\uc811\\uae30\", \"\\uc7ac\\uc0dd \\uc811\\uae30\", \"\\uc7ac\\uc0dd \\uc811\\uae30\", \"\\uc7ac\\uc0dd \\uc811\\uae30\", \"\\uc7ac\\uc0dd \\uc811\\uae30\", \"\\uc804\\uc790\\ud30c \\uc274\\ub4dc\", \"\\uc810 \\ub9ac\\ubdf0\", \"\\uc810 \\ub9ac\\ubdf0\", \"\\uc811\\uae30 \\ub3c4\", \"\\uc81c\\uac70 \\ud56d\\uade0\", \"\\uc81c\\uac70 \\ud56d\\uade0\", \"\\uc900\\ube44\\ubb3c \\ub0ae\\uc7a0\", \"\\uc900\\ube44\\ubb3c \\ub0ae\\uc7a0\", \"\\uc900\\ube44\\ubb3c \\ub9ac\", \"\\uc900\\ube44\\ubb3c \\uc058\\ub760\", \"\\uc900\\ube44\\ubb3c \\uc5b4\\ub9b0\\uc774\\uc9d1\", \"\\uc900\\ube44\\ubb3c \\uc911\", \"\\uc9f1\\uad6c \\ub450\\uc0c1\", \"\\ucc28\\ub835 \\uc774\\ubd88\", \"\\ucc28\\ub835 \\uc774\\ubd88\", \"\\ucc28\\ub835 \\uc774\\ubd88\", \"\\ucc28\\ucc28 \\uc378\\uba38\", \"\\ucd94\\ucc9c \\ub3c4\", \"\\ucd94\\ucc9c \\ub9c8\", \"\\ucd9c\\uc0b0 \\uc120\\ubb3c\", \"\\ucd9c\\uc0b0 \\uc120\\ubb3c\", \"\\ucd9c\\uc0b0 \\uc120\\ubb3c\", \"\\ucd9c\\uc0b0 \\uc120\\ubb3c\", \"\\ucd9c\\uc0b0 \\uc120\\ubb3c\", \"\\ucd9c\\uc0b0 \\uc120\\ubb3c\", \"\\ucda9\\uc804 \\uc7ac\", \"\\ucda9\\uc804 \\uc7ac\", \"\\ucda9\\uc804 \\uc7ac\", \"\\ucda9\\uc804 \\uc7ac\", \"\\uce68\\ub300 \\ucfe8\", \"\\uce68\\ub300 \\ud328\\ub4dc\", \"\\uce68\\ub300 \\ud328\\ub4dc\", \"\\uce74\\uce74\\uc624 \\ud398\\uc774\", \"\\uce94\\ucf54 \\uafc0\\uc7a0\", \"\\ucf54\\ub9ac\\uc544 \\ud734\\ub300\", \"\\ucf54\\uc2a4\\ubaa8\\uc2a4 \\ub0ae\\uc7a0\", \"\\ucf54\\ud2bc \\uc2a4\\uc640\\ub4e4\", \"\\ucf54\\ud2bc \\uc5d0\\uc5b4\", \"\\ucf64\\ub9c8 \\ub0ae\\uc7a0\", \"\\ucfe8 \\ub9ac\\ubca0\", \"\\ucfe8 \\ub9ac\\ubca0\", \"\\ucfe8 \\ub9e4\\ud2b8\", \"\\ucfe8 \\ub9e4\\ud2b8\", \"\\ucfe8 \\ub9e4\\ud2b8\", \"\\ucfe8 \\ub9e4\\ud2b8\", \"\\ucfe8 \\ub9e4\\ud2b8\", \"\\ucfe8 \\uc5d0\\uc5b4\", \"\\ucfe8 \\ud328\\ub4dc\", \"\\ucfe8 \\ud328\\ub4dc\", \"\\ucfe8 \\ud328\\ub4dc\", \"\\ucfe8 \\ud328\\ub4dc\", \"\\ucfe8\\ucfe8 \\ubca0\\ub4dc\", \"\\ucfe8\\ucfe8 \\uc0ac\\uc6a9\", \"\\ucfe8\\ucfe8 \\uc62c\\uc778\\uc6d0\", \"\\ud074\\ub9ad \\ubc14\\ub85c\", \"\\ud074\\ub9ad \\ubc14\\ub85c\", \"\\ud0a4\\uc988 \\ubcf8\\uc0ac\", \"\\ud0a4\\uc988 \\uc544\\uae30\", \"\\ud0a4\\uc988 \\uc5c4\\ub9c8\", \"\\ud0b7 \\uacbd\\ucd94\", \"\\ud0d1 \\uc2dc\\ud2b8\", \"\\ud0dc\\uc5f4 \\ubaa8\\ub85c\", \"\\ud0dc\\uc5f4 \\ubca0\\uac1c\", \"\\ud0dc\\uc5f4 \\ubca0\\uac1c\", \"\\ud15c \\uba38\", \"\\ud1a0 \\ud1a0\\ud37c\\ud615\", \"\\ud1a0\\ub07c \\uadc0\\uac00\", \"\\ud1a0\\ub07c \\uadc0\\uac00\", \"\\ud1a0\\ud1a0 \\ubca8\\ubabd\", \"\\ud1a0\\ud1a0 \\ubca8\\ubabd\", \"\\ud1a0\\ud37c\\ud615 \\ub2ec\", \"\\ud1b5 \\uae30\\uc131\", \"\\ud1b5 \\uae30\\uc131\", \"\\ud1b5 \\uae30\\uc131\", \"\\ud1b5 \\uae30\\uc131\", \"\\ud1b5 \\uae30\\uc131\", \"\\ud1b5 \\uae30\\uc131\", \"\\ud1b5\\uc7a0 \\ud32c\\ud2f0\", \"\\ud2b8\\ub7ec\\uc2a4 \\ub0ae\\uc7a0\", \"\\ud2b8\\ub7ec\\uc2a4 \\ub2ec\", \"\\ud2b8\\ub7ec\\uc2a4 \\ub2ec\", \"\\ud2b8\\ub7ec\\uc2a4 \\uc544\\uae30\", \"\\ud2bc\\ud2bc\\ub9d8\\uc2a4 \\uc804\\uc790\\ud30c\", \"\\ud30c\\uc774 \\ud551\", \"\\ud30c\\uc774 \\ud551\", \"\\ud310\\ub9e4 \\uc801\\ub9bd\\uae08\", \"\\ud328\\ub4dc \\ubc29\\uc218\", \"\\ud328\\ub4dc \\ubc29\\uc218\", \"\\ud328\\ub4dc \\ubc29\\uc218\", \"\\ud328\\ub4dc \\ubca0\\uac1c\", \"\\ud328\\ub4dc \\ubca0\\uac1c\", \"\\ud328\\ub4dc \\ubca0\\uac1c\", \"\\ud328\\ub4dc \\uc774\\ubd88\", \"\\ud328\\ub4dc \\uc774\\ubd88\", \"\\ud328\\ub4dc \\ud6c4\\uae30\", \"\\ud32c\\ud2f0 \\uae30\\uc800\\uadc0\", \"\\ud32c\\ud2f0 \\ud338\", \"\\ud338 \\ud37c\\uc2a4\", \"\\ud37c\\uc2a4 \\uacf5\\uc2dd\", \"\\ud37c\\uc2a4 \\uae30\\uc800\\uadc0\", \"\\ud37c\\uc2a4 \\uc5d0\\uc5b4\", \"\\ud37c\\uc2a4 \\uc5ec\\ub984\", \"\\ud37c\\uc2a4 \\ud1b5\\uc7a0\", \"\\ud398\\uc774 \\uad6c\\ub9e4\", \"\\ud398\\uc774 \\uad6c\\ub9e4\", \"\\ud3ec \\ubabd\\ub4dc\", \"\\ud3ec \\ubabd\\ub4dc\", \"\\ud3ec \\uc2dc\\uc98c\", \"\\ud3ec\\ubabd\\ub4dc \\ub5bc\\ucfe8\", \"\\ud3ec\\ubabd\\ub4dc \\uc778\\uacac\", \"\\ud3ec\\ubabd\\ub4dc \\uc778\\uacac\", \"\\ud3ec\\ubabd\\ub4dc \\uc778\\uacac\", \"\\ud488 \\uc544\\uae30\", \"\\ud48d\\uae30 \\uc778\\uacac\", \"\\ud48d\\uae30 \\uc778\\uacac\", \"\\ud504\\ub808 \\uc26c\", \"\\ud53c\\ubd80 \\uc790\\uadf9\", \"\\ud53c\\ubd80 \\uc790\\uadf9\", \"\\ud53c\\ubd80 \\uc790\\uadf9\", \"\\ud53c\\ubd80 \\uc790\\uadf9\", \"\\ud53c\\ubd80 \\uc790\\uadf9\", \"\\ud544 \\ub85c\\uc6b0\", \"\\ud544 \\ub85c\\uc6b0\", \"\\ud544\\uc218 \\uc900\\ube44\\ubb3c\", \"\\ud551\\ud06c \\ud401\", \"\\ud551\\ud06c \\ud401\", \"\\ud558\\uc7a0 \\ubca0\\uac1c\", \"\\ud560\\uba38\\ub2c8 \\ub540\", \"\\ud560\\uc778 \\ub960\", \"\\ud560\\uc778 \\ub960\", \"\\ud578\\ub4dc \\uba54\\uc774\\ub4dc\", \"\\ud578\\ub4dc \\uba54\\uc774\\ub4dc\", \"\\ud578\\ub4dc \\uba54\\uc774\\ub4dc\", \"\\ud587\\ube5b \\uac00\\ub9ac\\uac1c\", \"\\ud587\\ube5b \\uac00\\ub9ac\\uac1c\", \"\\ud587\\ube5b \\uac00\\ub9ac\\uac1c\", \"\\ud5c8\\uadf8 \\uacf0\", \"\\ud5c8\\uadf8 \\uacf0\\ubca0\", \"\\ud5c8\\ub9ac \\ubc34\\ub4dc\", \"\\ud5e4\\ub9c1\\ubcf8 \\ubc29\\uc218\", \"\\ud5ec\\ub85c \\uc0e4\\uc778\", \"\\ud5ec\\ub85c \\uc774\\uc8fc\", \"\\ud611\\ucc2c \\ud6c4\\uae30\", \"\\ud638\\ud154 \\ub4dc\", \"\\ud648 \\uc0ac\\uacc4\\uc808\", \"\\ud654\\uc74c \\ubca0\\ubca0\"]}, \"R\": 30, \"lambda.step\": 0.01, \"plot.opts\": {\"xlab\": \"PC1\", \"ylab\": \"PC2\"}, \"topic.order\": [5, 1, 6, 2, 9, 10, 4, 7, 3, 8]};\n",
       "\n",
       "function LDAvis_load_lib(url, callback){\n",
       "  var s = document.createElement('script');\n",
       "  s.src = url;\n",
       "  s.async = true;\n",
       "  s.onreadystatechange = s.onload = callback;\n",
       "  s.onerror = function(){console.warn(\"failed to load library \" + url);};\n",
       "  document.getElementsByTagName(\"head\")[0].appendChild(s);\n",
       "}\n",
       "\n",
       "if(typeof(LDAvis) !== \"undefined\"){\n",
       "   // already loaded: just create the visualization\n",
       "   !function(LDAvis){\n",
       "       new LDAvis(\"#\" + \"ldavis_el8996971417013604215362838\", ldavis_el8996971417013604215362838_data);\n",
       "   }(LDAvis);\n",
       "}else if(typeof define === \"function\" && define.amd){\n",
       "   // require.js is available: use it to load d3/LDAvis\n",
       "   require.config({paths: {d3: \"https://d3js.org/d3.v5\"}});\n",
       "   require([\"d3\"], function(d3){\n",
       "      window.d3 = d3;\n",
       "      LDAvis_load_lib(\"https://cdn.jsdelivr.net/gh/bmabey/pyLDAvis@3.4.0/pyLDAvis/js/ldavis.v3.0.0.js\", function(){\n",
       "        new LDAvis(\"#\" + \"ldavis_el8996971417013604215362838\", ldavis_el8996971417013604215362838_data);\n",
       "      });\n",
       "    });\n",
       "}else{\n",
       "    // require.js not available: dynamically load d3 & LDAvis\n",
       "    LDAvis_load_lib(\"https://d3js.org/d3.v5.js\", function(){\n",
       "         LDAvis_load_lib(\"https://cdn.jsdelivr.net/gh/bmabey/pyLDAvis@3.4.0/pyLDAvis/js/ldavis.v3.0.0.js\", function(){\n",
       "                 new LDAvis(\"#\" + \"ldavis_el8996971417013604215362838\", ldavis_el8996971417013604215362838_data);\n",
       "            })\n",
       "         });\n",
       "}\n",
       "</script>"
      ],
      "text/plain": [
       "<IPython.core.display.HTML object>"
      ]
     },
     "execution_count": 19,
     "metadata": {},
     "output_type": "execute_result"
    }
   ],
   "source": [
    "data_vis = gensimvis.prepare(ldamodel, corpus, dictionary)\n",
    "# 저장하기\n",
    "pyLDAvis.save_html(data_vis, f'./Actor{my_cluster}_LDAvis.html')\n",
    "pyLDAvis.display(data_vis)"
   ]
  },
  {
   "cell_type": "code",
   "execution_count": 20,
   "metadata": {},
   "outputs": [
    {
     "data": {
      "text/plain": [
       "[(0,\n",
       "  '0.022*\"머 쿨쿨\" + 0.019*\"아기 베개\" + 0.016*\"가드 키즈\" + 0.015*\"모로 반사\" + 0.012*\"키즈 아기\"'),\n",
       " (1,\n",
       "  '0.020*\"팸 퍼스\" + 0.008*\"아기 블랭킷\" + 0.008*\"에어 차차\" + 0.008*\"통잠 팬티\" + 0.007*\"뱀부 코튼\"'),\n",
       " (2,\n",
       "  '0.006*\"헬로 이주\" + 0.005*\"엘림 코리아\" + 0.002*\"낮잠 베개\" + 0.002*\"소닉 슬립\" + 0.002*\"핸드 메이드\"'),\n",
       " (3,\n",
       "  '0.011*\"라스 베개\" + 0.010*\"쁘띠 다나\" + 0.008*\"슬립 스파\" + 0.003*\"꿀잠 토끼\" + 0.002*\"쿨 리베\"'),\n",
       " (4,\n",
       "  '0.066*\"낮잠 이불\" + 0.017*\"어린이집 낮잠\" + 0.010*\"이불 세트\" + 0.005*\"사용 수\" + 0.005*\"아기 낮잠\"'),\n",
       " (5,\n",
       "  '0.026*\"쿨 매트\" + 0.008*\"아기 쿨\" + 0.007*\"여름 이불\" + 0.006*\"밀로 앤\" + 0.006*\"앤 개비\"'),\n",
       " (6,\n",
       "  '0.010*\"마 롤로\" + 0.007*\"방수 패드\" + 0.007*\"허그 곰\" + 0.003*\"아기 방수\" + 0.003*\"쉬즈 홈\"'),\n",
       " (7,\n",
       "  '0.002*\"아가 앤\" + 0.001*\"콤마 낮잠\" + 0.001*\"복 동이\" + 0.001*\"메르 베\" + 0.001*\"메리 봉봉\"'),\n",
       " (8,\n",
       "  '0.044*\"도 노도\" + 0.042*\"노도 노\" + 0.016*\"노 낮잠\" + 0.009*\"낮잠 이불\" + 0.005*\"이불 도\"'),\n",
       " (9,\n",
       "  '0.011*\"아리 베베\" + 0.007*\"유 트러스\" + 0.004*\"차렵 이불\" + 0.002*\"인견 이불\" + 0.002*\"아기 인견\"')]"
      ]
     },
     "metadata": {},
     "output_type": "display_data"
    }
   ],
   "source": [
    "display(ldamodel.print_topics(num_words = 5))"
   ]
  },
  {
   "cell_type": "code",
   "execution_count": 21,
   "metadata": {
    "colab": {
     "base_uri": "https://localhost:8080/",
     "height": 272
    },
    "executionInfo": {
     "elapsed": 44,
     "status": "ok",
     "timestamp": 1746500973437,
     "user": {
      "displayName": "정유라",
      "userId": "07842653199036968776"
     },
     "user_tz": -540
    },
    "id": "OjFlZSjA_0X6",
    "outputId": "a3ec7f9b-b780-4be2-9d15-b69090bc3c12"
   },
   "outputs": [],
   "source": [
    "### 그룹 순서 매핑 해주기 ###\n",
    "\n",
    "action_cluster = []\n",
    "for i in df_cluster['action_cluster'] :\n",
    "    if i == 4:\n",
    "        n = 1\n",
    "    elif i == 0:\n",
    "        n = 2\n",
    "    elif i == 5:\n",
    "        n = 3\n",
    "    elif i == 1:\n",
    "        n = 4\n",
    "    elif i == 8:\n",
    "        n = 5\n",
    "    elif i == 9:\n",
    "        n = 6\n",
    "    elif i == 3:\n",
    "        n = 7\n",
    "    elif i == 6:\n",
    "        n = 8\n",
    "    elif i == 2:\n",
    "        n = 9\n",
    "    else:\n",
    "        n = 10\n",
    "    action_cluster.append(n)\n",
    "\n",
    "df_cluster['action_cluster'] = action_cluster"
   ]
  },
  {
   "cell_type": "code",
   "execution_count": 22,
   "metadata": {
    "colab": {
     "base_uri": "https://localhost:8080/",
     "height": 269
    },
    "executionInfo": {
     "elapsed": 3,
     "status": "ok",
     "timestamp": 1746500980507,
     "user": {
      "displayName": "정유라",
      "userId": "07842653199036968776"
     },
     "user_tz": -540
    },
    "id": "qABrobdO_0bq",
    "outputId": "36aa58a6-5084-4270-840a-b8667c3506d2"
   },
   "outputs": [
    {
     "data": {
      "text/plain": [
       "action_cluster\n",
       "1     4613\n",
       "2      796\n",
       "3      545\n",
       "4      282\n",
       "5      147\n",
       "6      121\n",
       "8       69\n",
       "9       60\n",
       "7       55\n",
       "10      37\n",
       "Name: count, dtype: int64"
      ]
     },
     "execution_count": 22,
     "metadata": {},
     "output_type": "execute_result"
    }
   ],
   "source": [
    "df_cluster['action_cluster'].value_counts()"
   ]
  },
  {
   "cell_type": "markdown",
   "metadata": {
    "id": "33W-0sD1c8mC"
   },
   "source": [
    "### 피클로 저장하기"
   ]
  },
  {
   "cell_type": "code",
   "execution_count": 24,
   "metadata": {},
   "outputs": [],
   "source": [
    "import pickle"
   ]
  },
  {
   "cell_type": "code",
   "execution_count": 25,
   "metadata": {
    "executionInfo": {
     "elapsed": 610,
     "status": "ok",
     "timestamp": 1746500994184,
     "user": {
      "displayName": "정유라",
      "userId": "07842653199036968776"
     },
     "user_tz": -540
    },
    "id": "zhd71q82c8oF"
   },
   "outputs": [],
   "source": [
    "with open(f'./Actor{my_cluster}_action.pkl', 'wb') as f:\n",
    "    pickle.dump(df_cluster, f)"
   ]
  },
  {
   "cell_type": "code",
   "execution_count": null,
   "metadata": {
    "id": "-RmpwE2q_0dp"
   },
   "outputs": [],
   "source": []
  },
  {
   "cell_type": "code",
   "execution_count": null,
   "metadata": {
    "id": "JUeQHjmY-CtZ"
   },
   "outputs": [],
   "source": []
  }
 ],
 "metadata": {
  "accelerator": "GPU",
  "colab": {
   "gpuType": "T4",
   "provenance": []
  },
  "kernelspec": {
   "display_name": "dxschool",
   "language": "python",
   "name": "python3"
  },
  "language_info": {
   "codemirror_mode": {
    "name": "ipython",
    "version": 3
   },
   "file_extension": ".py",
   "mimetype": "text/x-python",
   "name": "python",
   "nbconvert_exporter": "python",
   "pygments_lexer": "ipython3",
   "version": "3.10.16"
  },
  "widgets": {
   "application/vnd.jupyter.widget-state+json": {
    "000e7c1944734ec7a3d15645eb841b7a": {
     "model_module": "@jupyter-widgets/controls",
     "model_module_version": "1.5.0",
     "model_name": "HTMLModel",
     "state": {
      "_dom_classes": [],
      "_model_module": "@jupyter-widgets/controls",
      "_model_module_version": "1.5.0",
      "_model_name": "HTMLModel",
      "_view_count": null,
      "_view_module": "@jupyter-widgets/controls",
      "_view_module_version": "1.5.0",
      "_view_name": "HTMLView",
      "description": "",
      "description_tooltip": null,
      "layout": "IPY_MODEL_7e148ef370a44426a1cd0688ac1486b5",
      "placeholder": "​",
      "style": "IPY_MODEL_b3a5e99a3c504f179edb6c359c52da3e",
      "value": " 14/14 [25:13&lt;00:00, 107.84s/it]"
     }
    },
    "004423da1d9a41208c6474a32da77aae": {
     "model_module": "@jupyter-widgets/controls",
     "model_module_version": "1.5.0",
     "model_name": "HBoxModel",
     "state": {
      "_dom_classes": [],
      "_model_module": "@jupyter-widgets/controls",
      "_model_module_version": "1.5.0",
      "_model_name": "HBoxModel",
      "_view_count": null,
      "_view_module": "@jupyter-widgets/controls",
      "_view_module_version": "1.5.0",
      "_view_name": "HBoxView",
      "box_style": "",
      "children": [
       "IPY_MODEL_a1b9c82f6c224a9d85316c957426e21c",
       "IPY_MODEL_d793022c0165425e939fcd779bdebd2a",
       "IPY_MODEL_000e7c1944734ec7a3d15645eb841b7a"
      ],
      "layout": "IPY_MODEL_256c365511ab406b87acf85a65473edf"
     }
    },
    "05a83d43789a4879a29f77172c514061": {
     "model_module": "@jupyter-widgets/base",
     "model_module_version": "1.2.0",
     "model_name": "LayoutModel",
     "state": {
      "_model_module": "@jupyter-widgets/base",
      "_model_module_version": "1.2.0",
      "_model_name": "LayoutModel",
      "_view_count": null,
      "_view_module": "@jupyter-widgets/base",
      "_view_module_version": "1.2.0",
      "_view_name": "LayoutView",
      "align_content": null,
      "align_items": null,
      "align_self": null,
      "border": null,
      "bottom": null,
      "display": null,
      "flex": null,
      "flex_flow": null,
      "grid_area": null,
      "grid_auto_columns": null,
      "grid_auto_flow": null,
      "grid_auto_rows": null,
      "grid_column": null,
      "grid_gap": null,
      "grid_row": null,
      "grid_template_areas": null,
      "grid_template_columns": null,
      "grid_template_rows": null,
      "height": null,
      "justify_content": null,
      "justify_items": null,
      "left": null,
      "margin": null,
      "max_height": null,
      "max_width": null,
      "min_height": null,
      "min_width": null,
      "object_fit": null,
      "object_position": null,
      "order": null,
      "overflow": null,
      "overflow_x": null,
      "overflow_y": null,
      "padding": null,
      "right": null,
      "top": null,
      "visibility": null,
      "width": null
     }
    },
    "256c365511ab406b87acf85a65473edf": {
     "model_module": "@jupyter-widgets/base",
     "model_module_version": "1.2.0",
     "model_name": "LayoutModel",
     "state": {
      "_model_module": "@jupyter-widgets/base",
      "_model_module_version": "1.2.0",
      "_model_name": "LayoutModel",
      "_view_count": null,
      "_view_module": "@jupyter-widgets/base",
      "_view_module_version": "1.2.0",
      "_view_name": "LayoutView",
      "align_content": null,
      "align_items": null,
      "align_self": null,
      "border": null,
      "bottom": null,
      "display": null,
      "flex": null,
      "flex_flow": null,
      "grid_area": null,
      "grid_auto_columns": null,
      "grid_auto_flow": null,
      "grid_auto_rows": null,
      "grid_column": null,
      "grid_gap": null,
      "grid_row": null,
      "grid_template_areas": null,
      "grid_template_columns": null,
      "grid_template_rows": null,
      "height": null,
      "justify_content": null,
      "justify_items": null,
      "left": null,
      "margin": null,
      "max_height": null,
      "max_width": null,
      "min_height": null,
      "min_width": null,
      "object_fit": null,
      "object_position": null,
      "order": null,
      "overflow": null,
      "overflow_x": null,
      "overflow_y": null,
      "padding": null,
      "right": null,
      "top": null,
      "visibility": null,
      "width": null
     }
    },
    "497e9c597d5647fba626bc58b065ffe5": {
     "model_module": "@jupyter-widgets/controls",
     "model_module_version": "1.5.0",
     "model_name": "HBoxModel",
     "state": {
      "_dom_classes": [],
      "_model_module": "@jupyter-widgets/controls",
      "_model_module_version": "1.5.0",
      "_model_name": "HBoxModel",
      "_view_count": null,
      "_view_module": "@jupyter-widgets/controls",
      "_view_module_version": "1.5.0",
      "_view_name": "HBoxView",
      "box_style": "",
      "children": [
       "IPY_MODEL_c86330cbd93e48f6a14e3a09dad3967d",
       "IPY_MODEL_9bd1b04d9c7145f9becc51d9ce1438b3",
       "IPY_MODEL_8b68bd1d9c5049b3bd63187d2215448c"
      ],
      "layout": "IPY_MODEL_49ebb4979609441ea9c17948bb0d5ba7"
     }
    },
    "49ebb4979609441ea9c17948bb0d5ba7": {
     "model_module": "@jupyter-widgets/base",
     "model_module_version": "1.2.0",
     "model_name": "LayoutModel",
     "state": {
      "_model_module": "@jupyter-widgets/base",
      "_model_module_version": "1.2.0",
      "_model_name": "LayoutModel",
      "_view_count": null,
      "_view_module": "@jupyter-widgets/base",
      "_view_module_version": "1.2.0",
      "_view_name": "LayoutView",
      "align_content": null,
      "align_items": null,
      "align_self": null,
      "border": null,
      "bottom": null,
      "display": null,
      "flex": null,
      "flex_flow": null,
      "grid_area": null,
      "grid_auto_columns": null,
      "grid_auto_flow": null,
      "grid_auto_rows": null,
      "grid_column": null,
      "grid_gap": null,
      "grid_row": null,
      "grid_template_areas": null,
      "grid_template_columns": null,
      "grid_template_rows": null,
      "height": null,
      "justify_content": null,
      "justify_items": null,
      "left": null,
      "margin": null,
      "max_height": null,
      "max_width": null,
      "min_height": null,
      "min_width": null,
      "object_fit": null,
      "object_position": null,
      "order": null,
      "overflow": null,
      "overflow_x": null,
      "overflow_y": null,
      "padding": null,
      "right": null,
      "top": null,
      "visibility": null,
      "width": null
     }
    },
    "4ca017edc5b34cbfb22e3c440e5a42d0": {
     "model_module": "@jupyter-widgets/base",
     "model_module_version": "1.2.0",
     "model_name": "LayoutModel",
     "state": {
      "_model_module": "@jupyter-widgets/base",
      "_model_module_version": "1.2.0",
      "_model_name": "LayoutModel",
      "_view_count": null,
      "_view_module": "@jupyter-widgets/base",
      "_view_module_version": "1.2.0",
      "_view_name": "LayoutView",
      "align_content": null,
      "align_items": null,
      "align_self": null,
      "border": null,
      "bottom": null,
      "display": null,
      "flex": null,
      "flex_flow": null,
      "grid_area": null,
      "grid_auto_columns": null,
      "grid_auto_flow": null,
      "grid_auto_rows": null,
      "grid_column": null,
      "grid_gap": null,
      "grid_row": null,
      "grid_template_areas": null,
      "grid_template_columns": null,
      "grid_template_rows": null,
      "height": null,
      "justify_content": null,
      "justify_items": null,
      "left": null,
      "margin": null,
      "max_height": null,
      "max_width": null,
      "min_height": null,
      "min_width": null,
      "object_fit": null,
      "object_position": null,
      "order": null,
      "overflow": null,
      "overflow_x": null,
      "overflow_y": null,
      "padding": null,
      "right": null,
      "top": null,
      "visibility": null,
      "width": null
     }
    },
    "51dcda1e24b247c59ca10c2b8de8ebda": {
     "model_module": "@jupyter-widgets/controls",
     "model_module_version": "1.5.0",
     "model_name": "ProgressStyleModel",
     "state": {
      "_model_module": "@jupyter-widgets/controls",
      "_model_module_version": "1.5.0",
      "_model_name": "ProgressStyleModel",
      "_view_count": null,
      "_view_module": "@jupyter-widgets/base",
      "_view_module_version": "1.2.0",
      "_view_name": "StyleView",
      "bar_color": null,
      "description_width": ""
     }
    },
    "7e148ef370a44426a1cd0688ac1486b5": {
     "model_module": "@jupyter-widgets/base",
     "model_module_version": "1.2.0",
     "model_name": "LayoutModel",
     "state": {
      "_model_module": "@jupyter-widgets/base",
      "_model_module_version": "1.2.0",
      "_model_name": "LayoutModel",
      "_view_count": null,
      "_view_module": "@jupyter-widgets/base",
      "_view_module_version": "1.2.0",
      "_view_name": "LayoutView",
      "align_content": null,
      "align_items": null,
      "align_self": null,
      "border": null,
      "bottom": null,
      "display": null,
      "flex": null,
      "flex_flow": null,
      "grid_area": null,
      "grid_auto_columns": null,
      "grid_auto_flow": null,
      "grid_auto_rows": null,
      "grid_column": null,
      "grid_gap": null,
      "grid_row": null,
      "grid_template_areas": null,
      "grid_template_columns": null,
      "grid_template_rows": null,
      "height": null,
      "justify_content": null,
      "justify_items": null,
      "left": null,
      "margin": null,
      "max_height": null,
      "max_width": null,
      "min_height": null,
      "min_width": null,
      "object_fit": null,
      "object_position": null,
      "order": null,
      "overflow": null,
      "overflow_x": null,
      "overflow_y": null,
      "padding": null,
      "right": null,
      "top": null,
      "visibility": null,
      "width": null
     }
    },
    "8b68bd1d9c5049b3bd63187d2215448c": {
     "model_module": "@jupyter-widgets/controls",
     "model_module_version": "1.5.0",
     "model_name": "HTMLModel",
     "state": {
      "_dom_classes": [],
      "_model_module": "@jupyter-widgets/controls",
      "_model_module_version": "1.5.0",
      "_model_name": "HTMLModel",
      "_view_count": null,
      "_view_module": "@jupyter-widgets/controls",
      "_view_module_version": "1.5.0",
      "_view_name": "HTMLView",
      "description": "",
      "description_tooltip": null,
      "layout": "IPY_MODEL_8e9a44cb3a7045ae8d22b2e7bdf1231c",
      "placeholder": "​",
      "style": "IPY_MODEL_d2d0f2f19e7d44c6a607142bf1c5146e",
      "value": " 14/14 [24:20&lt;00:00, 102.83s/it]"
     }
    },
    "8e9a44cb3a7045ae8d22b2e7bdf1231c": {
     "model_module": "@jupyter-widgets/base",
     "model_module_version": "1.2.0",
     "model_name": "LayoutModel",
     "state": {
      "_model_module": "@jupyter-widgets/base",
      "_model_module_version": "1.2.0",
      "_model_name": "LayoutModel",
      "_view_count": null,
      "_view_module": "@jupyter-widgets/base",
      "_view_module_version": "1.2.0",
      "_view_name": "LayoutView",
      "align_content": null,
      "align_items": null,
      "align_self": null,
      "border": null,
      "bottom": null,
      "display": null,
      "flex": null,
      "flex_flow": null,
      "grid_area": null,
      "grid_auto_columns": null,
      "grid_auto_flow": null,
      "grid_auto_rows": null,
      "grid_column": null,
      "grid_gap": null,
      "grid_row": null,
      "grid_template_areas": null,
      "grid_template_columns": null,
      "grid_template_rows": null,
      "height": null,
      "justify_content": null,
      "justify_items": null,
      "left": null,
      "margin": null,
      "max_height": null,
      "max_width": null,
      "min_height": null,
      "min_width": null,
      "object_fit": null,
      "object_position": null,
      "order": null,
      "overflow": null,
      "overflow_x": null,
      "overflow_y": null,
      "padding": null,
      "right": null,
      "top": null,
      "visibility": null,
      "width": null
     }
    },
    "9bd1b04d9c7145f9becc51d9ce1438b3": {
     "model_module": "@jupyter-widgets/controls",
     "model_module_version": "1.5.0",
     "model_name": "FloatProgressModel",
     "state": {
      "_dom_classes": [],
      "_model_module": "@jupyter-widgets/controls",
      "_model_module_version": "1.5.0",
      "_model_name": "FloatProgressModel",
      "_view_count": null,
      "_view_module": "@jupyter-widgets/controls",
      "_view_module_version": "1.5.0",
      "_view_name": "ProgressView",
      "bar_style": "success",
      "description": "",
      "description_tooltip": null,
      "layout": "IPY_MODEL_d8fafd83c54141709628f4f2a046169f",
      "max": 14,
      "min": 0,
      "orientation": "horizontal",
      "style": "IPY_MODEL_c6eb16a9a35842318eb46b63c2bfc104",
      "value": 14
     }
    },
    "a1b9c82f6c224a9d85316c957426e21c": {
     "model_module": "@jupyter-widgets/controls",
     "model_module_version": "1.5.0",
     "model_name": "HTMLModel",
     "state": {
      "_dom_classes": [],
      "_model_module": "@jupyter-widgets/controls",
      "_model_module_version": "1.5.0",
      "_model_name": "HTMLModel",
      "_view_count": null,
      "_view_module": "@jupyter-widgets/controls",
      "_view_module_version": "1.5.0",
      "_view_name": "HTMLView",
      "description": "",
      "description_tooltip": null,
      "layout": "IPY_MODEL_d56f07f203c641c38c98a7d97275c1db",
      "placeholder": "​",
      "style": "IPY_MODEL_db43b338d5e74f68b84fcd1e50146f0a",
      "value": "100%"
     }
    },
    "b3a5e99a3c504f179edb6c359c52da3e": {
     "model_module": "@jupyter-widgets/controls",
     "model_module_version": "1.5.0",
     "model_name": "DescriptionStyleModel",
     "state": {
      "_model_module": "@jupyter-widgets/controls",
      "_model_module_version": "1.5.0",
      "_model_name": "DescriptionStyleModel",
      "_view_count": null,
      "_view_module": "@jupyter-widgets/base",
      "_view_module_version": "1.2.0",
      "_view_name": "StyleView",
      "description_width": ""
     }
    },
    "b929fb34681148369b7f6aafa06d83f3": {
     "model_module": "@jupyter-widgets/controls",
     "model_module_version": "1.5.0",
     "model_name": "DescriptionStyleModel",
     "state": {
      "_model_module": "@jupyter-widgets/controls",
      "_model_module_version": "1.5.0",
      "_model_name": "DescriptionStyleModel",
      "_view_count": null,
      "_view_module": "@jupyter-widgets/base",
      "_view_module_version": "1.2.0",
      "_view_name": "StyleView",
      "description_width": ""
     }
    },
    "c6eb16a9a35842318eb46b63c2bfc104": {
     "model_module": "@jupyter-widgets/controls",
     "model_module_version": "1.5.0",
     "model_name": "ProgressStyleModel",
     "state": {
      "_model_module": "@jupyter-widgets/controls",
      "_model_module_version": "1.5.0",
      "_model_name": "ProgressStyleModel",
      "_view_count": null,
      "_view_module": "@jupyter-widgets/base",
      "_view_module_version": "1.2.0",
      "_view_name": "StyleView",
      "bar_color": null,
      "description_width": ""
     }
    },
    "c86330cbd93e48f6a14e3a09dad3967d": {
     "model_module": "@jupyter-widgets/controls",
     "model_module_version": "1.5.0",
     "model_name": "HTMLModel",
     "state": {
      "_dom_classes": [],
      "_model_module": "@jupyter-widgets/controls",
      "_model_module_version": "1.5.0",
      "_model_name": "HTMLModel",
      "_view_count": null,
      "_view_module": "@jupyter-widgets/controls",
      "_view_module_version": "1.5.0",
      "_view_name": "HTMLView",
      "description": "",
      "description_tooltip": null,
      "layout": "IPY_MODEL_05a83d43789a4879a29f77172c514061",
      "placeholder": "​",
      "style": "IPY_MODEL_b929fb34681148369b7f6aafa06d83f3",
      "value": "100%"
     }
    },
    "d2d0f2f19e7d44c6a607142bf1c5146e": {
     "model_module": "@jupyter-widgets/controls",
     "model_module_version": "1.5.0",
     "model_name": "DescriptionStyleModel",
     "state": {
      "_model_module": "@jupyter-widgets/controls",
      "_model_module_version": "1.5.0",
      "_model_name": "DescriptionStyleModel",
      "_view_count": null,
      "_view_module": "@jupyter-widgets/base",
      "_view_module_version": "1.2.0",
      "_view_name": "StyleView",
      "description_width": ""
     }
    },
    "d56f07f203c641c38c98a7d97275c1db": {
     "model_module": "@jupyter-widgets/base",
     "model_module_version": "1.2.0",
     "model_name": "LayoutModel",
     "state": {
      "_model_module": "@jupyter-widgets/base",
      "_model_module_version": "1.2.0",
      "_model_name": "LayoutModel",
      "_view_count": null,
      "_view_module": "@jupyter-widgets/base",
      "_view_module_version": "1.2.0",
      "_view_name": "LayoutView",
      "align_content": null,
      "align_items": null,
      "align_self": null,
      "border": null,
      "bottom": null,
      "display": null,
      "flex": null,
      "flex_flow": null,
      "grid_area": null,
      "grid_auto_columns": null,
      "grid_auto_flow": null,
      "grid_auto_rows": null,
      "grid_column": null,
      "grid_gap": null,
      "grid_row": null,
      "grid_template_areas": null,
      "grid_template_columns": null,
      "grid_template_rows": null,
      "height": null,
      "justify_content": null,
      "justify_items": null,
      "left": null,
      "margin": null,
      "max_height": null,
      "max_width": null,
      "min_height": null,
      "min_width": null,
      "object_fit": null,
      "object_position": null,
      "order": null,
      "overflow": null,
      "overflow_x": null,
      "overflow_y": null,
      "padding": null,
      "right": null,
      "top": null,
      "visibility": null,
      "width": null
     }
    },
    "d793022c0165425e939fcd779bdebd2a": {
     "model_module": "@jupyter-widgets/controls",
     "model_module_version": "1.5.0",
     "model_name": "FloatProgressModel",
     "state": {
      "_dom_classes": [],
      "_model_module": "@jupyter-widgets/controls",
      "_model_module_version": "1.5.0",
      "_model_name": "FloatProgressModel",
      "_view_count": null,
      "_view_module": "@jupyter-widgets/controls",
      "_view_module_version": "1.5.0",
      "_view_name": "ProgressView",
      "bar_style": "success",
      "description": "",
      "description_tooltip": null,
      "layout": "IPY_MODEL_4ca017edc5b34cbfb22e3c440e5a42d0",
      "max": 14,
      "min": 0,
      "orientation": "horizontal",
      "style": "IPY_MODEL_51dcda1e24b247c59ca10c2b8de8ebda",
      "value": 14
     }
    },
    "d8fafd83c54141709628f4f2a046169f": {
     "model_module": "@jupyter-widgets/base",
     "model_module_version": "1.2.0",
     "model_name": "LayoutModel",
     "state": {
      "_model_module": "@jupyter-widgets/base",
      "_model_module_version": "1.2.0",
      "_model_name": "LayoutModel",
      "_view_count": null,
      "_view_module": "@jupyter-widgets/base",
      "_view_module_version": "1.2.0",
      "_view_name": "LayoutView",
      "align_content": null,
      "align_items": null,
      "align_self": null,
      "border": null,
      "bottom": null,
      "display": null,
      "flex": null,
      "flex_flow": null,
      "grid_area": null,
      "grid_auto_columns": null,
      "grid_auto_flow": null,
      "grid_auto_rows": null,
      "grid_column": null,
      "grid_gap": null,
      "grid_row": null,
      "grid_template_areas": null,
      "grid_template_columns": null,
      "grid_template_rows": null,
      "height": null,
      "justify_content": null,
      "justify_items": null,
      "left": null,
      "margin": null,
      "max_height": null,
      "max_width": null,
      "min_height": null,
      "min_width": null,
      "object_fit": null,
      "object_position": null,
      "order": null,
      "overflow": null,
      "overflow_x": null,
      "overflow_y": null,
      "padding": null,
      "right": null,
      "top": null,
      "visibility": null,
      "width": null
     }
    },
    "db43b338d5e74f68b84fcd1e50146f0a": {
     "model_module": "@jupyter-widgets/controls",
     "model_module_version": "1.5.0",
     "model_name": "DescriptionStyleModel",
     "state": {
      "_model_module": "@jupyter-widgets/controls",
      "_model_module_version": "1.5.0",
      "_model_name": "DescriptionStyleModel",
      "_view_count": null,
      "_view_module": "@jupyter-widgets/base",
      "_view_module_version": "1.2.0",
      "_view_name": "StyleView",
      "description_width": ""
     }
    }
   }
  }
 },
 "nbformat": 4,
 "nbformat_minor": 0
}
