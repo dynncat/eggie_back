{
 "cells": [
  {
   "cell_type": "code",
   "execution_count": 1,
   "id": "e82cfb64",
   "metadata": {},
   "outputs": [],
   "source": [
    "import base64\n",
    "import requests\n",
    "from flask import Flask, request, jsonify"
   ]
  },
  {
   "cell_type": "code",
   "execution_count": 2,
   "id": "de93d890",
   "metadata": {},
   "outputs": [],
   "source": [
    "import time"
   ]
  },
  {
   "cell_type": "code",
   "execution_count": 3,
   "id": "cb431315",
   "metadata": {},
   "outputs": [],
   "source": [
    "from inference_sdk import InferenceHTTPClient"
   ]
  },
  {
   "cell_type": "code",
   "execution_count": 8,
   "id": "8eb32a1f",
   "metadata": {},
   "outputs": [
    {
     "ename": "ModuleNotFoundError",
     "evalue": "No module named 'roboflow'",
     "output_type": "error",
     "traceback": [
      "\u001b[0;31m---------------------------------------------------------------------------\u001b[0m",
      "\u001b[0;31mModuleNotFoundError\u001b[0m                       Traceback (most recent call last)",
      "Cell \u001b[0;32mIn[8], line 1\u001b[0m\n\u001b[0;32m----> 1\u001b[0m \u001b[38;5;28;01mfrom\u001b[39;00m\u001b[38;5;250m \u001b[39m\u001b[38;5;21;01mroboflow\u001b[39;00m\u001b[38;5;250m \u001b[39m\u001b[38;5;28;01mimport\u001b[39;00m Roboflow\n",
      "\u001b[0;31mModuleNotFoundError\u001b[0m: No module named 'roboflow'"
     ]
    }
   ],
   "source": [
    "from roboflow import Roboflow"
   ]
  },
  {
   "cell_type": "code",
   "execution_count": 9,
   "id": "1c8524d4",
   "metadata": {},
   "outputs": [],
   "source": [
    "# client = InferenceHTTPClient(\n",
    "#     api_url=\"https://serverless.roboflow.com\",\n",
    "#     api_key=\"0SVtYcQgKvh2rLWigl3a\"\n",
    "# )"
   ]
  },
  {
   "cell_type": "code",
   "execution_count": 14,
   "id": "3d27b516",
   "metadata": {},
   "outputs": [],
   "source": [
    "client = InferenceHTTPClient(\n",
    "    api_url=\"https://detect.roboflow.com\",\n",
    "    api_key=\"0SVtYcQgKvh2rLWigl3a\"\n",
    ")"
   ]
  },
  {
   "cell_type": "code",
   "execution_count": 31,
   "id": "39f5f851",
   "metadata": {},
   "outputs": [],
   "source": [
    "result = client.run_workflow(\n",
    "    workspace_name=\"eggie-bky5s\",\n",
    "    workflow_id=\"custom-workflow\",\n",
    "    images={\n",
    "        \"image\": \"./image3.png\"\n",
    "    },\n",
    "    use_cache=True # cache workflow definition for 15 minutes\n",
    ")"
   ]
  },
  {
   "cell_type": "code",
   "execution_count": 32,
   "id": "f87c49a2",
   "metadata": {},
   "outputs": [
    {
     "name": "stdout",
     "output_type": "stream",
     "text": [
      "[{'predictions': {'image': {'width': 892, 'height': 578}, 'predictions': [{'width': 271.0, 'height': 205.0, 'x': 315.5, 'y': 160.5, 'confidence': 0.6816831827163696, 'class_id': 0, 'class': 'sleep', 'detection_id': '9926618b-02b0-4231-a4e7-e69c6e9a5873', 'parent_id': 'image'}]}}]\n"
     ]
    }
   ],
   "source": [
    "print(result)"
   ]
  },
  {
   "cell_type": "code",
   "execution_count": null,
   "id": "4f040397",
   "metadata": {},
   "outputs": [],
   "source": [
    "# from inference_sdk import InferenceHTTPClient\n",
    "\n",
    "client = InferenceHTTPClient(\n",
    "    api_url=\"https://serverless.roboflow.com\",\n",
    "    api_key=\"0SVtYcQgKvh2rLWigl3a\"\n",
    ")\n",
    "\n",
    "result = client.run_workflow(\n",
    "    workspace_name=\"eggie-bky5s\",\n",
    "    workflow_id=\"custom-workflow\",\n",
    "    images={\n",
    "        \"image\": \"./image8.jpeg\"\n",
    "    },\n",
    "    use_cache=True # cache workflow definition for 15 minutes\n",
    ")"
   ]
  },
  {
   "cell_type": "code",
   "execution_count": 18,
   "id": "9812fac7",
   "metadata": {},
   "outputs": [
    {
     "name": "stdout",
     "output_type": "stream",
     "text": [
      "[{'predictions': {'image': {'width': None, 'height': None}, 'predictions': []}}]\n"
     ]
    }
   ],
   "source": [
    "print(result)"
   ]
  },
  {
   "cell_type": "code",
   "execution_count": 10,
   "id": "04fb63a9",
   "metadata": {},
   "outputs": [
    {
     "ename": "NameError",
     "evalue": "name 'Roboflow' is not defined",
     "output_type": "error",
     "traceback": [
      "\u001b[0;31m---------------------------------------------------------------------------\u001b[0m",
      "\u001b[0;31mNameError\u001b[0m                                 Traceback (most recent call last)",
      "Cell \u001b[0;32mIn[10], line 1\u001b[0m\n\u001b[0;32m----> 1\u001b[0m rf \u001b[38;5;241m=\u001b[39m \u001b[43mRoboflow\u001b[49m(api_key\u001b[38;5;241m=\u001b[39m\u001b[38;5;124m\"\u001b[39m\u001b[38;5;124m0SVtYcQgKvh2rLWigl3a\u001b[39m\u001b[38;5;124m\"\u001b[39m)\n\u001b[1;32m      2\u001b[0m project \u001b[38;5;241m=\u001b[39m rf\u001b[38;5;241m.\u001b[39mworkspace()\u001b[38;5;241m.\u001b[39mproject(\u001b[38;5;124m\"\u001b[39m\u001b[38;5;124mshanyii-lvuva\u001b[39m\u001b[38;5;124m\"\u001b[39m)\n\u001b[1;32m      3\u001b[0m model \u001b[38;5;241m=\u001b[39m project\u001b[38;5;241m.\u001b[39mversion(\u001b[38;5;124m\"\u001b[39m\u001b[38;5;124m1\u001b[39m\u001b[38;5;124m\"\u001b[39m)\u001b[38;5;241m.\u001b[39mmodel\n",
      "\u001b[0;31mNameError\u001b[0m: name 'Roboflow' is not defined"
     ]
    }
   ],
   "source": [
    "rf = Roboflow(api_key=\"0SVtYcQgKvh2rLWigl3a\")\n",
    "project = rf.workspace().project(\"shanyii-lvuva\")\n",
    "model = project.version(\"1\").model\n",
    "\n",
    "job_id, signed_url, expire_time = model.predict_video(\n",
    "    \"YOUR_VIDEO.mp4\",\n",
    "    fps=5,\n",
    "    prediction_type=\"batch-video\",\n",
    ")\n",
    "\n",
    "results = model.poll_until_video_results(job_id)\n",
    "\n",
    "print(results)"
   ]
  },
  {
   "cell_type": "code",
   "execution_count": null,
   "id": "78748e41",
   "metadata": {},
   "outputs": [],
   "source": []
  }
 ],
 "metadata": {
  "kernelspec": {
   "display_name": "Python 3",
   "language": "python",
   "name": "python3"
  },
  "language_info": {
   "codemirror_mode": {
    "name": "ipython",
    "version": 3
   },
   "file_extension": ".py",
   "mimetype": "text/x-python",
   "name": "python",
   "nbconvert_exporter": "python",
   "pygments_lexer": "ipython3",
   "version": "3.10.16"
  }
 },
 "nbformat": 4,
 "nbformat_minor": 5
}
